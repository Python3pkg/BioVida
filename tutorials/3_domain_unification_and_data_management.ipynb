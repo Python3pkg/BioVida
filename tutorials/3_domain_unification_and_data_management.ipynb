{
 "cells": [
  {
   "cell_type": "markdown",
   "metadata": {},
   "source": [
    "BioVida: Domain Unification and Data Management\n",
    "=========================\n",
    "---"
   ]
  },
  {
   "cell_type": "markdown",
   "metadata": {},
   "source": [
    "This tutorial will cover the facilities BioVida offers to:\n",
    "\n",
    "* integrate images data against other kinds of biomedical data\n",
    "\n",
    "* manage cached resources."
   ]
  },
  {
   "cell_type": "markdown",
   "metadata": {},
   "source": [
    "---\n",
    "## Domain  Unification"
   ]
  },
  {
   "cell_type": "markdown",
   "metadata": {},
   "source": [
    "While primarily focused on image data, BioVida also contains interfaces to allow you to easily gain access to other biomedical data types. Namely, medical diagnostics and genomics data. This section will show how one, or several, image interfaces can be unified into a single DataFrame, complete with data from these additional sources."
   ]
  },
  {
   "cell_type": "markdown",
   "metadata": {},
   "source": [
    "We can start by collecting some data."
   ]
  },
  {
   "cell_type": "code",
   "execution_count": 1,
   "metadata": {},
   "outputs": [
    {
     "name": "stderr",
     "output_type": "stream",
     "text": [
      "Using Theano backend.\n"
     ]
    },
    {
     "name": "stdout",
     "output_type": "stream",
     "text": [
      "\n",
      "Results Found: 33,925.\n",
      "\n",
      "Number of Records to Download: 100 (chunk size: 30 records).\n"
     ]
    },
    {
     "data": {
      "application/vnd.jupyter.widget-view+json": {
       "model_id": "322a12603c4c43d5aa247e77a231264a"
      }
     },
     "metadata": {},
     "output_type": "display_data"
    },
    {
     "name": "stdout",
     "output_type": "stream",
     "text": [
      "\n"
     ]
    },
    {
     "data": {
      "application/vnd.jupyter.widget-view+json": {
       "model_id": "1820854a035e48cf97b7b46dd70fba66"
      }
     },
     "metadata": {},
     "output_type": "display_data"
    },
    {
     "name": "stdout",
     "output_type": "stream",
     "text": [
      "\n"
     ]
    },
    {
     "data": {
      "application/vnd.jupyter.widget-view+json": {
       "model_id": "1f69e83a7f4547ed85d90b089c5716fc"
      }
     },
     "metadata": {},
     "output_type": "display_data"
    },
    {
     "name": "stdout",
     "output_type": "stream",
     "text": [
      "\n"
     ]
    }
   ],
   "source": [
    "from biovida.images import OpeniInterface\n",
    "opi = OpeniInterface()\n",
    "opi.search(query='lung cancer')\n",
    "pull_df1 = opi.pull()"
   ]
  },
  {
   "cell_type": "markdown",
   "metadata": {},
   "source": [
    "Let's also get some data from the Cancer Imaging Archive."
   ]
  },
  {
   "cell_type": "code",
   "execution_count": 2,
   "metadata": {},
   "outputs": [
    {
     "data": {
      "application/vnd.jupyter.widget-view+json": {
       "model_id": "53ddd13c6d3641fba2abad290a5c2db2"
      }
     },
     "metadata": {},
     "output_type": "display_data"
    },
    {
     "name": "stdout",
     "output_type": "stream",
     "text": [
      "\n"
     ]
    },
    {
     "data": {
      "application/vnd.jupyter.widget-view+json": {
       "model_id": "ecb63398f61f4ceababb5f10162aa20f"
      }
     },
     "metadata": {},
     "output_type": "display_data"
    },
    {
     "name": "stdout",
     "output_type": "stream",
     "text": [
      "\n"
     ]
    }
   ],
   "source": [
    "from biovida.images import CancerImageInterface\n",
    "cii = CancerImageInterface(api_key=YOUR_API_KEY_HERE)\n",
    "cii.search(cancer_type='lung')\n",
    "pull_df2 = cii.pull(collections_limit=1)  # only download the first collection/study"
   ]
  },
  {
   "cell_type": "markdown",
   "metadata": {},
   "source": [
    "Next, we can import the tool we will be using to unify the data"
   ]
  },
  {
   "cell_type": "code",
   "execution_count": 3,
   "metadata": {
    "collapsed": true
   },
   "outputs": [],
   "source": [
    "from biovida.unification import unify_against_images"
   ]
  },
  {
   "cell_type": "code",
   "execution_count": 4,
   "metadata": {},
   "outputs": [
    {
     "data": {
      "application/vnd.jupyter.widget-view+json": {
       "model_id": "6b62ce4e8d6e4adcab22d342434d957e"
      }
     },
     "metadata": {},
     "output_type": "display_data"
    },
    {
     "name": "stdout",
     "output_type": "stream",
     "text": [
      "\n"
     ]
    },
    {
     "data": {
      "application/vnd.jupyter.widget-view+json": {
       "model_id": "437495ae0886422faac9055bacaa8a98"
      }
     },
     "metadata": {},
     "output_type": "display_data"
    },
    {
     "name": "stdout",
     "output_type": "stream",
     "text": [
      "\n"
     ]
    },
    {
     "data": {
      "application/vnd.jupyter.widget-view+json": {
       "model_id": "df648a0f7687485d8ee5c723e8f8c98f"
      }
     },
     "metadata": {},
     "output_type": "display_data"
    },
    {
     "name": "stdout",
     "output_type": "stream",
     "text": [
      "\n"
     ]
    },
    {
     "data": {
      "application/vnd.jupyter.widget-view+json": {
       "model_id": "e675d99f4713442688ad62fd4ece52d1"
      }
     },
     "metadata": {},
     "output_type": "display_data"
    },
    {
     "name": "stdout",
     "output_type": "stream",
     "text": [
      "\n"
     ]
    }
   ],
   "source": [
    "unified_df = unify_against_images(instances=[opi, cii])"
   ]
  },
  {
   "cell_type": "code",
   "execution_count": 5,
   "metadata": {
    "collapsed": true
   },
   "outputs": [],
   "source": [
    "import numpy as np\n",
    "def simplify_df(df):\n",
    "    \"\"\"This function simplifies dataframes\n",
    "    for the purposes of this tutorial.\"\"\"\n",
    "    data_frame = df.copy()\n",
    "    for c in ('source_images_path', 'cached_images_path'):\n",
    "        data_frame[c] = 'path_to_image'\n",
    "    return data_frame.replace({np.NaN: ''})"
   ]
  },
  {
   "cell_type": "markdown",
   "metadata": {},
   "source": [
    "To close out this section, we can take a quick look at the resultant DataFrame."
   ]
  },
  {
   "cell_type": "code",
   "execution_count": 6,
   "metadata": {},
   "outputs": [
    {
     "data": {
      "text/html": [
       "<div>\n",
       "<table border=\"1\" class=\"dataframe\">\n",
       "  <thead>\n",
       "    <tr style=\"text-align: right;\">\n",
       "      <th></th>\n",
       "      <th>age</th>\n",
       "      <th>article_type</th>\n",
       "      <th>cached_images_path</th>\n",
       "      <th>disease</th>\n",
       "      <th>image_caption</th>\n",
       "      <th>image_id</th>\n",
       "      <th>image_id_short</th>\n",
       "      <th>modality_best_guess</th>\n",
       "      <th>pull_time</th>\n",
       "      <th>query</th>\n",
       "      <th>sex</th>\n",
       "      <th>source_api</th>\n",
       "      <th>source_images_path</th>\n",
       "      <th>disease_family</th>\n",
       "      <th>disease_synonym</th>\n",
       "      <th>disease_definition</th>\n",
       "      <th>known_associated_symptoms</th>\n",
       "      <th>mentioned_symptoms</th>\n",
       "      <th>known_associated_genes</th>\n",
       "    </tr>\n",
       "  </thead>\n",
       "  <tbody>\n",
       "    <tr>\n",
       "      <th>85</th>\n",
       "      <td></td>\n",
       "      <td>research_article</td>\n",
       "      <td>path_to_image</td>\n",
       "      <td>lung cancer</td>\n",
       "      <td>(a) Heat Map representing the activated signal...</td>\n",
       "      <td></td>\n",
       "      <td>6</td>\n",
       "      <td>Computed Tomography (CT): chest</td>\n",
       "      <td>2017-04-10 06:50:26.175164</td>\n",
       "      <td>{'specialties': None, 'exclusions': ['graphics...</td>\n",
       "      <td>male</td>\n",
       "      <td>openi</td>\n",
       "      <td>path_to_image</td>\n",
       "      <td>(respiratory system cancer,)</td>\n",
       "      <td>(lung neoplasm,)</td>\n",
       "      <td>A respiratory system cancer that is located in...</td>\n",
       "      <td>(abdominal obesity, abdominal pain, abnormal r...</td>\n",
       "      <td></td>\n",
       "      <td></td>\n",
       "    </tr>\n",
       "    <tr>\n",
       "      <th>86</th>\n",
       "      <td></td>\n",
       "      <td>research_article</td>\n",
       "      <td>path_to_image</td>\n",
       "      <td>lung cancer</td>\n",
       "      <td>Efficacy of LQ on tumor volume, tumor weight (...</td>\n",
       "      <td></td>\n",
       "      <td>4</td>\n",
       "      <td>Computed Tomography (CT): chest</td>\n",
       "      <td>2017-04-10 06:50:26.175164</td>\n",
       "      <td>{'specialties': None, 'exclusions': ['graphics...</td>\n",
       "      <td>male</td>\n",
       "      <td>openi</td>\n",
       "      <td>path_to_image</td>\n",
       "      <td>(respiratory system cancer,)</td>\n",
       "      <td>(lung neoplasm,)</td>\n",
       "      <td>A respiratory system cancer that is located in...</td>\n",
       "      <td>(abdominal obesity, abdominal pain, abnormal r...</td>\n",
       "      <td>(weight loss,)</td>\n",
       "      <td></td>\n",
       "    </tr>\n",
       "    <tr>\n",
       "      <th>87</th>\n",
       "      <td></td>\n",
       "      <td>research_article</td>\n",
       "      <td>path_to_image</td>\n",
       "      <td>lung cancer</td>\n",
       "      <td>Survivin-VISA vector selectively expressed luc...</td>\n",
       "      <td></td>\n",
       "      <td>2</td>\n",
       "      <td>Computed Tomography (CT): chest</td>\n",
       "      <td>2017-04-10 06:50:26.175164</td>\n",
       "      <td>{'specialties': None, 'exclusions': ['graphics...</td>\n",
       "      <td>male</td>\n",
       "      <td>openi</td>\n",
       "      <td>path_to_image</td>\n",
       "      <td>(respiratory system cancer,)</td>\n",
       "      <td>(lung neoplasm,)</td>\n",
       "      <td>A respiratory system cancer that is located in...</td>\n",
       "      <td>(abdominal obesity, abdominal pain, abnormal r...</td>\n",
       "      <td></td>\n",
       "      <td></td>\n",
       "    </tr>\n",
       "    <tr>\n",
       "      <th>88</th>\n",
       "      <td></td>\n",
       "      <td>research_article</td>\n",
       "      <td>path_to_image</td>\n",
       "      <td>lung cancer; ptosis</td>\n",
       "      <td>Methylation status of SOX30 in lung cancer cel...</td>\n",
       "      <td></td>\n",
       "      <td>1</td>\n",
       "      <td>Computed Tomography (CT): chest</td>\n",
       "      <td>2017-04-10 06:50:26.175164</td>\n",
       "      <td>{'specialties': None, 'exclusions': ['graphics...</td>\n",
       "      <td>male</td>\n",
       "      <td>openi</td>\n",
       "      <td>path_to_image</td>\n",
       "      <td></td>\n",
       "      <td></td>\n",
       "      <td></td>\n",
       "      <td></td>\n",
       "      <td></td>\n",
       "      <td></td>\n",
       "    </tr>\n",
       "    <tr>\n",
       "      <th>89</th>\n",
       "      <td></td>\n",
       "      <td>research_article</td>\n",
       "      <td>path_to_image</td>\n",
       "      <td>large cell carcinoma; lung adenocarcinoma; lun...</td>\n",
       "      <td>CD56+CD16+ NK cell infiltration extent in diff...</td>\n",
       "      <td></td>\n",
       "      <td>2</td>\n",
       "      <td>Computed Tomography (CT): chest</td>\n",
       "      <td>2017-04-10 06:50:26.175164</td>\n",
       "      <td>{'specialties': None, 'exclusions': ['graphics...</td>\n",
       "      <td>male</td>\n",
       "      <td>openi</td>\n",
       "      <td>path_to_image</td>\n",
       "      <td></td>\n",
       "      <td></td>\n",
       "      <td></td>\n",
       "      <td></td>\n",
       "      <td></td>\n",
       "      <td></td>\n",
       "    </tr>\n",
       "  </tbody>\n",
       "</table>\n",
       "</div>"
      ],
      "text/plain": [
       "   age      article_type cached_images_path  \\\n",
       "85      research_article      path_to_image   \n",
       "86      research_article      path_to_image   \n",
       "87      research_article      path_to_image   \n",
       "88      research_article      path_to_image   \n",
       "89      research_article      path_to_image   \n",
       "\n",
       "                                              disease  \\\n",
       "85                                        lung cancer   \n",
       "86                                        lung cancer   \n",
       "87                                        lung cancer   \n",
       "88                                lung cancer; ptosis   \n",
       "89  large cell carcinoma; lung adenocarcinoma; lun...   \n",
       "\n",
       "                                        image_caption image_id image_id_short  \\\n",
       "85  (a) Heat Map representing the activated signal...                       6   \n",
       "86  Efficacy of LQ on tumor volume, tumor weight (...                       4   \n",
       "87  Survivin-VISA vector selectively expressed luc...                       2   \n",
       "88  Methylation status of SOX30 in lung cancer cel...                       1   \n",
       "89  CD56+CD16+ NK cell infiltration extent in diff...                       2   \n",
       "\n",
       "                modality_best_guess                  pull_time  \\\n",
       "85  Computed Tomography (CT): chest 2017-04-10 06:50:26.175164   \n",
       "86  Computed Tomography (CT): chest 2017-04-10 06:50:26.175164   \n",
       "87  Computed Tomography (CT): chest 2017-04-10 06:50:26.175164   \n",
       "88  Computed Tomography (CT): chest 2017-04-10 06:50:26.175164   \n",
       "89  Computed Tomography (CT): chest 2017-04-10 06:50:26.175164   \n",
       "\n",
       "                                                query   sex source_api  \\\n",
       "85  {'specialties': None, 'exclusions': ['graphics...  male      openi   \n",
       "86  {'specialties': None, 'exclusions': ['graphics...  male      openi   \n",
       "87  {'specialties': None, 'exclusions': ['graphics...  male      openi   \n",
       "88  {'specialties': None, 'exclusions': ['graphics...  male      openi   \n",
       "89  {'specialties': None, 'exclusions': ['graphics...  male      openi   \n",
       "\n",
       "   source_images_path                disease_family   disease_synonym  \\\n",
       "85      path_to_image  (respiratory system cancer,)  (lung neoplasm,)   \n",
       "86      path_to_image  (respiratory system cancer,)  (lung neoplasm,)   \n",
       "87      path_to_image  (respiratory system cancer,)  (lung neoplasm,)   \n",
       "88      path_to_image                                                   \n",
       "89      path_to_image                                                   \n",
       "\n",
       "                                   disease_definition  \\\n",
       "85  A respiratory system cancer that is located in...   \n",
       "86  A respiratory system cancer that is located in...   \n",
       "87  A respiratory system cancer that is located in...   \n",
       "88                                                      \n",
       "89                                                      \n",
       "\n",
       "                            known_associated_symptoms mentioned_symptoms  \\\n",
       "85  (abdominal obesity, abdominal pain, abnormal r...                      \n",
       "86  (abdominal obesity, abdominal pain, abnormal r...     (weight loss,)   \n",
       "87  (abdominal obesity, abdominal pain, abnormal r...                      \n",
       "88                                                                         \n",
       "89                                                                         \n",
       "\n",
       "   known_associated_genes  \n",
       "85                         \n",
       "86                         \n",
       "87                         \n",
       "88                         \n",
       "89                         "
      ]
     },
     "execution_count": 6,
     "metadata": {},
     "output_type": "execute_result"
    }
   ],
   "source": [
    "simplify_df(unified_df)[85:90]"
   ]
  },
  {
   "cell_type": "markdown",
   "metadata": {},
   "source": [
    "Note: the ``'mentioned_symptoms'`` column provides a list of symptoms known to be associated with the disease which were mentioned in the article."
   ]
  },
  {
   "cell_type": "markdown",
   "metadata": {},
   "source": [
    "---\n",
    "## Data Management"
   ]
  },
  {
   "cell_type": "markdown",
   "metadata": {},
   "source": [
    "This section is intended to provide a brief overview of the ways in which data downloaded with BioVida can be removed from your computer. "
   ]
  },
  {
   "cell_type": "markdown",
   "metadata": {},
   "source": [
    "**1.** The simplest way to delete BioVida data is to manually delete the ``biovida_cache`` folder, or some portion of files (e.g., images) contained within in. Both ``OpeniInterfaces`` and ``CancerImageInterface`` check for deleted files each time they are instantiated. <br>"
   ]
  },
  {
   "cell_type": "markdown",
   "metadata": {},
   "source": [
    "**2.** While the first approach is straightforward, it is neither elegant nor precise. For situations that require more finesse, we can employ the ``image_delete`` tool."
   ]
  },
  {
   "cell_type": "code",
   "execution_count": 7,
   "metadata": {
    "collapsed": true
   },
   "outputs": [],
   "source": [
    "from biovida.images import image_delete"
   ]
  },
  {
   "cell_type": "markdown",
   "metadata": {},
   "source": [
    "Next, we simply define a which will inform ``image_delete`` of which rows to delete."
   ]
  },
  {
   "cell_type": "code",
   "execution_count": 8,
   "metadata": {
    "collapsed": true
   },
   "outputs": [],
   "source": [
    "def my_delete_rule(row):\n",
    "    if isinstance(row['abstract'], str) and 'proteins' in row['abstract'].lower():\n",
    "        return True"
   ]
  },
  {
   "cell_type": "markdown",
   "metadata": {},
   "source": [
    "In this example, we'll use the instance of ``OpeniInterface`` created above."
   ]
  },
  {
   "cell_type": "code",
   "execution_count": 9,
   "metadata": {},
   "outputs": [
    {
     "name": "stdout",
     "output_type": "stream",
     "text": [
      "This action cannot be undone.\n",
      "Do you wish to continue (y/n)?y\n",
      "\n",
      "Deleting...\n",
      "\n",
      "Indices of Deleted Rows:\n",
      "\n"
     ]
    },
    {
     "data": {
      "text/html": [
       "<div>\n",
       "<table border=\"1\" class=\"dataframe\">\n",
       "  <thead>\n",
       "    <tr style=\"text-align: right;\">\n",
       "      <th></th>\n",
       "      <th>records_db</th>\n",
       "      <th>cache_records_db</th>\n",
       "    </tr>\n",
       "  </thead>\n",
       "  <tbody>\n",
       "    <tr>\n",
       "      <th>0</th>\n",
       "      <td>88</td>\n",
       "      <td>9047</td>\n",
       "    </tr>\n",
       "    <tr>\n",
       "      <th>1</th>\n",
       "      <td>89</td>\n",
       "      <td>9048</td>\n",
       "    </tr>\n",
       "    <tr>\n",
       "      <th>2</th>\n",
       "      <td>90</td>\n",
       "      <td>9049</td>\n",
       "    </tr>\n",
       "    <tr>\n",
       "      <th>3</th>\n",
       "      <td>91</td>\n",
       "      <td>9050</td>\n",
       "    </tr>\n",
       "    <tr>\n",
       "      <th>4</th>\n",
       "      <td>92</td>\n",
       "      <td>9051</td>\n",
       "    </tr>\n",
       "    <tr>\n",
       "      <th>5</th>\n",
       "      <td>93</td>\n",
       "      <td>9052</td>\n",
       "    </tr>\n",
       "    <tr>\n",
       "      <th>6</th>\n",
       "      <td>94</td>\n",
       "      <td>9053</td>\n",
       "    </tr>\n",
       "    <tr>\n",
       "      <th>7</th>\n",
       "      <td>95</td>\n",
       "      <td>9054</td>\n",
       "    </tr>\n",
       "    <tr>\n",
       "      <th>8</th>\n",
       "      <td>96</td>\n",
       "      <td>9055</td>\n",
       "    </tr>\n",
       "    <tr>\n",
       "      <th>9</th>\n",
       "      <td>97</td>\n",
       "      <td>9056</td>\n",
       "    </tr>\n",
       "    <tr>\n",
       "      <th>10</th>\n",
       "      <td>98</td>\n",
       "      <td>9057</td>\n",
       "    </tr>\n",
       "    <tr>\n",
       "      <th>11</th>\n",
       "      <td>99</td>\n",
       "      <td>9058</td>\n",
       "    </tr>\n",
       "  </tbody>\n",
       "</table>\n",
       "</div>"
      ],
      "text/plain": [
       "    records_db  cache_records_db\n",
       "0           88              9047\n",
       "1           89              9048\n",
       "2           90              9049\n",
       "3           91              9050\n",
       "4           92              9051\n",
       "5           93              9052\n",
       "6           94              9053\n",
       "7           95              9054\n",
       "8           96              9055\n",
       "9           97              9056\n",
       "10          98              9057\n",
       "11          99              9058"
      ]
     },
     "metadata": {},
     "output_type": "display_data"
    }
   ],
   "source": [
    "deleted_rows = image_delete(opi, delete_rule=my_delete_rule, only_recent=True)"
   ]
  },
  {
   "cell_type": "markdown",
   "metadata": {},
   "source": [
    "This will not only delete the row, but *any* images associated with it. Therefore, as a precaution, you will be asked to confirm this action before it is performed."
   ]
  },
  {
   "cell_type": "markdown",
   "metadata": {},
   "source": [
    "**Warning**: <br>\n",
    "\n",
    "The default behavior of ``image_delete`` is to delete *any* rows for which your 'delete_rule' returns ``True``, including those in ``cache_records_db`` which were not downloaded in the most recent ``pull()``. The ``only_recent`` parameter can be used to limit deletion to data obtained in the most recent pull, as shown above."
   ]
  },
  {
   "cell_type": "markdown",
   "metadata": {},
   "source": [
    "---\n",
    "\n",
    "## Conclusion"
   ]
  },
  {
   "cell_type": "markdown",
   "metadata": {},
   "source": [
    "In this tutorial we have reviewed how to unify images obtained with BioVida both with eachother as well as against external biomedial databases. Additionally, we have explored methods for deleting downloaded data."
   ]
  },
  {
   "cell_type": "markdown",
   "metadata": {},
   "source": [
    "---"
   ]
  }
 ],
 "metadata": {
  "kernelspec": {
   "display_name": "Python 3",
   "language": "python",
   "name": "python3"
  },
  "language_info": {
   "codemirror_mode": {
    "name": "ipython",
    "version": 3
   },
   "file_extension": ".py",
   "mimetype": "text/x-python",
   "name": "python",
   "nbconvert_exporter": "python",
   "pygments_lexer": "ipython3",
   "version": "3.5.2"
  },
  "widgets": {
   "application/vnd.jupyter.widget-state+json": {
    "state": {
     "078e7dbd24984e1ca379ac1be7c39e42": {
      "model_module": "jupyter-js-widgets",
      "model_module_version": "~2.1.4",
      "model_name": "LayoutModel",
      "state": {
       "_model_module_version": "~2.1.4",
       "_view_module_version": "~2.1.4"
      }
     },
     "07bb4171118c48d8b79fb785013c1a77": {
      "model_module": "jupyter-js-widgets",
      "model_module_version": "~2.1.4",
      "model_name": "ProgressStyleModel",
      "state": {
       "_model_module_version": "~2.1.4",
       "_view_module_version": "~2.1.4"
      }
     },
     "0874502daac9460381a2d37620477024": {
      "model_module": "jupyter-js-widgets",
      "model_module_version": "~2.1.4",
      "model_name": "ProgressStyleModel",
      "state": {
       "_model_module_version": "~2.1.4",
       "_view_module_version": "~2.1.4"
      }
     },
     "097257101b6a4966a15651a20f3c05c8": {
      "model_module": "jupyter-js-widgets",
      "model_module_version": "~2.1.4",
      "model_name": "LayoutModel",
      "state": {
       "_model_module_version": "~2.1.4",
       "_view_module_version": "~2.1.4"
      }
     },
     "0abfbf43bb6445948dbeeefaa3147fd8": {
      "model_module": "jupyter-js-widgets",
      "model_module_version": "~2.1.4",
      "model_name": "ProgressModel",
      "state": {
       "_model_module_version": "~2.1.4",
       "_view_module_version": "~2.1.4",
       "bar_style": "success",
       "description": "Obtaining Images: ",
       "layout": "IPY_MODEL_4987d3b25e0f4e38bb5b8c8fbb857f58",
       "max": 11,
       "style": "IPY_MODEL_72256a64f85a4b76b9e6f2f7cda5113b",
       "value": 11
      }
     },
     "107cea8453a8476db992025c10c280f5": {
      "model_module": "jupyter-js-widgets",
      "model_module_version": "~2.1.4",
      "model_name": "HTMLModel",
      "state": {
       "_model_module_version": "~2.1.4",
       "_view_module_version": "~2.1.4",
       "layout": "IPY_MODEL_7a4a1667dc58470a84f5dc1d5851a235",
       "value": "100% 11/11 [00:00&lt;00:00, 84.51it/s]"
      }
     },
     "10aac8cae587426f9e0e7a964684d8f2": {
      "model_module": "jupyter-js-widgets",
      "model_module_version": "~2.1.4",
      "model_name": "ProgressModel",
      "state": {
       "_model_module_version": "~2.1.4",
       "_view_module_version": "~2.1.4",
       "bar_style": "success",
       "description": "Obtaining Records: ",
       "layout": "IPY_MODEL_503ddfcd83574e118aa5a2df97d82f8c",
       "max": 4,
       "style": "IPY_MODEL_6d1972c974464253bfc1d2ff1245daeb",
       "value": 4
      }
     },
     "13ee5b4f9f394a94863d40383cea0a8d": {
      "model_module": "jupyter-js-widgets",
      "model_module_version": "~2.1.4",
      "model_name": "HTMLModel",
      "state": {
       "_model_module_version": "~2.1.4",
       "_view_module_version": "~2.1.4",
       "layout": "IPY_MODEL_97decbccf6f84f8692af853ce517d9bc",
       "value": "100% 3/3 [00:40&lt;00:00, 13.44s/it]"
      }
     },
     "14a43b4eaecf4a709e26bf40f0b3d338": {
      "model_module": "jupyter-js-widgets",
      "model_module_version": "~2.1.4",
      "model_name": "HTMLModel",
      "state": {
       "_model_module_version": "~2.1.4",
       "_view_module_version": "~2.1.4",
       "layout": "IPY_MODEL_377a4fd73ec64621935948d0fc26437e",
       "value": "100% 111/111 [00:00&lt;00:00, 4097.15it/s]"
      }
     },
     "15c00a3c27b944ffaaa74adce6a385bb": {
      "model_module": "jupyter-js-widgets",
      "model_module_version": "~2.1.4",
      "model_name": "HBoxModel",
      "state": {
       "_model_module_version": "~2.1.4",
       "_view_module_version": "~2.1.4",
       "children": [
        "IPY_MODEL_0abfbf43bb6445948dbeeefaa3147fd8",
        "IPY_MODEL_107cea8453a8476db992025c10c280f5"
       ],
       "layout": "IPY_MODEL_f8373c45ac284b089a5ac0a6ff7db2a5"
      }
     },
     "15fd4e1e394b483b8a4a2ef974cd5767": {
      "model_module": "jupyter-js-widgets",
      "model_module_version": "~2.1.4",
      "model_name": "ProgressStyleModel",
      "state": {
       "_model_module_version": "~2.1.4",
       "_view_module_version": "~2.1.4"
      }
     },
     "1820854a035e48cf97b7b46dd70fba66": {
      "model_module": "jupyter-js-widgets",
      "model_module_version": "~2.1.4",
      "model_name": "HBoxModel",
      "state": {
       "_model_module_version": "~2.1.4",
       "_view_module_version": "~2.1.4",
       "children": [
        "IPY_MODEL_390810f18ca643e3b6f2e221fd9ad029",
        "IPY_MODEL_91c2a472fd7248b6899856505bc7d70c"
       ],
       "layout": "IPY_MODEL_078e7dbd24984e1ca379ac1be7c39e42"
      }
     },
     "196f0e65c7824194b613cfc63f2af348": {
      "model_module": "jupyter-js-widgets",
      "model_module_version": "~2.1.4",
      "model_name": "HTMLModel",
      "state": {
       "_model_module_version": "~2.1.4",
       "_view_module_version": "~2.1.4",
       "layout": "IPY_MODEL_3ec4b586fe4d44ed8bdcde952ee08819",
       "value": "100% 111/111 [00:00&lt;00:00, 1822.27it/s]"
      }
     },
     "1f69e83a7f4547ed85d90b089c5716fc": {
      "model_module": "jupyter-js-widgets",
      "model_module_version": "~2.1.4",
      "model_name": "HBoxModel",
      "state": {
       "_model_module_version": "~2.1.4",
       "_view_module_version": "~2.1.4",
       "children": [
        "IPY_MODEL_6ee0a559f3804785ae0f1d40f218f0e6",
        "IPY_MODEL_60cefd3713ff412da15b55f4df24c1d8"
       ],
       "layout": "IPY_MODEL_d7221a0d65ce4f99a3dd1188ddf4d1a2"
      }
     },
     "218e8163f2ec421a99a14bb3b14f7f05": {
      "model_module": "jupyter-js-widgets",
      "model_module_version": "~2.1.4",
      "model_name": "LayoutModel",
      "state": {
       "_model_module_version": "~2.1.4",
       "_view_module_version": "~2.1.4"
      }
     },
     "24aa258d9e034153b6bca30541fd27a5": {
      "model_module": "jupyter-js-widgets",
      "model_module_version": "~2.1.4",
      "model_name": "LayoutModel",
      "state": {
       "_model_module_version": "~2.1.4",
       "_view_module_version": "~2.1.4"
      }
     },
     "28b6a7734b0e4164ab1edccb26a0a1fc": {
      "model_module": "jupyter-js-widgets",
      "model_module_version": "~2.1.4",
      "model_name": "ProgressModel",
      "state": {
       "_model_module_version": "~2.1.4",
       "_view_module_version": "~2.1.4",
       "bar_style": "success",
       "description": "Symptoms: ",
       "layout": "IPY_MODEL_f5d95e69b2084fe19a13a5350943fa69",
       "max": 111,
       "style": "IPY_MODEL_f818776e68c14db2961f67eab7daf891",
       "value": 111
      }
     },
     "297b6e3101a64e5b9375d1aa264ed512": {
      "model_module": "jupyter-js-widgets",
      "model_module_version": "~2.1.4",
      "model_name": "LayoutModel",
      "state": {
       "_model_module_version": "~2.1.4",
       "_view_module_version": "~2.1.4"
      }
     },
     "2b41f8143466489ead1a951d91b484e9": {
      "model_module": "jupyter-js-widgets",
      "model_module_version": "~2.1.4",
      "model_name": "HTMLModel",
      "state": {
       "_model_module_version": "~2.1.4",
       "_view_module_version": "~2.1.4",
       "layout": "IPY_MODEL_8b7b3d1df2db47a891d09fe7ab78a85a",
       "value": "100% 3/3 [00:40&lt;00:00, 13.52s/it]"
      }
     },
     "322a12603c4c43d5aa247e77a231264a": {
      "model_module": "jupyter-js-widgets",
      "model_module_version": "~2.1.4",
      "model_name": "HBoxModel",
      "state": {
       "_model_module_version": "~2.1.4",
       "_view_module_version": "~2.1.4",
       "children": [
        "IPY_MODEL_7d417f176bf44204958651681ff3a46d",
        "IPY_MODEL_65e3a3e1838343fb8d7f48a2e9d407a2"
       ],
       "layout": "IPY_MODEL_3c8b9be872384102995c6a9b8b6526a5"
      }
     },
     "33faa6b301cb4201befdca479a283811": {
      "model_module": "jupyter-js-widgets",
      "model_module_version": "~2.1.4",
      "model_name": "ProgressModel",
      "state": {
       "_model_module_version": "~2.1.4",
       "_view_module_version": "~2.1.4",
       "bar_style": "success",
       "description": "Processing Records: ",
       "layout": "IPY_MODEL_c6fffcaa3fdc4327959ac2f76d13ed48",
       "style": "IPY_MODEL_a4b2146dc14b4d20ab697d6a795cc60c",
       "value": 100
      }
     },
     "36d830d134fb4a28942db17175033f87": {
      "model_module": "jupyter-js-widgets",
      "model_module_version": "~2.1.4",
      "model_name": "LayoutModel",
      "state": {
       "_model_module_version": "~2.1.4",
       "_view_module_version": "~2.1.4"
      }
     },
     "377a4fd73ec64621935948d0fc26437e": {
      "model_module": "jupyter-js-widgets",
      "model_module_version": "~2.1.4",
      "model_name": "LayoutModel",
      "state": {
       "_model_module_version": "~2.1.4",
       "_view_module_version": "~2.1.4"
      }
     },
     "390810f18ca643e3b6f2e221fd9ad029": {
      "model_module": "jupyter-js-widgets",
      "model_module_version": "~2.1.4",
      "model_name": "ProgressModel",
      "state": {
       "_model_module_version": "~2.1.4",
       "_view_module_version": "~2.1.4",
       "bar_style": "success",
       "description": "Processing Records: ",
       "layout": "IPY_MODEL_978c11485ed74296a6c52be506a04e73",
       "style": "IPY_MODEL_3aacb7e10a914e19b70312547cbe5ab0",
       "value": 100
      }
     },
     "3aacb7e10a914e19b70312547cbe5ab0": {
      "model_module": "jupyter-js-widgets",
      "model_module_version": "~2.1.4",
      "model_name": "ProgressStyleModel",
      "state": {
       "_model_module_version": "~2.1.4",
       "_view_module_version": "~2.1.4"
      }
     },
     "3c8b9be872384102995c6a9b8b6526a5": {
      "model_module": "jupyter-js-widgets",
      "model_module_version": "~2.1.4",
      "model_name": "LayoutModel",
      "state": {
       "_model_module_version": "~2.1.4",
       "_view_module_version": "~2.1.4"
      }
     },
     "3ec4b586fe4d44ed8bdcde952ee08819": {
      "model_module": "jupyter-js-widgets",
      "model_module_version": "~2.1.4",
      "model_name": "LayoutModel",
      "state": {
       "_model_module_version": "~2.1.4",
       "_view_module_version": "~2.1.4"
      }
     },
     "437495ae0886422faac9055bacaa8a98": {
      "model_module": "jupyter-js-widgets",
      "model_module_version": "~2.1.4",
      "model_name": "HBoxModel",
      "state": {
       "_model_module_version": "~2.1.4",
       "_view_module_version": "~2.1.4",
       "children": [
        "IPY_MODEL_28b6a7734b0e4164ab1edccb26a0a1fc",
        "IPY_MODEL_a7f5ca4a01b8428888e2390d698d8ffd"
       ],
       "layout": "IPY_MODEL_99f69fc42ab24eed9f31e6ea774a4b01"
      }
     },
     "440aa9ec5bf04c19a233bec69af249f4": {
      "model_module": "jupyter-js-widgets",
      "model_module_version": "~2.1.4",
      "model_name": "ProgressModel",
      "state": {
       "_model_module_version": "~2.1.4",
       "_view_module_version": "~2.1.4",
       "bar_style": "success",
       "description": "Matching Symptoms: ",
       "layout": "IPY_MODEL_9af52d645b8741269d0157a97099fe74",
       "max": 111,
       "style": "IPY_MODEL_f7602950a5b5462eb6b62fc0f6012db2",
       "value": 111
      }
     },
     "457fc38200bf4a3c8742357a7106d068": {
      "model_module": "jupyter-js-widgets",
      "model_module_version": "~2.1.4",
      "model_name": "LayoutModel",
      "state": {
       "_model_module_version": "~2.1.4",
       "_view_module_version": "~2.1.4"
      }
     },
     "4590d895d13d4a60b6ecfc38dea924d1": {
      "model_module": "jupyter-js-widgets",
      "model_module_version": "~2.1.4",
      "model_name": "HBoxModel",
      "state": {
       "_model_module_version": "~2.1.4",
       "_view_module_version": "~2.1.4",
       "children": [
        "IPY_MODEL_eb0ee62b40e847b7b250935d86743be1",
        "IPY_MODEL_196f0e65c7824194b613cfc63f2af348"
       ],
       "layout": "IPY_MODEL_e7be124f8299419f870d07ee2093418d"
      }
     },
     "4987d3b25e0f4e38bb5b8c8fbb857f58": {
      "model_module": "jupyter-js-widgets",
      "model_module_version": "~2.1.4",
      "model_name": "LayoutModel",
      "state": {
       "_model_module_version": "~2.1.4",
       "_view_module_version": "~2.1.4"
      }
     },
     "4da84a7088644258a68323425cd2cf22": {
      "model_module": "jupyter-js-widgets",
      "model_module_version": "~2.1.4",
      "model_name": "LayoutModel",
      "state": {
       "_model_module_version": "~2.1.4",
       "_view_module_version": "~2.1.4"
      }
     },
     "503ddfcd83574e118aa5a2df97d82f8c": {
      "model_module": "jupyter-js-widgets",
      "model_module_version": "~2.1.4",
      "model_name": "LayoutModel",
      "state": {
       "_model_module_version": "~2.1.4",
       "_view_module_version": "~2.1.4"
      }
     },
     "53ddd13c6d3641fba2abad290a5c2db2": {
      "model_module": "jupyter-js-widgets",
      "model_module_version": "~2.1.4",
      "model_name": "HBoxModel",
      "state": {
       "_model_module_version": "~2.1.4",
       "_view_module_version": "~2.1.4",
       "children": [
        "IPY_MODEL_63ef1865c4aa42029cee5e2fbec961bc",
        "IPY_MODEL_2b41f8143466489ead1a951d91b484e9"
       ],
       "layout": "IPY_MODEL_457fc38200bf4a3c8742357a7106d068"
      }
     },
     "557381cfd930442b87c7fe64fd32709a": {
      "model_module": "jupyter-js-widgets",
      "model_module_version": "~2.1.4",
      "model_name": "LayoutModel",
      "state": {
       "_model_module_version": "~2.1.4",
       "_view_module_version": "~2.1.4"
      }
     },
     "5637a0131b6e4b59a123e52b56ba706a": {
      "model_module": "jupyter-js-widgets",
      "model_module_version": "~2.1.4",
      "model_name": "ProgressStyleModel",
      "state": {
       "_model_module_version": "~2.1.4",
       "_view_module_version": "~2.1.4"
      }
     },
     "56ff1d4a41564c108b0fe383a5b81581": {
      "model_module": "jupyter-js-widgets",
      "model_module_version": "~2.1.4",
      "model_name": "ProgressModel",
      "state": {
       "_model_module_version": "~2.1.4",
       "_view_module_version": "~2.1.4",
       "bar_style": "success",
       "description": "'TCGA-LUSC' Records: ",
       "layout": "IPY_MODEL_8a1920a88d4b4c53b7a451694b80ede6",
       "max": 3,
       "style": "IPY_MODEL_a9723945ea56410ea9a77e752a1de804",
       "value": 3
      }
     },
     "5b70ecefcdc748f391775c6c28b01911": {
      "model_module": "jupyter-js-widgets",
      "model_module_version": "~2.1.4",
      "model_name": "HTMLModel",
      "state": {
       "_model_module_version": "~2.1.4",
       "_view_module_version": "~2.1.4",
       "layout": "IPY_MODEL_7f7ed38c6a73487f9ab1edbba65e8c51",
       "value": "100% 111/111 [00:00&lt;00:00, 2302.00it/s]"
      }
     },
     "5c715ad0e8404ddaaeb95cde51b6c578": {
      "model_module": "jupyter-js-widgets",
      "model_module_version": "~2.1.4",
      "model_name": "ProgressModel",
      "state": {
       "_model_module_version": "~2.1.4",
       "_view_module_version": "~2.1.4",
       "bar_style": "success",
       "description": "Disease Data: ",
       "layout": "IPY_MODEL_f3bc4c70b4274820af21430b21ca7fe2",
       "max": 111,
       "style": "IPY_MODEL_15fd4e1e394b483b8a4a2ef974cd5767",
       "value": 111
      }
     },
     "5e9e45e274d8438e8b0769b4bf3bedc0": {
      "model_module": "jupyter-js-widgets",
      "model_module_version": "~2.1.4",
      "model_name": "LayoutModel",
      "state": {
       "_model_module_version": "~2.1.4",
       "_view_module_version": "~2.1.4"
      }
     },
     "60cefd3713ff412da15b55f4df24c1d8": {
      "model_module": "jupyter-js-widgets",
      "model_module_version": "~2.1.4",
      "model_name": "HTMLModel",
      "state": {
       "_model_module_version": "~2.1.4",
       "_view_module_version": "~2.1.4",
       "layout": "IPY_MODEL_a433dd667f724b1080ba4a1c5fbf0226",
       "value": "100% 100/100 [00:07&lt;00:00, 12.76it/s]"
      }
     },
     "60dd27e9cfd1414ca7c3f38b6ef7522a": {
      "model_module": "jupyter-js-widgets",
      "model_module_version": "~2.1.4",
      "model_name": "LayoutModel",
      "state": {
       "_model_module_version": "~2.1.4",
       "_view_module_version": "~2.1.4"
      }
     },
     "61798087a5d34173a8240781e262cdd7": {
      "model_module": "jupyter-js-widgets",
      "model_module_version": "~2.1.4",
      "model_name": "HBoxModel",
      "state": {
       "_model_module_version": "~2.1.4",
       "_view_module_version": "~2.1.4",
       "children": [
        "IPY_MODEL_b49e9689450c42efb9152ed7afe200a1",
        "IPY_MODEL_b73eb4c8aa2b43c8b96df233f9370dec"
       ],
       "layout": "IPY_MODEL_f606d8fea6064be888cdabdbf38348da"
      }
     },
     "6237ed02eddb4456b57dee80c4a51b78": {
      "model_module": "jupyter-js-widgets",
      "model_module_version": "~2.1.4",
      "model_name": "LayoutModel",
      "state": {
       "_model_module_version": "~2.1.4",
       "_view_module_version": "~2.1.4"
      }
     },
     "63dd0d2c98e248568ff34ad147cbc637": {
      "model_module": "jupyter-js-widgets",
      "model_module_version": "~2.1.4",
      "model_name": "LayoutModel",
      "state": {
       "_model_module_version": "~2.1.4",
       "_view_module_version": "~2.1.4"
      }
     },
     "63ef1865c4aa42029cee5e2fbec961bc": {
      "model_module": "jupyter-js-widgets",
      "model_module_version": "~2.1.4",
      "model_name": "ProgressModel",
      "state": {
       "_model_module_version": "~2.1.4",
       "_view_module_version": "~2.1.4",
       "bar_style": "success",
       "description": "'TCGA-LUSC' Records: ",
       "layout": "IPY_MODEL_6ef59271b670459cb4009876094f0e13",
       "max": 3,
       "style": "IPY_MODEL_6405680ce18b404b8fa4e6b7419038c8",
       "value": 3
      }
     },
     "6405680ce18b404b8fa4e6b7419038c8": {
      "model_module": "jupyter-js-widgets",
      "model_module_version": "~2.1.4",
      "model_name": "ProgressStyleModel",
      "state": {
       "_model_module_version": "~2.1.4",
       "_view_module_version": "~2.1.4"
      }
     },
     "65e3a3e1838343fb8d7f48a2e9d407a2": {
      "model_module": "jupyter-js-widgets",
      "model_module_version": "~2.1.4",
      "model_name": "HTMLModel",
      "state": {
       "_model_module_version": "~2.1.4",
       "_view_module_version": "~2.1.4",
       "layout": "IPY_MODEL_d9d20c8eb70b4b9c8f12e2a0a913831b",
       "value": "100% 4/4 [00:04&lt;00:00,  1.11s/it]"
      }
     },
     "682eb5364af24024ba7bb5be7cc70f81": {
      "model_module": "jupyter-js-widgets",
      "model_module_version": "~2.1.4",
      "model_name": "ProgressModel",
      "state": {
       "_model_module_version": "~2.1.4",
       "_view_module_version": "~2.1.4",
       "bar_style": "success",
       "description": "Genomic: ",
       "layout": "IPY_MODEL_218e8163f2ec421a99a14bb3b14f7f05",
       "max": 111,
       "style": "IPY_MODEL_85471d50567f4cd8b02e3ac44284ae34",
       "value": 111
      }
     },
     "68a24b824816427180adeffc1dc6001f": {
      "model_module": "jupyter-js-widgets",
      "model_module_version": "~2.1.4",
      "model_name": "LayoutModel",
      "state": {
       "_model_module_version": "~2.1.4",
       "_view_module_version": "~2.1.4"
      }
     },
     "6b62ce4e8d6e4adcab22d342434d957e": {
      "model_module": "jupyter-js-widgets",
      "model_module_version": "~2.1.4",
      "model_name": "HBoxModel",
      "state": {
       "_model_module_version": "~2.1.4",
       "_view_module_version": "~2.1.4",
       "children": [
        "IPY_MODEL_5c715ad0e8404ddaaeb95cde51b6c578",
        "IPY_MODEL_14a43b4eaecf4a709e26bf40f0b3d338"
       ],
       "layout": "IPY_MODEL_b426356a5ff34343a3ba15c5bbdd07d3"
      }
     },
     "6d1972c974464253bfc1d2ff1245daeb": {
      "model_module": "jupyter-js-widgets",
      "model_module_version": "~2.1.4",
      "model_name": "ProgressStyleModel",
      "state": {
       "_model_module_version": "~2.1.4",
       "_view_module_version": "~2.1.4"
      }
     },
     "6ee0a559f3804785ae0f1d40f218f0e6": {
      "model_module": "jupyter-js-widgets",
      "model_module_version": "~2.1.4",
      "model_name": "ProgressModel",
      "state": {
       "_model_module_version": "~2.1.4",
       "_view_module_version": "~2.1.4",
       "bar_style": "success",
       "description": "Obtaining Images: ",
       "layout": "IPY_MODEL_90b6af7c7d6446b39070d0619b0a9745",
       "style": "IPY_MODEL_5637a0131b6e4b59a123e52b56ba706a",
       "value": 100
      }
     },
     "6ef59271b670459cb4009876094f0e13": {
      "model_module": "jupyter-js-widgets",
      "model_module_version": "~2.1.4",
      "model_name": "LayoutModel",
      "state": {
       "_model_module_version": "~2.1.4",
       "_view_module_version": "~2.1.4"
      }
     },
     "72256a64f85a4b76b9e6f2f7cda5113b": {
      "model_module": "jupyter-js-widgets",
      "model_module_version": "~2.1.4",
      "model_name": "ProgressStyleModel",
      "state": {
       "_model_module_version": "~2.1.4",
       "_view_module_version": "~2.1.4"
      }
     },
     "75affb2711c44d95b1dd3117e075f948": {
      "model_module": "jupyter-js-widgets",
      "model_module_version": "~2.1.4",
      "model_name": "HBoxModel",
      "state": {
       "_model_module_version": "~2.1.4",
       "_view_module_version": "~2.1.4",
       "children": [
        "IPY_MODEL_56ff1d4a41564c108b0fe383a5b81581",
        "IPY_MODEL_13ee5b4f9f394a94863d40383cea0a8d"
       ],
       "layout": "IPY_MODEL_f59a050b56554cdc8eba3a4f4983ca01"
      }
     },
     "7814c57b9bd543e4b9d869d1877a581d": {
      "model_module": "jupyter-js-widgets",
      "model_module_version": "~2.1.4",
      "model_name": "HTMLModel",
      "state": {
       "_model_module_version": "~2.1.4",
       "_view_module_version": "~2.1.4",
       "layout": "IPY_MODEL_36d830d134fb4a28942db17175033f87",
       "value": "100% 111/111 [00:00&lt;00:00, 1778.93it/s]"
      }
     },
     "785e12bcb0594df289e7757aa019811d": {
      "model_module": "jupyter-js-widgets",
      "model_module_version": "~2.1.4",
      "model_name": "LayoutModel",
      "state": {
       "_model_module_version": "~2.1.4",
       "_view_module_version": "~2.1.4"
      }
     },
     "7a4a1667dc58470a84f5dc1d5851a235": {
      "model_module": "jupyter-js-widgets",
      "model_module_version": "~2.1.4",
      "model_name": "LayoutModel",
      "state": {
       "_model_module_version": "~2.1.4",
       "_view_module_version": "~2.1.4"
      }
     },
     "7c60eefe14ba47aba1cc0fa92b03942f": {
      "model_module": "jupyter-js-widgets",
      "model_module_version": "~2.1.4",
      "model_name": "ProgressStyleModel",
      "state": {
       "_model_module_version": "~2.1.4",
       "_view_module_version": "~2.1.4"
      }
     },
     "7d417f176bf44204958651681ff3a46d": {
      "model_module": "jupyter-js-widgets",
      "model_module_version": "~2.1.4",
      "model_name": "ProgressModel",
      "state": {
       "_model_module_version": "~2.1.4",
       "_view_module_version": "~2.1.4",
       "bar_style": "success",
       "description": "Obtaining Records: ",
       "layout": "IPY_MODEL_6237ed02eddb4456b57dee80c4a51b78",
       "max": 4,
       "style": "IPY_MODEL_8c7bce14060443bfad83a7a190c76e93",
       "value": 4
      }
     },
     "7ec27ff5472d474faa9e42a0cd562921": {
      "model_module": "jupyter-js-widgets",
      "model_module_version": "~2.1.4",
      "model_name": "LayoutModel",
      "state": {
       "_model_module_version": "~2.1.4",
       "_view_module_version": "~2.1.4"
      }
     },
     "7f7ed38c6a73487f9ab1edbba65e8c51": {
      "model_module": "jupyter-js-widgets",
      "model_module_version": "~2.1.4",
      "model_name": "LayoutModel",
      "state": {
       "_model_module_version": "~2.1.4",
       "_view_module_version": "~2.1.4"
      }
     },
     "85471d50567f4cd8b02e3ac44284ae34": {
      "model_module": "jupyter-js-widgets",
      "model_module_version": "~2.1.4",
      "model_name": "ProgressStyleModel",
      "state": {
       "_model_module_version": "~2.1.4",
       "_view_module_version": "~2.1.4"
      }
     },
     "857c974ab67549158581baef355b2c01": {
      "model_module": "jupyter-js-widgets",
      "model_module_version": "~2.1.4",
      "model_name": "ProgressModel",
      "state": {
       "_model_module_version": "~2.1.4",
       "_view_module_version": "~2.1.4",
       "bar_style": "success",
       "description": "Genomic: ",
       "layout": "IPY_MODEL_f04a74048a934ecca2f573927eeb9130",
       "max": 111,
       "style": "IPY_MODEL_a92a557157ea42e3a1a1e76e48118774",
       "value": 111
      }
     },
     "8a1920a88d4b4c53b7a451694b80ede6": {
      "model_module": "jupyter-js-widgets",
      "model_module_version": "~2.1.4",
      "model_name": "LayoutModel",
      "state": {
       "_model_module_version": "~2.1.4",
       "_view_module_version": "~2.1.4"
      }
     },
     "8b7b3d1df2db47a891d09fe7ab78a85a": {
      "model_module": "jupyter-js-widgets",
      "model_module_version": "~2.1.4",
      "model_name": "LayoutModel",
      "state": {
       "_model_module_version": "~2.1.4",
       "_view_module_version": "~2.1.4"
      }
     },
     "8c7bce14060443bfad83a7a190c76e93": {
      "model_module": "jupyter-js-widgets",
      "model_module_version": "~2.1.4",
      "model_name": "ProgressStyleModel",
      "state": {
       "_model_module_version": "~2.1.4",
       "_view_module_version": "~2.1.4"
      }
     },
     "906449a9813e4dd5bd483ecfe9c95ac2": {
      "model_module": "jupyter-js-widgets",
      "model_module_version": "~2.1.4",
      "model_name": "HBoxModel",
      "state": {
       "_model_module_version": "~2.1.4",
       "_view_module_version": "~2.1.4",
       "children": [
        "IPY_MODEL_857c974ab67549158581baef355b2c01",
        "IPY_MODEL_bb91bbad4d564f248a7338730d081233"
       ],
       "layout": "IPY_MODEL_60dd27e9cfd1414ca7c3f38b6ef7522a"
      }
     },
     "90b6af7c7d6446b39070d0619b0a9745": {
      "model_module": "jupyter-js-widgets",
      "model_module_version": "~2.1.4",
      "model_name": "LayoutModel",
      "state": {
       "_model_module_version": "~2.1.4",
       "_view_module_version": "~2.1.4"
      }
     },
     "90eee2a3e9e94767a4c0d4da95bf81ee": {
      "model_module": "jupyter-js-widgets",
      "model_module_version": "~2.1.4",
      "model_name": "HTMLModel",
      "state": {
       "_model_module_version": "~2.1.4",
       "_view_module_version": "~2.1.4",
       "layout": "IPY_MODEL_097257101b6a4966a15651a20f3c05c8",
       "value": "100% 111/111 [00:00&lt;00:00, 4066.80it/s]"
      }
     },
     "91c2a472fd7248b6899856505bc7d70c": {
      "model_module": "jupyter-js-widgets",
      "model_module_version": "~2.1.4",
      "model_name": "HTMLModel",
      "state": {
       "_model_module_version": "~2.1.4",
       "_view_module_version": "~2.1.4",
       "layout": "IPY_MODEL_9cb6bc5f7f194f8ea9fcaee118a3f66a",
       "value": "100% 100/100 [00:03&lt;00:00, 26.62it/s]"
      }
     },
     "978c11485ed74296a6c52be506a04e73": {
      "model_module": "jupyter-js-widgets",
      "model_module_version": "~2.1.4",
      "model_name": "LayoutModel",
      "state": {
       "_model_module_version": "~2.1.4",
       "_view_module_version": "~2.1.4"
      }
     },
     "9797ff7a958349f69dffc0080207c42c": {
      "model_module": "jupyter-js-widgets",
      "model_module_version": "~2.1.4",
      "model_name": "LayoutModel",
      "state": {
       "_model_module_version": "~2.1.4",
       "_view_module_version": "~2.1.4"
      }
     },
     "97decbccf6f84f8692af853ce517d9bc": {
      "model_module": "jupyter-js-widgets",
      "model_module_version": "~2.1.4",
      "model_name": "LayoutModel",
      "state": {
       "_model_module_version": "~2.1.4",
       "_view_module_version": "~2.1.4"
      }
     },
     "98f1e149b55f4109bedcd74165ddd9a0": {
      "model_module": "jupyter-js-widgets",
      "model_module_version": "~2.1.4",
      "model_name": "ProgressModel",
      "state": {
       "_model_module_version": "~2.1.4",
       "_view_module_version": "~2.1.4",
       "bar_style": "success",
       "description": "Obtaining Images: ",
       "layout": "IPY_MODEL_9797ff7a958349f69dffc0080207c42c",
       "max": 11,
       "style": "IPY_MODEL_07bb4171118c48d8b79fb785013c1a77",
       "value": 11
      }
     },
     "99f69fc42ab24eed9f31e6ea774a4b01": {
      "model_module": "jupyter-js-widgets",
      "model_module_version": "~2.1.4",
      "model_name": "LayoutModel",
      "state": {
       "_model_module_version": "~2.1.4",
       "_view_module_version": "~2.1.4"
      }
     },
     "9af52d645b8741269d0157a97099fe74": {
      "model_module": "jupyter-js-widgets",
      "model_module_version": "~2.1.4",
      "model_name": "LayoutModel",
      "state": {
       "_model_module_version": "~2.1.4",
       "_view_module_version": "~2.1.4"
      }
     },
     "9c846e1d0b3342789b6a45d7eaf2138d": {
      "model_module": "jupyter-js-widgets",
      "model_module_version": "~2.1.4",
      "model_name": "LayoutModel",
      "state": {
       "_model_module_version": "~2.1.4",
       "_view_module_version": "~2.1.4"
      }
     },
     "9cb6bc5f7f194f8ea9fcaee118a3f66a": {
      "model_module": "jupyter-js-widgets",
      "model_module_version": "~2.1.4",
      "model_name": "LayoutModel",
      "state": {
       "_model_module_version": "~2.1.4",
       "_view_module_version": "~2.1.4"
      }
     },
     "a057c319c8734bc4bbaabe98602d8b20": {
      "model_module": "jupyter-js-widgets",
      "model_module_version": "~2.1.4",
      "model_name": "ProgressModel",
      "state": {
       "_model_module_version": "~2.1.4",
       "_view_module_version": "~2.1.4",
       "bar_style": "success",
       "description": "Disease Data: ",
       "layout": "IPY_MODEL_297b6e3101a64e5b9375d1aa264ed512",
       "max": 111,
       "style": "IPY_MODEL_f5e6b93a49fc4ffabbf4175f13c99b5c",
       "value": 111
      }
     },
     "a26e3b61b8864e56b7ee484668030e7f": {
      "model_module": "jupyter-js-widgets",
      "model_module_version": "~2.1.4",
      "model_name": "ProgressModel",
      "state": {
       "_model_module_version": "~2.1.4",
       "_view_module_version": "~2.1.4",
       "bar_style": "success",
       "description": "Symptoms: ",
       "layout": "IPY_MODEL_9c846e1d0b3342789b6a45d7eaf2138d",
       "max": 111,
       "style": "IPY_MODEL_0874502daac9460381a2d37620477024",
       "value": 111
      }
     },
     "a3d810daf7454cc2beeea4ef4a490cad": {
      "model_module": "jupyter-js-widgets",
      "model_module_version": "~2.1.4",
      "model_name": "HTMLModel",
      "state": {
       "_model_module_version": "~2.1.4",
       "_view_module_version": "~2.1.4",
       "layout": "IPY_MODEL_c12ba36d566e4475922e4c57826bf70a",
       "value": "100% 100/100 [00:03&lt;00:00, 30.36it/s]"
      }
     },
     "a433dd667f724b1080ba4a1c5fbf0226": {
      "model_module": "jupyter-js-widgets",
      "model_module_version": "~2.1.4",
      "model_name": "LayoutModel",
      "state": {
       "_model_module_version": "~2.1.4",
       "_view_module_version": "~2.1.4"
      }
     },
     "a4b2146dc14b4d20ab697d6a795cc60c": {
      "model_module": "jupyter-js-widgets",
      "model_module_version": "~2.1.4",
      "model_name": "ProgressStyleModel",
      "state": {
       "_model_module_version": "~2.1.4",
       "_view_module_version": "~2.1.4"
      }
     },
     "a7f5ca4a01b8428888e2390d698d8ffd": {
      "model_module": "jupyter-js-widgets",
      "model_module_version": "~2.1.4",
      "model_name": "HTMLModel",
      "state": {
       "_model_module_version": "~2.1.4",
       "_view_module_version": "~2.1.4",
       "layout": "IPY_MODEL_c1a9f498e4e44c9db6e82ec7c4ef615b",
       "value": "100% 111/111 [00:00&lt;00:00, 2159.15it/s]"
      }
     },
     "a8893da0868c4d6cb4982fdd8b60f3ff": {
      "model_module": "jupyter-js-widgets",
      "model_module_version": "~2.1.4",
      "model_name": "HBoxModel",
      "state": {
       "_model_module_version": "~2.1.4",
       "_view_module_version": "~2.1.4",
       "children": [
        "IPY_MODEL_10aac8cae587426f9e0e7a964684d8f2",
        "IPY_MODEL_c4ceaca1c7a74bda86005318b05dcb0f"
       ],
       "layout": "IPY_MODEL_7ec27ff5472d474faa9e42a0cd562921"
      }
     },
     "a92a557157ea42e3a1a1e76e48118774": {
      "model_module": "jupyter-js-widgets",
      "model_module_version": "~2.1.4",
      "model_name": "ProgressStyleModel",
      "state": {
       "_model_module_version": "~2.1.4",
       "_view_module_version": "~2.1.4"
      }
     },
     "a970697cbf6441b9b8813287d3431baa": {
      "model_module": "jupyter-js-widgets",
      "model_module_version": "~2.1.4",
      "model_name": "HTMLModel",
      "state": {
       "_model_module_version": "~2.1.4",
       "_view_module_version": "~2.1.4",
       "layout": "IPY_MODEL_785e12bcb0594df289e7757aa019811d",
       "value": "100% 111/111 [00:00&lt;00:00, 1181.81it/s]"
      }
     },
     "a9723945ea56410ea9a77e752a1de804": {
      "model_module": "jupyter-js-widgets",
      "model_module_version": "~2.1.4",
      "model_name": "ProgressStyleModel",
      "state": {
       "_model_module_version": "~2.1.4",
       "_view_module_version": "~2.1.4"
      }
     },
     "aa1287da12c1403c962d5b7eb2a03e90": {
      "model_module": "jupyter-js-widgets",
      "model_module_version": "~2.1.4",
      "model_name": "LayoutModel",
      "state": {
       "_model_module_version": "~2.1.4",
       "_view_module_version": "~2.1.4"
      }
     },
     "b0a4e26d78d043f4a2fb373eb4efb590": {
      "model_module": "jupyter-js-widgets",
      "model_module_version": "~2.1.4",
      "model_name": "ProgressStyleModel",
      "state": {
       "_model_module_version": "~2.1.4",
       "_view_module_version": "~2.1.4"
      }
     },
     "b426356a5ff34343a3ba15c5bbdd07d3": {
      "model_module": "jupyter-js-widgets",
      "model_module_version": "~2.1.4",
      "model_name": "LayoutModel",
      "state": {
       "_model_module_version": "~2.1.4",
       "_view_module_version": "~2.1.4"
      }
     },
     "b49e9689450c42efb9152ed7afe200a1": {
      "model_module": "jupyter-js-widgets",
      "model_module_version": "~2.1.4",
      "model_name": "ProgressModel",
      "state": {
       "_model_module_version": "~2.1.4",
       "_view_module_version": "~2.1.4",
       "bar_style": "success",
       "description": "Obtaining Images: ",
       "layout": "IPY_MODEL_24aa258d9e034153b6bca30541fd27a5",
       "style": "IPY_MODEL_b0a4e26d78d043f4a2fb373eb4efb590",
       "value": 100
      }
     },
     "b6a0401de72d47b888597e04d6c018e1": {
      "model_module": "jupyter-js-widgets",
      "model_module_version": "~2.1.4",
      "model_name": "HBoxModel",
      "state": {
       "_model_module_version": "~2.1.4",
       "_view_module_version": "~2.1.4",
       "children": [
        "IPY_MODEL_a057c319c8734bc4bbaabe98602d8b20",
        "IPY_MODEL_90eee2a3e9e94767a4c0d4da95bf81ee"
       ],
       "layout": "IPY_MODEL_68a24b824816427180adeffc1dc6001f"
      }
     },
     "b73eb4c8aa2b43c8b96df233f9370dec": {
      "model_module": "jupyter-js-widgets",
      "model_module_version": "~2.1.4",
      "model_name": "HTMLModel",
      "state": {
       "_model_module_version": "~2.1.4",
       "_view_module_version": "~2.1.4",
       "layout": "IPY_MODEL_fccd365687304a92a6ab2ed4acbe1368",
       "value": "100% 100/100 [00:00&lt;00:00, 3147.34it/s]"
      }
     },
     "bb91bbad4d564f248a7338730d081233": {
      "model_module": "jupyter-js-widgets",
      "model_module_version": "~2.1.4",
      "model_name": "HTMLModel",
      "state": {
       "_model_module_version": "~2.1.4",
       "_view_module_version": "~2.1.4",
       "layout": "IPY_MODEL_ddbb26d043ff4d6a994dd218565929bb",
       "value": "100% 111/111 [00:00&lt;00:00, 1283.92it/s]"
      }
     },
     "bc01ff99da1b47b9a2ae53c0480a4724": {
      "model_module": "jupyter-js-widgets",
      "model_module_version": "~2.1.4",
      "model_name": "LayoutModel",
      "state": {
       "_model_module_version": "~2.1.4",
       "_view_module_version": "~2.1.4"
      }
     },
     "bf2c75e702294197b778bc5e1e2a0cba": {
      "model_module": "jupyter-js-widgets",
      "model_module_version": "~2.1.4",
      "model_name": "HTMLModel",
      "state": {
       "_model_module_version": "~2.1.4",
       "_view_module_version": "~2.1.4",
       "layout": "IPY_MODEL_63dd0d2c98e248568ff34ad147cbc637",
       "value": "100% 11/11 [00:00&lt;00:00, 72.95it/s]"
      }
     },
     "c12ba36d566e4475922e4c57826bf70a": {
      "model_module": "jupyter-js-widgets",
      "model_module_version": "~2.1.4",
      "model_name": "LayoutModel",
      "state": {
       "_model_module_version": "~2.1.4",
       "_view_module_version": "~2.1.4"
      }
     },
     "c1a9f498e4e44c9db6e82ec7c4ef615b": {
      "model_module": "jupyter-js-widgets",
      "model_module_version": "~2.1.4",
      "model_name": "LayoutModel",
      "state": {
       "_model_module_version": "~2.1.4",
       "_view_module_version": "~2.1.4"
      }
     },
     "c4ceaca1c7a74bda86005318b05dcb0f": {
      "model_module": "jupyter-js-widgets",
      "model_module_version": "~2.1.4",
      "model_name": "HTMLModel",
      "state": {
       "_model_module_version": "~2.1.4",
       "_view_module_version": "~2.1.4",
       "layout": "IPY_MODEL_f7873190bc2c4d29b98c6a1f9da2afe9",
       "value": "100% 4/4 [00:05&lt;00:00,  1.31s/it]"
      }
     },
     "c6fffcaa3fdc4327959ac2f76d13ed48": {
      "model_module": "jupyter-js-widgets",
      "model_module_version": "~2.1.4",
      "model_name": "LayoutModel",
      "state": {
       "_model_module_version": "~2.1.4",
       "_view_module_version": "~2.1.4"
      }
     },
     "c9dfaea0d16344faa77d96112af753f6": {
      "model_module": "jupyter-js-widgets",
      "model_module_version": "~2.1.4",
      "model_name": "HBoxModel",
      "state": {
       "_model_module_version": "~2.1.4",
       "_view_module_version": "~2.1.4",
       "children": [
        "IPY_MODEL_33faa6b301cb4201befdca479a283811",
        "IPY_MODEL_a3d810daf7454cc2beeea4ef4a490cad"
       ],
       "layout": "IPY_MODEL_aa1287da12c1403c962d5b7eb2a03e90"
      }
     },
     "d7221a0d65ce4f99a3dd1188ddf4d1a2": {
      "model_module": "jupyter-js-widgets",
      "model_module_version": "~2.1.4",
      "model_name": "LayoutModel",
      "state": {
       "_model_module_version": "~2.1.4",
       "_view_module_version": "~2.1.4"
      }
     },
     "d9d20c8eb70b4b9c8f12e2a0a913831b": {
      "model_module": "jupyter-js-widgets",
      "model_module_version": "~2.1.4",
      "model_name": "LayoutModel",
      "state": {
       "_model_module_version": "~2.1.4",
       "_view_module_version": "~2.1.4"
      }
     },
     "ddbb26d043ff4d6a994dd218565929bb": {
      "model_module": "jupyter-js-widgets",
      "model_module_version": "~2.1.4",
      "model_name": "LayoutModel",
      "state": {
       "_model_module_version": "~2.1.4",
       "_view_module_version": "~2.1.4"
      }
     },
     "df648a0f7687485d8ee5c723e8f8c98f": {
      "model_module": "jupyter-js-widgets",
      "model_module_version": "~2.1.4",
      "model_name": "HBoxModel",
      "state": {
       "_model_module_version": "~2.1.4",
       "_view_module_version": "~2.1.4",
       "children": [
        "IPY_MODEL_440aa9ec5bf04c19a233bec69af249f4",
        "IPY_MODEL_7814c57b9bd543e4b9d869d1877a581d"
       ],
       "layout": "IPY_MODEL_557381cfd930442b87c7fe64fd32709a"
      }
     },
     "e675d99f4713442688ad62fd4ece52d1": {
      "model_module": "jupyter-js-widgets",
      "model_module_version": "~2.1.4",
      "model_name": "HBoxModel",
      "state": {
       "_model_module_version": "~2.1.4",
       "_view_module_version": "~2.1.4",
       "children": [
        "IPY_MODEL_682eb5364af24024ba7bb5be7cc70f81",
        "IPY_MODEL_a970697cbf6441b9b8813287d3431baa"
       ],
       "layout": "IPY_MODEL_5e9e45e274d8438e8b0769b4bf3bedc0"
      }
     },
     "e7be124f8299419f870d07ee2093418d": {
      "model_module": "jupyter-js-widgets",
      "model_module_version": "~2.1.4",
      "model_name": "LayoutModel",
      "state": {
       "_model_module_version": "~2.1.4",
       "_view_module_version": "~2.1.4"
      }
     },
     "e87ddf33492c49a2b906fde05e45d0f1": {
      "model_module": "jupyter-js-widgets",
      "model_module_version": "~2.1.4",
      "model_name": "HBoxModel",
      "state": {
       "_model_module_version": "~2.1.4",
       "_view_module_version": "~2.1.4",
       "children": [
        "IPY_MODEL_a26e3b61b8864e56b7ee484668030e7f",
        "IPY_MODEL_5b70ecefcdc748f391775c6c28b01911"
       ],
       "layout": "IPY_MODEL_fe4f2c6b5ca74e3099bb2da806160328"
      }
     },
     "eb0ee62b40e847b7b250935d86743be1": {
      "model_module": "jupyter-js-widgets",
      "model_module_version": "~2.1.4",
      "model_name": "ProgressModel",
      "state": {
       "_model_module_version": "~2.1.4",
       "_view_module_version": "~2.1.4",
       "bar_style": "success",
       "description": "Matching Symptoms: ",
       "layout": "IPY_MODEL_4da84a7088644258a68323425cd2cf22",
       "max": 111,
       "style": "IPY_MODEL_7c60eefe14ba47aba1cc0fa92b03942f",
       "value": 111
      }
     },
     "ecb63398f61f4ceababb5f10162aa20f": {
      "model_module": "jupyter-js-widgets",
      "model_module_version": "~2.1.4",
      "model_name": "HBoxModel",
      "state": {
       "_model_module_version": "~2.1.4",
       "_view_module_version": "~2.1.4",
       "children": [
        "IPY_MODEL_98f1e149b55f4109bedcd74165ddd9a0",
        "IPY_MODEL_bf2c75e702294197b778bc5e1e2a0cba"
       ],
       "layout": "IPY_MODEL_bc01ff99da1b47b9a2ae53c0480a4724"
      }
     },
     "f04a74048a934ecca2f573927eeb9130": {
      "model_module": "jupyter-js-widgets",
      "model_module_version": "~2.1.4",
      "model_name": "LayoutModel",
      "state": {
       "_model_module_version": "~2.1.4",
       "_view_module_version": "~2.1.4"
      }
     },
     "f3bc4c70b4274820af21430b21ca7fe2": {
      "model_module": "jupyter-js-widgets",
      "model_module_version": "~2.1.4",
      "model_name": "LayoutModel",
      "state": {
       "_model_module_version": "~2.1.4",
       "_view_module_version": "~2.1.4"
      }
     },
     "f59a050b56554cdc8eba3a4f4983ca01": {
      "model_module": "jupyter-js-widgets",
      "model_module_version": "~2.1.4",
      "model_name": "LayoutModel",
      "state": {
       "_model_module_version": "~2.1.4",
       "_view_module_version": "~2.1.4"
      }
     },
     "f5d95e69b2084fe19a13a5350943fa69": {
      "model_module": "jupyter-js-widgets",
      "model_module_version": "~2.1.4",
      "model_name": "LayoutModel",
      "state": {
       "_model_module_version": "~2.1.4",
       "_view_module_version": "~2.1.4"
      }
     },
     "f5e6b93a49fc4ffabbf4175f13c99b5c": {
      "model_module": "jupyter-js-widgets",
      "model_module_version": "~2.1.4",
      "model_name": "ProgressStyleModel",
      "state": {
       "_model_module_version": "~2.1.4",
       "_view_module_version": "~2.1.4"
      }
     },
     "f606d8fea6064be888cdabdbf38348da": {
      "model_module": "jupyter-js-widgets",
      "model_module_version": "~2.1.4",
      "model_name": "LayoutModel",
      "state": {
       "_model_module_version": "~2.1.4",
       "_view_module_version": "~2.1.4"
      }
     },
     "f7602950a5b5462eb6b62fc0f6012db2": {
      "model_module": "jupyter-js-widgets",
      "model_module_version": "~2.1.4",
      "model_name": "ProgressStyleModel",
      "state": {
       "_model_module_version": "~2.1.4",
       "_view_module_version": "~2.1.4"
      }
     },
     "f7873190bc2c4d29b98c6a1f9da2afe9": {
      "model_module": "jupyter-js-widgets",
      "model_module_version": "~2.1.4",
      "model_name": "LayoutModel",
      "state": {
       "_model_module_version": "~2.1.4",
       "_view_module_version": "~2.1.4"
      }
     },
     "f818776e68c14db2961f67eab7daf891": {
      "model_module": "jupyter-js-widgets",
      "model_module_version": "~2.1.4",
      "model_name": "ProgressStyleModel",
      "state": {
       "_model_module_version": "~2.1.4",
       "_view_module_version": "~2.1.4"
      }
     },
     "f8373c45ac284b089a5ac0a6ff7db2a5": {
      "model_module": "jupyter-js-widgets",
      "model_module_version": "~2.1.4",
      "model_name": "LayoutModel",
      "state": {
       "_model_module_version": "~2.1.4",
       "_view_module_version": "~2.1.4"
      }
     },
     "fccd365687304a92a6ab2ed4acbe1368": {
      "model_module": "jupyter-js-widgets",
      "model_module_version": "~2.1.4",
      "model_name": "LayoutModel",
      "state": {
       "_model_module_version": "~2.1.4",
       "_view_module_version": "~2.1.4"
      }
     },
     "fe4f2c6b5ca74e3099bb2da806160328": {
      "model_module": "jupyter-js-widgets",
      "model_module_version": "~2.1.4",
      "model_name": "LayoutModel",
      "state": {
       "_model_module_version": "~2.1.4",
       "_view_module_version": "~2.1.4"
      }
     }
    },
    "version_major": 1,
    "version_minor": 0
   }
  }
 },
 "nbformat": 4,
 "nbformat_minor": 2
}
