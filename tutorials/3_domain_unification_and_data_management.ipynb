{
 "cells": [
  {
   "cell_type": "markdown",
   "metadata": {},
   "source": [
    "BioVida: Domain Unification and Data Management\n",
    "=========================\n",
    "---"
   ]
  },
  {
   "cell_type": "markdown",
   "metadata": {},
   "source": [
    "This tutorial will cover the facilities BioVida offers to:\n",
    "\n",
    "* integrate images data against other kinds of biomedical data\n",
    "\n",
    "* manage cached resources."
   ]
  },
  {
   "cell_type": "markdown",
   "metadata": {},
   "source": [
    "---\n",
    "## Domain  Unification"
   ]
  },
  {
   "cell_type": "markdown",
   "metadata": {},
   "source": [
    "While primarily focused on image data, BioVida also contains interfaces to allow you to easily gain access to other biomedical data types. Namely, medical diagnostics and genomics data. This section will show how one, or several, image interfaces can be unified into a single DataFrame, complete with data from these additional sources."
   ]
  },
  {
   "cell_type": "markdown",
   "metadata": {},
   "source": [
    "We can start by collecting some data."
   ]
  },
  {
   "cell_type": "code",
   "execution_count": 1,
   "metadata": {},
   "outputs": [
    {
     "name": "stderr",
     "output_type": "stream",
     "text": [
      "Using Theano backend.\n"
     ]
    },
    {
     "name": "stdout",
     "output_type": "stream",
     "text": [
      "\n",
      "Results Found: 33,925.\n",
      "\n",
      "Number of Records to Download: 100 (chunk size: 30 records).\n"
     ]
    },
    {
     "data": {
      "application/vnd.jupyter.widget-view+json": {
       "model_id": "b4f3b78e86064d54a892031ab7ca403d"
      }
     },
     "metadata": {},
     "output_type": "display_data"
    },
    {
     "name": "stdout",
     "output_type": "stream",
     "text": [
      "\n"
     ]
    },
    {
     "data": {
      "application/vnd.jupyter.widget-view+json": {
       "model_id": "2962f8d77ef14131acdacf5bf36f7279"
      }
     },
     "metadata": {},
     "output_type": "display_data"
    },
    {
     "name": "stdout",
     "output_type": "stream",
     "text": [
      "\n"
     ]
    },
    {
     "data": {
      "application/vnd.jupyter.widget-view+json": {
       "model_id": "8e1514682b7d4eb08cc4ca2a82a8d9df"
      }
     },
     "metadata": {},
     "output_type": "display_data"
    },
    {
     "name": "stdout",
     "output_type": "stream",
     "text": [
      "\n"
     ]
    }
   ],
   "source": [
    "from biovida.images import OpeniInterface\n",
    "opi = OpeniInterface()\n",
    "opi.search(query='lung cancer')\n",
    "pull_df1 = opi.pull()"
   ]
  },
  {
   "cell_type": "markdown",
   "metadata": {},
   "source": [
    "Let's also get some data from the Cancer Imaging Archive."
   ]
  },
  {
   "cell_type": "code",
   "execution_count": 2,
   "metadata": {},
   "outputs": [
    {
     "data": {
      "application/vnd.jupyter.widget-view+json": {
       "model_id": "2d4c8e58a75b4814b5202c297af750d8"
      }
     },
     "metadata": {},
     "output_type": "display_data"
    },
    {
     "name": "stdout",
     "output_type": "stream",
     "text": [
      "\n"
     ]
    },
    {
     "data": {
      "application/vnd.jupyter.widget-view+json": {
       "model_id": "04d96678a1044413b4aee341fed2bfa3"
      }
     },
     "metadata": {},
     "output_type": "display_data"
    },
    {
     "name": "stdout",
     "output_type": "stream",
     "text": [
      "\n"
     ]
    }
   ],
   "source": [
    "from biovida.images import CancerImageInterface\n",
    "cii = CancerImageInterface(api_key=YOUR_API_KEY_HERE)\n",
    "cii.search(cancer_type='lung')\n",
    "pull_df2 = cii.pull(collections_limit=1)  # only download the first collection/study"
   ]
  },
  {
   "cell_type": "markdown",
   "metadata": {},
   "source": [
    "Next, we can import the tool we will be using to unify the data"
   ]
  },
  {
   "cell_type": "code",
   "execution_count": 3,
   "metadata": {
    "collapsed": true
   },
   "outputs": [],
   "source": [
    "from biovida.unification import unify_against_images"
   ]
  },
  {
   "cell_type": "code",
   "execution_count": 4,
   "metadata": {},
   "outputs": [
    {
     "data": {
      "application/vnd.jupyter.widget-view+json": {
       "model_id": "23bcfd66dabc4423818311d140d05d41"
      }
     },
     "metadata": {},
     "output_type": "display_data"
    },
    {
     "name": "stdout",
     "output_type": "stream",
     "text": [
      "\n"
     ]
    },
    {
     "data": {
      "application/vnd.jupyter.widget-view+json": {
       "model_id": "943ee231bd6b4ceab950588b470919fb"
      }
     },
     "metadata": {},
     "output_type": "display_data"
    },
    {
     "name": "stdout",
     "output_type": "stream",
     "text": [
      "\n"
     ]
    },
    {
     "data": {
      "application/vnd.jupyter.widget-view+json": {
       "model_id": "de28b9936bf446269d4d429b2348a1e1"
      }
     },
     "metadata": {},
     "output_type": "display_data"
    },
    {
     "name": "stdout",
     "output_type": "stream",
     "text": [
      "\n"
     ]
    },
    {
     "data": {
      "application/vnd.jupyter.widget-view+json": {
       "model_id": "3321ea790fdd43c98f8cfaf656b9f8e7"
      }
     },
     "metadata": {},
     "output_type": "display_data"
    },
    {
     "name": "stdout",
     "output_type": "stream",
     "text": [
      "\n"
     ]
    }
   ],
   "source": [
    "unified_df = unify_against_images(instances=[opi, cii])"
   ]
  },
  {
   "cell_type": "code",
   "execution_count": 5,
   "metadata": {
    "collapsed": true
   },
   "outputs": [],
   "source": [
    "import numpy as np\n",
    "def simplify_df(df):\n",
    "    \"\"\"This function simplifies dataframes\n",
    "    for the purposes of this tutorial.\"\"\"\n",
    "    data_frame = df.copy()\n",
    "    for c in ('source_images_path', 'cached_images_path'):\n",
    "        data_frame[c] = 'path_to_image'\n",
    "    return data_frame.replace({np.NaN: ''})"
   ]
  },
  {
   "cell_type": "markdown",
   "metadata": {},
   "source": [
    "To close out this section, we can take a quick look at the resultant DataFrame."
   ]
  },
  {
   "cell_type": "code",
   "execution_count": 6,
   "metadata": {},
   "outputs": [
    {
     "data": {
      "text/html": [
       "<div>\n",
       "<table border=\"1\" class=\"dataframe\">\n",
       "  <thead>\n",
       "    <tr style=\"text-align: right;\">\n",
       "      <th></th>\n",
       "      <th>age</th>\n",
       "      <th>article_type</th>\n",
       "      <th>cached_images_path</th>\n",
       "      <th>disease</th>\n",
       "      <th>image_caption</th>\n",
       "      <th>image_id</th>\n",
       "      <th>image_id_short</th>\n",
       "      <th>modality_best_guess</th>\n",
       "      <th>pull_time</th>\n",
       "      <th>query</th>\n",
       "      <th>sex</th>\n",
       "      <th>source_api</th>\n",
       "      <th>source_images_path</th>\n",
       "      <th>disease_family</th>\n",
       "      <th>disease_synonym</th>\n",
       "      <th>disease_definition</th>\n",
       "      <th>known_associated_symptoms</th>\n",
       "      <th>mentioned_symptoms</th>\n",
       "      <th>known_associated_genes</th>\n",
       "    </tr>\n",
       "  </thead>\n",
       "  <tbody>\n",
       "    <tr>\n",
       "      <th>85</th>\n",
       "      <td></td>\n",
       "      <td>research_article</td>\n",
       "      <td>path_to_image</td>\n",
       "      <td>lung cancer</td>\n",
       "      <td>(a) Heat Map representing the activated signal...</td>\n",
       "      <td></td>\n",
       "      <td>6</td>\n",
       "      <td>Computed Tomography (CT): chest</td>\n",
       "      <td>2017-04-07 23:45:41.069609</td>\n",
       "      <td>{'fields': None, 'article_type': None, 'image_...</td>\n",
       "      <td>male</td>\n",
       "      <td>openi</td>\n",
       "      <td>path_to_image</td>\n",
       "      <td>(respiratory system cancer,)</td>\n",
       "      <td>(lung neoplasm,)</td>\n",
       "      <td>A respiratory system cancer that is located in...</td>\n",
       "      <td>(abdominal obesity, abdominal pain, abnormal r...</td>\n",
       "      <td></td>\n",
       "      <td></td>\n",
       "    </tr>\n",
       "    <tr>\n",
       "      <th>86</th>\n",
       "      <td></td>\n",
       "      <td>research_article</td>\n",
       "      <td>path_to_image</td>\n",
       "      <td>lung cancer</td>\n",
       "      <td>Efficacy of LQ on tumor volume, tumor weight (...</td>\n",
       "      <td></td>\n",
       "      <td>4</td>\n",
       "      <td>Computed Tomography (CT): chest</td>\n",
       "      <td>2017-04-07 23:45:41.069609</td>\n",
       "      <td>{'fields': None, 'article_type': None, 'image_...</td>\n",
       "      <td>male</td>\n",
       "      <td>openi</td>\n",
       "      <td>path_to_image</td>\n",
       "      <td>(respiratory system cancer,)</td>\n",
       "      <td>(lung neoplasm,)</td>\n",
       "      <td>A respiratory system cancer that is located in...</td>\n",
       "      <td>(abdominal obesity, abdominal pain, abnormal r...</td>\n",
       "      <td>(weight loss,)</td>\n",
       "      <td></td>\n",
       "    </tr>\n",
       "    <tr>\n",
       "      <th>87</th>\n",
       "      <td></td>\n",
       "      <td>research_article</td>\n",
       "      <td>path_to_image</td>\n",
       "      <td>lung cancer</td>\n",
       "      <td>Survivin-VISA vector selectively expressed luc...</td>\n",
       "      <td></td>\n",
       "      <td>2</td>\n",
       "      <td>Computed Tomography (CT): chest</td>\n",
       "      <td>2017-04-07 23:45:41.069609</td>\n",
       "      <td>{'fields': None, 'article_type': None, 'image_...</td>\n",
       "      <td>male</td>\n",
       "      <td>openi</td>\n",
       "      <td>path_to_image</td>\n",
       "      <td>(respiratory system cancer,)</td>\n",
       "      <td>(lung neoplasm,)</td>\n",
       "      <td>A respiratory system cancer that is located in...</td>\n",
       "      <td>(abdominal obesity, abdominal pain, abnormal r...</td>\n",
       "      <td></td>\n",
       "      <td></td>\n",
       "    </tr>\n",
       "    <tr>\n",
       "      <th>88</th>\n",
       "      <td></td>\n",
       "      <td>research_article</td>\n",
       "      <td>path_to_image</td>\n",
       "      <td>lung cancer; ptosis</td>\n",
       "      <td>Methylation status of SOX30 in lung cancer cel...</td>\n",
       "      <td></td>\n",
       "      <td>1</td>\n",
       "      <td>Computed Tomography (CT): chest</td>\n",
       "      <td>2017-04-07 23:45:41.069609</td>\n",
       "      <td>{'fields': None, 'article_type': None, 'image_...</td>\n",
       "      <td>male</td>\n",
       "      <td>openi</td>\n",
       "      <td>path_to_image</td>\n",
       "      <td></td>\n",
       "      <td></td>\n",
       "      <td></td>\n",
       "      <td></td>\n",
       "      <td></td>\n",
       "      <td></td>\n",
       "    </tr>\n",
       "    <tr>\n",
       "      <th>89</th>\n",
       "      <td></td>\n",
       "      <td>research_article</td>\n",
       "      <td>path_to_image</td>\n",
       "      <td>large cell carcinoma; lung adenocarcinoma; lun...</td>\n",
       "      <td>CD56+CD16+ NK cell infiltration extent in diff...</td>\n",
       "      <td></td>\n",
       "      <td>2</td>\n",
       "      <td>Computed Tomography (CT): chest</td>\n",
       "      <td>2017-04-07 23:45:41.069609</td>\n",
       "      <td>{'fields': None, 'article_type': None, 'image_...</td>\n",
       "      <td>male</td>\n",
       "      <td>openi</td>\n",
       "      <td>path_to_image</td>\n",
       "      <td></td>\n",
       "      <td></td>\n",
       "      <td></td>\n",
       "      <td></td>\n",
       "      <td></td>\n",
       "      <td></td>\n",
       "    </tr>\n",
       "  </tbody>\n",
       "</table>\n",
       "</div>"
      ],
      "text/plain": [
       "   age      article_type cached_images_path  \\\n",
       "85      research_article      path_to_image   \n",
       "86      research_article      path_to_image   \n",
       "87      research_article      path_to_image   \n",
       "88      research_article      path_to_image   \n",
       "89      research_article      path_to_image   \n",
       "\n",
       "                                              disease  \\\n",
       "85                                        lung cancer   \n",
       "86                                        lung cancer   \n",
       "87                                        lung cancer   \n",
       "88                                lung cancer; ptosis   \n",
       "89  large cell carcinoma; lung adenocarcinoma; lun...   \n",
       "\n",
       "                                        image_caption image_id image_id_short  \\\n",
       "85  (a) Heat Map representing the activated signal...                       6   \n",
       "86  Efficacy of LQ on tumor volume, tumor weight (...                       4   \n",
       "87  Survivin-VISA vector selectively expressed luc...                       2   \n",
       "88  Methylation status of SOX30 in lung cancer cel...                       1   \n",
       "89  CD56+CD16+ NK cell infiltration extent in diff...                       2   \n",
       "\n",
       "                modality_best_guess                  pull_time  \\\n",
       "85  Computed Tomography (CT): chest 2017-04-07 23:45:41.069609   \n",
       "86  Computed Tomography (CT): chest 2017-04-07 23:45:41.069609   \n",
       "87  Computed Tomography (CT): chest 2017-04-07 23:45:41.069609   \n",
       "88  Computed Tomography (CT): chest 2017-04-07 23:45:41.069609   \n",
       "89  Computed Tomography (CT): chest 2017-04-07 23:45:41.069609   \n",
       "\n",
       "                                                query   sex source_api  \\\n",
       "85  {'fields': None, 'article_type': None, 'image_...  male      openi   \n",
       "86  {'fields': None, 'article_type': None, 'image_...  male      openi   \n",
       "87  {'fields': None, 'article_type': None, 'image_...  male      openi   \n",
       "88  {'fields': None, 'article_type': None, 'image_...  male      openi   \n",
       "89  {'fields': None, 'article_type': None, 'image_...  male      openi   \n",
       "\n",
       "   source_images_path                disease_family   disease_synonym  \\\n",
       "85      path_to_image  (respiratory system cancer,)  (lung neoplasm,)   \n",
       "86      path_to_image  (respiratory system cancer,)  (lung neoplasm,)   \n",
       "87      path_to_image  (respiratory system cancer,)  (lung neoplasm,)   \n",
       "88      path_to_image                                                   \n",
       "89      path_to_image                                                   \n",
       "\n",
       "                                   disease_definition  \\\n",
       "85  A respiratory system cancer that is located in...   \n",
       "86  A respiratory system cancer that is located in...   \n",
       "87  A respiratory system cancer that is located in...   \n",
       "88                                                      \n",
       "89                                                      \n",
       "\n",
       "                            known_associated_symptoms mentioned_symptoms  \\\n",
       "85  (abdominal obesity, abdominal pain, abnormal r...                      \n",
       "86  (abdominal obesity, abdominal pain, abnormal r...     (weight loss,)   \n",
       "87  (abdominal obesity, abdominal pain, abnormal r...                      \n",
       "88                                                                         \n",
       "89                                                                         \n",
       "\n",
       "   known_associated_genes  \n",
       "85                         \n",
       "86                         \n",
       "87                         \n",
       "88                         \n",
       "89                         "
      ]
     },
     "execution_count": 6,
     "metadata": {},
     "output_type": "execute_result"
    }
   ],
   "source": [
    "simplify_df(unified_df)[85:90]"
   ]
  },
  {
   "cell_type": "markdown",
   "metadata": {},
   "source": [
    "Note: the ``'mentioned_symptoms'`` column provides a list of symptoms known to be associated with the disease which were mentioned in the article."
   ]
  },
  {
   "cell_type": "markdown",
   "metadata": {},
   "source": [
    "---\n",
    "## Data Management"
   ]
  },
  {
   "cell_type": "markdown",
   "metadata": {},
   "source": [
    "This section is intended to provide a brief overview of the ways in which data downloaded with BioVida can be removed from your computer. "
   ]
  },
  {
   "cell_type": "markdown",
   "metadata": {},
   "source": [
    "**1.** The simplest way by far is manually delete the ``biovida_cache`` folder, or some portion of files (e.g., images) contained within in. Both ``OpeniInterfaces`` and ``CancerImageInterface`` check for deleted files each time they are instantiated. <br>"
   ]
  },
  {
   "cell_type": "markdown",
   "metadata": {},
   "source": [
    "**2.** While the first approach is straightforward, it is neither elegant nor precise. In those situations that require more finesse, we can employ the ``image_delete`` tool."
   ]
  },
  {
   "cell_type": "code",
   "execution_count": 7,
   "metadata": {
    "collapsed": true
   },
   "outputs": [],
   "source": [
    "from biovida.images import image_delete"
   ]
  },
  {
   "cell_type": "markdown",
   "metadata": {},
   "source": [
    "Next, we simply define a which will inform ``image_delete`` of which rows to delete."
   ]
  },
  {
   "cell_type": "code",
   "execution_count": 8,
   "metadata": {
    "collapsed": true
   },
   "outputs": [],
   "source": [
    "def my_delete_rule(row):\n",
    "    if isinstance(row['abstract'], str) and 'proteins' in row['abstract'].lower():\n",
    "        return True"
   ]
  },
  {
   "cell_type": "markdown",
   "metadata": {},
   "source": [
    "In this example, we'll use the instance of ``OpeniInterface`` created above."
   ]
  },
  {
   "cell_type": "code",
   "execution_count": 9,
   "metadata": {},
   "outputs": [
    {
     "name": "stdout",
     "output_type": "stream",
     "text": [
      "This action cannot be undone.\n",
      "Do you wish to continue (y/n)?y\n",
      "\n",
      "Deleting...\n",
      "\n",
      "Indices of Deleted Rows:\n",
      "\n"
     ]
    },
    {
     "data": {
      "text/html": [
       "<div>\n",
       "<table border=\"1\" class=\"dataframe\">\n",
       "  <thead>\n",
       "    <tr style=\"text-align: right;\">\n",
       "      <th></th>\n",
       "      <th>records_db</th>\n",
       "      <th>cache_records_db</th>\n",
       "    </tr>\n",
       "  </thead>\n",
       "  <tbody>\n",
       "    <tr>\n",
       "      <th>0</th>\n",
       "      <td>88</td>\n",
       "      <td>9047</td>\n",
       "    </tr>\n",
       "    <tr>\n",
       "      <th>1</th>\n",
       "      <td>89</td>\n",
       "      <td>9048</td>\n",
       "    </tr>\n",
       "    <tr>\n",
       "      <th>2</th>\n",
       "      <td>90</td>\n",
       "      <td>9049</td>\n",
       "    </tr>\n",
       "    <tr>\n",
       "      <th>3</th>\n",
       "      <td>91</td>\n",
       "      <td>9050</td>\n",
       "    </tr>\n",
       "    <tr>\n",
       "      <th>4</th>\n",
       "      <td>92</td>\n",
       "      <td>9051</td>\n",
       "    </tr>\n",
       "    <tr>\n",
       "      <th>5</th>\n",
       "      <td>93</td>\n",
       "      <td>9052</td>\n",
       "    </tr>\n",
       "    <tr>\n",
       "      <th>6</th>\n",
       "      <td>94</td>\n",
       "      <td>9053</td>\n",
       "    </tr>\n",
       "    <tr>\n",
       "      <th>7</th>\n",
       "      <td>95</td>\n",
       "      <td>9054</td>\n",
       "    </tr>\n",
       "    <tr>\n",
       "      <th>8</th>\n",
       "      <td>96</td>\n",
       "      <td>9055</td>\n",
       "    </tr>\n",
       "    <tr>\n",
       "      <th>9</th>\n",
       "      <td>97</td>\n",
       "      <td>9056</td>\n",
       "    </tr>\n",
       "    <tr>\n",
       "      <th>10</th>\n",
       "      <td>98</td>\n",
       "      <td>9057</td>\n",
       "    </tr>\n",
       "    <tr>\n",
       "      <th>11</th>\n",
       "      <td>99</td>\n",
       "      <td>9058</td>\n",
       "    </tr>\n",
       "  </tbody>\n",
       "</table>\n",
       "</div>"
      ],
      "text/plain": [
       "    records_db  cache_records_db\n",
       "0           88              9047\n",
       "1           89              9048\n",
       "2           90              9049\n",
       "3           91              9050\n",
       "4           92              9051\n",
       "5           93              9052\n",
       "6           94              9053\n",
       "7           95              9054\n",
       "8           96              9055\n",
       "9           97              9056\n",
       "10          98              9057\n",
       "11          99              9058"
      ]
     },
     "metadata": {},
     "output_type": "display_data"
    }
   ],
   "source": [
    "deleted_rows = image_delete(opi, delete_rule=my_delete_rule)"
   ]
  },
  {
   "cell_type": "markdown",
   "metadata": {},
   "source": [
    "This will not only delete the row, but *any* images associated with it. Therefore, as a precaution, you will be asked to confirm this action before it is performed."
   ]
  },
  {
   "cell_type": "markdown",
   "metadata": {},
   "source": [
    "**Warning**: <br>\n",
    "\n",
    "The ``image_delete`` function will delete *any* rows for which your 'delete_rule' returns ``True``, including those in ``cache_records_db`` which were not downloaded in the most recent ``pull()``. To limit deletion to data obtained in the most recent data pull, the ``only_recent`` parameter of ``image_delete`` can be set to ``True``."
   ]
  },
  {
   "cell_type": "markdown",
   "metadata": {},
   "source": [
    "---\n",
    "\n",
    "## Conclusion"
   ]
  },
  {
   "cell_type": "markdown",
   "metadata": {},
   "source": [
    "In this tutorial we have reviewed how to unify images obtained with BioVida both with eachother as well as against external biomedial databases. Additionally, we have explored methods for deleting downloaded data."
   ]
  },
  {
   "cell_type": "markdown",
   "metadata": {},
   "source": [
    "---"
   ]
  }
 ],
 "metadata": {
  "kernelspec": {
   "display_name": "Python 3",
   "language": "python",
   "name": "python3"
  },
  "language_info": {
   "codemirror_mode": {
    "name": "ipython",
    "version": 3
   },
   "file_extension": ".py",
   "mimetype": "text/x-python",
   "name": "python",
   "nbconvert_exporter": "python",
   "pygments_lexer": "ipython3",
   "version": "3.5.2"
  },
  "widgets": {
   "application/vnd.jupyter.widget-state+json": {
    "state": {
     "03d96d59d10d4ee09b87e3558307834f": {
      "model_module": "jupyter-js-widgets",
      "model_module_version": "~2.1.4",
      "model_name": "LayoutModel",
      "state": {
       "_model_module_version": "~2.1.4",
       "_view_module_version": "~2.1.4"
      }
     },
     "040ed3a36c88486dbaa4148e4bb1a5c4": {
      "model_module": "jupyter-js-widgets",
      "model_module_version": "~2.1.4",
      "model_name": "ProgressModel",
      "state": {
       "_model_module_version": "~2.1.4",
       "_view_module_version": "~2.1.4",
       "bar_style": "success",
       "description": "Obtaining Records: ",
       "layout": "IPY_MODEL_8fc2d8649ed04717b6e32b809e8f2315",
       "max": 4,
       "style": "IPY_MODEL_dc7f0065eb39434fa9f30a9c17cf6f02",
       "value": 4
      }
     },
     "04d96678a1044413b4aee341fed2bfa3": {
      "model_module": "jupyter-js-widgets",
      "model_module_version": "~2.1.4",
      "model_name": "HBoxModel",
      "state": {
       "_model_module_version": "~2.1.4",
       "_view_module_version": "~2.1.4",
       "children": [
        "IPY_MODEL_ca90fdd0815a4e36aafc025e74bd88c2",
        "IPY_MODEL_cb91e779e0e541b39360e98d26bb14c6"
       ],
       "layout": "IPY_MODEL_c9b528f3b86c4d9aab0ab8f010097819"
      }
     },
     "0e980ec5fe1443a0b5c918c7ca0d7f07": {
      "model_module": "jupyter-js-widgets",
      "model_module_version": "~2.1.4",
      "model_name": "HTMLModel",
      "state": {
       "_model_module_version": "~2.1.4",
       "_view_module_version": "~2.1.4",
       "layout": "IPY_MODEL_c9fe044231f34d86847246d2ac643286",
       "value": "100% 100/100 [00:03&lt;00:00, 27.84it/s]"
      }
     },
     "1ef468a903df4910b4054f61262e6014": {
      "model_module": "jupyter-js-widgets",
      "model_module_version": "~2.1.4",
      "model_name": "LayoutModel",
      "state": {
       "_model_module_version": "~2.1.4",
       "_view_module_version": "~2.1.4"
      }
     },
     "23bcfd66dabc4423818311d140d05d41": {
      "model_module": "jupyter-js-widgets",
      "model_module_version": "~2.1.4",
      "model_name": "HBoxModel",
      "state": {
       "_model_module_version": "~2.1.4",
       "_view_module_version": "~2.1.4",
       "children": [
        "IPY_MODEL_fb870fceeccd4914b610efb07a82ac41",
        "IPY_MODEL_342e56b6a7cc4d1e8074f8a4cf54eff6"
       ],
       "layout": "IPY_MODEL_7ba992ec02d345799451aa74e44b95bf"
      }
     },
     "267deb17d6a643d7958a30d909f80ebf": {
      "model_module": "jupyter-js-widgets",
      "model_module_version": "~2.1.4",
      "model_name": "LayoutModel",
      "state": {
       "_model_module_version": "~2.1.4",
       "_view_module_version": "~2.1.4"
      }
     },
     "2962f8d77ef14131acdacf5bf36f7279": {
      "model_module": "jupyter-js-widgets",
      "model_module_version": "~2.1.4",
      "model_name": "HBoxModel",
      "state": {
       "_model_module_version": "~2.1.4",
       "_view_module_version": "~2.1.4",
       "children": [
        "IPY_MODEL_29e3b75cc9c44162a2865c5108b05d69",
        "IPY_MODEL_0e980ec5fe1443a0b5c918c7ca0d7f07"
       ],
       "layout": "IPY_MODEL_1ef468a903df4910b4054f61262e6014"
      }
     },
     "29e3b75cc9c44162a2865c5108b05d69": {
      "model_module": "jupyter-js-widgets",
      "model_module_version": "~2.1.4",
      "model_name": "ProgressModel",
      "state": {
       "_model_module_version": "~2.1.4",
       "_view_module_version": "~2.1.4",
       "bar_style": "success",
       "description": "Processing Records: ",
       "layout": "IPY_MODEL_3989b0d31d834f26961a7fbdf23464b6",
       "style": "IPY_MODEL_3e6b56130c0c4d4da6e164a186c69f0d",
       "value": 100
      }
     },
     "2d4c8e58a75b4814b5202c297af750d8": {
      "model_module": "jupyter-js-widgets",
      "model_module_version": "~2.1.4",
      "model_name": "HBoxModel",
      "state": {
       "_model_module_version": "~2.1.4",
       "_view_module_version": "~2.1.4",
       "children": [
        "IPY_MODEL_f7565bb4554c4975bfd2fe113e1fd7cf",
        "IPY_MODEL_db98918e28bd48d0ba061f04d53a988e"
       ],
       "layout": "IPY_MODEL_c5c4316582ec43f49463f3b52c1ad6da"
      }
     },
     "2e950cb88abc47d6a1887889c4c5a8b0": {
      "model_module": "jupyter-js-widgets",
      "model_module_version": "~2.1.4",
      "model_name": "LayoutModel",
      "state": {
       "_model_module_version": "~2.1.4",
       "_view_module_version": "~2.1.4"
      }
     },
     "3321ea790fdd43c98f8cfaf656b9f8e7": {
      "model_module": "jupyter-js-widgets",
      "model_module_version": "~2.1.4",
      "model_name": "HBoxModel",
      "state": {
       "_model_module_version": "~2.1.4",
       "_view_module_version": "~2.1.4",
       "children": [
        "IPY_MODEL_d487ed5542314c1080236ac079acf4a9",
        "IPY_MODEL_c823643a48c44bcaad495d4b4f3ca118"
       ],
       "layout": "IPY_MODEL_8fb385d4f94d4d2cba70357a6f5f63f1"
      }
     },
     "342e56b6a7cc4d1e8074f8a4cf54eff6": {
      "model_module": "jupyter-js-widgets",
      "model_module_version": "~2.1.4",
      "model_name": "HTMLModel",
      "state": {
       "_model_module_version": "~2.1.4",
       "_view_module_version": "~2.1.4",
       "layout": "IPY_MODEL_3b4004df33ee410a89727119152bea20",
       "value": "100% 111/111 [00:00&lt;00:00, 4606.02it/s]"
      }
     },
     "34a5904344ad4a9da1b27855103e8ba0": {
      "model_module": "jupyter-js-widgets",
      "model_module_version": "~2.1.4",
      "model_name": "HTMLModel",
      "state": {
       "_model_module_version": "~2.1.4",
       "_view_module_version": "~2.1.4",
       "layout": "IPY_MODEL_5c01d00adbd142c982447582aab3dd4a",
       "value": "100% 111/111 [00:00&lt;00:00, 1849.38it/s]"
      }
     },
     "3989b0d31d834f26961a7fbdf23464b6": {
      "model_module": "jupyter-js-widgets",
      "model_module_version": "~2.1.4",
      "model_name": "LayoutModel",
      "state": {
       "_model_module_version": "~2.1.4",
       "_view_module_version": "~2.1.4"
      }
     },
     "3b4004df33ee410a89727119152bea20": {
      "model_module": "jupyter-js-widgets",
      "model_module_version": "~2.1.4",
      "model_name": "LayoutModel",
      "state": {
       "_model_module_version": "~2.1.4",
       "_view_module_version": "~2.1.4"
      }
     },
     "3e6b56130c0c4d4da6e164a186c69f0d": {
      "model_module": "jupyter-js-widgets",
      "model_module_version": "~2.1.4",
      "model_name": "ProgressStyleModel",
      "state": {
       "_model_module_version": "~2.1.4",
       "_view_module_version": "~2.1.4"
      }
     },
     "4162ee927b4b41eabcecabd18180878e": {
      "model_module": "jupyter-js-widgets",
      "model_module_version": "~2.1.4",
      "model_name": "ProgressStyleModel",
      "state": {
       "_model_module_version": "~2.1.4",
       "_view_module_version": "~2.1.4"
      }
     },
     "471e2412d3054e83b02594c34b09155f": {
      "model_module": "jupyter-js-widgets",
      "model_module_version": "~2.1.4",
      "model_name": "ProgressModel",
      "state": {
       "_model_module_version": "~2.1.4",
       "_view_module_version": "~2.1.4",
       "bar_style": "success",
       "description": "Obtaining Images: ",
       "layout": "IPY_MODEL_aa0b8b1b5d8f436ea01470f4ee412bef",
       "style": "IPY_MODEL_f2417eff1a504cadab0367ac52f7bc82",
       "value": 100
      }
     },
     "47da413a7dd74d659800b054b6733fd8": {
      "model_module": "jupyter-js-widgets",
      "model_module_version": "~2.1.4",
      "model_name": "LayoutModel",
      "state": {
       "_model_module_version": "~2.1.4",
       "_view_module_version": "~2.1.4"
      }
     },
     "4d12806c48684dacb2dfcb9171db51c1": {
      "model_module": "jupyter-js-widgets",
      "model_module_version": "~2.1.4",
      "model_name": "LayoutModel",
      "state": {
       "_model_module_version": "~2.1.4",
       "_view_module_version": "~2.1.4"
      }
     },
     "5af70f77cf604c0a9e87d5f1cd7d2813": {
      "model_module": "jupyter-js-widgets",
      "model_module_version": "~2.1.4",
      "model_name": "LayoutModel",
      "state": {
       "_model_module_version": "~2.1.4",
       "_view_module_version": "~2.1.4"
      }
     },
     "5c01d00adbd142c982447582aab3dd4a": {
      "model_module": "jupyter-js-widgets",
      "model_module_version": "~2.1.4",
      "model_name": "LayoutModel",
      "state": {
       "_model_module_version": "~2.1.4",
       "_view_module_version": "~2.1.4"
      }
     },
     "5c34e050f3114702a4e82da9d3f55372": {
      "model_module": "jupyter-js-widgets",
      "model_module_version": "~2.1.4",
      "model_name": "LayoutModel",
      "state": {
       "_model_module_version": "~2.1.4",
       "_view_module_version": "~2.1.4"
      }
     },
     "62cc71c53f394c75bf84297aa5ca4ff0": {
      "model_module": "jupyter-js-widgets",
      "model_module_version": "~2.1.4",
      "model_name": "LayoutModel",
      "state": {
       "_model_module_version": "~2.1.4",
       "_view_module_version": "~2.1.4"
      }
     },
     "6b18ef65edff41b19ffa37c673ea27ec": {
      "model_module": "jupyter-js-widgets",
      "model_module_version": "~2.1.4",
      "model_name": "LayoutModel",
      "state": {
       "_model_module_version": "~2.1.4",
       "_view_module_version": "~2.1.4"
      }
     },
     "7ba992ec02d345799451aa74e44b95bf": {
      "model_module": "jupyter-js-widgets",
      "model_module_version": "~2.1.4",
      "model_name": "LayoutModel",
      "state": {
       "_model_module_version": "~2.1.4",
       "_view_module_version": "~2.1.4"
      }
     },
     "8be9251df05c4289974e3e1ccc577b0d": {
      "model_module": "jupyter-js-widgets",
      "model_module_version": "~2.1.4",
      "model_name": "HTMLModel",
      "state": {
       "_model_module_version": "~2.1.4",
       "_view_module_version": "~2.1.4",
       "layout": "IPY_MODEL_c26d8d09419c4a4281735ab271ee4316",
       "value": "100% 111/111 [00:00&lt;00:00, 2158.90it/s]"
      }
     },
     "8e1514682b7d4eb08cc4ca2a82a8d9df": {
      "model_module": "jupyter-js-widgets",
      "model_module_version": "~2.1.4",
      "model_name": "HBoxModel",
      "state": {
       "_model_module_version": "~2.1.4",
       "_view_module_version": "~2.1.4",
       "children": [
        "IPY_MODEL_471e2412d3054e83b02594c34b09155f",
        "IPY_MODEL_e3e3a116192b4095ab7150a4e68080dc"
       ],
       "layout": "IPY_MODEL_267deb17d6a643d7958a30d909f80ebf"
      }
     },
     "8fb385d4f94d4d2cba70357a6f5f63f1": {
      "model_module": "jupyter-js-widgets",
      "model_module_version": "~2.1.4",
      "model_name": "LayoutModel",
      "state": {
       "_model_module_version": "~2.1.4",
       "_view_module_version": "~2.1.4"
      }
     },
     "8fc2d8649ed04717b6e32b809e8f2315": {
      "model_module": "jupyter-js-widgets",
      "model_module_version": "~2.1.4",
      "model_name": "LayoutModel",
      "state": {
       "_model_module_version": "~2.1.4",
       "_view_module_version": "~2.1.4"
      }
     },
     "8ffa3e651fc64826ab86daadec093d66": {
      "model_module": "jupyter-js-widgets",
      "model_module_version": "~2.1.4",
      "model_name": "ProgressStyleModel",
      "state": {
       "_model_module_version": "~2.1.4",
       "_view_module_version": "~2.1.4"
      }
     },
     "943ee231bd6b4ceab950588b470919fb": {
      "model_module": "jupyter-js-widgets",
      "model_module_version": "~2.1.4",
      "model_name": "HBoxModel",
      "state": {
       "_model_module_version": "~2.1.4",
       "_view_module_version": "~2.1.4",
       "children": [
        "IPY_MODEL_ba5dc09c4446453b8120edb9891b6f05",
        "IPY_MODEL_8be9251df05c4289974e3e1ccc577b0d"
       ],
       "layout": "IPY_MODEL_a1bada1213bd4e1a973da4a47e80f1ee"
      }
     },
     "9534f04e83d3424580676ee96530178f": {
      "model_module": "jupyter-js-widgets",
      "model_module_version": "~2.1.4",
      "model_name": "ProgressStyleModel",
      "state": {
       "_model_module_version": "~2.1.4",
       "_view_module_version": "~2.1.4"
      }
     },
     "9b229a5533f14513a8f6ef77b71c17d0": {
      "model_module": "jupyter-js-widgets",
      "model_module_version": "~2.1.4",
      "model_name": "LayoutModel",
      "state": {
       "_model_module_version": "~2.1.4",
       "_view_module_version": "~2.1.4"
      }
     },
     "a1bada1213bd4e1a973da4a47e80f1ee": {
      "model_module": "jupyter-js-widgets",
      "model_module_version": "~2.1.4",
      "model_name": "LayoutModel",
      "state": {
       "_model_module_version": "~2.1.4",
       "_view_module_version": "~2.1.4"
      }
     },
     "aa0b8b1b5d8f436ea01470f4ee412bef": {
      "model_module": "jupyter-js-widgets",
      "model_module_version": "~2.1.4",
      "model_name": "LayoutModel",
      "state": {
       "_model_module_version": "~2.1.4",
       "_view_module_version": "~2.1.4"
      }
     },
     "ac9ef0b17a084230ac2f84651c912de8": {
      "model_module": "jupyter-js-widgets",
      "model_module_version": "~2.1.4",
      "model_name": "ProgressStyleModel",
      "state": {
       "_model_module_version": "~2.1.4",
       "_view_module_version": "~2.1.4"
      }
     },
     "ae5508b41b064bc481432d756318bd85": {
      "model_module": "jupyter-js-widgets",
      "model_module_version": "~2.1.4",
      "model_name": "LayoutModel",
      "state": {
       "_model_module_version": "~2.1.4",
       "_view_module_version": "~2.1.4"
      }
     },
     "b4f3b78e86064d54a892031ab7ca403d": {
      "model_module": "jupyter-js-widgets",
      "model_module_version": "~2.1.4",
      "model_name": "HBoxModel",
      "state": {
       "_model_module_version": "~2.1.4",
       "_view_module_version": "~2.1.4",
       "children": [
        "IPY_MODEL_040ed3a36c88486dbaa4148e4bb1a5c4",
        "IPY_MODEL_cfdc5a9c873c441e87a653ed98e0321c"
       ],
       "layout": "IPY_MODEL_5c34e050f3114702a4e82da9d3f55372"
      }
     },
     "b62acda160204545b8319315c8dfe001": {
      "model_module": "jupyter-js-widgets",
      "model_module_version": "~2.1.4",
      "model_name": "LayoutModel",
      "state": {
       "_model_module_version": "~2.1.4",
       "_view_module_version": "~2.1.4"
      }
     },
     "ba5dc09c4446453b8120edb9891b6f05": {
      "model_module": "jupyter-js-widgets",
      "model_module_version": "~2.1.4",
      "model_name": "ProgressModel",
      "state": {
       "_model_module_version": "~2.1.4",
       "_view_module_version": "~2.1.4",
       "bar_style": "success",
       "description": "Symptoms: ",
       "layout": "IPY_MODEL_fa6fcd2751324281ac2106bc98a438fc",
       "max": 111,
       "style": "IPY_MODEL_fe8e67bc22bd455ea6fd36f407cf55e4",
       "value": 111
      }
     },
     "bb15e3bf456d4ea39e7f2788a243f045": {
      "model_module": "jupyter-js-widgets",
      "model_module_version": "~2.1.4",
      "model_name": "LayoutModel",
      "state": {
       "_model_module_version": "~2.1.4",
       "_view_module_version": "~2.1.4"
      }
     },
     "c26d8d09419c4a4281735ab271ee4316": {
      "model_module": "jupyter-js-widgets",
      "model_module_version": "~2.1.4",
      "model_name": "LayoutModel",
      "state": {
       "_model_module_version": "~2.1.4",
       "_view_module_version": "~2.1.4"
      }
     },
     "c5c4316582ec43f49463f3b52c1ad6da": {
      "model_module": "jupyter-js-widgets",
      "model_module_version": "~2.1.4",
      "model_name": "LayoutModel",
      "state": {
       "_model_module_version": "~2.1.4",
       "_view_module_version": "~2.1.4"
      }
     },
     "c823643a48c44bcaad495d4b4f3ca118": {
      "model_module": "jupyter-js-widgets",
      "model_module_version": "~2.1.4",
      "model_name": "HTMLModel",
      "state": {
       "_model_module_version": "~2.1.4",
       "_view_module_version": "~2.1.4",
       "layout": "IPY_MODEL_2e950cb88abc47d6a1887889c4c5a8b0",
       "value": "100% 111/111 [00:00&lt;00:00, 1248.41it/s]"
      }
     },
     "c9b528f3b86c4d9aab0ab8f010097819": {
      "model_module": "jupyter-js-widgets",
      "model_module_version": "~2.1.4",
      "model_name": "LayoutModel",
      "state": {
       "_model_module_version": "~2.1.4",
       "_view_module_version": "~2.1.4"
      }
     },
     "c9fe044231f34d86847246d2ac643286": {
      "model_module": "jupyter-js-widgets",
      "model_module_version": "~2.1.4",
      "model_name": "LayoutModel",
      "state": {
       "_model_module_version": "~2.1.4",
       "_view_module_version": "~2.1.4"
      }
     },
     "ca90fdd0815a4e36aafc025e74bd88c2": {
      "model_module": "jupyter-js-widgets",
      "model_module_version": "~2.1.4",
      "model_name": "ProgressModel",
      "state": {
       "_model_module_version": "~2.1.4",
       "_view_module_version": "~2.1.4",
       "bar_style": "success",
       "description": "Obtaining Images: ",
       "layout": "IPY_MODEL_47da413a7dd74d659800b054b6733fd8",
       "max": 11,
       "style": "IPY_MODEL_cf6a7d33ffd94b609bbe2f55d6f1c8a4",
       "value": 11
      }
     },
     "cb91e779e0e541b39360e98d26bb14c6": {
      "model_module": "jupyter-js-widgets",
      "model_module_version": "~2.1.4",
      "model_name": "HTMLModel",
      "state": {
       "_model_module_version": "~2.1.4",
       "_view_module_version": "~2.1.4",
       "layout": "IPY_MODEL_5af70f77cf604c0a9e87d5f1cd7d2813",
       "value": "100% 11/11 [00:00&lt;00:00, 79.04it/s]"
      }
     },
     "cf6a7d33ffd94b609bbe2f55d6f1c8a4": {
      "model_module": "jupyter-js-widgets",
      "model_module_version": "~2.1.4",
      "model_name": "ProgressStyleModel",
      "state": {
       "_model_module_version": "~2.1.4",
       "_view_module_version": "~2.1.4"
      }
     },
     "cfdc5a9c873c441e87a653ed98e0321c": {
      "model_module": "jupyter-js-widgets",
      "model_module_version": "~2.1.4",
      "model_name": "HTMLModel",
      "state": {
       "_model_module_version": "~2.1.4",
       "_view_module_version": "~2.1.4",
       "layout": "IPY_MODEL_03d96d59d10d4ee09b87e3558307834f",
       "value": "100% 4/4 [00:04&lt;00:00,  1.19s/it]"
      }
     },
     "d487ed5542314c1080236ac079acf4a9": {
      "model_module": "jupyter-js-widgets",
      "model_module_version": "~2.1.4",
      "model_name": "ProgressModel",
      "state": {
       "_model_module_version": "~2.1.4",
       "_view_module_version": "~2.1.4",
       "bar_style": "success",
       "description": "Genomic: ",
       "layout": "IPY_MODEL_4d12806c48684dacb2dfcb9171db51c1",
       "max": 111,
       "style": "IPY_MODEL_8ffa3e651fc64826ab86daadec093d66",
       "value": 111
      }
     },
     "d680011ebbad4b63bd45cdf05af9d722": {
      "model_module": "jupyter-js-widgets",
      "model_module_version": "~2.1.4",
      "model_name": "ProgressModel",
      "state": {
       "_model_module_version": "~2.1.4",
       "_view_module_version": "~2.1.4",
       "bar_style": "success",
       "description": "Matching Symptoms: ",
       "layout": "IPY_MODEL_62cc71c53f394c75bf84297aa5ca4ff0",
       "max": 111,
       "style": "IPY_MODEL_9534f04e83d3424580676ee96530178f",
       "value": 111
      }
     },
     "db98918e28bd48d0ba061f04d53a988e": {
      "model_module": "jupyter-js-widgets",
      "model_module_version": "~2.1.4",
      "model_name": "HTMLModel",
      "state": {
       "_model_module_version": "~2.1.4",
       "_view_module_version": "~2.1.4",
       "layout": "IPY_MODEL_ae5508b41b064bc481432d756318bd85",
       "value": "100% 3/3 [00:26&lt;00:00,  8.83s/it]"
      }
     },
     "dc7f0065eb39434fa9f30a9c17cf6f02": {
      "model_module": "jupyter-js-widgets",
      "model_module_version": "~2.1.4",
      "model_name": "ProgressStyleModel",
      "state": {
       "_model_module_version": "~2.1.4",
       "_view_module_version": "~2.1.4"
      }
     },
     "de28b9936bf446269d4d429b2348a1e1": {
      "model_module": "jupyter-js-widgets",
      "model_module_version": "~2.1.4",
      "model_name": "HBoxModel",
      "state": {
       "_model_module_version": "~2.1.4",
       "_view_module_version": "~2.1.4",
       "children": [
        "IPY_MODEL_d680011ebbad4b63bd45cdf05af9d722",
        "IPY_MODEL_34a5904344ad4a9da1b27855103e8ba0"
       ],
       "layout": "IPY_MODEL_9b229a5533f14513a8f6ef77b71c17d0"
      }
     },
     "e3e3a116192b4095ab7150a4e68080dc": {
      "model_module": "jupyter-js-widgets",
      "model_module_version": "~2.1.4",
      "model_name": "HTMLModel",
      "state": {
       "_model_module_version": "~2.1.4",
       "_view_module_version": "~2.1.4",
       "layout": "IPY_MODEL_b62acda160204545b8319315c8dfe001",
       "value": "100% 100/100 [00:09&lt;00:00,  5.80it/s]"
      }
     },
     "f2417eff1a504cadab0367ac52f7bc82": {
      "model_module": "jupyter-js-widgets",
      "model_module_version": "~2.1.4",
      "model_name": "ProgressStyleModel",
      "state": {
       "_model_module_version": "~2.1.4",
       "_view_module_version": "~2.1.4"
      }
     },
     "f7565bb4554c4975bfd2fe113e1fd7cf": {
      "model_module": "jupyter-js-widgets",
      "model_module_version": "~2.1.4",
      "model_name": "ProgressModel",
      "state": {
       "_model_module_version": "~2.1.4",
       "_view_module_version": "~2.1.4",
       "bar_style": "success",
       "description": "'TCGA-LUSC' Records: ",
       "layout": "IPY_MODEL_6b18ef65edff41b19ffa37c673ea27ec",
       "max": 3,
       "style": "IPY_MODEL_4162ee927b4b41eabcecabd18180878e",
       "value": 3
      }
     },
     "fa6fcd2751324281ac2106bc98a438fc": {
      "model_module": "jupyter-js-widgets",
      "model_module_version": "~2.1.4",
      "model_name": "LayoutModel",
      "state": {
       "_model_module_version": "~2.1.4",
       "_view_module_version": "~2.1.4"
      }
     },
     "fb870fceeccd4914b610efb07a82ac41": {
      "model_module": "jupyter-js-widgets",
      "model_module_version": "~2.1.4",
      "model_name": "ProgressModel",
      "state": {
       "_model_module_version": "~2.1.4",
       "_view_module_version": "~2.1.4",
       "bar_style": "success",
       "description": "Disease Data: ",
       "layout": "IPY_MODEL_bb15e3bf456d4ea39e7f2788a243f045",
       "max": 111,
       "style": "IPY_MODEL_ac9ef0b17a084230ac2f84651c912de8",
       "value": 111
      }
     },
     "fe8e67bc22bd455ea6fd36f407cf55e4": {
      "model_module": "jupyter-js-widgets",
      "model_module_version": "~2.1.4",
      "model_name": "ProgressStyleModel",
      "state": {
       "_model_module_version": "~2.1.4",
       "_view_module_version": "~2.1.4"
      }
     }
    },
    "version_major": 1,
    "version_minor": 0
   }
  }
 },
 "nbformat": 4,
 "nbformat_minor": 2
}
