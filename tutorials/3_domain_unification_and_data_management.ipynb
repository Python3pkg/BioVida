{
 "cells": [
  {
   "cell_type": "markdown",
   "metadata": {},
   "source": [
    "BioVida: Domain Unification and Data Management\n",
    "=========================\n",
    "---"
   ]
  },
  {
   "cell_type": "markdown",
   "metadata": {},
   "source": [
    "This tutorial will cover the facilities BioVida offers to:\n",
    "\n",
    "* integrate images data against other kinds of biomedical data\n",
    "\n",
    "* manage cached resources."
   ]
  },
  {
   "cell_type": "markdown",
   "metadata": {},
   "source": [
    "---\n",
    "## Domain  Unification"
   ]
  },
  {
   "cell_type": "markdown",
   "metadata": {},
   "source": [
    "While primarily focused on image data, BioVida also contains interfaces to allow you to easily gain access to other biomedical data types. Namely, medical diagnostics and genomics data. This section will show how one, or several, image interfaces can be unified into a single DataFrame, complete with data from these additional sources."
   ]
  },
  {
   "cell_type": "markdown",
   "metadata": {},
   "source": [
    "We can start by collecting some data."
   ]
  },
  {
   "cell_type": "code",
   "execution_count": 1,
   "metadata": {},
   "outputs": [
    {
     "name": "stderr",
     "output_type": "stream",
     "text": [
      "Using Theano backend.\n"
     ]
    },
    {
     "name": "stdout",
     "output_type": "stream",
     "text": [
      "\n",
      "Results Found: 33,925.\n",
      "\n",
      "Number of Records to Download: 100 (chunk size: 30 records).\n"
     ]
    },
    {
     "data": {
      "application/vnd.jupyter.widget-view+json": {
       "model_id": "1c7b91fabbc2418eb3081ef42eae1912"
      }
     },
     "metadata": {},
     "output_type": "display_data"
    },
    {
     "name": "stdout",
     "output_type": "stream",
     "text": [
      "\n"
     ]
    },
    {
     "data": {
      "application/vnd.jupyter.widget-view+json": {
       "model_id": "081d76bd753e48a9b6d86a75f548a489"
      }
     },
     "metadata": {},
     "output_type": "display_data"
    },
    {
     "name": "stdout",
     "output_type": "stream",
     "text": [
      "\n"
     ]
    },
    {
     "data": {
      "application/vnd.jupyter.widget-view+json": {
       "model_id": "a2aafa3f81d6466caa43f549b01e2b66"
      }
     },
     "metadata": {},
     "output_type": "display_data"
    },
    {
     "name": "stdout",
     "output_type": "stream",
     "text": [
      "\n"
     ]
    }
   ],
   "source": [
    "from biovida.images import OpeniInterface\n",
    "opi = OpeniInterface()\n",
    "opi.search(query='lung cancer')\n",
    "pull_df1 = opi.pull()"
   ]
  },
  {
   "cell_type": "markdown",
   "metadata": {},
   "source": [
    "To make this example a little more interesting, let's also get some data from the Cancer Imaging Archive."
   ]
  },
  {
   "cell_type": "code",
   "execution_count": 2,
   "metadata": {},
   "outputs": [
    {
     "data": {
      "application/vnd.jupyter.widget-view+json": {
       "model_id": "83f078470fee49c5b91d504ec0a02bd2"
      }
     },
     "metadata": {},
     "output_type": "display_data"
    },
    {
     "name": "stdout",
     "output_type": "stream",
     "text": [
      "\n"
     ]
    },
    {
     "data": {
      "application/vnd.jupyter.widget-view+json": {
       "model_id": "db5c47afebf048469bfde7929ca18293"
      }
     },
     "metadata": {},
     "output_type": "display_data"
    },
    {
     "name": "stdout",
     "output_type": "stream",
     "text": [
      "\n"
     ]
    }
   ],
   "source": [
    "from biovida.images import CancerImageInterface\n",
    "cii = CancerImageInterface(api_key=YOUR_API_KEY_HERE)\n",
    "cii.search(cancer_type='lung')\n",
    "pull_df2 = cii.pull(collections_limit=1)  # only download the first collection/study"
   ]
  },
  {
   "cell_type": "markdown",
   "metadata": {},
   "source": [
    "Next, we can import the tool we will be using to unify the data"
   ]
  },
  {
   "cell_type": "code",
   "execution_count": 3,
   "metadata": {
    "collapsed": true
   },
   "outputs": [],
   "source": [
    "from biovida.unification import unify_against_images"
   ]
  },
  {
   "cell_type": "code",
   "execution_count": 4,
   "metadata": {},
   "outputs": [
    {
     "data": {
      "application/vnd.jupyter.widget-view+json": {
       "model_id": "b85259216c6146278677e3a54f4d059b"
      }
     },
     "metadata": {},
     "output_type": "display_data"
    },
    {
     "name": "stdout",
     "output_type": "stream",
     "text": [
      "\n"
     ]
    },
    {
     "data": {
      "application/vnd.jupyter.widget-view+json": {
       "model_id": "54606b92dda54bc7a189c2862b871f7a"
      }
     },
     "metadata": {},
     "output_type": "display_data"
    },
    {
     "name": "stdout",
     "output_type": "stream",
     "text": [
      "\n"
     ]
    },
    {
     "data": {
      "application/vnd.jupyter.widget-view+json": {
       "model_id": "a0f740522067410c8b2d4484fd2c216e"
      }
     },
     "metadata": {},
     "output_type": "display_data"
    },
    {
     "name": "stdout",
     "output_type": "stream",
     "text": [
      "\n"
     ]
    },
    {
     "data": {
      "application/vnd.jupyter.widget-view+json": {
       "model_id": "3b824ceaf8e74432b723bd2d936965f6"
      }
     },
     "metadata": {},
     "output_type": "display_data"
    },
    {
     "name": "stdout",
     "output_type": "stream",
     "text": [
      "\n"
     ]
    }
   ],
   "source": [
    "unified_df = unify_against_images(instances=[opi, cii])"
   ]
  },
  {
   "cell_type": "code",
   "execution_count": 5,
   "metadata": {
    "collapsed": true
   },
   "outputs": [],
   "source": [
    "import numpy as np\n",
    "def simplify_df(df):\n",
    "    \"\"\"This function simplifies dataframes\n",
    "    for the purposes of this tutorial.\"\"\"\n",
    "    data_frame = df.copy()\n",
    "    for c in ('source_images_path', 'cached_images_path'):\n",
    "        data_frame[c] = 'path_to_image'\n",
    "    return data_frame.replace({np.NaN: ''})"
   ]
  },
  {
   "cell_type": "markdown",
   "metadata": {},
   "source": [
    "To close out this section, we can take a quick look at the resultant DataFrame."
   ]
  },
  {
   "cell_type": "code",
   "execution_count": 6,
   "metadata": {},
   "outputs": [
    {
     "data": {
      "text/html": [
       "<div>\n",
       "<table border=\"1\" class=\"dataframe\">\n",
       "  <thead>\n",
       "    <tr style=\"text-align: right;\">\n",
       "      <th></th>\n",
       "      <th>age</th>\n",
       "      <th>article_type</th>\n",
       "      <th>cached_images_path</th>\n",
       "      <th>disease</th>\n",
       "      <th>image_caption</th>\n",
       "      <th>image_id</th>\n",
       "      <th>image_id_short</th>\n",
       "      <th>modality_best_guess</th>\n",
       "      <th>pull_time</th>\n",
       "      <th>query</th>\n",
       "      <th>sex</th>\n",
       "      <th>source_api</th>\n",
       "      <th>source_images_path</th>\n",
       "      <th>disease_family</th>\n",
       "      <th>disease_synonym</th>\n",
       "      <th>disease_definition</th>\n",
       "      <th>known_associated_symptoms</th>\n",
       "      <th>mentioned_symptoms</th>\n",
       "      <th>known_associated_genes</th>\n",
       "    </tr>\n",
       "  </thead>\n",
       "  <tbody>\n",
       "    <tr>\n",
       "      <th>85</th>\n",
       "      <td></td>\n",
       "      <td>research_article</td>\n",
       "      <td>path_to_image</td>\n",
       "      <td>lung cancer</td>\n",
       "      <td>(a) Heat Map representing the activated signal...</td>\n",
       "      <td></td>\n",
       "      <td>6</td>\n",
       "      <td>Computed Tomography (CT): chest</td>\n",
       "      <td>2017-04-07 02:10:43.026799</td>\n",
       "      <td>{'image_type': None, 'rankby': None, 'exclusio...</td>\n",
       "      <td>male</td>\n",
       "      <td>openi</td>\n",
       "      <td>path_to_image</td>\n",
       "      <td>(respiratory system cancer,)</td>\n",
       "      <td>(lung neoplasm,)</td>\n",
       "      <td>A respiratory system cancer that is located in...</td>\n",
       "      <td>(abdominal obesity, abdominal pain, abnormal r...</td>\n",
       "      <td></td>\n",
       "      <td></td>\n",
       "    </tr>\n",
       "    <tr>\n",
       "      <th>86</th>\n",
       "      <td></td>\n",
       "      <td>research_article</td>\n",
       "      <td>path_to_image</td>\n",
       "      <td>lung cancer</td>\n",
       "      <td>Efficacy of LQ on tumor volume, tumor weight (...</td>\n",
       "      <td></td>\n",
       "      <td>4</td>\n",
       "      <td>Computed Tomography (CT): chest</td>\n",
       "      <td>2017-04-07 02:10:43.026799</td>\n",
       "      <td>{'image_type': None, 'rankby': None, 'exclusio...</td>\n",
       "      <td>male</td>\n",
       "      <td>openi</td>\n",
       "      <td>path_to_image</td>\n",
       "      <td>(respiratory system cancer,)</td>\n",
       "      <td>(lung neoplasm,)</td>\n",
       "      <td>A respiratory system cancer that is located in...</td>\n",
       "      <td>(abdominal obesity, abdominal pain, abnormal r...</td>\n",
       "      <td>(weight loss,)</td>\n",
       "      <td></td>\n",
       "    </tr>\n",
       "    <tr>\n",
       "      <th>87</th>\n",
       "      <td></td>\n",
       "      <td>research_article</td>\n",
       "      <td>path_to_image</td>\n",
       "      <td>lung cancer</td>\n",
       "      <td>Survivin-VISA vector selectively expressed luc...</td>\n",
       "      <td></td>\n",
       "      <td>2</td>\n",
       "      <td>Computed Tomography (CT): chest</td>\n",
       "      <td>2017-04-07 02:10:43.026799</td>\n",
       "      <td>{'image_type': None, 'rankby': None, 'exclusio...</td>\n",
       "      <td>male</td>\n",
       "      <td>openi</td>\n",
       "      <td>path_to_image</td>\n",
       "      <td>(respiratory system cancer,)</td>\n",
       "      <td>(lung neoplasm,)</td>\n",
       "      <td>A respiratory system cancer that is located in...</td>\n",
       "      <td>(abdominal obesity, abdominal pain, abnormal r...</td>\n",
       "      <td></td>\n",
       "      <td></td>\n",
       "    </tr>\n",
       "    <tr>\n",
       "      <th>88</th>\n",
       "      <td></td>\n",
       "      <td>research_article</td>\n",
       "      <td>path_to_image</td>\n",
       "      <td>lung cancer; ptosis</td>\n",
       "      <td>Methylation status of SOX30 in lung cancer cel...</td>\n",
       "      <td></td>\n",
       "      <td>1</td>\n",
       "      <td>Computed Tomography (CT): chest</td>\n",
       "      <td>2017-04-07 02:10:43.026799</td>\n",
       "      <td>{'image_type': None, 'rankby': None, 'exclusio...</td>\n",
       "      <td>male</td>\n",
       "      <td>openi</td>\n",
       "      <td>path_to_image</td>\n",
       "      <td></td>\n",
       "      <td></td>\n",
       "      <td></td>\n",
       "      <td></td>\n",
       "      <td></td>\n",
       "      <td></td>\n",
       "    </tr>\n",
       "    <tr>\n",
       "      <th>89</th>\n",
       "      <td></td>\n",
       "      <td>research_article</td>\n",
       "      <td>path_to_image</td>\n",
       "      <td>large cell carcinoma; lung adenocarcinoma; lun...</td>\n",
       "      <td>CD56+CD16+ NK cell infiltration extent in diff...</td>\n",
       "      <td></td>\n",
       "      <td>2</td>\n",
       "      <td>Computed Tomography (CT): chest</td>\n",
       "      <td>2017-04-07 02:10:43.026799</td>\n",
       "      <td>{'image_type': None, 'rankby': None, 'exclusio...</td>\n",
       "      <td>male</td>\n",
       "      <td>openi</td>\n",
       "      <td>path_to_image</td>\n",
       "      <td></td>\n",
       "      <td></td>\n",
       "      <td></td>\n",
       "      <td></td>\n",
       "      <td></td>\n",
       "      <td></td>\n",
       "    </tr>\n",
       "  </tbody>\n",
       "</table>\n",
       "</div>"
      ],
      "text/plain": [
       "   age      article_type cached_images_path  \\\n",
       "85      research_article      path_to_image   \n",
       "86      research_article      path_to_image   \n",
       "87      research_article      path_to_image   \n",
       "88      research_article      path_to_image   \n",
       "89      research_article      path_to_image   \n",
       "\n",
       "                                              disease  \\\n",
       "85                                        lung cancer   \n",
       "86                                        lung cancer   \n",
       "87                                        lung cancer   \n",
       "88                                lung cancer; ptosis   \n",
       "89  large cell carcinoma; lung adenocarcinoma; lun...   \n",
       "\n",
       "                                        image_caption image_id image_id_short  \\\n",
       "85  (a) Heat Map representing the activated signal...                       6   \n",
       "86  Efficacy of LQ on tumor volume, tumor weight (...                       4   \n",
       "87  Survivin-VISA vector selectively expressed luc...                       2   \n",
       "88  Methylation status of SOX30 in lung cancer cel...                       1   \n",
       "89  CD56+CD16+ NK cell infiltration extent in diff...                       2   \n",
       "\n",
       "                modality_best_guess                  pull_time  \\\n",
       "85  Computed Tomography (CT): chest 2017-04-07 02:10:43.026799   \n",
       "86  Computed Tomography (CT): chest 2017-04-07 02:10:43.026799   \n",
       "87  Computed Tomography (CT): chest 2017-04-07 02:10:43.026799   \n",
       "88  Computed Tomography (CT): chest 2017-04-07 02:10:43.026799   \n",
       "89  Computed Tomography (CT): chest 2017-04-07 02:10:43.026799   \n",
       "\n",
       "                                                query   sex source_api  \\\n",
       "85  {'image_type': None, 'rankby': None, 'exclusio...  male      openi   \n",
       "86  {'image_type': None, 'rankby': None, 'exclusio...  male      openi   \n",
       "87  {'image_type': None, 'rankby': None, 'exclusio...  male      openi   \n",
       "88  {'image_type': None, 'rankby': None, 'exclusio...  male      openi   \n",
       "89  {'image_type': None, 'rankby': None, 'exclusio...  male      openi   \n",
       "\n",
       "   source_images_path                disease_family   disease_synonym  \\\n",
       "85      path_to_image  (respiratory system cancer,)  (lung neoplasm,)   \n",
       "86      path_to_image  (respiratory system cancer,)  (lung neoplasm,)   \n",
       "87      path_to_image  (respiratory system cancer,)  (lung neoplasm,)   \n",
       "88      path_to_image                                                   \n",
       "89      path_to_image                                                   \n",
       "\n",
       "                                   disease_definition  \\\n",
       "85  A respiratory system cancer that is located in...   \n",
       "86  A respiratory system cancer that is located in...   \n",
       "87  A respiratory system cancer that is located in...   \n",
       "88                                                      \n",
       "89                                                      \n",
       "\n",
       "                            known_associated_symptoms mentioned_symptoms  \\\n",
       "85  (abdominal obesity, abdominal pain, abnormal r...                      \n",
       "86  (abdominal obesity, abdominal pain, abnormal r...     (weight loss,)   \n",
       "87  (abdominal obesity, abdominal pain, abnormal r...                      \n",
       "88                                                                         \n",
       "89                                                                         \n",
       "\n",
       "   known_associated_genes  \n",
       "85                         \n",
       "86                         \n",
       "87                         \n",
       "88                         \n",
       "89                         "
      ]
     },
     "execution_count": 6,
     "metadata": {},
     "output_type": "execute_result"
    }
   ],
   "source": [
    "simplify_df(unified_df)[85:90]"
   ]
  },
  {
   "cell_type": "markdown",
   "metadata": {},
   "source": [
    "Note: the ``'mentioned_symptoms'`` column provides a list of symptoms known to be associated with the disease which were mentioned in the article."
   ]
  },
  {
   "cell_type": "markdown",
   "metadata": {},
   "source": [
    "---\n",
    "## Data Management"
   ]
  },
  {
   "cell_type": "markdown",
   "metadata": {},
   "source": [
    "This section is intended to provide a brief overview of the ways in which data downloaded with BioVida can be removed from your computer. "
   ]
  },
  {
   "cell_type": "markdown",
   "metadata": {},
   "source": [
    "**1.** The simplest way by far is manually delete the ``biovida_cache`` folder, or some portion of files (e.g., images) contained within in. Both ``OpeniInterfaces`` and ``CancerImageInterface`` check for deleted files each time they are instantiated. <br>"
   ]
  },
  {
   "cell_type": "markdown",
   "metadata": {},
   "source": [
    "**2.** While the first approach is straightforward, it is neither elegant nor precise. In those situations that require more finesse, we can employ the ``image_delete`` tool."
   ]
  },
  {
   "cell_type": "code",
   "execution_count": 7,
   "metadata": {
    "collapsed": true
   },
   "outputs": [],
   "source": [
    "from biovida.images import image_delete"
   ]
  },
  {
   "cell_type": "markdown",
   "metadata": {},
   "source": [
    "Next, we simply define a which will inform ``image_delete`` of which rows to delete."
   ]
  },
  {
   "cell_type": "code",
   "execution_count": 8,
   "metadata": {
    "collapsed": true
   },
   "outputs": [],
   "source": [
    "def my_delete_rule(row):\n",
    "    if isinstance(row['abstract'], str) and 'proteins' in row['abstract'].lower():\n",
    "        return True"
   ]
  },
  {
   "cell_type": "markdown",
   "metadata": {},
   "source": [
    "In this example, we'll use the instance of ``OpeniInterface`` created above."
   ]
  },
  {
   "cell_type": "code",
   "execution_count": 9,
   "metadata": {},
   "outputs": [
    {
     "name": "stdout",
     "output_type": "stream",
     "text": [
      "This action cannot be undone.\n",
      "Do you wish to continue (y/n)?y\n",
      "\n",
      "Deleting...\n",
      "\n",
      "Indices of Deleted Rows:\n",
      "\n"
     ]
    },
    {
     "data": {
      "text/html": [
       "<div>\n",
       "<table border=\"1\" class=\"dataframe\">\n",
       "  <thead>\n",
       "    <tr style=\"text-align: right;\">\n",
       "      <th></th>\n",
       "      <th>records_db</th>\n",
       "      <th>cache_records_db</th>\n",
       "    </tr>\n",
       "  </thead>\n",
       "  <tbody>\n",
       "    <tr>\n",
       "      <th>0</th>\n",
       "      <td>88</td>\n",
       "      <td>9047</td>\n",
       "    </tr>\n",
       "    <tr>\n",
       "      <th>1</th>\n",
       "      <td>89</td>\n",
       "      <td>9048</td>\n",
       "    </tr>\n",
       "    <tr>\n",
       "      <th>2</th>\n",
       "      <td>90</td>\n",
       "      <td>9049</td>\n",
       "    </tr>\n",
       "    <tr>\n",
       "      <th>3</th>\n",
       "      <td>91</td>\n",
       "      <td>9050</td>\n",
       "    </tr>\n",
       "    <tr>\n",
       "      <th>4</th>\n",
       "      <td>92</td>\n",
       "      <td>9051</td>\n",
       "    </tr>\n",
       "    <tr>\n",
       "      <th>5</th>\n",
       "      <td>93</td>\n",
       "      <td>9052</td>\n",
       "    </tr>\n",
       "    <tr>\n",
       "      <th>6</th>\n",
       "      <td>94</td>\n",
       "      <td>9053</td>\n",
       "    </tr>\n",
       "    <tr>\n",
       "      <th>7</th>\n",
       "      <td>95</td>\n",
       "      <td>9054</td>\n",
       "    </tr>\n",
       "    <tr>\n",
       "      <th>8</th>\n",
       "      <td>96</td>\n",
       "      <td>9055</td>\n",
       "    </tr>\n",
       "    <tr>\n",
       "      <th>9</th>\n",
       "      <td>97</td>\n",
       "      <td>9056</td>\n",
       "    </tr>\n",
       "    <tr>\n",
       "      <th>10</th>\n",
       "      <td>98</td>\n",
       "      <td>9057</td>\n",
       "    </tr>\n",
       "    <tr>\n",
       "      <th>11</th>\n",
       "      <td>99</td>\n",
       "      <td>9058</td>\n",
       "    </tr>\n",
       "  </tbody>\n",
       "</table>\n",
       "</div>"
      ],
      "text/plain": [
       "    records_db  cache_records_db\n",
       "0           88              9047\n",
       "1           89              9048\n",
       "2           90              9049\n",
       "3           91              9050\n",
       "4           92              9051\n",
       "5           93              9052\n",
       "6           94              9053\n",
       "7           95              9054\n",
       "8           96              9055\n",
       "9           97              9056\n",
       "10          98              9057\n",
       "11          99              9058"
      ]
     },
     "metadata": {},
     "output_type": "display_data"
    }
   ],
   "source": [
    "deleted_rows = image_delete(opi, delete_rule=my_delete_rule)"
   ]
  },
  {
   "cell_type": "markdown",
   "metadata": {},
   "source": [
    "This will not only delete the row, but *any* image associated with it. Therefore, as a precaution, you will be asked to confirm this action before it is performed."
   ]
  },
  {
   "cell_type": "markdown",
   "metadata": {},
   "source": [
    "**Warning**: ``image_delete`` will delete *any* rows for which your 'delete_rule' returns ``True``, including those in ``cache_records_db`` which were not downloaded in the most recent ``pull()``."
   ]
  },
  {
   "cell_type": "markdown",
   "metadata": {},
   "source": [
    "---"
   ]
  },
  {
   "cell_type": "markdown",
   "metadata": {},
   "source": [
    "In this tutorial we have reviewed how to unify images obtained with BioVida both with eachother as well as against external biomedial databases. Additionally, we have explored methods for deleting downloaded data."
   ]
  },
  {
   "cell_type": "markdown",
   "metadata": {},
   "source": [
    "---"
   ]
  }
 ],
 "metadata": {
  "kernelspec": {
   "display_name": "Python 3",
   "language": "python",
   "name": "python3"
  },
  "language_info": {
   "codemirror_mode": {
    "name": "ipython",
    "version": 3
   },
   "file_extension": ".py",
   "mimetype": "text/x-python",
   "name": "python",
   "nbconvert_exporter": "python",
   "pygments_lexer": "ipython3",
   "version": "3.5.2"
  },
  "widgets": {
   "application/vnd.jupyter.widget-state+json": {
    "state": {},
    "version_major": 1,
    "version_minor": 0
   }
  }
 },
 "nbformat": 4,
 "nbformat_minor": 2
}
