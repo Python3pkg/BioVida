{
 "cells": [
  {
   "cell_type": "markdown",
   "metadata": {},
   "source": [
    "BioVida: Domain Unification and Data Management\n",
    "=========================\n",
    "---"
   ]
  },
  {
   "cell_type": "markdown",
   "metadata": {},
   "source": [
    "This tutorial will cover the facilities BioVida offers to:\n",
    "\n",
    "* integrate images data against other kinds of biomedical data\n",
    "\n",
    "* manage cached resources."
   ]
  },
  {
   "cell_type": "markdown",
   "metadata": {},
   "source": [
    "---\n",
    "## Domain  Unification"
   ]
  },
  {
   "cell_type": "markdown",
   "metadata": {},
   "source": [
    "While primarily focused on image data, BioVida also contains interfaces to allow you to easily gain access to other biomedical data types. Namely, medical diagnostics and genomics data. This section will show how one, or several, image interfaces can be unified into a single DataFrame, complete with data from these additional sources."
   ]
  },
  {
   "cell_type": "markdown",
   "metadata": {},
   "source": [
    "We can start by collecting some data."
   ]
  },
  {
   "cell_type": "code",
   "execution_count": 1,
   "metadata": {},
   "outputs": [
    {
     "name": "stderr",
     "output_type": "stream",
     "text": [
      "Using Theano backend.\n"
     ]
    },
    {
     "name": "stdout",
     "output_type": "stream",
     "text": [
      "\n",
      "Results Found: 33,925.\n",
      "\n",
      "Number of Records to Download: 100 (chunk size: 30 records).\n"
     ]
    },
    {
     "data": {
      "application/vnd.jupyter.widget-view+json": {
       "model_id": "8a2b32dd67b54c6397a485d6d5536840"
      }
     },
     "metadata": {},
     "output_type": "display_data"
    },
    {
     "name": "stdout",
     "output_type": "stream",
     "text": [
      "\n"
     ]
    },
    {
     "data": {
      "application/vnd.jupyter.widget-view+json": {
       "model_id": "951141ccf6dc496d8f1635d639121c8c"
      }
     },
     "metadata": {},
     "output_type": "display_data"
    },
    {
     "name": "stdout",
     "output_type": "stream",
     "text": [
      "\n"
     ]
    },
    {
     "data": {
      "application/vnd.jupyter.widget-view+json": {
       "model_id": "1437934fbec24571873ffd543d6b1fde"
      }
     },
     "metadata": {},
     "output_type": "display_data"
    },
    {
     "name": "stdout",
     "output_type": "stream",
     "text": [
      "\n"
     ]
    }
   ],
   "source": [
    "from biovida.images import OpeniInterface\n",
    "opi = OpeniInterface()\n",
    "opi.search(query='lung cancer')\n",
    "pull_df1 = opi.pull()"
   ]
  },
  {
   "cell_type": "markdown",
   "metadata": {},
   "source": [
    "To make this example a little more interesting, let's also get some data from the Cancer Imaging Archive."
   ]
  },
  {
   "cell_type": "code",
   "execution_count": 2,
   "metadata": {},
   "outputs": [
    {
     "data": {
      "application/vnd.jupyter.widget-view+json": {
       "model_id": "7e1e26243ed64a58a602e31593add0c2"
      }
     },
     "metadata": {},
     "output_type": "display_data"
    },
    {
     "name": "stdout",
     "output_type": "stream",
     "text": [
      "\n"
     ]
    },
    {
     "data": {
      "application/vnd.jupyter.widget-view+json": {
       "model_id": "7e7e4afe084743ba87cc8b91362fc085"
      }
     },
     "metadata": {},
     "output_type": "display_data"
    },
    {
     "name": "stdout",
     "output_type": "stream",
     "text": [
      "\n"
     ]
    }
   ],
   "source": [
    "from biovida.images import CancerImageInterface\n",
    "cii = CancerImageInterface(api_key=YOUR_API_KEY_HERE)\n",
    "cii.search(cancer_type='lung')\n",
    "pull_df2 = cii.pull(collections_limit=1)  # only download the first collection/study"
   ]
  },
  {
   "cell_type": "markdown",
   "metadata": {},
   "source": [
    "Next, we can import the tool we will be using to unify the data"
   ]
  },
  {
   "cell_type": "code",
   "execution_count": 3,
   "metadata": {
    "collapsed": true
   },
   "outputs": [],
   "source": [
    "from biovida.unification import unify_against_images"
   ]
  },
  {
   "cell_type": "code",
   "execution_count": 4,
   "metadata": {},
   "outputs": [
    {
     "data": {
      "application/vnd.jupyter.widget-view+json": {
       "model_id": "d25e889776874ce48247e39874012d63"
      }
     },
     "metadata": {},
     "output_type": "display_data"
    },
    {
     "name": "stdout",
     "output_type": "stream",
     "text": [
      "\n"
     ]
    },
    {
     "data": {
      "application/vnd.jupyter.widget-view+json": {
       "model_id": "09f2fd7ddeab4e57bc1f057f93820aca"
      }
     },
     "metadata": {},
     "output_type": "display_data"
    },
    {
     "name": "stdout",
     "output_type": "stream",
     "text": [
      "\n"
     ]
    },
    {
     "data": {
      "application/vnd.jupyter.widget-view+json": {
       "model_id": "f2b6b61189f84414b3c3f0bc84485862"
      }
     },
     "metadata": {},
     "output_type": "display_data"
    },
    {
     "name": "stdout",
     "output_type": "stream",
     "text": [
      "\n"
     ]
    },
    {
     "data": {
      "application/vnd.jupyter.widget-view+json": {
       "model_id": "a66a303f84db4e59b3876f5e1fb02015"
      }
     },
     "metadata": {},
     "output_type": "display_data"
    },
    {
     "name": "stdout",
     "output_type": "stream",
     "text": [
      "\n"
     ]
    }
   ],
   "source": [
    "unified_df = unify_against_images(instances=[opi, cii])"
   ]
  },
  {
   "cell_type": "code",
   "execution_count": 5,
   "metadata": {
    "collapsed": true
   },
   "outputs": [],
   "source": [
    "import numpy as np\n",
    "def simplify_df(df):\n",
    "    \"\"\"This function simplifies dataframes\n",
    "    for the purposes of this tutorial.\"\"\"\n",
    "    data_frame = df.copy()\n",
    "    for c in ('source_images_path', 'cached_images_path'):\n",
    "        data_frame[c] = 'path_to_image'\n",
    "    return data_frame.replace({np.NaN: ''})"
   ]
  },
  {
   "cell_type": "markdown",
   "metadata": {},
   "source": [
    "To close out this section, we can take a quick look at the resultant DataFrame."
   ]
  },
  {
   "cell_type": "code",
   "execution_count": 6,
   "metadata": {},
   "outputs": [
    {
     "data": {
      "text/html": [
       "<div>\n",
       "<table border=\"1\" class=\"dataframe\">\n",
       "  <thead>\n",
       "    <tr style=\"text-align: right;\">\n",
       "      <th></th>\n",
       "      <th>age</th>\n",
       "      <th>article_type</th>\n",
       "      <th>cached_images_path</th>\n",
       "      <th>disease</th>\n",
       "      <th>image_caption</th>\n",
       "      <th>image_id</th>\n",
       "      <th>image_id_short</th>\n",
       "      <th>modality_best_guess</th>\n",
       "      <th>pull_time</th>\n",
       "      <th>query</th>\n",
       "      <th>sex</th>\n",
       "      <th>source_api</th>\n",
       "      <th>source_images_path</th>\n",
       "      <th>disease_family</th>\n",
       "      <th>disease_synonym</th>\n",
       "      <th>disease_definition</th>\n",
       "      <th>known_associated_symptoms</th>\n",
       "      <th>mentioned_symptoms</th>\n",
       "      <th>known_associated_genes</th>\n",
       "    </tr>\n",
       "  </thead>\n",
       "  <tbody>\n",
       "    <tr>\n",
       "      <th>85</th>\n",
       "      <td></td>\n",
       "      <td>research_article</td>\n",
       "      <td>path_to_image</td>\n",
       "      <td>lung cancer</td>\n",
       "      <td>(a) Heat Map representing the activated signal...</td>\n",
       "      <td></td>\n",
       "      <td>6</td>\n",
       "      <td>Computed Tomography (CT): chest</td>\n",
       "      <td>2017-04-07 02:22:47.664878</td>\n",
       "      <td>{'exclusions': ['graphics'], 'image_type': Non...</td>\n",
       "      <td>male</td>\n",
       "      <td>openi</td>\n",
       "      <td>path_to_image</td>\n",
       "      <td>(respiratory system cancer,)</td>\n",
       "      <td>(lung neoplasm,)</td>\n",
       "      <td>A respiratory system cancer that is located in...</td>\n",
       "      <td>(abdominal obesity, abdominal pain, abnormal r...</td>\n",
       "      <td></td>\n",
       "      <td></td>\n",
       "    </tr>\n",
       "    <tr>\n",
       "      <th>86</th>\n",
       "      <td></td>\n",
       "      <td>research_article</td>\n",
       "      <td>path_to_image</td>\n",
       "      <td>lung cancer</td>\n",
       "      <td>Efficacy of LQ on tumor volume, tumor weight (...</td>\n",
       "      <td></td>\n",
       "      <td>4</td>\n",
       "      <td>Computed Tomography (CT): chest</td>\n",
       "      <td>2017-04-07 02:22:47.664878</td>\n",
       "      <td>{'exclusions': ['graphics'], 'image_type': Non...</td>\n",
       "      <td>male</td>\n",
       "      <td>openi</td>\n",
       "      <td>path_to_image</td>\n",
       "      <td>(respiratory system cancer,)</td>\n",
       "      <td>(lung neoplasm,)</td>\n",
       "      <td>A respiratory system cancer that is located in...</td>\n",
       "      <td>(abdominal obesity, abdominal pain, abnormal r...</td>\n",
       "      <td>(weight loss,)</td>\n",
       "      <td></td>\n",
       "    </tr>\n",
       "    <tr>\n",
       "      <th>87</th>\n",
       "      <td></td>\n",
       "      <td>research_article</td>\n",
       "      <td>path_to_image</td>\n",
       "      <td>lung cancer</td>\n",
       "      <td>Survivin-VISA vector selectively expressed luc...</td>\n",
       "      <td></td>\n",
       "      <td>2</td>\n",
       "      <td>Computed Tomography (CT): chest</td>\n",
       "      <td>2017-04-07 02:22:47.664878</td>\n",
       "      <td>{'exclusions': ['graphics'], 'image_type': Non...</td>\n",
       "      <td>male</td>\n",
       "      <td>openi</td>\n",
       "      <td>path_to_image</td>\n",
       "      <td>(respiratory system cancer,)</td>\n",
       "      <td>(lung neoplasm,)</td>\n",
       "      <td>A respiratory system cancer that is located in...</td>\n",
       "      <td>(abdominal obesity, abdominal pain, abnormal r...</td>\n",
       "      <td></td>\n",
       "      <td></td>\n",
       "    </tr>\n",
       "    <tr>\n",
       "      <th>88</th>\n",
       "      <td></td>\n",
       "      <td>research_article</td>\n",
       "      <td>path_to_image</td>\n",
       "      <td>lung cancer; ptosis</td>\n",
       "      <td>Methylation status of SOX30 in lung cancer cel...</td>\n",
       "      <td></td>\n",
       "      <td>1</td>\n",
       "      <td>Computed Tomography (CT): chest</td>\n",
       "      <td>2017-04-07 02:22:47.664878</td>\n",
       "      <td>{'exclusions': ['graphics'], 'image_type': Non...</td>\n",
       "      <td>male</td>\n",
       "      <td>openi</td>\n",
       "      <td>path_to_image</td>\n",
       "      <td></td>\n",
       "      <td></td>\n",
       "      <td></td>\n",
       "      <td></td>\n",
       "      <td></td>\n",
       "      <td></td>\n",
       "    </tr>\n",
       "    <tr>\n",
       "      <th>89</th>\n",
       "      <td></td>\n",
       "      <td>research_article</td>\n",
       "      <td>path_to_image</td>\n",
       "      <td>large cell carcinoma; lung adenocarcinoma; lun...</td>\n",
       "      <td>CD56+CD16+ NK cell infiltration extent in diff...</td>\n",
       "      <td></td>\n",
       "      <td>2</td>\n",
       "      <td>Computed Tomography (CT): chest</td>\n",
       "      <td>2017-04-07 02:22:47.664878</td>\n",
       "      <td>{'exclusions': ['graphics'], 'image_type': Non...</td>\n",
       "      <td>male</td>\n",
       "      <td>openi</td>\n",
       "      <td>path_to_image</td>\n",
       "      <td></td>\n",
       "      <td></td>\n",
       "      <td></td>\n",
       "      <td></td>\n",
       "      <td></td>\n",
       "      <td></td>\n",
       "    </tr>\n",
       "  </tbody>\n",
       "</table>\n",
       "</div>"
      ],
      "text/plain": [
       "   age      article_type cached_images_path  \\\n",
       "85      research_article      path_to_image   \n",
       "86      research_article      path_to_image   \n",
       "87      research_article      path_to_image   \n",
       "88      research_article      path_to_image   \n",
       "89      research_article      path_to_image   \n",
       "\n",
       "                                              disease  \\\n",
       "85                                        lung cancer   \n",
       "86                                        lung cancer   \n",
       "87                                        lung cancer   \n",
       "88                                lung cancer; ptosis   \n",
       "89  large cell carcinoma; lung adenocarcinoma; lun...   \n",
       "\n",
       "                                        image_caption image_id image_id_short  \\\n",
       "85  (a) Heat Map representing the activated signal...                       6   \n",
       "86  Efficacy of LQ on tumor volume, tumor weight (...                       4   \n",
       "87  Survivin-VISA vector selectively expressed luc...                       2   \n",
       "88  Methylation status of SOX30 in lung cancer cel...                       1   \n",
       "89  CD56+CD16+ NK cell infiltration extent in diff...                       2   \n",
       "\n",
       "                modality_best_guess                  pull_time  \\\n",
       "85  Computed Tomography (CT): chest 2017-04-07 02:22:47.664878   \n",
       "86  Computed Tomography (CT): chest 2017-04-07 02:22:47.664878   \n",
       "87  Computed Tomography (CT): chest 2017-04-07 02:22:47.664878   \n",
       "88  Computed Tomography (CT): chest 2017-04-07 02:22:47.664878   \n",
       "89  Computed Tomography (CT): chest 2017-04-07 02:22:47.664878   \n",
       "\n",
       "                                                query   sex source_api  \\\n",
       "85  {'exclusions': ['graphics'], 'image_type': Non...  male      openi   \n",
       "86  {'exclusions': ['graphics'], 'image_type': Non...  male      openi   \n",
       "87  {'exclusions': ['graphics'], 'image_type': Non...  male      openi   \n",
       "88  {'exclusions': ['graphics'], 'image_type': Non...  male      openi   \n",
       "89  {'exclusions': ['graphics'], 'image_type': Non...  male      openi   \n",
       "\n",
       "   source_images_path                disease_family   disease_synonym  \\\n",
       "85      path_to_image  (respiratory system cancer,)  (lung neoplasm,)   \n",
       "86      path_to_image  (respiratory system cancer,)  (lung neoplasm,)   \n",
       "87      path_to_image  (respiratory system cancer,)  (lung neoplasm,)   \n",
       "88      path_to_image                                                   \n",
       "89      path_to_image                                                   \n",
       "\n",
       "                                   disease_definition  \\\n",
       "85  A respiratory system cancer that is located in...   \n",
       "86  A respiratory system cancer that is located in...   \n",
       "87  A respiratory system cancer that is located in...   \n",
       "88                                                      \n",
       "89                                                      \n",
       "\n",
       "                            known_associated_symptoms mentioned_symptoms  \\\n",
       "85  (abdominal obesity, abdominal pain, abnormal r...                      \n",
       "86  (abdominal obesity, abdominal pain, abnormal r...     (weight loss,)   \n",
       "87  (abdominal obesity, abdominal pain, abnormal r...                      \n",
       "88                                                                         \n",
       "89                                                                         \n",
       "\n",
       "   known_associated_genes  \n",
       "85                         \n",
       "86                         \n",
       "87                         \n",
       "88                         \n",
       "89                         "
      ]
     },
     "execution_count": 6,
     "metadata": {},
     "output_type": "execute_result"
    }
   ],
   "source": [
    "simplify_df(unified_df)[85:90]"
   ]
  },
  {
   "cell_type": "markdown",
   "metadata": {},
   "source": [
    "Note: the ``'mentioned_symptoms'`` column provides a list of symptoms known to be associated with the disease which were mentioned in the article."
   ]
  },
  {
   "cell_type": "markdown",
   "metadata": {},
   "source": [
    "---\n",
    "## Data Management"
   ]
  },
  {
   "cell_type": "markdown",
   "metadata": {},
   "source": [
    "This section is intended to provide a brief overview of the ways in which data downloaded with BioVida can be removed from your computer. "
   ]
  },
  {
   "cell_type": "markdown",
   "metadata": {},
   "source": [
    "**1.** The simplest way by far is manually delete the ``biovida_cache`` folder, or some portion of files (e.g., images) contained within in. Both ``OpeniInterfaces`` and ``CancerImageInterface`` check for deleted files each time they are instantiated. <br>"
   ]
  },
  {
   "cell_type": "markdown",
   "metadata": {},
   "source": [
    "**2.** While the first approach is straightforward, it is neither elegant nor precise. In those situations that require more finesse, we can employ the ``image_delete`` tool."
   ]
  },
  {
   "cell_type": "code",
   "execution_count": 7,
   "metadata": {
    "collapsed": true
   },
   "outputs": [],
   "source": [
    "from biovida.images import image_delete"
   ]
  },
  {
   "cell_type": "markdown",
   "metadata": {},
   "source": [
    "Next, we simply define a which will inform ``image_delete`` of which rows to delete."
   ]
  },
  {
   "cell_type": "code",
   "execution_count": 8,
   "metadata": {
    "collapsed": true
   },
   "outputs": [],
   "source": [
    "def my_delete_rule(row):\n",
    "    if isinstance(row['abstract'], str) and 'proteins' in row['abstract'].lower():\n",
    "        return True"
   ]
  },
  {
   "cell_type": "markdown",
   "metadata": {},
   "source": [
    "In this example, we'll use the instance of ``OpeniInterface`` created above."
   ]
  },
  {
   "cell_type": "code",
   "execution_count": 9,
   "metadata": {},
   "outputs": [
    {
     "name": "stdout",
     "output_type": "stream",
     "text": [
      "This action cannot be undone.\n",
      "Do you wish to continue (y/n)?y\n",
      "\n",
      "Deleting...\n",
      "\n",
      "Indices of Deleted Rows:\n",
      "\n"
     ]
    },
    {
     "data": {
      "text/html": [
       "<div>\n",
       "<table border=\"1\" class=\"dataframe\">\n",
       "  <thead>\n",
       "    <tr style=\"text-align: right;\">\n",
       "      <th></th>\n",
       "      <th>records_db</th>\n",
       "      <th>cache_records_db</th>\n",
       "    </tr>\n",
       "  </thead>\n",
       "  <tbody>\n",
       "    <tr>\n",
       "      <th>0</th>\n",
       "      <td>88</td>\n",
       "      <td>9047</td>\n",
       "    </tr>\n",
       "    <tr>\n",
       "      <th>1</th>\n",
       "      <td>89</td>\n",
       "      <td>9048</td>\n",
       "    </tr>\n",
       "    <tr>\n",
       "      <th>2</th>\n",
       "      <td>90</td>\n",
       "      <td>9049</td>\n",
       "    </tr>\n",
       "    <tr>\n",
       "      <th>3</th>\n",
       "      <td>91</td>\n",
       "      <td>9050</td>\n",
       "    </tr>\n",
       "    <tr>\n",
       "      <th>4</th>\n",
       "      <td>92</td>\n",
       "      <td>9051</td>\n",
       "    </tr>\n",
       "    <tr>\n",
       "      <th>5</th>\n",
       "      <td>93</td>\n",
       "      <td>9052</td>\n",
       "    </tr>\n",
       "    <tr>\n",
       "      <th>6</th>\n",
       "      <td>94</td>\n",
       "      <td>9053</td>\n",
       "    </tr>\n",
       "    <tr>\n",
       "      <th>7</th>\n",
       "      <td>95</td>\n",
       "      <td>9054</td>\n",
       "    </tr>\n",
       "    <tr>\n",
       "      <th>8</th>\n",
       "      <td>96</td>\n",
       "      <td>9055</td>\n",
       "    </tr>\n",
       "    <tr>\n",
       "      <th>9</th>\n",
       "      <td>97</td>\n",
       "      <td>9056</td>\n",
       "    </tr>\n",
       "    <tr>\n",
       "      <th>10</th>\n",
       "      <td>98</td>\n",
       "      <td>9057</td>\n",
       "    </tr>\n",
       "    <tr>\n",
       "      <th>11</th>\n",
       "      <td>99</td>\n",
       "      <td>9058</td>\n",
       "    </tr>\n",
       "  </tbody>\n",
       "</table>\n",
       "</div>"
      ],
      "text/plain": [
       "    records_db  cache_records_db\n",
       "0           88              9047\n",
       "1           89              9048\n",
       "2           90              9049\n",
       "3           91              9050\n",
       "4           92              9051\n",
       "5           93              9052\n",
       "6           94              9053\n",
       "7           95              9054\n",
       "8           96              9055\n",
       "9           97              9056\n",
       "10          98              9057\n",
       "11          99              9058"
      ]
     },
     "metadata": {},
     "output_type": "display_data"
    }
   ],
   "source": [
    "deleted_rows = image_delete(opi, delete_rule=my_delete_rule)"
   ]
  },
  {
   "cell_type": "markdown",
   "metadata": {},
   "source": [
    "This will not only delete the row, but *any* image associated with it. Therefore, as a precaution, you will be asked to confirm this action before it is performed."
   ]
  },
  {
   "cell_type": "markdown",
   "metadata": {},
   "source": [
    "**Warning**: ``image_delete`` will delete *any* rows for which your 'delete_rule' returns ``True``, including those in ``cache_records_db`` which were not downloaded in the most recent ``pull()``."
   ]
  },
  {
   "cell_type": "markdown",
   "metadata": {},
   "source": [
    "---"
   ]
  },
  {
   "cell_type": "markdown",
   "metadata": {},
   "source": [
    "In this tutorial we have reviewed how to unify images obtained with BioVida both with eachother as well as against external biomedial databases. Additionally, we have explored methods for deleting downloaded data."
   ]
  },
  {
   "cell_type": "markdown",
   "metadata": {},
   "source": [
    "---"
   ]
  }
 ],
 "metadata": {
  "kernelspec": {
   "display_name": "Python 3",
   "language": "python",
   "name": "python3"
  },
  "language_info": {
   "codemirror_mode": {
    "name": "ipython",
    "version": 3
   },
   "file_extension": ".py",
   "mimetype": "text/x-python",
   "name": "python",
   "nbconvert_exporter": "python",
   "pygments_lexer": "ipython3",
   "version": "3.5.2"
  },
  "widgets": {
   "application/vnd.jupyter.widget-state+json": {
    "state": {
     "00e0de7179894c1cb3c06e978baf31a0": {
      "model_module": "jupyter-js-widgets",
      "model_module_version": "~2.1.4",
      "model_name": "LayoutModel",
      "state": {
       "_model_module_version": "~2.1.4",
       "_view_module_version": "~2.1.4"
      }
     },
     "034bd672b9244c22b16b3c436e3fa9fb": {
      "model_module": "jupyter-js-widgets",
      "model_module_version": "~2.1.4",
      "model_name": "LayoutModel",
      "state": {
       "_model_module_version": "~2.1.4",
       "_view_module_version": "~2.1.4"
      }
     },
     "051f2d6e9fcc4d0c9b0b75ff77dff588": {
      "model_module": "jupyter-js-widgets",
      "model_module_version": "~2.1.4",
      "model_name": "ProgressModel",
      "state": {
       "_model_module_version": "~2.1.4",
       "_view_module_version": "~2.1.4",
       "bar_style": "success",
       "description": "Obtaining Records: ",
       "layout": "IPY_MODEL_d892901f4ebe47e6b68b4d9242e8cccf",
       "max": 4,
       "style": "IPY_MODEL_4ed7105f92ec4cebaee161764493fef4",
       "value": 4
      }
     },
     "05d4cddbe88b410e99294b0d7be4821e": {
      "model_module": "jupyter-js-widgets",
      "model_module_version": "~2.1.4",
      "model_name": "ProgressModel",
      "state": {
       "_model_module_version": "~2.1.4",
       "_view_module_version": "~2.1.4",
       "bar_style": "success",
       "description": "Genomic: ",
       "layout": "IPY_MODEL_3373a407935449f8b84aa10da49ba058",
       "max": 111,
       "style": "IPY_MODEL_fb116c6f0e564780b96e360bcd780836",
       "value": 111
      }
     },
     "07e0773b7e634df194caacf416520e66": {
      "model_module": "jupyter-js-widgets",
      "model_module_version": "~2.1.4",
      "model_name": "LayoutModel",
      "state": {
       "_model_module_version": "~2.1.4",
       "_view_module_version": "~2.1.4"
      }
     },
     "09f2fd7ddeab4e57bc1f057f93820aca": {
      "model_module": "jupyter-js-widgets",
      "model_module_version": "~2.1.4",
      "model_name": "HBoxModel",
      "state": {
       "_model_module_version": "~2.1.4",
       "_view_module_version": "~2.1.4",
       "children": [
        "IPY_MODEL_556e8882336944c08ab74229ac363372",
        "IPY_MODEL_965b9e70249f42ef89e010606242f3b5"
       ],
       "layout": "IPY_MODEL_3564a31f2b4a49d58fe5630d2dda4794"
      }
     },
     "0bab2c62e7cf4d61aca3811ed75fc0af": {
      "model_module": "jupyter-js-widgets",
      "model_module_version": "~2.1.4",
      "model_name": "LayoutModel",
      "state": {
       "_model_module_version": "~2.1.4",
       "_view_module_version": "~2.1.4"
      }
     },
     "0fd96a518eba4c5a972459214becf81e": {
      "model_module": "jupyter-js-widgets",
      "model_module_version": "~2.1.4",
      "model_name": "LayoutModel",
      "state": {
       "_model_module_version": "~2.1.4",
       "_view_module_version": "~2.1.4"
      }
     },
     "1437934fbec24571873ffd543d6b1fde": {
      "model_module": "jupyter-js-widgets",
      "model_module_version": "~2.1.4",
      "model_name": "HBoxModel",
      "state": {
       "_model_module_version": "~2.1.4",
       "_view_module_version": "~2.1.4",
       "children": [
        "IPY_MODEL_ac20a7a9e13b4fdfb77e6486e6ab1989",
        "IPY_MODEL_c6d722e312904bcb88ec9917e634054e"
       ],
       "layout": "IPY_MODEL_00e0de7179894c1cb3c06e978baf31a0"
      }
     },
     "177c412e00184e7db2496971063791ae": {
      "model_module": "jupyter-js-widgets",
      "model_module_version": "~2.1.4",
      "model_name": "ProgressStyleModel",
      "state": {
       "_model_module_version": "~2.1.4",
       "_view_module_version": "~2.1.4"
      }
     },
     "199918c1b748455f921322bf25baa539": {
      "model_module": "jupyter-js-widgets",
      "model_module_version": "~2.1.4",
      "model_name": "LayoutModel",
      "state": {
       "_model_module_version": "~2.1.4",
       "_view_module_version": "~2.1.4"
      }
     },
     "1b820eb3afc341f58f4259f08c1ddc3c": {
      "model_module": "jupyter-js-widgets",
      "model_module_version": "~2.1.4",
      "model_name": "HTMLModel",
      "state": {
       "_model_module_version": "~2.1.4",
       "_view_module_version": "~2.1.4",
       "layout": "IPY_MODEL_034bd672b9244c22b16b3c436e3fa9fb",
       "value": "100% 111/111 [00:00&lt;00:00, 4335.58it/s]"
      }
     },
     "2b0a4b4cd52e4b66b1f025805aef8aca": {
      "model_module": "jupyter-js-widgets",
      "model_module_version": "~2.1.4",
      "model_name": "HTMLModel",
      "state": {
       "_model_module_version": "~2.1.4",
       "_view_module_version": "~2.1.4",
       "layout": "IPY_MODEL_85022cd7a0da4f66910bc4632ec965a9",
       "value": "100% 111/111 [00:00&lt;00:00, 937.79it/s]"
      }
     },
     "31f4f00bc0884a4bbbff8baf1eca0ba2": {
      "model_module": "jupyter-js-widgets",
      "model_module_version": "~2.1.4",
      "model_name": "LayoutModel",
      "state": {
       "_model_module_version": "~2.1.4",
       "_view_module_version": "~2.1.4"
      }
     },
     "32ba82e7eeb944adb54f2f252a025481": {
      "model_module": "jupyter-js-widgets",
      "model_module_version": "~2.1.4",
      "model_name": "ProgressModel",
      "state": {
       "_model_module_version": "~2.1.4",
       "_view_module_version": "~2.1.4",
       "bar_style": "success",
       "description": "'TCGA-LUSC' Records: ",
       "layout": "IPY_MODEL_b4dc61924708411799efda3e2cbdd2a7",
       "max": 3,
       "style": "IPY_MODEL_ec7144fef12249fcbea0783392003ded",
       "value": 3
      }
     },
     "3373a407935449f8b84aa10da49ba058": {
      "model_module": "jupyter-js-widgets",
      "model_module_version": "~2.1.4",
      "model_name": "LayoutModel",
      "state": {
       "_model_module_version": "~2.1.4",
       "_view_module_version": "~2.1.4"
      }
     },
     "3564a31f2b4a49d58fe5630d2dda4794": {
      "model_module": "jupyter-js-widgets",
      "model_module_version": "~2.1.4",
      "model_name": "LayoutModel",
      "state": {
       "_model_module_version": "~2.1.4",
       "_view_module_version": "~2.1.4"
      }
     },
     "370c2bb160604619a20d597d16999a13": {
      "model_module": "jupyter-js-widgets",
      "model_module_version": "~2.1.4",
      "model_name": "LayoutModel",
      "state": {
       "_model_module_version": "~2.1.4",
       "_view_module_version": "~2.1.4"
      }
     },
     "3ec72679631641989311f28cc2120cb6": {
      "model_module": "jupyter-js-widgets",
      "model_module_version": "~2.1.4",
      "model_name": "ProgressStyleModel",
      "state": {
       "_model_module_version": "~2.1.4",
       "_view_module_version": "~2.1.4"
      }
     },
     "46682719c58b4eaebb84c6f3b1901850": {
      "model_module": "jupyter-js-widgets",
      "model_module_version": "~2.1.4",
      "model_name": "LayoutModel",
      "state": {
       "_model_module_version": "~2.1.4",
       "_view_module_version": "~2.1.4"
      }
     },
     "49ba0e78fef9418392ec4f6cdbe47efa": {
      "model_module": "jupyter-js-widgets",
      "model_module_version": "~2.1.4",
      "model_name": "ProgressStyleModel",
      "state": {
       "_model_module_version": "~2.1.4",
       "_view_module_version": "~2.1.4"
      }
     },
     "4ad87dbb814c444887005db6c90074be": {
      "model_module": "jupyter-js-widgets",
      "model_module_version": "~2.1.4",
      "model_name": "HTMLModel",
      "state": {
       "_model_module_version": "~2.1.4",
       "_view_module_version": "~2.1.4",
       "layout": "IPY_MODEL_cb09d6a87df44d08beab42b997c53141",
       "value": "100% 3/3 [00:17&lt;00:00,  5.85s/it]"
      }
     },
     "4e1589b5425c4997bfdc59999d1305a1": {
      "model_module": "jupyter-js-widgets",
      "model_module_version": "~2.1.4",
      "model_name": "ProgressModel",
      "state": {
       "_model_module_version": "~2.1.4",
       "_view_module_version": "~2.1.4",
       "bar_style": "success",
       "description": "Processing Records: ",
       "layout": "IPY_MODEL_efc1f52eaeb641758bff05260f8090b0",
       "style": "IPY_MODEL_72fe529ea4664f9bbf94a3c1faac00b3",
       "value": 100
      }
     },
     "4e1acd0881374233a86bc771918d03c5": {
      "model_module": "jupyter-js-widgets",
      "model_module_version": "~2.1.4",
      "model_name": "ProgressModel",
      "state": {
       "_model_module_version": "~2.1.4",
       "_view_module_version": "~2.1.4",
       "bar_style": "success",
       "description": "Disease Data: ",
       "layout": "IPY_MODEL_46682719c58b4eaebb84c6f3b1901850",
       "max": 111,
       "style": "IPY_MODEL_516be2828f9249768b50fc27743af48d",
       "value": 111
      }
     },
     "4ed7105f92ec4cebaee161764493fef4": {
      "model_module": "jupyter-js-widgets",
      "model_module_version": "~2.1.4",
      "model_name": "ProgressStyleModel",
      "state": {
       "_model_module_version": "~2.1.4",
       "_view_module_version": "~2.1.4"
      }
     },
     "516be2828f9249768b50fc27743af48d": {
      "model_module": "jupyter-js-widgets",
      "model_module_version": "~2.1.4",
      "model_name": "ProgressStyleModel",
      "state": {
       "_model_module_version": "~2.1.4",
       "_view_module_version": "~2.1.4"
      }
     },
     "556e8882336944c08ab74229ac363372": {
      "model_module": "jupyter-js-widgets",
      "model_module_version": "~2.1.4",
      "model_name": "ProgressModel",
      "state": {
       "_model_module_version": "~2.1.4",
       "_view_module_version": "~2.1.4",
       "bar_style": "success",
       "description": "Symptoms: ",
       "layout": "IPY_MODEL_31f4f00bc0884a4bbbff8baf1eca0ba2",
       "max": 111,
       "style": "IPY_MODEL_8a72753c58164e818f0a8e38bbe2222e",
       "value": 111
      }
     },
     "67c67b1bd99c41fd8add6b9ba74ee0c0": {
      "model_module": "jupyter-js-widgets",
      "model_module_version": "~2.1.4",
      "model_name": "HTMLModel",
      "state": {
       "_model_module_version": "~2.1.4",
       "_view_module_version": "~2.1.4",
       "layout": "IPY_MODEL_0fd96a518eba4c5a972459214becf81e",
       "value": "100% 11/11 [00:00&lt;00:00, 47.03it/s]"
      }
     },
     "72fe529ea4664f9bbf94a3c1faac00b3": {
      "model_module": "jupyter-js-widgets",
      "model_module_version": "~2.1.4",
      "model_name": "ProgressStyleModel",
      "state": {
       "_model_module_version": "~2.1.4",
       "_view_module_version": "~2.1.4"
      }
     },
     "776003b30f2f438395361de42bac69d4": {
      "model_module": "jupyter-js-widgets",
      "model_module_version": "~2.1.4",
      "model_name": "LayoutModel",
      "state": {
       "_model_module_version": "~2.1.4",
       "_view_module_version": "~2.1.4"
      }
     },
     "7e1e26243ed64a58a602e31593add0c2": {
      "model_module": "jupyter-js-widgets",
      "model_module_version": "~2.1.4",
      "model_name": "HBoxModel",
      "state": {
       "_model_module_version": "~2.1.4",
       "_view_module_version": "~2.1.4",
       "children": [
        "IPY_MODEL_32ba82e7eeb944adb54f2f252a025481",
        "IPY_MODEL_4ad87dbb814c444887005db6c90074be"
       ],
       "layout": "IPY_MODEL_776003b30f2f438395361de42bac69d4"
      }
     },
     "7e7e4afe084743ba87cc8b91362fc085": {
      "model_module": "jupyter-js-widgets",
      "model_module_version": "~2.1.4",
      "model_name": "HBoxModel",
      "state": {
       "_model_module_version": "~2.1.4",
       "_view_module_version": "~2.1.4",
       "children": [
        "IPY_MODEL_e031424543e64ea0981f8921e65c1cef",
        "IPY_MODEL_67c67b1bd99c41fd8add6b9ba74ee0c0"
       ],
       "layout": "IPY_MODEL_b0611da73a984a27bdb130b1af8f80ac"
      }
     },
     "82c78909b2264d8d96ad1981052fcd05": {
      "model_module": "jupyter-js-widgets",
      "model_module_version": "~2.1.4",
      "model_name": "HTMLModel",
      "state": {
       "_model_module_version": "~2.1.4",
       "_view_module_version": "~2.1.4",
       "layout": "IPY_MODEL_199918c1b748455f921322bf25baa539",
       "value": "100% 111/111 [00:00&lt;00:00, 1740.24it/s]"
      }
     },
     "85022cd7a0da4f66910bc4632ec965a9": {
      "model_module": "jupyter-js-widgets",
      "model_module_version": "~2.1.4",
      "model_name": "LayoutModel",
      "state": {
       "_model_module_version": "~2.1.4",
       "_view_module_version": "~2.1.4"
      }
     },
     "8a1e2cf1754247e8a0ab25cd70d3918f": {
      "model_module": "jupyter-js-widgets",
      "model_module_version": "~2.1.4",
      "model_name": "HTMLModel",
      "state": {
       "_model_module_version": "~2.1.4",
       "_view_module_version": "~2.1.4",
       "layout": "IPY_MODEL_a9fd70dbb2bd49829ecff3de511b072d",
       "value": "100% 4/4 [00:05&lt;00:00,  1.43s/it]"
      }
     },
     "8a2b32dd67b54c6397a485d6d5536840": {
      "model_module": "jupyter-js-widgets",
      "model_module_version": "~2.1.4",
      "model_name": "HBoxModel",
      "state": {
       "_model_module_version": "~2.1.4",
       "_view_module_version": "~2.1.4",
       "children": [
        "IPY_MODEL_051f2d6e9fcc4d0c9b0b75ff77dff588",
        "IPY_MODEL_8a1e2cf1754247e8a0ab25cd70d3918f"
       ],
       "layout": "IPY_MODEL_afac148f4df44fab97c01c6f2d1340c1"
      }
     },
     "8a72753c58164e818f0a8e38bbe2222e": {
      "model_module": "jupyter-js-widgets",
      "model_module_version": "~2.1.4",
      "model_name": "ProgressStyleModel",
      "state": {
       "_model_module_version": "~2.1.4",
       "_view_module_version": "~2.1.4"
      }
     },
     "919f0f0e0427477fa9876ae94c4ef6eb": {
      "model_module": "jupyter-js-widgets",
      "model_module_version": "~2.1.4",
      "model_name": "LayoutModel",
      "state": {
       "_model_module_version": "~2.1.4",
       "_view_module_version": "~2.1.4"
      }
     },
     "951141ccf6dc496d8f1635d639121c8c": {
      "model_module": "jupyter-js-widgets",
      "model_module_version": "~2.1.4",
      "model_name": "HBoxModel",
      "state": {
       "_model_module_version": "~2.1.4",
       "_view_module_version": "~2.1.4",
       "children": [
        "IPY_MODEL_4e1589b5425c4997bfdc59999d1305a1",
        "IPY_MODEL_e10a8f5184da4167a3478f0063b753c3"
       ],
       "layout": "IPY_MODEL_919f0f0e0427477fa9876ae94c4ef6eb"
      }
     },
     "961a55f04e194c8bb4312bb0e6f69791": {
      "model_module": "jupyter-js-widgets",
      "model_module_version": "~2.1.4",
      "model_name": "LayoutModel",
      "state": {
       "_model_module_version": "~2.1.4",
       "_view_module_version": "~2.1.4"
      }
     },
     "965b9e70249f42ef89e010606242f3b5": {
      "model_module": "jupyter-js-widgets",
      "model_module_version": "~2.1.4",
      "model_name": "HTMLModel",
      "state": {
       "_model_module_version": "~2.1.4",
       "_view_module_version": "~2.1.4",
       "layout": "IPY_MODEL_cec98db5bc0b4047a4c780d6d39b07fa",
       "value": "100% 111/111 [00:00&lt;00:00, 2161.13it/s]"
      }
     },
     "9e19667dfcb4472cacb537ce1d08e4e5": {
      "model_module": "jupyter-js-widgets",
      "model_module_version": "~2.1.4",
      "model_name": "LayoutModel",
      "state": {
       "_model_module_version": "~2.1.4",
       "_view_module_version": "~2.1.4"
      }
     },
     "a66a303f84db4e59b3876f5e1fb02015": {
      "model_module": "jupyter-js-widgets",
      "model_module_version": "~2.1.4",
      "model_name": "HBoxModel",
      "state": {
       "_model_module_version": "~2.1.4",
       "_view_module_version": "~2.1.4",
       "children": [
        "IPY_MODEL_05d4cddbe88b410e99294b0d7be4821e",
        "IPY_MODEL_2b0a4b4cd52e4b66b1f025805aef8aca"
       ],
       "layout": "IPY_MODEL_ac5d289bd823438ba72ca2cbaa879ee2"
      }
     },
     "a9fd70dbb2bd49829ecff3de511b072d": {
      "model_module": "jupyter-js-widgets",
      "model_module_version": "~2.1.4",
      "model_name": "LayoutModel",
      "state": {
       "_model_module_version": "~2.1.4",
       "_view_module_version": "~2.1.4"
      }
     },
     "ac20a7a9e13b4fdfb77e6486e6ab1989": {
      "model_module": "jupyter-js-widgets",
      "model_module_version": "~2.1.4",
      "model_name": "ProgressModel",
      "state": {
       "_model_module_version": "~2.1.4",
       "_view_module_version": "~2.1.4",
       "bar_style": "success",
       "description": "Obtaining Images: ",
       "layout": "IPY_MODEL_370c2bb160604619a20d597d16999a13",
       "style": "IPY_MODEL_3ec72679631641989311f28cc2120cb6",
       "value": 100
      }
     },
     "ac41163fc7274264b25f8126f24295d9": {
      "model_module": "jupyter-js-widgets",
      "model_module_version": "~2.1.4",
      "model_name": "LayoutModel",
      "state": {
       "_model_module_version": "~2.1.4",
       "_view_module_version": "~2.1.4"
      }
     },
     "ac5d289bd823438ba72ca2cbaa879ee2": {
      "model_module": "jupyter-js-widgets",
      "model_module_version": "~2.1.4",
      "model_name": "LayoutModel",
      "state": {
       "_model_module_version": "~2.1.4",
       "_view_module_version": "~2.1.4"
      }
     },
     "afac148f4df44fab97c01c6f2d1340c1": {
      "model_module": "jupyter-js-widgets",
      "model_module_version": "~2.1.4",
      "model_name": "LayoutModel",
      "state": {
       "_model_module_version": "~2.1.4",
       "_view_module_version": "~2.1.4"
      }
     },
     "b0611da73a984a27bdb130b1af8f80ac": {
      "model_module": "jupyter-js-widgets",
      "model_module_version": "~2.1.4",
      "model_name": "LayoutModel",
      "state": {
       "_model_module_version": "~2.1.4",
       "_view_module_version": "~2.1.4"
      }
     },
     "b3df089fb5034224893603676dd79fe4": {
      "model_module": "jupyter-js-widgets",
      "model_module_version": "~2.1.4",
      "model_name": "LayoutModel",
      "state": {
       "_model_module_version": "~2.1.4",
       "_view_module_version": "~2.1.4"
      }
     },
     "b4dc61924708411799efda3e2cbdd2a7": {
      "model_module": "jupyter-js-widgets",
      "model_module_version": "~2.1.4",
      "model_name": "LayoutModel",
      "state": {
       "_model_module_version": "~2.1.4",
       "_view_module_version": "~2.1.4"
      }
     },
     "c6d722e312904bcb88ec9917e634054e": {
      "model_module": "jupyter-js-widgets",
      "model_module_version": "~2.1.4",
      "model_name": "HTMLModel",
      "state": {
       "_model_module_version": "~2.1.4",
       "_view_module_version": "~2.1.4",
       "layout": "IPY_MODEL_ac41163fc7274264b25f8126f24295d9",
       "value": "100% 100/100 [00:07&lt;00:00, 12.71it/s]"
      }
     },
     "cb09d6a87df44d08beab42b997c53141": {
      "model_module": "jupyter-js-widgets",
      "model_module_version": "~2.1.4",
      "model_name": "LayoutModel",
      "state": {
       "_model_module_version": "~2.1.4",
       "_view_module_version": "~2.1.4"
      }
     },
     "cec98db5bc0b4047a4c780d6d39b07fa": {
      "model_module": "jupyter-js-widgets",
      "model_module_version": "~2.1.4",
      "model_name": "LayoutModel",
      "state": {
       "_model_module_version": "~2.1.4",
       "_view_module_version": "~2.1.4"
      }
     },
     "d25e889776874ce48247e39874012d63": {
      "model_module": "jupyter-js-widgets",
      "model_module_version": "~2.1.4",
      "model_name": "HBoxModel",
      "state": {
       "_model_module_version": "~2.1.4",
       "_view_module_version": "~2.1.4",
       "children": [
        "IPY_MODEL_4e1acd0881374233a86bc771918d03c5",
        "IPY_MODEL_1b820eb3afc341f58f4259f08c1ddc3c"
       ],
       "layout": "IPY_MODEL_961a55f04e194c8bb4312bb0e6f69791"
      }
     },
     "d892901f4ebe47e6b68b4d9242e8cccf": {
      "model_module": "jupyter-js-widgets",
      "model_module_version": "~2.1.4",
      "model_name": "LayoutModel",
      "state": {
       "_model_module_version": "~2.1.4",
       "_view_module_version": "~2.1.4"
      }
     },
     "e031424543e64ea0981f8921e65c1cef": {
      "model_module": "jupyter-js-widgets",
      "model_module_version": "~2.1.4",
      "model_name": "ProgressModel",
      "state": {
       "_model_module_version": "~2.1.4",
       "_view_module_version": "~2.1.4",
       "bar_style": "success",
       "description": "Obtaining Images: ",
       "layout": "IPY_MODEL_0bab2c62e7cf4d61aca3811ed75fc0af",
       "max": 11,
       "style": "IPY_MODEL_177c412e00184e7db2496971063791ae",
       "value": 11
      }
     },
     "e10a8f5184da4167a3478f0063b753c3": {
      "model_module": "jupyter-js-widgets",
      "model_module_version": "~2.1.4",
      "model_name": "HTMLModel",
      "state": {
       "_model_module_version": "~2.1.4",
       "_view_module_version": "~2.1.4",
       "layout": "IPY_MODEL_07e0773b7e634df194caacf416520e66",
       "value": "100% 100/100 [00:03&lt;00:00, 29.68it/s]"
      }
     },
     "e1a856ecf22c4514891c9e5197e042f1": {
      "model_module": "jupyter-js-widgets",
      "model_module_version": "~2.1.4",
      "model_name": "ProgressModel",
      "state": {
       "_model_module_version": "~2.1.4",
       "_view_module_version": "~2.1.4",
       "bar_style": "success",
       "description": "Matching Symptoms: ",
       "layout": "IPY_MODEL_9e19667dfcb4472cacb537ce1d08e4e5",
       "max": 111,
       "style": "IPY_MODEL_49ba0e78fef9418392ec4f6cdbe47efa",
       "value": 111
      }
     },
     "ec7144fef12249fcbea0783392003ded": {
      "model_module": "jupyter-js-widgets",
      "model_module_version": "~2.1.4",
      "model_name": "ProgressStyleModel",
      "state": {
       "_model_module_version": "~2.1.4",
       "_view_module_version": "~2.1.4"
      }
     },
     "efc1f52eaeb641758bff05260f8090b0": {
      "model_module": "jupyter-js-widgets",
      "model_module_version": "~2.1.4",
      "model_name": "LayoutModel",
      "state": {
       "_model_module_version": "~2.1.4",
       "_view_module_version": "~2.1.4"
      }
     },
     "f2b6b61189f84414b3c3f0bc84485862": {
      "model_module": "jupyter-js-widgets",
      "model_module_version": "~2.1.4",
      "model_name": "HBoxModel",
      "state": {
       "_model_module_version": "~2.1.4",
       "_view_module_version": "~2.1.4",
       "children": [
        "IPY_MODEL_e1a856ecf22c4514891c9e5197e042f1",
        "IPY_MODEL_82c78909b2264d8d96ad1981052fcd05"
       ],
       "layout": "IPY_MODEL_b3df089fb5034224893603676dd79fe4"
      }
     },
     "fb116c6f0e564780b96e360bcd780836": {
      "model_module": "jupyter-js-widgets",
      "model_module_version": "~2.1.4",
      "model_name": "ProgressStyleModel",
      "state": {
       "_model_module_version": "~2.1.4",
       "_view_module_version": "~2.1.4"
      }
     }
    },
    "version_major": 1,
    "version_minor": 0
   }
  }
 },
 "nbformat": 4,
 "nbformat_minor": 2
}
