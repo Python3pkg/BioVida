{
 "cells": [
  {
   "cell_type": "markdown",
   "metadata": {},
   "source": [
    "BioVida: The Cancer Imaging Archive\n",
    "===================\n",
    "---"
   ]
  },
  {
   "cell_type": "markdown",
   "metadata": {},
   "source": [
    "[The Cancer Imaging Archive](http://www.cancerimagingarchive.net) is a large repository of medical images of various forms of cancer. Programmatic web access is granted through a RESTful web API. However, this service requires an API-key to use, which you can apply for by following the instructions found [here](https://wiki.cancerimagingarchive.net/display/Public/TCIA+Programmatic+Interface+%28REST+API%29+Usage+Guide). Typically, this process is very speedy. <br>\n",
    "\n",
    "**Note**: If it is heavily requested, BioVida may simply include an API key for this service in the future. At the moment however, you will have to follow the instructions linked to above to obtain one.\n"
   ]
  },
  {
   "cell_type": "markdown",
   "metadata": {},
   "source": [
    "BioVida provides an easy-to-use python interface for this web API which, like the ``OpeniInterface`` class, is located in the images subpackage."
   ]
  },
  {
   "cell_type": "code",
   "execution_count": 1,
   "metadata": {},
   "outputs": [
    {
     "name": "stderr",
     "output_type": "stream",
     "text": [
      "Using Theano backend.\n"
     ]
    }
   ],
   "source": [
    "from biovida.images import CancerImageInterface"
   ]
  },
  {
   "cell_type": "markdown",
   "metadata": {},
   "source": [
    "We can instantiate an instance of the tool using an API key."
   ]
  },
  {
   "cell_type": "code",
   "execution_count": 2,
   "metadata": {
    "collapsed": true
   },
   "outputs": [],
   "source": [
    "cii = CancerImageInterface(api_key=YOUR_API_KEY)"
   ]
  },
  {
   "cell_type": "markdown",
   "metadata": {},
   "source": [
    "Note:\n",
    "\n",
    "The number of studies (collections) provided here is somewhat shorter than what is provided on [The Cancer Imaging Archive](http://www.cancerimagingarchive.net)'s website. This is because certain studies, such as those with restricted access, are excluded."
   ]
  },
  {
   "cell_type": "markdown",
   "metadata": {
    "collapsed": true
   },
   "source": [
    "With this notice out of the way, let's go ahead and perform a search."
   ]
  },
  {
   "cell_type": "code",
   "execution_count": 3,
   "metadata": {},
   "outputs": [
    {
     "data": {
      "text/html": [
       "<div>\n",
       "<table border=\"1\" class=\"dataframe\">\n",
       "  <thead>\n",
       "    <tr style=\"text-align: right;\">\n",
       "      <th></th>\n",
       "      <th>collection</th>\n",
       "      <th>cancer_type</th>\n",
       "      <th>modalities</th>\n",
       "      <th>subjects</th>\n",
       "      <th>location</th>\n",
       "      <th>metadata</th>\n",
       "      <th>access</th>\n",
       "      <th>status</th>\n",
       "      <th>updated</th>\n",
       "      <th>modalities_full</th>\n",
       "    </tr>\n",
       "  </thead>\n",
       "  <tbody>\n",
       "    <tr>\n",
       "      <th>0</th>\n",
       "      <td>ISPY1</td>\n",
       "      <td>Breast Cancer</td>\n",
       "      <td>MR, SEG</td>\n",
       "      <td>222</td>\n",
       "      <td>[Breast]</td>\n",
       "      <td>Yes</td>\n",
       "      <td>Public</td>\n",
       "      <td>Complete</td>\n",
       "      <td>2016-08-31</td>\n",
       "      <td>[Magnetic Resonance Imaging (MRI), Segmentation]</td>\n",
       "    </tr>\n",
       "    <tr>\n",
       "      <th>1</th>\n",
       "      <td>CBIS-DDSM</td>\n",
       "      <td>Breast Cancer</td>\n",
       "      <td>MG</td>\n",
       "      <td>1431</td>\n",
       "      <td>[Breast]</td>\n",
       "      <td>Yes</td>\n",
       "      <td>Public</td>\n",
       "      <td>Ongoing</td>\n",
       "      <td>2016-08-31</td>\n",
       "      <td>[Mammography]</td>\n",
       "    </tr>\n",
       "    <tr>\n",
       "      <th>2</th>\n",
       "      <td>Breast-MRI-NACT-Pilot</td>\n",
       "      <td>Breast Cancer</td>\n",
       "      <td>MR, SEG</td>\n",
       "      <td>64</td>\n",
       "      <td>[Breast]</td>\n",
       "      <td>Yes</td>\n",
       "      <td>Public</td>\n",
       "      <td>Complete</td>\n",
       "      <td>2016-01-26</td>\n",
       "      <td>[Magnetic Resonance Imaging (MRI), Segmentation]</td>\n",
       "    </tr>\n",
       "    <tr>\n",
       "      <th>3</th>\n",
       "      <td>TCGA-BRCA</td>\n",
       "      <td>Breast Cancer</td>\n",
       "      <td>MR, MG</td>\n",
       "      <td>139</td>\n",
       "      <td>[Breast]</td>\n",
       "      <td>Yes</td>\n",
       "      <td>Public</td>\n",
       "      <td>Ongoing</td>\n",
       "      <td>2014-12-30</td>\n",
       "      <td>[Magnetic Resonance Imaging (MRI), Mammography]</td>\n",
       "    </tr>\n",
       "    <tr>\n",
       "      <th>4</th>\n",
       "      <td>QIN Breast DCE-MRI</td>\n",
       "      <td>Breast Cancer</td>\n",
       "      <td>MR, KO</td>\n",
       "      <td>10</td>\n",
       "      <td>[Breast]</td>\n",
       "      <td>Yes</td>\n",
       "      <td>Public</td>\n",
       "      <td>Ongoing</td>\n",
       "      <td>2014-07-31</td>\n",
       "      <td>[Magnetic Resonance Imaging (MRI), Key Object ...</td>\n",
       "    </tr>\n",
       "    <tr>\n",
       "      <th>5</th>\n",
       "      <td>Breast Diagnosis</td>\n",
       "      <td>Breast Cancer</td>\n",
       "      <td>MR, PT, CT, MG</td>\n",
       "      <td>88</td>\n",
       "      <td>[Breast]</td>\n",
       "      <td>Yes</td>\n",
       "      <td>Public</td>\n",
       "      <td>Complete</td>\n",
       "      <td>2011-11-09</td>\n",
       "      <td>[Magnetic Resonance Imaging (MRI), Positron Em...</td>\n",
       "    </tr>\n",
       "    <tr>\n",
       "      <th>6</th>\n",
       "      <td>RIDER Breast MRI</td>\n",
       "      <td>Breast Cancer</td>\n",
       "      <td>MR</td>\n",
       "      <td>5</td>\n",
       "      <td>[Breast]</td>\n",
       "      <td>No</td>\n",
       "      <td>Public</td>\n",
       "      <td>Complete</td>\n",
       "      <td>2011-11-08</td>\n",
       "      <td>[Magnetic Resonance Imaging (MRI)]</td>\n",
       "    </tr>\n",
       "  </tbody>\n",
       "</table>\n",
       "</div>"
      ],
      "text/plain": [
       "              collection    cancer_type      modalities  subjects  location  \\\n",
       "0                  ISPY1  Breast Cancer         MR, SEG       222  [Breast]   \n",
       "1              CBIS-DDSM  Breast Cancer              MG      1431  [Breast]   \n",
       "2  Breast-MRI-NACT-Pilot  Breast Cancer         MR, SEG        64  [Breast]   \n",
       "3              TCGA-BRCA  Breast Cancer          MR, MG       139  [Breast]   \n",
       "4     QIN Breast DCE-MRI  Breast Cancer          MR, KO        10  [Breast]   \n",
       "5       Breast Diagnosis  Breast Cancer  MR, PT, CT, MG        88  [Breast]   \n",
       "6       RIDER Breast MRI  Breast Cancer              MR         5  [Breast]   \n",
       "\n",
       "  metadata  access    status    updated  \\\n",
       "0      Yes  Public  Complete 2016-08-31   \n",
       "1      Yes  Public   Ongoing 2016-08-31   \n",
       "2      Yes  Public  Complete 2016-01-26   \n",
       "3      Yes  Public   Ongoing 2014-12-30   \n",
       "4      Yes  Public   Ongoing 2014-07-31   \n",
       "5      Yes  Public  Complete 2011-11-09   \n",
       "6       No  Public  Complete 2011-11-08   \n",
       "\n",
       "                                     modalities_full  \n",
       "0   [Magnetic Resonance Imaging (MRI), Segmentation]  \n",
       "1                                      [Mammography]  \n",
       "2   [Magnetic Resonance Imaging (MRI), Segmentation]  \n",
       "3    [Magnetic Resonance Imaging (MRI), Mammography]  \n",
       "4  [Magnetic Resonance Imaging (MRI), Key Object ...  \n",
       "5  [Magnetic Resonance Imaging (MRI), Positron Em...  \n",
       "6                 [Magnetic Resonance Imaging (MRI)]  "
      ]
     },
     "execution_count": 3,
     "metadata": {},
     "output_type": "execute_result"
    }
   ],
   "source": [
    "cii.search(cancer_type='breast')"
   ]
  },
  {
   "cell_type": "markdown",
   "metadata": {
    "collapsed": true
   },
   "source": [
    "Next, we can easily download this data."
   ]
  },
  {
   "cell_type": "code",
   "execution_count": 4,
   "metadata": {
    "collapsed": true
   },
   "outputs": [],
   "source": [
    "import numpy as np\n",
    "def simplify_df(df):\n",
    "    \"\"\"This function simplifies dataframes\n",
    "    for the purposes of this tutorial.\"\"\"\n",
    "    data_frame = df.copy()\n",
    "    for c in ('cached_dicom_images_path', 'cached_images_path'):\n",
    "        data_frame[c] = data_frame[c].map(lambda x: tuple(['path_to_image'] * len(x)))\n",
    "    return data_frame[0:5].replace({np.NaN: ''})"
   ]
  },
  {
   "cell_type": "markdown",
   "metadata": {},
   "source": [
    "The code below will download the data in our search results, but with two noteworthy restrictions. <br>\n",
    "First, ``patient_limit=5`` will limit the number of patients/subjects downloaded to the first 5. <br>\n",
    "Second, ``collections_limit`` will limit the number of collections downloaded to one (in this case, 'TCGA-COAD'). <br>\n",
    "Third, ``session_limit=1`` will limit the results returned to the first time the patient/subject was scanned, e.g., before surgical intervention to remove diseased tissue. <br>\n",
    "\n",
    "\n",
    "Additionally, the ``save_dicom`` parameter will enable us to save the raw [DICOM](https://en.wikipedia.org/wiki/DICOM) image files that the Cancer Imaging Archive provides. By default, ``pull()`` deletes DICOM files after converting them into PNG images."
   ]
  },
  {
   "cell_type": "code",
   "execution_count": 5,
   "metadata": {},
   "outputs": [
    {
     "data": {
      "application/vnd.jupyter.widget-view+json": {
       "model_id": "1f9c826afdb646ff9cf5d5a7876c3b97"
      }
     },
     "metadata": {},
     "output_type": "display_data"
    },
    {
     "name": "stdout",
     "output_type": "stream",
     "text": [
      "\n"
     ]
    },
    {
     "data": {
      "application/vnd.jupyter.widget-view+json": {
       "model_id": "5c8927c9ca3b4c2190e362a14c6242a1"
      }
     },
     "metadata": {},
     "output_type": "display_data"
    },
    {
     "name": "stdout",
     "output_type": "stream",
     "text": [
      "\n"
     ]
    }
   ],
   "source": [
    "pull_df = cii.pull(patient_limit=5, collections_limit=1, session_limit=1, save_dicom=True)"
   ]
  },
  {
   "cell_type": "markdown",
   "metadata": {
    "collapsed": true
   },
   "source": [
    "Let's take a look at the data we've downloaded. We could view the ``pull_df`` object above, or the *identical* ``records_db`` attribute of ``cii``, e.g., ``cii.records_db``. However, both of those DataFrames contain several column which are not typically relevant for every data use. So, instead, we can view an abbreviated DataFrame, ``records_db_short``."
   ]
  },
  {
   "cell_type": "code",
   "execution_count": 6,
   "metadata": {},
   "outputs": [
    {
     "data": {
      "text/html": [
       "<div>\n",
       "<table border=\"1\" class=\"dataframe\">\n",
       "  <thead>\n",
       "    <tr style=\"text-align: right;\">\n",
       "      <th></th>\n",
       "      <th>modality</th>\n",
       "      <th>protocol_name</th>\n",
       "      <th>series_date</th>\n",
       "      <th>series_description</th>\n",
       "      <th>body_part_examined</th>\n",
       "      <th>annotations_flag</th>\n",
       "      <th>collection</th>\n",
       "      <th>manufacturer</th>\n",
       "      <th>manufacturer_model_name</th>\n",
       "      <th>age</th>\n",
       "      <th>...</th>\n",
       "      <th>cancer_type</th>\n",
       "      <th>query</th>\n",
       "      <th>pull_time</th>\n",
       "      <th>modality_full</th>\n",
       "      <th>series_number_rescaled</th>\n",
       "      <th>cached_dicom_images_path</th>\n",
       "      <th>cached_images_path</th>\n",
       "      <th>error_free_conversion</th>\n",
       "      <th>allowed_modality</th>\n",
       "      <th>image_count_converted_cache</th>\n",
       "    </tr>\n",
       "  </thead>\n",
       "  <tbody>\n",
       "    <tr>\n",
       "      <th>0</th>\n",
       "      <td>MR</td>\n",
       "      <td>3D FIESTA - LEFT</td>\n",
       "      <td>1984-10-13</td>\n",
       "      <td>3P LEFT BREAST SCOUT</td>\n",
       "      <td>breast</td>\n",
       "      <td></td>\n",
       "      <td>ISPY1</td>\n",
       "      <td>GE MEDICAL SYSTEMS</td>\n",
       "      <td>GENESIS_SIGNA</td>\n",
       "      <td>38.0</td>\n",
       "      <td>...</td>\n",
       "      <td>breast cancer</td>\n",
       "      <td>{'location': None, 'collection': None, 'cancer...</td>\n",
       "      <td>2017-04-06 23:42:37.713654</td>\n",
       "      <td>Magnetic Resonance Imaging (MRI)</td>\n",
       "      <td>1.0</td>\n",
       "      <td>(path_to_image, path_to_image, path_to_image, ...</td>\n",
       "      <td>(path_to_image, path_to_image, path_to_image, ...</td>\n",
       "      <td>True</td>\n",
       "      <td>True</td>\n",
       "      <td>45</td>\n",
       "    </tr>\n",
       "    <tr>\n",
       "      <th>1</th>\n",
       "      <td>MR</td>\n",
       "      <td>3D FIESTA - LEFT</td>\n",
       "      <td>1984-10-13</td>\n",
       "      <td>T1-axial-locator</td>\n",
       "      <td>breast</td>\n",
       "      <td></td>\n",
       "      <td>ISPY1</td>\n",
       "      <td>GE MEDICAL SYSTEMS</td>\n",
       "      <td>GENESIS_SIGNA</td>\n",
       "      <td>38.0</td>\n",
       "      <td>...</td>\n",
       "      <td>breast cancer</td>\n",
       "      <td>{'location': None, 'collection': None, 'cancer...</td>\n",
       "      <td>2017-04-06 23:42:37.713654</td>\n",
       "      <td>Magnetic Resonance Imaging (MRI)</td>\n",
       "      <td>2.0</td>\n",
       "      <td>(path_to_image, path_to_image, path_to_image, ...</td>\n",
       "      <td>(path_to_image, path_to_image, path_to_image, ...</td>\n",
       "      <td>True</td>\n",
       "      <td>True</td>\n",
       "      <td>15</td>\n",
       "    </tr>\n",
       "    <tr>\n",
       "      <th>2</th>\n",
       "      <td>MR</td>\n",
       "      <td>3D FIESTA - LEFT</td>\n",
       "      <td>1984-10-13</td>\n",
       "      <td>T2-FSE-Sagittal</td>\n",
       "      <td>breast</td>\n",
       "      <td></td>\n",
       "      <td>ISPY1</td>\n",
       "      <td>GE MEDICAL SYSTEMS</td>\n",
       "      <td>GENESIS_SIGNA</td>\n",
       "      <td>38.0</td>\n",
       "      <td>...</td>\n",
       "      <td>breast cancer</td>\n",
       "      <td>{'location': None, 'collection': None, 'cancer...</td>\n",
       "      <td>2017-04-06 23:42:37.713654</td>\n",
       "      <td>Magnetic Resonance Imaging (MRI)</td>\n",
       "      <td>3.0</td>\n",
       "      <td>(path_to_image, path_to_image, path_to_image, ...</td>\n",
       "      <td>(path_to_image, path_to_image, path_to_image, ...</td>\n",
       "      <td>True</td>\n",
       "      <td>True</td>\n",
       "      <td>36</td>\n",
       "    </tr>\n",
       "    <tr>\n",
       "      <th>3</th>\n",
       "      <td>MR</td>\n",
       "      <td>3D FIESTA - LEFT</td>\n",
       "      <td>1984-10-13</td>\n",
       "      <td>Dynamic-3dfgre</td>\n",
       "      <td>breast</td>\n",
       "      <td></td>\n",
       "      <td>ISPY1</td>\n",
       "      <td>GE MEDICAL SYSTEMS</td>\n",
       "      <td>GENESIS_SIGNA</td>\n",
       "      <td>38.0</td>\n",
       "      <td>...</td>\n",
       "      <td>breast cancer</td>\n",
       "      <td>{'location': None, 'collection': None, 'cancer...</td>\n",
       "      <td>2017-04-06 23:42:37.713654</td>\n",
       "      <td>Magnetic Resonance Imaging (MRI)</td>\n",
       "      <td>4.0</td>\n",
       "      <td>(path_to_image, path_to_image, path_to_image, ...</td>\n",
       "      <td>(path_to_image, path_to_image, path_to_image, ...</td>\n",
       "      <td>True</td>\n",
       "      <td>True</td>\n",
       "      <td>180</td>\n",
       "    </tr>\n",
       "    <tr>\n",
       "      <th>4</th>\n",
       "      <td>MR</td>\n",
       "      <td>3D FIESTA - LEFT</td>\n",
       "      <td>1984-10-13</td>\n",
       "      <td>Dynamic-3dfgre: SER</td>\n",
       "      <td>breast</td>\n",
       "      <td></td>\n",
       "      <td>ISPY1</td>\n",
       "      <td>GE MEDICAL SYSTEMS</td>\n",
       "      <td>GENESIS_SIGNA</td>\n",
       "      <td>38.0</td>\n",
       "      <td>...</td>\n",
       "      <td>breast cancer</td>\n",
       "      <td>{'location': None, 'collection': None, 'cancer...</td>\n",
       "      <td>2017-04-06 23:42:37.713654</td>\n",
       "      <td>Magnetic Resonance Imaging (MRI)</td>\n",
       "      <td>4.1</td>\n",
       "      <td>(path_to_image, path_to_image, path_to_image, ...</td>\n",
       "      <td>(path_to_image, path_to_image, path_to_image, ...</td>\n",
       "      <td>True</td>\n",
       "      <td>True</td>\n",
       "      <td>60</td>\n",
       "    </tr>\n",
       "  </tbody>\n",
       "</table>\n",
       "<p>5 rows × 26 columns</p>\n",
       "</div>"
      ],
      "text/plain": [
       "  modality     protocol_name series_date    series_description  \\\n",
       "0       MR  3D FIESTA - LEFT  1984-10-13  3P LEFT BREAST SCOUT   \n",
       "1       MR  3D FIESTA - LEFT  1984-10-13      T1-axial-locator   \n",
       "2       MR  3D FIESTA - LEFT  1984-10-13       T2-FSE-Sagittal   \n",
       "3       MR  3D FIESTA - LEFT  1984-10-13        Dynamic-3dfgre   \n",
       "4       MR  3D FIESTA - LEFT  1984-10-13   Dynamic-3dfgre: SER   \n",
       "\n",
       "  body_part_examined annotations_flag collection        manufacturer  \\\n",
       "0             breast                       ISPY1  GE MEDICAL SYSTEMS   \n",
       "1             breast                       ISPY1  GE MEDICAL SYSTEMS   \n",
       "2             breast                       ISPY1  GE MEDICAL SYSTEMS   \n",
       "3             breast                       ISPY1  GE MEDICAL SYSTEMS   \n",
       "4             breast                       ISPY1  GE MEDICAL SYSTEMS   \n",
       "\n",
       "  manufacturer_model_name   age             ...                cancer_type  \\\n",
       "0           GENESIS_SIGNA  38.0             ...              breast cancer   \n",
       "1           GENESIS_SIGNA  38.0             ...              breast cancer   \n",
       "2           GENESIS_SIGNA  38.0             ...              breast cancer   \n",
       "3           GENESIS_SIGNA  38.0             ...              breast cancer   \n",
       "4           GENESIS_SIGNA  38.0             ...              breast cancer   \n",
       "\n",
       "                                               query  \\\n",
       "0  {'location': None, 'collection': None, 'cancer...   \n",
       "1  {'location': None, 'collection': None, 'cancer...   \n",
       "2  {'location': None, 'collection': None, 'cancer...   \n",
       "3  {'location': None, 'collection': None, 'cancer...   \n",
       "4  {'location': None, 'collection': None, 'cancer...   \n",
       "\n",
       "                   pull_time                     modality_full  \\\n",
       "0 2017-04-06 23:42:37.713654  Magnetic Resonance Imaging (MRI)   \n",
       "1 2017-04-06 23:42:37.713654  Magnetic Resonance Imaging (MRI)   \n",
       "2 2017-04-06 23:42:37.713654  Magnetic Resonance Imaging (MRI)   \n",
       "3 2017-04-06 23:42:37.713654  Magnetic Resonance Imaging (MRI)   \n",
       "4 2017-04-06 23:42:37.713654  Magnetic Resonance Imaging (MRI)   \n",
       "\n",
       "  series_number_rescaled                           cached_dicom_images_path  \\\n",
       "0                    1.0  (path_to_image, path_to_image, path_to_image, ...   \n",
       "1                    2.0  (path_to_image, path_to_image, path_to_image, ...   \n",
       "2                    3.0  (path_to_image, path_to_image, path_to_image, ...   \n",
       "3                    4.0  (path_to_image, path_to_image, path_to_image, ...   \n",
       "4                    4.1  (path_to_image, path_to_image, path_to_image, ...   \n",
       "\n",
       "                                  cached_images_path error_free_conversion  \\\n",
       "0  (path_to_image, path_to_image, path_to_image, ...                  True   \n",
       "1  (path_to_image, path_to_image, path_to_image, ...                  True   \n",
       "2  (path_to_image, path_to_image, path_to_image, ...                  True   \n",
       "3  (path_to_image, path_to_image, path_to_image, ...                  True   \n",
       "4  (path_to_image, path_to_image, path_to_image, ...                  True   \n",
       "\n",
       "  allowed_modality image_count_converted_cache  \n",
       "0             True                          45  \n",
       "1             True                          15  \n",
       "2             True                          36  \n",
       "3             True                         180  \n",
       "4             True                          60  \n",
       "\n",
       "[5 rows x 26 columns]"
      ]
     },
     "execution_count": 6,
     "metadata": {},
     "output_type": "execute_result"
    }
   ],
   "source": [
    "simplify_df(cii.records_db_short)"
   ]
  },
  {
   "cell_type": "markdown",
   "metadata": {
    "collapsed": true
   },
   "source": [
    "**Notes**:\n",
    "\n",
    "- The ``'cached_dicom_images_path'`` and ``'cached_images_path'`` columns refer to *multiple* images.\n",
    "- The number of converted images may differ from the number of raw DICOM images because 3D DICOM images are saved as individual frames when they are converted to PNG. The ``'image_count_converted_cache'`` column provides an account of how many images resulted from any given DICOM $\\rightarrow$ PNG conversion."
   ]
  },
  {
   "cell_type": "markdown",
   "metadata": {},
   "source": [
    "Defense Against the Dark DICOMs\n",
    "-----------------------------"
   ]
  },
  {
   "cell_type": "markdown",
   "metadata": {},
   "source": [
    "The Cancer Imaging Archive stores images in a format known as Digital Imaging and Communications in Medicine ([DICOM](https://en.wikipedia.org/wiki/DICOM)). If you have experience working with this file format, you can safely skip this section."
   ]
  },
  {
   "cell_type": "markdown",
   "metadata": {},
   "source": [
    "In python, we can manipulate DICOM files using the [pydicom](https://github.com/darcymason/pydicom) library. This tool will allow us to extract the images data as ``ndarrays``."
   ]
  },
  {
   "cell_type": "code",
   "execution_count": 7,
   "metadata": {
    "collapsed": true
   },
   "outputs": [],
   "source": [
    "import dicom  # in the future you will have to use `import pydicom as dicom`"
   ]
  },
  {
   "cell_type": "markdown",
   "metadata": {},
   "source": [
    "We can also go ahead an import ``matplotlib`` to allow us to visualize the ``ndarrays`` we extract."
   ]
  },
  {
   "cell_type": "markdown",
   "metadata": {},
   "source": [
    "We can start by extracting a list of DICOMs from the images we downloaded above."
   ]
  },
  {
   "cell_type": "code",
   "execution_count": 8,
   "metadata": {
    "collapsed": true
   },
   "outputs": [],
   "source": [
    "sample_dicoms = cii.records_db['cached_dicom_images_path'].iloc[1]"
   ]
  },
  {
   "cell_type": "markdown",
   "metadata": {},
   "source": [
    "We can load these images in as ``ndarrays`` using the ``dicom`` (``pydicom``) library."
   ]
  },
  {
   "cell_type": "code",
   "execution_count": 9,
   "metadata": {
    "collapsed": true
   },
   "outputs": [],
   "source": [
    "dicoms_arrs = [dicom.read_file(f).pixel_array for f in sample_dicoms]"
   ]
  },
  {
   "cell_type": "markdown",
   "metadata": {},
   "source": [
    "DICOM represents imaging sessions with a *tag* known as SeriesInstanceUID. That is, the unique ID of the series.\n",
    "If multiple DICOM files/images share the same SeriesInstanceUID, it means they are part of the same 'series'. "
   ]
  },
  {
   "cell_type": "markdown",
   "metadata": {},
   "source": [
    "If we get the length of ``dicoms_arrs`` we see that multiple DICOM files share the same SeriesInstanceUID"
   ]
  },
  {
   "cell_type": "code",
   "execution_count": 10,
   "metadata": {},
   "outputs": [
    {
     "data": {
      "text/plain": [
       "15"
      ]
     },
     "execution_count": 10,
     "metadata": {},
     "output_type": "execute_result"
    }
   ],
   "source": [
    "len(dicoms_arrs)"
   ]
  },
  {
   "cell_type": "code",
   "execution_count": 11,
   "metadata": {},
   "outputs": [
    {
     "data": {
      "text/plain": [
       "'1.3.6.1.4.1.14519.5.2.1.7695.1700.220092773361369396087067751186'"
      ]
     },
     "execution_count": 11,
     "metadata": {},
     "output_type": "execute_result"
    }
   ],
   "source": [
    "cii.records_db['series_instance_uid'].iloc[1]"
   ]
  },
  {
   "cell_type": "markdown",
   "metadata": {},
   "source": [
    "Thus suggesting that this particular series is either a *3D volume* or a time-series. So we can go ahead stack these images on top of one another as a way of representing this relationship between the images."
   ]
  },
  {
   "cell_type": "code",
   "execution_count": 12,
   "metadata": {
    "collapsed": true
   },
   "outputs": [],
   "source": [
    "stacked_dicoms = np.stack(dicoms_arrs)"
   ]
  },
  {
   "cell_type": "markdown",
   "metadata": {},
   "source": [
    "If we check the shape of ``stacked_dicoms`` can see that we have indeed stacked 15 256x256 images on top of one another."
   ]
  },
  {
   "cell_type": "code",
   "execution_count": 13,
   "metadata": {},
   "outputs": [
    {
     "data": {
      "text/plain": [
       "(15, 256, 256)"
      ]
     },
     "execution_count": 13,
     "metadata": {},
     "output_type": "execute_result"
    }
   ],
   "source": [
    "stacked_dicoms.shape"
   ]
  },
  {
   "cell_type": "markdown",
   "metadata": {},
   "source": [
    "We can also go ahead and define a small function which will enable us to visualize this 'stack' of images."
   ]
  },
  {
   "cell_type": "code",
   "execution_count": 14,
   "metadata": {
    "collapsed": true
   },
   "outputs": [],
   "source": [
    "import matplotlib.pyplot as plt\n",
    "def sample_stack(stack, rows=3, cols=5, start_with=0, show_every=1):\n",
    "    \"\"\"Function to display stacked ndarray.\n",
    "    Source: https://www.raddq.com/dicom-processing-segmentation-visualization-in-python\n",
    "    Note: this code has been slightly modified.\"\"\"\n",
    "    if rows*cols != stack.shape[0]:\n",
    "        raise ValueError(\"The product of `rows` and `cols` does not equal number of images.\")\n",
    "    fig, ax = plt.subplots(rows, cols, figsize=[12, 12])\n",
    "    for i in range(rows*cols):\n",
    "        ind = start_with + i*show_every\n",
    "        ax[int(i/cols), int(i % cols)].set_title('slice {0}'.format(str(ind + 1)))\n",
    "        ax[int(i/cols), int(i % cols)].imshow(stack[ind], cmap='gray')\n",
    "        ax[int(i/cols), int(i % cols)].axis('off')\n",
    "    plt.show()"
   ]
  },
  {
   "cell_type": "markdown",
   "metadata": {},
   "source": [
    "If you're curious to see what these images look like, you can uncomment the line below to view the stack of images."
   ]
  },
  {
   "cell_type": "code",
   "execution_count": 15,
   "metadata": {},
   "outputs": [],
   "source": [
    "# sample_stack(stacked_dicoms, rows=3)"
   ]
  },
  {
   "cell_type": "markdown",
   "metadata": {
    "collapsed": true
   },
   "source": [
    "**Note**:\n",
    "\n",
    "Ordering DICOM images in space is tricky. Currently, this class uses a somewhat reliable, but far from ideal, means of ordering images. <br> **Errors are possible**. <br>\n",
    "\n",
    "<small>\n",
    "For the Medical Imaging Folks: <br>\n",
    "Images in the ``'series_instance_uid'`` column are ordered against the ``InstanceNumber`` tag instead of actually working out the geometry required to sort the images in space. This is obviously not ideal because, among other reasons, ``InstanceNumber`` is a type 2 tag. Hopefully, in the future, this is something that will be improved. \n",
    "</small>"
   ]
  },
  {
   "cell_type": "markdown",
   "metadata": {
    "collapsed": true
   },
   "source": [
    "### Train, Validation and Test"
   ]
  },
  {
   "cell_type": "markdown",
   "metadata": {
    "collapsed": true
   },
   "source": [
    "Spitting images obtained from the Cancer Imaging Archive into training, validation and/or testing sets is nearly identical to doing so using an instance of ``OpeniInterface`` class introduced in the prior tutorial. Accordingly, the instructions provided here will be condensed. If you would like more detail, please review this earlier tutorial."
   ]
  },
  {
   "cell_type": "markdown",
   "metadata": {
    "collapsed": true
   },
   "source": [
    "First, we import the ``image_divvy`` tool."
   ]
  },
  {
   "cell_type": "code",
   "execution_count": 16,
   "metadata": {
    "collapsed": true
   },
   "outputs": [],
   "source": [
    "from biovida.images import image_divvy"
   ]
  },
  {
   "cell_type": "markdown",
   "metadata": {
    "collapsed": true
   },
   "source": [
    "Next, we can define a 'divvy_rule'."
   ]
  },
  {
   "cell_type": "code",
   "execution_count": 17,
   "metadata": {
    "collapsed": true
   },
   "outputs": [],
   "source": [
    "def my_divvy_rule(row):\n",
    "    if row['modality_full'] == 'Magnetic Resonance Imaging (MRI)':\n",
    "        return 'mri'\n",
    "    if row['modality_full'] == 'Segmentation':\n",
    "        return 'seg'"
   ]
  },
  {
   "cell_type": "markdown",
   "metadata": {
    "collapsed": true
   },
   "source": [
    "This rule will select only those images which are MRIs. All other images will be excluded."
   ]
  },
  {
   "cell_type": "code",
   "execution_count": 18,
   "metadata": {},
   "outputs": [
    {
     "data": {
      "application/vnd.jupyter.widget-view+json": {
       "model_id": "bbe85fbde9694fa39c3d7511918f7711"
      }
     },
     "metadata": {},
     "output_type": "display_data"
    },
    {
     "name": "stdout",
     "output_type": "stream",
     "text": [
      "\n"
     ]
    },
    {
     "data": {
      "application/vnd.jupyter.widget-view+json": {
       "model_id": "44be69fb748e470c84bb8ae236669b40"
      }
     },
     "metadata": {},
     "output_type": "display_data"
    },
    {
     "name": "stdout",
     "output_type": "stream",
     "text": [
      "\n",
      "\n",
      "Structure:\n",
      "\n",
      "- 'train':\n",
      "  - 'mri'\n",
      "  - 'seg'\n",
      "- 'test':\n",
      "  - 'mri'\n",
      "  - 'seg'\n"
     ]
    }
   ],
   "source": [
    "train_test = image_divvy(instance=cii,\n",
    "                         divvy_rule=my_divvy_rule,\n",
    "                         db_to_extract='records_db',\n",
    "                         action='ndarray',\n",
    "                         train_val_test_dict={'train': 0.8, 'test': 0.2})"
   ]
  },
  {
   "cell_type": "code",
   "execution_count": 19,
   "metadata": {
    "collapsed": true
   },
   "outputs": [],
   "source": [
    "train_mri, test_mri = train_test['train']['mri'], train_test['test']['mri']\n",
    "train_seg, test_seg = train_test['train']['seg'], train_test['test']['seg']"
   ]
  },
  {
   "cell_type": "markdown",
   "metadata": {},
   "source": [
    "One important thing to point out is that ``image_divvy`` will automatically ``stack`` DICOM files that share the same ``SeriesInstanceUID``. <br>\n",
    "\n",
    "For example:"
   ]
  },
  {
   "cell_type": "code",
   "execution_count": 20,
   "metadata": {},
   "outputs": [
    {
     "data": {
      "text/plain": [
       "(23, 256, 256)"
      ]
     },
     "execution_count": 20,
     "metadata": {},
     "output_type": "execute_result"
    }
   ],
   "source": [
    "train_seg[10].shape"
   ]
  },
  {
   "cell_type": "markdown",
   "metadata": {},
   "source": [
    "Note: this behavior can be disabled by passing ``False`` to the ``stack`` argument."
   ]
  },
  {
   "cell_type": "markdown",
   "metadata": {
    "collapsed": true
   },
   "source": [
    "---"
   ]
  },
  {
   "cell_type": "markdown",
   "metadata": {
    "collapsed": true
   },
   "source": [
    "Here we've explored how ``BioVida`` can be used to easily obtain and process data from the Cancer Imaging Archive database. <br>\n",
    "\n",
    "In the next tutorial, we'll investigate ways of managing and integrating the data cached by ``BioVida``.\n"
   ]
  },
  {
   "cell_type": "markdown",
   "metadata": {
    "collapsed": true
   },
   "source": [
    "---"
   ]
  }
 ],
 "metadata": {
  "kernelspec": {
   "display_name": "Python 3",
   "language": "python",
   "name": "python3"
  },
  "language_info": {
   "codemirror_mode": {
    "name": "ipython",
    "version": 3
   },
   "file_extension": ".py",
   "mimetype": "text/x-python",
   "name": "python",
   "nbconvert_exporter": "python",
   "pygments_lexer": "ipython3",
   "version": "3.5.2"
  },
  "widgets": {
   "application/vnd.jupyter.widget-state+json": {
    "state": {
     "00566420894e402f832111dd866225ba": {
      "model_module": "jupyter-js-widgets",
      "model_module_version": "~2.1.4",
      "model_name": "ProgressStyleModel",
      "state": {
       "_model_module_version": "~2.1.4",
       "_view_module_version": "~2.1.4"
      }
     },
     "00cda0371bee4c359fa60a8ea91fa444": {
      "model_module": "jupyter-js-widgets",
      "model_module_version": "~2.1.4",
      "model_name": "ProgressStyleModel",
      "state": {
       "_model_module_version": "~2.1.4",
       "_view_module_version": "~2.1.4"
      }
     },
     "052c20f6452448eeb0760f871b59870a": {
      "model_module": "jupyter-js-widgets",
      "model_module_version": "~2.1.4",
      "model_name": "HTMLModel",
      "state": {
       "_model_module_version": "~2.1.4",
       "_view_module_version": "~2.1.4",
       "layout": "IPY_MODEL_2e8ad28a3f574468be16015f097d483c",
       "value": "100% 52/52 [00:00&lt;00:00, 1304.24it/s]"
      }
     },
     "0c3dd060562f490089954adc09b3c093": {
      "model_module": "jupyter-js-widgets",
      "model_module_version": "~2.1.4",
      "model_name": "LayoutModel",
      "state": {
       "_model_module_version": "~2.1.4",
       "_view_module_version": "~2.1.4"
      }
     },
     "0cf353075b574bde9328c13c1a253c72": {
      "model_module": "jupyter-js-widgets",
      "model_module_version": "~2.1.4",
      "model_name": "HTMLModel",
      "state": {
       "_model_module_version": "~2.1.4",
       "_view_module_version": "~2.1.4",
       "layout": "IPY_MODEL_2195930be6284097985ed6badc60303b",
       "value": "100% 52/52 [00:00&lt;00:00, 1328.27it/s]"
      }
     },
     "0d2453dcd89c4e4387fd8533c2cb2167": {
      "model_module": "jupyter-js-widgets",
      "model_module_version": "~2.1.4",
      "model_name": "LayoutModel",
      "state": {
       "_model_module_version": "~2.1.4",
       "_view_module_version": "~2.1.4"
      }
     },
     "107ee3c62b234555b348cb592b598145": {
      "model_module": "jupyter-js-widgets",
      "model_module_version": "~2.1.4",
      "model_name": "ProgressStyleModel",
      "state": {
       "_model_module_version": "~2.1.4",
       "_view_module_version": "~2.1.4"
      }
     },
     "1217d19873324ffeb33a9926f0dcba44": {
      "model_module": "jupyter-js-widgets",
      "model_module_version": "~2.1.4",
      "model_name": "LayoutModel",
      "state": {
       "_model_module_version": "~2.1.4",
       "_view_module_version": "~2.1.4"
      }
     },
     "1413a16eb47e4ab6ba99f7d677752d67": {
      "model_module": "jupyter-js-widgets",
      "model_module_version": "~2.1.4",
      "model_name": "HTMLModel",
      "state": {
       "_model_module_version": "~2.1.4",
       "_view_module_version": "~2.1.4",
       "layout": "IPY_MODEL_db01219b839d4631b36464adebf59a49",
       "value": "100% 2/2 [00:14&lt;00:00,  9.26s/it]"
      }
     },
     "149a2b6c59734e98b59047657cc964c6": {
      "model_module": "jupyter-js-widgets",
      "model_module_version": "~2.1.4",
      "model_name": "HTMLModel",
      "state": {
       "_model_module_version": "~2.1.4",
       "_view_module_version": "~2.1.4",
       "layout": "IPY_MODEL_52746532c2a7498189de6245ec1edbc3",
       "value": "100% 5/5 [00:29&lt;00:00,  5.84s/it]"
      }
     },
     "160e521da3c94d1896e80bd6e7e52844": {
      "model_module": "jupyter-js-widgets",
      "model_module_version": "~2.1.4",
      "model_name": "ProgressModel",
      "state": {
       "_model_module_version": "~2.1.4",
       "_view_module_version": "~2.1.4",
       "bar_style": "success",
       "description": "Generating ndarrays: ",
       "layout": "IPY_MODEL_fc40e419b79b44e49b66de8c58646f4e",
       "max": 2,
       "style": "IPY_MODEL_67cc7457c8274b8298eec8f2756f8e52",
       "value": 2
      }
     },
     "17ff72f5c7a8472990448c909cc0d9d7": {
      "model_module": "jupyter-js-widgets",
      "model_module_version": "~2.1.4",
      "model_name": "LayoutModel",
      "state": {
       "_model_module_version": "~2.1.4",
       "_view_module_version": "~2.1.4"
      }
     },
     "18fe4b13cf1d4fa7949060c87c96dbd7": {
      "model_module": "jupyter-js-widgets",
      "model_module_version": "~2.1.4",
      "model_name": "ProgressModel",
      "state": {
       "_model_module_version": "~2.1.4",
       "_view_module_version": "~2.1.4",
       "bar_style": "success",
       "description": "Generating ndarrays: ",
       "layout": "IPY_MODEL_7870286e29f947bbb9de7528776f010a",
       "max": 2,
       "style": "IPY_MODEL_ba378fb7c24c4e99b1dace1109c06707",
       "value": 2
      }
     },
     "1d7463aa05264b62b4eb7190bcbe20f9": {
      "model_module": "jupyter-js-widgets",
      "model_module_version": "~2.1.4",
      "model_name": "ProgressModel",
      "state": {
       "_model_module_version": "~2.1.4",
       "_view_module_version": "~2.1.4",
       "bar_style": "success",
       "description": "Obtaining Images: ",
       "layout": "IPY_MODEL_2a30abad9689406ea10d48cc187bdf72",
       "max": 52,
       "style": "IPY_MODEL_00566420894e402f832111dd866225ba",
       "value": 52
      }
     },
     "1f9c826afdb646ff9cf5d5a7876c3b97": {
      "model_module": "jupyter-js-widgets",
      "model_module_version": "~2.1.4",
      "model_name": "HBoxModel",
      "state": {
       "_model_module_version": "~2.1.4",
       "_view_module_version": "~2.1.4",
       "children": [
        "IPY_MODEL_4844351f9d0c481a8470bab85b50be58",
        "IPY_MODEL_149a2b6c59734e98b59047657cc964c6"
       ],
       "layout": "IPY_MODEL_956e1ead11944dba88173ec037d40c2e"
      }
     },
     "200399713b9e4a97a97f61f696866c53": {
      "model_module": "jupyter-js-widgets",
      "model_module_version": "~2.1.4",
      "model_name": "HBoxModel",
      "state": {
       "_model_module_version": "~2.1.4",
       "_view_module_version": "~2.1.4",
       "children": [
        "IPY_MODEL_b5364cd4ac2b44fe8859ae3e56307b57",
        "IPY_MODEL_78d112ac498f48d98c2ced1c843eaefc"
       ],
       "layout": "IPY_MODEL_b57c4b760f934f01aeeb0663feeb6b86"
      }
     },
     "21209291033f46acbcf540b03aa99985": {
      "model_module": "jupyter-js-widgets",
      "model_module_version": "~2.1.4",
      "model_name": "HTMLModel",
      "state": {
       "_model_module_version": "~2.1.4",
       "_view_module_version": "~2.1.4",
       "layout": "IPY_MODEL_9f81620e5ff248619af67759e72f74bc",
       "value": "100% 2/2 [00:13&lt;00:00,  8.24s/it]"
      }
     },
     "2195930be6284097985ed6badc60303b": {
      "model_module": "jupyter-js-widgets",
      "model_module_version": "~2.1.4",
      "model_name": "LayoutModel",
      "state": {
       "_model_module_version": "~2.1.4",
       "_view_module_version": "~2.1.4"
      }
     },
     "24115c4770ac4235ac995b8766db6cb9": {
      "model_module": "jupyter-js-widgets",
      "model_module_version": "~2.1.4",
      "model_name": "LayoutModel",
      "state": {
       "_model_module_version": "~2.1.4",
       "_view_module_version": "~2.1.4"
      }
     },
     "2a30abad9689406ea10d48cc187bdf72": {
      "model_module": "jupyter-js-widgets",
      "model_module_version": "~2.1.4",
      "model_name": "LayoutModel",
      "state": {
       "_model_module_version": "~2.1.4",
       "_view_module_version": "~2.1.4"
      }
     },
     "2e8ad28a3f574468be16015f097d483c": {
      "model_module": "jupyter-js-widgets",
      "model_module_version": "~2.1.4",
      "model_name": "LayoutModel",
      "state": {
       "_model_module_version": "~2.1.4",
       "_view_module_version": "~2.1.4"
      }
     },
     "31ec762ff88c4467b644cab975245792": {
      "model_module": "jupyter-js-widgets",
      "model_module_version": "~2.1.4",
      "model_name": "ProgressModel",
      "state": {
       "_model_module_version": "~2.1.4",
       "_view_module_version": "~2.1.4",
       "bar_style": "success",
       "description": "Generating ndarrays: ",
       "layout": "IPY_MODEL_c2303f099f5e4783b77fe21cb39ce347",
       "max": 2,
       "style": "IPY_MODEL_00cda0371bee4c359fa60a8ea91fa444",
       "value": 2
      }
     },
     "32d6a991880740aa9f8f31147f95d7da": {
      "model_module": "jupyter-js-widgets",
      "model_module_version": "~2.1.4",
      "model_name": "ProgressStyleModel",
      "state": {
       "_model_module_version": "~2.1.4",
       "_view_module_version": "~2.1.4"
      }
     },
     "35322734bf544c8aa2ac2a40187f4430": {
      "model_module": "jupyter-js-widgets",
      "model_module_version": "~2.1.4",
      "model_name": "LayoutModel",
      "state": {
       "_model_module_version": "~2.1.4",
       "_view_module_version": "~2.1.4"
      }
     },
     "35ca97f876c74988ae6cd0b8b69be43b": {
      "model_module": "jupyter-js-widgets",
      "model_module_version": "~2.1.4",
      "model_name": "LayoutModel",
      "state": {
       "_model_module_version": "~2.1.4",
       "_view_module_version": "~2.1.4"
      }
     },
     "44782e6e56c549908c668eea4ae46644": {
      "model_module": "jupyter-js-widgets",
      "model_module_version": "~2.1.4",
      "model_name": "LayoutModel",
      "state": {
       "_model_module_version": "~2.1.4",
       "_view_module_version": "~2.1.4"
      }
     },
     "44be69fb748e470c84bb8ae236669b40": {
      "model_module": "jupyter-js-widgets",
      "model_module_version": "~2.1.4",
      "model_name": "HBoxModel",
      "state": {
       "_model_module_version": "~2.1.4",
       "_view_module_version": "~2.1.4",
       "children": [
        "IPY_MODEL_31ec762ff88c4467b644cab975245792",
        "IPY_MODEL_509dcf3e50914acb87596098c6b13891"
       ],
       "layout": "IPY_MODEL_fc53aed6b9b843869f28b949ffcbd69b"
      }
     },
     "44c4236ae145425898415bc272c93716": {
      "model_module": "jupyter-js-widgets",
      "model_module_version": "~2.1.4",
      "model_name": "ProgressStyleModel",
      "state": {
       "_model_module_version": "~2.1.4",
       "_view_module_version": "~2.1.4"
      }
     },
     "4786659b9e5444e58ece510743d144e2": {
      "model_module": "jupyter-js-widgets",
      "model_module_version": "~2.1.4",
      "model_name": "HTMLModel",
      "state": {
       "_model_module_version": "~2.1.4",
       "_view_module_version": "~2.1.4",
       "layout": "IPY_MODEL_24115c4770ac4235ac995b8766db6cb9",
       "value": "100% 52/52 [00:00&lt;00:00, 162.27it/s]"
      }
     },
     "481e49bcb8294b39b53943083abca1af": {
      "model_module": "jupyter-js-widgets",
      "model_module_version": "~2.1.4",
      "model_name": "LayoutModel",
      "state": {
       "_model_module_version": "~2.1.4",
       "_view_module_version": "~2.1.4"
      }
     },
     "4844351f9d0c481a8470bab85b50be58": {
      "model_module": "jupyter-js-widgets",
      "model_module_version": "~2.1.4",
      "model_name": "ProgressModel",
      "state": {
       "_model_module_version": "~2.1.4",
       "_view_module_version": "~2.1.4",
       "bar_style": "success",
       "description": "'ISPY1' Records: ",
       "layout": "IPY_MODEL_ae4cf61831e94f0b94049d9be3b54379",
       "max": 5,
       "style": "IPY_MODEL_107ee3c62b234555b348cb592b598145",
       "value": 5
      }
     },
     "4cd8c28d853e46f49b7adb37adf51458": {
      "model_module": "jupyter-js-widgets",
      "model_module_version": "~2.1.4",
      "model_name": "HTMLModel",
      "state": {
       "_model_module_version": "~2.1.4",
       "_view_module_version": "~2.1.4",
       "layout": "IPY_MODEL_e080f7e1e64b464591e5d7243eb064cd",
       "value": "100% 5/5 [00:51&lt;00:00, 10.59s/it]"
      }
     },
     "501b73addb2b4f30b8b17a515ddb6fb7": {
      "model_module": "jupyter-js-widgets",
      "model_module_version": "~2.1.4",
      "model_name": "ProgressModel",
      "state": {
       "_model_module_version": "~2.1.4",
       "_view_module_version": "~2.1.4",
       "bar_style": "success",
       "description": "Applying Divvy Rule: ",
       "layout": "IPY_MODEL_1217d19873324ffeb33a9926f0dcba44",
       "max": 52,
       "style": "IPY_MODEL_6921942e99e54ee3817215e1077dac23",
       "value": 52
      }
     },
     "509dcf3e50914acb87596098c6b13891": {
      "model_module": "jupyter-js-widgets",
      "model_module_version": "~2.1.4",
      "model_name": "HTMLModel",
      "state": {
       "_model_module_version": "~2.1.4",
       "_view_module_version": "~2.1.4",
       "layout": "IPY_MODEL_6c0551188dad416d957ad3699e122e08",
       "value": "100% 2/2 [00:14&lt;00:00,  9.00s/it]"
      }
     },
     "52746532c2a7498189de6245ec1edbc3": {
      "model_module": "jupyter-js-widgets",
      "model_module_version": "~2.1.4",
      "model_name": "LayoutModel",
      "state": {
       "_model_module_version": "~2.1.4",
       "_view_module_version": "~2.1.4"
      }
     },
     "58ece13d935f493dbd2fa39d8fec6845": {
      "model_module": "jupyter-js-widgets",
      "model_module_version": "~2.1.4",
      "model_name": "LayoutModel",
      "state": {
       "_model_module_version": "~2.1.4",
       "_view_module_version": "~2.1.4"
      }
     },
     "5c8927c9ca3b4c2190e362a14c6242a1": {
      "model_module": "jupyter-js-widgets",
      "model_module_version": "~2.1.4",
      "model_name": "HBoxModel",
      "state": {
       "_model_module_version": "~2.1.4",
       "_view_module_version": "~2.1.4",
       "children": [
        "IPY_MODEL_c087af6c29474a499238ade8a94c5800",
        "IPY_MODEL_ee9a98dc1a8249e2af2a6961dcd3988c"
       ],
       "layout": "IPY_MODEL_e3fc980757ad4f2497948b6aa7958b59"
      }
     },
     "6146193a6ab94a32aabb6a4e65047944": {
      "model_module": "jupyter-js-widgets",
      "model_module_version": "~2.1.4",
      "model_name": "ProgressModel",
      "state": {
       "_model_module_version": "~2.1.4",
       "_view_module_version": "~2.1.4",
       "bar_style": "success",
       "description": "'ISPY1' Records: ",
       "layout": "IPY_MODEL_0c3dd060562f490089954adc09b3c093",
       "max": 5,
       "style": "IPY_MODEL_e357e9b8557545958914be43c238f3e1",
       "value": 5
      }
     },
     "623268bb8cb7450494ae35aa9cff3f17": {
      "model_module": "jupyter-js-widgets",
      "model_module_version": "~2.1.4",
      "model_name": "HBoxModel",
      "state": {
       "_model_module_version": "~2.1.4",
       "_view_module_version": "~2.1.4",
       "children": [
        "IPY_MODEL_501b73addb2b4f30b8b17a515ddb6fb7",
        "IPY_MODEL_052c20f6452448eeb0760f871b59870a"
       ],
       "layout": "IPY_MODEL_44782e6e56c549908c668eea4ae46644"
      }
     },
     "67cc7457c8274b8298eec8f2756f8e52": {
      "model_module": "jupyter-js-widgets",
      "model_module_version": "~2.1.4",
      "model_name": "ProgressStyleModel",
      "state": {
       "_model_module_version": "~2.1.4",
       "_view_module_version": "~2.1.4"
      }
     },
     "6921942e99e54ee3817215e1077dac23": {
      "model_module": "jupyter-js-widgets",
      "model_module_version": "~2.1.4",
      "model_name": "ProgressStyleModel",
      "state": {
       "_model_module_version": "~2.1.4",
       "_view_module_version": "~2.1.4"
      }
     },
     "6c0551188dad416d957ad3699e122e08": {
      "model_module": "jupyter-js-widgets",
      "model_module_version": "~2.1.4",
      "model_name": "LayoutModel",
      "state": {
       "_model_module_version": "~2.1.4",
       "_view_module_version": "~2.1.4"
      }
     },
     "6e66a6711ab24455b40368f06901c5d9": {
      "model_module": "jupyter-js-widgets",
      "model_module_version": "~2.1.4",
      "model_name": "LayoutModel",
      "state": {
       "_model_module_version": "~2.1.4",
       "_view_module_version": "~2.1.4"
      }
     },
     "720501e20531478ba8110ae14b600ca3": {
      "model_module": "jupyter-js-widgets",
      "model_module_version": "~2.1.4",
      "model_name": "ProgressModel",
      "state": {
       "_model_module_version": "~2.1.4",
       "_view_module_version": "~2.1.4",
       "bar_style": "success",
       "description": "Obtaining Images: ",
       "layout": "IPY_MODEL_c64e0f36b0a34920951db50f5aa6fccd",
       "max": 52,
       "style": "IPY_MODEL_803bc2c454c649a68177da24f1a07b3a",
       "value": 52
      }
     },
     "7870286e29f947bbb9de7528776f010a": {
      "model_module": "jupyter-js-widgets",
      "model_module_version": "~2.1.4",
      "model_name": "LayoutModel",
      "state": {
       "_model_module_version": "~2.1.4",
       "_view_module_version": "~2.1.4"
      }
     },
     "78d112ac498f48d98c2ced1c843eaefc": {
      "model_module": "jupyter-js-widgets",
      "model_module_version": "~2.1.4",
      "model_name": "HTMLModel",
      "state": {
       "_model_module_version": "~2.1.4",
       "_view_module_version": "~2.1.4",
       "layout": "IPY_MODEL_6e66a6711ab24455b40368f06901c5d9",
       "value": "100% 5/5 [00:29&lt;00:00,  5.86s/it]"
      }
     },
     "803bc2c454c649a68177da24f1a07b3a": {
      "model_module": "jupyter-js-widgets",
      "model_module_version": "~2.1.4",
      "model_name": "ProgressStyleModel",
      "state": {
       "_model_module_version": "~2.1.4",
       "_view_module_version": "~2.1.4"
      }
     },
     "83f73d1c095749878587d50d6f427d67": {
      "model_module": "jupyter-js-widgets",
      "model_module_version": "~2.1.4",
      "model_name": "HBoxModel",
      "state": {
       "_model_module_version": "~2.1.4",
       "_view_module_version": "~2.1.4",
       "children": [
        "IPY_MODEL_160e521da3c94d1896e80bd6e7e52844",
        "IPY_MODEL_21209291033f46acbcf540b03aa99985"
       ],
       "layout": "IPY_MODEL_481e49bcb8294b39b53943083abca1af"
      }
     },
     "8fba0987dcc140c3ac84549a0b311013": {
      "model_module": "jupyter-js-widgets",
      "model_module_version": "~2.1.4",
      "model_name": "LayoutModel",
      "state": {
       "_model_module_version": "~2.1.4",
       "_view_module_version": "~2.1.4"
      }
     },
     "956e1ead11944dba88173ec037d40c2e": {
      "model_module": "jupyter-js-widgets",
      "model_module_version": "~2.1.4",
      "model_name": "LayoutModel",
      "state": {
       "_model_module_version": "~2.1.4",
       "_view_module_version": "~2.1.4"
      }
     },
     "95bf496da59a453ea67beabff303b624": {
      "model_module": "jupyter-js-widgets",
      "model_module_version": "~2.1.4",
      "model_name": "ProgressModel",
      "state": {
       "_model_module_version": "~2.1.4",
       "_view_module_version": "~2.1.4",
       "bar_style": "success",
       "description": "Applying Divvy Rule: ",
       "layout": "IPY_MODEL_58ece13d935f493dbd2fa39d8fec6845",
       "max": 52,
       "style": "IPY_MODEL_a493a53235fa473b813c3a6a44c4c5b2",
       "value": 52
      }
     },
     "9cb9802580dc4b32a369ae6d5a29f4c6": {
      "model_module": "jupyter-js-widgets",
      "model_module_version": "~2.1.4",
      "model_name": "LayoutModel",
      "state": {
       "_model_module_version": "~2.1.4",
       "_view_module_version": "~2.1.4"
      }
     },
     "9f81620e5ff248619af67759e72f74bc": {
      "model_module": "jupyter-js-widgets",
      "model_module_version": "~2.1.4",
      "model_name": "LayoutModel",
      "state": {
       "_model_module_version": "~2.1.4",
       "_view_module_version": "~2.1.4"
      }
     },
     "a2e8c4e1732641859a4bdcf93f9898af": {
      "model_module": "jupyter-js-widgets",
      "model_module_version": "~2.1.4",
      "model_name": "LayoutModel",
      "state": {
       "_model_module_version": "~2.1.4",
       "_view_module_version": "~2.1.4"
      }
     },
     "a493a53235fa473b813c3a6a44c4c5b2": {
      "model_module": "jupyter-js-widgets",
      "model_module_version": "~2.1.4",
      "model_name": "ProgressStyleModel",
      "state": {
       "_model_module_version": "~2.1.4",
       "_view_module_version": "~2.1.4"
      }
     },
     "a4c046eb91d44fb983d99f940346507e": {
      "model_module": "jupyter-js-widgets",
      "model_module_version": "~2.1.4",
      "model_name": "HBoxModel",
      "state": {
       "_model_module_version": "~2.1.4",
       "_view_module_version": "~2.1.4",
       "children": [
        "IPY_MODEL_1d7463aa05264b62b4eb7190bcbe20f9",
        "IPY_MODEL_a686ce9e1d2a453d9dc5e00693d49d55"
       ],
       "layout": "IPY_MODEL_35ca97f876c74988ae6cd0b8b69be43b"
      }
     },
     "a686ce9e1d2a453d9dc5e00693d49d55": {
      "model_module": "jupyter-js-widgets",
      "model_module_version": "~2.1.4",
      "model_name": "HTMLModel",
      "state": {
       "_model_module_version": "~2.1.4",
       "_view_module_version": "~2.1.4",
       "layout": "IPY_MODEL_ce906a1eb3934eff8a020fa3e1927b23",
       "value": "100% 52/52 [00:00&lt;00:00, 195.27it/s]"
      }
     },
     "acdce5121b5a4fc0857535a1e8f367ee": {
      "model_module": "jupyter-js-widgets",
      "model_module_version": "~2.1.4",
      "model_name": "LayoutModel",
      "state": {
       "_model_module_version": "~2.1.4",
       "_view_module_version": "~2.1.4"
      }
     },
     "ae4cf61831e94f0b94049d9be3b54379": {
      "model_module": "jupyter-js-widgets",
      "model_module_version": "~2.1.4",
      "model_name": "LayoutModel",
      "state": {
       "_model_module_version": "~2.1.4",
       "_view_module_version": "~2.1.4"
      }
     },
     "b5364cd4ac2b44fe8859ae3e56307b57": {
      "model_module": "jupyter-js-widgets",
      "model_module_version": "~2.1.4",
      "model_name": "ProgressModel",
      "state": {
       "_model_module_version": "~2.1.4",
       "_view_module_version": "~2.1.4",
       "bar_style": "success",
       "description": "'ISPY1' Records: ",
       "layout": "IPY_MODEL_9cb9802580dc4b32a369ae6d5a29f4c6",
       "max": 5,
       "style": "IPY_MODEL_32d6a991880740aa9f8f31147f95d7da",
       "value": 5
      }
     },
     "b57c4b760f934f01aeeb0663feeb6b86": {
      "model_module": "jupyter-js-widgets",
      "model_module_version": "~2.1.4",
      "model_name": "LayoutModel",
      "state": {
       "_model_module_version": "~2.1.4",
       "_view_module_version": "~2.1.4"
      }
     },
     "ba378fb7c24c4e99b1dace1109c06707": {
      "model_module": "jupyter-js-widgets",
      "model_module_version": "~2.1.4",
      "model_name": "ProgressStyleModel",
      "state": {
       "_model_module_version": "~2.1.4",
       "_view_module_version": "~2.1.4"
      }
     },
     "bbe85fbde9694fa39c3d7511918f7711": {
      "model_module": "jupyter-js-widgets",
      "model_module_version": "~2.1.4",
      "model_name": "HBoxModel",
      "state": {
       "_model_module_version": "~2.1.4",
       "_view_module_version": "~2.1.4",
       "children": [
        "IPY_MODEL_95bf496da59a453ea67beabff303b624",
        "IPY_MODEL_0cf353075b574bde9328c13c1a253c72"
       ],
       "layout": "IPY_MODEL_8fba0987dcc140c3ac84549a0b311013"
      }
     },
     "c087af6c29474a499238ade8a94c5800": {
      "model_module": "jupyter-js-widgets",
      "model_module_version": "~2.1.4",
      "model_name": "ProgressModel",
      "state": {
       "_model_module_version": "~2.1.4",
       "_view_module_version": "~2.1.4",
       "bar_style": "success",
       "description": "Obtaining Images: ",
       "layout": "IPY_MODEL_35322734bf544c8aa2ac2a40187f4430",
       "max": 52,
       "style": "IPY_MODEL_44c4236ae145425898415bc272c93716",
       "value": 52
      }
     },
     "c1ec28106fb84c7da5d9fe0a8afb632e": {
      "model_module": "jupyter-js-widgets",
      "model_module_version": "~2.1.4",
      "model_name": "ProgressModel",
      "state": {
       "_model_module_version": "~2.1.4",
       "_view_module_version": "~2.1.4",
       "bar_style": "success",
       "description": "Applying Divvy Rule: ",
       "layout": "IPY_MODEL_df64737793a642679c02a828659afee7",
       "max": 52,
       "style": "IPY_MODEL_f4b37a80be2443f7a4b5beb42b8fa21f",
       "value": 52
      }
     },
     "c2303f099f5e4783b77fe21cb39ce347": {
      "model_module": "jupyter-js-widgets",
      "model_module_version": "~2.1.4",
      "model_name": "LayoutModel",
      "state": {
       "_model_module_version": "~2.1.4",
       "_view_module_version": "~2.1.4"
      }
     },
     "c64e0f36b0a34920951db50f5aa6fccd": {
      "model_module": "jupyter-js-widgets",
      "model_module_version": "~2.1.4",
      "model_name": "LayoutModel",
      "state": {
       "_model_module_version": "~2.1.4",
       "_view_module_version": "~2.1.4"
      }
     },
     "cbd119b5317940b08d0e7c317a61dcfe": {
      "model_module": "jupyter-js-widgets",
      "model_module_version": "~2.1.4",
      "model_name": "HTMLModel",
      "state": {
       "_model_module_version": "~2.1.4",
       "_view_module_version": "~2.1.4",
       "layout": "IPY_MODEL_0d2453dcd89c4e4387fd8533c2cb2167",
       "value": "100% 52/52 [00:00&lt;00:00, 1239.66it/s]"
      }
     },
     "ce906a1eb3934eff8a020fa3e1927b23": {
      "model_module": "jupyter-js-widgets",
      "model_module_version": "~2.1.4",
      "model_name": "LayoutModel",
      "state": {
       "_model_module_version": "~2.1.4",
       "_view_module_version": "~2.1.4"
      }
     },
     "d5ccaf240a0b4beda0c5c67407a73ea8": {
      "model_module": "jupyter-js-widgets",
      "model_module_version": "~2.1.4",
      "model_name": "HBoxModel",
      "state": {
       "_model_module_version": "~2.1.4",
       "_view_module_version": "~2.1.4",
       "children": [
        "IPY_MODEL_720501e20531478ba8110ae14b600ca3",
        "IPY_MODEL_4786659b9e5444e58ece510743d144e2"
       ],
       "layout": "IPY_MODEL_f46ade67e1ee4d0490cd11628ceee535"
      }
     },
     "db01219b839d4631b36464adebf59a49": {
      "model_module": "jupyter-js-widgets",
      "model_module_version": "~2.1.4",
      "model_name": "LayoutModel",
      "state": {
       "_model_module_version": "~2.1.4",
       "_view_module_version": "~2.1.4"
      }
     },
     "df64737793a642679c02a828659afee7": {
      "model_module": "jupyter-js-widgets",
      "model_module_version": "~2.1.4",
      "model_name": "LayoutModel",
      "state": {
       "_model_module_version": "~2.1.4",
       "_view_module_version": "~2.1.4"
      }
     },
     "e080f7e1e64b464591e5d7243eb064cd": {
      "model_module": "jupyter-js-widgets",
      "model_module_version": "~2.1.4",
      "model_name": "LayoutModel",
      "state": {
       "_model_module_version": "~2.1.4",
       "_view_module_version": "~2.1.4"
      }
     },
     "e357e9b8557545958914be43c238f3e1": {
      "model_module": "jupyter-js-widgets",
      "model_module_version": "~2.1.4",
      "model_name": "ProgressStyleModel",
      "state": {
       "_model_module_version": "~2.1.4",
       "_view_module_version": "~2.1.4"
      }
     },
     "e3fc980757ad4f2497948b6aa7958b59": {
      "model_module": "jupyter-js-widgets",
      "model_module_version": "~2.1.4",
      "model_name": "LayoutModel",
      "state": {
       "_model_module_version": "~2.1.4",
       "_view_module_version": "~2.1.4"
      }
     },
     "e4a883e016ba469bbe835826bdbf2803": {
      "model_module": "jupyter-js-widgets",
      "model_module_version": "~2.1.4",
      "model_name": "HBoxModel",
      "state": {
       "_model_module_version": "~2.1.4",
       "_view_module_version": "~2.1.4",
       "children": [
        "IPY_MODEL_18fe4b13cf1d4fa7949060c87c96dbd7",
        "IPY_MODEL_1413a16eb47e4ab6ba99f7d677752d67"
       ],
       "layout": "IPY_MODEL_17ff72f5c7a8472990448c909cc0d9d7"
      }
     },
     "e9944c398ca44889ab23f2d12ea014f6": {
      "model_module": "jupyter-js-widgets",
      "model_module_version": "~2.1.4",
      "model_name": "LayoutModel",
      "state": {
       "_model_module_version": "~2.1.4",
       "_view_module_version": "~2.1.4"
      }
     },
     "ee9a98dc1a8249e2af2a6961dcd3988c": {
      "model_module": "jupyter-js-widgets",
      "model_module_version": "~2.1.4",
      "model_name": "HTMLModel",
      "state": {
       "_model_module_version": "~2.1.4",
       "_view_module_version": "~2.1.4",
       "layout": "IPY_MODEL_a2e8c4e1732641859a4bdcf93f9898af",
       "value": "100% 52/52 [00:00&lt;00:00, 155.97it/s]"
      }
     },
     "f4538ab3925a48d5a30930cb6d79746b": {
      "model_module": "jupyter-js-widgets",
      "model_module_version": "~2.1.4",
      "model_name": "HBoxModel",
      "state": {
       "_model_module_version": "~2.1.4",
       "_view_module_version": "~2.1.4",
       "children": [
        "IPY_MODEL_6146193a6ab94a32aabb6a4e65047944",
        "IPY_MODEL_4cd8c28d853e46f49b7adb37adf51458"
       ],
       "layout": "IPY_MODEL_acdce5121b5a4fc0857535a1e8f367ee"
      }
     },
     "f46ade67e1ee4d0490cd11628ceee535": {
      "model_module": "jupyter-js-widgets",
      "model_module_version": "~2.1.4",
      "model_name": "LayoutModel",
      "state": {
       "_model_module_version": "~2.1.4",
       "_view_module_version": "~2.1.4"
      }
     },
     "f4b37a80be2443f7a4b5beb42b8fa21f": {
      "model_module": "jupyter-js-widgets",
      "model_module_version": "~2.1.4",
      "model_name": "ProgressStyleModel",
      "state": {
       "_model_module_version": "~2.1.4",
       "_view_module_version": "~2.1.4"
      }
     },
     "fc40e419b79b44e49b66de8c58646f4e": {
      "model_module": "jupyter-js-widgets",
      "model_module_version": "~2.1.4",
      "model_name": "LayoutModel",
      "state": {
       "_model_module_version": "~2.1.4",
       "_view_module_version": "~2.1.4"
      }
     },
     "fc53aed6b9b843869f28b949ffcbd69b": {
      "model_module": "jupyter-js-widgets",
      "model_module_version": "~2.1.4",
      "model_name": "LayoutModel",
      "state": {
       "_model_module_version": "~2.1.4",
       "_view_module_version": "~2.1.4"
      }
     },
     "fe03d016b28e4c8e886b188632812629": {
      "model_module": "jupyter-js-widgets",
      "model_module_version": "~2.1.4",
      "model_name": "HBoxModel",
      "state": {
       "_model_module_version": "~2.1.4",
       "_view_module_version": "~2.1.4",
       "children": [
        "IPY_MODEL_c1ec28106fb84c7da5d9fe0a8afb632e",
        "IPY_MODEL_cbd119b5317940b08d0e7c317a61dcfe"
       ],
       "layout": "IPY_MODEL_e9944c398ca44889ab23f2d12ea014f6"
      }
     }
    },
    "version_major": 1,
    "version_minor": 0
   }
  }
 },
 "nbformat": 4,
 "nbformat_minor": 2
}
