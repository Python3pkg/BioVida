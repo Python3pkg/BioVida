{
 "cells": [
  {
   "cell_type": "markdown",
   "metadata": {},
   "source": [
    "BioVida: The Cancer Imaging Archive\n",
    "===================\n",
    "---"
   ]
  },
  {
   "cell_type": "markdown",
   "metadata": {},
   "source": [
    "[The Cancer Imaging Archive](http://www.cancerimagingarchive.net) is a large repository of medical images of various forms of cancer. Programmatic web access is granted through a RESTful web API. However, this service requires an API-key to use, which you can apply for by following the instructions found [here](https://wiki.cancerimagingarchive.net/display/Public/TCIA+Programmatic+Interface+%28REST+API%29+Usage+Guide). Typically, this process is very speedy. <br>\n",
    "\n",
    "**Note**: If it is heavily requested, BioVida may simply include an API key for this service in the future. At the moment however, you will have to follow the instructions linked to above to obtain one.\n"
   ]
  },
  {
   "cell_type": "markdown",
   "metadata": {},
   "source": [
    "BioVida provides an easy-to-use python interface for this web API which, like the ``OpeniInterface`` class, is located in the images subpackage."
   ]
  },
  {
   "cell_type": "code",
   "execution_count": 1,
   "metadata": {},
   "outputs": [
    {
     "name": "stderr",
     "output_type": "stream",
     "text": [
      "Using Theano backend.\n"
     ]
    }
   ],
   "source": [
    "from biovida.images import CancerImageInterface"
   ]
  },
  {
   "cell_type": "markdown",
   "metadata": {},
   "source": [
    "We can instantiate an instance of the tool using an API key."
   ]
  },
  {
   "cell_type": "code",
   "execution_count": 2,
   "metadata": {
    "collapsed": true
   },
   "outputs": [],
   "source": [
    "cii = CancerImageInterface(api_key=YOUR_API_KEY_HERE)"
   ]
  },
  {
   "cell_type": "markdown",
   "metadata": {},
   "source": [
    "Note:\n",
    "\n",
    "The number of studies (collections) provided here is somewhat shorter than what is provided on [The Cancer Imaging Archive](http://www.cancerimagingarchive.net)'s website. This is because certain studies, such as those with restricted access, are excluded."
   ]
  },
  {
   "cell_type": "markdown",
   "metadata": {
    "collapsed": true
   },
   "source": [
    "With this notice out of the way, let's go ahead and perform a search."
   ]
  },
  {
   "cell_type": "code",
   "execution_count": 3,
   "metadata": {},
   "outputs": [
    {
     "data": {
      "text/html": [
       "<div>\n",
       "<table border=\"1\" class=\"dataframe\">\n",
       "  <thead>\n",
       "    <tr style=\"text-align: right;\">\n",
       "      <th></th>\n",
       "      <th>collection</th>\n",
       "      <th>cancer_type</th>\n",
       "      <th>modalities</th>\n",
       "      <th>subjects</th>\n",
       "      <th>location</th>\n",
       "      <th>metadata</th>\n",
       "      <th>access</th>\n",
       "      <th>status</th>\n",
       "      <th>updated</th>\n",
       "      <th>modalities_full</th>\n",
       "    </tr>\n",
       "  </thead>\n",
       "  <tbody>\n",
       "    <tr>\n",
       "      <th>0</th>\n",
       "      <td>ISPY1</td>\n",
       "      <td>Breast Cancer</td>\n",
       "      <td>MR, SEG</td>\n",
       "      <td>222</td>\n",
       "      <td>[Breast]</td>\n",
       "      <td>Yes</td>\n",
       "      <td>Public</td>\n",
       "      <td>Complete</td>\n",
       "      <td>2016-08-31</td>\n",
       "      <td>[Magnetic Resonance Imaging (MRI), Segmentation]</td>\n",
       "    </tr>\n",
       "    <tr>\n",
       "      <th>1</th>\n",
       "      <td>CBIS-DDSM</td>\n",
       "      <td>Breast Cancer</td>\n",
       "      <td>MG</td>\n",
       "      <td>1431</td>\n",
       "      <td>[Breast]</td>\n",
       "      <td>Yes</td>\n",
       "      <td>Public</td>\n",
       "      <td>Ongoing</td>\n",
       "      <td>2016-08-31</td>\n",
       "      <td>[Mammography]</td>\n",
       "    </tr>\n",
       "    <tr>\n",
       "      <th>2</th>\n",
       "      <td>Breast-MRI-NACT-Pilot</td>\n",
       "      <td>Breast Cancer</td>\n",
       "      <td>MR, SEG</td>\n",
       "      <td>64</td>\n",
       "      <td>[Breast]</td>\n",
       "      <td>Yes</td>\n",
       "      <td>Public</td>\n",
       "      <td>Complete</td>\n",
       "      <td>2016-01-26</td>\n",
       "      <td>[Magnetic Resonance Imaging (MRI), Segmentation]</td>\n",
       "    </tr>\n",
       "    <tr>\n",
       "      <th>3</th>\n",
       "      <td>TCGA-BRCA</td>\n",
       "      <td>Breast Cancer</td>\n",
       "      <td>MR, MG</td>\n",
       "      <td>139</td>\n",
       "      <td>[Breast]</td>\n",
       "      <td>Yes</td>\n",
       "      <td>Public</td>\n",
       "      <td>Complete</td>\n",
       "      <td>2014-12-30</td>\n",
       "      <td>[Magnetic Resonance Imaging (MRI), Mammography]</td>\n",
       "    </tr>\n",
       "    <tr>\n",
       "      <th>4</th>\n",
       "      <td>QIN Breast DCE-MRI</td>\n",
       "      <td>Breast Cancer</td>\n",
       "      <td>MR, KO</td>\n",
       "      <td>10</td>\n",
       "      <td>[Breast]</td>\n",
       "      <td>Yes</td>\n",
       "      <td>Public</td>\n",
       "      <td>Ongoing</td>\n",
       "      <td>2014-07-31</td>\n",
       "      <td>[Magnetic Resonance Imaging (MRI), Key Object ...</td>\n",
       "    </tr>\n",
       "    <tr>\n",
       "      <th>5</th>\n",
       "      <td>Breast Diagnosis</td>\n",
       "      <td>Breast Cancer</td>\n",
       "      <td>MR, PT, CT, MG</td>\n",
       "      <td>88</td>\n",
       "      <td>[Breast]</td>\n",
       "      <td>Yes</td>\n",
       "      <td>Public</td>\n",
       "      <td>Complete</td>\n",
       "      <td>2011-11-09</td>\n",
       "      <td>[Magnetic Resonance Imaging (MRI), Positron Em...</td>\n",
       "    </tr>\n",
       "    <tr>\n",
       "      <th>6</th>\n",
       "      <td>RIDER Breast MRI</td>\n",
       "      <td>Breast Cancer</td>\n",
       "      <td>MR</td>\n",
       "      <td>5</td>\n",
       "      <td>[Breast]</td>\n",
       "      <td>No</td>\n",
       "      <td>Public</td>\n",
       "      <td>Complete</td>\n",
       "      <td>2011-11-08</td>\n",
       "      <td>[Magnetic Resonance Imaging (MRI)]</td>\n",
       "    </tr>\n",
       "  </tbody>\n",
       "</table>\n",
       "</div>"
      ],
      "text/plain": [
       "              collection    cancer_type      modalities  subjects  location  \\\n",
       "0                  ISPY1  Breast Cancer         MR, SEG       222  [Breast]   \n",
       "1              CBIS-DDSM  Breast Cancer              MG      1431  [Breast]   \n",
       "2  Breast-MRI-NACT-Pilot  Breast Cancer         MR, SEG        64  [Breast]   \n",
       "3              TCGA-BRCA  Breast Cancer          MR, MG       139  [Breast]   \n",
       "4     QIN Breast DCE-MRI  Breast Cancer          MR, KO        10  [Breast]   \n",
       "5       Breast Diagnosis  Breast Cancer  MR, PT, CT, MG        88  [Breast]   \n",
       "6       RIDER Breast MRI  Breast Cancer              MR         5  [Breast]   \n",
       "\n",
       "  metadata  access    status    updated  \\\n",
       "0      Yes  Public  Complete 2016-08-31   \n",
       "1      Yes  Public   Ongoing 2016-08-31   \n",
       "2      Yes  Public  Complete 2016-01-26   \n",
       "3      Yes  Public  Complete 2014-12-30   \n",
       "4      Yes  Public   Ongoing 2014-07-31   \n",
       "5      Yes  Public  Complete 2011-11-09   \n",
       "6       No  Public  Complete 2011-11-08   \n",
       "\n",
       "                                     modalities_full  \n",
       "0   [Magnetic Resonance Imaging (MRI), Segmentation]  \n",
       "1                                      [Mammography]  \n",
       "2   [Magnetic Resonance Imaging (MRI), Segmentation]  \n",
       "3    [Magnetic Resonance Imaging (MRI), Mammography]  \n",
       "4  [Magnetic Resonance Imaging (MRI), Key Object ...  \n",
       "5  [Magnetic Resonance Imaging (MRI), Positron Em...  \n",
       "6                 [Magnetic Resonance Imaging (MRI)]  "
      ]
     },
     "execution_count": 3,
     "metadata": {},
     "output_type": "execute_result"
    }
   ],
   "source": [
    "cii.search(cancer_type='breast')"
   ]
  },
  {
   "cell_type": "markdown",
   "metadata": {
    "collapsed": true
   },
   "source": [
    "Next, we can easily download this data."
   ]
  },
  {
   "cell_type": "code",
   "execution_count": 4,
   "metadata": {
    "collapsed": true
   },
   "outputs": [],
   "source": [
    "import numpy as np\n",
    "def simplify_df(df):\n",
    "    \"\"\"This function simplifies dataframes\n",
    "    for the purposes of this tutorial.\"\"\"\n",
    "    data_frame = df.copy()\n",
    "    for c in ('cached_dicom_images_path', 'cached_images_path'):\n",
    "        data_frame[c] = data_frame[c].map(\n",
    "            lambda x: tuple(['path_to_image'] * len(x)) if isinstance(x, tuple) else x)\n",
    "    return data_frame[0:5].replace({np.NaN: ''})"
   ]
  },
  {
   "cell_type": "markdown",
   "metadata": {},
   "source": [
    "The code below will download the data in our search results, but with two noteworthy restrictions. <br>\n",
    "First, ``patient_limit=5`` will limit the number of patients/subjects downloaded to the first 5. <br>\n",
    "Second, ``collections_limit`` will limit the number of collections downloaded to one (in this case, 'TCGA-COAD'). <br>\n",
    "Third, ``session_limit=1`` will limit the results returned to the first time the patient/subject was scanned, e.g., before surgical intervention to remove diseased tissue. <br>\n",
    "\n",
    "\n",
    "Additionally, the ``save_dicom`` parameter will enable us to save the raw [DICOM](https://en.wikipedia.org/wiki/DICOM) image files that the Cancer Imaging Archive provides. By default, ``pull()`` only generates DICOM files. However, the ``save_png`` argument also gives you the option to convert the DICOM files to PNG images. "
   ]
  },
  {
   "cell_type": "code",
   "execution_count": 5,
   "metadata": {},
   "outputs": [
    {
     "data": {
      "application/vnd.jupyter.widget-view+json": {
       "model_id": "e97be65bdbc64360863bf8b61a2cfb1b"
      }
     },
     "metadata": {},
     "output_type": "display_data"
    },
    {
     "name": "stdout",
     "output_type": "stream",
     "text": [
      "\n"
     ]
    },
    {
     "data": {
      "application/vnd.jupyter.widget-view+json": {
       "model_id": "2687db8ae73e42b7b721b40bda3b5db1"
      }
     },
     "metadata": {},
     "output_type": "display_data"
    },
    {
     "name": "stdout",
     "output_type": "stream",
     "text": [
      "\n"
     ]
    }
   ],
   "source": [
    "pull_df = cii.pull(patient_limit=5, collections_limit=1, session_limit=1)"
   ]
  },
  {
   "cell_type": "markdown",
   "metadata": {
    "collapsed": true
   },
   "source": [
    "Let's take a look at the data we've downloaded. We could view the ``pull_df`` object above, or the *identical* ``records_db`` attribute of ``cii``, e.g., ``cii.records_db``. However, both of those DataFrames contain several column which are not typically relevant for every data use. So, instead, we can view an abbreviated DataFrame, ``records_db_short``."
   ]
  },
  {
   "cell_type": "code",
   "execution_count": 6,
   "metadata": {},
   "outputs": [
    {
     "data": {
      "text/html": [
       "<div>\n",
       "<table border=\"1\" class=\"dataframe\">\n",
       "  <thead>\n",
       "    <tr style=\"text-align: right;\">\n",
       "      <th></th>\n",
       "      <th>modality</th>\n",
       "      <th>protocol_name</th>\n",
       "      <th>series_date</th>\n",
       "      <th>series_description</th>\n",
       "      <th>body_part_examined</th>\n",
       "      <th>annotations_flag</th>\n",
       "      <th>collection</th>\n",
       "      <th>manufacturer</th>\n",
       "      <th>manufacturer_model_name</th>\n",
       "      <th>age</th>\n",
       "      <th>...</th>\n",
       "      <th>cancer_type</th>\n",
       "      <th>query</th>\n",
       "      <th>pull_time</th>\n",
       "      <th>modality_full</th>\n",
       "      <th>series_number_rescaled</th>\n",
       "      <th>cached_dicom_images_path</th>\n",
       "      <th>cached_images_path</th>\n",
       "      <th>error_free_conversion</th>\n",
       "      <th>allowed_modality</th>\n",
       "      <th>image_count_converted_cache</th>\n",
       "    </tr>\n",
       "  </thead>\n",
       "  <tbody>\n",
       "    <tr>\n",
       "      <th>0</th>\n",
       "      <td>MR</td>\n",
       "      <td>3D FIESTA - LEFT</td>\n",
       "      <td>1984-10-13</td>\n",
       "      <td>3P LEFT BREAST SCOUT</td>\n",
       "      <td>breast</td>\n",
       "      <td></td>\n",
       "      <td>ISPY1</td>\n",
       "      <td>GE MEDICAL SYSTEMS</td>\n",
       "      <td>GENESIS_SIGNA</td>\n",
       "      <td>38.0</td>\n",
       "      <td>...</td>\n",
       "      <td>breast cancer</td>\n",
       "      <td>{'location': None, 'collection': None, 'cancer...</td>\n",
       "      <td>2017-04-10 06:20:08.220896</td>\n",
       "      <td>Magnetic Resonance Imaging (MRI)</td>\n",
       "      <td>1.0</td>\n",
       "      <td>(path_to_image, path_to_image, path_to_image, ...</td>\n",
       "      <td></td>\n",
       "      <td></td>\n",
       "      <td>True</td>\n",
       "      <td></td>\n",
       "    </tr>\n",
       "    <tr>\n",
       "      <th>1</th>\n",
       "      <td>MR</td>\n",
       "      <td>3D FIESTA - LEFT</td>\n",
       "      <td>1984-10-13</td>\n",
       "      <td>T1-axial-locator</td>\n",
       "      <td>breast</td>\n",
       "      <td></td>\n",
       "      <td>ISPY1</td>\n",
       "      <td>GE MEDICAL SYSTEMS</td>\n",
       "      <td>GENESIS_SIGNA</td>\n",
       "      <td>38.0</td>\n",
       "      <td>...</td>\n",
       "      <td>breast cancer</td>\n",
       "      <td>{'location': None, 'collection': None, 'cancer...</td>\n",
       "      <td>2017-04-10 06:20:08.220896</td>\n",
       "      <td>Magnetic Resonance Imaging (MRI)</td>\n",
       "      <td>2.0</td>\n",
       "      <td>(path_to_image, path_to_image, path_to_image, ...</td>\n",
       "      <td></td>\n",
       "      <td></td>\n",
       "      <td>True</td>\n",
       "      <td></td>\n",
       "    </tr>\n",
       "    <tr>\n",
       "      <th>2</th>\n",
       "      <td>MR</td>\n",
       "      <td>3D FIESTA - LEFT</td>\n",
       "      <td>1984-10-13</td>\n",
       "      <td>T2-FSE-Sagittal</td>\n",
       "      <td>breast</td>\n",
       "      <td></td>\n",
       "      <td>ISPY1</td>\n",
       "      <td>GE MEDICAL SYSTEMS</td>\n",
       "      <td>GENESIS_SIGNA</td>\n",
       "      <td>38.0</td>\n",
       "      <td>...</td>\n",
       "      <td>breast cancer</td>\n",
       "      <td>{'location': None, 'collection': None, 'cancer...</td>\n",
       "      <td>2017-04-10 06:20:08.220896</td>\n",
       "      <td>Magnetic Resonance Imaging (MRI)</td>\n",
       "      <td>3.0</td>\n",
       "      <td>(path_to_image, path_to_image, path_to_image, ...</td>\n",
       "      <td></td>\n",
       "      <td></td>\n",
       "      <td>True</td>\n",
       "      <td></td>\n",
       "    </tr>\n",
       "    <tr>\n",
       "      <th>3</th>\n",
       "      <td>MR</td>\n",
       "      <td>3D FIESTA - LEFT</td>\n",
       "      <td>1984-10-13</td>\n",
       "      <td>Dynamic-3dfgre</td>\n",
       "      <td>breast</td>\n",
       "      <td></td>\n",
       "      <td>ISPY1</td>\n",
       "      <td>GE MEDICAL SYSTEMS</td>\n",
       "      <td>GENESIS_SIGNA</td>\n",
       "      <td>38.0</td>\n",
       "      <td>...</td>\n",
       "      <td>breast cancer</td>\n",
       "      <td>{'location': None, 'collection': None, 'cancer...</td>\n",
       "      <td>2017-04-10 06:20:08.220896</td>\n",
       "      <td>Magnetic Resonance Imaging (MRI)</td>\n",
       "      <td>4.0</td>\n",
       "      <td>(path_to_image, path_to_image, path_to_image, ...</td>\n",
       "      <td></td>\n",
       "      <td></td>\n",
       "      <td>True</td>\n",
       "      <td></td>\n",
       "    </tr>\n",
       "    <tr>\n",
       "      <th>4</th>\n",
       "      <td>MR</td>\n",
       "      <td>3D FIESTA - LEFT</td>\n",
       "      <td>1984-10-13</td>\n",
       "      <td>Dynamic-3dfgre: SER</td>\n",
       "      <td>breast</td>\n",
       "      <td></td>\n",
       "      <td>ISPY1</td>\n",
       "      <td>GE MEDICAL SYSTEMS</td>\n",
       "      <td>GENESIS_SIGNA</td>\n",
       "      <td>38.0</td>\n",
       "      <td>...</td>\n",
       "      <td>breast cancer</td>\n",
       "      <td>{'location': None, 'collection': None, 'cancer...</td>\n",
       "      <td>2017-04-10 06:20:08.220896</td>\n",
       "      <td>Magnetic Resonance Imaging (MRI)</td>\n",
       "      <td>4.1</td>\n",
       "      <td>(path_to_image, path_to_image, path_to_image, ...</td>\n",
       "      <td></td>\n",
       "      <td></td>\n",
       "      <td>True</td>\n",
       "      <td></td>\n",
       "    </tr>\n",
       "  </tbody>\n",
       "</table>\n",
       "<p>5 rows × 26 columns</p>\n",
       "</div>"
      ],
      "text/plain": [
       "  modality     protocol_name series_date    series_description  \\\n",
       "0       MR  3D FIESTA - LEFT  1984-10-13  3P LEFT BREAST SCOUT   \n",
       "1       MR  3D FIESTA - LEFT  1984-10-13      T1-axial-locator   \n",
       "2       MR  3D FIESTA - LEFT  1984-10-13       T2-FSE-Sagittal   \n",
       "3       MR  3D FIESTA - LEFT  1984-10-13        Dynamic-3dfgre   \n",
       "4       MR  3D FIESTA - LEFT  1984-10-13   Dynamic-3dfgre: SER   \n",
       "\n",
       "  body_part_examined annotations_flag collection        manufacturer  \\\n",
       "0             breast                       ISPY1  GE MEDICAL SYSTEMS   \n",
       "1             breast                       ISPY1  GE MEDICAL SYSTEMS   \n",
       "2             breast                       ISPY1  GE MEDICAL SYSTEMS   \n",
       "3             breast                       ISPY1  GE MEDICAL SYSTEMS   \n",
       "4             breast                       ISPY1  GE MEDICAL SYSTEMS   \n",
       "\n",
       "  manufacturer_model_name   age             ...                cancer_type  \\\n",
       "0           GENESIS_SIGNA  38.0             ...              breast cancer   \n",
       "1           GENESIS_SIGNA  38.0             ...              breast cancer   \n",
       "2           GENESIS_SIGNA  38.0             ...              breast cancer   \n",
       "3           GENESIS_SIGNA  38.0             ...              breast cancer   \n",
       "4           GENESIS_SIGNA  38.0             ...              breast cancer   \n",
       "\n",
       "                                               query  \\\n",
       "0  {'location': None, 'collection': None, 'cancer...   \n",
       "1  {'location': None, 'collection': None, 'cancer...   \n",
       "2  {'location': None, 'collection': None, 'cancer...   \n",
       "3  {'location': None, 'collection': None, 'cancer...   \n",
       "4  {'location': None, 'collection': None, 'cancer...   \n",
       "\n",
       "                   pull_time                     modality_full  \\\n",
       "0 2017-04-10 06:20:08.220896  Magnetic Resonance Imaging (MRI)   \n",
       "1 2017-04-10 06:20:08.220896  Magnetic Resonance Imaging (MRI)   \n",
       "2 2017-04-10 06:20:08.220896  Magnetic Resonance Imaging (MRI)   \n",
       "3 2017-04-10 06:20:08.220896  Magnetic Resonance Imaging (MRI)   \n",
       "4 2017-04-10 06:20:08.220896  Magnetic Resonance Imaging (MRI)   \n",
       "\n",
       "  series_number_rescaled                           cached_dicom_images_path  \\\n",
       "0                    1.0  (path_to_image, path_to_image, path_to_image, ...   \n",
       "1                    2.0  (path_to_image, path_to_image, path_to_image, ...   \n",
       "2                    3.0  (path_to_image, path_to_image, path_to_image, ...   \n",
       "3                    4.0  (path_to_image, path_to_image, path_to_image, ...   \n",
       "4                    4.1  (path_to_image, path_to_image, path_to_image, ...   \n",
       "\n",
       "  cached_images_path error_free_conversion allowed_modality  \\\n",
       "0                                                      True   \n",
       "1                                                      True   \n",
       "2                                                      True   \n",
       "3                                                      True   \n",
       "4                                                      True   \n",
       "\n",
       "  image_count_converted_cache  \n",
       "0                              \n",
       "1                              \n",
       "2                              \n",
       "3                              \n",
       "4                              \n",
       "\n",
       "[5 rows x 26 columns]"
      ]
     },
     "execution_count": 6,
     "metadata": {},
     "output_type": "execute_result"
    }
   ],
   "source": [
    "simplify_df(cii.records_db_short)"
   ]
  },
  {
   "cell_type": "markdown",
   "metadata": {
    "collapsed": true
   },
   "source": [
    "**Notes**:\n",
    "\n",
    "- The ``'cached_dicom_images_path'`` and ``'cached_images_path'`` columns refer to *multiple* images.\n",
    "- The number of converted images may differ from the number of raw DICOM images because 3D DICOM images are saved as individual frames when they are converted to PNG. The ``'image_count_converted_cache'`` column provides an account of how many images resulted from any given DICOM $\\rightarrow$ PNG conversion."
   ]
  },
  {
   "cell_type": "markdown",
   "metadata": {},
   "source": [
    "---\n",
    "\n",
    "### Working With DICOMs"
   ]
  },
  {
   "cell_type": "markdown",
   "metadata": {},
   "source": [
    "The Cancer Imaging Archive stores images in a format known as Digital Imaging and Communications in Medicine ([DICOM](https://en.wikipedia.org/wiki/DICOM)). If you have experience working with this file format, you can safely skip this section."
   ]
  },
  {
   "cell_type": "markdown",
   "metadata": {},
   "source": [
    "In python, we can manipulate DICOM files using the [pydicom](https://github.com/darcymason/pydicom) library. This tool will allow us to extract the images data as ``ndarrays``."
   ]
  },
  {
   "cell_type": "code",
   "execution_count": 7,
   "metadata": {
    "collapsed": true
   },
   "outputs": [],
   "source": [
    "import dicom  # in the future you will have to use `import pydicom as dicom`"
   ]
  },
  {
   "cell_type": "markdown",
   "metadata": {},
   "source": [
    "We can also go ahead an import ``matplotlib`` to allow us to visualize the ``ndarrays`` we extract."
   ]
  },
  {
   "cell_type": "markdown",
   "metadata": {},
   "source": [
    "We can start by extracting a list of DICOMs from the images we downloaded above."
   ]
  },
  {
   "cell_type": "code",
   "execution_count": 8,
   "metadata": {
    "collapsed": true
   },
   "outputs": [],
   "source": [
    "sample_dicoms = cii.records_db['cached_dicom_images_path'].iloc[1]"
   ]
  },
  {
   "cell_type": "markdown",
   "metadata": {},
   "source": [
    "We can load these images in as ``ndarrays`` using the ``dicom`` (``pydicom``) library."
   ]
  },
  {
   "cell_type": "code",
   "execution_count": 9,
   "metadata": {
    "collapsed": true
   },
   "outputs": [],
   "source": [
    "dicoms_arrs = [dicom.read_file(f).pixel_array for f in sample_dicoms]"
   ]
  },
  {
   "cell_type": "markdown",
   "metadata": {},
   "source": [
    "DICOM represents imaging sessions with a *tag* known as SeriesInstanceUID. That is, the unique ID of the series.\n",
    "If multiple DICOM files/images share the same SeriesInstanceUID, it means they are part of the same 'series'. "
   ]
  },
  {
   "cell_type": "markdown",
   "metadata": {},
   "source": [
    "If we get the length of ``dicoms_arrs`` we see that multiple DICOM files share the same SeriesInstanceUID"
   ]
  },
  {
   "cell_type": "code",
   "execution_count": 10,
   "metadata": {},
   "outputs": [
    {
     "data": {
      "text/plain": [
       "15"
      ]
     },
     "execution_count": 10,
     "metadata": {},
     "output_type": "execute_result"
    }
   ],
   "source": [
    "len(dicoms_arrs)"
   ]
  },
  {
   "cell_type": "code",
   "execution_count": 11,
   "metadata": {
    "collapsed": true
   },
   "outputs": [],
   "source": [
    "# cii.records_db['series_instance_uid'].iloc[1]"
   ]
  },
  {
   "cell_type": "markdown",
   "metadata": {},
   "source": [
    "Thus suggesting that this particular series is either a *3D volume* or a time-series. So we can go ahead stack these images on top of one another as a way of representing this relationship between the images."
   ]
  },
  {
   "cell_type": "code",
   "execution_count": 12,
   "metadata": {
    "collapsed": true
   },
   "outputs": [],
   "source": [
    "stacked_dicoms = np.stack(dicoms_arrs)"
   ]
  },
  {
   "cell_type": "markdown",
   "metadata": {},
   "source": [
    "If we check the shape of ``stacked_dicoms`` can see that we have indeed stacked 15 256x256 images on top of one another."
   ]
  },
  {
   "cell_type": "code",
   "execution_count": 13,
   "metadata": {},
   "outputs": [
    {
     "data": {
      "text/plain": [
       "(15, 256, 256)"
      ]
     },
     "execution_count": 13,
     "metadata": {},
     "output_type": "execute_result"
    }
   ],
   "source": [
    "stacked_dicoms.shape"
   ]
  },
  {
   "cell_type": "markdown",
   "metadata": {},
   "source": [
    "We can also go ahead and define a small function which will enable us to visualize this 'stack' of images."
   ]
  },
  {
   "cell_type": "code",
   "execution_count": 14,
   "metadata": {
    "collapsed": true
   },
   "outputs": [],
   "source": [
    "import matplotlib.pyplot as plt\n",
    "def sample_stack(stack, rows=3, cols=5, start_with=0, show_every=1):\n",
    "    \"\"\"Function to display stacked ndarray.\n",
    "    Source: https://www.raddq.com/dicom-processing-segmentation-visualization-in-python\n",
    "    Note: this code has been slightly modified.\"\"\"\n",
    "    if rows*cols != stack.shape[0]:\n",
    "        raise ValueError(\"The product of `rows` and `cols` does not equal number of images.\")\n",
    "    fig, ax = plt.subplots(rows, cols, figsize=[12, 12])\n",
    "    for i in range(rows*cols):\n",
    "        ind = start_with + i*show_every\n",
    "        ax[int(i/cols), int(i % cols)].set_title('slice {0}'.format(str(ind + 1)))\n",
    "        ax[int(i/cols), int(i % cols)].imshow(stack[ind], cmap='gray')\n",
    "        ax[int(i/cols), int(i % cols)].axis('off')\n",
    "    plt.show()"
   ]
  },
  {
   "cell_type": "markdown",
   "metadata": {},
   "source": [
    "If you're curious to see what these images look like, you can uncomment the line below to view the stack of images."
   ]
  },
  {
   "cell_type": "code",
   "execution_count": 15,
   "metadata": {
    "collapsed": true
   },
   "outputs": [],
   "source": [
    "# sample_stack(stacked_dicoms, rows=3)"
   ]
  },
  {
   "cell_type": "markdown",
   "metadata": {
    "collapsed": true
   },
   "source": [
    "**Note**:\n",
    "\n",
    "Ordering DICOM images in space is tricky. Currently, this class uses a somewhat reliable, but far from ideal, means of ordering images. <br> **Errors are possible**. <br>\n",
    "\n",
    "<small>\n",
    "For the Medical Imaging Folks: <br>\n",
    "Images in the ``'series_instance_uid'`` column are ordered against the ``InstanceNumber`` tag instead of actually working out the geometry required to sort the images in space. This is obviously not ideal because, among other reasons, ``InstanceNumber`` is a type 2 tag. Hopefully, in the future, this is something that will be improved. \n",
    "</small>"
   ]
  },
  {
   "cell_type": "markdown",
   "metadata": {
    "collapsed": true
   },
   "source": [
    "---\n",
    "\n",
    "### Train, Validation and Test"
   ]
  },
  {
   "cell_type": "markdown",
   "metadata": {
    "collapsed": true
   },
   "source": [
    "Spitting images obtained from the Cancer Imaging Archive into training, validation and/or testing sets is nearly identical to doing so using an instance of ``OpeniInterface`` class introduced in the prior tutorial. Accordingly, the instructions provided here will be condensed. If you would like more detail, please review this earlier tutorial."
   ]
  },
  {
   "cell_type": "markdown",
   "metadata": {
    "collapsed": true
   },
   "source": [
    "First, we import the ``image_divvy`` tool."
   ]
  },
  {
   "cell_type": "code",
   "execution_count": 16,
   "metadata": {
    "collapsed": true
   },
   "outputs": [],
   "source": [
    "from biovida.images import image_divvy"
   ]
  },
  {
   "cell_type": "markdown",
   "metadata": {
    "collapsed": true
   },
   "source": [
    "Next, we can define a 'divvy_rule'."
   ]
  },
  {
   "cell_type": "code",
   "execution_count": 17,
   "metadata": {
    "collapsed": true
   },
   "outputs": [],
   "source": [
    "def my_divvy_rule(row):\n",
    "    if row['modality_full'] == 'Magnetic Resonance Imaging (MRI)':\n",
    "        return 'mri'\n",
    "    if row['modality_full'] == 'Segmentation':\n",
    "        return 'seg'"
   ]
  },
  {
   "cell_type": "markdown",
   "metadata": {
    "collapsed": true
   },
   "source": [
    "This rule will select only those images which are MRIs. All other images will be excluded."
   ]
  },
  {
   "cell_type": "code",
   "execution_count": 18,
   "metadata": {},
   "outputs": [
    {
     "data": {
      "application/vnd.jupyter.widget-view+json": {
       "model_id": "438da24860e34ca99a82bb0b53f7c0e7"
      }
     },
     "metadata": {},
     "output_type": "display_data"
    },
    {
     "name": "stdout",
     "output_type": "stream",
     "text": [
      "\n"
     ]
    },
    {
     "data": {
      "application/vnd.jupyter.widget-view+json": {
       "model_id": "86f7044f7567466dbb43b6a43424db81"
      }
     },
     "metadata": {},
     "output_type": "display_data"
    },
    {
     "name": "stdout",
     "output_type": "stream",
     "text": [
      "\n",
      "\n",
      "Structure:\n",
      "\n",
      "- 'train':\n",
      "  - 'mri'\n",
      "  - 'seg'\n",
      "- 'test':\n",
      "  - 'mri'\n",
      "  - 'seg'\n"
     ]
    }
   ],
   "source": [
    "train_test = image_divvy(instance=cii,\n",
    "                         divvy_rule=my_divvy_rule,\n",
    "                         db_to_extract='records_db',\n",
    "                         action='ndarray',\n",
    "                         train_val_test_dict={'train': 0.8, 'test': 0.2})"
   ]
  },
  {
   "cell_type": "code",
   "execution_count": 19,
   "metadata": {
    "collapsed": true
   },
   "outputs": [],
   "source": [
    "train_mri, test_mri = train_test['train']['mri'], train_test['test']['mri']\n",
    "train_seg, test_seg = train_test['train']['seg'], train_test['test']['seg']"
   ]
  },
  {
   "cell_type": "markdown",
   "metadata": {},
   "source": [
    "One important thing to point out is that some of the image arrays returned will, in fact, be stacked arrays of images. <br>\n",
    "\n",
    "For example:"
   ]
  },
  {
   "cell_type": "code",
   "execution_count": 20,
   "metadata": {},
   "outputs": [
    {
     "data": {
      "text/plain": [
       "(60, 256, 256)"
      ]
     },
     "execution_count": 20,
     "metadata": {},
     "output_type": "execute_result"
    }
   ],
   "source": [
    "train_seg[10].shape"
   ]
  },
  {
   "cell_type": "markdown",
   "metadata": {
    "collapsed": true
   },
   "source": [
    "---\n",
    "\n",
    "## Conclusion"
   ]
  },
  {
   "cell_type": "markdown",
   "metadata": {
    "collapsed": true
   },
   "source": [
    "Here we've explored how ``BioVida`` can be used to easily obtain and process data from the Cancer Imaging Archive database. <br>\n",
    "\n",
    "In the next tutorial, we'll investigate ways of managing and integrating the data cached by ``BioVida``.\n"
   ]
  },
  {
   "cell_type": "markdown",
   "metadata": {
    "collapsed": true
   },
   "source": [
    "---"
   ]
  }
 ],
 "metadata": {
  "kernelspec": {
   "display_name": "Python 3",
   "language": "python",
   "name": "python3"
  },
  "language_info": {
   "codemirror_mode": {
    "name": "ipython",
    "version": 3
   },
   "file_extension": ".py",
   "mimetype": "text/x-python",
   "name": "python",
   "nbconvert_exporter": "python",
   "pygments_lexer": "ipython3",
   "version": "3.5.2"
  },
  "widgets": {
   "application/vnd.jupyter.widget-state+json": {
    "state": {
     "02d8bd445a804bd5a81b191301ef33ef": {
      "model_module": "jupyter-js-widgets",
      "model_module_version": "~2.1.4",
      "model_name": "ProgressStyleModel",
      "state": {
       "_model_module_version": "~2.1.4",
       "_view_module_version": "~2.1.4"
      }
     },
     "03981561fdce4f83ac0719d6ba628f3b": {
      "model_module": "jupyter-js-widgets",
      "model_module_version": "~2.1.4",
      "model_name": "ProgressModel",
      "state": {
       "_model_module_version": "~2.1.4",
       "_view_module_version": "~2.1.4",
       "bar_style": "success",
       "description": "Generating ndarrays: ",
       "layout": "IPY_MODEL_33cd5f33192e46fb8d53ed1ce16ca933",
       "max": 2,
       "style": "IPY_MODEL_3139fb862ee6406db66dac687bcc9ee8",
       "value": 2
      }
     },
     "056d785b86b141749ad28495fe29ae12": {
      "model_module": "jupyter-js-widgets",
      "model_module_version": "~2.1.4",
      "model_name": "LayoutModel",
      "state": {
       "_model_module_version": "~2.1.4",
       "_view_module_version": "~2.1.4"
      }
     },
     "07f299245c89442e87e681b50a1bb344": {
      "model_module": "jupyter-js-widgets",
      "model_module_version": "~2.1.4",
      "model_name": "LayoutModel",
      "state": {
       "_model_module_version": "~2.1.4",
       "_view_module_version": "~2.1.4"
      }
     },
     "1fe424a027674de1b978f876015b441d": {
      "model_module": "jupyter-js-widgets",
      "model_module_version": "~2.1.4",
      "model_name": "LayoutModel",
      "state": {
       "_model_module_version": "~2.1.4",
       "_view_module_version": "~2.1.4"
      }
     },
     "2687db8ae73e42b7b721b40bda3b5db1": {
      "model_module": "jupyter-js-widgets",
      "model_module_version": "~2.1.4",
      "model_name": "HBoxModel",
      "state": {
       "_model_module_version": "~2.1.4",
       "_view_module_version": "~2.1.4",
       "children": [
        "IPY_MODEL_ee3cbe78a68f4da5addf593dda9e9456",
        "IPY_MODEL_63cacba9d7e1424abe5c0fa703e26356"
       ],
       "layout": "IPY_MODEL_3af3ecb892b345faafc7a3a037dbf8d3"
      }
     },
     "3139fb862ee6406db66dac687bcc9ee8": {
      "model_module": "jupyter-js-widgets",
      "model_module_version": "~2.1.4",
      "model_name": "ProgressStyleModel",
      "state": {
       "_model_module_version": "~2.1.4",
       "_view_module_version": "~2.1.4"
      }
     },
     "33cd5f33192e46fb8d53ed1ce16ca933": {
      "model_module": "jupyter-js-widgets",
      "model_module_version": "~2.1.4",
      "model_name": "LayoutModel",
      "state": {
       "_model_module_version": "~2.1.4",
       "_view_module_version": "~2.1.4"
      }
     },
     "3af3ecb892b345faafc7a3a037dbf8d3": {
      "model_module": "jupyter-js-widgets",
      "model_module_version": "~2.1.4",
      "model_name": "LayoutModel",
      "state": {
       "_model_module_version": "~2.1.4",
       "_view_module_version": "~2.1.4"
      }
     },
     "438da24860e34ca99a82bb0b53f7c0e7": {
      "model_module": "jupyter-js-widgets",
      "model_module_version": "~2.1.4",
      "model_name": "HBoxModel",
      "state": {
       "_model_module_version": "~2.1.4",
       "_view_module_version": "~2.1.4",
       "children": [
        "IPY_MODEL_47615c67bd134afb9b8e7dfb13033f89",
        "IPY_MODEL_d871eae2e7cb446393127150f58c7bd3"
       ],
       "layout": "IPY_MODEL_de8971dc90cb46008bec20ece269ff54"
      }
     },
     "46dbc6d7283f427daaa91c51dfed3530": {
      "model_module": "jupyter-js-widgets",
      "model_module_version": "~2.1.4",
      "model_name": "HTMLModel",
      "state": {
       "_model_module_version": "~2.1.4",
       "_view_module_version": "~2.1.4",
       "layout": "IPY_MODEL_1fe424a027674de1b978f876015b441d",
       "value": "100% 2/2 [00:16&lt;00:00,  6.36s/it]"
      }
     },
     "47615c67bd134afb9b8e7dfb13033f89": {
      "model_module": "jupyter-js-widgets",
      "model_module_version": "~2.1.4",
      "model_name": "ProgressModel",
      "state": {
       "_model_module_version": "~2.1.4",
       "_view_module_version": "~2.1.4",
       "bar_style": "success",
       "description": "Applying Divvy Rule: ",
       "layout": "IPY_MODEL_056d785b86b141749ad28495fe29ae12",
       "max": 52,
       "style": "IPY_MODEL_77256aaebd73490393e4412de4f9edf1",
       "value": 52
      }
     },
     "63cacba9d7e1424abe5c0fa703e26356": {
      "model_module": "jupyter-js-widgets",
      "model_module_version": "~2.1.4",
      "model_name": "HTMLModel",
      "state": {
       "_model_module_version": "~2.1.4",
       "_view_module_version": "~2.1.4",
       "layout": "IPY_MODEL_07f299245c89442e87e681b50a1bb344",
       "value": "100% 52/52 [00:00&lt;00:00, 154.78it/s]"
      }
     },
     "77256aaebd73490393e4412de4f9edf1": {
      "model_module": "jupyter-js-widgets",
      "model_module_version": "~2.1.4",
      "model_name": "ProgressStyleModel",
      "state": {
       "_model_module_version": "~2.1.4",
       "_view_module_version": "~2.1.4"
      }
     },
     "8053b3b0ddf7427a942965c667842f59": {
      "model_module": "jupyter-js-widgets",
      "model_module_version": "~2.1.4",
      "model_name": "ProgressModel",
      "state": {
       "_model_module_version": "~2.1.4",
       "_view_module_version": "~2.1.4",
       "bar_style": "success",
       "description": "'ISPY1' Records: ",
       "layout": "IPY_MODEL_b83f09b4d8b24327b653fbc9ebdc1980",
       "max": 5,
       "style": "IPY_MODEL_be788ab75c97461289bed94528e728e7",
       "value": 5
      }
     },
     "8594337114474fd7839ce4913a5c53cf": {
      "model_module": "jupyter-js-widgets",
      "model_module_version": "~2.1.4",
      "model_name": "LayoutModel",
      "state": {
       "_model_module_version": "~2.1.4",
       "_view_module_version": "~2.1.4"
      }
     },
     "86f7044f7567466dbb43b6a43424db81": {
      "model_module": "jupyter-js-widgets",
      "model_module_version": "~2.1.4",
      "model_name": "HBoxModel",
      "state": {
       "_model_module_version": "~2.1.4",
       "_view_module_version": "~2.1.4",
       "children": [
        "IPY_MODEL_03981561fdce4f83ac0719d6ba628f3b",
        "IPY_MODEL_46dbc6d7283f427daaa91c51dfed3530"
       ],
       "layout": "IPY_MODEL_f3f96fbb236c4b70873f8aac1dbc4a3e"
      }
     },
     "8ddacdedb68d435698ec2ee061846943": {
      "model_module": "jupyter-js-widgets",
      "model_module_version": "~2.1.4",
      "model_name": "LayoutModel",
      "state": {
       "_model_module_version": "~2.1.4",
       "_view_module_version": "~2.1.4"
      }
     },
     "9b92e079393b42dba7767e06c74dee81": {
      "model_module": "jupyter-js-widgets",
      "model_module_version": "~2.1.4",
      "model_name": "LayoutModel",
      "state": {
       "_model_module_version": "~2.1.4",
       "_view_module_version": "~2.1.4"
      }
     },
     "b10f56768510436da5ae211263c4b918": {
      "model_module": "jupyter-js-widgets",
      "model_module_version": "~2.1.4",
      "model_name": "LayoutModel",
      "state": {
       "_model_module_version": "~2.1.4",
       "_view_module_version": "~2.1.4"
      }
     },
     "b83f09b4d8b24327b653fbc9ebdc1980": {
      "model_module": "jupyter-js-widgets",
      "model_module_version": "~2.1.4",
      "model_name": "LayoutModel",
      "state": {
       "_model_module_version": "~2.1.4",
       "_view_module_version": "~2.1.4"
      }
     },
     "be788ab75c97461289bed94528e728e7": {
      "model_module": "jupyter-js-widgets",
      "model_module_version": "~2.1.4",
      "model_name": "ProgressStyleModel",
      "state": {
       "_model_module_version": "~2.1.4",
       "_view_module_version": "~2.1.4"
      }
     },
     "d35516ab6969406a91dcb17134f3fb83": {
      "model_module": "jupyter-js-widgets",
      "model_module_version": "~2.1.4",
      "model_name": "HTMLModel",
      "state": {
       "_model_module_version": "~2.1.4",
       "_view_module_version": "~2.1.4",
       "layout": "IPY_MODEL_8594337114474fd7839ce4913a5c53cf",
       "value": "100% 5/5 [01:07&lt;00:00, 13.55s/it]"
      }
     },
     "d871eae2e7cb446393127150f58c7bd3": {
      "model_module": "jupyter-js-widgets",
      "model_module_version": "~2.1.4",
      "model_name": "HTMLModel",
      "state": {
       "_model_module_version": "~2.1.4",
       "_view_module_version": "~2.1.4",
       "layout": "IPY_MODEL_b10f56768510436da5ae211263c4b918",
       "value": "100% 52/52 [00:00&lt;00:00, 1425.28it/s]"
      }
     },
     "de8971dc90cb46008bec20ece269ff54": {
      "model_module": "jupyter-js-widgets",
      "model_module_version": "~2.1.4",
      "model_name": "LayoutModel",
      "state": {
       "_model_module_version": "~2.1.4",
       "_view_module_version": "~2.1.4"
      }
     },
     "e97be65bdbc64360863bf8b61a2cfb1b": {
      "model_module": "jupyter-js-widgets",
      "model_module_version": "~2.1.4",
      "model_name": "HBoxModel",
      "state": {
       "_model_module_version": "~2.1.4",
       "_view_module_version": "~2.1.4",
       "children": [
        "IPY_MODEL_8053b3b0ddf7427a942965c667842f59",
        "IPY_MODEL_d35516ab6969406a91dcb17134f3fb83"
       ],
       "layout": "IPY_MODEL_9b92e079393b42dba7767e06c74dee81"
      }
     },
     "ee3cbe78a68f4da5addf593dda9e9456": {
      "model_module": "jupyter-js-widgets",
      "model_module_version": "~2.1.4",
      "model_name": "ProgressModel",
      "state": {
       "_model_module_version": "~2.1.4",
       "_view_module_version": "~2.1.4",
       "bar_style": "success",
       "description": "Obtaining Images: ",
       "layout": "IPY_MODEL_8ddacdedb68d435698ec2ee061846943",
       "max": 52,
       "style": "IPY_MODEL_02d8bd445a804bd5a81b191301ef33ef",
       "value": 52
      }
     },
     "f3f96fbb236c4b70873f8aac1dbc4a3e": {
      "model_module": "jupyter-js-widgets",
      "model_module_version": "~2.1.4",
      "model_name": "LayoutModel",
      "state": {
       "_model_module_version": "~2.1.4",
       "_view_module_version": "~2.1.4"
      }
     }
    },
    "version_major": 1,
    "version_minor": 0
   }
  }
 },
 "nbformat": 4,
 "nbformat_minor": 2
}
