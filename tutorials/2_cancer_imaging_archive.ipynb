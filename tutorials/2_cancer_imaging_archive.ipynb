{
 "cells": [
  {
   "cell_type": "markdown",
   "metadata": {},
   "source": [
    "BioVida: The Cancer Imaging Archive\n",
    "===================\n",
    "---"
   ]
  },
  {
   "cell_type": "markdown",
   "metadata": {},
   "source": [
    "[The Cancer Imaging Archive](http://www.cancerimagingarchive.net) is a large repository of medical images of various forms of cancer. Programmatic web access is granted through a RESTful web API. However, this service requires an API-key to use, which you can apply for by following the instructions found [here](https://wiki.cancerimagingarchive.net/display/Public/TCIA+Programmatic+Interface+%28REST+API%29+Usage+Guide). Typically, this process is very speedy. <br>\n",
    "\n",
    "**Note**: If it is heavily requested, BioVida may simply include an API key for this service in the future. At the moment however, you will have to follow the instructions linked to above to obtain one.\n"
   ]
  },
  {
   "cell_type": "markdown",
   "metadata": {},
   "source": [
    "BioVida provides an easy-to-use python interface for this web API which, like the ``OpeniInterface`` class, is located in the images subpackage."
   ]
  },
  {
   "cell_type": "code",
   "execution_count": 1,
   "metadata": {},
   "outputs": [
    {
     "name": "stderr",
     "output_type": "stream",
     "text": [
      "Using Theano backend.\n"
     ]
    }
   ],
   "source": [
    "from biovida.images import CancerImageInterface"
   ]
  },
  {
   "cell_type": "markdown",
   "metadata": {},
   "source": [
    "We can instantiate an instance of the tool using an API key."
   ]
  },
  {
   "cell_type": "code",
   "execution_count": 2,
   "metadata": {
    "collapsed": true
   },
   "outputs": [],
   "source": [
    "cii = CancerImageInterface(api_key=YOUR_API_KEY_HERE)"
   ]
  },
  {
   "cell_type": "markdown",
   "metadata": {},
   "source": [
    "Note:\n",
    "\n",
    "The number of studies (collections) provided here is somewhat shorter than what is provided on [The Cancer Imaging Archive](http://www.cancerimagingarchive.net)'s website. This is because certain studies, such as those with restricted access, are excluded."
   ]
  },
  {
   "cell_type": "markdown",
   "metadata": {
    "collapsed": true
   },
   "source": [
    "With this notice out of the way, let's go ahead and perform a search."
   ]
  },
  {
   "cell_type": "code",
   "execution_count": 3,
   "metadata": {},
   "outputs": [
    {
     "data": {
      "text/html": [
       "<div>\n",
       "<table border=\"1\" class=\"dataframe\">\n",
       "  <thead>\n",
       "    <tr style=\"text-align: right;\">\n",
       "      <th></th>\n",
       "      <th>collection</th>\n",
       "      <th>cancer_type</th>\n",
       "      <th>modalities</th>\n",
       "      <th>subjects</th>\n",
       "      <th>location</th>\n",
       "      <th>metadata</th>\n",
       "      <th>access</th>\n",
       "      <th>status</th>\n",
       "      <th>updated</th>\n",
       "      <th>modalities_full</th>\n",
       "    </tr>\n",
       "  </thead>\n",
       "  <tbody>\n",
       "    <tr>\n",
       "      <th>0</th>\n",
       "      <td>ISPY1</td>\n",
       "      <td>Breast Cancer</td>\n",
       "      <td>MR, SEG</td>\n",
       "      <td>222</td>\n",
       "      <td>[Breast]</td>\n",
       "      <td>Yes</td>\n",
       "      <td>Public</td>\n",
       "      <td>Complete</td>\n",
       "      <td>2016-08-31</td>\n",
       "      <td>[Magnetic Resonance Imaging (MRI), Segmentation]</td>\n",
       "    </tr>\n",
       "    <tr>\n",
       "      <th>1</th>\n",
       "      <td>CBIS-DDSM</td>\n",
       "      <td>Breast Cancer</td>\n",
       "      <td>MG</td>\n",
       "      <td>1431</td>\n",
       "      <td>[Breast]</td>\n",
       "      <td>Yes</td>\n",
       "      <td>Public</td>\n",
       "      <td>Ongoing</td>\n",
       "      <td>2016-08-31</td>\n",
       "      <td>[Mammography]</td>\n",
       "    </tr>\n",
       "    <tr>\n",
       "      <th>2</th>\n",
       "      <td>Breast-MRI-NACT-Pilot</td>\n",
       "      <td>Breast Cancer</td>\n",
       "      <td>MR, SEG</td>\n",
       "      <td>64</td>\n",
       "      <td>[Breast]</td>\n",
       "      <td>Yes</td>\n",
       "      <td>Public</td>\n",
       "      <td>Complete</td>\n",
       "      <td>2016-01-26</td>\n",
       "      <td>[Magnetic Resonance Imaging (MRI), Segmentation]</td>\n",
       "    </tr>\n",
       "    <tr>\n",
       "      <th>3</th>\n",
       "      <td>TCGA-BRCA</td>\n",
       "      <td>Breast Cancer</td>\n",
       "      <td>MR, MG</td>\n",
       "      <td>139</td>\n",
       "      <td>[Breast]</td>\n",
       "      <td>Yes</td>\n",
       "      <td>Public</td>\n",
       "      <td>Ongoing</td>\n",
       "      <td>2014-12-30</td>\n",
       "      <td>[Magnetic Resonance Imaging (MRI), Mammography]</td>\n",
       "    </tr>\n",
       "    <tr>\n",
       "      <th>4</th>\n",
       "      <td>QIN Breast DCE-MRI</td>\n",
       "      <td>Breast Cancer</td>\n",
       "      <td>MR, KO</td>\n",
       "      <td>10</td>\n",
       "      <td>[Breast]</td>\n",
       "      <td>Yes</td>\n",
       "      <td>Public</td>\n",
       "      <td>Ongoing</td>\n",
       "      <td>2014-07-31</td>\n",
       "      <td>[Magnetic Resonance Imaging (MRI), Key Object ...</td>\n",
       "    </tr>\n",
       "    <tr>\n",
       "      <th>5</th>\n",
       "      <td>Breast Diagnosis</td>\n",
       "      <td>Breast Cancer</td>\n",
       "      <td>MR, PT, CT, MG</td>\n",
       "      <td>88</td>\n",
       "      <td>[Breast]</td>\n",
       "      <td>Yes</td>\n",
       "      <td>Public</td>\n",
       "      <td>Complete</td>\n",
       "      <td>2011-11-09</td>\n",
       "      <td>[Magnetic Resonance Imaging (MRI), Positron Em...</td>\n",
       "    </tr>\n",
       "    <tr>\n",
       "      <th>6</th>\n",
       "      <td>RIDER Breast MRI</td>\n",
       "      <td>Breast Cancer</td>\n",
       "      <td>MR</td>\n",
       "      <td>5</td>\n",
       "      <td>[Breast]</td>\n",
       "      <td>No</td>\n",
       "      <td>Public</td>\n",
       "      <td>Complete</td>\n",
       "      <td>2011-11-08</td>\n",
       "      <td>[Magnetic Resonance Imaging (MRI)]</td>\n",
       "    </tr>\n",
       "  </tbody>\n",
       "</table>\n",
       "</div>"
      ],
      "text/plain": [
       "              collection    cancer_type      modalities  subjects  location  \\\n",
       "0                  ISPY1  Breast Cancer         MR, SEG       222  [Breast]   \n",
       "1              CBIS-DDSM  Breast Cancer              MG      1431  [Breast]   \n",
       "2  Breast-MRI-NACT-Pilot  Breast Cancer         MR, SEG        64  [Breast]   \n",
       "3              TCGA-BRCA  Breast Cancer          MR, MG       139  [Breast]   \n",
       "4     QIN Breast DCE-MRI  Breast Cancer          MR, KO        10  [Breast]   \n",
       "5       Breast Diagnosis  Breast Cancer  MR, PT, CT, MG        88  [Breast]   \n",
       "6       RIDER Breast MRI  Breast Cancer              MR         5  [Breast]   \n",
       "\n",
       "  metadata  access    status    updated  \\\n",
       "0      Yes  Public  Complete 2016-08-31   \n",
       "1      Yes  Public   Ongoing 2016-08-31   \n",
       "2      Yes  Public  Complete 2016-01-26   \n",
       "3      Yes  Public   Ongoing 2014-12-30   \n",
       "4      Yes  Public   Ongoing 2014-07-31   \n",
       "5      Yes  Public  Complete 2011-11-09   \n",
       "6       No  Public  Complete 2011-11-08   \n",
       "\n",
       "                                     modalities_full  \n",
       "0   [Magnetic Resonance Imaging (MRI), Segmentation]  \n",
       "1                                      [Mammography]  \n",
       "2   [Magnetic Resonance Imaging (MRI), Segmentation]  \n",
       "3    [Magnetic Resonance Imaging (MRI), Mammography]  \n",
       "4  [Magnetic Resonance Imaging (MRI), Key Object ...  \n",
       "5  [Magnetic Resonance Imaging (MRI), Positron Em...  \n",
       "6                 [Magnetic Resonance Imaging (MRI)]  "
      ]
     },
     "execution_count": 3,
     "metadata": {},
     "output_type": "execute_result"
    }
   ],
   "source": [
    "cii.search(cancer_type='breast')"
   ]
  },
  {
   "cell_type": "markdown",
   "metadata": {
    "collapsed": true
   },
   "source": [
    "Next, we can easily download this data."
   ]
  },
  {
   "cell_type": "code",
   "execution_count": 4,
   "metadata": {
    "collapsed": true
   },
   "outputs": [],
   "source": [
    "import numpy as np\n",
    "def simplify_df(df):\n",
    "    \"\"\"This function simplifies dataframes\n",
    "    for the purposes of this tutorial.\"\"\"\n",
    "    data_frame = df.copy()\n",
    "    for c in ('cached_dicom_images_path', 'cached_images_path'):\n",
    "        data_frame[c] = data_frame[c].map(lambda x: tuple(['path_to_image'] * len(x)))\n",
    "    return data_frame[0:5].replace({np.NaN: ''})"
   ]
  },
  {
   "cell_type": "markdown",
   "metadata": {},
   "source": [
    "The code below will download the data in our search results, but with two noteworthy restrictions. <br>\n",
    "First, ``patient_limit=5`` will limit the number of patients/subjects downloaded to the first 5. <br>\n",
    "Second, ``collections_limit`` will limit the number of collections downloaded to one (in this case, 'TCGA-COAD'). <br>\n",
    "Third, ``session_limit=1`` will limit the results returned to the first time the patient/subject was scanned, e.g., before surgical intervention to remove diseased tissue. <br>\n",
    "\n",
    "\n",
    "Additionally, the ``save_dicom`` parameter will enable us to save the raw [DICOM](https://en.wikipedia.org/wiki/DICOM) image files that the Cancer Imaging Archive provides. By default, ``pull()`` only generates DICOM files. However, the ``save_png`` argument also gives you the option to convert the DICOM files to PNG images. "
   ]
  },
  {
   "cell_type": "code",
   "execution_count": 5,
   "metadata": {},
   "outputs": [
    {
     "data": {
      "application/vnd.jupyter.widget-view+json": {
       "model_id": "7788df7bb4c94d23b8da3540265eb2e5"
      }
     },
     "metadata": {},
     "output_type": "display_data"
    },
    {
     "name": "stdout",
     "output_type": "stream",
     "text": [
      "\n"
     ]
    },
    {
     "data": {
      "application/vnd.jupyter.widget-view+json": {
       "model_id": "8932264a9b144dada5b6beb35b23e5e6"
      }
     },
     "metadata": {},
     "output_type": "display_data"
    },
    {
     "name": "stdout",
     "output_type": "stream",
     "text": [
      "\n"
     ]
    }
   ],
   "source": [
    "pull_df = cii.pull(patient_limit=5, collections_limit=1, session_limit=1)"
   ]
  },
  {
   "cell_type": "markdown",
   "metadata": {
    "collapsed": true
   },
   "source": [
    "Let's take a look at the data we've downloaded. We could view the ``pull_df`` object above, or the *identical* ``records_db`` attribute of ``cii``, e.g., ``cii.records_db``. However, both of those DataFrames contain several column which are not typically relevant for every data use. So, instead, we can view an abbreviated DataFrame, ``records_db_short``."
   ]
  },
  {
   "cell_type": "code",
   "execution_count": 6,
   "metadata": {},
   "outputs": [
    {
     "data": {
      "text/html": [
       "<div>\n",
       "<table border=\"1\" class=\"dataframe\">\n",
       "  <thead>\n",
       "    <tr style=\"text-align: right;\">\n",
       "      <th></th>\n",
       "      <th>modality</th>\n",
       "      <th>protocol_name</th>\n",
       "      <th>series_date</th>\n",
       "      <th>series_description</th>\n",
       "      <th>body_part_examined</th>\n",
       "      <th>annotations_flag</th>\n",
       "      <th>collection</th>\n",
       "      <th>manufacturer</th>\n",
       "      <th>manufacturer_model_name</th>\n",
       "      <th>age</th>\n",
       "      <th>...</th>\n",
       "      <th>cancer_type</th>\n",
       "      <th>query</th>\n",
       "      <th>pull_time</th>\n",
       "      <th>modality_full</th>\n",
       "      <th>series_number_rescaled</th>\n",
       "      <th>cached_dicom_images_path</th>\n",
       "      <th>cached_images_path</th>\n",
       "      <th>error_free_conversion</th>\n",
       "      <th>allowed_modality</th>\n",
       "      <th>image_count_converted_cache</th>\n",
       "    </tr>\n",
       "  </thead>\n",
       "  <tbody>\n",
       "    <tr>\n",
       "      <th>0</th>\n",
       "      <td>MR</td>\n",
       "      <td>3D FIESTA - LEFT</td>\n",
       "      <td>1984-10-13</td>\n",
       "      <td>3P LEFT BREAST SCOUT</td>\n",
       "      <td>breast</td>\n",
       "      <td></td>\n",
       "      <td>ISPY1</td>\n",
       "      <td>GE MEDICAL SYSTEMS</td>\n",
       "      <td>GENESIS_SIGNA</td>\n",
       "      <td>38.0</td>\n",
       "      <td>...</td>\n",
       "      <td>breast cancer</td>\n",
       "      <td>{'collection': None, 'location': None, 'cancer...</td>\n",
       "      <td>2017-04-07 23:48:23.687590</td>\n",
       "      <td>Magnetic Resonance Imaging (MRI)</td>\n",
       "      <td>1.0</td>\n",
       "      <td>(path_to_image, path_to_image, path_to_image, ...</td>\n",
       "      <td>(path_to_image, path_to_image, path_to_image, ...</td>\n",
       "      <td>True</td>\n",
       "      <td>True</td>\n",
       "      <td>45</td>\n",
       "    </tr>\n",
       "    <tr>\n",
       "      <th>1</th>\n",
       "      <td>MR</td>\n",
       "      <td>3D FIESTA - LEFT</td>\n",
       "      <td>1984-10-13</td>\n",
       "      <td>T1-axial-locator</td>\n",
       "      <td>breast</td>\n",
       "      <td></td>\n",
       "      <td>ISPY1</td>\n",
       "      <td>GE MEDICAL SYSTEMS</td>\n",
       "      <td>GENESIS_SIGNA</td>\n",
       "      <td>38.0</td>\n",
       "      <td>...</td>\n",
       "      <td>breast cancer</td>\n",
       "      <td>{'collection': None, 'location': None, 'cancer...</td>\n",
       "      <td>2017-04-07 23:48:23.687590</td>\n",
       "      <td>Magnetic Resonance Imaging (MRI)</td>\n",
       "      <td>2.0</td>\n",
       "      <td>(path_to_image, path_to_image, path_to_image, ...</td>\n",
       "      <td>(path_to_image, path_to_image, path_to_image, ...</td>\n",
       "      <td>True</td>\n",
       "      <td>True</td>\n",
       "      <td>15</td>\n",
       "    </tr>\n",
       "    <tr>\n",
       "      <th>2</th>\n",
       "      <td>MR</td>\n",
       "      <td>3D FIESTA - LEFT</td>\n",
       "      <td>1984-10-13</td>\n",
       "      <td>T2-FSE-Sagittal</td>\n",
       "      <td>breast</td>\n",
       "      <td></td>\n",
       "      <td>ISPY1</td>\n",
       "      <td>GE MEDICAL SYSTEMS</td>\n",
       "      <td>GENESIS_SIGNA</td>\n",
       "      <td>38.0</td>\n",
       "      <td>...</td>\n",
       "      <td>breast cancer</td>\n",
       "      <td>{'collection': None, 'location': None, 'cancer...</td>\n",
       "      <td>2017-04-07 23:48:23.687590</td>\n",
       "      <td>Magnetic Resonance Imaging (MRI)</td>\n",
       "      <td>3.0</td>\n",
       "      <td>(path_to_image, path_to_image, path_to_image, ...</td>\n",
       "      <td>(path_to_image, path_to_image, path_to_image, ...</td>\n",
       "      <td>True</td>\n",
       "      <td>True</td>\n",
       "      <td>36</td>\n",
       "    </tr>\n",
       "    <tr>\n",
       "      <th>3</th>\n",
       "      <td>MR</td>\n",
       "      <td>3D FIESTA - LEFT</td>\n",
       "      <td>1984-10-13</td>\n",
       "      <td>Dynamic-3dfgre</td>\n",
       "      <td>breast</td>\n",
       "      <td></td>\n",
       "      <td>ISPY1</td>\n",
       "      <td>GE MEDICAL SYSTEMS</td>\n",
       "      <td>GENESIS_SIGNA</td>\n",
       "      <td>38.0</td>\n",
       "      <td>...</td>\n",
       "      <td>breast cancer</td>\n",
       "      <td>{'collection': None, 'location': None, 'cancer...</td>\n",
       "      <td>2017-04-07 23:48:23.687590</td>\n",
       "      <td>Magnetic Resonance Imaging (MRI)</td>\n",
       "      <td>4.0</td>\n",
       "      <td>(path_to_image, path_to_image, path_to_image, ...</td>\n",
       "      <td>(path_to_image, path_to_image, path_to_image, ...</td>\n",
       "      <td>True</td>\n",
       "      <td>True</td>\n",
       "      <td>180</td>\n",
       "    </tr>\n",
       "    <tr>\n",
       "      <th>4</th>\n",
       "      <td>MR</td>\n",
       "      <td>3D FIESTA - LEFT</td>\n",
       "      <td>1984-10-13</td>\n",
       "      <td>Dynamic-3dfgre: SER</td>\n",
       "      <td>breast</td>\n",
       "      <td></td>\n",
       "      <td>ISPY1</td>\n",
       "      <td>GE MEDICAL SYSTEMS</td>\n",
       "      <td>GENESIS_SIGNA</td>\n",
       "      <td>38.0</td>\n",
       "      <td>...</td>\n",
       "      <td>breast cancer</td>\n",
       "      <td>{'collection': None, 'location': None, 'cancer...</td>\n",
       "      <td>2017-04-07 23:48:23.687590</td>\n",
       "      <td>Magnetic Resonance Imaging (MRI)</td>\n",
       "      <td>4.1</td>\n",
       "      <td>(path_to_image, path_to_image, path_to_image, ...</td>\n",
       "      <td>(path_to_image, path_to_image, path_to_image, ...</td>\n",
       "      <td>True</td>\n",
       "      <td>True</td>\n",
       "      <td>60</td>\n",
       "    </tr>\n",
       "  </tbody>\n",
       "</table>\n",
       "<p>5 rows × 26 columns</p>\n",
       "</div>"
      ],
      "text/plain": [
       "  modality     protocol_name series_date    series_description  \\\n",
       "0       MR  3D FIESTA - LEFT  1984-10-13  3P LEFT BREAST SCOUT   \n",
       "1       MR  3D FIESTA - LEFT  1984-10-13      T1-axial-locator   \n",
       "2       MR  3D FIESTA - LEFT  1984-10-13       T2-FSE-Sagittal   \n",
       "3       MR  3D FIESTA - LEFT  1984-10-13        Dynamic-3dfgre   \n",
       "4       MR  3D FIESTA - LEFT  1984-10-13   Dynamic-3dfgre: SER   \n",
       "\n",
       "  body_part_examined annotations_flag collection        manufacturer  \\\n",
       "0             breast                       ISPY1  GE MEDICAL SYSTEMS   \n",
       "1             breast                       ISPY1  GE MEDICAL SYSTEMS   \n",
       "2             breast                       ISPY1  GE MEDICAL SYSTEMS   \n",
       "3             breast                       ISPY1  GE MEDICAL SYSTEMS   \n",
       "4             breast                       ISPY1  GE MEDICAL SYSTEMS   \n",
       "\n",
       "  manufacturer_model_name   age             ...                cancer_type  \\\n",
       "0           GENESIS_SIGNA  38.0             ...              breast cancer   \n",
       "1           GENESIS_SIGNA  38.0             ...              breast cancer   \n",
       "2           GENESIS_SIGNA  38.0             ...              breast cancer   \n",
       "3           GENESIS_SIGNA  38.0             ...              breast cancer   \n",
       "4           GENESIS_SIGNA  38.0             ...              breast cancer   \n",
       "\n",
       "                                               query  \\\n",
       "0  {'collection': None, 'location': None, 'cancer...   \n",
       "1  {'collection': None, 'location': None, 'cancer...   \n",
       "2  {'collection': None, 'location': None, 'cancer...   \n",
       "3  {'collection': None, 'location': None, 'cancer...   \n",
       "4  {'collection': None, 'location': None, 'cancer...   \n",
       "\n",
       "                   pull_time                     modality_full  \\\n",
       "0 2017-04-07 23:48:23.687590  Magnetic Resonance Imaging (MRI)   \n",
       "1 2017-04-07 23:48:23.687590  Magnetic Resonance Imaging (MRI)   \n",
       "2 2017-04-07 23:48:23.687590  Magnetic Resonance Imaging (MRI)   \n",
       "3 2017-04-07 23:48:23.687590  Magnetic Resonance Imaging (MRI)   \n",
       "4 2017-04-07 23:48:23.687590  Magnetic Resonance Imaging (MRI)   \n",
       "\n",
       "  series_number_rescaled                           cached_dicom_images_path  \\\n",
       "0                    1.0  (path_to_image, path_to_image, path_to_image, ...   \n",
       "1                    2.0  (path_to_image, path_to_image, path_to_image, ...   \n",
       "2                    3.0  (path_to_image, path_to_image, path_to_image, ...   \n",
       "3                    4.0  (path_to_image, path_to_image, path_to_image, ...   \n",
       "4                    4.1  (path_to_image, path_to_image, path_to_image, ...   \n",
       "\n",
       "                                  cached_images_path error_free_conversion  \\\n",
       "0  (path_to_image, path_to_image, path_to_image, ...                  True   \n",
       "1  (path_to_image, path_to_image, path_to_image, ...                  True   \n",
       "2  (path_to_image, path_to_image, path_to_image, ...                  True   \n",
       "3  (path_to_image, path_to_image, path_to_image, ...                  True   \n",
       "4  (path_to_image, path_to_image, path_to_image, ...                  True   \n",
       "\n",
       "  allowed_modality image_count_converted_cache  \n",
       "0             True                          45  \n",
       "1             True                          15  \n",
       "2             True                          36  \n",
       "3             True                         180  \n",
       "4             True                          60  \n",
       "\n",
       "[5 rows x 26 columns]"
      ]
     },
     "execution_count": 6,
     "metadata": {},
     "output_type": "execute_result"
    }
   ],
   "source": [
    "simplify_df(cii.records_db_short)"
   ]
  },
  {
   "cell_type": "markdown",
   "metadata": {
    "collapsed": true
   },
   "source": [
    "**Notes**:\n",
    "\n",
    "- The ``'cached_dicom_images_path'`` and ``'cached_images_path'`` columns refer to *multiple* images.\n",
    "- The number of converted images may differ from the number of raw DICOM images because 3D DICOM images are saved as individual frames when they are converted to PNG. The ``'image_count_converted_cache'`` column provides an account of how many images resulted from any given DICOM $\\rightarrow$ PNG conversion."
   ]
  },
  {
   "cell_type": "markdown",
   "metadata": {},
   "source": [
    "---\n",
    "\n",
    "### Working With DICOMs"
   ]
  },
  {
   "cell_type": "markdown",
   "metadata": {},
   "source": [
    "The Cancer Imaging Archive stores images in a format known as Digital Imaging and Communications in Medicine ([DICOM](https://en.wikipedia.org/wiki/DICOM)). If you have experience working with this file format, you can safely skip this section."
   ]
  },
  {
   "cell_type": "markdown",
   "metadata": {},
   "source": [
    "In python, we can manipulate DICOM files using the [pydicom](https://github.com/darcymason/pydicom) library. This tool will allow us to extract the images data as ``ndarrays``."
   ]
  },
  {
   "cell_type": "code",
   "execution_count": 7,
   "metadata": {
    "collapsed": true
   },
   "outputs": [],
   "source": [
    "import dicom  # in the future you will have to use `import pydicom as dicom`"
   ]
  },
  {
   "cell_type": "markdown",
   "metadata": {},
   "source": [
    "We can also go ahead an import ``matplotlib`` to allow us to visualize the ``ndarrays`` we extract."
   ]
  },
  {
   "cell_type": "markdown",
   "metadata": {},
   "source": [
    "We can start by extracting a list of DICOMs from the images we downloaded above."
   ]
  },
  {
   "cell_type": "code",
   "execution_count": 8,
   "metadata": {
    "collapsed": true
   },
   "outputs": [],
   "source": [
    "sample_dicoms = cii.records_db['cached_dicom_images_path'].iloc[1]"
   ]
  },
  {
   "cell_type": "markdown",
   "metadata": {},
   "source": [
    "We can load these images in as ``ndarrays`` using the ``dicom`` (``pydicom``) library."
   ]
  },
  {
   "cell_type": "code",
   "execution_count": 9,
   "metadata": {
    "collapsed": true
   },
   "outputs": [],
   "source": [
    "dicoms_arrs = [dicom.read_file(f).pixel_array for f in sample_dicoms]"
   ]
  },
  {
   "cell_type": "markdown",
   "metadata": {},
   "source": [
    "DICOM represents imaging sessions with a *tag* known as SeriesInstanceUID. That is, the unique ID of the series.\n",
    "If multiple DICOM files/images share the same SeriesInstanceUID, it means they are part of the same 'series'. "
   ]
  },
  {
   "cell_type": "markdown",
   "metadata": {},
   "source": [
    "If we get the length of ``dicoms_arrs`` we see that multiple DICOM files share the same SeriesInstanceUID"
   ]
  },
  {
   "cell_type": "code",
   "execution_count": 10,
   "metadata": {},
   "outputs": [
    {
     "data": {
      "text/plain": [
       "15"
      ]
     },
     "execution_count": 10,
     "metadata": {},
     "output_type": "execute_result"
    }
   ],
   "source": [
    "len(dicoms_arrs)"
   ]
  },
  {
   "cell_type": "code",
   "execution_count": 11,
   "metadata": {},
   "outputs": [
    {
     "data": {
      "text/plain": [
       "'1.3.6.1.4.1.14519.5.2.1.7695.1700.220092773361369396087067751186'"
      ]
     },
     "execution_count": 11,
     "metadata": {},
     "output_type": "execute_result"
    }
   ],
   "source": [
    "cii.records_db['series_instance_uid'].iloc[1]"
   ]
  },
  {
   "cell_type": "markdown",
   "metadata": {},
   "source": [
    "Thus suggesting that this particular series is either a *3D volume* or a time-series. So we can go ahead stack these images on top of one another as a way of representing this relationship between the images."
   ]
  },
  {
   "cell_type": "code",
   "execution_count": 12,
   "metadata": {
    "collapsed": true
   },
   "outputs": [],
   "source": [
    "stacked_dicoms = np.stack(dicoms_arrs)"
   ]
  },
  {
   "cell_type": "markdown",
   "metadata": {},
   "source": [
    "If we check the shape of ``stacked_dicoms`` can see that we have indeed stacked 15 256x256 images on top of one another."
   ]
  },
  {
   "cell_type": "code",
   "execution_count": 13,
   "metadata": {},
   "outputs": [
    {
     "data": {
      "text/plain": [
       "(15, 256, 256)"
      ]
     },
     "execution_count": 13,
     "metadata": {},
     "output_type": "execute_result"
    }
   ],
   "source": [
    "stacked_dicoms.shape"
   ]
  },
  {
   "cell_type": "markdown",
   "metadata": {},
   "source": [
    "We can also go ahead and define a small function which will enable us to visualize this 'stack' of images."
   ]
  },
  {
   "cell_type": "code",
   "execution_count": 14,
   "metadata": {
    "collapsed": true
   },
   "outputs": [],
   "source": [
    "import matplotlib.pyplot as plt\n",
    "def sample_stack(stack, rows=3, cols=5, start_with=0, show_every=1):\n",
    "    \"\"\"Function to display stacked ndarray.\n",
    "    Source: https://www.raddq.com/dicom-processing-segmentation-visualization-in-python\n",
    "    Note: this code has been slightly modified.\"\"\"\n",
    "    if rows*cols != stack.shape[0]:\n",
    "        raise ValueError(\"The product of `rows` and `cols` does not equal number of images.\")\n",
    "    fig, ax = plt.subplots(rows, cols, figsize=[12, 12])\n",
    "    for i in range(rows*cols):\n",
    "        ind = start_with + i*show_every\n",
    "        ax[int(i/cols), int(i % cols)].set_title('slice {0}'.format(str(ind + 1)))\n",
    "        ax[int(i/cols), int(i % cols)].imshow(stack[ind], cmap='gray')\n",
    "        ax[int(i/cols), int(i % cols)].axis('off')\n",
    "    plt.show()"
   ]
  },
  {
   "cell_type": "markdown",
   "metadata": {},
   "source": [
    "If you're curious to see what these images look like, you can uncomment the line below to view the stack of images."
   ]
  },
  {
   "cell_type": "code",
   "execution_count": 15,
   "metadata": {
    "collapsed": true
   },
   "outputs": [],
   "source": [
    "# sample_stack(stacked_dicoms, rows=3)"
   ]
  },
  {
   "cell_type": "markdown",
   "metadata": {
    "collapsed": true
   },
   "source": [
    "**Note**:\n",
    "\n",
    "Ordering DICOM images in space is tricky. Currently, this class uses a somewhat reliable, but far from ideal, means of ordering images. <br> **Errors are possible**. <br>\n",
    "\n",
    "<small>\n",
    "For the Medical Imaging Folks: <br>\n",
    "Images in the ``'series_instance_uid'`` column are ordered against the ``InstanceNumber`` tag instead of actually working out the geometry required to sort the images in space. This is obviously not ideal because, among other reasons, ``InstanceNumber`` is a type 2 tag. Hopefully, in the future, this is something that will be improved. \n",
    "</small>"
   ]
  },
  {
   "cell_type": "markdown",
   "metadata": {
    "collapsed": true
   },
   "source": [
    "---\n",
    "\n",
    "### Train, Validation and Test"
   ]
  },
  {
   "cell_type": "markdown",
   "metadata": {
    "collapsed": true
   },
   "source": [
    "Spitting images obtained from the Cancer Imaging Archive into training, validation and/or testing sets is nearly identical to doing so using an instance of ``OpeniInterface`` class introduced in the prior tutorial. Accordingly, the instructions provided here will be condensed. If you would like more detail, please review this earlier tutorial."
   ]
  },
  {
   "cell_type": "markdown",
   "metadata": {
    "collapsed": true
   },
   "source": [
    "First, we import the ``image_divvy`` tool."
   ]
  },
  {
   "cell_type": "code",
   "execution_count": 16,
   "metadata": {
    "collapsed": true
   },
   "outputs": [],
   "source": [
    "from biovida.images import image_divvy"
   ]
  },
  {
   "cell_type": "markdown",
   "metadata": {
    "collapsed": true
   },
   "source": [
    "Next, we can define a 'divvy_rule'."
   ]
  },
  {
   "cell_type": "code",
   "execution_count": 17,
   "metadata": {
    "collapsed": true
   },
   "outputs": [],
   "source": [
    "def my_divvy_rule(row):\n",
    "    if row['modality_full'] == 'Magnetic Resonance Imaging (MRI)':\n",
    "        return 'mri'\n",
    "    if row['modality_full'] == 'Segmentation':\n",
    "        return 'seg'"
   ]
  },
  {
   "cell_type": "markdown",
   "metadata": {
    "collapsed": true
   },
   "source": [
    "This rule will select only those images which are MRIs. All other images will be excluded."
   ]
  },
  {
   "cell_type": "code",
   "execution_count": 18,
   "metadata": {},
   "outputs": [
    {
     "data": {
      "application/vnd.jupyter.widget-view+json": {
       "model_id": "8e81eb5d801540019c862ae4e8cf7544"
      }
     },
     "metadata": {},
     "output_type": "display_data"
    },
    {
     "name": "stdout",
     "output_type": "stream",
     "text": [
      "\n"
     ]
    },
    {
     "data": {
      "application/vnd.jupyter.widget-view+json": {
       "model_id": "e15851ea4b0d4827befb5d422b56d1e5"
      }
     },
     "metadata": {},
     "output_type": "display_data"
    },
    {
     "name": "stdout",
     "output_type": "stream",
     "text": [
      "\n",
      "\n",
      "Structure:\n",
      "\n",
      "- 'train':\n",
      "  - 'mri'\n",
      "  - 'seg'\n",
      "- 'test':\n",
      "  - 'mri'\n",
      "  - 'seg'\n"
     ]
    }
   ],
   "source": [
    "train_test = image_divvy(instance=cii,\n",
    "                         divvy_rule=my_divvy_rule,\n",
    "                         db_to_extract='records_db',\n",
    "                         action='ndarray',\n",
    "                         train_val_test_dict={'train': 0.8, 'test': 0.2})"
   ]
  },
  {
   "cell_type": "code",
   "execution_count": 19,
   "metadata": {
    "collapsed": true
   },
   "outputs": [],
   "source": [
    "train_mri, test_mri = train_test['train']['mri'], train_test['test']['mri']\n",
    "train_seg, test_seg = train_test['train']['seg'], train_test['test']['seg']"
   ]
  },
  {
   "cell_type": "markdown",
   "metadata": {},
   "source": [
    "One important thing to point out is that some of the images returned will, in fact, be stacked arrays of images. <br>\n",
    "\n",
    "For example:"
   ]
  },
  {
   "cell_type": "code",
   "execution_count": 20,
   "metadata": {},
   "outputs": [
    {
     "data": {
      "text/plain": [
       "(53, 256, 256)"
      ]
     },
     "execution_count": 20,
     "metadata": {},
     "output_type": "execute_result"
    }
   ],
   "source": [
    "train_seg[10].shape"
   ]
  },
  {
   "cell_type": "markdown",
   "metadata": {
    "collapsed": true
   },
   "source": [
    "---\n",
    "\n",
    "## Conclusion"
   ]
  },
  {
   "cell_type": "markdown",
   "metadata": {
    "collapsed": true
   },
   "source": [
    "Here we've explored how ``BioVida`` can be used to easily obtain and process data from the Cancer Imaging Archive database. <br>\n",
    "\n",
    "In the next tutorial, we'll investigate ways of managing and integrating the data cached by ``BioVida``.\n"
   ]
  },
  {
   "cell_type": "markdown",
   "metadata": {
    "collapsed": true
   },
   "source": [
    "---"
   ]
  }
 ],
 "metadata": {
  "kernelspec": {
   "display_name": "Python 3",
   "language": "python",
   "name": "python3"
  },
  "language_info": {
   "codemirror_mode": {
    "name": "ipython",
    "version": 3
   },
   "file_extension": ".py",
   "mimetype": "text/x-python",
   "name": "python",
   "nbconvert_exporter": "python",
   "pygments_lexer": "ipython3",
   "version": "3.5.2"
  },
  "widgets": {
   "application/vnd.jupyter.widget-state+json": {
    "state": {
     "030f93c0a5c74e3b9f1aefc7c82cebc5": {
      "model_module": "jupyter-js-widgets",
      "model_module_version": "~2.1.4",
      "model_name": "HTMLModel",
      "state": {
       "_model_module_version": "~2.1.4",
       "_view_module_version": "~2.1.4",
       "layout": "IPY_MODEL_de99cd1014714b0cac6c4d4a35ca0f76",
       "value": "100% 5/5 [00:46&lt;00:00,  9.34s/it]"
      }
     },
     "078250c85bba4353b9f5831f80251c0d": {
      "model_module": "jupyter-js-widgets",
      "model_module_version": "~2.1.4",
      "model_name": "ProgressStyleModel",
      "state": {
       "_model_module_version": "~2.1.4",
       "_view_module_version": "~2.1.4"
      }
     },
     "0830717553b04760a305e256cc4d35ea": {
      "model_module": "jupyter-js-widgets",
      "model_module_version": "~2.1.4",
      "model_name": "ProgressModel",
      "state": {
       "_model_module_version": "~2.1.4",
       "_view_module_version": "~2.1.4",
       "bar_style": "success",
       "description": "Obtaining Images: ",
       "layout": "IPY_MODEL_c91114c7112b4c4cbfdb4a0e9e68b454",
       "max": 52,
       "style": "IPY_MODEL_51e68981dac9403583e898f1ba16f418",
       "value": 52
      }
     },
     "17a9e4ee3f2c4296b527789c1d105cdc": {
      "model_module": "jupyter-js-widgets",
      "model_module_version": "~2.1.4",
      "model_name": "LayoutModel",
      "state": {
       "_model_module_version": "~2.1.4",
       "_view_module_version": "~2.1.4"
      }
     },
     "19c019a5b91c49428ed418a74471ead1": {
      "model_module": "jupyter-js-widgets",
      "model_module_version": "~2.1.4",
      "model_name": "ProgressModel",
      "state": {
       "_model_module_version": "~2.1.4",
       "_view_module_version": "~2.1.4",
       "bar_style": "success",
       "description": "Generating ndarrays: ",
       "layout": "IPY_MODEL_1ac6463241a54fec880080de01aa7a3d",
       "max": 2,
       "style": "IPY_MODEL_078250c85bba4353b9f5831f80251c0d",
       "value": 2
      }
     },
     "1ac6463241a54fec880080de01aa7a3d": {
      "model_module": "jupyter-js-widgets",
      "model_module_version": "~2.1.4",
      "model_name": "LayoutModel",
      "state": {
       "_model_module_version": "~2.1.4",
       "_view_module_version": "~2.1.4"
      }
     },
     "2b38afc1db2e49b794094578a0ec3453": {
      "model_module": "jupyter-js-widgets",
      "model_module_version": "~2.1.4",
      "model_name": "LayoutModel",
      "state": {
       "_model_module_version": "~2.1.4",
       "_view_module_version": "~2.1.4"
      }
     },
     "34b01f5e17a549f89e2f2d4d5939f2de": {
      "model_module": "jupyter-js-widgets",
      "model_module_version": "~2.1.4",
      "model_name": "LayoutModel",
      "state": {
       "_model_module_version": "~2.1.4",
       "_view_module_version": "~2.1.4"
      }
     },
     "41a10bd368bb4b64abd596f467b86393": {
      "model_module": "jupyter-js-widgets",
      "model_module_version": "~2.1.4",
      "model_name": "ProgressStyleModel",
      "state": {
       "_model_module_version": "~2.1.4",
       "_view_module_version": "~2.1.4"
      }
     },
     "4f8f5a2d1bcb4947ba7368f23ce5eb62": {
      "model_module": "jupyter-js-widgets",
      "model_module_version": "~2.1.4",
      "model_name": "LayoutModel",
      "state": {
       "_model_module_version": "~2.1.4",
       "_view_module_version": "~2.1.4"
      }
     },
     "51e68981dac9403583e898f1ba16f418": {
      "model_module": "jupyter-js-widgets",
      "model_module_version": "~2.1.4",
      "model_name": "ProgressStyleModel",
      "state": {
       "_model_module_version": "~2.1.4",
       "_view_module_version": "~2.1.4"
      }
     },
     "6220a6e2c9de466fb1157ab66a871c86": {
      "model_module": "jupyter-js-widgets",
      "model_module_version": "~2.1.4",
      "model_name": "ProgressModel",
      "state": {
       "_model_module_version": "~2.1.4",
       "_view_module_version": "~2.1.4",
       "bar_style": "success",
       "description": "'ISPY1' Records: ",
       "layout": "IPY_MODEL_2b38afc1db2e49b794094578a0ec3453",
       "max": 5,
       "style": "IPY_MODEL_41a10bd368bb4b64abd596f467b86393",
       "value": 5
      }
     },
     "6e214ed6818c4a1a82f5f0d5c31ba06f": {
      "model_module": "jupyter-js-widgets",
      "model_module_version": "~2.1.4",
      "model_name": "LayoutModel",
      "state": {
       "_model_module_version": "~2.1.4",
       "_view_module_version": "~2.1.4"
      }
     },
     "7788df7bb4c94d23b8da3540265eb2e5": {
      "model_module": "jupyter-js-widgets",
      "model_module_version": "~2.1.4",
      "model_name": "HBoxModel",
      "state": {
       "_model_module_version": "~2.1.4",
       "_view_module_version": "~2.1.4",
       "children": [
        "IPY_MODEL_6220a6e2c9de466fb1157ab66a871c86",
        "IPY_MODEL_030f93c0a5c74e3b9f1aefc7c82cebc5"
       ],
       "layout": "IPY_MODEL_eb8f009170a7439591dc9a36141ab666"
      }
     },
     "7b1a9424ff4c48a1b1e55b61e83dd267": {
      "model_module": "jupyter-js-widgets",
      "model_module_version": "~2.1.4",
      "model_name": "ProgressModel",
      "state": {
       "_model_module_version": "~2.1.4",
       "_view_module_version": "~2.1.4",
       "bar_style": "success",
       "description": "Applying Divvy Rule: ",
       "layout": "IPY_MODEL_b2e0c0d2f1414711b834fae3d49d0603",
       "max": 52,
       "style": "IPY_MODEL_eacc34d2dae34ea6a764676c4b76859f",
       "value": 52
      }
     },
     "8932264a9b144dada5b6beb35b23e5e6": {
      "model_module": "jupyter-js-widgets",
      "model_module_version": "~2.1.4",
      "model_name": "HBoxModel",
      "state": {
       "_model_module_version": "~2.1.4",
       "_view_module_version": "~2.1.4",
       "children": [
        "IPY_MODEL_0830717553b04760a305e256cc4d35ea",
        "IPY_MODEL_b0331e3dd7df471887cdc3a448b53b0d"
       ],
       "layout": "IPY_MODEL_4f8f5a2d1bcb4947ba7368f23ce5eb62"
      }
     },
     "8e81eb5d801540019c862ae4e8cf7544": {
      "model_module": "jupyter-js-widgets",
      "model_module_version": "~2.1.4",
      "model_name": "HBoxModel",
      "state": {
       "_model_module_version": "~2.1.4",
       "_view_module_version": "~2.1.4",
       "children": [
        "IPY_MODEL_7b1a9424ff4c48a1b1e55b61e83dd267",
        "IPY_MODEL_fd254997f7b54b6e9a205a6f8a6729a9"
       ],
       "layout": "IPY_MODEL_6e214ed6818c4a1a82f5f0d5c31ba06f"
      }
     },
     "9b2ed8b7a4c747c6bf2679b02ff04316": {
      "model_module": "jupyter-js-widgets",
      "model_module_version": "~2.1.4",
      "model_name": "LayoutModel",
      "state": {
       "_model_module_version": "~2.1.4",
       "_view_module_version": "~2.1.4"
      }
     },
     "a7402258eae94828b590621557fd05c4": {
      "model_module": "jupyter-js-widgets",
      "model_module_version": "~2.1.4",
      "model_name": "HTMLModel",
      "state": {
       "_model_module_version": "~2.1.4",
       "_view_module_version": "~2.1.4",
       "layout": "IPY_MODEL_be23a47142cf410180223ccc9c7d0ff0",
       "value": "100% 2/2 [00:16&lt;00:00,  6.11s/it]"
      }
     },
     "b0331e3dd7df471887cdc3a448b53b0d": {
      "model_module": "jupyter-js-widgets",
      "model_module_version": "~2.1.4",
      "model_name": "HTMLModel",
      "state": {
       "_model_module_version": "~2.1.4",
       "_view_module_version": "~2.1.4",
       "layout": "IPY_MODEL_9b2ed8b7a4c747c6bf2679b02ff04316",
       "value": "100% 52/52 [00:00&lt;00:00, 160.41it/s]"
      }
     },
     "b2e0c0d2f1414711b834fae3d49d0603": {
      "model_module": "jupyter-js-widgets",
      "model_module_version": "~2.1.4",
      "model_name": "LayoutModel",
      "state": {
       "_model_module_version": "~2.1.4",
       "_view_module_version": "~2.1.4"
      }
     },
     "be23a47142cf410180223ccc9c7d0ff0": {
      "model_module": "jupyter-js-widgets",
      "model_module_version": "~2.1.4",
      "model_name": "LayoutModel",
      "state": {
       "_model_module_version": "~2.1.4",
       "_view_module_version": "~2.1.4"
      }
     },
     "c91114c7112b4c4cbfdb4a0e9e68b454": {
      "model_module": "jupyter-js-widgets",
      "model_module_version": "~2.1.4",
      "model_name": "LayoutModel",
      "state": {
       "_model_module_version": "~2.1.4",
       "_view_module_version": "~2.1.4"
      }
     },
     "de99cd1014714b0cac6c4d4a35ca0f76": {
      "model_module": "jupyter-js-widgets",
      "model_module_version": "~2.1.4",
      "model_name": "LayoutModel",
      "state": {
       "_model_module_version": "~2.1.4",
       "_view_module_version": "~2.1.4"
      }
     },
     "e15851ea4b0d4827befb5d422b56d1e5": {
      "model_module": "jupyter-js-widgets",
      "model_module_version": "~2.1.4",
      "model_name": "HBoxModel",
      "state": {
       "_model_module_version": "~2.1.4",
       "_view_module_version": "~2.1.4",
       "children": [
        "IPY_MODEL_19c019a5b91c49428ed418a74471ead1",
        "IPY_MODEL_a7402258eae94828b590621557fd05c4"
       ],
       "layout": "IPY_MODEL_34b01f5e17a549f89e2f2d4d5939f2de"
      }
     },
     "eacc34d2dae34ea6a764676c4b76859f": {
      "model_module": "jupyter-js-widgets",
      "model_module_version": "~2.1.4",
      "model_name": "ProgressStyleModel",
      "state": {
       "_model_module_version": "~2.1.4",
       "_view_module_version": "~2.1.4"
      }
     },
     "eb8f009170a7439591dc9a36141ab666": {
      "model_module": "jupyter-js-widgets",
      "model_module_version": "~2.1.4",
      "model_name": "LayoutModel",
      "state": {
       "_model_module_version": "~2.1.4",
       "_view_module_version": "~2.1.4"
      }
     },
     "fd254997f7b54b6e9a205a6f8a6729a9": {
      "model_module": "jupyter-js-widgets",
      "model_module_version": "~2.1.4",
      "model_name": "HTMLModel",
      "state": {
       "_model_module_version": "~2.1.4",
       "_view_module_version": "~2.1.4",
       "layout": "IPY_MODEL_17a9e4ee3f2c4296b527789c1d105cdc",
       "value": "100% 52/52 [00:00&lt;00:00, 1432.87it/s]"
      }
     }
    },
    "version_major": 1,
    "version_minor": 0
   }
  }
 },
 "nbformat": 4,
 "nbformat_minor": 2
}
