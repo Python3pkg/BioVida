{
 "cells": [
  {
   "cell_type": "markdown",
   "metadata": {},
   "source": [
    "BioVida: Open-i\n",
    "========"
   ]
  },
  {
   "cell_type": "markdown",
   "metadata": {},
   "source": [
    "[Open-i](https://openi.nlm.nih.gov) is an open access biomedical search engine provided by the US National Institutes of Health. The service grants programmatic access to its over 1.2 million images through a RESTful web API. BioVida provides an easy-to-use python interface for this web API, located in the ``images`` subpackage."
   ]
  },
  {
   "cell_type": "code",
   "execution_count": 1,
   "metadata": {},
   "outputs": [
    {
     "name": "stderr",
     "output_type": "stream",
     "text": [
      "Using Theano backend.\n"
     ]
    }
   ],
   "source": [
    "from biovida.images import OpeniInterface"
   ]
  },
  {
   "cell_type": "markdown",
   "metadata": {},
   "source": [
    "\n"
   ]
  },
  {
   "cell_type": "code",
   "execution_count": 2,
   "metadata": {
    "collapsed": true
   },
   "outputs": [],
   "source": [
    "opi = OpeniInterface()"
   ]
  },
  {
   "cell_type": "markdown",
   "metadata": {
    "collapsed": true
   },
   "source": [
    "We start by creating an instance of the class. All BioVida interfaces accept at least two parameters: verbose and cache_path. The first simply determines whether or not the class provides you with additional updates as the class works. The second refers to the location where will be stored (or *cached*) on your computer. If left to its default, data will be cached in a directory entitled *biovida_cache* in your home directory. For most use cases, this should suffice."
   ]
  },
  {
   "cell_type": "markdown",
   "metadata": {},
   "source": [
    "---\n",
    "\n",
    "### Searching"
   ]
  },
  {
   "cell_type": "markdown",
   "metadata": {},
   "source": [
    "To search the Open-i database, we can use the ``OpeniInterface``'s ``search`` method. To explore valid values that can be passed to ``search``, we can use ``options()``."
   ]
  },
  {
   "cell_type": "code",
   "execution_count": 3,
   "metadata": {},
   "outputs": [
    {
     "name": "stdout",
     "output_type": "stream",
     "text": [
      "  - 'article_type'\n",
      "  - 'collection'\n",
      "  - 'exclusions'\n",
      "  - 'fields'\n",
      "  - 'image_type'\n",
      "  - 'rankby'\n",
      "  - 'specialties'\n",
      "  - 'subset'\n",
      "  - 'video'\n"
     ]
    }
   ],
   "source": [
    "opi.options()"
   ]
  },
  {
   "cell_type": "markdown",
   "metadata": {
    "collapsed": true
   },
   "source": [
    "The code above enumerates all of the parameters, apart from a specific ``query`` string, that can be passed to ``search()``. Additionally, ``options()`` can be used to investigate the valid values for any one of these parameters."
   ]
  },
  {
   "cell_type": "code",
   "execution_count": 4,
   "metadata": {},
   "outputs": [
    {
     "name": "stdout",
     "output_type": "stream",
     "text": [
      "  - 'history_of_medicine'\n",
      "  - 'indiana_u_xray'\n",
      "  - 'medpix'\n",
      "  - 'pubmed'\n",
      "  - 'usc_anatomy'\n"
     ]
    }
   ],
   "source": [
    "opi.options('collection')"
   ]
  },
  {
   "cell_type": "code",
   "execution_count": 5,
   "metadata": {},
   "outputs": [
    {
     "name": "stdout",
     "output_type": "stream",
     "text": [
      "  - 'ct'\n",
      "  - 'graphic'\n",
      "  - 'microscopy'\n",
      "  - 'mri'\n",
      "  - 'pet'\n",
      "  - 'photograph'\n",
      "  - 'ultrasound'\n",
      "  - 'x_ray'\n"
     ]
    }
   ],
   "source": [
    "opi.options('image_type')"
   ]
  },
  {
   "cell_type": "markdown",
   "metadata": {},
   "source": [
    "Let's go ahead and perform a search for X-ray and CT images of 'lung cancer' from the PubMed collection/database."
   ]
  },
  {
   "cell_type": "code",
   "execution_count": 6,
   "metadata": {},
   "outputs": [
    {
     "name": "stdout",
     "output_type": "stream",
     "text": [
      "\n",
      "Results Found: 8,531.\n"
     ]
    }
   ],
   "source": [
    "opi.search(query='lung cancer', image_type=('x_ray', 'ct'), collection='pubmed')"
   ]
  },
  {
   "cell_type": "markdown",
   "metadata": {},
   "source": [
    "---\n",
    "\n",
    "### Downloading Data"
   ]
  },
  {
   "cell_type": "markdown",
   "metadata": {},
   "source": [
    "Now that we've defined a search, we can easily download some, or all, of the results found.\n",
    "For the sake of expediency, let's limit the number of results we download to the first 1500."
   ]
  },
  {
   "cell_type": "code",
   "execution_count": 7,
   "metadata": {},
   "outputs": [
    {
     "name": "stdout",
     "output_type": "stream",
     "text": [
      "\n",
      "Number of Records to Download: 1,500 (chunk size: 30 records).\n"
     ]
    },
    {
     "data": {
      "application/vnd.jupyter.widget-view+json": {
       "model_id": "b0df88795d714cf99b2646b363184b01"
      }
     },
     "metadata": {},
     "output_type": "display_data"
    },
    {
     "name": "stdout",
     "output_type": "stream",
     "text": [
      "\n"
     ]
    },
    {
     "data": {
      "application/vnd.jupyter.widget-view+json": {
       "model_id": "f1ab8f062c8b4b0e8bce8c921c06e079"
      }
     },
     "metadata": {},
     "output_type": "display_data"
    },
    {
     "name": "stdout",
     "output_type": "stream",
     "text": [
      "\n"
     ]
    },
    {
     "data": {
      "application/vnd.jupyter.widget-view+json": {
       "model_id": "a8d98eee20c14b3888f8df440e995cb0"
      }
     },
     "metadata": {},
     "output_type": "display_data"
    },
    {
     "name": "stdout",
     "output_type": "stream",
     "text": [
      "\n"
     ]
    }
   ],
   "source": [
    "pull_df = opi.pull(download_limit=1500)"
   ]
  },
  {
   "cell_type": "markdown",
   "metadata": {},
   "source": [
    "The text information associated with images are referred to as 'records', which are downloaded in 'chunks' of no more than 30 at a time. <br>\n",
    "Images, unlike records, are downloaded 'one by one'. However, ``pull()`` will check the cache before downloading an image, in an effort to reduce redundant downloads."
   ]
  },
  {
   "cell_type": "markdown",
   "metadata": {},
   "source": [
    "The dataframe generated by ``pull()`` can be viewed using either ``opi.records_db``, or the ``pull_df`` used above to capture the output of ``pull()``. Both will be identical. We can also view an abbreviated dataframe, ``opi.records_db_short``, which has several (typically unneeded) columns removed. "
   ]
  },
  {
   "cell_type": "code",
   "execution_count": 8,
   "metadata": {
    "collapsed": true
   },
   "outputs": [],
   "source": [
    "def simplify_df(df):\n",
    "    \"\"\"This function simplifies dataframes\n",
    "    for the purposes of this tutorial.\"\"\"\n",
    "    data_frame = df.copy()\n",
    "    for c in ('parsed_abstract', 'query'):\n",
    "        data_frame[c] = data_frame[c].map(lambda x: str(x) if str(x) != 'nan' else x)\n",
    "    data_frame['cached_images_path'] = '/path/to/image'\n",
    "    return data_frame[0:10]"
   ]
  },
  {
   "cell_type": "code",
   "execution_count": 9,
   "metadata": {},
   "outputs": [
    {
     "data": {
      "text/html": [
       "<div>\n",
       "<table border=\"1\" class=\"dataframe\">\n",
       "  <thead>\n",
       "    <tr style=\"text-align: right;\">\n",
       "      <th></th>\n",
       "      <th>mesh_major</th>\n",
       "      <th>mesh_minor</th>\n",
       "      <th>problems</th>\n",
       "      <th>abstract</th>\n",
       "      <th>affiliate</th>\n",
       "      <th>article_type</th>\n",
       "      <th>authors</th>\n",
       "      <th>cc_license</th>\n",
       "      <th>doc_source</th>\n",
       "      <th>image_caption</th>\n",
       "      <th>...</th>\n",
       "      <th>image_problems_from_text</th>\n",
       "      <th>imaging_modality_from_text</th>\n",
       "      <th>parsed_abstract</th>\n",
       "      <th>sex</th>\n",
       "      <th>modality_full</th>\n",
       "      <th>image_id_short</th>\n",
       "      <th>query</th>\n",
       "      <th>pull_time</th>\n",
       "      <th>cached_images_path</th>\n",
       "      <th>download_success</th>\n",
       "    </tr>\n",
       "  </thead>\n",
       "  <tbody>\n",
       "    <tr>\n",
       "      <th>0</th>\n",
       "      <td>NaN</td>\n",
       "      <td>NaN</td>\n",
       "      <td>lung cancer</td>\n",
       "      <td>Lung cancer is one of the leading causes of ca...</td>\n",
       "      <td>Department of Nuclear Medicine and Molecular I...</td>\n",
       "      <td>other</td>\n",
       "      <td>Purandare NC, Rangarajan V</td>\n",
       "      <td>byncsa</td>\n",
       "      <td>PMC</td>\n",
       "      <td>(A-D) Nodal disease. Right upper paratracheal ...</td>\n",
       "      <td>...</td>\n",
       "      <td>(arrows, grids)</td>\n",
       "      <td>Computed Tomography (CT): chest</td>\n",
       "      <td>NaN</td>\n",
       "      <td>male</td>\n",
       "      <td>Computed Tomography (CT)</td>\n",
       "      <td>7</td>\n",
       "      <td>{'article_type': None, 'specialties': None, 'f...</td>\n",
       "      <td>2017-04-04 22:13:37.721479</td>\n",
       "      <td>/path/to/image</td>\n",
       "      <td>True</td>\n",
       "    </tr>\n",
       "    <tr>\n",
       "      <th>1</th>\n",
       "      <td>NaN</td>\n",
       "      <td>NaN</td>\n",
       "      <td>nsclc</td>\n",
       "      <td>Non-small cell lung cancer (NSCLC) accounts fo...</td>\n",
       "      <td>Cardiopulmonary Department, Sant'Andrea Hospit...</td>\n",
       "      <td>research_article</td>\n",
       "      <td>Pezzuto A, Piraino A, Mariotta S</td>\n",
       "      <td>by</td>\n",
       "      <td>PMC</td>\n",
       "      <td>Case 2: (A) CT scan showing the lung after sur...</td>\n",
       "      <td>...</td>\n",
       "      <td>NaN</td>\n",
       "      <td>Computed Tomography (CT): chest</td>\n",
       "      <td>NaN</td>\n",
       "      <td>female</td>\n",
       "      <td>Computed Tomography (CT)</td>\n",
       "      <td>2</td>\n",
       "      <td>{'article_type': None, 'specialties': None, 'f...</td>\n",
       "      <td>2017-04-04 22:13:37.721479</td>\n",
       "      <td>/path/to/image</td>\n",
       "      <td>True</td>\n",
       "    </tr>\n",
       "    <tr>\n",
       "      <th>2</th>\n",
       "      <td>(Adrenal Insufficiency/diagnosis*/drug therapy...</td>\n",
       "      <td>(Acute Disease, Adrenal Cortex Hormones/therap...</td>\n",
       "      <td>hypoxia;tachycardia</td>\n",
       "      <td>Background: Adrenal crisis after surgical pro...</td>\n",
       "      <td>Department of Orthopedic Surgery, Osaka Medica...</td>\n",
       "      <td>research_article</td>\n",
       "      <td>Naka N, Takenaka S, Nanno K, Moriguchi Y, Chun...</td>\n",
       "      <td>by</td>\n",
       "      <td>PMC</td>\n",
       "      <td>CT scan showing bilateral adrenal enlargement ...</td>\n",
       "      <td>...</td>\n",
       "      <td>(asterisks,)</td>\n",
       "      <td>Computed Tomography (CT): chest</td>\n",
       "      <td>{'case_presentation': 'We report a 75-year-old...</td>\n",
       "      <td>male</td>\n",
       "      <td>Computed Tomography (CT)</td>\n",
       "      <td>1</td>\n",
       "      <td>{'article_type': None, 'specialties': None, 'f...</td>\n",
       "      <td>2017-04-04 22:13:37.721479</td>\n",
       "      <td>/path/to/image</td>\n",
       "      <td>True</td>\n",
       "    </tr>\n",
       "    <tr>\n",
       "      <th>3</th>\n",
       "      <td>NaN</td>\n",
       "      <td>NaN</td>\n",
       "      <td>small cell carcinoma of lung</td>\n",
       "      <td>Subcutaneous swelling as first clinical presen...</td>\n",
       "      <td>Department of Medicine.</td>\n",
       "      <td>case_report</td>\n",
       "      <td>Kumar S, Gupta A, Diwan SK, Bhake A</td>\n",
       "      <td>NaN</td>\n",
       "      <td>PMC</td>\n",
       "      <td>Computerized tomography of the chest showing p...</td>\n",
       "      <td>...</td>\n",
       "      <td>NaN</td>\n",
       "      <td>Computed Tomography (CT): chest</td>\n",
       "      <td>NaN</td>\n",
       "      <td>male</td>\n",
       "      <td>Computed Tomography (CT)</td>\n",
       "      <td>3</td>\n",
       "      <td>{'article_type': None, 'specialties': None, 'f...</td>\n",
       "      <td>2017-04-04 22:13:37.721479</td>\n",
       "      <td>/path/to/image</td>\n",
       "      <td>True</td>\n",
       "    </tr>\n",
       "    <tr>\n",
       "      <th>4</th>\n",
       "      <td>(Echocardiography/methods*, Lung/ultrasonograp...</td>\n",
       "      <td>(Aged, Humans, Incidental Findings, Male)</td>\n",
       "      <td>lung tumor</td>\n",
       "      <td>We present images of a rare case where a prima...</td>\n",
       "      <td>Department of Clinical Physiology and Nuclear ...</td>\n",
       "      <td>research_article</td>\n",
       "      <td>Dencker M, Cronberg C, Damm S, Valind S, Wadbo M</td>\n",
       "      <td>by</td>\n",
       "      <td>PMC</td>\n",
       "      <td>Display of CT-image. The arrow indicates the n...</td>\n",
       "      <td>...</td>\n",
       "      <td>(arrows,)</td>\n",
       "      <td>Computed Tomography (CT): chest</td>\n",
       "      <td>NaN</td>\n",
       "      <td>male</td>\n",
       "      <td>Computed Tomography (CT)</td>\n",
       "      <td>2</td>\n",
       "      <td>{'article_type': None, 'specialties': None, 'f...</td>\n",
       "      <td>2017-04-04 22:13:37.721479</td>\n",
       "      <td>/path/to/image</td>\n",
       "      <td>True</td>\n",
       "    </tr>\n",
       "    <tr>\n",
       "      <th>5</th>\n",
       "      <td>NaN</td>\n",
       "      <td>NaN</td>\n",
       "      <td>cognitive impairment;altered mental status;par...</td>\n",
       "      <td>Introduction: The differential diagnosis of a...</td>\n",
       "      <td>Department of Cardiovascular and Respiratory S...</td>\n",
       "      <td>research_article</td>\n",
       "      <td>Fahim A, Butt M, McGivern DV</td>\n",
       "      <td>NaN</td>\n",
       "      <td>PMC</td>\n",
       "      <td>Computed tomography (CT) scan showing parenchy...</td>\n",
       "      <td>...</td>\n",
       "      <td>(arrows,)</td>\n",
       "      <td>Computed Tomography (CT): chest</td>\n",
       "      <td>{'case_presentation': 'A 64-year-old British C...</td>\n",
       "      <td>female</td>\n",
       "      <td>Computed Tomography (CT)</td>\n",
       "      <td>2</td>\n",
       "      <td>{'article_type': None, 'specialties': None, 'f...</td>\n",
       "      <td>2017-04-04 22:13:37.721479</td>\n",
       "      <td>/path/to/image</td>\n",
       "      <td>True</td>\n",
       "    </tr>\n",
       "    <tr>\n",
       "      <th>6</th>\n",
       "      <td>(Cell Transformation, Neoplastic/genetics*, Lu...</td>\n",
       "      <td>(Aged, Biopsy, Disease Progression, Female, Hu...</td>\n",
       "      <td>small cell lung cancer</td>\n",
       "      <td>Background: Small-cell lung cancer with epide...</td>\n",
       "      <td>Department of Thoracic Oncology and Respirator...</td>\n",
       "      <td>case_report</td>\n",
       "      <td>Takagi Y, Nakahara Y, Hosomi Y, Hishima T</td>\n",
       "      <td>by</td>\n",
       "      <td>PMC</td>\n",
       "      <td>Computed tomography at the time of initial dia...</td>\n",
       "      <td>...</td>\n",
       "      <td>(grids,)</td>\n",
       "      <td>Computed Tomography (CT): chest</td>\n",
       "      <td>{'conclusions': 'Transformation of the tumor c...</td>\n",
       "      <td>male</td>\n",
       "      <td>Computed Tomography (CT)</td>\n",
       "      <td>1</td>\n",
       "      <td>{'article_type': None, 'specialties': None, 'f...</td>\n",
       "      <td>2017-04-04 22:13:37.721479</td>\n",
       "      <td>/path/to/image</td>\n",
       "      <td>True</td>\n",
       "    </tr>\n",
       "    <tr>\n",
       "      <th>7</th>\n",
       "      <td>(Diagnosis, Computer-Assisted*, Multiple Pulmo...</td>\n",
       "      <td>(Aged, Humans, Middle Aged)</td>\n",
       "      <td>nodule</td>\n",
       "      <td>Objective: To evaluate performance of compute...</td>\n",
       "      <td>Center for Medical Imaging - North East Nether...</td>\n",
       "      <td>research_article</td>\n",
       "      <td>Zhao Y, de Bock GH, Vliegenthart R, van Klaver...</td>\n",
       "      <td>NaN</td>\n",
       "      <td>PMC</td>\n",
       "      <td>Example of a pulmonary nodule needing further ...</td>\n",
       "      <td>...</td>\n",
       "      <td>NaN</td>\n",
       "      <td>Computed Tomography (CT): chest</td>\n",
       "      <td>{'methods': 'A total of 400 low-dose chest CT ...</td>\n",
       "      <td>male</td>\n",
       "      <td>Computed Tomography (CT)</td>\n",
       "      <td>3</td>\n",
       "      <td>{'article_type': None, 'specialties': None, 'f...</td>\n",
       "      <td>2017-04-04 22:13:37.721479</td>\n",
       "      <td>/path/to/image</td>\n",
       "      <td>True</td>\n",
       "    </tr>\n",
       "    <tr>\n",
       "      <th>8</th>\n",
       "      <td>(Lung Neoplasms/diagnosis*/etiology,)</td>\n",
       "      <td>(Humans, Smoking/adverse effects, Tomography, ...</td>\n",
       "      <td>cancer</td>\n",
       "      <td>The poor outcome in symptomatic lung cancer pa...</td>\n",
       "      <td>Department of Diagnostic and Interventional Ra...</td>\n",
       "      <td>research_article</td>\n",
       "      <td>Diederich S</td>\n",
       "      <td>NaN</td>\n",
       "      <td>PMC</td>\n",
       "      <td>Asymptomatic male smoker with a 12-mm ill-defi...</td>\n",
       "      <td>...</td>\n",
       "      <td>NaN</td>\n",
       "      <td>Computed Tomography (CT): chest</td>\n",
       "      <td>NaN</td>\n",
       "      <td>male</td>\n",
       "      <td>Computed Tomography (CT)</td>\n",
       "      <td>1</td>\n",
       "      <td>{'article_type': None, 'specialties': None, 'f...</td>\n",
       "      <td>2017-04-04 22:13:37.721479</td>\n",
       "      <td>/path/to/image</td>\n",
       "      <td>True</td>\n",
       "    </tr>\n",
       "    <tr>\n",
       "      <th>9</th>\n",
       "      <td>(Carcinoma, Non-Small-Cell Lung/pathology*/rad...</td>\n",
       "      <td>(Adenocarcinoma/pathology/radiography, Carcino...</td>\n",
       "      <td>tumor</td>\n",
       "      <td>Patients with newly diagnosed non-small cell l...</td>\n",
       "      <td>Department of Radiology, University of Michiga...</td>\n",
       "      <td>research_article</td>\n",
       "      <td>Quint LE</td>\n",
       "      <td>NaN</td>\n",
       "      <td>PMC</td>\n",
       "      <td>T4 squamous cell lung cancer with gross, direc...</td>\n",
       "      <td>...</td>\n",
       "      <td>(arrows,)</td>\n",
       "      <td>Computed Tomography (CT): chest</td>\n",
       "      <td>NaN</td>\n",
       "      <td>male</td>\n",
       "      <td>Computed Tomography (CT)</td>\n",
       "      <td>4</td>\n",
       "      <td>{'article_type': None, 'specialties': None, 'f...</td>\n",
       "      <td>2017-04-04 22:13:37.721479</td>\n",
       "      <td>/path/to/image</td>\n",
       "      <td>True</td>\n",
       "    </tr>\n",
       "  </tbody>\n",
       "</table>\n",
       "<p>10 rows × 38 columns</p>\n",
       "</div>"
      ],
      "text/plain": [
       "                                          mesh_major  \\\n",
       "0                                                NaN   \n",
       "1                                                NaN   \n",
       "2  (Adrenal Insufficiency/diagnosis*/drug therapy...   \n",
       "3                                                NaN   \n",
       "4  (Echocardiography/methods*, Lung/ultrasonograp...   \n",
       "5                                                NaN   \n",
       "6  (Cell Transformation, Neoplastic/genetics*, Lu...   \n",
       "7  (Diagnosis, Computer-Assisted*, Multiple Pulmo...   \n",
       "8              (Lung Neoplasms/diagnosis*/etiology,)   \n",
       "9  (Carcinoma, Non-Small-Cell Lung/pathology*/rad...   \n",
       "\n",
       "                                          mesh_minor  \\\n",
       "0                                                NaN   \n",
       "1                                                NaN   \n",
       "2  (Acute Disease, Adrenal Cortex Hormones/therap...   \n",
       "3                                                NaN   \n",
       "4          (Aged, Humans, Incidental Findings, Male)   \n",
       "5                                                NaN   \n",
       "6  (Aged, Biopsy, Disease Progression, Female, Hu...   \n",
       "7                        (Aged, Humans, Middle Aged)   \n",
       "8  (Humans, Smoking/adverse effects, Tomography, ...   \n",
       "9  (Adenocarcinoma/pathology/radiography, Carcino...   \n",
       "\n",
       "                                            problems  \\\n",
       "0                                        lung cancer   \n",
       "1                                              nsclc   \n",
       "2                                hypoxia;tachycardia   \n",
       "3                       small cell carcinoma of lung   \n",
       "4                                         lung tumor   \n",
       "5  cognitive impairment;altered mental status;par...   \n",
       "6                             small cell lung cancer   \n",
       "7                                             nodule   \n",
       "8                                             cancer   \n",
       "9                                              tumor   \n",
       "\n",
       "                                            abstract  \\\n",
       "0  Lung cancer is one of the leading causes of ca...   \n",
       "1  Non-small cell lung cancer (NSCLC) accounts fo...   \n",
       "2   Background: Adrenal crisis after surgical pro...   \n",
       "3  Subcutaneous swelling as first clinical presen...   \n",
       "4  We present images of a rare case where a prima...   \n",
       "5   Introduction: The differential diagnosis of a...   \n",
       "6   Background: Small-cell lung cancer with epide...   \n",
       "7   Objective: To evaluate performance of compute...   \n",
       "8  The poor outcome in symptomatic lung cancer pa...   \n",
       "9  Patients with newly diagnosed non-small cell l...   \n",
       "\n",
       "                                           affiliate      article_type  \\\n",
       "0  Department of Nuclear Medicine and Molecular I...             other   \n",
       "1  Cardiopulmonary Department, Sant'Andrea Hospit...  research_article   \n",
       "2  Department of Orthopedic Surgery, Osaka Medica...  research_article   \n",
       "3                            Department of Medicine.       case_report   \n",
       "4  Department of Clinical Physiology and Nuclear ...  research_article   \n",
       "5  Department of Cardiovascular and Respiratory S...  research_article   \n",
       "6  Department of Thoracic Oncology and Respirator...       case_report   \n",
       "7  Center for Medical Imaging - North East Nether...  research_article   \n",
       "8  Department of Diagnostic and Interventional Ra...  research_article   \n",
       "9  Department of Radiology, University of Michiga...  research_article   \n",
       "\n",
       "                                             authors cc_license doc_source  \\\n",
       "0                         Purandare NC, Rangarajan V     byncsa        PMC   \n",
       "1                   Pezzuto A, Piraino A, Mariotta S         by        PMC   \n",
       "2  Naka N, Takenaka S, Nanno K, Moriguchi Y, Chun...         by        PMC   \n",
       "3                Kumar S, Gupta A, Diwan SK, Bhake A        NaN        PMC   \n",
       "4   Dencker M, Cronberg C, Damm S, Valind S, Wadbo M         by        PMC   \n",
       "5                       Fahim A, Butt M, McGivern DV        NaN        PMC   \n",
       "6          Takagi Y, Nakahara Y, Hosomi Y, Hishima T         by        PMC   \n",
       "7  Zhao Y, de Bock GH, Vliegenthart R, van Klaver...        NaN        PMC   \n",
       "8                                        Diederich S        NaN        PMC   \n",
       "9                                           Quint LE        NaN        PMC   \n",
       "\n",
       "                                       image_caption       ...         \\\n",
       "0  (A-D) Nodal disease. Right upper paratracheal ...       ...          \n",
       "1  Case 2: (A) CT scan showing the lung after sur...       ...          \n",
       "2  CT scan showing bilateral adrenal enlargement ...       ...          \n",
       "3  Computerized tomography of the chest showing p...       ...          \n",
       "4  Display of CT-image. The arrow indicates the n...       ...          \n",
       "5  Computed tomography (CT) scan showing parenchy...       ...          \n",
       "6  Computed tomography at the time of initial dia...       ...          \n",
       "7  Example of a pulmonary nodule needing further ...       ...          \n",
       "8  Asymptomatic male smoker with a 12-mm ill-defi...       ...          \n",
       "9  T4 squamous cell lung cancer with gross, direc...       ...          \n",
       "\n",
       "  image_problems_from_text       imaging_modality_from_text  \\\n",
       "0          (arrows, grids)  Computed Tomography (CT): chest   \n",
       "1                      NaN  Computed Tomography (CT): chest   \n",
       "2             (asterisks,)  Computed Tomography (CT): chest   \n",
       "3                      NaN  Computed Tomography (CT): chest   \n",
       "4                (arrows,)  Computed Tomography (CT): chest   \n",
       "5                (arrows,)  Computed Tomography (CT): chest   \n",
       "6                 (grids,)  Computed Tomography (CT): chest   \n",
       "7                      NaN  Computed Tomography (CT): chest   \n",
       "8                      NaN  Computed Tomography (CT): chest   \n",
       "9                (arrows,)  Computed Tomography (CT): chest   \n",
       "\n",
       "                                     parsed_abstract     sex  \\\n",
       "0                                                NaN    male   \n",
       "1                                                NaN  female   \n",
       "2  {'case_presentation': 'We report a 75-year-old...    male   \n",
       "3                                                NaN    male   \n",
       "4                                                NaN    male   \n",
       "5  {'case_presentation': 'A 64-year-old British C...  female   \n",
       "6  {'conclusions': 'Transformation of the tumor c...    male   \n",
       "7  {'methods': 'A total of 400 low-dose chest CT ...    male   \n",
       "8                                                NaN    male   \n",
       "9                                                NaN    male   \n",
       "\n",
       "              modality_full image_id_short  \\\n",
       "0  Computed Tomography (CT)              7   \n",
       "1  Computed Tomography (CT)              2   \n",
       "2  Computed Tomography (CT)              1   \n",
       "3  Computed Tomography (CT)              3   \n",
       "4  Computed Tomography (CT)              2   \n",
       "5  Computed Tomography (CT)              2   \n",
       "6  Computed Tomography (CT)              1   \n",
       "7  Computed Tomography (CT)              3   \n",
       "8  Computed Tomography (CT)              1   \n",
       "9  Computed Tomography (CT)              4   \n",
       "\n",
       "                                               query  \\\n",
       "0  {'article_type': None, 'specialties': None, 'f...   \n",
       "1  {'article_type': None, 'specialties': None, 'f...   \n",
       "2  {'article_type': None, 'specialties': None, 'f...   \n",
       "3  {'article_type': None, 'specialties': None, 'f...   \n",
       "4  {'article_type': None, 'specialties': None, 'f...   \n",
       "5  {'article_type': None, 'specialties': None, 'f...   \n",
       "6  {'article_type': None, 'specialties': None, 'f...   \n",
       "7  {'article_type': None, 'specialties': None, 'f...   \n",
       "8  {'article_type': None, 'specialties': None, 'f...   \n",
       "9  {'article_type': None, 'specialties': None, 'f...   \n",
       "\n",
       "                   pull_time cached_images_path download_success  \n",
       "0 2017-04-04 22:13:37.721479     /path/to/image             True  \n",
       "1 2017-04-04 22:13:37.721479     /path/to/image             True  \n",
       "2 2017-04-04 22:13:37.721479     /path/to/image             True  \n",
       "3 2017-04-04 22:13:37.721479     /path/to/image             True  \n",
       "4 2017-04-04 22:13:37.721479     /path/to/image             True  \n",
       "5 2017-04-04 22:13:37.721479     /path/to/image             True  \n",
       "6 2017-04-04 22:13:37.721479     /path/to/image             True  \n",
       "7 2017-04-04 22:13:37.721479     /path/to/image             True  \n",
       "8 2017-04-04 22:13:37.721479     /path/to/image             True  \n",
       "9 2017-04-04 22:13:37.721479     /path/to/image             True  \n",
       "\n",
       "[10 rows x 38 columns]"
      ]
     },
     "execution_count": 9,
     "metadata": {},
     "output_type": "execute_result"
    }
   ],
   "source": [
    "simplify_df(opi.records_db_short)"
   ]
  },
  {
   "cell_type": "markdown",
   "metadata": {},
   "source": [
    "This dataframe is provides a lot of rich data, which is valuable independent of the images which have also been downloaded. "
   ]
  },
  {
   "cell_type": "markdown",
   "metadata": {},
   "source": [
    "For instance, it is possible to quickly generate some descriptive statistics about our newly created 'lung cancer' dataset."
   ]
  },
  {
   "cell_type": "code",
   "execution_count": 10,
   "metadata": {},
   "outputs": [
    {
     "data": {
      "text/plain": [
       "count    966.000000\n",
       "mean      53.337267\n",
       "std       21.999990\n",
       "min        1.000000\n",
       "25%       47.000000\n",
       "50%       59.000000\n",
       "75%       68.000000\n",
       "max       91.400000\n",
       "Name: age, dtype: float64"
      ]
     },
     "execution_count": 10,
     "metadata": {},
     "output_type": "execute_result"
    }
   ],
   "source": [
    "pull_df['age'].describe()"
   ]
  },
  {
   "cell_type": "code",
   "execution_count": 11,
   "metadata": {},
   "outputs": [
    {
     "data": {
      "text/plain": [
       "male      0.722359\n",
       "female    0.277641\n",
       "Name: sex, dtype: float64"
      ]
     },
     "execution_count": 11,
     "metadata": {},
     "output_type": "execute_result"
    }
   ],
   "source": [
    "pull_df['sex'].value_counts(normalize=True)"
   ]
  },
  {
   "cell_type": "markdown",
   "metadata": {},
   "source": [
    "The `age` column in generated by analyzing the raw text provided by the Open-i RESTful API. It is reasonably accurate, but mistakes are certainly possible."
   ]
  },
  {
   "cell_type": "markdown",
   "metadata": {
    "collapsed": true
   },
   "source": [
    "It should also be mentioned that ``opi.records_db`` *only* contains data for the most recent ``search()`` and ``pull()``. Conversely, **``cache_records_db``** provides a record of all images in the cache, e.g., those obtained several weeks ago."
   ]
  },
  {
   "cell_type": "markdown",
   "metadata": {
    "collapsed": true
   },
   "source": [
    "---\n",
    "\n",
    "### Images"
   ]
  },
  {
   "cell_type": "markdown",
   "metadata": {},
   "source": [
    "Now that we've explored obtaining and reviewing data, we can finally turn our attention to images themselves."
   ]
  },
  {
   "cell_type": "code",
   "execution_count": 12,
   "metadata": {
    "collapsed": true
   },
   "outputs": [],
   "source": [
    "from utils import show_image\n",
    "%matplotlib inline"
   ]
  },
  {
   "cell_type": "markdown",
   "metadata": {},
   "source": [
    "Note: ``utils`` is a small script with some helpful functions located in the base of this directory. "
   ]
  },
  {
   "cell_type": "markdown",
   "metadata": {},
   "source": [
    "Using the ``show_images`` imported above, we can now look at a random images we pulled in the step above."
   ]
  },
  {
   "cell_type": "code",
   "execution_count": 13,
   "metadata": {},
   "outputs": [
    {
     "data": {
      "text/plain": [
       "<matplotlib.image.AxesImage at 0x115275ef0>"
      ]
     },
     "execution_count": 13,
     "metadata": {},
     "output_type": "execute_result"
    },
    {
     "data": {
      "image/png": "[encoded data removed]",
      "text/plain": [
       "<matplotlib.figure.Figure at 0x1144e43c8>"
      ]
     },
     "metadata": {},
     "output_type": "display_data"
    }
   ],
   "source": [
    "show_image(opi.records_db['cached_images_path'].iloc[156])"
   ]
  },
  {
   "cell_type": "code",
   "execution_count": 14,
   "metadata": {},
   "outputs": [
    {
     "data": {
      "text/plain": [
       "'open-access'"
      ]
     },
     "execution_count": 14,
     "metadata": {},
     "output_type": "execute_result"
    }
   ],
   "source": [
    "opi.records_db['license_type'].iloc[156]"
   ]
  },
  {
   "cell_type": "markdown",
   "metadata": {
    "collapsed": true
   },
   "source": [
    "Let's also look at the age and sex of this subject. "
   ]
  },
  {
   "cell_type": "code",
   "execution_count": 15,
   "metadata": {},
   "outputs": [
    {
     "name": "stdout",
     "output_type": "stream",
     "text": [
      "age: 48.0, sex: male.\n"
     ]
    }
   ],
   "source": [
    "age_sex = opi.records_db['age'].iloc[156], opi.records_db['sex'].iloc[156]\n",
    "print(\"age: {0}, sex: {1}.\".format(*age_sex))"
   ]
  },
  {
   "cell_type": "markdown",
   "metadata": {},
   "source": [
    "We can also easily check their diagnosis"
   ]
  },
  {
   "cell_type": "code",
   "execution_count": 16,
   "metadata": {},
   "outputs": [
    {
     "data": {
      "text/plain": [
       "'carcinoma; neurofibromatosis'"
      ]
     },
     "execution_count": 16,
     "metadata": {},
     "output_type": "execute_result"
    }
   ],
   "source": [
    "opi.records_db['diagnosis'].iloc[156]"
   ]
  },
  {
   "cell_type": "markdown",
   "metadata": {},
   "source": [
    "Please be advised that for collections other than 'MedPix'\\*, such as PubMed, diagnosis information is obtained by analyzing the text associated with the image. ***Errors are possible***.\n",
    "\n",
    "\\*MedPix explicitly provides diagnosis information, so it can be assumed to be accurate.  "
   ]
  },
  {
   "cell_type": "markdown",
   "metadata": {},
   "source": [
    "---\n",
    "\n",
    "### Automated Cleaning of Image Data (<font color='red'>Experimental</font>)"
   ]
  },
  {
   "cell_type": "markdown",
   "metadata": {},
   "source": [
    "While the data may look OK so far, if we look more closely we will likely find several problems with the images we have downloaded."
   ]
  },
  {
   "cell_type": "code",
   "execution_count": 17,
   "metadata": {},
   "outputs": [
    {
     "data": {
      "text/plain": [
       "<matplotlib.image.AxesImage at 0x1162de358>"
      ]
     },
     "execution_count": 17,
     "metadata": {},
     "output_type": "execute_result"
    },
    {
     "data": {
      "image/png": "[encoded data removed]",
      "text/plain": [
       "<matplotlib.figure.Figure at 0x116213160>"
      ]
     },
     "metadata": {},
     "output_type": "display_data"
    }
   ],
   "source": [
    "show_image(opi.records_db['cached_images_path'].iloc[100])"
   ]
  },
  {
   "cell_type": "code",
   "execution_count": 18,
   "metadata": {},
   "outputs": [
    {
     "data": {
      "text/plain": [
       "<matplotlib.image.AxesImage at 0x11439be48>"
      ]
     },
     "execution_count": 18,
     "metadata": {},
     "output_type": "execute_result"
    },
    {
     "data": {
      "image/png": "[encoded data removed]",
      "text/plain": [
       "<matplotlib.figure.Figure at 0x1162e7ef0>"
      ]
     },
     "metadata": {},
     "output_type": "display_data"
    }
   ],
   "source": [
    "show_image(opi.records_db['cached_images_path'].iloc[10])"
   ]
  },
  {
   "cell_type": "markdown",
   "metadata": {
    "collapsed": true
   },
   "source": [
    "The images above contain several clear problems. They both contain arrows and the latter is actually a 'grid' of images. These are liable to confuse any model we attempt to train detect disease. We could manually go through and remove these images or, alternatively, we can use the *experimental* ``OpeniImageProcessing`` class to try and eliminate these images from our dataset automatically."
   ]
  },
  {
   "cell_type": "code",
   "execution_count": 19,
   "metadata": {
    "collapsed": true
   },
   "outputs": [],
   "source": [
    "from biovida.images import OpeniImageProcessing"
   ]
  },
  {
   "cell_type": "markdown",
   "metadata": {},
   "source": [
    "We initialize this class using our ``OpeniInterface`` instance.\n",
    "By default, it will extract the `records_db` DataFrame. Do note, however, that we can force it to extract the ``cache_records_db`` DataFrame by setting the ``db_to_extract`` equal to 'cache_records_db'."
   ]
  },
  {
   "cell_type": "code",
   "execution_count": 20,
   "metadata": {
    "collapsed": true
   },
   "outputs": [],
   "source": [
    "ip = OpeniImageProcessing(opi)"
   ]
  },
  {
   "cell_type": "markdown",
   "metadata": {
    "collapsed": true
   },
   "source": [
    "``OpeniImageProcessing`` will automatically download a model for a *Convolutional Neural Network* (convnet) which has been trained to detect these kinds of problems. If you are unfamiliar with these kinds of models, you can read more about them [here](http://cs231n.github.io/convolutional-networks/)."
   ]
  },
  {
   "cell_type": "markdown",
   "metadata": {
    "collapsed": true
   },
   "source": [
    "The ``OpeniImageProcessing`` class tries to detect problems in the images by analyzing both the text associated it is associated with as well as by feeding the image through the convnet mentioned above. However, by default the ``OpeniImageProcessing`` class will only use predictions gleaned from this model if it has been explicitly trained on images from that kind of [imaging modality](https://encrypted.google.com/url?sa=t&rct=j&q=&esrc=s&source=web&cd=16&ved=0ahUKEwjd3pbG0IvTAhUn5YMKHTFMDoYQygQIaTAP&url=https%3A%2F%2Fen.wikipedia.org%2Fwiki%2FMedical_imaging%23Imaging_modalities&usg=AFQjCNHL9pIw5HQ6bjdufkm1XbclcKyRXQ&sig2=c6SL1Ev2J8wM2JlQmrmjxw)."
   ]
  },
  {
   "cell_type": "markdown",
   "metadata": {
    "collapsed": true
   },
   "source": [
    "We can easily check the modalities for which the model has been trained:"
   ]
  },
  {
   "cell_type": "code",
   "execution_count": 21,
   "metadata": {},
   "outputs": [
    {
     "data": {
      "text/plain": [
       "['ct', 'mri', 'x_ray']"
      ]
     },
     "execution_count": 21,
     "metadata": {},
     "output_type": "execute_result"
    }
   ],
   "source": [
    "ip.trained_open_i_modality_types"
   ]
  },
  {
   "cell_type": "markdown",
   "metadata": {
    "collapsed": true
   },
   "source": [
    "Luckily, we're working with X-rays and CTs. <br>"
   ]
  },
  {
   "cell_type": "markdown",
   "metadata": {
    "collapsed": true
   },
   "source": [
    "Now we're ready to analyze our images."
   ]
  },
  {
   "cell_type": "code",
   "execution_count": 22,
   "metadata": {},
   "outputs": [
    {
     "data": {
      "application/vnd.jupyter.widget-view+json": {
       "model_id": "373e9f36d479411698cd57b55e98bdc0"
      }
     },
     "metadata": {},
     "output_type": "display_data"
    },
    {
     "name": "stdout",
     "output_type": "stream",
     "text": [
      "\n"
     ]
    },
    {
     "data": {
      "application/vnd.jupyter.widget-view+json": {
       "model_id": "401efb7ad8f64939a634b25164364607"
      }
     },
     "metadata": {},
     "output_type": "display_data"
    },
    {
     "name": "stdout",
     "output_type": "stream",
     "text": [
      "\n"
     ]
    },
    {
     "data": {
      "application/vnd.jupyter.widget-view+json": {
       "model_id": "f215eee95e4d47fc922fd2861028f2a5"
      }
     },
     "metadata": {},
     "output_type": "display_data"
    },
    {
     "name": "stdout",
     "output_type": "stream",
     "text": [
      "\n"
     ]
    },
    {
     "data": {
      "application/vnd.jupyter.widget-view+json": {
       "model_id": "15298daa5e134adea829aa7857d96db1"
      }
     },
     "metadata": {},
     "output_type": "display_data"
    },
    {
     "name": "stdout",
     "output_type": "stream",
     "text": [
      "\n"
     ]
    },
    {
     "data": {
      "application/vnd.jupyter.widget-view+json": {
       "model_id": "f40434b3dfee4a5e98a5b2d95fc7f582"
      }
     },
     "metadata": {},
     "output_type": "display_data"
    },
    {
     "name": "stdout",
     "output_type": "stream",
     "text": [
      "\n"
     ]
    },
    {
     "data": {
      "application/vnd.jupyter.widget-view+json": {
       "model_id": "58a5d1c0560a4f9b937adb596798f06e"
      }
     },
     "metadata": {},
     "output_type": "display_data"
    },
    {
     "name": "stdout",
     "output_type": "stream",
     "text": [
      "\n"
     ]
    }
   ],
   "source": [
    "analysis_df = ip.auto()"
   ]
  },
  {
   "cell_type": "code",
   "execution_count": 23,
   "metadata": {},
   "outputs": [
    {
     "data": {
      "text/html": [
       "<div>\n",
       "<table border=\"1\" class=\"dataframe\">\n",
       "  <thead>\n",
       "    <tr style=\"text-align: right;\">\n",
       "      <th></th>\n",
       "      <th>mesh_major</th>\n",
       "      <th>mesh_minor</th>\n",
       "      <th>problems</th>\n",
       "      <th>abstract</th>\n",
       "      <th>affiliate</th>\n",
       "      <th>article_type</th>\n",
       "      <th>authors</th>\n",
       "      <th>cc_license</th>\n",
       "      <th>detailed_query_url</th>\n",
       "      <th>doc_source</th>\n",
       "      <th>...</th>\n",
       "      <th>grayscale</th>\n",
       "      <th>medpix_logo_bounding_box</th>\n",
       "      <th>hbar</th>\n",
       "      <th>hborder</th>\n",
       "      <th>vborder</th>\n",
       "      <th>upper_crop</th>\n",
       "      <th>lower_crop</th>\n",
       "      <th>visual_image_problems</th>\n",
       "      <th>invalid_image</th>\n",
       "      <th>invalid_image_reasons</th>\n",
       "    </tr>\n",
       "  </thead>\n",
       "  <tbody>\n",
       "    <tr>\n",
       "      <th>0</th>\n",
       "      <td>NaN</td>\n",
       "      <td>NaN</td>\n",
       "      <td>lung cancer</td>\n",
       "      <td>Lung cancer is one of the leading causes of ca...</td>\n",
       "      <td>Department of Nuclear Medicine and Molecular I...</td>\n",
       "      <td>other</td>\n",
       "      <td>Purandare NC, Rangarajan V</td>\n",
       "      <td>byncsa</td>\n",
       "      <td>https://openi.nlm.nih.gov/retrieve.php?img=PMC...</td>\n",
       "      <td>PMC</td>\n",
       "      <td>...</td>\n",
       "      <td>False</td>\n",
       "      <td>NaN</td>\n",
       "      <td>NaN</td>\n",
       "      <td>NaN</td>\n",
       "      <td>NaN</td>\n",
       "      <td>NaN</td>\n",
       "      <td>NaN</td>\n",
       "      <td>[(grids, 0.864566), (arrows, 0.00571598), (tex...</td>\n",
       "      <td>True</td>\n",
       "      <td>(grayscale, image_problems_from_text, visual_i...</td>\n",
       "    </tr>\n",
       "    <tr>\n",
       "      <th>1</th>\n",
       "      <td>NaN</td>\n",
       "      <td>NaN</td>\n",
       "      <td>nsclc</td>\n",
       "      <td>Non-small cell lung cancer (NSCLC) accounts fo...</td>\n",
       "      <td>Cardiopulmonary Department, Sant'Andrea Hospit...</td>\n",
       "      <td>research_article</td>\n",
       "      <td>Pezzuto A, Piraino A, Mariotta S</td>\n",
       "      <td>by</td>\n",
       "      <td>https://openi.nlm.nih.gov/retrieve.php?img=PMC...</td>\n",
       "      <td>PMC</td>\n",
       "      <td>...</td>\n",
       "      <td>True</td>\n",
       "      <td>NaN</td>\n",
       "      <td>NaN</td>\n",
       "      <td>NaN</td>\n",
       "      <td>NaN</td>\n",
       "      <td>NaN</td>\n",
       "      <td>NaN</td>\n",
       "      <td>[(valid_image, 0.858156), (text, 0.100862), (a...</td>\n",
       "      <td>False</td>\n",
       "      <td>NaN</td>\n",
       "    </tr>\n",
       "    <tr>\n",
       "      <th>2</th>\n",
       "      <td>(Adrenal Insufficiency/diagnosis*/drug therapy...</td>\n",
       "      <td>(Acute Disease, Adrenal Cortex Hormones/therap...</td>\n",
       "      <td>hypoxia;tachycardia</td>\n",
       "      <td>Background: Adrenal crisis after surgical pro...</td>\n",
       "      <td>Department of Orthopedic Surgery, Osaka Medica...</td>\n",
       "      <td>research_article</td>\n",
       "      <td>Naka N, Takenaka S, Nanno K, Moriguchi Y, Chun...</td>\n",
       "      <td>by</td>\n",
       "      <td>https://openi.nlm.nih.gov/retrieve.php?img=PMC...</td>\n",
       "      <td>PMC</td>\n",
       "      <td>...</td>\n",
       "      <td>True</td>\n",
       "      <td>NaN</td>\n",
       "      <td>327.0</td>\n",
       "      <td>NaN</td>\n",
       "      <td>NaN</td>\n",
       "      <td>NaN</td>\n",
       "      <td>327.0</td>\n",
       "      <td>[(valid_image, 0.914723), (arrows, 0.0369132),...</td>\n",
       "      <td>True</td>\n",
       "      <td>(image_problems_from_text,)</td>\n",
       "    </tr>\n",
       "    <tr>\n",
       "      <th>3</th>\n",
       "      <td>NaN</td>\n",
       "      <td>NaN</td>\n",
       "      <td>small cell carcinoma of lung</td>\n",
       "      <td>Subcutaneous swelling as first clinical presen...</td>\n",
       "      <td>Department of Medicine.</td>\n",
       "      <td>case_report</td>\n",
       "      <td>Kumar S, Gupta A, Diwan SK, Bhake A</td>\n",
       "      <td>NaN</td>\n",
       "      <td>https://openi.nlm.nih.gov/retrieve.php?img=PMC...</td>\n",
       "      <td>PMC</td>\n",
       "      <td>...</td>\n",
       "      <td>False</td>\n",
       "      <td>NaN</td>\n",
       "      <td>348.0</td>\n",
       "      <td>(4, 351)</td>\n",
       "      <td>(191, 491)</td>\n",
       "      <td>4.0</td>\n",
       "      <td>348.0</td>\n",
       "      <td>[(arrows, 0.998476), (grids, 0.000149499), (va...</td>\n",
       "      <td>True</td>\n",
       "      <td>(grayscale, visual_image_problems)</td>\n",
       "    </tr>\n",
       "    <tr>\n",
       "      <th>4</th>\n",
       "      <td>(Echocardiography/methods*, Lung/ultrasonograp...</td>\n",
       "      <td>(Aged, Humans, Incidental Findings, Male)</td>\n",
       "      <td>lung tumor</td>\n",
       "      <td>We present images of a rare case where a prima...</td>\n",
       "      <td>Department of Clinical Physiology and Nuclear ...</td>\n",
       "      <td>research_article</td>\n",
       "      <td>Dencker M, Cronberg C, Damm S, Valind S, Wadbo M</td>\n",
       "      <td>by</td>\n",
       "      <td>https://openi.nlm.nih.gov/retrieve.php?img=PMC...</td>\n",
       "      <td>PMC</td>\n",
       "      <td>...</td>\n",
       "      <td>False</td>\n",
       "      <td>NaN</td>\n",
       "      <td>294.0</td>\n",
       "      <td>NaN</td>\n",
       "      <td>(96, 487)</td>\n",
       "      <td>NaN</td>\n",
       "      <td>294.0</td>\n",
       "      <td>[(grids, 0.993127), (arrows, 8.44916e-06), (va...</td>\n",
       "      <td>True</td>\n",
       "      <td>(grayscale, image_problems_from_text, visual_i...</td>\n",
       "    </tr>\n",
       "    <tr>\n",
       "      <th>5</th>\n",
       "      <td>NaN</td>\n",
       "      <td>NaN</td>\n",
       "      <td>cognitive impairment;altered mental status;par...</td>\n",
       "      <td>Introduction: The differential diagnosis of a...</td>\n",
       "      <td>Department of Cardiovascular and Respiratory S...</td>\n",
       "      <td>research_article</td>\n",
       "      <td>Fahim A, Butt M, McGivern DV</td>\n",
       "      <td>NaN</td>\n",
       "      <td>https://openi.nlm.nih.gov/retrieve.php?img=PMC...</td>\n",
       "      <td>PMC</td>\n",
       "      <td>...</td>\n",
       "      <td>True</td>\n",
       "      <td>NaN</td>\n",
       "      <td>NaN</td>\n",
       "      <td>NaN</td>\n",
       "      <td>NaN</td>\n",
       "      <td>NaN</td>\n",
       "      <td>NaN</td>\n",
       "      <td>[(valid_image, 0.535141), (arrows, 0.157072), ...</td>\n",
       "      <td>True</td>\n",
       "      <td>(image_problems_from_text, visual_image_problems)</td>\n",
       "    </tr>\n",
       "    <tr>\n",
       "      <th>6</th>\n",
       "      <td>(Cell Transformation, Neoplastic/genetics*, Lu...</td>\n",
       "      <td>(Aged, Biopsy, Disease Progression, Female, Hu...</td>\n",
       "      <td>small cell lung cancer</td>\n",
       "      <td>Background: Small-cell lung cancer with epide...</td>\n",
       "      <td>Department of Thoracic Oncology and Respirator...</td>\n",
       "      <td>case_report</td>\n",
       "      <td>Takagi Y, Nakahara Y, Hosomi Y, Hishima T</td>\n",
       "      <td>by</td>\n",
       "      <td>https://openi.nlm.nih.gov/retrieve.php?img=PMC...</td>\n",
       "      <td>PMC</td>\n",
       "      <td>...</td>\n",
       "      <td>False</td>\n",
       "      <td>NaN</td>\n",
       "      <td>497.0</td>\n",
       "      <td>NaN</td>\n",
       "      <td>NaN</td>\n",
       "      <td>NaN</td>\n",
       "      <td>497.0</td>\n",
       "      <td>[(grids, 0.99664), (arrows, 0.00112598), (text...</td>\n",
       "      <td>True</td>\n",
       "      <td>(grayscale, image_problems_from_text, visual_i...</td>\n",
       "    </tr>\n",
       "    <tr>\n",
       "      <th>7</th>\n",
       "      <td>(Diagnosis, Computer-Assisted*, Multiple Pulmo...</td>\n",
       "      <td>(Aged, Humans, Middle Aged)</td>\n",
       "      <td>nodule</td>\n",
       "      <td>Objective: To evaluate performance of compute...</td>\n",
       "      <td>Center for Medical Imaging - North East Nether...</td>\n",
       "      <td>research_article</td>\n",
       "      <td>Zhao Y, de Bock GH, Vliegenthart R, van Klaver...</td>\n",
       "      <td>NaN</td>\n",
       "      <td>https://openi.nlm.nih.gov/retrieve.php?img=PMC...</td>\n",
       "      <td>PMC</td>\n",
       "      <td>...</td>\n",
       "      <td>False</td>\n",
       "      <td>NaN</td>\n",
       "      <td>228.0</td>\n",
       "      <td>NaN</td>\n",
       "      <td>NaN</td>\n",
       "      <td>NaN</td>\n",
       "      <td>228.0</td>\n",
       "      <td>[(grids, 0.265895), (valid_image, 0.0792861), ...</td>\n",
       "      <td>True</td>\n",
       "      <td>(grayscale, visual_image_problems)</td>\n",
       "    </tr>\n",
       "    <tr>\n",
       "      <th>8</th>\n",
       "      <td>(Lung Neoplasms/diagnosis*/etiology,)</td>\n",
       "      <td>(Humans, Smoking/adverse effects, Tomography, ...</td>\n",
       "      <td>cancer</td>\n",
       "      <td>The poor outcome in symptomatic lung cancer pa...</td>\n",
       "      <td>Department of Diagnostic and Interventional Ra...</td>\n",
       "      <td>research_article</td>\n",
       "      <td>Diederich S</td>\n",
       "      <td>NaN</td>\n",
       "      <td>https://openi.nlm.nih.gov/retrieve.php?img=PMC...</td>\n",
       "      <td>PMC</td>\n",
       "      <td>...</td>\n",
       "      <td>True</td>\n",
       "      <td>NaN</td>\n",
       "      <td>538.0</td>\n",
       "      <td>NaN</td>\n",
       "      <td>NaN</td>\n",
       "      <td>NaN</td>\n",
       "      <td>538.0</td>\n",
       "      <td>[(valid_image, 0.536039), (arrows, 0.219031), ...</td>\n",
       "      <td>True</td>\n",
       "      <td>(visual_image_problems,)</td>\n",
       "    </tr>\n",
       "    <tr>\n",
       "      <th>9</th>\n",
       "      <td>(Carcinoma, Non-Small-Cell Lung/pathology*/rad...</td>\n",
       "      <td>(Adenocarcinoma/pathology/radiography, Carcino...</td>\n",
       "      <td>tumor</td>\n",
       "      <td>Patients with newly diagnosed non-small cell l...</td>\n",
       "      <td>Department of Radiology, University of Michiga...</td>\n",
       "      <td>research_article</td>\n",
       "      <td>Quint LE</td>\n",
       "      <td>NaN</td>\n",
       "      <td>https://openi.nlm.nih.gov/retrieve.php?img=PMC...</td>\n",
       "      <td>PMC</td>\n",
       "      <td>...</td>\n",
       "      <td>False</td>\n",
       "      <td>NaN</td>\n",
       "      <td>NaN</td>\n",
       "      <td>(30, 430)</td>\n",
       "      <td>NaN</td>\n",
       "      <td>30.0</td>\n",
       "      <td>430.0</td>\n",
       "      <td>[(valid_image, 0.577489), (arrows, 0.0258108),...</td>\n",
       "      <td>True</td>\n",
       "      <td>(grayscale, image_problems_from_text, visual_i...</td>\n",
       "    </tr>\n",
       "  </tbody>\n",
       "</table>\n",
       "<p>10 rows × 65 columns</p>\n",
       "</div>"
      ],
      "text/plain": [
       "                                          mesh_major  \\\n",
       "0                                                NaN   \n",
       "1                                                NaN   \n",
       "2  (Adrenal Insufficiency/diagnosis*/drug therapy...   \n",
       "3                                                NaN   \n",
       "4  (Echocardiography/methods*, Lung/ultrasonograp...   \n",
       "5                                                NaN   \n",
       "6  (Cell Transformation, Neoplastic/genetics*, Lu...   \n",
       "7  (Diagnosis, Computer-Assisted*, Multiple Pulmo...   \n",
       "8              (Lung Neoplasms/diagnosis*/etiology,)   \n",
       "9  (Carcinoma, Non-Small-Cell Lung/pathology*/rad...   \n",
       "\n",
       "                                          mesh_minor  \\\n",
       "0                                                NaN   \n",
       "1                                                NaN   \n",
       "2  (Acute Disease, Adrenal Cortex Hormones/therap...   \n",
       "3                                                NaN   \n",
       "4          (Aged, Humans, Incidental Findings, Male)   \n",
       "5                                                NaN   \n",
       "6  (Aged, Biopsy, Disease Progression, Female, Hu...   \n",
       "7                        (Aged, Humans, Middle Aged)   \n",
       "8  (Humans, Smoking/adverse effects, Tomography, ...   \n",
       "9  (Adenocarcinoma/pathology/radiography, Carcino...   \n",
       "\n",
       "                                            problems  \\\n",
       "0                                        lung cancer   \n",
       "1                                              nsclc   \n",
       "2                                hypoxia;tachycardia   \n",
       "3                       small cell carcinoma of lung   \n",
       "4                                         lung tumor   \n",
       "5  cognitive impairment;altered mental status;par...   \n",
       "6                             small cell lung cancer   \n",
       "7                                             nodule   \n",
       "8                                             cancer   \n",
       "9                                              tumor   \n",
       "\n",
       "                                            abstract  \\\n",
       "0  Lung cancer is one of the leading causes of ca...   \n",
       "1  Non-small cell lung cancer (NSCLC) accounts fo...   \n",
       "2   Background: Adrenal crisis after surgical pro...   \n",
       "3  Subcutaneous swelling as first clinical presen...   \n",
       "4  We present images of a rare case where a prima...   \n",
       "5   Introduction: The differential diagnosis of a...   \n",
       "6   Background: Small-cell lung cancer with epide...   \n",
       "7   Objective: To evaluate performance of compute...   \n",
       "8  The poor outcome in symptomatic lung cancer pa...   \n",
       "9  Patients with newly diagnosed non-small cell l...   \n",
       "\n",
       "                                           affiliate      article_type  \\\n",
       "0  Department of Nuclear Medicine and Molecular I...             other   \n",
       "1  Cardiopulmonary Department, Sant'Andrea Hospit...  research_article   \n",
       "2  Department of Orthopedic Surgery, Osaka Medica...  research_article   \n",
       "3                            Department of Medicine.       case_report   \n",
       "4  Department of Clinical Physiology and Nuclear ...  research_article   \n",
       "5  Department of Cardiovascular and Respiratory S...  research_article   \n",
       "6  Department of Thoracic Oncology and Respirator...       case_report   \n",
       "7  Center for Medical Imaging - North East Nether...  research_article   \n",
       "8  Department of Diagnostic and Interventional Ra...  research_article   \n",
       "9  Department of Radiology, University of Michiga...  research_article   \n",
       "\n",
       "                                             authors cc_license  \\\n",
       "0                         Purandare NC, Rangarajan V     byncsa   \n",
       "1                   Pezzuto A, Piraino A, Mariotta S         by   \n",
       "2  Naka N, Takenaka S, Nanno K, Moriguchi Y, Chun...         by   \n",
       "3                Kumar S, Gupta A, Diwan SK, Bhake A        NaN   \n",
       "4   Dencker M, Cronberg C, Damm S, Valind S, Wadbo M         by   \n",
       "5                       Fahim A, Butt M, McGivern DV        NaN   \n",
       "6          Takagi Y, Nakahara Y, Hosomi Y, Hishima T         by   \n",
       "7  Zhao Y, de Bock GH, Vliegenthart R, van Klaver...        NaN   \n",
       "8                                        Diederich S        NaN   \n",
       "9                                           Quint LE        NaN   \n",
       "\n",
       "                                  detailed_query_url doc_source  \\\n",
       "0  https://openi.nlm.nih.gov/retrieve.php?img=PMC...        PMC   \n",
       "1  https://openi.nlm.nih.gov/retrieve.php?img=PMC...        PMC   \n",
       "2  https://openi.nlm.nih.gov/retrieve.php?img=PMC...        PMC   \n",
       "3  https://openi.nlm.nih.gov/retrieve.php?img=PMC...        PMC   \n",
       "4  https://openi.nlm.nih.gov/retrieve.php?img=PMC...        PMC   \n",
       "5  https://openi.nlm.nih.gov/retrieve.php?img=PMC...        PMC   \n",
       "6  https://openi.nlm.nih.gov/retrieve.php?img=PMC...        PMC   \n",
       "7  https://openi.nlm.nih.gov/retrieve.php?img=PMC...        PMC   \n",
       "8  https://openi.nlm.nih.gov/retrieve.php?img=PMC...        PMC   \n",
       "9  https://openi.nlm.nih.gov/retrieve.php?img=PMC...        PMC   \n",
       "\n",
       "                         ...                         grayscale  \\\n",
       "0                        ...                             False   \n",
       "1                        ...                              True   \n",
       "2                        ...                              True   \n",
       "3                        ...                             False   \n",
       "4                        ...                             False   \n",
       "5                        ...                              True   \n",
       "6                        ...                             False   \n",
       "7                        ...                             False   \n",
       "8                        ...                              True   \n",
       "9                        ...                             False   \n",
       "\n",
       "  medpix_logo_bounding_box   hbar    hborder     vborder upper_crop  \\\n",
       "0                      NaN    NaN        NaN         NaN        NaN   \n",
       "1                      NaN    NaN        NaN         NaN        NaN   \n",
       "2                      NaN  327.0        NaN         NaN        NaN   \n",
       "3                      NaN  348.0   (4, 351)  (191, 491)        4.0   \n",
       "4                      NaN  294.0        NaN   (96, 487)        NaN   \n",
       "5                      NaN    NaN        NaN         NaN        NaN   \n",
       "6                      NaN  497.0        NaN         NaN        NaN   \n",
       "7                      NaN  228.0        NaN         NaN        NaN   \n",
       "8                      NaN  538.0        NaN         NaN        NaN   \n",
       "9                      NaN    NaN  (30, 430)         NaN       30.0   \n",
       "\n",
       "  lower_crop                              visual_image_problems invalid_image  \\\n",
       "0        NaN  [(grids, 0.864566), (arrows, 0.00571598), (tex...          True   \n",
       "1        NaN  [(valid_image, 0.858156), (text, 0.100862), (a...         False   \n",
       "2      327.0  [(valid_image, 0.914723), (arrows, 0.0369132),...          True   \n",
       "3      348.0  [(arrows, 0.998476), (grids, 0.000149499), (va...          True   \n",
       "4      294.0  [(grids, 0.993127), (arrows, 8.44916e-06), (va...          True   \n",
       "5        NaN  [(valid_image, 0.535141), (arrows, 0.157072), ...          True   \n",
       "6      497.0  [(grids, 0.99664), (arrows, 0.00112598), (text...          True   \n",
       "7      228.0  [(grids, 0.265895), (valid_image, 0.0792861), ...          True   \n",
       "8      538.0  [(valid_image, 0.536039), (arrows, 0.219031), ...          True   \n",
       "9      430.0  [(valid_image, 0.577489), (arrows, 0.0258108),...          True   \n",
       "\n",
       "                               invalid_image_reasons  \n",
       "0  (grayscale, image_problems_from_text, visual_i...  \n",
       "1                                                NaN  \n",
       "2                        (image_problems_from_text,)  \n",
       "3                 (grayscale, visual_image_problems)  \n",
       "4  (grayscale, image_problems_from_text, visual_i...  \n",
       "5  (image_problems_from_text, visual_image_problems)  \n",
       "6  (grayscale, image_problems_from_text, visual_i...  \n",
       "7                 (grayscale, visual_image_problems)  \n",
       "8                           (visual_image_problems,)  \n",
       "9  (grayscale, image_problems_from_text, visual_i...  \n",
       "\n",
       "[10 rows x 65 columns]"
      ]
     },
     "execution_count": 23,
     "metadata": {},
     "output_type": "execute_result"
    }
   ],
   "source": [
    "simplify_df(analysis_df)"
   ]
  },
  {
   "cell_type": "markdown",
   "metadata": {},
   "source": [
    "This will generate several new columns:\n",
    "\n",
    "\n",
    "- **'grayscale'**: this is simply an account of whether or not the images is grayscale.\n",
    "- **'medpix_logo_bounding_box'**: images from the MedPix collection, typically contain the organization's logo in the top right corner. Had we passed the class images from MedPix, it would have tried to 'draw' a bounding box around its precise location (enabling it to be cropped out of the image).\n",
    "- **'hbar'**: this denotes a 'horizontal bar' that is sometimes found at the bottom of images. If present, this column reports its height in pixels.\n",
    "- **'hborder'**: this column provides an account of 'horizontal borders' on either side of the image.\n",
    "- **'vborder'**: this column provides an account of 'vertical borders' on the top and bottom of the image.\n",
    "- **'upper crop'**: this is the location that has been selected to crop the top of the image. This decision is made by considering the *'medpix_logo_bounding_box'* and *'vborder'* columns.\n",
    "- **'lower crop'**: this is the location that has been selected to crop the bottom of the image. This decision is made by considering the *'hbar'* and *'hborder'* columns.\n",
    "- **'visual_image_problems'**: this column contains the output of the convnet model, with the numbers following the words representing the probability that the image belongs to that category.\n",
    "- **'invalid_image'**: this is a decision as to whether or not the image is invalid, e.g., has an arrow. This decision is made using the 'grayscale' and *'visual_image_problems'* columns as well as the text associated with the image (*'image_problems_from_text'*)\n",
    "- **'invalid_image_reasons'**: in cases where the *'invalid_image'* column is ``True``, column provides an account as to why a decision was made.\n",
    "\n",
    "\n"
   ]
  },
  {
   "cell_type": "markdown",
   "metadata": {},
   "source": [
    "We can use this analysis to construct a new dataframe, with **'invalid_images'** removed and the remaining images cropped in such a way that problematic features are removed."
   ]
  },
  {
   "cell_type": "code",
   "execution_count": 24,
   "metadata": {},
   "outputs": [
    {
     "data": {
      "application/vnd.jupyter.widget-view+json": {
       "model_id": "9dc108484cdf4ecdad5546ef61d8aa7f"
      }
     },
     "metadata": {},
     "output_type": "display_data"
    },
    {
     "name": "stdout",
     "output_type": "stream",
     "text": [
      "\n"
     ]
    }
   ],
   "source": [
    "ip.clean_image_dataframe()"
   ]
  },
  {
   "cell_type": "markdown",
   "metadata": {},
   "source": [
    "This 'cleaned' set, *should* have fewer instances of problematic images."
   ]
  },
  {
   "cell_type": "markdown",
   "metadata": {},
   "source": [
    "Here's a random image from this new set:"
   ]
  },
  {
   "cell_type": "code",
   "execution_count": 25,
   "metadata": {},
   "outputs": [
    {
     "data": {
      "text/plain": [
       "<matplotlib.image.AxesImage at 0x175132748>"
      ]
     },
     "execution_count": 25,
     "metadata": {},
     "output_type": "execute_result"
    },
    {
     "data": {
      "image/png": "[encoded data removed]",
      "text/plain": [
       "<matplotlib.figure.Figure at 0x175120390>"
      ]
     },
     "metadata": {},
     "output_type": "display_data"
    }
   ],
   "source": [
    "show_image(ip.image_dataframe_cleaned['cleaned_image'].iloc[180])"
   ]
  },
  {
   "cell_type": "markdown",
   "metadata": {},
   "source": [
    "With time, the machinery used to detect these kinds of problems, particularly the convolutional neural network, will be improved. However, at the current time, **this class is still considered to be very experimental**."
   ]
  },
  {
   "cell_type": "markdown",
   "metadata": {},
   "source": [
    "---\n",
    "### Train, Validation and Test"
   ]
  },
  {
   "cell_type": "markdown",
   "metadata": {
    "collapsed": true
   },
   "source": [
    "Now that we've explored data harvesting, we can turn our attention to the final step before modeling: dividing data into training, validation and tests sets."
   ]
  },
  {
   "cell_type": "markdown",
   "metadata": {},
   "source": [
    "Let's use images from the *Indiana University Chest X-Ray* collection ('indiana_u_xray'). This set of images has been assembled 'by hand', and thus does not require complicated image cleaning procedures."
   ]
  },
  {
   "cell_type": "code",
   "execution_count": 26,
   "metadata": {},
   "outputs": [
    {
     "name": "stdout",
     "output_type": "stream",
     "text": [
      "\n",
      "Results Found: 7,470.\n"
     ]
    }
   ],
   "source": [
    "opi.search(collection='indiana_u_xray')"
   ]
  },
  {
   "cell_type": "markdown",
   "metadata": {},
   "source": [
    "Let's go ahead and download this entire collection. <br>\n",
    "Please be advised that this will take some time, so feel free to adjust ``download_limit`` to suit your needs."
   ]
  },
  {
   "cell_type": "code",
   "execution_count": 27,
   "metadata": {},
   "outputs": [
    {
     "name": "stdout",
     "output_type": "stream",
     "text": [
      "\n",
      "Number of Records to Download: 7,470 (chunk size: 30 records).\n"
     ]
    },
    {
     "data": {
      "application/vnd.jupyter.widget-view+json": {
       "model_id": "03a5304e9775448d97a9f6d53ff29a9d"
      }
     },
     "metadata": {},
     "output_type": "display_data"
    },
    {
     "name": "stdout",
     "output_type": "stream",
     "text": [
      "\n"
     ]
    },
    {
     "data": {
      "application/vnd.jupyter.widget-view+json": {
       "model_id": "0eb353726a1a417f8d9834977a5afc96"
      }
     },
     "metadata": {},
     "output_type": "display_data"
    },
    {
     "name": "stdout",
     "output_type": "stream",
     "text": [
      "\n"
     ]
    },
    {
     "data": {
      "application/vnd.jupyter.widget-view+json": {
       "model_id": "95d8fbf4a35b4a17bd9fc60691d962aa"
      }
     },
     "metadata": {},
     "output_type": "display_data"
    },
    {
     "name": "stdout",
     "output_type": "stream",
     "text": [
      "\n"
     ]
    }
   ],
   "source": [
    "pull_df2 = opi.pull(download_limit=None)"
   ]
  },
  {
   "cell_type": "markdown",
   "metadata": {},
   "source": [
    "Let's quickly inspect this newly downloaded data."
   ]
  },
  {
   "cell_type": "code",
   "execution_count": 28,
   "metadata": {},
   "outputs": [
    {
     "data": {
      "text/html": [
       "<div>\n",
       "<table border=\"1\" class=\"dataframe\">\n",
       "  <thead>\n",
       "    <tr style=\"text-align: right;\">\n",
       "      <th></th>\n",
       "      <th>mesh_major</th>\n",
       "      <th>mesh_minor</th>\n",
       "      <th>problems</th>\n",
       "      <th>abstract</th>\n",
       "      <th>affiliate</th>\n",
       "      <th>article_type</th>\n",
       "      <th>authors</th>\n",
       "      <th>cc_license</th>\n",
       "      <th>doc_source</th>\n",
       "      <th>image_caption</th>\n",
       "      <th>...</th>\n",
       "      <th>image_problems_from_text</th>\n",
       "      <th>imaging_modality_from_text</th>\n",
       "      <th>parsed_abstract</th>\n",
       "      <th>sex</th>\n",
       "      <th>modality_full</th>\n",
       "      <th>image_id_short</th>\n",
       "      <th>query</th>\n",
       "      <th>pull_time</th>\n",
       "      <th>cached_images_path</th>\n",
       "      <th>download_success</th>\n",
       "    </tr>\n",
       "  </thead>\n",
       "  <tbody>\n",
       "    <tr>\n",
       "      <th>0</th>\n",
       "      <td>(Calcified Granuloma/lung/upper lobe/right,)</td>\n",
       "      <td>NaN</td>\n",
       "      <td>Calcified Granuloma</td>\n",
       "      <td>Comparison: Chest radiographs XXXX. Indicatio...</td>\n",
       "      <td>Indiana University</td>\n",
       "      <td>radiology_report</td>\n",
       "      <td>Kohli MD, Rosenman M</td>\n",
       "      <td>byncnd</td>\n",
       "      <td>CXR</td>\n",
       "      <td>PA and lateral chest x-XXXX XXXX.</td>\n",
       "      <td>...</td>\n",
       "      <td>NaN</td>\n",
       "      <td>Computed Tomography (CT): chest</td>\n",
       "      <td>{'results': 'The cardiomediastinal silhouette ...</td>\n",
       "      <td>male</td>\n",
       "      <td>X-Ray</td>\n",
       "      <td>1</td>\n",
       "      <td>{'article_type': None, 'specialties': None, 'f...</td>\n",
       "      <td>2017-04-04 22:19:02.535658</td>\n",
       "      <td>/path/to/image</td>\n",
       "      <td>True</td>\n",
       "    </tr>\n",
       "    <tr>\n",
       "      <th>1</th>\n",
       "      <td>(Calcified Granuloma/lung/upper lobe/right,)</td>\n",
       "      <td>NaN</td>\n",
       "      <td>Calcified Granuloma</td>\n",
       "      <td>Comparison: Chest radiographs XXXX. Indicatio...</td>\n",
       "      <td>Indiana University</td>\n",
       "      <td>radiology_report</td>\n",
       "      <td>Kohli MD, Rosenman M</td>\n",
       "      <td>byncnd</td>\n",
       "      <td>CXR</td>\n",
       "      <td>PA and lateral chest x-XXXX XXXX.</td>\n",
       "      <td>...</td>\n",
       "      <td>NaN</td>\n",
       "      <td>Computed Tomography (CT): chest</td>\n",
       "      <td>{'results': 'The cardiomediastinal silhouette ...</td>\n",
       "      <td>male</td>\n",
       "      <td>X-Ray</td>\n",
       "      <td>2</td>\n",
       "      <td>{'article_type': None, 'specialties': None, 'f...</td>\n",
       "      <td>2017-04-04 22:19:02.535658</td>\n",
       "      <td>/path/to/image</td>\n",
       "      <td>True</td>\n",
       "    </tr>\n",
       "    <tr>\n",
       "      <th>2</th>\n",
       "      <td>(normal,)</td>\n",
       "      <td>NaN</td>\n",
       "      <td>normal</td>\n",
       "      <td>Comparison: None. Indication: Positive TB tes...</td>\n",
       "      <td>Indiana University</td>\n",
       "      <td>radiology_report</td>\n",
       "      <td>Kohli MD, Rosenman M</td>\n",
       "      <td>byncnd</td>\n",
       "      <td>CXR</td>\n",
       "      <td>Xray Chest PA and Lateral</td>\n",
       "      <td>...</td>\n",
       "      <td>NaN</td>\n",
       "      <td>Computed Tomography (CT): chest</td>\n",
       "      <td>{'results': 'The cardiac silhouette and medias...</td>\n",
       "      <td>NaN</td>\n",
       "      <td>X-Ray</td>\n",
       "      <td>1</td>\n",
       "      <td>{'article_type': None, 'specialties': None, 'f...</td>\n",
       "      <td>2017-04-04 22:19:02.535658</td>\n",
       "      <td>/path/to/image</td>\n",
       "      <td>True</td>\n",
       "    </tr>\n",
       "    <tr>\n",
       "      <th>3</th>\n",
       "      <td>(normal,)</td>\n",
       "      <td>NaN</td>\n",
       "      <td>normal</td>\n",
       "      <td>Comparison: None. Indication: Positive TB tes...</td>\n",
       "      <td>Indiana University</td>\n",
       "      <td>radiology_report</td>\n",
       "      <td>Kohli MD, Rosenman M</td>\n",
       "      <td>byncnd</td>\n",
       "      <td>CXR</td>\n",
       "      <td>Xray Chest PA and Lateral</td>\n",
       "      <td>...</td>\n",
       "      <td>NaN</td>\n",
       "      <td>Computed Tomography (CT): chest</td>\n",
       "      <td>{'results': 'The cardiac silhouette and medias...</td>\n",
       "      <td>NaN</td>\n",
       "      <td>X-Ray</td>\n",
       "      <td>2</td>\n",
       "      <td>{'article_type': None, 'specialties': None, 'f...</td>\n",
       "      <td>2017-04-04 22:19:02.535658</td>\n",
       "      <td>/path/to/image</td>\n",
       "      <td>True</td>\n",
       "    </tr>\n",
       "    <tr>\n",
       "      <th>4</th>\n",
       "      <td>(Markings/lung/bilateral/interstitial/diffuse/...</td>\n",
       "      <td>NaN</td>\n",
       "      <td>Markings;Fibrosis</td>\n",
       "      <td>Comparison: None. Indication: dyspnea, subjec...</td>\n",
       "      <td>Indiana University</td>\n",
       "      <td>radiology_report</td>\n",
       "      <td>Kohli MD, Rosenman M</td>\n",
       "      <td>byncnd</td>\n",
       "      <td>CXR</td>\n",
       "      <td>CHEST 2V FRONTAL/LATERAL XXXX, XXXX XXXX PM</td>\n",
       "      <td>...</td>\n",
       "      <td>NaN</td>\n",
       "      <td>Computed Tomography (CT): chest</td>\n",
       "      <td>{'results': 'Interstitial markings are diffuse...</td>\n",
       "      <td>NaN</td>\n",
       "      <td>X-Ray</td>\n",
       "      <td>1</td>\n",
       "      <td>{'article_type': None, 'specialties': None, 'f...</td>\n",
       "      <td>2017-04-04 22:19:02.535658</td>\n",
       "      <td>/path/to/image</td>\n",
       "      <td>True</td>\n",
       "    </tr>\n",
       "    <tr>\n",
       "      <th>5</th>\n",
       "      <td>(Markings/lung/bilateral/interstitial/diffuse/...</td>\n",
       "      <td>NaN</td>\n",
       "      <td>Markings;Fibrosis</td>\n",
       "      <td>Comparison: None. Indication: dyspnea, subjec...</td>\n",
       "      <td>Indiana University</td>\n",
       "      <td>radiology_report</td>\n",
       "      <td>Kohli MD, Rosenman M</td>\n",
       "      <td>byncnd</td>\n",
       "      <td>CXR</td>\n",
       "      <td>CHEST 2V FRONTAL/LATERAL XXXX, XXXX XXXX PM</td>\n",
       "      <td>...</td>\n",
       "      <td>NaN</td>\n",
       "      <td>Computed Tomography (CT): chest</td>\n",
       "      <td>{'results': 'Interstitial markings are diffuse...</td>\n",
       "      <td>NaN</td>\n",
       "      <td>X-Ray</td>\n",
       "      <td>2</td>\n",
       "      <td>{'article_type': None, 'specialties': None, 'f...</td>\n",
       "      <td>2017-04-04 22:19:02.535658</td>\n",
       "      <td>/path/to/image</td>\n",
       "      <td>True</td>\n",
       "    </tr>\n",
       "    <tr>\n",
       "      <th>6</th>\n",
       "      <td>(Density/retrocardiac, Calcinosis/blood vessel...</td>\n",
       "      <td>NaN</td>\n",
       "      <td>Density;Calcinosis;Calcified Granuloma;Opacity...</td>\n",
       "      <td>Indication: Acute bronchitis. Findings: Heart...</td>\n",
       "      <td>Indiana University</td>\n",
       "      <td>radiology_report</td>\n",
       "      <td>Kohli MD, Rosenman M</td>\n",
       "      <td>byncnd</td>\n",
       "      <td>CXR</td>\n",
       "      <td>Xray Chest PA and Lateral</td>\n",
       "      <td>...</td>\n",
       "      <td>NaN</td>\n",
       "      <td>Computed Tomography (CT): chest</td>\n",
       "      <td>{'results': 'Heart size and pulmonary vascular...</td>\n",
       "      <td>NaN</td>\n",
       "      <td>X-Ray</td>\n",
       "      <td>1</td>\n",
       "      <td>{'article_type': None, 'specialties': None, 'f...</td>\n",
       "      <td>2017-04-04 22:19:02.535658</td>\n",
       "      <td>/path/to/image</td>\n",
       "      <td>True</td>\n",
       "    </tr>\n",
       "    <tr>\n",
       "      <th>7</th>\n",
       "      <td>(Opacity/lung/upper lobe/right, Pulmonary Atel...</td>\n",
       "      <td>NaN</td>\n",
       "      <td>Opacity;Pulmonary Atelectasis;Opacity</td>\n",
       "      <td>Comparison: XXXX PA and lateral chest radiogr...</td>\n",
       "      <td>Indiana University</td>\n",
       "      <td>radiology_report</td>\n",
       "      <td>Kohli MD, Rosenman M</td>\n",
       "      <td>byncnd</td>\n",
       "      <td>CXR</td>\n",
       "      <td>PA and lateral chest x-XXXX XXXX.</td>\n",
       "      <td>...</td>\n",
       "      <td>NaN</td>\n",
       "      <td>Computed Tomography (CT): chest</td>\n",
       "      <td>{'results': 'There is XXXX increased opacity w...</td>\n",
       "      <td>male</td>\n",
       "      <td>X-Ray</td>\n",
       "      <td>1</td>\n",
       "      <td>{'article_type': None, 'specialties': None, 'f...</td>\n",
       "      <td>2017-04-04 22:19:02.535658</td>\n",
       "      <td>/path/to/image</td>\n",
       "      <td>True</td>\n",
       "    </tr>\n",
       "    <tr>\n",
       "      <th>8</th>\n",
       "      <td>(Opacity/lung/upper lobe/right, Pulmonary Atel...</td>\n",
       "      <td>NaN</td>\n",
       "      <td>Opacity;Pulmonary Atelectasis;Opacity</td>\n",
       "      <td>Comparison: XXXX PA and lateral chest radiogr...</td>\n",
       "      <td>Indiana University</td>\n",
       "      <td>radiology_report</td>\n",
       "      <td>Kohli MD, Rosenman M</td>\n",
       "      <td>byncnd</td>\n",
       "      <td>CXR</td>\n",
       "      <td>PA and lateral chest x-XXXX XXXX.</td>\n",
       "      <td>...</td>\n",
       "      <td>NaN</td>\n",
       "      <td>Computed Tomography (CT): chest</td>\n",
       "      <td>{'results': 'There is XXXX increased opacity w...</td>\n",
       "      <td>male</td>\n",
       "      <td>X-Ray</td>\n",
       "      <td>2</td>\n",
       "      <td>{'article_type': None, 'specialties': None, 'f...</td>\n",
       "      <td>2017-04-04 22:19:02.535658</td>\n",
       "      <td>/path/to/image</td>\n",
       "      <td>True</td>\n",
       "    </tr>\n",
       "    <tr>\n",
       "      <th>9</th>\n",
       "      <td>(Opacity/lung/upper lobe/right, Pulmonary Atel...</td>\n",
       "      <td>NaN</td>\n",
       "      <td>Opacity;Pulmonary Atelectasis;Opacity</td>\n",
       "      <td>Comparison: XXXX PA and lateral chest radiogr...</td>\n",
       "      <td>Indiana University</td>\n",
       "      <td>radiology_report</td>\n",
       "      <td>Kohli MD, Rosenman M</td>\n",
       "      <td>byncnd</td>\n",
       "      <td>CXR</td>\n",
       "      <td>PA and lateral chest x-XXXX XXXX.</td>\n",
       "      <td>...</td>\n",
       "      <td>NaN</td>\n",
       "      <td>Computed Tomography (CT): chest</td>\n",
       "      <td>{'results': 'There is XXXX increased opacity w...</td>\n",
       "      <td>male</td>\n",
       "      <td>X-Ray</td>\n",
       "      <td>3</td>\n",
       "      <td>{'article_type': None, 'specialties': None, 'f...</td>\n",
       "      <td>2017-04-04 22:19:02.535658</td>\n",
       "      <td>/path/to/image</td>\n",
       "      <td>True</td>\n",
       "    </tr>\n",
       "  </tbody>\n",
       "</table>\n",
       "<p>10 rows × 37 columns</p>\n",
       "</div>"
      ],
      "text/plain": [
       "                                          mesh_major  mesh_minor  \\\n",
       "0       (Calcified Granuloma/lung/upper lobe/right,)         NaN   \n",
       "1       (Calcified Granuloma/lung/upper lobe/right,)         NaN   \n",
       "2                                          (normal,)         NaN   \n",
       "3                                          (normal,)         NaN   \n",
       "4  (Markings/lung/bilateral/interstitial/diffuse/...         NaN   \n",
       "5  (Markings/lung/bilateral/interstitial/diffuse/...         NaN   \n",
       "6  (Density/retrocardiac, Calcinosis/blood vessel...         NaN   \n",
       "7  (Opacity/lung/upper lobe/right, Pulmonary Atel...         NaN   \n",
       "8  (Opacity/lung/upper lobe/right, Pulmonary Atel...         NaN   \n",
       "9  (Opacity/lung/upper lobe/right, Pulmonary Atel...         NaN   \n",
       "\n",
       "                                            problems  \\\n",
       "0                                Calcified Granuloma   \n",
       "1                                Calcified Granuloma   \n",
       "2                                             normal   \n",
       "3                                             normal   \n",
       "4                                  Markings;Fibrosis   \n",
       "5                                  Markings;Fibrosis   \n",
       "6  Density;Calcinosis;Calcified Granuloma;Opacity...   \n",
       "7              Opacity;Pulmonary Atelectasis;Opacity   \n",
       "8              Opacity;Pulmonary Atelectasis;Opacity   \n",
       "9              Opacity;Pulmonary Atelectasis;Opacity   \n",
       "\n",
       "                                            abstract           affiliate  \\\n",
       "0   Comparison: Chest radiographs XXXX. Indicatio...  Indiana University   \n",
       "1   Comparison: Chest radiographs XXXX. Indicatio...  Indiana University   \n",
       "2   Comparison: None. Indication: Positive TB tes...  Indiana University   \n",
       "3   Comparison: None. Indication: Positive TB tes...  Indiana University   \n",
       "4   Comparison: None. Indication: dyspnea, subjec...  Indiana University   \n",
       "5   Comparison: None. Indication: dyspnea, subjec...  Indiana University   \n",
       "6   Indication: Acute bronchitis. Findings: Heart...  Indiana University   \n",
       "7   Comparison: XXXX PA and lateral chest radiogr...  Indiana University   \n",
       "8   Comparison: XXXX PA and lateral chest radiogr...  Indiana University   \n",
       "9   Comparison: XXXX PA and lateral chest radiogr...  Indiana University   \n",
       "\n",
       "       article_type               authors cc_license doc_source  \\\n",
       "0  radiology_report  Kohli MD, Rosenman M     byncnd        CXR   \n",
       "1  radiology_report  Kohli MD, Rosenman M     byncnd        CXR   \n",
       "2  radiology_report  Kohli MD, Rosenman M     byncnd        CXR   \n",
       "3  radiology_report  Kohli MD, Rosenman M     byncnd        CXR   \n",
       "4  radiology_report  Kohli MD, Rosenman M     byncnd        CXR   \n",
       "5  radiology_report  Kohli MD, Rosenman M     byncnd        CXR   \n",
       "6  radiology_report  Kohli MD, Rosenman M     byncnd        CXR   \n",
       "7  radiology_report  Kohli MD, Rosenman M     byncnd        CXR   \n",
       "8  radiology_report  Kohli MD, Rosenman M     byncnd        CXR   \n",
       "9  radiology_report  Kohli MD, Rosenman M     byncnd        CXR   \n",
       "\n",
       "                                 image_caption       ...         \\\n",
       "0            PA and lateral chest x-XXXX XXXX.       ...          \n",
       "1            PA and lateral chest x-XXXX XXXX.       ...          \n",
       "2                    Xray Chest PA and Lateral       ...          \n",
       "3                    Xray Chest PA and Lateral       ...          \n",
       "4  CHEST 2V FRONTAL/LATERAL XXXX, XXXX XXXX PM       ...          \n",
       "5  CHEST 2V FRONTAL/LATERAL XXXX, XXXX XXXX PM       ...          \n",
       "6                    Xray Chest PA and Lateral       ...          \n",
       "7            PA and lateral chest x-XXXX XXXX.       ...          \n",
       "8            PA and lateral chest x-XXXX XXXX.       ...          \n",
       "9            PA and lateral chest x-XXXX XXXX.       ...          \n",
       "\n",
       "   image_problems_from_text       imaging_modality_from_text  \\\n",
       "0                       NaN  Computed Tomography (CT): chest   \n",
       "1                       NaN  Computed Tomography (CT): chest   \n",
       "2                       NaN  Computed Tomography (CT): chest   \n",
       "3                       NaN  Computed Tomography (CT): chest   \n",
       "4                       NaN  Computed Tomography (CT): chest   \n",
       "5                       NaN  Computed Tomography (CT): chest   \n",
       "6                       NaN  Computed Tomography (CT): chest   \n",
       "7                       NaN  Computed Tomography (CT): chest   \n",
       "8                       NaN  Computed Tomography (CT): chest   \n",
       "9                       NaN  Computed Tomography (CT): chest   \n",
       "\n",
       "                                     parsed_abstract   sex modality_full  \\\n",
       "0  {'results': 'The cardiomediastinal silhouette ...  male         X-Ray   \n",
       "1  {'results': 'The cardiomediastinal silhouette ...  male         X-Ray   \n",
       "2  {'results': 'The cardiac silhouette and medias...   NaN         X-Ray   \n",
       "3  {'results': 'The cardiac silhouette and medias...   NaN         X-Ray   \n",
       "4  {'results': 'Interstitial markings are diffuse...   NaN         X-Ray   \n",
       "5  {'results': 'Interstitial markings are diffuse...   NaN         X-Ray   \n",
       "6  {'results': 'Heart size and pulmonary vascular...   NaN         X-Ray   \n",
       "7  {'results': 'There is XXXX increased opacity w...  male         X-Ray   \n",
       "8  {'results': 'There is XXXX increased opacity w...  male         X-Ray   \n",
       "9  {'results': 'There is XXXX increased opacity w...  male         X-Ray   \n",
       "\n",
       "   image_id_short                                              query  \\\n",
       "0               1  {'article_type': None, 'specialties': None, 'f...   \n",
       "1               2  {'article_type': None, 'specialties': None, 'f...   \n",
       "2               1  {'article_type': None, 'specialties': None, 'f...   \n",
       "3               2  {'article_type': None, 'specialties': None, 'f...   \n",
       "4               1  {'article_type': None, 'specialties': None, 'f...   \n",
       "5               2  {'article_type': None, 'specialties': None, 'f...   \n",
       "6               1  {'article_type': None, 'specialties': None, 'f...   \n",
       "7               1  {'article_type': None, 'specialties': None, 'f...   \n",
       "8               2  {'article_type': None, 'specialties': None, 'f...   \n",
       "9               3  {'article_type': None, 'specialties': None, 'f...   \n",
       "\n",
       "                   pull_time cached_images_path download_success  \n",
       "0 2017-04-04 22:19:02.535658     /path/to/image             True  \n",
       "1 2017-04-04 22:19:02.535658     /path/to/image             True  \n",
       "2 2017-04-04 22:19:02.535658     /path/to/image             True  \n",
       "3 2017-04-04 22:19:02.535658     /path/to/image             True  \n",
       "4 2017-04-04 22:19:02.535658     /path/to/image             True  \n",
       "5 2017-04-04 22:19:02.535658     /path/to/image             True  \n",
       "6 2017-04-04 22:19:02.535658     /path/to/image             True  \n",
       "7 2017-04-04 22:19:02.535658     /path/to/image             True  \n",
       "8 2017-04-04 22:19:02.535658     /path/to/image             True  \n",
       "9 2017-04-04 22:19:02.535658     /path/to/image             True  \n",
       "\n",
       "[10 rows x 37 columns]"
      ]
     },
     "execution_count": 28,
     "metadata": {},
     "output_type": "execute_result"
    }
   ],
   "source": [
    "simplify_df(opi.records_db_short)"
   ]
  },
  {
   "cell_type": "markdown",
   "metadata": {},
   "source": [
    "We can easily select a subset of these ~7000 images and divide them into training and test sets for some machine learning model using the ``image_divvy()`` tool."
   ]
  },
  {
   "cell_type": "code",
   "execution_count": 29,
   "metadata": {
    "collapsed": true
   },
   "outputs": [],
   "source": [
    "from biovida.images import image_divvy"
   ]
  },
  {
   "cell_type": "markdown",
   "metadata": {},
   "source": [
    "Let's imagine we're interested in building a model capable of distinguishing between 'normal' chest x-rays and those with signs of problematic caclium deposits, a disease formally known as 'calcinosis'."
   ]
  },
  {
   "cell_type": "markdown",
   "metadata": {},
   "source": [
    "We can define a rule to construct such a training and test set using a 'divvy_rule'.\n",
    "This rule will tell ``image_divvy()`` how to 'divvy up' the images in the cache. More specifically, our rule will tell this ``image_divvy()`` how to categorize images in the cache."
   ]
  },
  {
   "cell_type": "code",
   "execution_count": 30,
   "metadata": {
    "collapsed": true
   },
   "outputs": [],
   "source": [
    "def my_divvy_rule(row):\n",
    "    if isinstance(row['diagnosis'], str):\n",
    "        if 'normal' in row['diagnosis']:\n",
    "            return 'normal'  # though this could be anything, e.g., 'super cool normal images'.\n",
    "        elif 'calcinosis' in row['diagnosis']:\n",
    "            return 'calcinosis'"
   ]
  },
  {
   "cell_type": "markdown",
   "metadata": {},
   "source": [
    "Now that ``image_divvy()`` knows how we would like it to categorize the data we've downloaded, we can also pass it a dictionary specifying how to 'split' the data into training and testing sets. In this example, we'll use a standard 80% train, 20% test split and ask the function returns numpy arrays (``ndarrays``) as output."
   ]
  },
  {
   "cell_type": "code",
   "execution_count": 31,
   "metadata": {},
   "outputs": [
    {
     "data": {
      "application/vnd.jupyter.widget-view+json": {
       "model_id": "2edf217733504d20b6d97bbc6acf3a15"
      }
     },
     "metadata": {},
     "output_type": "display_data"
    },
    {
     "name": "stdout",
     "output_type": "stream",
     "text": [
      "\n"
     ]
    },
    {
     "data": {
      "application/vnd.jupyter.widget-view+json": {
       "model_id": "71e6618d0ab84cbe9219a72c7efd8210"
      }
     },
     "metadata": {},
     "output_type": "display_data"
    },
    {
     "name": "stdout",
     "output_type": "stream",
     "text": [
      "\n",
      "\n",
      "Structure:\n",
      "\n",
      "- 'train':\n",
      "  - 'calcinosis'\n",
      "  - 'normal'\n",
      "- 'test':\n",
      "  - 'calcinosis'\n",
      "  - 'normal'\n"
     ]
    }
   ],
   "source": [
    "train_test = image_divvy(instance=opi,\n",
    "                         divvy_rule=my_divvy_rule,\n",
    "                         db_to_extract='records_db',\n",
    "                         action='ndarray',\n",
    "                         train_val_test_dict={'train': 0.8, 'test': 0.2})"
   ]
  },
  {
   "cell_type": "markdown",
   "metadata": {},
   "source": [
    "Before signing off, ``image_divvy()`` printed the structure of the nested dictionary it returned. <br>\n",
    "We can use this information to unpack the ``arrays`` nested within this data structure:"
   ]
  },
  {
   "cell_type": "code",
   "execution_count": 32,
   "metadata": {
    "collapsed": true
   },
   "outputs": [],
   "source": [
    "train_ca, test_ca = train_test['train']['calcinosis'], train_test['test']['calcinosis']\n",
    "train_norm, test_norm = train_test['train']['normal'], train_test['test']['normal']"
   ]
  },
  {
   "cell_type": "markdown",
   "metadata": {},
   "source": [
    "Now that our data has been neatly unpacked, we can look at the number of samples the procedure generated."
   ]
  },
  {
   "cell_type": "code",
   "execution_count": 33,
   "metadata": {},
   "outputs": [
    {
     "name": "stdout",
     "output_type": "stream",
     "text": [
      "Train: 522 | Test: 131\n"
     ]
    }
   ],
   "source": [
    "# Normal\n",
    "print(\"Train:\", len(train_norm), \"|\", \"Test:\", len(test_norm))"
   ]
  },
  {
   "cell_type": "code",
   "execution_count": 34,
   "metadata": {},
   "outputs": [
    {
     "name": "stdout",
     "output_type": "stream",
     "text": [
      "Train: 446 | Test: 112\n"
     ]
    }
   ],
   "source": [
    "# Calcinosis\n",
    "print(\"Train:\", len(train_ca), \"|\", \"Test:\", len(test_ca))"
   ]
  },
  {
   "cell_type": "markdown",
   "metadata": {},
   "source": [
    "Using the ``show_image()`` tool we imported above, we can take a quick at an image from each category."
   ]
  },
  {
   "cell_type": "code",
   "execution_count": 35,
   "metadata": {},
   "outputs": [
    {
     "data": {
      "text/plain": [
       "<matplotlib.image.AxesImage at 0x17d1b2198>"
      ]
     },
     "execution_count": 35,
     "metadata": {},
     "output_type": "execute_result"
    },
    {
     "data": {
      "image/png": "[encoded data removed]",
      "text/plain": [
       "<matplotlib.figure.Figure at 0x17e1c12e8>"
      ]
     },
     "metadata": {},
     "output_type": "display_data"
    }
   ],
   "source": [
    "# Normal\n",
    "show_image(train_norm[99])"
   ]
  },
  {
   "cell_type": "code",
   "execution_count": 36,
   "metadata": {},
   "outputs": [
    {
     "data": {
      "text/plain": [
       "<matplotlib.image.AxesImage at 0x17cf12860>"
      ]
     },
     "execution_count": 36,
     "metadata": {},
     "output_type": "execute_result"
    },
    {
     "data": {
      "image/png": "[encoded data removed]",
      "text/plain": [
       "<matplotlib.figure.Figure at 0x17cdcdc18>"
      ]
     },
     "metadata": {},
     "output_type": "display_data"
    }
   ],
   "source": [
    "# Calcinosis\n",
    "show_image(train_ca[104])"
   ]
  },
  {
   "cell_type": "markdown",
   "metadata": {
    "collapsed": true
   },
   "source": [
    "---"
   ]
  },
  {
   "cell_type": "markdown",
   "metadata": {},
   "source": [
    "Here we've explored how ``BioVida`` can be used to easily obtain and process data from the Open-i database. <br>\n",
    "\n",
    "In the next tutorial, we'll explore how ``BioVida`` can be used to gain access to a database with orders of magnitude more images.\n",
    "\n"
   ]
  },
  {
   "cell_type": "markdown",
   "metadata": {},
   "source": [
    "---"
   ]
  }
 ],
 "metadata": {
  "kernelspec": {
   "display_name": "Python 3",
   "language": "python",
   "name": "python3"
  },
  "language_info": {
   "codemirror_mode": {
    "name": "ipython",
    "version": 3
   },
   "file_extension": ".py",
   "mimetype": "text/x-python",
   "name": "python",
   "nbconvert_exporter": "python",
   "pygments_lexer": "ipython3",
   "version": "3.5.2"
  },
  "widgets": {
   "application/vnd.jupyter.widget-state+json": {
    "state": {
     "01159b9929044ec29e69908c012bd4cd": {
      "model_module": "jupyter-js-widgets",
      "model_module_version": "~2.1.4",
      "model_name": "LayoutModel",
      "state": {
       "_model_module_version": "~2.1.4",
       "_view_module_version": "~2.1.4"
      }
     },
     "016cd85f43de4f24ad5507665af1117b": {
      "model_module": "jupyter-js-widgets",
      "model_module_version": "~2.1.4",
      "model_name": "LayoutModel",
      "state": {
       "_model_module_version": "~2.1.4",
       "_view_module_version": "~2.1.4"
      }
     },
     "018df95717bb4e9ab4b0019b31eabe0f": {
      "model_module": "jupyter-js-widgets",
      "model_module_version": "~2.1.4",
      "model_name": "ProgressStyleModel",
      "state": {
       "_model_module_version": "~2.1.4",
       "_view_module_version": "~2.1.4"
      }
     },
     "01b6e3520b714e3f89b10d6d7d39d8d2": {
      "model_module": "jupyter-js-widgets",
      "model_module_version": "~2.1.4",
      "model_name": "ProgressStyleModel",
      "state": {
       "_model_module_version": "~2.1.4",
       "_view_module_version": "~2.1.4"
      }
     },
     "01d00abace8045ddb0f66187cea98aca": {
      "model_module": "jupyter-js-widgets",
      "model_module_version": "~2.1.4",
      "model_name": "LayoutModel",
      "state": {
       "_model_module_version": "~2.1.4",
       "_view_module_version": "~2.1.4"
      }
     },
     "02746672971b47f6b7b298d50d9d87bd": {
      "model_module": "jupyter-js-widgets",
      "model_module_version": "~2.1.4",
      "model_name": "ProgressStyleModel",
      "state": {
       "_model_module_version": "~2.1.4",
       "_view_module_version": "~2.1.4"
      }
     },
     "037408f132284b9dbd68c71980160212": {
      "model_module": "jupyter-js-widgets",
      "model_module_version": "~2.1.4",
      "model_name": "LayoutModel",
      "state": {
       "_model_module_version": "~2.1.4",
       "_view_module_version": "~2.1.4"
      }
     },
     "03a5304e9775448d97a9f6d53ff29a9d": {
      "model_module": "jupyter-js-widgets",
      "model_module_version": "~2.1.4",
      "model_name": "HBoxModel",
      "state": {
       "_model_module_version": "~2.1.4",
       "_view_module_version": "~2.1.4",
       "children": [
        "IPY_MODEL_d11d4fb88d864fe785cede528dc496d3",
        "IPY_MODEL_dc353ec20f4b419383c5bd0de16e12fd"
       ],
       "layout": "IPY_MODEL_ac07a778043144d99272c4c5d925ca25"
      }
     },
     "03d7ab4cc2fd421c887aa35cab2dbec7": {
      "model_module": "jupyter-js-widgets",
      "model_module_version": "~2.1.4",
      "model_name": "LayoutModel",
      "state": {
       "_model_module_version": "~2.1.4",
       "_view_module_version": "~2.1.4"
      }
     },
     "05db537f95aa4f08823311d5b9162a45": {
      "model_module": "jupyter-js-widgets",
      "model_module_version": "~2.1.4",
      "model_name": "LayoutModel",
      "state": {
       "_model_module_version": "~2.1.4",
       "_view_module_version": "~2.1.4"
      }
     },
     "0734bbe231284743b189182a9ef1e482": {
      "model_module": "jupyter-js-widgets",
      "model_module_version": "~2.1.4",
      "model_name": "ProgressStyleModel",
      "state": {
       "_model_module_version": "~2.1.4",
       "_view_module_version": "~2.1.4"
      }
     },
     "0b26d0c04f1a44a3bc57ddee0145a173": {
      "model_module": "jupyter-js-widgets",
      "model_module_version": "~2.1.4",
      "model_name": "LayoutModel",
      "state": {
       "_model_module_version": "~2.1.4",
       "_view_module_version": "~2.1.4"
      }
     },
     "0b3b36745c9148168979626dcbdd259f": {
      "model_module": "jupyter-js-widgets",
      "model_module_version": "~2.1.4",
      "model_name": "ProgressStyleModel",
      "state": {
       "_model_module_version": "~2.1.4",
       "_view_module_version": "~2.1.4"
      }
     },
     "0b8d80c0d1dc49828dbc8a5191ae72fd": {
      "model_module": "jupyter-js-widgets",
      "model_module_version": "~2.1.4",
      "model_name": "LayoutModel",
      "state": {
       "_model_module_version": "~2.1.4",
       "_view_module_version": "~2.1.4"
      }
     },
     "0b9eb3d3c97145d9b1fee4a658c07baa": {
      "model_module": "jupyter-js-widgets",
      "model_module_version": "~2.1.4",
      "model_name": "HTMLModel",
      "state": {
       "_model_module_version": "~2.1.4",
       "_view_module_version": "~2.1.4",
       "layout": "IPY_MODEL_01159b9929044ec29e69908c012bd4cd",
       "value": "  6% 3/50 [00:06&lt;01:43,  2.20s/it]"
      }
     },
     "0d11a0acf7d14248a6a5dc0c84d09d18": {
      "model_module": "jupyter-js-widgets",
      "model_module_version": "~2.1.4",
      "model_name": "LayoutModel",
      "state": {
       "_model_module_version": "~2.1.4",
       "_view_module_version": "~2.1.4"
      }
     },
     "0e46091f554e44f4aa7b8680020a3513": {
      "model_module": "jupyter-js-widgets",
      "model_module_version": "~2.1.4",
      "model_name": "LayoutModel",
      "state": {
       "_model_module_version": "~2.1.4",
       "_view_module_version": "~2.1.4"
      }
     },
     "0eb353726a1a417f8d9834977a5afc96": {
      "model_module": "jupyter-js-widgets",
      "model_module_version": "~2.1.4",
      "model_name": "HBoxModel",
      "state": {
       "_model_module_version": "~2.1.4",
       "_view_module_version": "~2.1.4",
       "children": [
        "IPY_MODEL_2e39e3b109f6447b96608d60973e423c",
        "IPY_MODEL_8aa4ea5a223c475c81dfc2bf71709df7"
       ],
       "layout": "IPY_MODEL_d3f94f3381da4ab794b32137605b1390"
      }
     },
     "0f47a4f7d6ad4188b3968eed31d0fe05": {
      "model_module": "jupyter-js-widgets",
      "model_module_version": "~2.1.4",
      "model_name": "LayoutModel",
      "state": {
       "_model_module_version": "~2.1.4",
       "_view_module_version": "~2.1.4"
      }
     },
     "0fc8eac31ec8493ca38511d4a5106822": {
      "model_module": "jupyter-js-widgets",
      "model_module_version": "~2.1.4",
      "model_name": "HBoxModel",
      "state": {
       "_model_module_version": "~2.1.4",
       "_view_module_version": "~2.1.4",
       "children": [
        "IPY_MODEL_8e6a705898a84e63931eb56cf57f1503",
        "IPY_MODEL_1378ac83ad7e45bd89fe0410c712a069"
       ],
       "layout": "IPY_MODEL_af1f5d446dd341378f9a880067dc83ad"
      }
     },
     "102f7f1b4e3c45dbb4f2b627885adde1": {
      "model_module": "jupyter-js-widgets",
      "model_module_version": "~2.1.4",
      "model_name": "HTMLModel",
      "state": {
       "_model_module_version": "~2.1.4",
       "_view_module_version": "~2.1.4",
       "layout": "IPY_MODEL_856026fa6766467b9195baed131da971",
       "value": "100% 7470/7470 [00:01&lt;00:00, 5396.75it/s]"
      }
     },
     "1042174c02e84d42a465177df309ea95": {
      "model_module": "jupyter-js-widgets",
      "model_module_version": "~2.1.4",
      "model_name": "ProgressStyleModel",
      "state": {
       "_model_module_version": "~2.1.4",
       "_view_module_version": "~2.1.4"
      }
     },
     "1063a3b579284ced9c34745239bf102b": {
      "model_module": "jupyter-js-widgets",
      "model_module_version": "~2.1.4",
      "model_name": "HBoxModel",
      "state": {
       "_model_module_version": "~2.1.4",
       "_view_module_version": "~2.1.4",
       "children": [
        "IPY_MODEL_cf497d4cb575433793e34d8cfd15c939",
        "IPY_MODEL_e6fc3462df6f4ab291b317acb6a598ff"
       ],
       "layout": "IPY_MODEL_983127ae61ea40328172fac298ca3815"
      }
     },
     "10a4660a7e1b433eba5d530a47961145": {
      "model_module": "jupyter-js-widgets",
      "model_module_version": "~2.1.4",
      "model_name": "HTMLModel",
      "state": {
       "_model_module_version": "~2.1.4",
       "_view_module_version": "~2.1.4",
       "layout": "IPY_MODEL_d0e5d2931a0f4e119e5bb79ce210b29d",
       "value": "100% 1500/1500 [00:05&lt;00:00, 263.58it/s]"
      }
     },
     "1378ac83ad7e45bd89fe0410c712a069": {
      "model_module": "jupyter-js-widgets",
      "model_module_version": "~2.1.4",
      "model_name": "HTMLModel",
      "state": {
       "_model_module_version": "~2.1.4",
       "_view_module_version": "~2.1.4",
       "layout": "IPY_MODEL_d1d9090d4c2d47d3ab4cdea27b97830d",
       "value": "100% 1500/1500 [00:17&lt;00:00, 86.09it/s]"
      }
     },
     "14ba2cb8622a4dcf9de527929401166f": {
      "model_module": "jupyter-js-widgets",
      "model_module_version": "~2.1.4",
      "model_name": "LayoutModel",
      "state": {
       "_model_module_version": "~2.1.4",
       "_view_module_version": "~2.1.4"
      }
     },
     "15298daa5e134adea829aa7857d96db1": {
      "model_module": "jupyter-js-widgets",
      "model_module_version": "~2.1.4",
      "model_name": "HBoxModel",
      "state": {
       "_model_module_version": "~2.1.4",
       "_view_module_version": "~2.1.4",
       "children": [
        "IPY_MODEL_e2ca08622ea14271ac56a4e1205173f6",
        "IPY_MODEL_2f6123bc636543f6bf330ae5e3997e68"
       ],
       "layout": "IPY_MODEL_4c423fbfcdde4045b8c691912e8914e3"
      }
     },
     "159c0fe4fddc40f1b931234dcbda9545": {
      "model_module": "jupyter-js-widgets",
      "model_module_version": "~2.1.4",
      "model_name": "LayoutModel",
      "state": {
       "_model_module_version": "~2.1.4",
       "_view_module_version": "~2.1.4"
      }
     },
     "15fdf28d173e483ca9abb4df14d4485d": {
      "model_module": "jupyter-js-widgets",
      "model_module_version": "~2.1.4",
      "model_name": "LayoutModel",
      "state": {
       "_model_module_version": "~2.1.4",
       "_view_module_version": "~2.1.4"
      }
     },
     "168c638992b34630ba58001a5438732b": {
      "model_module": "jupyter-js-widgets",
      "model_module_version": "~2.1.4",
      "model_name": "ProgressModel",
      "state": {
       "_model_module_version": "~2.1.4",
       "_view_module_version": "~2.1.4",
       "bar_style": "success",
       "description": "Obtaining Records: ",
       "layout": "IPY_MODEL_edebaff18ddf42078c94dd1920d72132",
       "max": 50,
       "style": "IPY_MODEL_9c4c73f519c24c6d9a4ca1b02d776b7e",
       "value": 50
      }
     },
     "19836cb56555454ca219a2f498625b4f": {
      "model_module": "jupyter-js-widgets",
      "model_module_version": "~2.1.4",
      "model_name": "ProgressModel",
      "state": {
       "_model_module_version": "~2.1.4",
       "_view_module_version": "~2.1.4",
       "bar_style": "success",
       "description": "Obtaining Images: ",
       "layout": "IPY_MODEL_c5b0ba10af2e435285c56f20221fd58e",
       "max": 7470,
       "style": "IPY_MODEL_a74c3c6d2348437b8e7b71cb5caefd05",
       "value": 7470
      }
     },
     "1a1991e50d124019a47e1b16602fd142": {
      "model_module": "jupyter-js-widgets",
      "model_module_version": "~2.1.4",
      "model_name": "LayoutModel",
      "state": {
       "_model_module_version": "~2.1.4",
       "_view_module_version": "~2.1.4"
      }
     },
     "1b4aa691c98046d8a625743e1984a23d": {
      "model_module": "jupyter-js-widgets",
      "model_module_version": "~2.1.4",
      "model_name": "ProgressStyleModel",
      "state": {
       "_model_module_version": "~2.1.4",
       "_view_module_version": "~2.1.4"
      }
     },
     "1c0282929062426ab3ba01857f02cd23": {
      "model_module": "jupyter-js-widgets",
      "model_module_version": "~2.1.4",
      "model_name": "LayoutModel",
      "state": {
       "_model_module_version": "~2.1.4",
       "_view_module_version": "~2.1.4"
      }
     },
     "1f5569967dac43c6bbec37a220d7506c": {
      "model_module": "jupyter-js-widgets",
      "model_module_version": "~2.1.4",
      "model_name": "HBoxModel",
      "state": {
       "_model_module_version": "~2.1.4",
       "_view_module_version": "~2.1.4",
       "children": [
        "IPY_MODEL_eaf9f67b82de4ba0873f1dfc116fefa3",
        "IPY_MODEL_f0bd2f0286ac47e88ddb5901fc8d0101"
       ],
       "layout": "IPY_MODEL_63ed6e8e4619456c8b7ae90f59b28c39"
      }
     },
     "2068e2d61c66495190198b1211a2f8e6": {
      "model_module": "jupyter-js-widgets",
      "model_module_version": "~2.1.4",
      "model_name": "LayoutModel",
      "state": {
       "_model_module_version": "~2.1.4",
       "_view_module_version": "~2.1.4"
      }
     },
     "20e533109d4d4288ad2fffa29f1df2aa": {
      "model_module": "jupyter-js-widgets",
      "model_module_version": "~2.1.4",
      "model_name": "HTMLModel",
      "state": {
       "_model_module_version": "~2.1.4",
       "_view_module_version": "~2.1.4",
       "layout": "IPY_MODEL_d0c23d5d8f504c8485db0ec06cd0c04d",
       "value": "100% 7470/7470 [00:01&lt;00:00, 6546.05it/s]"
      }
     },
     "211eed4fb9514233af8a8d344206abdc": {
      "model_module": "jupyter-js-widgets",
      "model_module_version": "~2.1.4",
      "model_name": "LayoutModel",
      "state": {
       "_model_module_version": "~2.1.4",
       "_view_module_version": "~2.1.4"
      }
     },
     "21a12acf43574f928e136e21a6dd3a7a": {
      "model_module": "jupyter-js-widgets",
      "model_module_version": "~2.1.4",
      "model_name": "ProgressStyleModel",
      "state": {
       "_model_module_version": "~2.1.4",
       "_view_module_version": "~2.1.4"
      }
     },
     "22b353342086488e99b4641b4b888a0c": {
      "model_module": "jupyter-js-widgets",
      "model_module_version": "~2.1.4",
      "model_name": "LayoutModel",
      "state": {
       "_model_module_version": "~2.1.4",
       "_view_module_version": "~2.1.4"
      }
     },
     "232412ae25524eae83626a5b23900a4c": {
      "model_module": "jupyter-js-widgets",
      "model_module_version": "~2.1.4",
      "model_name": "ProgressModel",
      "state": {
       "_model_module_version": "~2.1.4",
       "_view_module_version": "~2.1.4",
       "bar_style": "success",
       "description": "Applying Divvy Rule: ",
       "layout": "IPY_MODEL_016cd85f43de4f24ad5507665af1117b",
       "max": 7470,
       "style": "IPY_MODEL_9a4f485aa072400d8afac2b068dd9d2a",
       "value": 7470
      }
     },
     "23d5921d1c4a49969c3c619bec3bafe7": {
      "model_module": "jupyter-js-widgets",
      "model_module_version": "~2.1.4",
      "model_name": "ProgressStyleModel",
      "state": {
       "_model_module_version": "~2.1.4",
       "_view_module_version": "~2.1.4"
      }
     },
     "25aeed2111cd402283162109a3bc20e3": {
      "model_module": "jupyter-js-widgets",
      "model_module_version": "~2.1.4",
      "model_name": "LayoutModel",
      "state": {
       "_model_module_version": "~2.1.4",
       "_view_module_version": "~2.1.4"
      }
     },
     "273a7523cb8a4647bc02d835130d7976": {
      "model_module": "jupyter-js-widgets",
      "model_module_version": "~2.1.4",
      "model_name": "ProgressStyleModel",
      "state": {
       "_model_module_version": "~2.1.4",
       "_view_module_version": "~2.1.4"
      }
     },
     "2780d240b67d48bd88c574d6ac9a3eb7": {
      "model_module": "jupyter-js-widgets",
      "model_module_version": "~2.1.4",
      "model_name": "ProgressModel",
      "state": {
       "_model_module_version": "~2.1.4",
       "_view_module_version": "~2.1.4",
       "bar_style": "success",
       "description": "Grayscale Analysis: ",
       "layout": "IPY_MODEL_d1955e3fd9da4d14b177c34762076307",
       "max": 1500,
       "style": "IPY_MODEL_84bdab5d5ba2479f9a1edc61bd25a937",
       "value": 1500
      }
     },
     "291b62f0d50d4fa29f071e7fd4d1c930": {
      "model_module": "jupyter-js-widgets",
      "model_module_version": "~2.1.4",
      "model_name": "LayoutModel",
      "state": {
       "_model_module_version": "~2.1.4",
       "_view_module_version": "~2.1.4"
      }
     },
     "2b2996b5d89049f39dab9702ae2951d7": {
      "model_module": "jupyter-js-widgets",
      "model_module_version": "~2.1.4",
      "model_name": "LayoutModel",
      "state": {
       "_model_module_version": "~2.1.4",
       "_view_module_version": "~2.1.4"
      }
     },
     "2c0ba9f0b1e447d6b172286bcc79a07c": {
      "model_module": "jupyter-js-widgets",
      "model_module_version": "~2.1.4",
      "model_name": "ProgressModel",
      "state": {
       "_model_module_version": "~2.1.4",
       "_view_module_version": "~2.1.4",
       "description": "Border Analysis: ",
       "layout": "IPY_MODEL_05db537f95aa4f08823311d5b9162a45",
       "max": 1500,
       "style": "IPY_MODEL_c0afa36cddbe4d668f84bbece5b59aa7",
       "value": 431
      }
     },
     "2c1cde004bc14f2babe5b13db9aa590b": {
      "model_module": "jupyter-js-widgets",
      "model_module_version": "~2.1.4",
      "model_name": "ProgressModel",
      "state": {
       "_model_module_version": "~2.1.4",
       "_view_module_version": "~2.1.4",
       "bar_style": "success",
       "description": "Generating ndarrays: ",
       "layout": "IPY_MODEL_e642da3da47240f3ab0b3ff100bc8a5a",
       "max": 2,
       "style": "IPY_MODEL_846a69fced3545fd853bfdaecae59e2c",
       "value": 2
      }
     },
     "2c349e193d0c440f9e0c6fb36d1c3ca6": {
      "model_module": "jupyter-js-widgets",
      "model_module_version": "~2.1.4",
      "model_name": "ProgressStyleModel",
      "state": {
       "_model_module_version": "~2.1.4",
       "_view_module_version": "~2.1.4"
      }
     },
     "2ce7da1a0e8d4c6f9acc20d0d06a5ecb": {
      "model_module": "jupyter-js-widgets",
      "model_module_version": "~2.1.4",
      "model_name": "ProgressModel",
      "state": {
       "_model_module_version": "~2.1.4",
       "_view_module_version": "~2.1.4",
       "bar_style": "success",
       "description": "Preparing Images: ",
       "layout": "IPY_MODEL_6d84d7caf1a845e69f8c217a5288e5bd",
       "max": 1500,
       "style": "IPY_MODEL_bcdef36fb5594e25960ac85761178483",
       "value": 1500
      }
     },
     "2e39e3b109f6447b96608d60973e423c": {
      "model_module": "jupyter-js-widgets",
      "model_module_version": "~2.1.4",
      "model_name": "ProgressModel",
      "state": {
       "_model_module_version": "~2.1.4",
       "_view_module_version": "~2.1.4",
       "bar_style": "success",
       "description": "Processing Records: ",
       "layout": "IPY_MODEL_b617044ff6c542649a419a5908ce623d",
       "max": 7470,
       "style": "IPY_MODEL_018df95717bb4e9ab4b0019b31eabe0f",
       "value": 7470
      }
     },
     "2edf217733504d20b6d97bbc6acf3a15": {
      "model_module": "jupyter-js-widgets",
      "model_module_version": "~2.1.4",
      "model_name": "HBoxModel",
      "state": {
       "_model_module_version": "~2.1.4",
       "_view_module_version": "~2.1.4",
       "children": [
        "IPY_MODEL_764ad5dbd71b420f954e6b3617cca876",
        "IPY_MODEL_102f7f1b4e3c45dbb4f2b627885adde1"
       ],
       "layout": "IPY_MODEL_e0c7e9124739474fb6b5fd0aaa04e8fa"
      }
     },
     "2f6123bc636543f6bf330ae5e3997e68": {
      "model_module": "jupyter-js-widgets",
      "model_module_version": "~2.1.4",
      "model_name": "HTMLModel",
      "state": {
       "_model_module_version": "~2.1.4",
       "_view_module_version": "~2.1.4",
       "layout": "IPY_MODEL_923e39977de14074a31400ebd6f6ab47",
       "value": "100% 1500/1500 [00:17&lt;00:00, 85.02it/s]"
      }
     },
     "303dd6436ecb401cbd52f97e00800c38": {
      "model_module": "jupyter-js-widgets",
      "model_module_version": "~2.1.4",
      "model_name": "LayoutModel",
      "state": {
       "_model_module_version": "~2.1.4",
       "_view_module_version": "~2.1.4"
      }
     },
     "332efed1f01347158d3a19874dc38332": {
      "model_module": "jupyter-js-widgets",
      "model_module_version": "~2.1.4",
      "model_name": "LayoutModel",
      "state": {
       "_model_module_version": "~2.1.4",
       "_view_module_version": "~2.1.4"
      }
     },
     "338f682a0a254909a9134c673fa59996": {
      "model_module": "jupyter-js-widgets",
      "model_module_version": "~2.1.4",
      "model_name": "HTMLModel",
      "state": {
       "_model_module_version": "~2.1.4",
       "_view_module_version": "~2.1.4",
       "layout": "IPY_MODEL_7d3d400da6214b38a7ce10ed6eea5be3",
       "value": "100% 1500/1500 [00:00&lt;00:00, 12913.10it/s]"
      }
     },
     "34cde1d98786478aa6bec723e6448f70": {
      "model_module": "jupyter-js-widgets",
      "model_module_version": "~2.1.4",
      "model_name": "LayoutModel",
      "state": {
       "_model_module_version": "~2.1.4",
       "_view_module_version": "~2.1.4"
      }
     },
     "34dcbee8adef4bc2846634239786ccb2": {
      "model_module": "jupyter-js-widgets",
      "model_module_version": "~2.1.4",
      "model_name": "HTMLModel",
      "state": {
       "_model_module_version": "~2.1.4",
       "_view_module_version": "~2.1.4",
       "layout": "IPY_MODEL_303dd6436ecb401cbd52f97e00800c38",
       "value": "100% 2/2 [00:15&lt;00:00,  9.75s/it]"
      }
     },
     "3534174dd9fc49df95f934396ccfe988": {
      "model_module": "jupyter-js-widgets",
      "model_module_version": "~2.1.4",
      "model_name": "HTMLModel",
      "state": {
       "_model_module_version": "~2.1.4",
       "_view_module_version": "~2.1.4",
       "layout": "IPY_MODEL_211eed4fb9514233af8a8d344206abdc",
       "value": "100% 1500/1500 [00:11&lt;00:00, 128.29it/s]"
      }
     },
     "35d6e00e83bc470eacbbf05454aece78": {
      "model_module": "jupyter-js-widgets",
      "model_module_version": "~2.1.4",
      "model_name": "ProgressStyleModel",
      "state": {
       "_model_module_version": "~2.1.4",
       "_view_module_version": "~2.1.4"
      }
     },
     "373e9f36d479411698cd57b55e98bdc0": {
      "model_module": "jupyter-js-widgets",
      "model_module_version": "~2.1.4",
      "model_name": "HBoxModel",
      "state": {
       "_model_module_version": "~2.1.4",
       "_view_module_version": "~2.1.4",
       "children": [
        "IPY_MODEL_2780d240b67d48bd88c574d6ac9a3eb7",
        "IPY_MODEL_a56ee4f78c0d4f0bb1a76f8299246c0d"
       ],
       "layout": "IPY_MODEL_714c7cdf30da4a729e1ae8e30509af2c"
      }
     },
     "38d0a6f867524e10b2bfb068eac1adce": {
      "model_module": "jupyter-js-widgets",
      "model_module_version": "~2.1.4",
      "model_name": "LayoutModel",
      "state": {
       "_model_module_version": "~2.1.4",
       "_view_module_version": "~2.1.4"
      }
     },
     "396cf9832eba4af7b34ce76bc42e86e9": {
      "model_module": "jupyter-js-widgets",
      "model_module_version": "~2.1.4",
      "model_name": "ProgressStyleModel",
      "state": {
       "_model_module_version": "~2.1.4",
       "_view_module_version": "~2.1.4"
      }
     },
     "3ca41654ea7f4aab9626d85fa1072951": {
      "model_module": "jupyter-js-widgets",
      "model_module_version": "~2.1.4",
      "model_name": "LayoutModel",
      "state": {
       "_model_module_version": "~2.1.4",
       "_view_module_version": "~2.1.4"
      }
     },
     "3cb4c19572314694bfd8037507184864": {
      "model_module": "jupyter-js-widgets",
      "model_module_version": "~2.1.4",
      "model_name": "HBoxModel",
      "state": {
       "_model_module_version": "~2.1.4",
       "_view_module_version": "~2.1.4",
       "children": [
        "IPY_MODEL_a189b38aa4864ae5b6681130dee7a0db",
        "IPY_MODEL_624fd0a3f1914cacbe670e78130c0e00"
       ],
       "layout": "IPY_MODEL_89770b6b56f448cb912e5eaf9d25204d"
      }
     },
     "3f0ba31fcb294da292e66e05964d9b1e": {
      "model_module": "jupyter-js-widgets",
      "model_module_version": "~2.1.4",
      "model_name": "ProgressModel",
      "state": {
       "_model_module_version": "~2.1.4",
       "_view_module_version": "~2.1.4",
       "bar_style": "success",
       "description": "Processing Records: ",
       "layout": "IPY_MODEL_cb6e45177bb44d4687060e477ea5e20b",
       "max": 1500,
       "style": "IPY_MODEL_df61bf4d805d49f782e7766c09b5c422",
       "value": 1500
      }
     },
     "401efb7ad8f64939a634b25164364607": {
      "model_module": "jupyter-js-widgets",
      "model_module_version": "~2.1.4",
      "model_name": "HBoxModel",
      "state": {
       "_model_module_version": "~2.1.4",
       "_view_module_version": "~2.1.4",
       "children": [
        "IPY_MODEL_f9eee66fc7f04b479e2b60c126e25892",
        "IPY_MODEL_86d5bc5564e34adc84d97848be41c68c"
       ],
       "layout": "IPY_MODEL_b9e57b90e1764667a4f0b83788af82ab"
      }
     },
     "43898ac521b74fa2aeb9edbdc5cc5dc1": {
      "model_module": "jupyter-js-widgets",
      "model_module_version": "~2.1.4",
      "model_name": "LayoutModel",
      "state": {
       "_model_module_version": "~2.1.4",
       "_view_module_version": "~2.1.4"
      }
     },
     "46e4b84c7fef42ae8d2b914eab8f839c": {
      "model_module": "jupyter-js-widgets",
      "model_module_version": "~2.1.4",
      "model_name": "ProgressStyleModel",
      "state": {
       "_model_module_version": "~2.1.4",
       "_view_module_version": "~2.1.4"
      }
     },
     "4788d7cc63a54c1692732d83889f9e1e": {
      "model_module": "jupyter-js-widgets",
      "model_module_version": "~2.1.4",
      "model_name": "HTMLModel",
      "state": {
       "_model_module_version": "~2.1.4",
       "_view_module_version": "~2.1.4",
       "layout": "IPY_MODEL_7637085218414e5aa447f81edfa1aaab",
       "value": "100% 2/2 [00:15&lt;00:00,  9.83s/it]"
      }
     },
     "4a4159f6b29e4af39d36368a4781628f": {
      "model_module": "jupyter-js-widgets",
      "model_module_version": "~2.1.4",
      "model_name": "HTMLModel",
      "state": {
       "_model_module_version": "~2.1.4",
       "_view_module_version": "~2.1.4",
       "layout": "IPY_MODEL_22b353342086488e99b4641b4b888a0c",
       "value": "100% 1500/1500 [00:05&lt;00:00, 259.39it/s]"
      }
     },
     "4a806fbe908f4321bae745566eb8c635": {
      "model_module": "jupyter-js-widgets",
      "model_module_version": "~2.1.4",
      "model_name": "HBoxModel",
      "state": {
       "_model_module_version": "~2.1.4",
       "_view_module_version": "~2.1.4",
       "children": [
        "IPY_MODEL_5dbd6da2d887485f87f30579a5192208",
        "IPY_MODEL_6fcadbc55e6b4cdab9e97cc10b44b65d"
       ],
       "layout": "IPY_MODEL_77fe2b413dd24b35904083dabbdff552"
      }
     },
     "4c423fbfcdde4045b8c691912e8914e3": {
      "model_module": "jupyter-js-widgets",
      "model_module_version": "~2.1.4",
      "model_name": "LayoutModel",
      "state": {
       "_model_module_version": "~2.1.4",
       "_view_module_version": "~2.1.4"
      }
     },
     "4c6572e5c87546d29f61ae89de304b95": {
      "model_module": "jupyter-js-widgets",
      "model_module_version": "~2.1.4",
      "model_name": "ProgressStyleModel",
      "state": {
       "_model_module_version": "~2.1.4",
       "_view_module_version": "~2.1.4"
      }
     },
     "4d88706b586c48cc90230160cc3062e4": {
      "model_module": "jupyter-js-widgets",
      "model_module_version": "~2.1.4",
      "model_name": "HBoxModel",
      "state": {
       "_model_module_version": "~2.1.4",
       "_view_module_version": "~2.1.4",
       "children": [
        "IPY_MODEL_7142db923863420cbafe77929021fbb9",
        "IPY_MODEL_872d526ab3d0491ab27bc336108cf5a4"
       ],
       "layout": "IPY_MODEL_15fdf28d173e483ca9abb4df14d4485d"
      }
     },
     "4f104b6b5db6420b8bbf4a094302d6ec": {
      "model_module": "jupyter-js-widgets",
      "model_module_version": "~2.1.4",
      "model_name": "HTMLModel",
      "state": {
       "_model_module_version": "~2.1.4",
       "_view_module_version": "~2.1.4",
       "layout": "IPY_MODEL_8d2d5f4f24bc4923a6488d18455335fd",
       "value": "100% 1500/1500 [00:00&lt;00:00, 12955.27it/s]"
      }
     },
     "4f73b172550748dab77b2a3402d27d57": {
      "model_module": "jupyter-js-widgets",
      "model_module_version": "~2.1.4",
      "model_name": "LayoutModel",
      "state": {
       "_model_module_version": "~2.1.4",
       "_view_module_version": "~2.1.4"
      }
     },
     "4f908b901cbc4e4780b2b73818c48c7a": {
      "model_module": "jupyter-js-widgets",
      "model_module_version": "~2.1.4",
      "model_name": "LayoutModel",
      "state": {
       "_model_module_version": "~2.1.4",
       "_view_module_version": "~2.1.4"
      }
     },
     "50e23aa217cb4fc18848852a7d709f18": {
      "model_module": "jupyter-js-widgets",
      "model_module_version": "~2.1.4",
      "model_name": "HBoxModel",
      "state": {
       "_model_module_version": "~2.1.4",
       "_view_module_version": "~2.1.4",
       "children": [
        "IPY_MODEL_232412ae25524eae83626a5b23900a4c",
        "IPY_MODEL_20e533109d4d4288ad2fffa29f1df2aa"
       ],
       "layout": "IPY_MODEL_159c0fe4fddc40f1b931234dcbda9545"
      }
     },
     "516358aff7da49ca83a518d0e6dc06a0": {
      "model_module": "jupyter-js-widgets",
      "model_module_version": "~2.1.4",
      "model_name": "LayoutModel",
      "state": {
       "_model_module_version": "~2.1.4",
       "_view_module_version": "~2.1.4"
      }
     },
     "517d200b2b794aac8421d938b9dbe19b": {
      "model_module": "jupyter-js-widgets",
      "model_module_version": "~2.1.4",
      "model_name": "LayoutModel",
      "state": {
       "_model_module_version": "~2.1.4",
       "_view_module_version": "~2.1.4"
      }
     },
     "5512c9903e9c4aabb63ffce562361122": {
      "model_module": "jupyter-js-widgets",
      "model_module_version": "~2.1.4",
      "model_name": "ProgressStyleModel",
      "state": {
       "_model_module_version": "~2.1.4",
       "_view_module_version": "~2.1.4"
      }
     },
     "5518d8f49ae64087b4e3b71b4b1596a1": {
      "model_module": "jupyter-js-widgets",
      "model_module_version": "~2.1.4",
      "model_name": "LayoutModel",
      "state": {
       "_model_module_version": "~2.1.4",
       "_view_module_version": "~2.1.4"
      }
     },
     "58a5d1c0560a4f9b937adb596798f06e": {
      "model_module": "jupyter-js-widgets",
      "model_module_version": "~2.1.4",
      "model_name": "HBoxModel",
      "state": {
       "_model_module_version": "~2.1.4",
       "_view_module_version": "~2.1.4",
       "children": [
        "IPY_MODEL_77d976a547e947f19e9cbbb9c80b5577",
        "IPY_MODEL_338f682a0a254909a9134c673fa59996"
       ],
       "layout": "IPY_MODEL_b7dbe08809b64815b0e6715276cc5131"
      }
     },
     "5ab32ba646c44b8391aa6d105e83919b": {
      "model_module": "jupyter-js-widgets",
      "model_module_version": "~2.1.4",
      "model_name": "ProgressStyleModel",
      "state": {
       "_model_module_version": "~2.1.4",
       "_view_module_version": "~2.1.4"
      }
     },
     "5bf51c1d96884d339fc7a02770ed884b": {
      "model_module": "jupyter-js-widgets",
      "model_module_version": "~2.1.4",
      "model_name": "LayoutModel",
      "state": {
       "_model_module_version": "~2.1.4",
       "_view_module_version": "~2.1.4"
      }
     },
     "5c149e7b2e6f4fd597db59f9ffbbc1b5": {
      "model_module": "jupyter-js-widgets",
      "model_module_version": "~2.1.4",
      "model_name": "LayoutModel",
      "state": {
       "_model_module_version": "~2.1.4",
       "_view_module_version": "~2.1.4"
      }
     },
     "5d21395f5b6f42dcb104eb127b837264": {
      "model_module": "jupyter-js-widgets",
      "model_module_version": "~2.1.4",
      "model_name": "ProgressModel",
      "state": {
       "_model_module_version": "~2.1.4",
       "_view_module_version": "~2.1.4",
       "bar_style": "success",
       "description": "Preparing Images: ",
       "layout": "IPY_MODEL_a979d92f9e6c4233925f4c3f58f4cc1f",
       "max": 1500,
       "style": "IPY_MODEL_9dfa96be008f45d7b9deb7c8ed23bee6",
       "value": 1500
      }
     },
     "5dbd6da2d887485f87f30579a5192208": {
      "model_module": "jupyter-js-widgets",
      "model_module_version": "~2.1.4",
      "model_name": "ProgressModel",
      "state": {
       "_model_module_version": "~2.1.4",
       "_view_module_version": "~2.1.4",
       "bar_style": "success",
       "description": "Obtaining Images: ",
       "layout": "IPY_MODEL_1c0282929062426ab3ba01857f02cd23",
       "max": 1500,
       "style": "IPY_MODEL_f3a19b2da44041609b862a72636bb156",
       "value": 1500
      }
     },
     "5e766801203b4ba2ab748a05bf0be460": {
      "model_module": "jupyter-js-widgets",
      "model_module_version": "~2.1.4",
      "model_name": "LayoutModel",
      "state": {
       "_model_module_version": "~2.1.4",
       "_view_module_version": "~2.1.4"
      }
     },
     "5e8f8083e64c4e4394ad6ba81d2cb93d": {
      "model_module": "jupyter-js-widgets",
      "model_module_version": "~2.1.4",
      "model_name": "HBoxModel",
      "state": {
       "_model_module_version": "~2.1.4",
       "_view_module_version": "~2.1.4",
       "children": [
        "IPY_MODEL_91bb85d0bbe24ea3aed881ec4a1edf73",
        "IPY_MODEL_c2a2c2871fe548788f1197d4bf35817f"
       ],
       "layout": "IPY_MODEL_8046c669ac2e46369fcb11a77a76212c"
      }
     },
     "610f2a04886d4706b57b34c585e3f447": {
      "model_module": "jupyter-js-widgets",
      "model_module_version": "~2.1.4",
      "model_name": "HBoxModel",
      "state": {
       "_model_module_version": "~2.1.4",
       "_view_module_version": "~2.1.4",
       "children": [
        "IPY_MODEL_ae6564d44f0f45e58bac876e047ee131",
        "IPY_MODEL_4788d7cc63a54c1692732d83889f9e1e"
       ],
       "layout": "IPY_MODEL_1a1991e50d124019a47e1b16602fd142"
      }
     },
     "624fd0a3f1914cacbe670e78130c0e00": {
      "model_module": "jupyter-js-widgets",
      "model_module_version": "~2.1.4",
      "model_name": "HTMLModel",
      "state": {
       "_model_module_version": "~2.1.4",
       "_view_module_version": "~2.1.4",
       "layout": "IPY_MODEL_01d00abace8045ddb0f66187cea98aca",
       "value": "100% 1500/1500 [00:00&lt;00:00, 13677.88it/s]"
      }
     },
     "6366d17367e64b4eb6db84788a47b120": {
      "model_module": "jupyter-js-widgets",
      "model_module_version": "~2.1.4",
      "model_name": "ProgressModel",
      "state": {
       "_model_module_version": "~2.1.4",
       "_view_module_version": "~2.1.4",
       "bar_style": "success",
       "description": "Border Analysis: ",
       "layout": "IPY_MODEL_f7c5cfe7107546df969ed18089064518",
       "max": 1500,
       "style": "IPY_MODEL_0734bbe231284743b189182a9ef1e482",
       "value": 1500
      }
     },
     "63ed6e8e4619456c8b7ae90f59b28c39": {
      "model_module": "jupyter-js-widgets",
      "model_module_version": "~2.1.4",
      "model_name": "LayoutModel",
      "state": {
       "_model_module_version": "~2.1.4",
       "_view_module_version": "~2.1.4"
      }
     },
     "648f76ccdd7d40fca14af07cfc4703f6": {
      "model_module": "jupyter-js-widgets",
      "model_module_version": "~2.1.4",
      "model_name": "ProgressModel",
      "state": {
       "_model_module_version": "~2.1.4",
       "_view_module_version": "~2.1.4",
       "bar_style": "success",
       "description": "Processing Records: ",
       "layout": "IPY_MODEL_3ca41654ea7f4aab9626d85fa1072951",
       "max": 7470,
       "style": "IPY_MODEL_1042174c02e84d42a465177df309ea95",
       "value": 7470
      }
     },
     "64a214881c4248d8ad122ae4edfaef12": {
      "model_module": "jupyter-js-widgets",
      "model_module_version": "~2.1.4",
      "model_name": "ProgressModel",
      "state": {
       "_model_module_version": "~2.1.4",
       "_view_module_version": "~2.1.4",
       "bar_style": "success",
       "description": "Cropping Images: ",
       "layout": "IPY_MODEL_81aa3b7061d54066829904638de163f1",
       "max": 209,
       "style": "IPY_MODEL_5512c9903e9c4aabb63ffce562361122",
       "value": 209
      }
     },
     "6781fe951ad140469da5f88fe80a32d4": {
      "model_module": "jupyter-js-widgets",
      "model_module_version": "~2.1.4",
      "model_name": "HTMLModel",
      "state": {
       "_model_module_version": "~2.1.4",
       "_view_module_version": "~2.1.4",
       "layout": "IPY_MODEL_38d0a6f867524e10b2bfb068eac1adce",
       "value": "100% 1500/1500 [00:39&lt;00:00, 37.78it/s]"
      }
     },
     "679ef3c8db7d4f59a52103fb2e0a85e7": {
      "model_module": "jupyter-js-widgets",
      "model_module_version": "~2.1.4",
      "model_name": "ProgressStyleModel",
      "state": {
       "_model_module_version": "~2.1.4",
       "_view_module_version": "~2.1.4"
      }
     },
     "67c092f8a78e4d07bd32508d71fbc428": {
      "model_module": "jupyter-js-widgets",
      "model_module_version": "~2.1.4",
      "model_name": "HTMLModel",
      "state": {
       "_model_module_version": "~2.1.4",
       "_view_module_version": "~2.1.4",
       "layout": "IPY_MODEL_dd549af04279466da50a946943afafd8",
       "value": "100% 7470/7470 [00:00&lt;00:00, 16010.01it/s]"
      }
     },
     "68878d57bb4a4337a6851bfe7d13a2ec": {
      "model_module": "jupyter-js-widgets",
      "model_module_version": "~2.1.4",
      "model_name": "ProgressStyleModel",
      "state": {
       "_model_module_version": "~2.1.4",
       "_view_module_version": "~2.1.4"
      }
     },
     "68ffff91448f4185a61dd628ee6d8d5d": {
      "model_module": "jupyter-js-widgets",
      "model_module_version": "~2.1.4",
      "model_name": "HBoxModel",
      "state": {
       "_model_module_version": "~2.1.4",
       "_view_module_version": "~2.1.4",
       "children": [
        "IPY_MODEL_168c638992b34630ba58001a5438732b",
        "IPY_MODEL_fecb6957ffa6432a9cdac2e0cfb017ef"
       ],
       "layout": "IPY_MODEL_332efed1f01347158d3a19874dc38332"
      }
     },
     "6d84d7caf1a845e69f8c217a5288e5bd": {
      "model_module": "jupyter-js-widgets",
      "model_module_version": "~2.1.4",
      "model_name": "LayoutModel",
      "state": {
       "_model_module_version": "~2.1.4",
       "_view_module_version": "~2.1.4"
      }
     },
     "6fcadbc55e6b4cdab9e97cc10b44b65d": {
      "model_module": "jupyter-js-widgets",
      "model_module_version": "~2.1.4",
      "model_name": "HTMLModel",
      "state": {
       "_model_module_version": "~2.1.4",
       "_view_module_version": "~2.1.4",
       "layout": "IPY_MODEL_f7cebf3fa1ee42fb89f4c7ab2e20d9f4",
       "value": "100% 1500/1500 [00:00&lt;00:00, 13229.38it/s]"
      }
     },
     "6ff142aeb41246dca488a701067d476d": {
      "model_module": "jupyter-js-widgets",
      "model_module_version": "~2.1.4",
      "model_name": "LayoutModel",
      "state": {
       "_model_module_version": "~2.1.4",
       "_view_module_version": "~2.1.4"
      }
     },
     "7142db923863420cbafe77929021fbb9": {
      "model_module": "jupyter-js-widgets",
      "model_module_version": "~2.1.4",
      "model_name": "ProgressModel",
      "state": {
       "_model_module_version": "~2.1.4",
       "_view_module_version": "~2.1.4",
       "bar_style": "success",
       "description": "Processing Records: ",
       "layout": "IPY_MODEL_87d2dcad61e841bca181ecf8391a69bd",
       "max": 1500,
       "style": "IPY_MODEL_82e9b2acc55e46dbb8391f44185381cc",
       "value": 1500
      }
     },
     "714c7cdf30da4a729e1ae8e30509af2c": {
      "model_module": "jupyter-js-widgets",
      "model_module_version": "~2.1.4",
      "model_name": "LayoutModel",
      "state": {
       "_model_module_version": "~2.1.4",
       "_view_module_version": "~2.1.4"
      }
     },
     "71e6618d0ab84cbe9219a72c7efd8210": {
      "model_module": "jupyter-js-widgets",
      "model_module_version": "~2.1.4",
      "model_name": "HBoxModel",
      "state": {
       "_model_module_version": "~2.1.4",
       "_view_module_version": "~2.1.4",
       "children": [
        "IPY_MODEL_2c1cde004bc14f2babe5b13db9aa590b",
        "IPY_MODEL_34dcbee8adef4bc2846634239786ccb2"
       ],
       "layout": "IPY_MODEL_fed607c019bb4802947fada8fbb5f4e4"
      }
     },
     "733d28e68f2a4b7fad52482636536dec": {
      "model_module": "jupyter-js-widgets",
      "model_module_version": "~2.1.4",
      "model_name": "LayoutModel",
      "state": {
       "_model_module_version": "~2.1.4",
       "_view_module_version": "~2.1.4"
      }
     },
     "74f6031c2c3547e596b76150ae98754c": {
      "model_module": "jupyter-js-widgets",
      "model_module_version": "~2.1.4",
      "model_name": "HBoxModel",
      "state": {
       "_model_module_version": "~2.1.4",
       "_view_module_version": "~2.1.4",
       "children": [
        "IPY_MODEL_eb52fb60697244daa2c416800d285533",
        "IPY_MODEL_ba944e59fb8241a88246803a3ac3241a"
       ],
       "layout": "IPY_MODEL_99c0194ff8db4ed4ad19b511262aa0d8"
      }
     },
     "7637085218414e5aa447f81edfa1aaab": {
      "model_module": "jupyter-js-widgets",
      "model_module_version": "~2.1.4",
      "model_name": "LayoutModel",
      "state": {
       "_model_module_version": "~2.1.4",
       "_view_module_version": "~2.1.4"
      }
     },
     "764ad5dbd71b420f954e6b3617cca876": {
      "model_module": "jupyter-js-widgets",
      "model_module_version": "~2.1.4",
      "model_name": "ProgressModel",
      "state": {
       "_model_module_version": "~2.1.4",
       "_view_module_version": "~2.1.4",
       "bar_style": "success",
       "description": "Applying Divvy Rule: ",
       "layout": "IPY_MODEL_e6dc348f50774e46bb170ccb10f6def1",
       "max": 7470,
       "style": "IPY_MODEL_23d5921d1c4a49969c3c619bec3bafe7",
       "value": 7470
      }
     },
     "775dc18982c84350aa15c832adabff43": {
      "model_module": "jupyter-js-widgets",
      "model_module_version": "~2.1.4",
      "model_name": "LayoutModel",
      "state": {
       "_model_module_version": "~2.1.4",
       "_view_module_version": "~2.1.4"
      }
     },
     "7773530a71db4fd88553b3f1c3a448da": {
      "model_module": "jupyter-js-widgets",
      "model_module_version": "~2.1.4",
      "model_name": "HTMLModel",
      "state": {
       "_model_module_version": "~2.1.4",
       "_view_module_version": "~2.1.4",
       "layout": "IPY_MODEL_cbdd8efad94a4310ab03379d0cdb2592",
       "value": " 29% 431/1500 [00:03&lt;00:08, 120.63it/s]"
      }
     },
     "779a3b39406d4cd1add6dbc626b5048d": {
      "model_module": "jupyter-js-widgets",
      "model_module_version": "~2.1.4",
      "model_name": "ProgressStyleModel",
      "state": {
       "_model_module_version": "~2.1.4",
       "_view_module_version": "~2.1.4"
      }
     },
     "77d976a547e947f19e9cbbb9c80b5577": {
      "model_module": "jupyter-js-widgets",
      "model_module_version": "~2.1.4",
      "model_name": "ProgressModel",
      "state": {
       "_model_module_version": "~2.1.4",
       "_view_module_version": "~2.1.4",
       "bar_style": "success",
       "description": "Scanning for Problems: ",
       "layout": "IPY_MODEL_d085eef191034eb5b683580afe318c4e",
       "max": 1500,
       "style": "IPY_MODEL_779a3b39406d4cd1add6dbc626b5048d",
       "value": 1500
      }
     },
     "77fe2b413dd24b35904083dabbdff552": {
      "model_module": "jupyter-js-widgets",
      "model_module_version": "~2.1.4",
      "model_name": "LayoutModel",
      "state": {
       "_model_module_version": "~2.1.4",
       "_view_module_version": "~2.1.4"
      }
     },
     "7b31e839e50040a9b5485d1dc0399b6f": {
      "model_module": "jupyter-js-widgets",
      "model_module_version": "~2.1.4",
      "model_name": "ProgressModel",
      "state": {
       "_model_module_version": "~2.1.4",
       "_view_module_version": "~2.1.4",
       "bar_style": "success",
       "description": "Grayscale Analysis: ",
       "layout": "IPY_MODEL_bef00e59859a4a388f4dd8aa6aa60229",
       "max": 1500,
       "style": "IPY_MODEL_02746672971b47f6b7b298d50d9d87bd",
       "value": 1500
      }
     },
     "7bfa169bd0244bd9bb102abf02858e89": {
      "model_module": "jupyter-js-widgets",
      "model_module_version": "~2.1.4",
      "model_name": "HBoxModel",
      "state": {
       "_model_module_version": "~2.1.4",
       "_view_module_version": "~2.1.4",
       "children": [
        "IPY_MODEL_7b31e839e50040a9b5485d1dc0399b6f",
        "IPY_MODEL_fd86203598444eb49bfc745311510718"
       ],
       "layout": "IPY_MODEL_03d7ab4cc2fd421c887aa35cab2dbec7"
      }
     },
     "7d3d400da6214b38a7ce10ed6eea5be3": {
      "model_module": "jupyter-js-widgets",
      "model_module_version": "~2.1.4",
      "model_name": "LayoutModel",
      "state": {
       "_model_module_version": "~2.1.4",
       "_view_module_version": "~2.1.4"
      }
     },
     "7da37575762d4725956bddd792456f2b": {
      "model_module": "jupyter-js-widgets",
      "model_module_version": "~2.1.4",
      "model_name": "HBoxModel",
      "state": {
       "_model_module_version": "~2.1.4",
       "_view_module_version": "~2.1.4",
       "children": [
        "IPY_MODEL_f3395a3948a348cc83bee319d5e26e34",
        "IPY_MODEL_add63093468a4b00aaddd86821f284c4"
       ],
       "layout": "IPY_MODEL_dbcc4ce999a84bb78ca625e7d477e146"
      }
     },
     "7f268144344c466f883965adb67a8227": {
      "model_module": "jupyter-js-widgets",
      "model_module_version": "~2.1.4",
      "model_name": "LayoutModel",
      "state": {
       "_model_module_version": "~2.1.4",
       "_view_module_version": "~2.1.4"
      }
     },
     "8046c669ac2e46369fcb11a77a76212c": {
      "model_module": "jupyter-js-widgets",
      "model_module_version": "~2.1.4",
      "model_name": "LayoutModel",
      "state": {
       "_model_module_version": "~2.1.4",
       "_view_module_version": "~2.1.4"
      }
     },
     "81aa3b7061d54066829904638de163f1": {
      "model_module": "jupyter-js-widgets",
      "model_module_version": "~2.1.4",
      "model_name": "LayoutModel",
      "state": {
       "_model_module_version": "~2.1.4",
       "_view_module_version": "~2.1.4"
      }
     },
     "829e67034a5e4a6a8cdf47f6381f6bfc": {
      "model_module": "jupyter-js-widgets",
      "model_module_version": "~2.1.4",
      "model_name": "ProgressStyleModel",
      "state": {
       "_model_module_version": "~2.1.4",
       "_view_module_version": "~2.1.4"
      }
     },
     "82e9b2acc55e46dbb8391f44185381cc": {
      "model_module": "jupyter-js-widgets",
      "model_module_version": "~2.1.4",
      "model_name": "ProgressStyleModel",
      "state": {
       "_model_module_version": "~2.1.4",
       "_view_module_version": "~2.1.4"
      }
     },
     "846a69fced3545fd853bfdaecae59e2c": {
      "model_module": "jupyter-js-widgets",
      "model_module_version": "~2.1.4",
      "model_name": "ProgressStyleModel",
      "state": {
       "_model_module_version": "~2.1.4",
       "_view_module_version": "~2.1.4"
      }
     },
     "84bdab5d5ba2479f9a1edc61bd25a937": {
      "model_module": "jupyter-js-widgets",
      "model_module_version": "~2.1.4",
      "model_name": "ProgressStyleModel",
      "state": {
       "_model_module_version": "~2.1.4",
       "_view_module_version": "~2.1.4"
      }
     },
     "856026fa6766467b9195baed131da971": {
      "model_module": "jupyter-js-widgets",
      "model_module_version": "~2.1.4",
      "model_name": "LayoutModel",
      "state": {
       "_model_module_version": "~2.1.4",
       "_view_module_version": "~2.1.4"
      }
     },
     "86d5bc5564e34adc84d97848be41c68c": {
      "model_module": "jupyter-js-widgets",
      "model_module_version": "~2.1.4",
      "model_name": "HTMLModel",
      "state": {
       "_model_module_version": "~2.1.4",
       "_view_module_version": "~2.1.4",
       "layout": "IPY_MODEL_5bf51c1d96884d339fc7a02770ed884b",
       "value": "100% 1500/1500 [00:00&lt;00:00, 41010.46it/s]"
      }
     },
     "872d526ab3d0491ab27bc336108cf5a4": {
      "model_module": "jupyter-js-widgets",
      "model_module_version": "~2.1.4",
      "model_name": "HTMLModel",
      "state": {
       "_model_module_version": "~2.1.4",
       "_view_module_version": "~2.1.4",
       "layout": "IPY_MODEL_a514d2d23dc64db48283ddedc2f09bff",
       "value": "100% 1500/1500 [00:42&lt;00:00, 35.03it/s]"
      }
     },
     "87d2dcad61e841bca181ecf8391a69bd": {
      "model_module": "jupyter-js-widgets",
      "model_module_version": "~2.1.4",
      "model_name": "LayoutModel",
      "state": {
       "_model_module_version": "~2.1.4",
       "_view_module_version": "~2.1.4"
      }
     },
     "888c3cae94e04adc9c35c0a2c9ec1fa6": {
      "model_module": "jupyter-js-widgets",
      "model_module_version": "~2.1.4",
      "model_name": "ProgressModel",
      "state": {
       "_model_module_version": "~2.1.4",
       "_view_module_version": "~2.1.4",
       "bar_style": "success",
       "description": "Processing Records: ",
       "layout": "IPY_MODEL_2b2996b5d89049f39dab9702ae2951d7",
       "max": 1500,
       "style": "IPY_MODEL_dbc7c0fc7b444f2489d5e3a20d40df89",
       "value": 1500
      }
     },
     "88b079da71044c769f4535e302d85675": {
      "model_module": "jupyter-js-widgets",
      "model_module_version": "~2.1.4",
      "model_name": "LayoutModel",
      "state": {
       "_model_module_version": "~2.1.4",
       "_view_module_version": "~2.1.4"
      }
     },
     "89656f8802a14e098cc5f76881243149": {
      "model_module": "jupyter-js-widgets",
      "model_module_version": "~2.1.4",
      "model_name": "LayoutModel",
      "state": {
       "_model_module_version": "~2.1.4",
       "_view_module_version": "~2.1.4"
      }
     },
     "89770b6b56f448cb912e5eaf9d25204d": {
      "model_module": "jupyter-js-widgets",
      "model_module_version": "~2.1.4",
      "model_name": "LayoutModel",
      "state": {
       "_model_module_version": "~2.1.4",
       "_view_module_version": "~2.1.4"
      }
     },
     "8aa4ea5a223c475c81dfc2bf71709df7": {
      "model_module": "jupyter-js-widgets",
      "model_module_version": "~2.1.4",
      "model_name": "HTMLModel",
      "state": {
       "_model_module_version": "~2.1.4",
       "_view_module_version": "~2.1.4",
       "layout": "IPY_MODEL_733d28e68f2a4b7fad52482636536dec",
       "value": "100% 7470/7470 [01:17&lt;00:00, 96.09it/s]"
      }
     },
     "8b55cce9a77f4f24bbc3cfedd3e23a4c": {
      "model_module": "jupyter-js-widgets",
      "model_module_version": "~2.1.4",
      "model_name": "LayoutModel",
      "state": {
       "_model_module_version": "~2.1.4",
       "_view_module_version": "~2.1.4"
      }
     },
     "8b7ccd77e1364a6b8e87f86f0b2f1bbf": {
      "model_module": "jupyter-js-widgets",
      "model_module_version": "~2.1.4",
      "model_name": "HBoxModel",
      "state": {
       "_model_module_version": "~2.1.4",
       "_view_module_version": "~2.1.4",
       "children": [
        "IPY_MODEL_2c0ba9f0b1e447d6b172286bcc79a07c",
        "IPY_MODEL_7773530a71db4fd88553b3f1c3a448da"
       ],
       "layout": "IPY_MODEL_0b26d0c04f1a44a3bc57ddee0145a173"
      }
     },
     "8c94625bf0314fd4a68074dc576917a0": {
      "model_module": "jupyter-js-widgets",
      "model_module_version": "~2.1.4",
      "model_name": "LayoutModel",
      "state": {
       "_model_module_version": "~2.1.4",
       "_view_module_version": "~2.1.4"
      }
     },
     "8cd0448b83c54d2f860621a0ddddd0f0": {
      "model_module": "jupyter-js-widgets",
      "model_module_version": "~2.1.4",
      "model_name": "HTMLModel",
      "state": {
       "_model_module_version": "~2.1.4",
       "_view_module_version": "~2.1.4",
       "layout": "IPY_MODEL_88b079da71044c769f4535e302d85675",
       "value": "100% 1500/1500 [00:00&lt;00:00, 14160.28it/s]"
      }
     },
     "8d2d5f4f24bc4923a6488d18455335fd": {
      "model_module": "jupyter-js-widgets",
      "model_module_version": "~2.1.4",
      "model_name": "LayoutModel",
      "state": {
       "_model_module_version": "~2.1.4",
       "_view_module_version": "~2.1.4"
      }
     },
     "8e6a705898a84e63931eb56cf57f1503": {
      "model_module": "jupyter-js-widgets",
      "model_module_version": "~2.1.4",
      "model_name": "ProgressModel",
      "state": {
       "_model_module_version": "~2.1.4",
       "_view_module_version": "~2.1.4",
       "bar_style": "success",
       "description": "Grayscale Analysis: ",
       "layout": "IPY_MODEL_d657ec7ce0a347e38dcd7c4872cb7d1e",
       "max": 1500,
       "style": "IPY_MODEL_273a7523cb8a4647bc02d835130d7976",
       "value": 1500
      }
     },
     "906f60f5ce8249659e9d8bf63a862de8": {
      "model_module": "jupyter-js-widgets",
      "model_module_version": "~2.1.4",
      "model_name": "ProgressStyleModel",
      "state": {
       "_model_module_version": "~2.1.4",
       "_view_module_version": "~2.1.4"
      }
     },
     "91bb85d0bbe24ea3aed881ec4a1edf73": {
      "model_module": "jupyter-js-widgets",
      "model_module_version": "~2.1.4",
      "model_name": "ProgressModel",
      "state": {
       "_model_module_version": "~2.1.4",
       "_view_module_version": "~2.1.4",
       "bar_style": "success",
       "description": "Cropping Images: ",
       "layout": "IPY_MODEL_b810bad68a014313a816f957fbc43d85",
       "max": 1500,
       "style": "IPY_MODEL_829e67034a5e4a6a8cdf47f6381f6bfc",
       "value": 1500
      }
     },
     "923e39977de14074a31400ebd6f6ab47": {
      "model_module": "jupyter-js-widgets",
      "model_module_version": "~2.1.4",
      "model_name": "LayoutModel",
      "state": {
       "_model_module_version": "~2.1.4",
       "_view_module_version": "~2.1.4"
      }
     },
     "925dd2e67365415ca65225b675032a36": {
      "model_module": "jupyter-js-widgets",
      "model_module_version": "~2.1.4",
      "model_name": "HBoxModel",
      "state": {
       "_model_module_version": "~2.1.4",
       "_view_module_version": "~2.1.4",
       "children": [
        "IPY_MODEL_888c3cae94e04adc9c35c0a2c9ec1fa6",
        "IPY_MODEL_6781fe951ad140469da5f88fe80a32d4"
       ],
       "layout": "IPY_MODEL_d2b3c2435df141969fd3eec327a17c67"
      }
     },
     "92976b4d3fa14c628f185c8137ba38f9": {
      "model_module": "jupyter-js-widgets",
      "model_module_version": "~2.1.4",
      "model_name": "HBoxModel",
      "state": {
       "_model_module_version": "~2.1.4",
       "_view_module_version": "~2.1.4",
       "children": [
        "IPY_MODEL_648f76ccdd7d40fca14af07cfc4703f6",
        "IPY_MODEL_9d4151a220b6499ba5ed15bef1eb8f33"
       ],
       "layout": "IPY_MODEL_d9743d389c444acf935be573f132f791"
      }
     },
     "93d531faa80a4a1f859ee198dc74a4d0": {
      "model_module": "jupyter-js-widgets",
      "model_module_version": "~2.1.4",
      "model_name": "LayoutModel",
      "state": {
       "_model_module_version": "~2.1.4",
       "_view_module_version": "~2.1.4"
      }
     },
     "95d8fbf4a35b4a17bd9fc60691d962aa": {
      "model_module": "jupyter-js-widgets",
      "model_module_version": "~2.1.4",
      "model_name": "HBoxModel",
      "state": {
       "_model_module_version": "~2.1.4",
       "_view_module_version": "~2.1.4",
       "children": [
        "IPY_MODEL_19836cb56555454ca219a2f498625b4f",
        "IPY_MODEL_67c092f8a78e4d07bd32508d71fbc428"
       ],
       "layout": "IPY_MODEL_8c94625bf0314fd4a68074dc576917a0"
      }
     },
     "983127ae61ea40328172fac298ca3815": {
      "model_module": "jupyter-js-widgets",
      "model_module_version": "~2.1.4",
      "model_name": "LayoutModel",
      "state": {
       "_model_module_version": "~2.1.4",
       "_view_module_version": "~2.1.4"
      }
     },
     "988075aaf81e40a297cad3e9c84dced0": {
      "model_module": "jupyter-js-widgets",
      "model_module_version": "~2.1.4",
      "model_name": "HBoxModel",
      "state": {
       "_model_module_version": "~2.1.4",
       "_view_module_version": "~2.1.4",
       "children": [
        "IPY_MODEL_b2bc0f50048044a6ada46d05acbfb0a6",
        "IPY_MODEL_dcf2bc1f876444329b511fc0f28f8eaf"
       ],
       "layout": "IPY_MODEL_ccf3a90d6ebd4ee288f46f5b6ab8bd5c"
      }
     },
     "98abc4c1b424405d989d86f7d8c78003": {
      "model_module": "jupyter-js-widgets",
      "model_module_version": "~2.1.4",
      "model_name": "LayoutModel",
      "state": {
       "_model_module_version": "~2.1.4",
       "_view_module_version": "~2.1.4"
      }
     },
     "99c0194ff8db4ed4ad19b511262aa0d8": {
      "model_module": "jupyter-js-widgets",
      "model_module_version": "~2.1.4",
      "model_name": "LayoutModel",
      "state": {
       "_model_module_version": "~2.1.4",
       "_view_module_version": "~2.1.4"
      }
     },
     "9a4f485aa072400d8afac2b068dd9d2a": {
      "model_module": "jupyter-js-widgets",
      "model_module_version": "~2.1.4",
      "model_name": "ProgressStyleModel",
      "state": {
       "_model_module_version": "~2.1.4",
       "_view_module_version": "~2.1.4"
      }
     },
     "9b01187097c949fda1bd318ddd80fff8": {
      "model_module": "jupyter-js-widgets",
      "model_module_version": "~2.1.4",
      "model_name": "LayoutModel",
      "state": {
       "_model_module_version": "~2.1.4",
       "_view_module_version": "~2.1.4"
      }
     },
     "9c4c73f519c24c6d9a4ca1b02d776b7e": {
      "model_module": "jupyter-js-widgets",
      "model_module_version": "~2.1.4",
      "model_name": "ProgressStyleModel",
      "state": {
       "_model_module_version": "~2.1.4",
       "_view_module_version": "~2.1.4"
      }
     },
     "9d4151a220b6499ba5ed15bef1eb8f33": {
      "model_module": "jupyter-js-widgets",
      "model_module_version": "~2.1.4",
      "model_name": "HTMLModel",
      "state": {
       "_model_module_version": "~2.1.4",
       "_view_module_version": "~2.1.4",
       "layout": "IPY_MODEL_6ff142aeb41246dca488a701067d476d",
       "value": "100% 7470/7470 [01:19&lt;00:00, 93.44it/s]"
      }
     },
     "9dc108484cdf4ecdad5546ef61d8aa7f": {
      "model_module": "jupyter-js-widgets",
      "model_module_version": "~2.1.4",
      "model_name": "HBoxModel",
      "state": {
       "_model_module_version": "~2.1.4",
       "_view_module_version": "~2.1.4",
       "children": [
        "IPY_MODEL_64a214881c4248d8ad122ae4edfaef12",
        "IPY_MODEL_b2e35e3213e64c4894405e62dbb731a1"
       ],
       "layout": "IPY_MODEL_a3c0003f02a24c1e96a3cd4a105c1143"
      }
     },
     "9dfa96be008f45d7b9deb7c8ed23bee6": {
      "model_module": "jupyter-js-widgets",
      "model_module_version": "~2.1.4",
      "model_name": "ProgressStyleModel",
      "state": {
       "_model_module_version": "~2.1.4",
       "_view_module_version": "~2.1.4"
      }
     },
     "9f99a9e22809432aacd030e67578bed3": {
      "model_module": "jupyter-js-widgets",
      "model_module_version": "~2.1.4",
      "model_name": "LayoutModel",
      "state": {
       "_model_module_version": "~2.1.4",
       "_view_module_version": "~2.1.4"
      }
     },
     "a189b38aa4864ae5b6681130dee7a0db": {
      "model_module": "jupyter-js-widgets",
      "model_module_version": "~2.1.4",
      "model_name": "ProgressModel",
      "state": {
       "_model_module_version": "~2.1.4",
       "_view_module_version": "~2.1.4",
       "bar_style": "success",
       "description": "Obtaining Images: ",
       "layout": "IPY_MODEL_89656f8802a14e098cc5f76881243149",
       "max": 1500,
       "style": "IPY_MODEL_35d6e00e83bc470eacbbf05454aece78",
       "value": 1500
      }
     },
     "a21a4f11543646baafd776f43971ffe2": {
      "model_module": "jupyter-js-widgets",
      "model_module_version": "~2.1.4",
      "model_name": "LayoutModel",
      "state": {
       "_model_module_version": "~2.1.4",
       "_view_module_version": "~2.1.4"
      }
     },
     "a259675b100247778b1bae896ddfb3a0": {
      "model_module": "jupyter-js-widgets",
      "model_module_version": "~2.1.4",
      "model_name": "HBoxModel",
      "state": {
       "_model_module_version": "~2.1.4",
       "_view_module_version": "~2.1.4",
       "children": [
        "IPY_MODEL_6366d17367e64b4eb6db84788a47b120",
        "IPY_MODEL_3534174dd9fc49df95f934396ccfe988"
       ],
       "layout": "IPY_MODEL_0f47a4f7d6ad4188b3968eed31d0fe05"
      }
     },
     "a3c0003f02a24c1e96a3cd4a105c1143": {
      "model_module": "jupyter-js-widgets",
      "model_module_version": "~2.1.4",
      "model_name": "LayoutModel",
      "state": {
       "_model_module_version": "~2.1.4",
       "_view_module_version": "~2.1.4"
      }
     },
     "a514d2d23dc64db48283ddedc2f09bff": {
      "model_module": "jupyter-js-widgets",
      "model_module_version": "~2.1.4",
      "model_name": "LayoutModel",
      "state": {
       "_model_module_version": "~2.1.4",
       "_view_module_version": "~2.1.4"
      }
     },
     "a56ee4f78c0d4f0bb1a76f8299246c0d": {
      "model_module": "jupyter-js-widgets",
      "model_module_version": "~2.1.4",
      "model_name": "HTMLModel",
      "state": {
       "_model_module_version": "~2.1.4",
       "_view_module_version": "~2.1.4",
       "layout": "IPY_MODEL_bd935cb7057b40a1b5facb2f2d6a5df2",
       "value": "100% 1500/1500 [00:17&lt;00:00, 86.51it/s]"
      }
     },
     "a5c445eaf81e4d9facb05f4ffbf65c8b": {
      "model_module": "jupyter-js-widgets",
      "model_module_version": "~2.1.4",
      "model_name": "LayoutModel",
      "state": {
       "_model_module_version": "~2.1.4",
       "_view_module_version": "~2.1.4"
      }
     },
     "a74c3c6d2348437b8e7b71cb5caefd05": {
      "model_module": "jupyter-js-widgets",
      "model_module_version": "~2.1.4",
      "model_name": "ProgressStyleModel",
      "state": {
       "_model_module_version": "~2.1.4",
       "_view_module_version": "~2.1.4"
      }
     },
     "a8d98eee20c14b3888f8df440e995cb0": {
      "model_module": "jupyter-js-widgets",
      "model_module_version": "~2.1.4",
      "model_name": "HBoxModel",
      "state": {
       "_model_module_version": "~2.1.4",
       "_view_module_version": "~2.1.4",
       "children": [
        "IPY_MODEL_d78b16d5a5ad4c3e8fa325c97993cedd",
        "IPY_MODEL_8cd0448b83c54d2f860621a0ddddd0f0"
       ],
       "layout": "IPY_MODEL_ae49882f818145b28ce2f473c8bb67e9"
      }
     },
     "a8dd8f766e4f4a27a0a196372ec2ced6": {
      "model_module": "jupyter-js-widgets",
      "model_module_version": "~2.1.4",
      "model_name": "LayoutModel",
      "state": {
       "_model_module_version": "~2.1.4",
       "_view_module_version": "~2.1.4"
      }
     },
     "a979d92f9e6c4233925f4c3f58f4cc1f": {
      "model_module": "jupyter-js-widgets",
      "model_module_version": "~2.1.4",
      "model_name": "LayoutModel",
      "state": {
       "_model_module_version": "~2.1.4",
       "_view_module_version": "~2.1.4"
      }
     },
     "aa45b5b44a624116888354705ba338c1": {
      "model_module": "jupyter-js-widgets",
      "model_module_version": "~2.1.4",
      "model_name": "LayoutModel",
      "state": {
       "_model_module_version": "~2.1.4",
       "_view_module_version": "~2.1.4"
      }
     },
     "ab10cdc6474f48aba8b4049d6b143071": {
      "model_module": "jupyter-js-widgets",
      "model_module_version": "~2.1.4",
      "model_name": "LayoutModel",
      "state": {
       "_model_module_version": "~2.1.4",
       "_view_module_version": "~2.1.4"
      }
     },
     "ac07a778043144d99272c4c5d925ca25": {
      "model_module": "jupyter-js-widgets",
      "model_module_version": "~2.1.4",
      "model_name": "LayoutModel",
      "state": {
       "_model_module_version": "~2.1.4",
       "_view_module_version": "~2.1.4"
      }
     },
     "add63093468a4b00aaddd86821f284c4": {
      "model_module": "jupyter-js-widgets",
      "model_module_version": "~2.1.4",
      "model_name": "HTMLModel",
      "state": {
       "_model_module_version": "~2.1.4",
       "_view_module_version": "~2.1.4",
       "layout": "IPY_MODEL_0e46091f554e44f4aa7b8680020a3513",
       "value": "100% 7470/7470 [00:00&lt;00:00, 15288.39it/s]"
      }
     },
     "ae49882f818145b28ce2f473c8bb67e9": {
      "model_module": "jupyter-js-widgets",
      "model_module_version": "~2.1.4",
      "model_name": "LayoutModel",
      "state": {
       "_model_module_version": "~2.1.4",
       "_view_module_version": "~2.1.4"
      }
     },
     "ae6564d44f0f45e58bac876e047ee131": {
      "model_module": "jupyter-js-widgets",
      "model_module_version": "~2.1.4",
      "model_name": "ProgressModel",
      "state": {
       "_model_module_version": "~2.1.4",
       "_view_module_version": "~2.1.4",
       "bar_style": "success",
       "description": "Generating ndarrays: ",
       "layout": "IPY_MODEL_291b62f0d50d4fa29f071e7fd4d1c930",
       "max": 2,
       "style": "IPY_MODEL_679ef3c8db7d4f59a52103fb2e0a85e7",
       "value": 2
      }
     },
     "af1f5d446dd341378f9a880067dc83ad": {
      "model_module": "jupyter-js-widgets",
      "model_module_version": "~2.1.4",
      "model_name": "LayoutModel",
      "state": {
       "_model_module_version": "~2.1.4",
       "_view_module_version": "~2.1.4"
      }
     },
     "b0df88795d714cf99b2646b363184b01": {
      "model_module": "jupyter-js-widgets",
      "model_module_version": "~2.1.4",
      "model_name": "HBoxModel",
      "state": {
       "_model_module_version": "~2.1.4",
       "_view_module_version": "~2.1.4",
       "children": [
        "IPY_MODEL_ce26ede96f0340cfbe04d49e5eda5268",
        "IPY_MODEL_dd6580e05025491a83125646525114a9"
       ],
       "layout": "IPY_MODEL_4f908b901cbc4e4780b2b73818c48c7a"
      }
     },
     "b1db0797f4854779bde185f97ad18117": {
      "model_module": "jupyter-js-widgets",
      "model_module_version": "~2.1.4",
      "model_name": "HBoxModel",
      "state": {
       "_model_module_version": "~2.1.4",
       "_view_module_version": "~2.1.4",
       "children": [
        "IPY_MODEL_db7f8ec007454967a7adea68f39933c5",
        "IPY_MODEL_b4c1f712c43c4b598d0c85b2ca7cdc7d"
       ],
       "layout": "IPY_MODEL_516358aff7da49ca83a518d0e6dc06a0"
      }
     },
     "b2bc0f50048044a6ada46d05acbfb0a6": {
      "model_module": "jupyter-js-widgets",
      "model_module_version": "~2.1.4",
      "model_name": "ProgressModel",
      "state": {
       "_model_module_version": "~2.1.4",
       "_view_module_version": "~2.1.4",
       "bar_style": "success",
       "description": "Obtaining Records: ",
       "layout": "IPY_MODEL_0b8d80c0d1dc49828dbc8a5191ae72fd",
       "max": 249,
       "style": "IPY_MODEL_4c6572e5c87546d29f61ae89de304b95",
       "value": 249
      }
     },
     "b2c6648d21ff43c5a6422835ed705ce4": {
      "model_module": "jupyter-js-widgets",
      "model_module_version": "~2.1.4",
      "model_name": "LayoutModel",
      "state": {
       "_model_module_version": "~2.1.4",
       "_view_module_version": "~2.1.4"
      }
     },
     "b2e35e3213e64c4894405e62dbb731a1": {
      "model_module": "jupyter-js-widgets",
      "model_module_version": "~2.1.4",
      "model_name": "HTMLModel",
      "state": {
       "_model_module_version": "~2.1.4",
       "_view_module_version": "~2.1.4",
       "layout": "IPY_MODEL_ab10cdc6474f48aba8b4049d6b143071",
       "value": "100% 209/209 [00:01&lt;00:00, 141.24it/s]"
      }
     },
     "b3aa6cbac78a4d4d9845462dea5430c1": {
      "model_module": "jupyter-js-widgets",
      "model_module_version": "~2.1.4",
      "model_name": "LayoutModel",
      "state": {
       "_model_module_version": "~2.1.4",
       "_view_module_version": "~2.1.4"
      }
     },
     "b4c1f712c43c4b598d0c85b2ca7cdc7d": {
      "model_module": "jupyter-js-widgets",
      "model_module_version": "~2.1.4",
      "model_name": "HTMLModel",
      "state": {
       "_model_module_version": "~2.1.4",
       "_view_module_version": "~2.1.4",
       "layout": "IPY_MODEL_5e766801203b4ba2ab748a05bf0be460",
       "value": "100% 209/209 [00:01&lt;00:00, 130.01it/s]"
      }
     },
     "b617044ff6c542649a419a5908ce623d": {
      "model_module": "jupyter-js-widgets",
      "model_module_version": "~2.1.4",
      "model_name": "LayoutModel",
      "state": {
       "_model_module_version": "~2.1.4",
       "_view_module_version": "~2.1.4"
      }
     },
     "b7dbe08809b64815b0e6715276cc5131": {
      "model_module": "jupyter-js-widgets",
      "model_module_version": "~2.1.4",
      "model_name": "LayoutModel",
      "state": {
       "_model_module_version": "~2.1.4",
       "_view_module_version": "~2.1.4"
      }
     },
     "b7f4f5758ec54286bf429be36121267e": {
      "model_module": "jupyter-js-widgets",
      "model_module_version": "~2.1.4",
      "model_name": "HBoxModel",
      "state": {
       "_model_module_version": "~2.1.4",
       "_view_module_version": "~2.1.4",
       "children": [
        "IPY_MODEL_fd7b0b3434d24f26b0ff4dabc21200bc",
        "IPY_MODEL_0b9eb3d3c97145d9b1fee4a658c07baa"
       ],
       "layout": "IPY_MODEL_14ba2cb8622a4dcf9de527929401166f"
      }
     },
     "b8095655ab694cb3a379aea1ec338307": {
      "model_module": "jupyter-js-widgets",
      "model_module_version": "~2.1.4",
      "model_name": "LayoutModel",
      "state": {
       "_model_module_version": "~2.1.4",
       "_view_module_version": "~2.1.4"
      }
     },
     "b810bad68a014313a816f957fbc43d85": {
      "model_module": "jupyter-js-widgets",
      "model_module_version": "~2.1.4",
      "model_name": "LayoutModel",
      "state": {
       "_model_module_version": "~2.1.4",
       "_view_module_version": "~2.1.4"
      }
     },
     "b9e57b90e1764667a4f0b83788af82ab": {
      "model_module": "jupyter-js-widgets",
      "model_module_version": "~2.1.4",
      "model_name": "LayoutModel",
      "state": {
       "_model_module_version": "~2.1.4",
       "_view_module_version": "~2.1.4"
      }
     },
     "ba944e59fb8241a88246803a3ac3241a": {
      "model_module": "jupyter-js-widgets",
      "model_module_version": "~2.1.4",
      "model_name": "HTMLModel",
      "state": {
       "_model_module_version": "~2.1.4",
       "_view_module_version": "~2.1.4",
       "layout": "IPY_MODEL_98abc4c1b424405d989d86f7d8c78003",
       "value": "100% 1500/1500 [00:00&lt;00:00, 48931.43it/s]"
      }
     },
     "bcdef36fb5594e25960ac85761178483": {
      "model_module": "jupyter-js-widgets",
      "model_module_version": "~2.1.4",
      "model_name": "ProgressStyleModel",
      "state": {
       "_model_module_version": "~2.1.4",
       "_view_module_version": "~2.1.4"
      }
     },
     "bd935cb7057b40a1b5facb2f2d6a5df2": {
      "model_module": "jupyter-js-widgets",
      "model_module_version": "~2.1.4",
      "model_name": "LayoutModel",
      "state": {
       "_model_module_version": "~2.1.4",
       "_view_module_version": "~2.1.4"
      }
     },
     "bdf3d8c3bfca4b768dd85481685f38c7": {
      "model_module": "jupyter-js-widgets",
      "model_module_version": "~2.1.4",
      "model_name": "HBoxModel",
      "state": {
       "_model_module_version": "~2.1.4",
       "_view_module_version": "~2.1.4",
       "children": [
        "IPY_MODEL_c2fdaea5419b45e08f06d9b81c591343",
        "IPY_MODEL_4f104b6b5db6420b8bbf4a094302d6ec"
       ],
       "layout": "IPY_MODEL_b2c6648d21ff43c5a6422835ed705ce4"
      }
     },
     "bef00e59859a4a388f4dd8aa6aa60229": {
      "model_module": "jupyter-js-widgets",
      "model_module_version": "~2.1.4",
      "model_name": "LayoutModel",
      "state": {
       "_model_module_version": "~2.1.4",
       "_view_module_version": "~2.1.4"
      }
     },
     "c0afa36cddbe4d668f84bbece5b59aa7": {
      "model_module": "jupyter-js-widgets",
      "model_module_version": "~2.1.4",
      "model_name": "ProgressStyleModel",
      "state": {
       "_model_module_version": "~2.1.4",
       "_view_module_version": "~2.1.4"
      }
     },
     "c2a2c2871fe548788f1197d4bf35817f": {
      "model_module": "jupyter-js-widgets",
      "model_module_version": "~2.1.4",
      "model_name": "HTMLModel",
      "state": {
       "_model_module_version": "~2.1.4",
       "_view_module_version": "~2.1.4",
       "layout": "IPY_MODEL_25aeed2111cd402283162109a3bc20e3",
       "value": "100% 1500/1500 [00:18&lt;00:00, 81.85it/s]"
      }
     },
     "c2fdaea5419b45e08f06d9b81c591343": {
      "model_module": "jupyter-js-widgets",
      "model_module_version": "~2.1.4",
      "model_name": "ProgressModel",
      "state": {
       "_model_module_version": "~2.1.4",
       "_view_module_version": "~2.1.4",
       "bar_style": "success",
       "description": "Scanning for Problems: ",
       "layout": "IPY_MODEL_b3aa6cbac78a4d4d9845462dea5430c1",
       "max": 1500,
       "style": "IPY_MODEL_396cf9832eba4af7b34ce76bc42e86e9",
       "value": 1500
      }
     },
     "c3d913e5acb24a569c1cfa185bf0f2f7": {
      "model_module": "jupyter-js-widgets",
      "model_module_version": "~2.1.4",
      "model_name": "LayoutModel",
      "state": {
       "_model_module_version": "~2.1.4",
       "_view_module_version": "~2.1.4"
      }
     },
     "c5b0ba10af2e435285c56f20221fd58e": {
      "model_module": "jupyter-js-widgets",
      "model_module_version": "~2.1.4",
      "model_name": "LayoutModel",
      "state": {
       "_model_module_version": "~2.1.4",
       "_view_module_version": "~2.1.4"
      }
     },
     "c7d567b0a45a48c5a936073ebc2d3bd1": {
      "model_module": "jupyter-js-widgets",
      "model_module_version": "~2.1.4",
      "model_name": "LayoutModel",
      "state": {
       "_model_module_version": "~2.1.4",
       "_view_module_version": "~2.1.4"
      }
     },
     "ca761edf199d496ba2f84a2bedeca0c5": {
      "model_module": "jupyter-js-widgets",
      "model_module_version": "~2.1.4",
      "model_name": "ProgressStyleModel",
      "state": {
       "_model_module_version": "~2.1.4",
       "_view_module_version": "~2.1.4"
      }
     },
     "cb6e45177bb44d4687060e477ea5e20b": {
      "model_module": "jupyter-js-widgets",
      "model_module_version": "~2.1.4",
      "model_name": "LayoutModel",
      "state": {
       "_model_module_version": "~2.1.4",
       "_view_module_version": "~2.1.4"
      }
     },
     "cbdd8efad94a4310ab03379d0cdb2592": {
      "model_module": "jupyter-js-widgets",
      "model_module_version": "~2.1.4",
      "model_name": "LayoutModel",
      "state": {
       "_model_module_version": "~2.1.4",
       "_view_module_version": "~2.1.4"
      }
     },
     "ccf3a90d6ebd4ee288f46f5b6ab8bd5c": {
      "model_module": "jupyter-js-widgets",
      "model_module_version": "~2.1.4",
      "model_name": "LayoutModel",
      "state": {
       "_model_module_version": "~2.1.4",
       "_view_module_version": "~2.1.4"
      }
     },
     "cd0a054287ec4a0b9f7f64b0761e140e": {
      "model_module": "jupyter-js-widgets",
      "model_module_version": "~2.1.4",
      "model_name": "HTMLModel",
      "state": {
       "_model_module_version": "~2.1.4",
       "_view_module_version": "~2.1.4",
       "layout": "IPY_MODEL_775dc18982c84350aa15c832adabff43",
       "value": "100% 1500/1500 [00:11&lt;00:00, 132.30it/s]"
      }
     },
     "ce26ede96f0340cfbe04d49e5eda5268": {
      "model_module": "jupyter-js-widgets",
      "model_module_version": "~2.1.4",
      "model_name": "ProgressModel",
      "state": {
       "_model_module_version": "~2.1.4",
       "_view_module_version": "~2.1.4",
       "bar_style": "success",
       "description": "Obtaining Records: ",
       "layout": "IPY_MODEL_2068e2d61c66495190198b1211a2f8e6",
       "max": 50,
       "style": "IPY_MODEL_fd82e3724bd04252b2aa847e2e5d2b0f",
       "value": 50
      }
     },
     "cf497d4cb575433793e34d8cfd15c939": {
      "model_module": "jupyter-js-widgets",
      "model_module_version": "~2.1.4",
      "model_name": "ProgressModel",
      "state": {
       "_model_module_version": "~2.1.4",
       "_view_module_version": "~2.1.4",
       "bar_style": "success",
       "description": "Logo Analysis: ",
       "layout": "IPY_MODEL_517d200b2b794aac8421d938b9dbe19b",
       "max": 1500,
       "style": "IPY_MODEL_da01c348562b49bb88f08f64089ee1d5",
       "value": 1500
      }
     },
     "d085eef191034eb5b683580afe318c4e": {
      "model_module": "jupyter-js-widgets",
      "model_module_version": "~2.1.4",
      "model_name": "LayoutModel",
      "state": {
       "_model_module_version": "~2.1.4",
       "_view_module_version": "~2.1.4"
      }
     },
     "d0c23d5d8f504c8485db0ec06cd0c04d": {
      "model_module": "jupyter-js-widgets",
      "model_module_version": "~2.1.4",
      "model_name": "LayoutModel",
      "state": {
       "_model_module_version": "~2.1.4",
       "_view_module_version": "~2.1.4"
      }
     },
     "d0e5d2931a0f4e119e5bb79ce210b29d": {
      "model_module": "jupyter-js-widgets",
      "model_module_version": "~2.1.4",
      "model_name": "LayoutModel",
      "state": {
       "_model_module_version": "~2.1.4",
       "_view_module_version": "~2.1.4"
      }
     },
     "d11d4fb88d864fe785cede528dc496d3": {
      "model_module": "jupyter-js-widgets",
      "model_module_version": "~2.1.4",
      "model_name": "ProgressModel",
      "state": {
       "_model_module_version": "~2.1.4",
       "_view_module_version": "~2.1.4",
       "bar_style": "success",
       "description": "Obtaining Records: ",
       "layout": "IPY_MODEL_93d531faa80a4a1f859ee198dc74a4d0",
       "max": 249,
       "style": "IPY_MODEL_68878d57bb4a4337a6851bfe7d13a2ec",
       "value": 249
      }
     },
     "d1955e3fd9da4d14b177c34762076307": {
      "model_module": "jupyter-js-widgets",
      "model_module_version": "~2.1.4",
      "model_name": "LayoutModel",
      "state": {
       "_model_module_version": "~2.1.4",
       "_view_module_version": "~2.1.4"
      }
     },
     "d1d9090d4c2d47d3ab4cdea27b97830d": {
      "model_module": "jupyter-js-widgets",
      "model_module_version": "~2.1.4",
      "model_name": "LayoutModel",
      "state": {
       "_model_module_version": "~2.1.4",
       "_view_module_version": "~2.1.4"
      }
     },
     "d2b3c2435df141969fd3eec327a17c67": {
      "model_module": "jupyter-js-widgets",
      "model_module_version": "~2.1.4",
      "model_name": "LayoutModel",
      "state": {
       "_model_module_version": "~2.1.4",
       "_view_module_version": "~2.1.4"
      }
     },
     "d3f94f3381da4ab794b32137605b1390": {
      "model_module": "jupyter-js-widgets",
      "model_module_version": "~2.1.4",
      "model_name": "LayoutModel",
      "state": {
       "_model_module_version": "~2.1.4",
       "_view_module_version": "~2.1.4"
      }
     },
     "d4ded3709cc947aa8d7dc66e1d4f1f74": {
      "model_module": "jupyter-js-widgets",
      "model_module_version": "~2.1.4",
      "model_name": "HTMLModel",
      "state": {
       "_model_module_version": "~2.1.4",
       "_view_module_version": "~2.1.4",
       "layout": "IPY_MODEL_a8dd8f766e4f4a27a0a196372ec2ced6",
       "value": "100% 1500/1500 [00:43&lt;00:00, 34.59it/s]"
      }
     },
     "d657ec7ce0a347e38dcd7c4872cb7d1e": {
      "model_module": "jupyter-js-widgets",
      "model_module_version": "~2.1.4",
      "model_name": "LayoutModel",
      "state": {
       "_model_module_version": "~2.1.4",
       "_view_module_version": "~2.1.4"
      }
     },
     "d70dc9407ca846be97689cc210d79508": {
      "model_module": "jupyter-js-widgets",
      "model_module_version": "~2.1.4",
      "model_name": "LayoutModel",
      "state": {
       "_model_module_version": "~2.1.4",
       "_view_module_version": "~2.1.4"
      }
     },
     "d78b16d5a5ad4c3e8fa325c97993cedd": {
      "model_module": "jupyter-js-widgets",
      "model_module_version": "~2.1.4",
      "model_name": "ProgressModel",
      "state": {
       "_model_module_version": "~2.1.4",
       "_view_module_version": "~2.1.4",
       "bar_style": "success",
       "description": "Obtaining Images: ",
       "layout": "IPY_MODEL_8b55cce9a77f4f24bbc3cfedd3e23a4c",
       "max": 1500,
       "style": "IPY_MODEL_1b4aa691c98046d8a625743e1984a23d",
       "value": 1500
      }
     },
     "d9743d389c444acf935be573f132f791": {
      "model_module": "jupyter-js-widgets",
      "model_module_version": "~2.1.4",
      "model_name": "LayoutModel",
      "state": {
       "_model_module_version": "~2.1.4",
       "_view_module_version": "~2.1.4"
      }
     },
     "da01c348562b49bb88f08f64089ee1d5": {
      "model_module": "jupyter-js-widgets",
      "model_module_version": "~2.1.4",
      "model_name": "ProgressStyleModel",
      "state": {
       "_model_module_version": "~2.1.4",
       "_view_module_version": "~2.1.4"
      }
     },
     "db7f8ec007454967a7adea68f39933c5": {
      "model_module": "jupyter-js-widgets",
      "model_module_version": "~2.1.4",
      "model_name": "ProgressModel",
      "state": {
       "_model_module_version": "~2.1.4",
       "_view_module_version": "~2.1.4",
       "bar_style": "success",
       "description": "Cropping Images: ",
       "layout": "IPY_MODEL_c7d567b0a45a48c5a936073ebc2d3bd1",
       "max": 209,
       "style": "IPY_MODEL_2c349e193d0c440f9e0c6fb36d1c3ca6",
       "value": 209
      }
     },
     "dbc7c0fc7b444f2489d5e3a20d40df89": {
      "model_module": "jupyter-js-widgets",
      "model_module_version": "~2.1.4",
      "model_name": "ProgressStyleModel",
      "state": {
       "_model_module_version": "~2.1.4",
       "_view_module_version": "~2.1.4"
      }
     },
     "dbcc4ce999a84bb78ca625e7d477e146": {
      "model_module": "jupyter-js-widgets",
      "model_module_version": "~2.1.4",
      "model_name": "LayoutModel",
      "state": {
       "_model_module_version": "~2.1.4",
       "_view_module_version": "~2.1.4"
      }
     },
     "dc353ec20f4b419383c5bd0de16e12fd": {
      "model_module": "jupyter-js-widgets",
      "model_module_version": "~2.1.4",
      "model_name": "HTMLModel",
      "state": {
       "_model_module_version": "~2.1.4",
       "_view_module_version": "~2.1.4",
       "layout": "IPY_MODEL_43898ac521b74fa2aeb9edbdc5cc5dc1",
       "value": "100% 249/249 [01:58&lt;00:00,  3.48it/s]"
      }
     },
     "dcf2bc1f876444329b511fc0f28f8eaf": {
      "model_module": "jupyter-js-widgets",
      "model_module_version": "~2.1.4",
      "model_name": "HTMLModel",
      "state": {
       "_model_module_version": "~2.1.4",
       "_view_module_version": "~2.1.4",
       "layout": "IPY_MODEL_a21a4f11543646baafd776f43971ffe2",
       "value": "100% 249/249 [01:54&lt;00:00,  3.27it/s]"
      }
     },
     "dd549af04279466da50a946943afafd8": {
      "model_module": "jupyter-js-widgets",
      "model_module_version": "~2.1.4",
      "model_name": "LayoutModel",
      "state": {
       "_model_module_version": "~2.1.4",
       "_view_module_version": "~2.1.4"
      }
     },
     "dd6580e05025491a83125646525114a9": {
      "model_module": "jupyter-js-widgets",
      "model_module_version": "~2.1.4",
      "model_name": "HTMLModel",
      "state": {
       "_model_module_version": "~2.1.4",
       "_view_module_version": "~2.1.4",
       "layout": "IPY_MODEL_b8095655ab694cb3a379aea1ec338307",
       "value": "100% 50/50 [02:31&lt;00:00,  3.28s/it]"
      }
     },
     "df61bf4d805d49f782e7766c09b5c422": {
      "model_module": "jupyter-js-widgets",
      "model_module_version": "~2.1.4",
      "model_name": "ProgressStyleModel",
      "state": {
       "_model_module_version": "~2.1.4",
       "_view_module_version": "~2.1.4"
      }
     },
     "df7d7741ef9c4cc5964967a1844c1127": {
      "model_module": "jupyter-js-widgets",
      "model_module_version": "~2.1.4",
      "model_name": "ProgressModel",
      "state": {
       "_model_module_version": "~2.1.4",
       "_view_module_version": "~2.1.4",
       "bar_style": "success",
       "description": "Border Analysis: ",
       "layout": "IPY_MODEL_9f99a9e22809432aacd030e67578bed3",
       "max": 1500,
       "style": "IPY_MODEL_21a12acf43574f928e136e21a6dd3a7a",
       "value": 1500
      }
     },
     "e0c7e9124739474fb6b5fd0aaa04e8fa": {
      "model_module": "jupyter-js-widgets",
      "model_module_version": "~2.1.4",
      "model_name": "LayoutModel",
      "state": {
       "_model_module_version": "~2.1.4",
       "_view_module_version": "~2.1.4"
      }
     },
     "e2ca08622ea14271ac56a4e1205173f6": {
      "model_module": "jupyter-js-widgets",
      "model_module_version": "~2.1.4",
      "model_name": "ProgressModel",
      "state": {
       "_model_module_version": "~2.1.4",
       "_view_module_version": "~2.1.4",
       "bar_style": "success",
       "description": "Cropping Images: ",
       "layout": "IPY_MODEL_34cde1d98786478aa6bec723e6448f70",
       "max": 1500,
       "style": "IPY_MODEL_0b3b36745c9148168979626dcbdd259f",
       "value": 1500
      }
     },
     "e642da3da47240f3ab0b3ff100bc8a5a": {
      "model_module": "jupyter-js-widgets",
      "model_module_version": "~2.1.4",
      "model_name": "LayoutModel",
      "state": {
       "_model_module_version": "~2.1.4",
       "_view_module_version": "~2.1.4"
      }
     },
     "e6dc348f50774e46bb170ccb10f6def1": {
      "model_module": "jupyter-js-widgets",
      "model_module_version": "~2.1.4",
      "model_name": "LayoutModel",
      "state": {
       "_model_module_version": "~2.1.4",
       "_view_module_version": "~2.1.4"
      }
     },
     "e6fc3462df6f4ab291b317acb6a598ff": {
      "model_module": "jupyter-js-widgets",
      "model_module_version": "~2.1.4",
      "model_name": "HTMLModel",
      "state": {
       "_model_module_version": "~2.1.4",
       "_view_module_version": "~2.1.4",
       "layout": "IPY_MODEL_037408f132284b9dbd68c71980160212",
       "value": "100% 1500/1500 [00:00&lt;00:00, 56393.25it/s]"
      }
     },
     "e78a498cc7d44f78b2f349dd3e1f26f8": {
      "model_module": "jupyter-js-widgets",
      "model_module_version": "~2.1.4",
      "model_name": "LayoutModel",
      "state": {
       "_model_module_version": "~2.1.4",
       "_view_module_version": "~2.1.4"
      }
     },
     "eaf9f67b82de4ba0873f1dfc116fefa3": {
      "model_module": "jupyter-js-widgets",
      "model_module_version": "~2.1.4",
      "model_name": "ProgressModel",
      "state": {
       "_model_module_version": "~2.1.4",
       "_view_module_version": "~2.1.4",
       "bar_style": "success",
       "description": "Obtaining Records: ",
       "layout": "IPY_MODEL_aa45b5b44a624116888354705ba338c1",
       "max": 50,
       "style": "IPY_MODEL_01b6e3520b714e3f89b10d6d7d39d8d2",
       "value": 50
      }
     },
     "eb52fb60697244daa2c416800d285533": {
      "model_module": "jupyter-js-widgets",
      "model_module_version": "~2.1.4",
      "model_name": "ProgressModel",
      "state": {
       "_model_module_version": "~2.1.4",
       "_view_module_version": "~2.1.4",
       "bar_style": "success",
       "description": "Logo Analysis: ",
       "layout": "IPY_MODEL_9b01187097c949fda1bd318ddd80fff8",
       "max": 1500,
       "style": "IPY_MODEL_906f60f5ce8249659e9d8bf63a862de8",
       "value": 1500
      }
     },
     "edebaff18ddf42078c94dd1920d72132": {
      "model_module": "jupyter-js-widgets",
      "model_module_version": "~2.1.4",
      "model_name": "LayoutModel",
      "state": {
       "_model_module_version": "~2.1.4",
       "_view_module_version": "~2.1.4"
      }
     },
     "f0bd2f0286ac47e88ddb5901fc8d0101": {
      "model_module": "jupyter-js-widgets",
      "model_module_version": "~2.1.4",
      "model_name": "HTMLModel",
      "state": {
       "_model_module_version": "~2.1.4",
       "_view_module_version": "~2.1.4",
       "layout": "IPY_MODEL_5518d8f49ae64087b4e3b71b4b1596a1",
       "value": "100% 50/50 [02:46&lt;00:00,  3.96s/it]"
      }
     },
     "f1ab8f062c8b4b0e8bce8c921c06e079": {
      "model_module": "jupyter-js-widgets",
      "model_module_version": "~2.1.4",
      "model_name": "HBoxModel",
      "state": {
       "_model_module_version": "~2.1.4",
       "_view_module_version": "~2.1.4",
       "children": [
        "IPY_MODEL_3f0ba31fcb294da292e66e05964d9b1e",
        "IPY_MODEL_d4ded3709cc947aa8d7dc66e1d4f1f74"
       ],
       "layout": "IPY_MODEL_d70dc9407ca846be97689cc210d79508"
      }
     },
     "f215eee95e4d47fc922fd2861028f2a5": {
      "model_module": "jupyter-js-widgets",
      "model_module_version": "~2.1.4",
      "model_name": "HBoxModel",
      "state": {
       "_model_module_version": "~2.1.4",
       "_view_module_version": "~2.1.4",
       "children": [
        "IPY_MODEL_df7d7741ef9c4cc5964967a1844c1127",
        "IPY_MODEL_cd0a054287ec4a0b9f7f64b0761e140e"
       ],
       "layout": "IPY_MODEL_a5c445eaf81e4d9facb05f4ffbf65c8b"
      }
     },
     "f3395a3948a348cc83bee319d5e26e34": {
      "model_module": "jupyter-js-widgets",
      "model_module_version": "~2.1.4",
      "model_name": "ProgressModel",
      "state": {
       "_model_module_version": "~2.1.4",
       "_view_module_version": "~2.1.4",
       "bar_style": "success",
       "description": "Obtaining Images: ",
       "layout": "IPY_MODEL_7f268144344c466f883965adb67a8227",
       "max": 7470,
       "style": "IPY_MODEL_5ab32ba646c44b8391aa6d105e83919b",
       "value": 7470
      }
     },
     "f3a19b2da44041609b862a72636bb156": {
      "model_module": "jupyter-js-widgets",
      "model_module_version": "~2.1.4",
      "model_name": "ProgressStyleModel",
      "state": {
       "_model_module_version": "~2.1.4",
       "_view_module_version": "~2.1.4"
      }
     },
     "f40434b3dfee4a5e98a5b2d95fc7f582": {
      "model_module": "jupyter-js-widgets",
      "model_module_version": "~2.1.4",
      "model_name": "HBoxModel",
      "state": {
       "_model_module_version": "~2.1.4",
       "_view_module_version": "~2.1.4",
       "children": [
        "IPY_MODEL_2ce7da1a0e8d4c6f9acc20d0d06a5ecb",
        "IPY_MODEL_4a4159f6b29e4af39d36368a4781628f"
       ],
       "layout": "IPY_MODEL_c3d913e5acb24a569c1cfa185bf0f2f7"
      }
     },
     "f7c5cfe7107546df969ed18089064518": {
      "model_module": "jupyter-js-widgets",
      "model_module_version": "~2.1.4",
      "model_name": "LayoutModel",
      "state": {
       "_model_module_version": "~2.1.4",
       "_view_module_version": "~2.1.4"
      }
     },
     "f7cebf3fa1ee42fb89f4c7ab2e20d9f4": {
      "model_module": "jupyter-js-widgets",
      "model_module_version": "~2.1.4",
      "model_name": "LayoutModel",
      "state": {
       "_model_module_version": "~2.1.4",
       "_view_module_version": "~2.1.4"
      }
     },
     "f9868bce696e49c4b20049347e301780": {
      "model_module": "jupyter-js-widgets",
      "model_module_version": "~2.1.4",
      "model_name": "LayoutModel",
      "state": {
       "_model_module_version": "~2.1.4",
       "_view_module_version": "~2.1.4"
      }
     },
     "f9eee66fc7f04b479e2b60c126e25892": {
      "model_module": "jupyter-js-widgets",
      "model_module_version": "~2.1.4",
      "model_name": "ProgressModel",
      "state": {
       "_model_module_version": "~2.1.4",
       "_view_module_version": "~2.1.4",
       "bar_style": "success",
       "description": "Logo Analysis: ",
       "layout": "IPY_MODEL_f9868bce696e49c4b20049347e301780",
       "max": 1500,
       "style": "IPY_MODEL_ca761edf199d496ba2f84a2bedeca0c5",
       "value": 1500
      }
     },
     "fc4aa22345844084a40f9c4ef22ebb9c": {
      "model_module": "jupyter-js-widgets",
      "model_module_version": "~2.1.4",
      "model_name": "HBoxModel",
      "state": {
       "_model_module_version": "~2.1.4",
       "_view_module_version": "~2.1.4",
       "children": [
        "IPY_MODEL_5d21395f5b6f42dcb104eb127b837264",
        "IPY_MODEL_10a4660a7e1b433eba5d530a47961145"
       ],
       "layout": "IPY_MODEL_e78a498cc7d44f78b2f349dd3e1f26f8"
      }
     },
     "fd7b0b3434d24f26b0ff4dabc21200bc": {
      "model_module": "jupyter-js-widgets",
      "model_module_version": "~2.1.4",
      "model_name": "ProgressModel",
      "state": {
       "_model_module_version": "~2.1.4",
       "_view_module_version": "~2.1.4",
       "description": "Obtaining Records: ",
       "layout": "IPY_MODEL_5c149e7b2e6f4fd597db59f9ffbbc1b5",
       "max": 50,
       "style": "IPY_MODEL_46e4b84c7fef42ae8d2b914eab8f839c",
       "value": 3
      }
     },
     "fd82e3724bd04252b2aa847e2e5d2b0f": {
      "model_module": "jupyter-js-widgets",
      "model_module_version": "~2.1.4",
      "model_name": "ProgressStyleModel",
      "state": {
       "_model_module_version": "~2.1.4",
       "_view_module_version": "~2.1.4"
      }
     },
     "fd86203598444eb49bfc745311510718": {
      "model_module": "jupyter-js-widgets",
      "model_module_version": "~2.1.4",
      "model_name": "HTMLModel",
      "state": {
       "_model_module_version": "~2.1.4",
       "_view_module_version": "~2.1.4",
       "layout": "IPY_MODEL_4f73b172550748dab77b2a3402d27d57",
       "value": "100% 1500/1500 [00:17&lt;00:00, 84.99it/s]"
      }
     },
     "fecb6957ffa6432a9cdac2e0cfb017ef": {
      "model_module": "jupyter-js-widgets",
      "model_module_version": "~2.1.4",
      "model_name": "HTMLModel",
      "state": {
       "_model_module_version": "~2.1.4",
       "_view_module_version": "~2.1.4",
       "layout": "IPY_MODEL_0d11a0acf7d14248a6a5dc0c84d09d18",
       "value": "100% 50/50 [02:42&lt;00:00,  4.43s/it]"
      }
     },
     "fed607c019bb4802947fada8fbb5f4e4": {
      "model_module": "jupyter-js-widgets",
      "model_module_version": "~2.1.4",
      "model_name": "LayoutModel",
      "state": {
       "_model_module_version": "~2.1.4",
       "_view_module_version": "~2.1.4"
      }
     }
    },
    "version_major": 1,
    "version_minor": 0
   }
  }
 },
 "nbformat": 4,
 "nbformat_minor": 1
}
