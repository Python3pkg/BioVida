{
 "cells": [
  {
   "cell_type": "markdown",
   "metadata": {},
   "source": [
    "BioVida: Open-i\n",
    "========\n",
    "---"
   ]
  },
  {
   "cell_type": "markdown",
   "metadata": {},
   "source": [
    "[Open-i](https://openi.nlm.nih.gov) is an open access biomedical search engine provided by the US National Institutes of Health. The service grants programmatic access to its over 1.2 million images through a RESTful web API. BioVida provides an easy-to-use python interface for this web API, located in the ``images`` subpackage."
   ]
  },
  {
   "cell_type": "code",
   "execution_count": 1,
   "metadata": {},
   "outputs": [
    {
     "name": "stderr",
     "output_type": "stream",
     "text": [
      "Using Theano backend.\n"
     ]
    }
   ],
   "source": [
    "from biovida.images import OpeniInterface"
   ]
  },
  {
   "cell_type": "markdown",
   "metadata": {},
   "source": [
    "\n"
   ]
  },
  {
   "cell_type": "code",
   "execution_count": 2,
   "metadata": {},
   "outputs": [],
   "source": [
    "opi = OpeniInterface()"
   ]
  },
  {
   "cell_type": "markdown",
   "metadata": {
    "collapsed": true
   },
   "source": [
    "We start by creating an instance of the class. All BioVida interfaces accept at least two parameters: ``verbose`` and ``cache_path``. The first simply determines whether or not the class provides you with additional updates as the class works. The second refers to the location where will be stored (or *cached*) on your computer. If left to its default, data will be cached in a directory entitled *biovida_cache* in your home directory. For most use cases, this should suffice."
   ]
  },
  {
   "cell_type": "markdown",
   "metadata": {},
   "source": [
    "---\n",
    "\n",
    "### Searching"
   ]
  },
  {
   "cell_type": "markdown",
   "metadata": {},
   "source": [
    "To search the Open-i database, we can use the ``OpeniInterface``'s ``search`` method. To explore valid values that can be passed to ``search``, we can use ``options()``."
   ]
  },
  {
   "cell_type": "code",
   "execution_count": 3,
   "metadata": {},
   "outputs": [
    {
     "name": "stdout",
     "output_type": "stream",
     "text": [
      "  - 'article_type'\n",
      "  - 'collection'\n",
      "  - 'exclusions'\n",
      "  - 'fields'\n",
      "  - 'image_type'\n",
      "  - 'rankby'\n",
      "  - 'specialties'\n",
      "  - 'subset'\n",
      "  - 'video'\n"
     ]
    }
   ],
   "source": [
    "opi.options()"
   ]
  },
  {
   "cell_type": "markdown",
   "metadata": {
    "collapsed": true
   },
   "source": [
    "The code above enumerates all of the parameters, apart from a specific ``query`` string, that can be passed to ``search()``. Additionally, ``options()`` can be used to investigate the valid values for any one of these parameters."
   ]
  },
  {
   "cell_type": "code",
   "execution_count": 4,
   "metadata": {},
   "outputs": [
    {
     "name": "stdout",
     "output_type": "stream",
     "text": [
      "  - 'history_of_medicine'\n",
      "  - 'indiana_u_xray'\n",
      "  - 'medpix'\n",
      "  - 'pubmed'\n",
      "  - 'usc_anatomy'\n"
     ]
    }
   ],
   "source": [
    "opi.options('collection')"
   ]
  },
  {
   "cell_type": "code",
   "execution_count": 5,
   "metadata": {},
   "outputs": [
    {
     "name": "stdout",
     "output_type": "stream",
     "text": [
      "  - 'ct'\n",
      "  - 'graphic'\n",
      "  - 'microscopy'\n",
      "  - 'mri'\n",
      "  - 'pet'\n",
      "  - 'photograph'\n",
      "  - 'ultrasound'\n",
      "  - 'x_ray'\n"
     ]
    }
   ],
   "source": [
    "opi.options('image_type')"
   ]
  },
  {
   "cell_type": "markdown",
   "metadata": {},
   "source": [
    "Let's go ahead and perform a search for X-ray and CT images of 'lung cancer' from the PubMed collection/database."
   ]
  },
  {
   "cell_type": "code",
   "execution_count": 6,
   "metadata": {},
   "outputs": [
    {
     "name": "stdout",
     "output_type": "stream",
     "text": [
      "\n",
      "Results Found: 8,531.\n"
     ]
    }
   ],
   "source": [
    "opi.search(query='lung cancer', image_type=('x_ray', 'ct'), collection='pubmed')"
   ]
  },
  {
   "cell_type": "markdown",
   "metadata": {},
   "source": [
    "---\n",
    "\n",
    "### Downloading Data"
   ]
  },
  {
   "cell_type": "markdown",
   "metadata": {},
   "source": [
    "Now that we've defined a search, we can easily download some, or all, of the results found.\n",
    "For the sake of expediency, let's limit the number of results we download to the first 1500."
   ]
  },
  {
   "cell_type": "code",
   "execution_count": 7,
   "metadata": {},
   "outputs": [
    {
     "name": "stdout",
     "output_type": "stream",
     "text": [
      "\n",
      "Number of Records to Download: 1,500 (chunk size: 30 records).\n"
     ]
    },
    {
     "data": {
      "application/vnd.jupyter.widget-view+json": {
       "model_id": "3f3b0940277540388cbc1f33553a7c24"
      }
     },
     "metadata": {},
     "output_type": "display_data"
    },
    {
     "name": "stdout",
     "output_type": "stream",
     "text": [
      "\n"
     ]
    },
    {
     "data": {
      "application/vnd.jupyter.widget-view+json": {
       "model_id": "6cac1143e9d44081849b51b0f2a2ac3f"
      }
     },
     "metadata": {},
     "output_type": "display_data"
    },
    {
     "name": "stdout",
     "output_type": "stream",
     "text": [
      "\n"
     ]
    },
    {
     "data": {
      "application/vnd.jupyter.widget-view+json": {
       "model_id": "7ca599b8df9747afb0cf02c3b0cae26f"
      }
     },
     "metadata": {},
     "output_type": "display_data"
    },
    {
     "name": "stdout",
     "output_type": "stream",
     "text": [
      "\n"
     ]
    }
   ],
   "source": [
    "pull_df = opi.pull(download_limit=1500)"
   ]
  },
  {
   "cell_type": "markdown",
   "metadata": {},
   "source": [
    "The text information associated with images are referred to as 'records', which are downloaded in 'chunks' of no more than 30 at a time. <br>\n",
    "Images, unlike records, are downloaded 'one by one'. However, ``pull()`` will check the cache before downloading an image, in an effort to reduce redundant downloads."
   ]
  },
  {
   "cell_type": "markdown",
   "metadata": {},
   "source": [
    "The dataframe generated by ``pull()`` can be viewed using either ``opi.records_db``, or the ``pull_df`` used above to capture the output of ``pull()``. Both will be identical. We can also view an abbreviated dataframe, ``opi.records_db_short``, which has several (typically unneeded) columns removed. "
   ]
  },
  {
   "cell_type": "code",
   "execution_count": 8,
   "metadata": {
    "collapsed": true
   },
   "outputs": [],
   "source": [
    "import numpy as np\n",
    "def simplify_df(df):\n",
    "    \"\"\"This function simplifies dataframes\n",
    "    for the purposes of this tutorial.\"\"\"\n",
    "    data_frame = df.copy()\n",
    "#     for c in ('parsed_abstract', 'query'):\n",
    "#         data_frame[c] = data_frame[c].map(lambda x: str(x) if str(x) != 'nan' else x)\n",
    "    data_frame['cached_images_path'] = '/path/to/image'\n",
    "    return data_frame[0:5].replace({np.NaN: ''})"
   ]
  },
  {
   "cell_type": "code",
   "execution_count": 9,
   "metadata": {},
   "outputs": [
    {
     "data": {
      "text/html": [
       "<div>\n",
       "<table border=\"1\" class=\"dataframe\">\n",
       "  <thead>\n",
       "    <tr style=\"text-align: right;\">\n",
       "      <th></th>\n",
       "      <th>mesh_major</th>\n",
       "      <th>mesh_minor</th>\n",
       "      <th>problems</th>\n",
       "      <th>abstract</th>\n",
       "      <th>affiliate</th>\n",
       "      <th>article_type</th>\n",
       "      <th>authors</th>\n",
       "      <th>cc_license</th>\n",
       "      <th>doc_source</th>\n",
       "      <th>image_caption</th>\n",
       "      <th>...</th>\n",
       "      <th>image_problems_from_text</th>\n",
       "      <th>imaging_modality_from_text</th>\n",
       "      <th>parsed_abstract</th>\n",
       "      <th>sex</th>\n",
       "      <th>modality_full</th>\n",
       "      <th>image_id_short</th>\n",
       "      <th>query</th>\n",
       "      <th>pull_time</th>\n",
       "      <th>cached_images_path</th>\n",
       "      <th>download_success</th>\n",
       "    </tr>\n",
       "  </thead>\n",
       "  <tbody>\n",
       "    <tr>\n",
       "      <th>0</th>\n",
       "      <td></td>\n",
       "      <td></td>\n",
       "      <td>lung cancer</td>\n",
       "      <td>Lung cancer is one of the leading causes of ca...</td>\n",
       "      <td>Department of Nuclear Medicine and Molecular I...</td>\n",
       "      <td>other</td>\n",
       "      <td>Purandare NC, Rangarajan V</td>\n",
       "      <td>byncsa</td>\n",
       "      <td>PMC</td>\n",
       "      <td>(A-D) Nodal disease. Right upper paratracheal ...</td>\n",
       "      <td>...</td>\n",
       "      <td>(arrows, grids)</td>\n",
       "      <td>Computed Tomography (CT): chest</td>\n",
       "      <td></td>\n",
       "      <td>male</td>\n",
       "      <td>Computed Tomography (CT)</td>\n",
       "      <td>7</td>\n",
       "      <td>{'exclusions': ['graphics'], 'video': None, 's...</td>\n",
       "      <td>2017-04-07 23:47:27.980078</td>\n",
       "      <td>/path/to/image</td>\n",
       "      <td>True</td>\n",
       "    </tr>\n",
       "    <tr>\n",
       "      <th>1</th>\n",
       "      <td></td>\n",
       "      <td></td>\n",
       "      <td>nsclc</td>\n",
       "      <td>Non-small cell lung cancer (NSCLC) accounts fo...</td>\n",
       "      <td>Cardiopulmonary Department, Sant'Andrea Hospit...</td>\n",
       "      <td>research_article</td>\n",
       "      <td>Pezzuto A, Piraino A, Mariotta S</td>\n",
       "      <td>by</td>\n",
       "      <td>PMC</td>\n",
       "      <td>Case 2: (A) CT scan showing the lung after sur...</td>\n",
       "      <td>...</td>\n",
       "      <td></td>\n",
       "      <td>Computed Tomography (CT): chest</td>\n",
       "      <td></td>\n",
       "      <td>female</td>\n",
       "      <td>Computed Tomography (CT)</td>\n",
       "      <td>2</td>\n",
       "      <td>{'exclusions': ['graphics'], 'video': None, 's...</td>\n",
       "      <td>2017-04-07 23:47:27.980078</td>\n",
       "      <td>/path/to/image</td>\n",
       "      <td>True</td>\n",
       "    </tr>\n",
       "    <tr>\n",
       "      <th>2</th>\n",
       "      <td>(Adrenal Insufficiency/diagnosis*/drug therapy...</td>\n",
       "      <td>(Acute Disease, Adrenal Cortex Hormones/therap...</td>\n",
       "      <td>hypoxia;tachycardia</td>\n",
       "      <td>Background: Adrenal crisis after surgical pro...</td>\n",
       "      <td>Department of Orthopedic Surgery, Osaka Medica...</td>\n",
       "      <td>research_article</td>\n",
       "      <td>Naka N, Takenaka S, Nanno K, Moriguchi Y, Chun...</td>\n",
       "      <td>by</td>\n",
       "      <td>PMC</td>\n",
       "      <td>CT scan showing bilateral adrenal enlargement ...</td>\n",
       "      <td>...</td>\n",
       "      <td>(asterisks,)</td>\n",
       "      <td>Computed Tomography (CT): chest</td>\n",
       "      <td>{'conclusion': 'We describe a case of adrenal ...</td>\n",
       "      <td>male</td>\n",
       "      <td>Computed Tomography (CT)</td>\n",
       "      <td>1</td>\n",
       "      <td>{'exclusions': ['graphics'], 'video': None, 's...</td>\n",
       "      <td>2017-04-07 23:47:27.980078</td>\n",
       "      <td>/path/to/image</td>\n",
       "      <td>True</td>\n",
       "    </tr>\n",
       "    <tr>\n",
       "      <th>3</th>\n",
       "      <td></td>\n",
       "      <td></td>\n",
       "      <td>small cell carcinoma of lung</td>\n",
       "      <td>Subcutaneous swelling as first clinical presen...</td>\n",
       "      <td>Department of Medicine.</td>\n",
       "      <td>case_report</td>\n",
       "      <td>Kumar S, Gupta A, Diwan SK, Bhake A</td>\n",
       "      <td></td>\n",
       "      <td>PMC</td>\n",
       "      <td>Computerized tomography of the chest showing p...</td>\n",
       "      <td>...</td>\n",
       "      <td></td>\n",
       "      <td>Computed Tomography (CT): chest</td>\n",
       "      <td></td>\n",
       "      <td>male</td>\n",
       "      <td>Computed Tomography (CT)</td>\n",
       "      <td>3</td>\n",
       "      <td>{'exclusions': ['graphics'], 'video': None, 's...</td>\n",
       "      <td>2017-04-07 23:47:27.980078</td>\n",
       "      <td>/path/to/image</td>\n",
       "      <td>True</td>\n",
       "    </tr>\n",
       "    <tr>\n",
       "      <th>4</th>\n",
       "      <td>(Echocardiography/methods*, Lung/ultrasonograp...</td>\n",
       "      <td>(Aged, Humans, Incidental Findings, Male)</td>\n",
       "      <td>lung tumor</td>\n",
       "      <td>We present images of a rare case where a prima...</td>\n",
       "      <td>Department of Clinical Physiology and Nuclear ...</td>\n",
       "      <td>research_article</td>\n",
       "      <td>Dencker M, Cronberg C, Damm S, Valind S, Wadbo M</td>\n",
       "      <td>by</td>\n",
       "      <td>PMC</td>\n",
       "      <td>Display of CT-image. The arrow indicates the n...</td>\n",
       "      <td>...</td>\n",
       "      <td>(arrows,)</td>\n",
       "      <td>Computed Tomography (CT): chest</td>\n",
       "      <td></td>\n",
       "      <td>male</td>\n",
       "      <td>Computed Tomography (CT)</td>\n",
       "      <td>2</td>\n",
       "      <td>{'exclusions': ['graphics'], 'video': None, 's...</td>\n",
       "      <td>2017-04-07 23:47:27.980078</td>\n",
       "      <td>/path/to/image</td>\n",
       "      <td>True</td>\n",
       "    </tr>\n",
       "  </tbody>\n",
       "</table>\n",
       "<p>5 rows × 38 columns</p>\n",
       "</div>"
      ],
      "text/plain": [
       "                                          mesh_major  \\\n",
       "0                                                      \n",
       "1                                                      \n",
       "2  (Adrenal Insufficiency/diagnosis*/drug therapy...   \n",
       "3                                                      \n",
       "4  (Echocardiography/methods*, Lung/ultrasonograp...   \n",
       "\n",
       "                                          mesh_minor  \\\n",
       "0                                                      \n",
       "1                                                      \n",
       "2  (Acute Disease, Adrenal Cortex Hormones/therap...   \n",
       "3                                                      \n",
       "4          (Aged, Humans, Incidental Findings, Male)   \n",
       "\n",
       "                       problems  \\\n",
       "0                   lung cancer   \n",
       "1                         nsclc   \n",
       "2           hypoxia;tachycardia   \n",
       "3  small cell carcinoma of lung   \n",
       "4                    lung tumor   \n",
       "\n",
       "                                            abstract  \\\n",
       "0  Lung cancer is one of the leading causes of ca...   \n",
       "1  Non-small cell lung cancer (NSCLC) accounts fo...   \n",
       "2   Background: Adrenal crisis after surgical pro...   \n",
       "3  Subcutaneous swelling as first clinical presen...   \n",
       "4  We present images of a rare case where a prima...   \n",
       "\n",
       "                                           affiliate      article_type  \\\n",
       "0  Department of Nuclear Medicine and Molecular I...             other   \n",
       "1  Cardiopulmonary Department, Sant'Andrea Hospit...  research_article   \n",
       "2  Department of Orthopedic Surgery, Osaka Medica...  research_article   \n",
       "3                            Department of Medicine.       case_report   \n",
       "4  Department of Clinical Physiology and Nuclear ...  research_article   \n",
       "\n",
       "                                             authors cc_license doc_source  \\\n",
       "0                         Purandare NC, Rangarajan V     byncsa        PMC   \n",
       "1                   Pezzuto A, Piraino A, Mariotta S         by        PMC   \n",
       "2  Naka N, Takenaka S, Nanno K, Moriguchi Y, Chun...         by        PMC   \n",
       "3                Kumar S, Gupta A, Diwan SK, Bhake A                   PMC   \n",
       "4   Dencker M, Cronberg C, Damm S, Valind S, Wadbo M         by        PMC   \n",
       "\n",
       "                                       image_caption       ...         \\\n",
       "0  (A-D) Nodal disease. Right upper paratracheal ...       ...          \n",
       "1  Case 2: (A) CT scan showing the lung after sur...       ...          \n",
       "2  CT scan showing bilateral adrenal enlargement ...       ...          \n",
       "3  Computerized tomography of the chest showing p...       ...          \n",
       "4  Display of CT-image. The arrow indicates the n...       ...          \n",
       "\n",
       "  image_problems_from_text       imaging_modality_from_text  \\\n",
       "0          (arrows, grids)  Computed Tomography (CT): chest   \n",
       "1                           Computed Tomography (CT): chest   \n",
       "2             (asterisks,)  Computed Tomography (CT): chest   \n",
       "3                           Computed Tomography (CT): chest   \n",
       "4                (arrows,)  Computed Tomography (CT): chest   \n",
       "\n",
       "                                     parsed_abstract     sex  \\\n",
       "0                                                       male   \n",
       "1                                                     female   \n",
       "2  {'conclusion': 'We describe a case of adrenal ...    male   \n",
       "3                                                       male   \n",
       "4                                                       male   \n",
       "\n",
       "              modality_full image_id_short  \\\n",
       "0  Computed Tomography (CT)              7   \n",
       "1  Computed Tomography (CT)              2   \n",
       "2  Computed Tomography (CT)              1   \n",
       "3  Computed Tomography (CT)              3   \n",
       "4  Computed Tomography (CT)              2   \n",
       "\n",
       "                                               query  \\\n",
       "0  {'exclusions': ['graphics'], 'video': None, 's...   \n",
       "1  {'exclusions': ['graphics'], 'video': None, 's...   \n",
       "2  {'exclusions': ['graphics'], 'video': None, 's...   \n",
       "3  {'exclusions': ['graphics'], 'video': None, 's...   \n",
       "4  {'exclusions': ['graphics'], 'video': None, 's...   \n",
       "\n",
       "                   pull_time cached_images_path download_success  \n",
       "0 2017-04-07 23:47:27.980078     /path/to/image             True  \n",
       "1 2017-04-07 23:47:27.980078     /path/to/image             True  \n",
       "2 2017-04-07 23:47:27.980078     /path/to/image             True  \n",
       "3 2017-04-07 23:47:27.980078     /path/to/image             True  \n",
       "4 2017-04-07 23:47:27.980078     /path/to/image             True  \n",
       "\n",
       "[5 rows x 38 columns]"
      ]
     },
     "execution_count": 9,
     "metadata": {},
     "output_type": "execute_result"
    }
   ],
   "source": [
    "simplify_df(opi.records_db_short)"
   ]
  },
  {
   "cell_type": "markdown",
   "metadata": {},
   "source": [
    "This dataframe is provides a lot of rich data, which is valuable independent of the images which have also been downloaded. "
   ]
  },
  {
   "cell_type": "markdown",
   "metadata": {},
   "source": [
    "For instance, it is possible to quickly generate some descriptive statistics about our newly created 'lung cancer' dataset."
   ]
  },
  {
   "cell_type": "code",
   "execution_count": 10,
   "metadata": {},
   "outputs": [
    {
     "data": {
      "text/plain": [
       "count    966.000000\n",
       "mean      53.337267\n",
       "std       21.999990\n",
       "min        1.000000\n",
       "25%       47.000000\n",
       "50%       59.000000\n",
       "75%       68.000000\n",
       "max       91.400000\n",
       "Name: age, dtype: float64"
      ]
     },
     "execution_count": 10,
     "metadata": {},
     "output_type": "execute_result"
    }
   ],
   "source": [
    "pull_df['age'].describe()"
   ]
  },
  {
   "cell_type": "code",
   "execution_count": 11,
   "metadata": {},
   "outputs": [
    {
     "data": {
      "text/plain": [
       "male      0.722359\n",
       "female    0.277641\n",
       "Name: sex, dtype: float64"
      ]
     },
     "execution_count": 11,
     "metadata": {},
     "output_type": "execute_result"
    }
   ],
   "source": [
    "pull_df['sex'].value_counts(normalize=True)"
   ]
  },
  {
   "cell_type": "markdown",
   "metadata": {},
   "source": [
    "The `age` and `sex` columns are generated by analyzing the raw text provided by Open-i. It is reasonably accurate, but mistakes are certainly possible."
   ]
  },
  {
   "cell_type": "markdown",
   "metadata": {
    "collapsed": true
   },
   "source": [
    "It should also be mentioned that ``opi.records_db`` *only* contains data for the most recent ``search()`` and ``pull()``. Conversely, **``cache_records_db``** provides a record of all images in the cache, e.g., those obtained several weeks ago."
   ]
  },
  {
   "cell_type": "markdown",
   "metadata": {
    "collapsed": true
   },
   "source": [
    "---\n",
    "\n",
    "### Images"
   ]
  },
  {
   "cell_type": "markdown",
   "metadata": {},
   "source": [
    "Now that we've explored obtaining and reviewing data, we can finally turn our attention to images themselves."
   ]
  },
  {
   "cell_type": "code",
   "execution_count": 12,
   "metadata": {
    "collapsed": true
   },
   "outputs": [],
   "source": [
    "from utils import show_image\n",
    "%matplotlib inline"
   ]
  },
  {
   "cell_type": "markdown",
   "metadata": {},
   "source": [
    "Note: ``utils`` is a small script with some helpful functions located in the base of this directory. "
   ]
  },
  {
   "cell_type": "markdown",
   "metadata": {},
   "source": [
    "Using the ``show_images`` imported above, we can now look at a random images we pulled in the step above."
   ]
  },
  {
   "cell_type": "code",
   "execution_count": 13,
   "metadata": {
    "collapsed": true
   },
   "outputs": [],
   "source": [
    "# show_image(opi.records_db['cached_images_path'].iloc[156])"
   ]
  },
  {
   "cell_type": "code",
   "execution_count": 14,
   "metadata": {},
   "outputs": [
    {
     "data": {
      "text/plain": [
       "'open-access'"
      ]
     },
     "execution_count": 14,
     "metadata": {},
     "output_type": "execute_result"
    }
   ],
   "source": [
    "opi.records_db['license_type'].iloc[156]"
   ]
  },
  {
   "cell_type": "markdown",
   "metadata": {
    "collapsed": true
   },
   "source": [
    "Let's also look at the age and sex of this subject. "
   ]
  },
  {
   "cell_type": "code",
   "execution_count": 15,
   "metadata": {},
   "outputs": [
    {
     "name": "stdout",
     "output_type": "stream",
     "text": [
      "age: 48.0, sex: male.\n"
     ]
    }
   ],
   "source": [
    "age_sex = opi.records_db['age'].iloc[156], opi.records_db['sex'].iloc[156]\n",
    "print(\"age: {0}, sex: {1}.\".format(*age_sex))"
   ]
  },
  {
   "cell_type": "markdown",
   "metadata": {},
   "source": [
    "We can also easily check their diagnosis"
   ]
  },
  {
   "cell_type": "code",
   "execution_count": 16,
   "metadata": {},
   "outputs": [
    {
     "data": {
      "text/plain": [
       "'carcinoma; neurofibromatosis'"
      ]
     },
     "execution_count": 16,
     "metadata": {},
     "output_type": "execute_result"
    }
   ],
   "source": [
    "opi.records_db['diagnosis'].iloc[156]"
   ]
  },
  {
   "cell_type": "markdown",
   "metadata": {},
   "source": [
    "Please be advised that for collections other than 'MedPix'\\*, such as PubMed, diagnosis information is obtained by analyzing the text associated with the image. ***Errors are possible***.\n",
    "\n",
    "\\*MedPix explicitly provides diagnosis information, so it can be assumed to be accurate.  "
   ]
  },
  {
   "cell_type": "markdown",
   "metadata": {},
   "source": [
    "---\n",
    "\n",
    "### Automated Cleaning of Image Data (<font color='red'>Experimental</font>)"
   ]
  },
  {
   "cell_type": "markdown",
   "metadata": {},
   "source": [
    "While the data may look OK so far, if we look more closely we will likely find several problems with the images we have downloaded."
   ]
  },
  {
   "cell_type": "code",
   "execution_count": 17,
   "metadata": {
    "collapsed": true
   },
   "outputs": [],
   "source": [
    "# show_image(opi.records_db['cached_images_path'].iloc[100])"
   ]
  },
  {
   "cell_type": "code",
   "execution_count": 18,
   "metadata": {
    "collapsed": true
   },
   "outputs": [],
   "source": [
    "# show_image(opi.records_db['cached_images_path'].iloc[10])"
   ]
  },
  {
   "cell_type": "markdown",
   "metadata": {
    "collapsed": true
   },
   "source": [
    "The images above contain several clear problems. They both contain arrows and the latter is actually a 'grid' of images. These are liable to confuse any model we attempt to train detect disease. We could manually go through and remove these images or, alternatively, we can use the *experimental* ``OpeniImageProcessing`` class to try and eliminate these images from our dataset automatically."
   ]
  },
  {
   "cell_type": "code",
   "execution_count": 19,
   "metadata": {
    "collapsed": true
   },
   "outputs": [],
   "source": [
    "from biovida.images import OpeniImageProcessing"
   ]
  },
  {
   "cell_type": "markdown",
   "metadata": {},
   "source": [
    "We initialize this class using our ``OpeniInterface`` instance.\n",
    "By default, it will extract the `records_db` DataFrame. Do note, however, that we can force it to extract the ``cache_records_db`` DataFrame by setting the ``db_to_extract`` equal to 'cache_records_db'."
   ]
  },
  {
   "cell_type": "code",
   "execution_count": 20,
   "metadata": {
    "collapsed": true
   },
   "outputs": [],
   "source": [
    "ip = OpeniImageProcessing(opi)"
   ]
  },
  {
   "cell_type": "markdown",
   "metadata": {
    "collapsed": true
   },
   "source": [
    "``OpeniImageProcessing`` will automatically download a model for a *Convolutional Neural Network* (convnet) which has been trained to detect these kinds of problems. If you are unfamiliar with these kinds of models, you can read more about them [here](http://cs231n.github.io/convolutional-networks/)."
   ]
  },
  {
   "cell_type": "markdown",
   "metadata": {
    "collapsed": true
   },
   "source": [
    "The ``OpeniImageProcessing`` class tries to detect problems in the images by analyzing both the text associated it is associated with as well as by feeding the image through the convnet mentioned above. However, by default the ``OpeniImageProcessing`` class will only use predictions gleaned from this model if it has been explicitly trained on images from that kind of [imaging modality](https://encrypted.google.com/url?sa=t&rct=j&q=&esrc=s&source=web&cd=16&ved=0ahUKEwjd3pbG0IvTAhUn5YMKHTFMDoYQygQIaTAP&url=https%3A%2F%2Fen.wikipedia.org%2Fwiki%2FMedical_imaging%23Imaging_modalities&usg=AFQjCNHL9pIw5HQ6bjdufkm1XbclcKyRXQ&sig2=c6SL1Ev2J8wM2JlQmrmjxw)."
   ]
  },
  {
   "cell_type": "markdown",
   "metadata": {
    "collapsed": true
   },
   "source": [
    "We can easily check the modalities for which the model has been trained:"
   ]
  },
  {
   "cell_type": "code",
   "execution_count": 21,
   "metadata": {},
   "outputs": [
    {
     "data": {
      "text/plain": [
       "['ct', 'mri', 'x_ray']"
      ]
     },
     "execution_count": 21,
     "metadata": {},
     "output_type": "execute_result"
    }
   ],
   "source": [
    "ip.trained_open_i_modality_types"
   ]
  },
  {
   "cell_type": "markdown",
   "metadata": {
    "collapsed": true
   },
   "source": [
    "Luckily, we're working with X-rays and CTs. <br>"
   ]
  },
  {
   "cell_type": "markdown",
   "metadata": {
    "collapsed": true
   },
   "source": [
    "Now we're ready to analyze our images."
   ]
  },
  {
   "cell_type": "code",
   "execution_count": 22,
   "metadata": {},
   "outputs": [
    {
     "data": {
      "application/vnd.jupyter.widget-view+json": {
       "model_id": "761a0c7cfc1744cca37b9ed7486ea3fc"
      }
     },
     "metadata": {},
     "output_type": "display_data"
    },
    {
     "name": "stdout",
     "output_type": "stream",
     "text": [
      "\n"
     ]
    },
    {
     "data": {
      "application/vnd.jupyter.widget-view+json": {
       "model_id": "43bcc92c13e344a99a95e6f4987fbb42"
      }
     },
     "metadata": {},
     "output_type": "display_data"
    },
    {
     "name": "stdout",
     "output_type": "stream",
     "text": [
      "\n"
     ]
    },
    {
     "data": {
      "application/vnd.jupyter.widget-view+json": {
       "model_id": "4a3f4d9bfcd24ef4a955049bf4ab472c"
      }
     },
     "metadata": {},
     "output_type": "display_data"
    },
    {
     "name": "stdout",
     "output_type": "stream",
     "text": [
      "\n"
     ]
    },
    {
     "data": {
      "application/vnd.jupyter.widget-view+json": {
       "model_id": "94ad25a2132b433487c2e628c1264bbe"
      }
     },
     "metadata": {},
     "output_type": "display_data"
    },
    {
     "name": "stdout",
     "output_type": "stream",
     "text": [
      "\n"
     ]
    },
    {
     "data": {
      "application/vnd.jupyter.widget-view+json": {
       "model_id": "ed80f244912d4df59d354bed99376972"
      }
     },
     "metadata": {},
     "output_type": "display_data"
    },
    {
     "name": "stdout",
     "output_type": "stream",
     "text": [
      "\n"
     ]
    },
    {
     "data": {
      "application/vnd.jupyter.widget-view+json": {
       "model_id": "8de3b818bc0141e1a0d6387310d4774e"
      }
     },
     "metadata": {},
     "output_type": "display_data"
    },
    {
     "name": "stdout",
     "output_type": "stream",
     "text": [
      "\n"
     ]
    }
   ],
   "source": [
    "analysis_df = ip.auto()"
   ]
  },
  {
   "cell_type": "code",
   "execution_count": 23,
   "metadata": {},
   "outputs": [
    {
     "data": {
      "text/html": [
       "<div>\n",
       "<table border=\"1\" class=\"dataframe\">\n",
       "  <thead>\n",
       "    <tr style=\"text-align: right;\">\n",
       "      <th></th>\n",
       "      <th>mesh_major</th>\n",
       "      <th>mesh_minor</th>\n",
       "      <th>problems</th>\n",
       "      <th>abstract</th>\n",
       "      <th>affiliate</th>\n",
       "      <th>article_type</th>\n",
       "      <th>authors</th>\n",
       "      <th>cc_license</th>\n",
       "      <th>detailed_query_url</th>\n",
       "      <th>doc_source</th>\n",
       "      <th>...</th>\n",
       "      <th>grayscale</th>\n",
       "      <th>medpix_logo_bounding_box</th>\n",
       "      <th>hbar</th>\n",
       "      <th>hborder</th>\n",
       "      <th>vborder</th>\n",
       "      <th>upper_crop</th>\n",
       "      <th>lower_crop</th>\n",
       "      <th>visual_image_problems</th>\n",
       "      <th>invalid_image</th>\n",
       "      <th>invalid_image_reasons</th>\n",
       "    </tr>\n",
       "  </thead>\n",
       "  <tbody>\n",
       "    <tr>\n",
       "      <th>0</th>\n",
       "      <td></td>\n",
       "      <td></td>\n",
       "      <td>lung cancer</td>\n",
       "      <td>Lung cancer is one of the leading causes of ca...</td>\n",
       "      <td>Department of Nuclear Medicine and Molecular I...</td>\n",
       "      <td>other</td>\n",
       "      <td>Purandare NC, Rangarajan V</td>\n",
       "      <td>byncsa</td>\n",
       "      <td>https://openi.nlm.nih.gov/retrieve.php?img=PMC...</td>\n",
       "      <td>PMC</td>\n",
       "      <td>...</td>\n",
       "      <td>False</td>\n",
       "      <td></td>\n",
       "      <td></td>\n",
       "      <td></td>\n",
       "      <td></td>\n",
       "      <td></td>\n",
       "      <td></td>\n",
       "      <td>[(grids, 0.864566), (arrows, 0.00571598), (tex...</td>\n",
       "      <td>True</td>\n",
       "      <td>(grayscale, image_problems_from_text, visual_i...</td>\n",
       "    </tr>\n",
       "    <tr>\n",
       "      <th>1</th>\n",
       "      <td></td>\n",
       "      <td></td>\n",
       "      <td>nsclc</td>\n",
       "      <td>Non-small cell lung cancer (NSCLC) accounts fo...</td>\n",
       "      <td>Cardiopulmonary Department, Sant'Andrea Hospit...</td>\n",
       "      <td>research_article</td>\n",
       "      <td>Pezzuto A, Piraino A, Mariotta S</td>\n",
       "      <td>by</td>\n",
       "      <td>https://openi.nlm.nih.gov/retrieve.php?img=PMC...</td>\n",
       "      <td>PMC</td>\n",
       "      <td>...</td>\n",
       "      <td>True</td>\n",
       "      <td></td>\n",
       "      <td></td>\n",
       "      <td></td>\n",
       "      <td></td>\n",
       "      <td></td>\n",
       "      <td></td>\n",
       "      <td>[(valid_image, 0.858156), (text, 0.100862), (a...</td>\n",
       "      <td>False</td>\n",
       "      <td></td>\n",
       "    </tr>\n",
       "    <tr>\n",
       "      <th>2</th>\n",
       "      <td>(Adrenal Insufficiency/diagnosis*/drug therapy...</td>\n",
       "      <td>(Acute Disease, Adrenal Cortex Hormones/therap...</td>\n",
       "      <td>hypoxia;tachycardia</td>\n",
       "      <td>Background: Adrenal crisis after surgical pro...</td>\n",
       "      <td>Department of Orthopedic Surgery, Osaka Medica...</td>\n",
       "      <td>research_article</td>\n",
       "      <td>Naka N, Takenaka S, Nanno K, Moriguchi Y, Chun...</td>\n",
       "      <td>by</td>\n",
       "      <td>https://openi.nlm.nih.gov/retrieve.php?img=PMC...</td>\n",
       "      <td>PMC</td>\n",
       "      <td>...</td>\n",
       "      <td>True</td>\n",
       "      <td></td>\n",
       "      <td>327</td>\n",
       "      <td></td>\n",
       "      <td></td>\n",
       "      <td></td>\n",
       "      <td>327</td>\n",
       "      <td>[(valid_image, 0.914723), (arrows, 0.0369132),...</td>\n",
       "      <td>True</td>\n",
       "      <td>(image_problems_from_text,)</td>\n",
       "    </tr>\n",
       "    <tr>\n",
       "      <th>3</th>\n",
       "      <td></td>\n",
       "      <td></td>\n",
       "      <td>small cell carcinoma of lung</td>\n",
       "      <td>Subcutaneous swelling as first clinical presen...</td>\n",
       "      <td>Department of Medicine.</td>\n",
       "      <td>case_report</td>\n",
       "      <td>Kumar S, Gupta A, Diwan SK, Bhake A</td>\n",
       "      <td></td>\n",
       "      <td>https://openi.nlm.nih.gov/retrieve.php?img=PMC...</td>\n",
       "      <td>PMC</td>\n",
       "      <td>...</td>\n",
       "      <td>False</td>\n",
       "      <td></td>\n",
       "      <td>348</td>\n",
       "      <td>(4, 351)</td>\n",
       "      <td>(191, 491)</td>\n",
       "      <td>4</td>\n",
       "      <td>348</td>\n",
       "      <td>[(arrows, 0.998476), (grids, 0.000149499), (va...</td>\n",
       "      <td>True</td>\n",
       "      <td>(grayscale, visual_image_problems)</td>\n",
       "    </tr>\n",
       "    <tr>\n",
       "      <th>4</th>\n",
       "      <td>(Echocardiography/methods*, Lung/ultrasonograp...</td>\n",
       "      <td>(Aged, Humans, Incidental Findings, Male)</td>\n",
       "      <td>lung tumor</td>\n",
       "      <td>We present images of a rare case where a prima...</td>\n",
       "      <td>Department of Clinical Physiology and Nuclear ...</td>\n",
       "      <td>research_article</td>\n",
       "      <td>Dencker M, Cronberg C, Damm S, Valind S, Wadbo M</td>\n",
       "      <td>by</td>\n",
       "      <td>https://openi.nlm.nih.gov/retrieve.php?img=PMC...</td>\n",
       "      <td>PMC</td>\n",
       "      <td>...</td>\n",
       "      <td>False</td>\n",
       "      <td></td>\n",
       "      <td>294</td>\n",
       "      <td></td>\n",
       "      <td>(96, 487)</td>\n",
       "      <td></td>\n",
       "      <td>294</td>\n",
       "      <td>[(grids, 0.993127), (arrows, 8.44916e-06), (va...</td>\n",
       "      <td>True</td>\n",
       "      <td>(grayscale, image_problems_from_text, visual_i...</td>\n",
       "    </tr>\n",
       "  </tbody>\n",
       "</table>\n",
       "<p>5 rows × 65 columns</p>\n",
       "</div>"
      ],
      "text/plain": [
       "                                          mesh_major  \\\n",
       "0                                                      \n",
       "1                                                      \n",
       "2  (Adrenal Insufficiency/diagnosis*/drug therapy...   \n",
       "3                                                      \n",
       "4  (Echocardiography/methods*, Lung/ultrasonograp...   \n",
       "\n",
       "                                          mesh_minor  \\\n",
       "0                                                      \n",
       "1                                                      \n",
       "2  (Acute Disease, Adrenal Cortex Hormones/therap...   \n",
       "3                                                      \n",
       "4          (Aged, Humans, Incidental Findings, Male)   \n",
       "\n",
       "                       problems  \\\n",
       "0                   lung cancer   \n",
       "1                         nsclc   \n",
       "2           hypoxia;tachycardia   \n",
       "3  small cell carcinoma of lung   \n",
       "4                    lung tumor   \n",
       "\n",
       "                                            abstract  \\\n",
       "0  Lung cancer is one of the leading causes of ca...   \n",
       "1  Non-small cell lung cancer (NSCLC) accounts fo...   \n",
       "2   Background: Adrenal crisis after surgical pro...   \n",
       "3  Subcutaneous swelling as first clinical presen...   \n",
       "4  We present images of a rare case where a prima...   \n",
       "\n",
       "                                           affiliate      article_type  \\\n",
       "0  Department of Nuclear Medicine and Molecular I...             other   \n",
       "1  Cardiopulmonary Department, Sant'Andrea Hospit...  research_article   \n",
       "2  Department of Orthopedic Surgery, Osaka Medica...  research_article   \n",
       "3                            Department of Medicine.       case_report   \n",
       "4  Department of Clinical Physiology and Nuclear ...  research_article   \n",
       "\n",
       "                                             authors cc_license  \\\n",
       "0                         Purandare NC, Rangarajan V     byncsa   \n",
       "1                   Pezzuto A, Piraino A, Mariotta S         by   \n",
       "2  Naka N, Takenaka S, Nanno K, Moriguchi Y, Chun...         by   \n",
       "3                Kumar S, Gupta A, Diwan SK, Bhake A              \n",
       "4   Dencker M, Cronberg C, Damm S, Valind S, Wadbo M         by   \n",
       "\n",
       "                                  detailed_query_url doc_source  \\\n",
       "0  https://openi.nlm.nih.gov/retrieve.php?img=PMC...        PMC   \n",
       "1  https://openi.nlm.nih.gov/retrieve.php?img=PMC...        PMC   \n",
       "2  https://openi.nlm.nih.gov/retrieve.php?img=PMC...        PMC   \n",
       "3  https://openi.nlm.nih.gov/retrieve.php?img=PMC...        PMC   \n",
       "4  https://openi.nlm.nih.gov/retrieve.php?img=PMC...        PMC   \n",
       "\n",
       "                         ...                         grayscale  \\\n",
       "0                        ...                             False   \n",
       "1                        ...                              True   \n",
       "2                        ...                              True   \n",
       "3                        ...                             False   \n",
       "4                        ...                             False   \n",
       "\n",
       "  medpix_logo_bounding_box hbar   hborder     vborder upper_crop lower_crop  \\\n",
       "0                                                                             \n",
       "1                                                                             \n",
       "2                           327                                         327   \n",
       "3                           348  (4, 351)  (191, 491)          4        348   \n",
       "4                           294             (96, 487)                   294   \n",
       "\n",
       "                               visual_image_problems invalid_image  \\\n",
       "0  [(grids, 0.864566), (arrows, 0.00571598), (tex...          True   \n",
       "1  [(valid_image, 0.858156), (text, 0.100862), (a...         False   \n",
       "2  [(valid_image, 0.914723), (arrows, 0.0369132),...          True   \n",
       "3  [(arrows, 0.998476), (grids, 0.000149499), (va...          True   \n",
       "4  [(grids, 0.993127), (arrows, 8.44916e-06), (va...          True   \n",
       "\n",
       "                               invalid_image_reasons  \n",
       "0  (grayscale, image_problems_from_text, visual_i...  \n",
       "1                                                     \n",
       "2                        (image_problems_from_text,)  \n",
       "3                 (grayscale, visual_image_problems)  \n",
       "4  (grayscale, image_problems_from_text, visual_i...  \n",
       "\n",
       "[5 rows x 65 columns]"
      ]
     },
     "execution_count": 23,
     "metadata": {},
     "output_type": "execute_result"
    }
   ],
   "source": [
    "simplify_df(analysis_df)"
   ]
  },
  {
   "cell_type": "markdown",
   "metadata": {},
   "source": [
    "This will generate several new columns:\n",
    "\n",
    "\n",
    "- **'grayscale'**: this is simply an account of whether or not the images is grayscale.\n",
    "- **'medpix_logo_bounding_box'**: images from the MedPix collection, typically contain the organization's logo in the top right corner. Had we passed the class images from MedPix, it would have tried to 'draw' a bounding box around its precise location (enabling it to be cropped out of the image).\n",
    "- **'hbar'**: this denotes a 'horizontal bar' that is sometimes found at the bottom of images. If present, this column reports its height in pixels.\n",
    "- **'hborder'**: this column provides an account of 'horizontal borders' on either side of the image.\n",
    "- **'vborder'**: this column provides an account of 'vertical borders' on the top and bottom of the image.\n",
    "- **'upper crop'**: this is the location that has been selected to crop the top of the image. This decision is made by considering the *'medpix_logo_bounding_box'* and *'vborder'* columns.\n",
    "- **'lower crop'**: this is the location that has been selected to crop the bottom of the image. This decision is made by considering the *'hbar'* and *'hborder'* columns.\n",
    "- **'visual_image_problems'**: this column contains the output of the convnet model, with the numbers following the words representing the probability that the image belongs to that category.\n",
    "- **'invalid_image'**: this is a decision as to whether or not the image is invalid, e.g., has an arrow. This decision is made using the 'grayscale' and *'visual_image_problems'* columns as well as the text associated with the image (*'image_problems_from_text'*)\n",
    "- **'invalid_image_reasons'**: in cases where the *'invalid_image'* column is ``True``, column provides an account as to why a decision was made.\n",
    "\n",
    "\n"
   ]
  },
  {
   "cell_type": "markdown",
   "metadata": {},
   "source": [
    "We can use this analysis to construct a new dataframe, with **'invalid_images'** removed and the remaining images cropped in such a way that problematic features are removed."
   ]
  },
  {
   "cell_type": "code",
   "execution_count": 24,
   "metadata": {},
   "outputs": [
    {
     "data": {
      "application/vnd.jupyter.widget-view+json": {
       "model_id": "09a42b7de7584ed68bcae7b5a6513dcb"
      }
     },
     "metadata": {},
     "output_type": "display_data"
    },
    {
     "name": "stdout",
     "output_type": "stream",
     "text": [
      "\n"
     ]
    }
   ],
   "source": [
    "ip.clean_image_dataframe()"
   ]
  },
  {
   "cell_type": "markdown",
   "metadata": {},
   "source": [
    "This 'cleaned' set, *should* have fewer instances of problematic images."
   ]
  },
  {
   "cell_type": "markdown",
   "metadata": {},
   "source": [
    "Here's a random image from this new set:"
   ]
  },
  {
   "cell_type": "code",
   "execution_count": 25,
   "metadata": {
    "collapsed": true
   },
   "outputs": [],
   "source": [
    "# show_image(ip.image_dataframe_cleaned['cleaned_image'].iloc[180])"
   ]
  },
  {
   "cell_type": "markdown",
   "metadata": {},
   "source": [
    "With time, the machinery used to detect these kinds of problems, particularly the convolutional neural network, will be improved. However, at the current time, **this class is still considered to be very experimental**."
   ]
  },
  {
   "cell_type": "markdown",
   "metadata": {},
   "source": [
    "---\n",
    "### Train, Validation and Test"
   ]
  },
  {
   "cell_type": "markdown",
   "metadata": {
    "collapsed": true
   },
   "source": [
    "Now that we've explored data harvesting, we can turn our attention to the final step before modeling: dividing data into training, validation and/or tests sets."
   ]
  },
  {
   "cell_type": "markdown",
   "metadata": {},
   "source": [
    "Let's use images from the *Indiana University Chest X-Ray* collection\\* ('indiana_u_xray'). This set of images has been assembled 'by hand', and thus does not require complicated image cleaning procedures.\n",
    "<br>\n",
    "\\*[License](https://creativecommons.org/licenses/by-nc-nd/3.0/); images have not been modified."
   ]
  },
  {
   "cell_type": "code",
   "execution_count": 26,
   "metadata": {},
   "outputs": [
    {
     "name": "stdout",
     "output_type": "stream",
     "text": [
      "\n",
      "Results Found: 7,470.\n"
     ]
    }
   ],
   "source": [
    "opi.search(collection='indiana_u_xray')"
   ]
  },
  {
   "cell_type": "markdown",
   "metadata": {},
   "source": [
    "Let's go ahead and download this entire collection. <br>\n",
    "Please be advised that this will take some time, so feel free to adjust ``download_limit`` to suit your needs."
   ]
  },
  {
   "cell_type": "code",
   "execution_count": 27,
   "metadata": {},
   "outputs": [
    {
     "name": "stdout",
     "output_type": "stream",
     "text": [
      "\n",
      "Number of Records to Download: 7,470 (chunk size: 30 records).\n"
     ]
    },
    {
     "data": {
      "application/vnd.jupyter.widget-view+json": {
       "model_id": "eb29e426b90a41568e321de299812e6e"
      }
     },
     "metadata": {},
     "output_type": "display_data"
    },
    {
     "name": "stdout",
     "output_type": "stream",
     "text": [
      "\n"
     ]
    },
    {
     "data": {
      "application/vnd.jupyter.widget-view+json": {
       "model_id": "587039dbd7794e20ba1e913e4b5358d8"
      }
     },
     "metadata": {},
     "output_type": "display_data"
    },
    {
     "name": "stdout",
     "output_type": "stream",
     "text": [
      "\n"
     ]
    },
    {
     "data": {
      "application/vnd.jupyter.widget-view+json": {
       "model_id": "cec7f13245564076973c77e3dbaa9b8c"
      }
     },
     "metadata": {},
     "output_type": "display_data"
    },
    {
     "name": "stdout",
     "output_type": "stream",
     "text": [
      "\n"
     ]
    }
   ],
   "source": [
    "pull_df2 = opi.pull(download_limit=None)"
   ]
  },
  {
   "cell_type": "markdown",
   "metadata": {},
   "source": [
    "Let's quickly inspect this newly downloaded data."
   ]
  },
  {
   "cell_type": "code",
   "execution_count": 28,
   "metadata": {},
   "outputs": [
    {
     "data": {
      "text/html": [
       "<div>\n",
       "<table border=\"1\" class=\"dataframe\">\n",
       "  <thead>\n",
       "    <tr style=\"text-align: right;\">\n",
       "      <th></th>\n",
       "      <th>mesh_major</th>\n",
       "      <th>mesh_minor</th>\n",
       "      <th>problems</th>\n",
       "      <th>abstract</th>\n",
       "      <th>affiliate</th>\n",
       "      <th>article_type</th>\n",
       "      <th>authors</th>\n",
       "      <th>cc_license</th>\n",
       "      <th>doc_source</th>\n",
       "      <th>image_caption</th>\n",
       "      <th>...</th>\n",
       "      <th>image_problems_from_text</th>\n",
       "      <th>imaging_modality_from_text</th>\n",
       "      <th>parsed_abstract</th>\n",
       "      <th>sex</th>\n",
       "      <th>modality_full</th>\n",
       "      <th>image_id_short</th>\n",
       "      <th>query</th>\n",
       "      <th>pull_time</th>\n",
       "      <th>cached_images_path</th>\n",
       "      <th>download_success</th>\n",
       "    </tr>\n",
       "  </thead>\n",
       "  <tbody>\n",
       "    <tr>\n",
       "      <th>0</th>\n",
       "      <td>(Calcified Granuloma/lung/upper lobe/right,)</td>\n",
       "      <td></td>\n",
       "      <td>Calcified Granuloma</td>\n",
       "      <td>Comparison: Chest radiographs XXXX. Indicatio...</td>\n",
       "      <td>Indiana University</td>\n",
       "      <td>radiology_report</td>\n",
       "      <td>Kohli MD, Rosenman M</td>\n",
       "      <td>byncnd</td>\n",
       "      <td>CXR</td>\n",
       "      <td>PA and lateral chest x-XXXX XXXX.</td>\n",
       "      <td>...</td>\n",
       "      <td></td>\n",
       "      <td>Computed Tomography (CT): chest</td>\n",
       "      <td>{'results': 'The cardiomediastinal silhouette ...</td>\n",
       "      <td>male</td>\n",
       "      <td>X-Ray</td>\n",
       "      <td>1</td>\n",
       "      <td>{'exclusions': ['graphics'], 'video': None, 's...</td>\n",
       "      <td>2017-04-07 23:52:57.451738</td>\n",
       "      <td>/path/to/image</td>\n",
       "      <td>True</td>\n",
       "    </tr>\n",
       "    <tr>\n",
       "      <th>1</th>\n",
       "      <td>(Calcified Granuloma/lung/upper lobe/right,)</td>\n",
       "      <td></td>\n",
       "      <td>Calcified Granuloma</td>\n",
       "      <td>Comparison: Chest radiographs XXXX. Indicatio...</td>\n",
       "      <td>Indiana University</td>\n",
       "      <td>radiology_report</td>\n",
       "      <td>Kohli MD, Rosenman M</td>\n",
       "      <td>byncnd</td>\n",
       "      <td>CXR</td>\n",
       "      <td>PA and lateral chest x-XXXX XXXX.</td>\n",
       "      <td>...</td>\n",
       "      <td></td>\n",
       "      <td>Computed Tomography (CT): chest</td>\n",
       "      <td>{'results': 'The cardiomediastinal silhouette ...</td>\n",
       "      <td>male</td>\n",
       "      <td>X-Ray</td>\n",
       "      <td>2</td>\n",
       "      <td>{'exclusions': ['graphics'], 'video': None, 's...</td>\n",
       "      <td>2017-04-07 23:52:57.451738</td>\n",
       "      <td>/path/to/image</td>\n",
       "      <td>True</td>\n",
       "    </tr>\n",
       "    <tr>\n",
       "      <th>2</th>\n",
       "      <td>(normal,)</td>\n",
       "      <td></td>\n",
       "      <td>normal</td>\n",
       "      <td>Comparison: None. Indication: Positive TB tes...</td>\n",
       "      <td>Indiana University</td>\n",
       "      <td>radiology_report</td>\n",
       "      <td>Kohli MD, Rosenman M</td>\n",
       "      <td>byncnd</td>\n",
       "      <td>CXR</td>\n",
       "      <td>Xray Chest PA and Lateral</td>\n",
       "      <td>...</td>\n",
       "      <td></td>\n",
       "      <td>Computed Tomography (CT): chest</td>\n",
       "      <td>{'results': 'The cardiac silhouette and medias...</td>\n",
       "      <td></td>\n",
       "      <td>X-Ray</td>\n",
       "      <td>1</td>\n",
       "      <td>{'exclusions': ['graphics'], 'video': None, 's...</td>\n",
       "      <td>2017-04-07 23:52:57.451738</td>\n",
       "      <td>/path/to/image</td>\n",
       "      <td>True</td>\n",
       "    </tr>\n",
       "    <tr>\n",
       "      <th>3</th>\n",
       "      <td>(normal,)</td>\n",
       "      <td></td>\n",
       "      <td>normal</td>\n",
       "      <td>Comparison: None. Indication: Positive TB tes...</td>\n",
       "      <td>Indiana University</td>\n",
       "      <td>radiology_report</td>\n",
       "      <td>Kohli MD, Rosenman M</td>\n",
       "      <td>byncnd</td>\n",
       "      <td>CXR</td>\n",
       "      <td>Xray Chest PA and Lateral</td>\n",
       "      <td>...</td>\n",
       "      <td></td>\n",
       "      <td>Computed Tomography (CT): chest</td>\n",
       "      <td>{'results': 'The cardiac silhouette and medias...</td>\n",
       "      <td></td>\n",
       "      <td>X-Ray</td>\n",
       "      <td>2</td>\n",
       "      <td>{'exclusions': ['graphics'], 'video': None, 's...</td>\n",
       "      <td>2017-04-07 23:52:57.451738</td>\n",
       "      <td>/path/to/image</td>\n",
       "      <td>True</td>\n",
       "    </tr>\n",
       "    <tr>\n",
       "      <th>4</th>\n",
       "      <td>(Markings/lung/bilateral/interstitial/diffuse/...</td>\n",
       "      <td></td>\n",
       "      <td>Markings;Fibrosis</td>\n",
       "      <td>Comparison: None. Indication: dyspnea, subjec...</td>\n",
       "      <td>Indiana University</td>\n",
       "      <td>radiology_report</td>\n",
       "      <td>Kohli MD, Rosenman M</td>\n",
       "      <td>byncnd</td>\n",
       "      <td>CXR</td>\n",
       "      <td>CHEST 2V FRONTAL/LATERAL XXXX, XXXX XXXX PM</td>\n",
       "      <td>...</td>\n",
       "      <td></td>\n",
       "      <td>Computed Tomography (CT): chest</td>\n",
       "      <td>{'results': 'Interstitial markings are diffuse...</td>\n",
       "      <td></td>\n",
       "      <td>X-Ray</td>\n",
       "      <td>1</td>\n",
       "      <td>{'exclusions': ['graphics'], 'video': None, 's...</td>\n",
       "      <td>2017-04-07 23:52:57.451738</td>\n",
       "      <td>/path/to/image</td>\n",
       "      <td>True</td>\n",
       "    </tr>\n",
       "  </tbody>\n",
       "</table>\n",
       "<p>5 rows × 37 columns</p>\n",
       "</div>"
      ],
      "text/plain": [
       "                                          mesh_major mesh_minor  \\\n",
       "0       (Calcified Granuloma/lung/upper lobe/right,)              \n",
       "1       (Calcified Granuloma/lung/upper lobe/right,)              \n",
       "2                                          (normal,)              \n",
       "3                                          (normal,)              \n",
       "4  (Markings/lung/bilateral/interstitial/diffuse/...              \n",
       "\n",
       "              problems                                           abstract  \\\n",
       "0  Calcified Granuloma   Comparison: Chest radiographs XXXX. Indicatio...   \n",
       "1  Calcified Granuloma   Comparison: Chest radiographs XXXX. Indicatio...   \n",
       "2               normal   Comparison: None. Indication: Positive TB tes...   \n",
       "3               normal   Comparison: None. Indication: Positive TB tes...   \n",
       "4    Markings;Fibrosis   Comparison: None. Indication: dyspnea, subjec...   \n",
       "\n",
       "            affiliate      article_type               authors cc_license  \\\n",
       "0  Indiana University  radiology_report  Kohli MD, Rosenman M     byncnd   \n",
       "1  Indiana University  radiology_report  Kohli MD, Rosenman M     byncnd   \n",
       "2  Indiana University  radiology_report  Kohli MD, Rosenman M     byncnd   \n",
       "3  Indiana University  radiology_report  Kohli MD, Rosenman M     byncnd   \n",
       "4  Indiana University  radiology_report  Kohli MD, Rosenman M     byncnd   \n",
       "\n",
       "  doc_source                                image_caption       ...         \\\n",
       "0        CXR            PA and lateral chest x-XXXX XXXX.       ...          \n",
       "1        CXR            PA and lateral chest x-XXXX XXXX.       ...          \n",
       "2        CXR                    Xray Chest PA and Lateral       ...          \n",
       "3        CXR                    Xray Chest PA and Lateral       ...          \n",
       "4        CXR  CHEST 2V FRONTAL/LATERAL XXXX, XXXX XXXX PM       ...          \n",
       "\n",
       "  image_problems_from_text       imaging_modality_from_text  \\\n",
       "0                           Computed Tomography (CT): chest   \n",
       "1                           Computed Tomography (CT): chest   \n",
       "2                           Computed Tomography (CT): chest   \n",
       "3                           Computed Tomography (CT): chest   \n",
       "4                           Computed Tomography (CT): chest   \n",
       "\n",
       "                                     parsed_abstract   sex modality_full  \\\n",
       "0  {'results': 'The cardiomediastinal silhouette ...  male         X-Ray   \n",
       "1  {'results': 'The cardiomediastinal silhouette ...  male         X-Ray   \n",
       "2  {'results': 'The cardiac silhouette and medias...               X-Ray   \n",
       "3  {'results': 'The cardiac silhouette and medias...               X-Ray   \n",
       "4  {'results': 'Interstitial markings are diffuse...               X-Ray   \n",
       "\n",
       "  image_id_short                                              query  \\\n",
       "0              1  {'exclusions': ['graphics'], 'video': None, 's...   \n",
       "1              2  {'exclusions': ['graphics'], 'video': None, 's...   \n",
       "2              1  {'exclusions': ['graphics'], 'video': None, 's...   \n",
       "3              2  {'exclusions': ['graphics'], 'video': None, 's...   \n",
       "4              1  {'exclusions': ['graphics'], 'video': None, 's...   \n",
       "\n",
       "                   pull_time cached_images_path download_success  \n",
       "0 2017-04-07 23:52:57.451738     /path/to/image             True  \n",
       "1 2017-04-07 23:52:57.451738     /path/to/image             True  \n",
       "2 2017-04-07 23:52:57.451738     /path/to/image             True  \n",
       "3 2017-04-07 23:52:57.451738     /path/to/image             True  \n",
       "4 2017-04-07 23:52:57.451738     /path/to/image             True  \n",
       "\n",
       "[5 rows x 37 columns]"
      ]
     },
     "execution_count": 28,
     "metadata": {},
     "output_type": "execute_result"
    }
   ],
   "source": [
    "simplify_df(opi.records_db_short)"
   ]
  },
  {
   "cell_type": "markdown",
   "metadata": {},
   "source": [
    "We can easily select a subset of these ~7000 images and divide them into training and test sets for some machine learning model using the ``image_divvy()`` tool."
   ]
  },
  {
   "cell_type": "code",
   "execution_count": 29,
   "metadata": {
    "collapsed": true
   },
   "outputs": [],
   "source": [
    "from biovida.images import image_divvy"
   ]
  },
  {
   "cell_type": "markdown",
   "metadata": {},
   "source": [
    "Let's imagine we're interested in building a model capable of distinguishing between 'normal' chest x-rays and those with signs of problematic caclium deposits, a disease formally known as 'calcinosis'."
   ]
  },
  {
   "cell_type": "markdown",
   "metadata": {},
   "source": [
    "We can define a rule to construct such a training and test set using a 'divvy_rule'.\n",
    "This rule will tell ``image_divvy()`` how to 'divvy up' the images in the cache. More specifically, our rule will tell this ``image_divvy()`` how to categorize images in the cache."
   ]
  },
  {
   "cell_type": "code",
   "execution_count": 30,
   "metadata": {
    "collapsed": true
   },
   "outputs": [],
   "source": [
    "def my_divvy_rule(row):\n",
    "    if isinstance(row['diagnosis'], str):\n",
    "        if 'normal' in row['diagnosis']:\n",
    "            return 'normal'  # though this could be anything, e.g., 'super cool normal images'.\n",
    "        elif 'calcinosis' in row['diagnosis']:\n",
    "            return 'calcinosis'"
   ]
  },
  {
   "cell_type": "markdown",
   "metadata": {},
   "source": [
    "Now that ``image_divvy()`` knows how we would like it to categorize the data we've downloaded, we can also pass it a dictionary specifying how to 'split' the data into training and testing sets. In this example, we'll use a standard 80% train, 20% test split and ask the function returns numpy arrays (``ndarrays``) as output."
   ]
  },
  {
   "cell_type": "code",
   "execution_count": 31,
   "metadata": {},
   "outputs": [
    {
     "data": {
      "application/vnd.jupyter.widget-view+json": {
       "model_id": "a5be78e28c2f4cc494252501661fae2a"
      }
     },
     "metadata": {},
     "output_type": "display_data"
    },
    {
     "name": "stdout",
     "output_type": "stream",
     "text": [
      "\n"
     ]
    },
    {
     "data": {
      "application/vnd.jupyter.widget-view+json": {
       "model_id": "47bd010e83084bc396ae87e4d4f25792"
      }
     },
     "metadata": {},
     "output_type": "display_data"
    },
    {
     "name": "stdout",
     "output_type": "stream",
     "text": [
      "\n",
      "\n",
      "Structure:\n",
      "\n",
      "- 'train':\n",
      "  - 'calcinosis'\n",
      "  - 'normal'\n",
      "- 'test':\n",
      "  - 'calcinosis'\n",
      "  - 'normal'\n"
     ]
    }
   ],
   "source": [
    "train_test = image_divvy(instance=opi,\n",
    "                         divvy_rule=my_divvy_rule,\n",
    "                         db_to_extract='records_db',\n",
    "                         action='ndarray',\n",
    "                         train_val_test_dict={'train': 0.8, 'test': 0.2})"
   ]
  },
  {
   "cell_type": "markdown",
   "metadata": {},
   "source": [
    "Before signing off, ``image_divvy()`` printed the structure of the nested dictionary it returned. <br>\n",
    "We can use this information to unpack the ``arrays`` nested within this data structure:"
   ]
  },
  {
   "cell_type": "code",
   "execution_count": 32,
   "metadata": {
    "collapsed": true
   },
   "outputs": [],
   "source": [
    "train_ca, test_ca = train_test['train']['calcinosis'], train_test['test']['calcinosis']\n",
    "train_norm, test_norm = train_test['train']['normal'], train_test['test']['normal']"
   ]
  },
  {
   "cell_type": "markdown",
   "metadata": {},
   "source": [
    "Now that our data has been neatly unpacked, we can look at the number of samples the procedure generated."
   ]
  },
  {
   "cell_type": "code",
   "execution_count": 33,
   "metadata": {},
   "outputs": [
    {
     "name": "stdout",
     "output_type": "stream",
     "text": [
      "Train: 522 | Test: 131\n"
     ]
    }
   ],
   "source": [
    "# Normal\n",
    "print(\"Train:\", len(train_norm), \"|\", \"Test:\", len(test_norm))"
   ]
  },
  {
   "cell_type": "code",
   "execution_count": 34,
   "metadata": {},
   "outputs": [
    {
     "name": "stdout",
     "output_type": "stream",
     "text": [
      "Train: 446 | Test: 112\n"
     ]
    }
   ],
   "source": [
    "# Calcinosis\n",
    "print(\"Train:\", len(train_ca), \"|\", \"Test:\", len(test_ca))"
   ]
  },
  {
   "cell_type": "markdown",
   "metadata": {},
   "source": [
    "Using the ``show_image()`` tool we imported above, we can take a quick at an image from each category."
   ]
  },
  {
   "cell_type": "code",
   "execution_count": 35,
   "metadata": {
    "collapsed": true
   },
   "outputs": [],
   "source": [
    "# Normal\n",
    "# show_image(train_norm[99])"
   ]
  },
  {
   "cell_type": "code",
   "execution_count": 36,
   "metadata": {
    "collapsed": true
   },
   "outputs": [],
   "source": [
    "# Calcinosis\n",
    "# show_image(train_ca[104])"
   ]
  },
  {
   "cell_type": "markdown",
   "metadata": {
    "collapsed": true
   },
   "source": [
    "---\n",
    "\n",
    "## Conclusion"
   ]
  },
  {
   "cell_type": "markdown",
   "metadata": {},
   "source": [
    "Here we've explored how ``BioVida`` can be used to easily obtain and process data from the Open-i database. <br>\n",
    "\n",
    "In the next tutorial, we'll see how ``BioVida`` can be used to gain access to a database with orders of magnitude more images.\n",
    "\n"
   ]
  },
  {
   "cell_type": "markdown",
   "metadata": {},
   "source": [
    "---"
   ]
  }
 ],
 "metadata": {
  "kernelspec": {
   "display_name": "Python 3",
   "language": "python",
   "name": "python3"
  },
  "language_info": {
   "codemirror_mode": {
    "name": "ipython",
    "version": 3
   },
   "file_extension": ".py",
   "mimetype": "text/x-python",
   "name": "python",
   "nbconvert_exporter": "python",
   "pygments_lexer": "ipython3",
   "version": "3.5.2"
  },
  "widgets": {
   "application/vnd.jupyter.widget-state+json": {
    "state": {
     "019ed6663a164d84b4c1c90b01b9f837": {
      "model_module": "jupyter-js-widgets",
      "model_module_version": "~2.1.4",
      "model_name": "LayoutModel",
      "state": {
       "_model_module_version": "~2.1.4",
       "_view_module_version": "~2.1.4"
      }
     },
     "031a4a1f87b643e089d70c50caf48622": {
      "model_module": "jupyter-js-widgets",
      "model_module_version": "~2.1.4",
      "model_name": "LayoutModel",
      "state": {
       "_model_module_version": "~2.1.4",
       "_view_module_version": "~2.1.4"
      }
     },
     "0538d15fe93140bdb6d6f7f9069260b5": {
      "model_module": "jupyter-js-widgets",
      "model_module_version": "~2.1.4",
      "model_name": "LayoutModel",
      "state": {
       "_model_module_version": "~2.1.4",
       "_view_module_version": "~2.1.4"
      }
     },
     "0657160729744889bd4138cd3e957208": {
      "model_module": "jupyter-js-widgets",
      "model_module_version": "~2.1.4",
      "model_name": "ProgressStyleModel",
      "state": {
       "_model_module_version": "~2.1.4",
       "_view_module_version": "~2.1.4"
      }
     },
     "09a42b7de7584ed68bcae7b5a6513dcb": {
      "model_module": "jupyter-js-widgets",
      "model_module_version": "~2.1.4",
      "model_name": "HBoxModel",
      "state": {
       "_model_module_version": "~2.1.4",
       "_view_module_version": "~2.1.4",
       "children": [
        "IPY_MODEL_0e806ed2199f40d28788e7385e80ef1d",
        "IPY_MODEL_49b510329c6143a0ade9e378b7597f65"
       ],
       "layout": "IPY_MODEL_361e23b8bd5b4d16b69addd8e24999da"
      }
     },
     "0b2b0843f2f54807ac01143ba09463b2": {
      "model_module": "jupyter-js-widgets",
      "model_module_version": "~2.1.4",
      "model_name": "LayoutModel",
      "state": {
       "_model_module_version": "~2.1.4",
       "_view_module_version": "~2.1.4"
      }
     },
     "0e4954dac8e04f038b8cfdf424c60744": {
      "model_module": "jupyter-js-widgets",
      "model_module_version": "~2.1.4",
      "model_name": "HTMLModel",
      "state": {
       "_model_module_version": "~2.1.4",
       "_view_module_version": "~2.1.4",
       "layout": "IPY_MODEL_7cff118aa1f243368b80c9a0ad27845f",
       "value": "100% 1500/1500 [00:00&lt;00:00, 28492.75it/s]"
      }
     },
     "0e806ed2199f40d28788e7385e80ef1d": {
      "model_module": "jupyter-js-widgets",
      "model_module_version": "~2.1.4",
      "model_name": "ProgressModel",
      "state": {
       "_model_module_version": "~2.1.4",
       "_view_module_version": "~2.1.4",
       "bar_style": "success",
       "description": "Cropping Images: ",
       "layout": "IPY_MODEL_97140f25b8f947e2be256305a3901a9e",
       "max": 209,
       "style": "IPY_MODEL_fc362713a32245808a50c819ad0ae83f",
       "value": 209
      }
     },
     "10e799beef20470f85951d242464a1de": {
      "model_module": "jupyter-js-widgets",
      "model_module_version": "~2.1.4",
      "model_name": "LayoutModel",
      "state": {
       "_model_module_version": "~2.1.4",
       "_view_module_version": "~2.1.4"
      }
     },
     "145a27e31e5c4e6ca740e011d7081c7d": {
      "model_module": "jupyter-js-widgets",
      "model_module_version": "~2.1.4",
      "model_name": "ProgressModel",
      "state": {
       "_model_module_version": "~2.1.4",
       "_view_module_version": "~2.1.4",
       "bar_style": "success",
       "description": "Cropping Images: ",
       "layout": "IPY_MODEL_698b08d8f99e4c45a6330cd0134150d0",
       "max": 1500,
       "style": "IPY_MODEL_9703a4d7129a4df6a280782a4c1d601a",
       "value": 1500
      }
     },
     "14b53634d84d4c59889b7699b8458285": {
      "model_module": "jupyter-js-widgets",
      "model_module_version": "~2.1.4",
      "model_name": "ProgressModel",
      "state": {
       "_model_module_version": "~2.1.4",
       "_view_module_version": "~2.1.4",
       "bar_style": "success",
       "description": "Obtaining Images: ",
       "layout": "IPY_MODEL_8748d68077d54493a9691613afd6df49",
       "max": 1500,
       "style": "IPY_MODEL_67b851a6bf504a6992a572eefb80a0bd",
       "value": 1500
      }
     },
     "16620d0f679440d8ae8fbabde9137676": {
      "model_module": "jupyter-js-widgets",
      "model_module_version": "~2.1.4",
      "model_name": "LayoutModel",
      "state": {
       "_model_module_version": "~2.1.4",
       "_view_module_version": "~2.1.4"
      }
     },
     "1673671444c34a27a0b47bd0183ee6a9": {
      "model_module": "jupyter-js-widgets",
      "model_module_version": "~2.1.4",
      "model_name": "LayoutModel",
      "state": {
       "_model_module_version": "~2.1.4",
       "_view_module_version": "~2.1.4"
      }
     },
     "18a1a47727424c259f0793965150263d": {
      "model_module": "jupyter-js-widgets",
      "model_module_version": "~2.1.4",
      "model_name": "ProgressStyleModel",
      "state": {
       "_model_module_version": "~2.1.4",
       "_view_module_version": "~2.1.4"
      }
     },
     "1a4345ab6fab4dfa8b1cb1deb5abff09": {
      "model_module": "jupyter-js-widgets",
      "model_module_version": "~2.1.4",
      "model_name": "ProgressModel",
      "state": {
       "_model_module_version": "~2.1.4",
       "_view_module_version": "~2.1.4",
       "bar_style": "success",
       "description": "Logo Analysis: ",
       "layout": "IPY_MODEL_4a8c29acf2614588924e7a9c854ab621",
       "max": 1500,
       "style": "IPY_MODEL_4f99e12b41b8429ab1fde597ee97c101",
       "value": 1500
      }
     },
     "1ef58efd4a1c4d429e5ee5326d439fce": {
      "model_module": "jupyter-js-widgets",
      "model_module_version": "~2.1.4",
      "model_name": "LayoutModel",
      "state": {
       "_model_module_version": "~2.1.4",
       "_view_module_version": "~2.1.4"
      }
     },
     "1f0371d975c84f108192d9c398118eec": {
      "model_module": "jupyter-js-widgets",
      "model_module_version": "~2.1.4",
      "model_name": "LayoutModel",
      "state": {
       "_model_module_version": "~2.1.4",
       "_view_module_version": "~2.1.4"
      }
     },
     "235dafe3427745bbb97d11d8e57600ec": {
      "model_module": "jupyter-js-widgets",
      "model_module_version": "~2.1.4",
      "model_name": "ProgressStyleModel",
      "state": {
       "_model_module_version": "~2.1.4",
       "_view_module_version": "~2.1.4"
      }
     },
     "23860d1136a84dc49597f9f0a7d2cf9f": {
      "model_module": "jupyter-js-widgets",
      "model_module_version": "~2.1.4",
      "model_name": "LayoutModel",
      "state": {
       "_model_module_version": "~2.1.4",
       "_view_module_version": "~2.1.4"
      }
     },
     "24be89a72eb94815a3a4f5ca2d1c9ad3": {
      "model_module": "jupyter-js-widgets",
      "model_module_version": "~2.1.4",
      "model_name": "HTMLModel",
      "state": {
       "_model_module_version": "~2.1.4",
       "_view_module_version": "~2.1.4",
       "layout": "IPY_MODEL_019ed6663a164d84b4c1c90b01b9f837",
       "value": "100% 7470/7470 [00:01&lt;00:00, 6249.33it/s]"
      }
     },
     "2602e030df8141ada3c5700f3add8592": {
      "model_module": "jupyter-js-widgets",
      "model_module_version": "~2.1.4",
      "model_name": "LayoutModel",
      "state": {
       "_model_module_version": "~2.1.4",
       "_view_module_version": "~2.1.4"
      }
     },
     "26b90a861a1244a2987ee3d8116c8f28": {
      "model_module": "jupyter-js-widgets",
      "model_module_version": "~2.1.4",
      "model_name": "LayoutModel",
      "state": {
       "_model_module_version": "~2.1.4",
       "_view_module_version": "~2.1.4"
      }
     },
     "2c079b77f31249188836ce75fb3933fc": {
      "model_module": "jupyter-js-widgets",
      "model_module_version": "~2.1.4",
      "model_name": "LayoutModel",
      "state": {
       "_model_module_version": "~2.1.4",
       "_view_module_version": "~2.1.4"
      }
     },
     "304be87bace54605b39bfb1d53cec438": {
      "model_module": "jupyter-js-widgets",
      "model_module_version": "~2.1.4",
      "model_name": "LayoutModel",
      "state": {
       "_model_module_version": "~2.1.4",
       "_view_module_version": "~2.1.4"
      }
     },
     "3174d71a48b147618552d54261932149": {
      "model_module": "jupyter-js-widgets",
      "model_module_version": "~2.1.4",
      "model_name": "LayoutModel",
      "state": {
       "_model_module_version": "~2.1.4",
       "_view_module_version": "~2.1.4"
      }
     },
     "32719c4451bf4960908ec56f99c85d3c": {
      "model_module": "jupyter-js-widgets",
      "model_module_version": "~2.1.4",
      "model_name": "ProgressStyleModel",
      "state": {
       "_model_module_version": "~2.1.4",
       "_view_module_version": "~2.1.4"
      }
     },
     "33f072ed7b234ad0bc175ae2ed8341a9": {
      "model_module": "jupyter-js-widgets",
      "model_module_version": "~2.1.4",
      "model_name": "LayoutModel",
      "state": {
       "_model_module_version": "~2.1.4",
       "_view_module_version": "~2.1.4"
      }
     },
     "3421f78574d3460c876f21a24cb246ce": {
      "model_module": "jupyter-js-widgets",
      "model_module_version": "~2.1.4",
      "model_name": "ProgressStyleModel",
      "state": {
       "_model_module_version": "~2.1.4",
       "_view_module_version": "~2.1.4"
      }
     },
     "361e23b8bd5b4d16b69addd8e24999da": {
      "model_module": "jupyter-js-widgets",
      "model_module_version": "~2.1.4",
      "model_name": "LayoutModel",
      "state": {
       "_model_module_version": "~2.1.4",
       "_view_module_version": "~2.1.4"
      }
     },
     "38bdbc5abda04a5d8edd65acdd47e83f": {
      "model_module": "jupyter-js-widgets",
      "model_module_version": "~2.1.4",
      "model_name": "ProgressStyleModel",
      "state": {
       "_model_module_version": "~2.1.4",
       "_view_module_version": "~2.1.4"
      }
     },
     "39390ae6bd1645c796ceac955a6a731b": {
      "model_module": "jupyter-js-widgets",
      "model_module_version": "~2.1.4",
      "model_name": "LayoutModel",
      "state": {
       "_model_module_version": "~2.1.4",
       "_view_module_version": "~2.1.4"
      }
     },
     "3b030789e8cd4451b84e76ac11d14132": {
      "model_module": "jupyter-js-widgets",
      "model_module_version": "~2.1.4",
      "model_name": "HTMLModel",
      "state": {
       "_model_module_version": "~2.1.4",
       "_view_module_version": "~2.1.4",
       "layout": "IPY_MODEL_0b2b0843f2f54807ac01143ba09463b2",
       "value": "100% 1500/1500 [00:17&lt;00:00, 85.62it/s]"
      }
     },
     "3ce0e84787e247ec8c7987128b205de4": {
      "model_module": "jupyter-js-widgets",
      "model_module_version": "~2.1.4",
      "model_name": "LayoutModel",
      "state": {
       "_model_module_version": "~2.1.4",
       "_view_module_version": "~2.1.4"
      }
     },
     "3e0b5d9c8bd44e778ba9c75b9a0e159e": {
      "model_module": "jupyter-js-widgets",
      "model_module_version": "~2.1.4",
      "model_name": "LayoutModel",
      "state": {
       "_model_module_version": "~2.1.4",
       "_view_module_version": "~2.1.4"
      }
     },
     "3f3b0940277540388cbc1f33553a7c24": {
      "model_module": "jupyter-js-widgets",
      "model_module_version": "~2.1.4",
      "model_name": "HBoxModel",
      "state": {
       "_model_module_version": "~2.1.4",
       "_view_module_version": "~2.1.4",
       "children": [
        "IPY_MODEL_b1f92efc41314cca851226a1ad74a5a8",
        "IPY_MODEL_985b563b116b4a63a0e0f69f8862e5d9"
       ],
       "layout": "IPY_MODEL_7d86f1bc5d01496f87b6637d22621f69"
      }
     },
     "4198bcfb79cf494a801e1bc5908a2cde": {
      "model_module": "jupyter-js-widgets",
      "model_module_version": "~2.1.4",
      "model_name": "LayoutModel",
      "state": {
       "_model_module_version": "~2.1.4",
       "_view_module_version": "~2.1.4"
      }
     },
     "41d7913b76494c5b9e45b24372e6bffc": {
      "model_module": "jupyter-js-widgets",
      "model_module_version": "~2.1.4",
      "model_name": "ProgressStyleModel",
      "state": {
       "_model_module_version": "~2.1.4",
       "_view_module_version": "~2.1.4"
      }
     },
     "43bcc92c13e344a99a95e6f4987fbb42": {
      "model_module": "jupyter-js-widgets",
      "model_module_version": "~2.1.4",
      "model_name": "HBoxModel",
      "state": {
       "_model_module_version": "~2.1.4",
       "_view_module_version": "~2.1.4",
       "children": [
        "IPY_MODEL_1a4345ab6fab4dfa8b1cb1deb5abff09",
        "IPY_MODEL_447623926846448481e1589d7fe5199a"
       ],
       "layout": "IPY_MODEL_e24cfc2453ff4bc18340e8cddcfdff6d"
      }
     },
     "442ff9eabce5493480a30896363fde2b": {
      "model_module": "jupyter-js-widgets",
      "model_module_version": "~2.1.4",
      "model_name": "ProgressModel",
      "state": {
       "_model_module_version": "~2.1.4",
       "_view_module_version": "~2.1.4",
       "bar_style": "success",
       "description": "Obtaining Images: ",
       "layout": "IPY_MODEL_da3dd76b80834f339fbc80e4efbceddb",
       "style": "IPY_MODEL_c732559b0fc943738ecc53da74d9eb0d",
       "value": 100
      }
     },
     "447623926846448481e1589d7fe5199a": {
      "model_module": "jupyter-js-widgets",
      "model_module_version": "~2.1.4",
      "model_name": "HTMLModel",
      "state": {
       "_model_module_version": "~2.1.4",
       "_view_module_version": "~2.1.4",
       "layout": "IPY_MODEL_0538d15fe93140bdb6d6f7f9069260b5",
       "value": "100% 1500/1500 [00:00&lt;00:00, 43528.64it/s]"
      }
     },
     "469c00b888fa419aa0482d72a07853ac": {
      "model_module": "jupyter-js-widgets",
      "model_module_version": "~2.1.4",
      "model_name": "LayoutModel",
      "state": {
       "_model_module_version": "~2.1.4",
       "_view_module_version": "~2.1.4"
      }
     },
     "47b3af301619429aaabf1d4c2666d5c9": {
      "model_module": "jupyter-js-widgets",
      "model_module_version": "~2.1.4",
      "model_name": "HTMLModel",
      "state": {
       "_model_module_version": "~2.1.4",
       "_view_module_version": "~2.1.4",
       "layout": "IPY_MODEL_abbb3fb1055e481aa0c46555ce77d8f2",
       "value": "100% 1500/1500 [00:05&lt;00:00, 267.76it/s]"
      }
     },
     "47bd010e83084bc396ae87e4d4f25792": {
      "model_module": "jupyter-js-widgets",
      "model_module_version": "~2.1.4",
      "model_name": "HBoxModel",
      "state": {
       "_model_module_version": "~2.1.4",
       "_view_module_version": "~2.1.4",
       "children": [
        "IPY_MODEL_5f2e7796f07148759f94656686993cc0",
        "IPY_MODEL_e26fd22bfb334db086a56c548eddaf2e"
       ],
       "layout": "IPY_MODEL_3ce0e84787e247ec8c7987128b205de4"
      }
     },
     "49b510329c6143a0ade9e378b7597f65": {
      "model_module": "jupyter-js-widgets",
      "model_module_version": "~2.1.4",
      "model_name": "HTMLModel",
      "state": {
       "_model_module_version": "~2.1.4",
       "_view_module_version": "~2.1.4",
       "layout": "IPY_MODEL_8aad8af000b94621a7063269b72d8925",
       "value": "100% 209/209 [00:01&lt;00:00, 152.46it/s]"
      }
     },
     "4a3f4d9bfcd24ef4a955049bf4ab472c": {
      "model_module": "jupyter-js-widgets",
      "model_module_version": "~2.1.4",
      "model_name": "HBoxModel",
      "state": {
       "_model_module_version": "~2.1.4",
       "_view_module_version": "~2.1.4",
       "children": [
        "IPY_MODEL_537428a3005c461f8b3fa4dcdd9dd91a",
        "IPY_MODEL_f3b7a6cc323c4e17951e729468c7fa4b"
       ],
       "layout": "IPY_MODEL_9de066dd2b424f38b560aabba64a828f"
      }
     },
     "4a8c29acf2614588924e7a9c854ab621": {
      "model_module": "jupyter-js-widgets",
      "model_module_version": "~2.1.4",
      "model_name": "LayoutModel",
      "state": {
       "_model_module_version": "~2.1.4",
       "_view_module_version": "~2.1.4"
      }
     },
     "4e7017e4d23d4ff5b272d9f7f0baa78b": {
      "model_module": "jupyter-js-widgets",
      "model_module_version": "~2.1.4",
      "model_name": "LayoutModel",
      "state": {
       "_model_module_version": "~2.1.4",
       "_view_module_version": "~2.1.4"
      }
     },
     "4f99e12b41b8429ab1fde597ee97c101": {
      "model_module": "jupyter-js-widgets",
      "model_module_version": "~2.1.4",
      "model_name": "ProgressStyleModel",
      "state": {
       "_model_module_version": "~2.1.4",
       "_view_module_version": "~2.1.4"
      }
     },
     "51980b72834f4a9694a8e68ac420f15f": {
      "model_module": "jupyter-js-widgets",
      "model_module_version": "~2.1.4",
      "model_name": "LayoutModel",
      "state": {
       "_model_module_version": "~2.1.4",
       "_view_module_version": "~2.1.4"
      }
     },
     "537428a3005c461f8b3fa4dcdd9dd91a": {
      "model_module": "jupyter-js-widgets",
      "model_module_version": "~2.1.4",
      "model_name": "ProgressModel",
      "state": {
       "_model_module_version": "~2.1.4",
       "_view_module_version": "~2.1.4",
       "bar_style": "success",
       "description": "Border Analysis: ",
       "layout": "IPY_MODEL_2602e030df8141ada3c5700f3add8592",
       "max": 1500,
       "style": "IPY_MODEL_38bdbc5abda04a5d8edd65acdd47e83f",
       "value": 1500
      }
     },
     "567fa9f9dfcb4f56b581884b41e6ab44": {
      "model_module": "jupyter-js-widgets",
      "model_module_version": "~2.1.4",
      "model_name": "HBoxModel",
      "state": {
       "_model_module_version": "~2.1.4",
       "_view_module_version": "~2.1.4",
       "children": [
        "IPY_MODEL_442ff9eabce5493480a30896363fde2b",
        "IPY_MODEL_e094bbfff3bd4925b6cf79a2c66c7c70"
       ],
       "layout": "IPY_MODEL_6189e35a67b7408d9397909df9f1612a"
      }
     },
     "587039dbd7794e20ba1e913e4b5358d8": {
      "model_module": "jupyter-js-widgets",
      "model_module_version": "~2.1.4",
      "model_name": "HBoxModel",
      "state": {
       "_model_module_version": "~2.1.4",
       "_view_module_version": "~2.1.4",
       "children": [
        "IPY_MODEL_b4afce08b0bd4a9e8e9d58099f6283bf",
        "IPY_MODEL_9e017ec819f341cb8fe9e4983abff0a5"
       ],
       "layout": "IPY_MODEL_10e799beef20470f85951d242464a1de"
      }
     },
     "5d31348996504eb4bc5be72fbb62fc18": {
      "model_module": "jupyter-js-widgets",
      "model_module_version": "~2.1.4",
      "model_name": "HTMLModel",
      "state": {
       "_model_module_version": "~2.1.4",
       "_view_module_version": "~2.1.4",
       "layout": "IPY_MODEL_4198bcfb79cf494a801e1bc5908a2cde",
       "value": "100% 7470/7470 [00:00&lt;00:00, 16815.47it/s]"
      }
     },
     "5e005349090c490db0c8b721446aa559": {
      "model_module": "jupyter-js-widgets",
      "model_module_version": "~2.1.4",
      "model_name": "ProgressStyleModel",
      "state": {
       "_model_module_version": "~2.1.4",
       "_view_module_version": "~2.1.4"
      }
     },
     "5f2e7796f07148759f94656686993cc0": {
      "model_module": "jupyter-js-widgets",
      "model_module_version": "~2.1.4",
      "model_name": "ProgressModel",
      "state": {
       "_model_module_version": "~2.1.4",
       "_view_module_version": "~2.1.4",
       "bar_style": "success",
       "description": "Generating ndarrays: ",
       "layout": "IPY_MODEL_ed7f1daf5ac647af8cee7eda76df7af1",
       "max": 2,
       "style": "IPY_MODEL_db1458055f064de29e6f2866a1893ca6",
       "value": 2
      }
     },
     "6189e35a67b7408d9397909df9f1612a": {
      "model_module": "jupyter-js-widgets",
      "model_module_version": "~2.1.4",
      "model_name": "LayoutModel",
      "state": {
       "_model_module_version": "~2.1.4",
       "_view_module_version": "~2.1.4"
      }
     },
     "67b851a6bf504a6992a572eefb80a0bd": {
      "model_module": "jupyter-js-widgets",
      "model_module_version": "~2.1.4",
      "model_name": "ProgressStyleModel",
      "state": {
       "_model_module_version": "~2.1.4",
       "_view_module_version": "~2.1.4"
      }
     },
     "68326d62a1bf49a79ace189bb7b1e048": {
      "model_module": "jupyter-js-widgets",
      "model_module_version": "~2.1.4",
      "model_name": "HBoxModel",
      "state": {
       "_model_module_version": "~2.1.4",
       "_view_module_version": "~2.1.4",
       "children": [
        "IPY_MODEL_b9d055a60c0f4584a3d1930ac6cf6f8f",
        "IPY_MODEL_a02e5345acb748aba65f95dcb0a3beac"
       ],
       "layout": "IPY_MODEL_1f0371d975c84f108192d9c398118eec"
      }
     },
     "698b08d8f99e4c45a6330cd0134150d0": {
      "model_module": "jupyter-js-widgets",
      "model_module_version": "~2.1.4",
      "model_name": "LayoutModel",
      "state": {
       "_model_module_version": "~2.1.4",
       "_view_module_version": "~2.1.4"
      }
     },
     "6cac1143e9d44081849b51b0f2a2ac3f": {
      "model_module": "jupyter-js-widgets",
      "model_module_version": "~2.1.4",
      "model_name": "HBoxModel",
      "state": {
       "_model_module_version": "~2.1.4",
       "_view_module_version": "~2.1.4",
       "children": [
        "IPY_MODEL_ef8936ad6e3146168eb59912a4b03479",
        "IPY_MODEL_f12611e8d9a54505aec0333f5a2ce8c4"
       ],
       "layout": "IPY_MODEL_f99af018cace41fe85875d0f861a4a10"
      }
     },
     "742df03e764b4c23b8a0e9009a339c47": {
      "model_module": "jupyter-js-widgets",
      "model_module_version": "~2.1.4",
      "model_name": "LayoutModel",
      "state": {
       "_model_module_version": "~2.1.4",
       "_view_module_version": "~2.1.4"
      }
     },
     "761a0c7cfc1744cca37b9ed7486ea3fc": {
      "model_module": "jupyter-js-widgets",
      "model_module_version": "~2.1.4",
      "model_name": "HBoxModel",
      "state": {
       "_model_module_version": "~2.1.4",
       "_view_module_version": "~2.1.4",
       "children": [
        "IPY_MODEL_eb51e907ab2249cea9a06ed5e75a674b",
        "IPY_MODEL_3b030789e8cd4451b84e76ac11d14132"
       ],
       "layout": "IPY_MODEL_ad736a3106f044088efef550dd979234"
      }
     },
     "76d3bb9b207444759f55158ad0cb6365": {
      "model_module": "jupyter-js-widgets",
      "model_module_version": "~2.1.4",
      "model_name": "ProgressModel",
      "state": {
       "_model_module_version": "~2.1.4",
       "_view_module_version": "~2.1.4",
       "bar_style": "success",
       "description": "Applying Divvy Rule: ",
       "layout": "IPY_MODEL_8ee0824a790c485ca5804d66761f2f73",
       "max": 7470,
       "style": "IPY_MODEL_5e005349090c490db0c8b721446aa559",
       "value": 7470
      }
     },
     "784c207aa6d14889b01b1cd2d1450494": {
      "model_module": "jupyter-js-widgets",
      "model_module_version": "~2.1.4",
      "model_name": "LayoutModel",
      "state": {
       "_model_module_version": "~2.1.4",
       "_view_module_version": "~2.1.4"
      }
     },
     "7ca599b8df9747afb0cf02c3b0cae26f": {
      "model_module": "jupyter-js-widgets",
      "model_module_version": "~2.1.4",
      "model_name": "HBoxModel",
      "state": {
       "_model_module_version": "~2.1.4",
       "_view_module_version": "~2.1.4",
       "children": [
        "IPY_MODEL_14b53634d84d4c59889b7699b8458285",
        "IPY_MODEL_47b3af301619429aaabf1d4c2666d5c9"
       ],
       "layout": "IPY_MODEL_ed0e8d673dd84c56b890a653864be230"
      }
     },
     "7cff118aa1f243368b80c9a0ad27845f": {
      "model_module": "jupyter-js-widgets",
      "model_module_version": "~2.1.4",
      "model_name": "LayoutModel",
      "state": {
       "_model_module_version": "~2.1.4",
       "_view_module_version": "~2.1.4"
      }
     },
     "7d86f1bc5d01496f87b6637d22621f69": {
      "model_module": "jupyter-js-widgets",
      "model_module_version": "~2.1.4",
      "model_name": "LayoutModel",
      "state": {
       "_model_module_version": "~2.1.4",
       "_view_module_version": "~2.1.4"
      }
     },
     "7f4b8aca844b4abf814641548b7dabe2": {
      "model_module": "jupyter-js-widgets",
      "model_module_version": "~2.1.4",
      "model_name": "LayoutModel",
      "state": {
       "_model_module_version": "~2.1.4",
       "_view_module_version": "~2.1.4"
      }
     },
     "8748d68077d54493a9691613afd6df49": {
      "model_module": "jupyter-js-widgets",
      "model_module_version": "~2.1.4",
      "model_name": "LayoutModel",
      "state": {
       "_model_module_version": "~2.1.4",
       "_view_module_version": "~2.1.4"
      }
     },
     "8aad8af000b94621a7063269b72d8925": {
      "model_module": "jupyter-js-widgets",
      "model_module_version": "~2.1.4",
      "model_name": "LayoutModel",
      "state": {
       "_model_module_version": "~2.1.4",
       "_view_module_version": "~2.1.4"
      }
     },
     "8be801a386c34146a2664f483223df95": {
      "model_module": "jupyter-js-widgets",
      "model_module_version": "~2.1.4",
      "model_name": "ProgressStyleModel",
      "state": {
       "_model_module_version": "~2.1.4",
       "_view_module_version": "~2.1.4"
      }
     },
     "8da3bd3d9e214da8b0a418141f711a0b": {
      "model_module": "jupyter-js-widgets",
      "model_module_version": "~2.1.4",
      "model_name": "ProgressModel",
      "state": {
       "_model_module_version": "~2.1.4",
       "_view_module_version": "~2.1.4",
       "bar_style": "success",
       "description": "Obtaining Images: ",
       "layout": "IPY_MODEL_7f4b8aca844b4abf814641548b7dabe2",
       "max": 7470,
       "style": "IPY_MODEL_3421f78574d3460c876f21a24cb246ce",
       "value": 7470
      }
     },
     "8de3b818bc0141e1a0d6387310d4774e": {
      "model_module": "jupyter-js-widgets",
      "model_module_version": "~2.1.4",
      "model_name": "HBoxModel",
      "state": {
       "_model_module_version": "~2.1.4",
       "_view_module_version": "~2.1.4",
       "children": [
        "IPY_MODEL_e5188f5f64a74dea922d4be91a45119a",
        "IPY_MODEL_0e4954dac8e04f038b8cfdf424c60744"
       ],
       "layout": "IPY_MODEL_d3d52b355f7b434185d31c23d9f4954f"
      }
     },
     "8ee0824a790c485ca5804d66761f2f73": {
      "model_module": "jupyter-js-widgets",
      "model_module_version": "~2.1.4",
      "model_name": "LayoutModel",
      "state": {
       "_model_module_version": "~2.1.4",
       "_view_module_version": "~2.1.4"
      }
     },
     "914de16a55ee4117b875bc3653f7f0cc": {
      "model_module": "jupyter-js-widgets",
      "model_module_version": "~2.1.4",
      "model_name": "HTMLModel",
      "state": {
       "_model_module_version": "~2.1.4",
       "_view_module_version": "~2.1.4",
       "layout": "IPY_MODEL_742df03e764b4c23b8a0e9009a339c47",
       "value": "100% 1500/1500 [00:05&lt;00:00, 256.42it/s]"
      }
     },
     "9237a979dc33406f978ae183e0d738d2": {
      "model_module": "jupyter-js-widgets",
      "model_module_version": "~2.1.4",
      "model_name": "HTMLModel",
      "state": {
       "_model_module_version": "~2.1.4",
       "_view_module_version": "~2.1.4",
       "layout": "IPY_MODEL_469c00b888fa419aa0482d72a07853ac",
       "value": "100% 249/249 [01:57&lt;00:00,  3.58it/s]"
      }
     },
     "94ad25a2132b433487c2e628c1264bbe": {
      "model_module": "jupyter-js-widgets",
      "model_module_version": "~2.1.4",
      "model_name": "HBoxModel",
      "state": {
       "_model_module_version": "~2.1.4",
       "_view_module_version": "~2.1.4",
       "children": [
        "IPY_MODEL_145a27e31e5c4e6ca740e011d7081c7d",
        "IPY_MODEL_b7f7c7890c9049b8bfcc9cfcf0330b0c"
       ],
       "layout": "IPY_MODEL_784c207aa6d14889b01b1cd2d1450494"
      }
     },
     "9703a4d7129a4df6a280782a4c1d601a": {
      "model_module": "jupyter-js-widgets",
      "model_module_version": "~2.1.4",
      "model_name": "ProgressStyleModel",
      "state": {
       "_model_module_version": "~2.1.4",
       "_view_module_version": "~2.1.4"
      }
     },
     "97140f25b8f947e2be256305a3901a9e": {
      "model_module": "jupyter-js-widgets",
      "model_module_version": "~2.1.4",
      "model_name": "LayoutModel",
      "state": {
       "_model_module_version": "~2.1.4",
       "_view_module_version": "~2.1.4"
      }
     },
     "985b563b116b4a63a0e0f69f8862e5d9": {
      "model_module": "jupyter-js-widgets",
      "model_module_version": "~2.1.4",
      "model_name": "HTMLModel",
      "state": {
       "_model_module_version": "~2.1.4",
       "_view_module_version": "~2.1.4",
       "layout": "IPY_MODEL_1673671444c34a27a0b47bd0183ee6a9",
       "value": "100% 50/50 [02:36&lt;00:00,  3.90s/it]"
      }
     },
     "9aef70f3bd3d42e5b3d380bd18e06f1d": {
      "model_module": "jupyter-js-widgets",
      "model_module_version": "~2.1.4",
      "model_name": "LayoutModel",
      "state": {
       "_model_module_version": "~2.1.4",
       "_view_module_version": "~2.1.4"
      }
     },
     "9de066dd2b424f38b560aabba64a828f": {
      "model_module": "jupyter-js-widgets",
      "model_module_version": "~2.1.4",
      "model_name": "LayoutModel",
      "state": {
       "_model_module_version": "~2.1.4",
       "_view_module_version": "~2.1.4"
      }
     },
     "9e017ec819f341cb8fe9e4983abff0a5": {
      "model_module": "jupyter-js-widgets",
      "model_module_version": "~2.1.4",
      "model_name": "HTMLModel",
      "state": {
       "_model_module_version": "~2.1.4",
       "_view_module_version": "~2.1.4",
       "layout": "IPY_MODEL_3174d71a48b147618552d54261932149",
       "value": "100% 7470/7470 [01:11&lt;00:00, 104.07it/s]"
      }
     },
     "a02e5345acb748aba65f95dcb0a3beac": {
      "model_module": "jupyter-js-widgets",
      "model_module_version": "~2.1.4",
      "model_name": "HTMLModel",
      "state": {
       "_model_module_version": "~2.1.4",
       "_view_module_version": "~2.1.4",
       "layout": "IPY_MODEL_f8e768c1ab86458e8fe34c6bc4177d15",
       "value": "  0% 0/50 [00:00&lt;?, ?it/s]"
      }
     },
     "a5be78e28c2f4cc494252501661fae2a": {
      "model_module": "jupyter-js-widgets",
      "model_module_version": "~2.1.4",
      "model_name": "HBoxModel",
      "state": {
       "_model_module_version": "~2.1.4",
       "_view_module_version": "~2.1.4",
       "children": [
        "IPY_MODEL_76d3bb9b207444759f55158ad0cb6365",
        "IPY_MODEL_24be89a72eb94815a3a4f5ca2d1c9ad3"
       ],
       "layout": "IPY_MODEL_d57cb0f81fbf4eff9fa18ad74cfc6b61"
      }
     },
     "a799049113d140d0a13e78f164d9932a": {
      "model_module": "jupyter-js-widgets",
      "model_module_version": "~2.1.4",
      "model_name": "ProgressStyleModel",
      "state": {
       "_model_module_version": "~2.1.4",
       "_view_module_version": "~2.1.4"
      }
     },
     "abbb3fb1055e481aa0c46555ce77d8f2": {
      "model_module": "jupyter-js-widgets",
      "model_module_version": "~2.1.4",
      "model_name": "LayoutModel",
      "state": {
       "_model_module_version": "~2.1.4",
       "_view_module_version": "~2.1.4"
      }
     },
     "ad736a3106f044088efef550dd979234": {
      "model_module": "jupyter-js-widgets",
      "model_module_version": "~2.1.4",
      "model_name": "LayoutModel",
      "state": {
       "_model_module_version": "~2.1.4",
       "_view_module_version": "~2.1.4"
      }
     },
     "b1f92efc41314cca851226a1ad74a5a8": {
      "model_module": "jupyter-js-widgets",
      "model_module_version": "~2.1.4",
      "model_name": "ProgressModel",
      "state": {
       "_model_module_version": "~2.1.4",
       "_view_module_version": "~2.1.4",
       "bar_style": "success",
       "description": "Obtaining Records: ",
       "layout": "IPY_MODEL_39390ae6bd1645c796ceac955a6a731b",
       "max": 50,
       "style": "IPY_MODEL_18a1a47727424c259f0793965150263d",
       "value": 50
      }
     },
     "b4afce08b0bd4a9e8e9d58099f6283bf": {
      "model_module": "jupyter-js-widgets",
      "model_module_version": "~2.1.4",
      "model_name": "ProgressModel",
      "state": {
       "_model_module_version": "~2.1.4",
       "_view_module_version": "~2.1.4",
       "bar_style": "success",
       "description": "Processing Records: ",
       "layout": "IPY_MODEL_031a4a1f87b643e089d70c50caf48622",
       "max": 7470,
       "style": "IPY_MODEL_235dafe3427745bbb97d11d8e57600ec",
       "value": 7470
      }
     },
     "b7f7c7890c9049b8bfcc9cfcf0330b0c": {
      "model_module": "jupyter-js-widgets",
      "model_module_version": "~2.1.4",
      "model_name": "HTMLModel",
      "state": {
       "_model_module_version": "~2.1.4",
       "_view_module_version": "~2.1.4",
       "layout": "IPY_MODEL_26b90a861a1244a2987ee3d8116c8f28",
       "value": "100% 1500/1500 [00:17&lt;00:00, 84.77it/s]"
      }
     },
     "b9348169ff8243aea0bbf1137535a78f": {
      "model_module": "jupyter-js-widgets",
      "model_module_version": "~2.1.4",
      "model_name": "LayoutModel",
      "state": {
       "_model_module_version": "~2.1.4",
       "_view_module_version": "~2.1.4"
      }
     },
     "b9d055a60c0f4584a3d1930ac6cf6f8f": {
      "model_module": "jupyter-js-widgets",
      "model_module_version": "~2.1.4",
      "model_name": "ProgressModel",
      "state": {
       "_model_module_version": "~2.1.4",
       "_view_module_version": "~2.1.4",
       "description": "Obtaining Records: ",
       "layout": "IPY_MODEL_33f072ed7b234ad0bc175ae2ed8341a9",
       "max": 50,
       "style": "IPY_MODEL_0657160729744889bd4138cd3e957208"
      }
     },
     "b9d3b84f88e74a72bd26e4fb056ffaf0": {
      "model_module": "jupyter-js-widgets",
      "model_module_version": "~2.1.4",
      "model_name": "ProgressModel",
      "state": {
       "_model_module_version": "~2.1.4",
       "_view_module_version": "~2.1.4",
       "bar_style": "success",
       "description": "Obtaining Records: ",
       "layout": "IPY_MODEL_cf23bffbe89c44779e1b35544da4a64a",
       "max": 249,
       "style": "IPY_MODEL_a799049113d140d0a13e78f164d9932a",
       "value": 249
      }
     },
     "c732559b0fc943738ecc53da74d9eb0d": {
      "model_module": "jupyter-js-widgets",
      "model_module_version": "~2.1.4",
      "model_name": "ProgressStyleModel",
      "state": {
       "_model_module_version": "~2.1.4",
       "_view_module_version": "~2.1.4"
      }
     },
     "cec7f13245564076973c77e3dbaa9b8c": {
      "model_module": "jupyter-js-widgets",
      "model_module_version": "~2.1.4",
      "model_name": "HBoxModel",
      "state": {
       "_model_module_version": "~2.1.4",
       "_view_module_version": "~2.1.4",
       "children": [
        "IPY_MODEL_8da3bd3d9e214da8b0a418141f711a0b",
        "IPY_MODEL_5d31348996504eb4bc5be72fbb62fc18"
       ],
       "layout": "IPY_MODEL_b9348169ff8243aea0bbf1137535a78f"
      }
     },
     "cf23bffbe89c44779e1b35544da4a64a": {
      "model_module": "jupyter-js-widgets",
      "model_module_version": "~2.1.4",
      "model_name": "LayoutModel",
      "state": {
       "_model_module_version": "~2.1.4",
       "_view_module_version": "~2.1.4"
      }
     },
     "d3d52b355f7b434185d31c23d9f4954f": {
      "model_module": "jupyter-js-widgets",
      "model_module_version": "~2.1.4",
      "model_name": "LayoutModel",
      "state": {
       "_model_module_version": "~2.1.4",
       "_view_module_version": "~2.1.4"
      }
     },
     "d57cb0f81fbf4eff9fa18ad74cfc6b61": {
      "model_module": "jupyter-js-widgets",
      "model_module_version": "~2.1.4",
      "model_name": "LayoutModel",
      "state": {
       "_model_module_version": "~2.1.4",
       "_view_module_version": "~2.1.4"
      }
     },
     "da3dd76b80834f339fbc80e4efbceddb": {
      "model_module": "jupyter-js-widgets",
      "model_module_version": "~2.1.4",
      "model_name": "LayoutModel",
      "state": {
       "_model_module_version": "~2.1.4",
       "_view_module_version": "~2.1.4"
      }
     },
     "db1458055f064de29e6f2866a1893ca6": {
      "model_module": "jupyter-js-widgets",
      "model_module_version": "~2.1.4",
      "model_name": "ProgressStyleModel",
      "state": {
       "_model_module_version": "~2.1.4",
       "_view_module_version": "~2.1.4"
      }
     },
     "db6a3ef0a7d844a7b96ba1c5d977217d": {
      "model_module": "jupyter-js-widgets",
      "model_module_version": "~2.1.4",
      "model_name": "ProgressModel",
      "state": {
       "_model_module_version": "~2.1.4",
       "_view_module_version": "~2.1.4",
       "bar_style": "success",
       "description": "Preparing Images: ",
       "layout": "IPY_MODEL_9aef70f3bd3d42e5b3d380bd18e06f1d",
       "max": 1500,
       "style": "IPY_MODEL_f54955637114411a83e5941f6884d75d",
       "value": 1500
      }
     },
     "e094bbfff3bd4925b6cf79a2c66c7c70": {
      "model_module": "jupyter-js-widgets",
      "model_module_version": "~2.1.4",
      "model_name": "HTMLModel",
      "state": {
       "_model_module_version": "~2.1.4",
       "_view_module_version": "~2.1.4",
       "layout": "IPY_MODEL_4e7017e4d23d4ff5b272d9f7f0baa78b",
       "value": "100% 100/100 [00:00&lt;00:00, 2733.44it/s]"
      }
     },
     "e24cfc2453ff4bc18340e8cddcfdff6d": {
      "model_module": "jupyter-js-widgets",
      "model_module_version": "~2.1.4",
      "model_name": "LayoutModel",
      "state": {
       "_model_module_version": "~2.1.4",
       "_view_module_version": "~2.1.4"
      }
     },
     "e26fd22bfb334db086a56c548eddaf2e": {
      "model_module": "jupyter-js-widgets",
      "model_module_version": "~2.1.4",
      "model_name": "HTMLModel",
      "state": {
       "_model_module_version": "~2.1.4",
       "_view_module_version": "~2.1.4",
       "layout": "IPY_MODEL_1ef58efd4a1c4d429e5ee5326d439fce",
       "value": "100% 2/2 [00:15&lt;00:00,  9.67s/it]"
      }
     },
     "e5188f5f64a74dea922d4be91a45119a": {
      "model_module": "jupyter-js-widgets",
      "model_module_version": "~2.1.4",
      "model_name": "ProgressModel",
      "state": {
       "_model_module_version": "~2.1.4",
       "_view_module_version": "~2.1.4",
       "bar_style": "success",
       "description": "Scanning for Problems: ",
       "layout": "IPY_MODEL_3e0b5d9c8bd44e778ba9c75b9a0e159e",
       "max": 1500,
       "style": "IPY_MODEL_41d7913b76494c5b9e45b24372e6bffc",
       "value": 1500
      }
     },
     "ea5e5eed52804da1beb501830741a13b": {
      "model_module": "jupyter-js-widgets",
      "model_module_version": "~2.1.4",
      "model_name": "LayoutModel",
      "state": {
       "_model_module_version": "~2.1.4",
       "_view_module_version": "~2.1.4"
      }
     },
     "eb29e426b90a41568e321de299812e6e": {
      "model_module": "jupyter-js-widgets",
      "model_module_version": "~2.1.4",
      "model_name": "HBoxModel",
      "state": {
       "_model_module_version": "~2.1.4",
       "_view_module_version": "~2.1.4",
       "children": [
        "IPY_MODEL_b9d3b84f88e74a72bd26e4fb056ffaf0",
        "IPY_MODEL_9237a979dc33406f978ae183e0d738d2"
       ],
       "layout": "IPY_MODEL_23860d1136a84dc49597f9f0a7d2cf9f"
      }
     },
     "eb51e907ab2249cea9a06ed5e75a674b": {
      "model_module": "jupyter-js-widgets",
      "model_module_version": "~2.1.4",
      "model_name": "ProgressModel",
      "state": {
       "_model_module_version": "~2.1.4",
       "_view_module_version": "~2.1.4",
       "bar_style": "success",
       "description": "Grayscale Analysis: ",
       "layout": "IPY_MODEL_2c079b77f31249188836ce75fb3933fc",
       "max": 1500,
       "style": "IPY_MODEL_8be801a386c34146a2664f483223df95",
       "value": 1500
      }
     },
     "ed0e8d673dd84c56b890a653864be230": {
      "model_module": "jupyter-js-widgets",
      "model_module_version": "~2.1.4",
      "model_name": "LayoutModel",
      "state": {
       "_model_module_version": "~2.1.4",
       "_view_module_version": "~2.1.4"
      }
     },
     "ed7f1daf5ac647af8cee7eda76df7af1": {
      "model_module": "jupyter-js-widgets",
      "model_module_version": "~2.1.4",
      "model_name": "LayoutModel",
      "state": {
       "_model_module_version": "~2.1.4",
       "_view_module_version": "~2.1.4"
      }
     },
     "ed80f244912d4df59d354bed99376972": {
      "model_module": "jupyter-js-widgets",
      "model_module_version": "~2.1.4",
      "model_name": "HBoxModel",
      "state": {
       "_model_module_version": "~2.1.4",
       "_view_module_version": "~2.1.4",
       "children": [
        "IPY_MODEL_db6a3ef0a7d844a7b96ba1c5d977217d",
        "IPY_MODEL_914de16a55ee4117b875bc3653f7f0cc"
       ],
       "layout": "IPY_MODEL_304be87bace54605b39bfb1d53cec438"
      }
     },
     "ef8936ad6e3146168eb59912a4b03479": {
      "model_module": "jupyter-js-widgets",
      "model_module_version": "~2.1.4",
      "model_name": "ProgressModel",
      "state": {
       "_model_module_version": "~2.1.4",
       "_view_module_version": "~2.1.4",
       "bar_style": "success",
       "description": "Processing Records: ",
       "layout": "IPY_MODEL_ea5e5eed52804da1beb501830741a13b",
       "max": 1500,
       "style": "IPY_MODEL_32719c4451bf4960908ec56f99c85d3c",
       "value": 1500
      }
     },
     "f12611e8d9a54505aec0333f5a2ce8c4": {
      "model_module": "jupyter-js-widgets",
      "model_module_version": "~2.1.4",
      "model_name": "HTMLModel",
      "state": {
       "_model_module_version": "~2.1.4",
       "_view_module_version": "~2.1.4",
       "layout": "IPY_MODEL_51980b72834f4a9694a8e68ac420f15f",
       "value": "100% 1500/1500 [00:39&lt;00:00, 38.01it/s]"
      }
     },
     "f3b7a6cc323c4e17951e729468c7fa4b": {
      "model_module": "jupyter-js-widgets",
      "model_module_version": "~2.1.4",
      "model_name": "HTMLModel",
      "state": {
       "_model_module_version": "~2.1.4",
       "_view_module_version": "~2.1.4",
       "layout": "IPY_MODEL_16620d0f679440d8ae8fbabde9137676",
       "value": "100% 1500/1500 [00:11&lt;00:00, 127.23it/s]"
      }
     },
     "f54955637114411a83e5941f6884d75d": {
      "model_module": "jupyter-js-widgets",
      "model_module_version": "~2.1.4",
      "model_name": "ProgressStyleModel",
      "state": {
       "_model_module_version": "~2.1.4",
       "_view_module_version": "~2.1.4"
      }
     },
     "f8e768c1ab86458e8fe34c6bc4177d15": {
      "model_module": "jupyter-js-widgets",
      "model_module_version": "~2.1.4",
      "model_name": "LayoutModel",
      "state": {
       "_model_module_version": "~2.1.4",
       "_view_module_version": "~2.1.4"
      }
     },
     "f99af018cace41fe85875d0f861a4a10": {
      "model_module": "jupyter-js-widgets",
      "model_module_version": "~2.1.4",
      "model_name": "LayoutModel",
      "state": {
       "_model_module_version": "~2.1.4",
       "_view_module_version": "~2.1.4"
      }
     },
     "fc362713a32245808a50c819ad0ae83f": {
      "model_module": "jupyter-js-widgets",
      "model_module_version": "~2.1.4",
      "model_name": "ProgressStyleModel",
      "state": {
       "_model_module_version": "~2.1.4",
       "_view_module_version": "~2.1.4"
      }
     }
    },
    "version_major": 1,
    "version_minor": 0
   }
  }
 },
 "nbformat": 4,
 "nbformat_minor": 1
}
