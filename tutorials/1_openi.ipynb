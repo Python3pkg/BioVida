{
 "cells": [
  {
   "cell_type": "markdown",
   "metadata": {},
   "source": [
    "BioVida: Open-i\n",
    "========\n",
    "---"
   ]
  },
  {
   "cell_type": "markdown",
   "metadata": {},
   "source": [
    "[Open-i](https://openi.nlm.nih.gov) is an open access biomedical search engine provided by the US National Institutes of Health. The service grants programmatic access to its over 1.2 million images through a RESTful web API. BioVida provides an easy-to-use python interface for this web API, located in the ``images`` subpackage."
   ]
  },
  {
   "cell_type": "code",
   "execution_count": 1,
   "metadata": {},
   "outputs": [
    {
     "name": "stderr",
     "output_type": "stream",
     "text": [
      "Using Theano backend.\n"
     ]
    }
   ],
   "source": [
    "from biovida.images import OpeniInterface"
   ]
  },
  {
   "cell_type": "markdown",
   "metadata": {},
   "source": [
    "\n"
   ]
  },
  {
   "cell_type": "code",
   "execution_count": 2,
   "metadata": {},
   "outputs": [],
   "source": [
    "opi = OpeniInterface()"
   ]
  },
  {
   "cell_type": "markdown",
   "metadata": {
    "collapsed": true
   },
   "source": [
    "We start by creating an instance of the class. All BioVida interfaces accept at least two parameters: ``verbose`` and ``cache_path``. The first simply determines whether or not the class provides you with additional updates as the class works. The second refers to the location where will be stored (or *cached*) on your computer. If left to its default, data will be cached in a directory entitled *biovida_cache* in your home directory. For most use cases, this should suffice."
   ]
  },
  {
   "cell_type": "markdown",
   "metadata": {},
   "source": [
    "---\n",
    "\n",
    "### Searching"
   ]
  },
  {
   "cell_type": "markdown",
   "metadata": {},
   "source": [
    "To search the Open-i database, we can use the ``OpeniInterface``'s ``search`` method. To explore valid values that can be passed to ``search``, we can use ``options()``."
   ]
  },
  {
   "cell_type": "code",
   "execution_count": 3,
   "metadata": {},
   "outputs": [
    {
     "name": "stdout",
     "output_type": "stream",
     "text": [
      "  - 'article_type'\n",
      "  - 'collection'\n",
      "  - 'exclusions'\n",
      "  - 'fields'\n",
      "  - 'image_type'\n",
      "  - 'rankby'\n",
      "  - 'specialties'\n",
      "  - 'subset'\n",
      "  - 'video'\n"
     ]
    }
   ],
   "source": [
    "opi.options()"
   ]
  },
  {
   "cell_type": "markdown",
   "metadata": {
    "collapsed": true
   },
   "source": [
    "The code above enumerates all of the parameters, apart from a specific ``query`` string, that can be passed to ``search()``. Additionally, ``options()`` can be used to investigate the valid values for any one of these parameters."
   ]
  },
  {
   "cell_type": "code",
   "execution_count": 4,
   "metadata": {},
   "outputs": [
    {
     "name": "stdout",
     "output_type": "stream",
     "text": [
      "  - 'history_of_medicine'\n",
      "  - 'indiana_u_xray'\n",
      "  - 'medpix'\n",
      "  - 'pubmed'\n",
      "  - 'usc_anatomy'\n"
     ]
    }
   ],
   "source": [
    "opi.options('collection')"
   ]
  },
  {
   "cell_type": "code",
   "execution_count": 5,
   "metadata": {},
   "outputs": [
    {
     "name": "stdout",
     "output_type": "stream",
     "text": [
      "  - 'ct'\n",
      "  - 'graphic'\n",
      "  - 'microscopy'\n",
      "  - 'mri'\n",
      "  - 'pet'\n",
      "  - 'photograph'\n",
      "  - 'ultrasound'\n",
      "  - 'x_ray'\n"
     ]
    }
   ],
   "source": [
    "opi.options('image_type')"
   ]
  },
  {
   "cell_type": "markdown",
   "metadata": {},
   "source": [
    "Let's go ahead and perform a search for X-ray and CT images of 'lung cancer' from the PubMed collection/database."
   ]
  },
  {
   "cell_type": "code",
   "execution_count": 6,
   "metadata": {},
   "outputs": [
    {
     "name": "stdout",
     "output_type": "stream",
     "text": [
      "\n",
      "Results Found: 8,531.\n"
     ]
    }
   ],
   "source": [
    "opi.search(query='lung cancer', image_type=('x_ray', 'ct'), collection='pubmed')"
   ]
  },
  {
   "cell_type": "markdown",
   "metadata": {},
   "source": [
    "---\n",
    "\n",
    "### Downloading Data"
   ]
  },
  {
   "cell_type": "markdown",
   "metadata": {},
   "source": [
    "Now that we've defined a search, we can easily download some, or all, of the results found.\n",
    "For the sake of expediency, let's limit the number of results we download to the first 1500."
   ]
  },
  {
   "cell_type": "code",
   "execution_count": 7,
   "metadata": {},
   "outputs": [
    {
     "name": "stdout",
     "output_type": "stream",
     "text": [
      "\n",
      "Number of Records to Download: 1,500 (chunk size: 30 records).\n"
     ]
    },
    {
     "data": {
      "application/vnd.jupyter.widget-view+json": {
       "model_id": "ebd9005a4f7d439ba76f70c5173d9ea3"
      }
     },
     "metadata": {},
     "output_type": "display_data"
    },
    {
     "name": "stdout",
     "output_type": "stream",
     "text": [
      "\n"
     ]
    },
    {
     "data": {
      "application/vnd.jupyter.widget-view+json": {
       "model_id": "b746d0496941492d8c545aa9f4af1964"
      }
     },
     "metadata": {},
     "output_type": "display_data"
    },
    {
     "name": "stdout",
     "output_type": "stream",
     "text": [
      "\n"
     ]
    },
    {
     "data": {
      "application/vnd.jupyter.widget-view+json": {
       "model_id": "e420e089b76d4e1182b2790368bb529c"
      }
     },
     "metadata": {},
     "output_type": "display_data"
    },
    {
     "name": "stdout",
     "output_type": "stream",
     "text": [
      "\n"
     ]
    }
   ],
   "source": [
    "pull_df = opi.pull(download_limit=1500)"
   ]
  },
  {
   "cell_type": "markdown",
   "metadata": {},
   "source": [
    "The text information associated with images are referred to as 'records', which are downloaded in 'chunks' of no more than 30 at a time. <br>\n",
    "Images, unlike records, are downloaded 'one by one'. However, ``pull()`` will check the cache before downloading an image, in an effort to reduce redundant downloads."
   ]
  },
  {
   "cell_type": "markdown",
   "metadata": {},
   "source": [
    "The dataframe generated by ``pull()`` can be viewed using either ``opi.records_db``, or the ``pull_df`` used above to capture the output of ``pull()``. Both will be identical. We can also view an abbreviated dataframe, ``opi.records_db_short``, which has several (typically unneeded) columns removed. "
   ]
  },
  {
   "cell_type": "code",
   "execution_count": 8,
   "metadata": {
    "collapsed": true
   },
   "outputs": [],
   "source": [
    "import numpy as np\n",
    "def simplify_df(df):\n",
    "    \"\"\"This function simplifies dataframes\n",
    "    for the purposes of this tutorial.\"\"\"\n",
    "    data_frame = df.copy()\n",
    "    data_frame['cached_images_path'] = '/path/to/image'\n",
    "    return data_frame[0:5].replace({np.NaN: ''})"
   ]
  },
  {
   "cell_type": "code",
   "execution_count": 9,
   "metadata": {},
   "outputs": [
    {
     "data": {
      "text/html": [
       "<div>\n",
       "<table border=\"1\" class=\"dataframe\">\n",
       "  <thead>\n",
       "    <tr style=\"text-align: right;\">\n",
       "      <th></th>\n",
       "      <th>mesh_major</th>\n",
       "      <th>mesh_minor</th>\n",
       "      <th>problems</th>\n",
       "      <th>abstract</th>\n",
       "      <th>affiliate</th>\n",
       "      <th>article_type</th>\n",
       "      <th>authors</th>\n",
       "      <th>cc_license</th>\n",
       "      <th>doc_source</th>\n",
       "      <th>image_caption</th>\n",
       "      <th>...</th>\n",
       "      <th>image_problems_from_text</th>\n",
       "      <th>imaging_modality_from_text</th>\n",
       "      <th>parsed_abstract</th>\n",
       "      <th>sex</th>\n",
       "      <th>modality_full</th>\n",
       "      <th>image_id_short</th>\n",
       "      <th>query</th>\n",
       "      <th>pull_time</th>\n",
       "      <th>cached_images_path</th>\n",
       "      <th>download_success</th>\n",
       "    </tr>\n",
       "  </thead>\n",
       "  <tbody>\n",
       "    <tr>\n",
       "      <th>0</th>\n",
       "      <td></td>\n",
       "      <td></td>\n",
       "      <td>lung cancer</td>\n",
       "      <td>Lung cancer is one of the leading causes of ca...</td>\n",
       "      <td>Department of Nuclear Medicine and Molecular I...</td>\n",
       "      <td>other</td>\n",
       "      <td>Purandare NC, Rangarajan V</td>\n",
       "      <td>byncsa</td>\n",
       "      <td>PMC</td>\n",
       "      <td>(A-D) Nodal disease. Right upper paratracheal ...</td>\n",
       "      <td>...</td>\n",
       "      <td>(arrows, grids)</td>\n",
       "      <td>Computed Tomography (CT): chest</td>\n",
       "      <td></td>\n",
       "      <td>male</td>\n",
       "      <td>Computed Tomography (CT)</td>\n",
       "      <td>7</td>\n",
       "      <td>{'subset': None, 'rankby': None, 'collection':...</td>\n",
       "      <td>2017-04-10 15:24:37.098065</td>\n",
       "      <td>/path/to/image</td>\n",
       "      <td>True</td>\n",
       "    </tr>\n",
       "    <tr>\n",
       "      <th>1</th>\n",
       "      <td></td>\n",
       "      <td></td>\n",
       "      <td>nsclc</td>\n",
       "      <td>Non-small cell lung cancer (NSCLC) accounts fo...</td>\n",
       "      <td>Cardiopulmonary Department, Sant'Andrea Hospit...</td>\n",
       "      <td>research_article</td>\n",
       "      <td>Pezzuto A, Piraino A, Mariotta S</td>\n",
       "      <td>by</td>\n",
       "      <td>PMC</td>\n",
       "      <td>Case 2: (A) CT scan showing the lung after sur...</td>\n",
       "      <td>...</td>\n",
       "      <td></td>\n",
       "      <td>Computed Tomography (CT): chest</td>\n",
       "      <td></td>\n",
       "      <td>female</td>\n",
       "      <td>Computed Tomography (CT)</td>\n",
       "      <td>2</td>\n",
       "      <td>{'subset': None, 'rankby': None, 'collection':...</td>\n",
       "      <td>2017-04-10 15:24:37.098065</td>\n",
       "      <td>/path/to/image</td>\n",
       "      <td>True</td>\n",
       "    </tr>\n",
       "    <tr>\n",
       "      <th>2</th>\n",
       "      <td>(Adrenal Insufficiency/diagnosis*/drug therapy...</td>\n",
       "      <td>(Acute Disease, Adrenal Cortex Hormones/therap...</td>\n",
       "      <td>hypoxia; tachycardia</td>\n",
       "      <td>Background: Adrenal crisis after surgical pro...</td>\n",
       "      <td>Department of Orthopedic Surgery, Osaka Medica...</td>\n",
       "      <td>research_article</td>\n",
       "      <td>Naka N, Takenaka S, Nanno K, Moriguchi Y, Chun...</td>\n",
       "      <td>by</td>\n",
       "      <td>PMC</td>\n",
       "      <td>CT scan showing bilateral adrenal enlargement ...</td>\n",
       "      <td>...</td>\n",
       "      <td>(asterisks,)</td>\n",
       "      <td>Computed Tomography (CT): chest</td>\n",
       "      <td>{'background': 'Adrenal crisis after surgical ...</td>\n",
       "      <td>male</td>\n",
       "      <td>Computed Tomography (CT)</td>\n",
       "      <td>1</td>\n",
       "      <td>{'subset': None, 'rankby': None, 'collection':...</td>\n",
       "      <td>2017-04-10 15:24:37.098065</td>\n",
       "      <td>/path/to/image</td>\n",
       "      <td>True</td>\n",
       "    </tr>\n",
       "    <tr>\n",
       "      <th>3</th>\n",
       "      <td></td>\n",
       "      <td></td>\n",
       "      <td>small cell carcinoma of lung</td>\n",
       "      <td>Subcutaneous swelling as first clinical presen...</td>\n",
       "      <td>Department of Medicine.</td>\n",
       "      <td>case_report</td>\n",
       "      <td>Kumar S, Gupta A, Diwan SK, Bhake A</td>\n",
       "      <td></td>\n",
       "      <td>PMC</td>\n",
       "      <td>Computerized tomography of the chest showing p...</td>\n",
       "      <td>...</td>\n",
       "      <td></td>\n",
       "      <td>Computed Tomography (CT): chest</td>\n",
       "      <td></td>\n",
       "      <td>male</td>\n",
       "      <td>Computed Tomography (CT)</td>\n",
       "      <td>3</td>\n",
       "      <td>{'subset': None, 'rankby': None, 'collection':...</td>\n",
       "      <td>2017-04-10 15:24:37.098065</td>\n",
       "      <td>/path/to/image</td>\n",
       "      <td>True</td>\n",
       "    </tr>\n",
       "    <tr>\n",
       "      <th>4</th>\n",
       "      <td>(Echocardiography/methods*, Lung/ultrasonograp...</td>\n",
       "      <td>(Aged, Humans, Incidental Findings, Male)</td>\n",
       "      <td>lung tumor</td>\n",
       "      <td>We present images of a rare case where a prima...</td>\n",
       "      <td>Department of Clinical Physiology and Nuclear ...</td>\n",
       "      <td>research_article</td>\n",
       "      <td>Dencker M, Cronberg C, Damm S, Valind S, Wadbo M</td>\n",
       "      <td>by</td>\n",
       "      <td>PMC</td>\n",
       "      <td>Display of CT-image. The arrow indicates the n...</td>\n",
       "      <td>...</td>\n",
       "      <td>(arrows,)</td>\n",
       "      <td>Computed Tomography (CT): chest</td>\n",
       "      <td></td>\n",
       "      <td>male</td>\n",
       "      <td>Computed Tomography (CT)</td>\n",
       "      <td>2</td>\n",
       "      <td>{'subset': None, 'rankby': None, 'collection':...</td>\n",
       "      <td>2017-04-10 15:24:37.098065</td>\n",
       "      <td>/path/to/image</td>\n",
       "      <td>True</td>\n",
       "    </tr>\n",
       "  </tbody>\n",
       "</table>\n",
       "<p>5 rows × 38 columns</p>\n",
       "</div>"
      ],
      "text/plain": [
       "                                          mesh_major  \\\n",
       "0                                                      \n",
       "1                                                      \n",
       "2  (Adrenal Insufficiency/diagnosis*/drug therapy...   \n",
       "3                                                      \n",
       "4  (Echocardiography/methods*, Lung/ultrasonograp...   \n",
       "\n",
       "                                          mesh_minor  \\\n",
       "0                                                      \n",
       "1                                                      \n",
       "2  (Acute Disease, Adrenal Cortex Hormones/therap...   \n",
       "3                                                      \n",
       "4          (Aged, Humans, Incidental Findings, Male)   \n",
       "\n",
       "                       problems  \\\n",
       "0                   lung cancer   \n",
       "1                         nsclc   \n",
       "2          hypoxia; tachycardia   \n",
       "3  small cell carcinoma of lung   \n",
       "4                    lung tumor   \n",
       "\n",
       "                                            abstract  \\\n",
       "0  Lung cancer is one of the leading causes of ca...   \n",
       "1  Non-small cell lung cancer (NSCLC) accounts fo...   \n",
       "2   Background: Adrenal crisis after surgical pro...   \n",
       "3  Subcutaneous swelling as first clinical presen...   \n",
       "4  We present images of a rare case where a prima...   \n",
       "\n",
       "                                           affiliate      article_type  \\\n",
       "0  Department of Nuclear Medicine and Molecular I...             other   \n",
       "1  Cardiopulmonary Department, Sant'Andrea Hospit...  research_article   \n",
       "2  Department of Orthopedic Surgery, Osaka Medica...  research_article   \n",
       "3                            Department of Medicine.       case_report   \n",
       "4  Department of Clinical Physiology and Nuclear ...  research_article   \n",
       "\n",
       "                                             authors cc_license doc_source  \\\n",
       "0                         Purandare NC, Rangarajan V     byncsa        PMC   \n",
       "1                   Pezzuto A, Piraino A, Mariotta S         by        PMC   \n",
       "2  Naka N, Takenaka S, Nanno K, Moriguchi Y, Chun...         by        PMC   \n",
       "3                Kumar S, Gupta A, Diwan SK, Bhake A                   PMC   \n",
       "4   Dencker M, Cronberg C, Damm S, Valind S, Wadbo M         by        PMC   \n",
       "\n",
       "                                       image_caption       ...         \\\n",
       "0  (A-D) Nodal disease. Right upper paratracheal ...       ...          \n",
       "1  Case 2: (A) CT scan showing the lung after sur...       ...          \n",
       "2  CT scan showing bilateral adrenal enlargement ...       ...          \n",
       "3  Computerized tomography of the chest showing p...       ...          \n",
       "4  Display of CT-image. The arrow indicates the n...       ...          \n",
       "\n",
       "  image_problems_from_text       imaging_modality_from_text  \\\n",
       "0          (arrows, grids)  Computed Tomography (CT): chest   \n",
       "1                           Computed Tomography (CT): chest   \n",
       "2             (asterisks,)  Computed Tomography (CT): chest   \n",
       "3                           Computed Tomography (CT): chest   \n",
       "4                (arrows,)  Computed Tomography (CT): chest   \n",
       "\n",
       "                                     parsed_abstract     sex  \\\n",
       "0                                                       male   \n",
       "1                                                     female   \n",
       "2  {'background': 'Adrenal crisis after surgical ...    male   \n",
       "3                                                       male   \n",
       "4                                                       male   \n",
       "\n",
       "              modality_full image_id_short  \\\n",
       "0  Computed Tomography (CT)              7   \n",
       "1  Computed Tomography (CT)              2   \n",
       "2  Computed Tomography (CT)              1   \n",
       "3  Computed Tomography (CT)              3   \n",
       "4  Computed Tomography (CT)              2   \n",
       "\n",
       "                                               query  \\\n",
       "0  {'subset': None, 'rankby': None, 'collection':...   \n",
       "1  {'subset': None, 'rankby': None, 'collection':...   \n",
       "2  {'subset': None, 'rankby': None, 'collection':...   \n",
       "3  {'subset': None, 'rankby': None, 'collection':...   \n",
       "4  {'subset': None, 'rankby': None, 'collection':...   \n",
       "\n",
       "                   pull_time cached_images_path download_success  \n",
       "0 2017-04-10 15:24:37.098065     /path/to/image             True  \n",
       "1 2017-04-10 15:24:37.098065     /path/to/image             True  \n",
       "2 2017-04-10 15:24:37.098065     /path/to/image             True  \n",
       "3 2017-04-10 15:24:37.098065     /path/to/image             True  \n",
       "4 2017-04-10 15:24:37.098065     /path/to/image             True  \n",
       "\n",
       "[5 rows x 38 columns]"
      ]
     },
     "execution_count": 9,
     "metadata": {},
     "output_type": "execute_result"
    }
   ],
   "source": [
    "simplify_df(opi.records_db_short)"
   ]
  },
  {
   "cell_type": "markdown",
   "metadata": {},
   "source": [
    "This dataframe is provides a lot of rich data, which is valuable independent of the images which have also been downloaded. "
   ]
  },
  {
   "cell_type": "markdown",
   "metadata": {},
   "source": [
    "For instance, it is possible to quickly generate some descriptive statistics about our newly created 'lung cancer' dataset."
   ]
  },
  {
   "cell_type": "code",
   "execution_count": 10,
   "metadata": {},
   "outputs": [
    {
     "data": {
      "text/plain": [
       "count    966.000000\n",
       "mean      53.337267\n",
       "std       21.999990\n",
       "min        1.000000\n",
       "25%       47.000000\n",
       "50%       59.000000\n",
       "75%       68.000000\n",
       "max       91.400000\n",
       "Name: age, dtype: float64"
      ]
     },
     "execution_count": 10,
     "metadata": {},
     "output_type": "execute_result"
    }
   ],
   "source": [
    "pull_df['age'].describe()"
   ]
  },
  {
   "cell_type": "code",
   "execution_count": 11,
   "metadata": {},
   "outputs": [
    {
     "data": {
      "text/plain": [
       "male      0.722359\n",
       "female    0.277641\n",
       "Name: sex, dtype: float64"
      ]
     },
     "execution_count": 11,
     "metadata": {},
     "output_type": "execute_result"
    }
   ],
   "source": [
    "pull_df['sex'].value_counts(normalize=True)"
   ]
  },
  {
   "cell_type": "markdown",
   "metadata": {},
   "source": [
    "The `age` and `sex` columns are generated by analyzing the raw text provided by Open-i. It is reasonably accurate, but mistakes are certainly possible."
   ]
  },
  {
   "cell_type": "markdown",
   "metadata": {
    "collapsed": true
   },
   "source": [
    "It should also be mentioned that ``opi.records_db`` *only* contains data for the most recent ``search()`` and ``pull()``. Conversely, **``cache_records_db``** provides a more complete account of all images in the cache, e.g., those obtained several sessions ago. Additionally, unlike ``opi.records_db``, ``cache_records_db`` can contain duplicate rows. However, this is only allowed to occur if the queries that generated the rows are different."
   ]
  },
  {
   "cell_type": "markdown",
   "metadata": {
    "collapsed": true
   },
   "source": [
    "---\n",
    "\n",
    "### Images"
   ]
  },
  {
   "cell_type": "markdown",
   "metadata": {},
   "source": [
    "Now that we've explored obtaining and reviewing data, we can finally turn our attention to images themselves."
   ]
  },
  {
   "cell_type": "code",
   "execution_count": 12,
   "metadata": {
    "collapsed": true
   },
   "outputs": [],
   "source": [
    "from utils import show_image\n",
    "%matplotlib inline"
   ]
  },
  {
   "cell_type": "markdown",
   "metadata": {},
   "source": [
    "Note: ``utils`` is a small script with some helpful functions located in the base of this directory. "
   ]
  },
  {
   "cell_type": "markdown",
   "metadata": {},
   "source": [
    "Using the ``show_images`` imported above, we can now look at a random images we pulled in the step above."
   ]
  },
  {
   "cell_type": "code",
   "execution_count": 13,
   "metadata": {
    "collapsed": true
   },
   "outputs": [],
   "source": [
    "# show_image(opi.records_db['cached_images_path'].iloc[156])"
   ]
  },
  {
   "cell_type": "code",
   "execution_count": 14,
   "metadata": {},
   "outputs": [
    {
     "data": {
      "text/plain": [
       "'open-access'"
      ]
     },
     "execution_count": 14,
     "metadata": {},
     "output_type": "execute_result"
    }
   ],
   "source": [
    "opi.records_db['license_type'].iloc[156]"
   ]
  },
  {
   "cell_type": "markdown",
   "metadata": {
    "collapsed": true
   },
   "source": [
    "Let's also look at the age and sex of this subject. "
   ]
  },
  {
   "cell_type": "code",
   "execution_count": 15,
   "metadata": {},
   "outputs": [
    {
     "name": "stdout",
     "output_type": "stream",
     "text": [
      "age: 48.0, sex: male.\n"
     ]
    }
   ],
   "source": [
    "age_sex = opi.records_db['age'].iloc[156], opi.records_db['sex'].iloc[156]\n",
    "print(\"age: {0}, sex: {1}.\".format(*age_sex))"
   ]
  },
  {
   "cell_type": "markdown",
   "metadata": {},
   "source": [
    "We can also easily check their diagnosis"
   ]
  },
  {
   "cell_type": "code",
   "execution_count": 16,
   "metadata": {},
   "outputs": [
    {
     "data": {
      "text/plain": [
       "'carcinoma; neurofibromatosis'"
      ]
     },
     "execution_count": 16,
     "metadata": {},
     "output_type": "execute_result"
    }
   ],
   "source": [
    "opi.records_db['diagnosis'].iloc[156]"
   ]
  },
  {
   "cell_type": "markdown",
   "metadata": {},
   "source": [
    "Please be advised that for collections other than 'MedPix'\\*, such as PubMed, diagnosis information is obtained by analyzing the text associated with the image. ***Errors are possible***.\n",
    "\n",
    "\\*MedPix explicitly provides diagnosis information, so it can be assumed to be accurate.  "
   ]
  },
  {
   "cell_type": "markdown",
   "metadata": {},
   "source": [
    "---\n",
    "\n",
    "### Automated Cleaning of Image Data (<font color='red'>Experimental</font>)"
   ]
  },
  {
   "cell_type": "markdown",
   "metadata": {},
   "source": [
    "While the data may look OK so far, if we look more closely we will likely find several problems with the images we have downloaded."
   ]
  },
  {
   "cell_type": "code",
   "execution_count": 17,
   "metadata": {
    "collapsed": true
   },
   "outputs": [],
   "source": [
    "# show_image(opi.records_db['cached_images_path'].iloc[100])"
   ]
  },
  {
   "cell_type": "code",
   "execution_count": 18,
   "metadata": {
    "collapsed": true
   },
   "outputs": [],
   "source": [
    "# show_image(opi.records_db['cached_images_path'].iloc[10])"
   ]
  },
  {
   "cell_type": "markdown",
   "metadata": {
    "collapsed": true
   },
   "source": [
    "The images above contain several clear problems. They both contain arrows and the latter is actually a 'grid' of images. These are liable to confuse any model we attempt to train detect disease. We could manually go through and remove these images or, alternatively, we can use the *experimental* ``OpeniImageProcessing`` class to try and eliminate these images from our dataset automatically."
   ]
  },
  {
   "cell_type": "code",
   "execution_count": 19,
   "metadata": {
    "collapsed": true
   },
   "outputs": [],
   "source": [
    "from biovida.images import OpeniImageProcessing"
   ]
  },
  {
   "cell_type": "markdown",
   "metadata": {},
   "source": [
    "We initialize this class using our ``OpeniInterface`` instance.\n",
    "By default, it will extract the `records_db` DataFrame. Do note, however, that we can force it to extract the ``cache_records_db`` DataFrame by setting the ``db_to_extract`` equal to 'cache_records_db'."
   ]
  },
  {
   "cell_type": "code",
   "execution_count": 20,
   "metadata": {},
   "outputs": [],
   "source": [
    "ip = OpeniImageProcessing(opi)"
   ]
  },
  {
   "cell_type": "markdown",
   "metadata": {
    "collapsed": true
   },
   "source": [
    "``OpeniImageProcessing`` will automatically download a model for a *Convolutional Neural Network* (convnet) which has been trained to detect these kinds of problems. If you are unfamiliar with these kinds of models, you can read more about them [here](http://cs231n.github.io/convolutional-networks/)."
   ]
  },
  {
   "cell_type": "markdown",
   "metadata": {
    "collapsed": true
   },
   "source": [
    "The ``OpeniImageProcessing`` class tries to detect problems in the images by analyzing both the text associated it is associated with as well as by feeding the image through the convnet mentioned above. However, by default the ``OpeniImageProcessing`` class will only use predictions gleaned from this model if it has been explicitly trained on images from that kind of [imaging modality](https://encrypted.google.com/url?sa=t&rct=j&q=&esrc=s&source=web&cd=16&ved=0ahUKEwjd3pbG0IvTAhUn5YMKHTFMDoYQygQIaTAP&url=https%3A%2F%2Fen.wikipedia.org%2Fwiki%2FMedical_imaging%23Imaging_modalities&usg=AFQjCNHL9pIw5HQ6bjdufkm1XbclcKyRXQ&sig2=c6SL1Ev2J8wM2JlQmrmjxw)."
   ]
  },
  {
   "cell_type": "markdown",
   "metadata": {
    "collapsed": true
   },
   "source": [
    "We can easily check the modalities for which the model has been trained:"
   ]
  },
  {
   "cell_type": "code",
   "execution_count": 21,
   "metadata": {},
   "outputs": [
    {
     "data": {
      "text/plain": [
       "['ct', 'mri', 'x_ray']"
      ]
     },
     "execution_count": 21,
     "metadata": {},
     "output_type": "execute_result"
    }
   ],
   "source": [
    "ip.trained_open_i_modality_types"
   ]
  },
  {
   "cell_type": "markdown",
   "metadata": {
    "collapsed": true
   },
   "source": [
    "Luckily, we're working with X-rays and CTs. <br>"
   ]
  },
  {
   "cell_type": "markdown",
   "metadata": {
    "collapsed": true
   },
   "source": [
    "Now we're ready to analyze our images."
   ]
  },
  {
   "cell_type": "code",
   "execution_count": 22,
   "metadata": {},
   "outputs": [
    {
     "data": {
      "application/vnd.jupyter.widget-view+json": {
       "model_id": "268ffb56017a45a0b2d82483c017b412"
      }
     },
     "metadata": {},
     "output_type": "display_data"
    },
    {
     "name": "stdout",
     "output_type": "stream",
     "text": [
      "\n"
     ]
    },
    {
     "data": {
      "application/vnd.jupyter.widget-view+json": {
       "model_id": "4c05dd02c6864323aa95cbe594080926"
      }
     },
     "metadata": {},
     "output_type": "display_data"
    },
    {
     "name": "stdout",
     "output_type": "stream",
     "text": [
      "\n"
     ]
    },
    {
     "data": {
      "application/vnd.jupyter.widget-view+json": {
       "model_id": "359910e2cb2045c69bae6b79b1ccfc3d"
      }
     },
     "metadata": {},
     "output_type": "display_data"
    },
    {
     "name": "stdout",
     "output_type": "stream",
     "text": [
      "\n"
     ]
    },
    {
     "data": {
      "application/vnd.jupyter.widget-view+json": {
       "model_id": "67284b4fa1e3487b8feb0fa0d74ac588"
      }
     },
     "metadata": {},
     "output_type": "display_data"
    },
    {
     "name": "stdout",
     "output_type": "stream",
     "text": [
      "\n"
     ]
    },
    {
     "data": {
      "application/vnd.jupyter.widget-view+json": {
       "model_id": "fb9068af682e48e187365f11c5e1a2b8"
      }
     },
     "metadata": {},
     "output_type": "display_data"
    },
    {
     "name": "stdout",
     "output_type": "stream",
     "text": [
      "\n"
     ]
    },
    {
     "data": {
      "application/vnd.jupyter.widget-view+json": {
       "model_id": "786bbc5817b845dd9d2503eae293416e"
      }
     },
     "metadata": {},
     "output_type": "display_data"
    },
    {
     "name": "stdout",
     "output_type": "stream",
     "text": [
      "\n"
     ]
    }
   ],
   "source": [
    "analysis_df = ip.auto()"
   ]
  },
  {
   "cell_type": "code",
   "execution_count": 23,
   "metadata": {},
   "outputs": [
    {
     "data": {
      "text/html": [
       "<div>\n",
       "<table border=\"1\" class=\"dataframe\">\n",
       "  <thead>\n",
       "    <tr style=\"text-align: right;\">\n",
       "      <th></th>\n",
       "      <th>mesh_major</th>\n",
       "      <th>mesh_minor</th>\n",
       "      <th>problems</th>\n",
       "      <th>abstract</th>\n",
       "      <th>affiliate</th>\n",
       "      <th>article_type</th>\n",
       "      <th>authors</th>\n",
       "      <th>cc_license</th>\n",
       "      <th>detailed_query_url</th>\n",
       "      <th>doc_source</th>\n",
       "      <th>...</th>\n",
       "      <th>grayscale</th>\n",
       "      <th>medpix_logo_bounding_box</th>\n",
       "      <th>hbar</th>\n",
       "      <th>hborder</th>\n",
       "      <th>vborder</th>\n",
       "      <th>upper_crop</th>\n",
       "      <th>lower_crop</th>\n",
       "      <th>visual_image_problems</th>\n",
       "      <th>invalid_image</th>\n",
       "      <th>invalid_image_reasons</th>\n",
       "    </tr>\n",
       "  </thead>\n",
       "  <tbody>\n",
       "    <tr>\n",
       "      <th>0</th>\n",
       "      <td></td>\n",
       "      <td></td>\n",
       "      <td>lung cancer</td>\n",
       "      <td>Lung cancer is one of the leading causes of ca...</td>\n",
       "      <td>Department of Nuclear Medicine and Molecular I...</td>\n",
       "      <td>other</td>\n",
       "      <td>Purandare NC, Rangarajan V</td>\n",
       "      <td>byncsa</td>\n",
       "      <td>https://openi.nlm.nih.gov/retrieve.php?img=PMC...</td>\n",
       "      <td>PMC</td>\n",
       "      <td>...</td>\n",
       "      <td>False</td>\n",
       "      <td></td>\n",
       "      <td></td>\n",
       "      <td></td>\n",
       "      <td></td>\n",
       "      <td></td>\n",
       "      <td></td>\n",
       "      <td>[(grids, 0.864566), (arrows, 0.00571598), (tex...</td>\n",
       "      <td>True</td>\n",
       "      <td>(grayscale, image_problems_from_text, visual_i...</td>\n",
       "    </tr>\n",
       "    <tr>\n",
       "      <th>1</th>\n",
       "      <td></td>\n",
       "      <td></td>\n",
       "      <td>nsclc</td>\n",
       "      <td>Non-small cell lung cancer (NSCLC) accounts fo...</td>\n",
       "      <td>Cardiopulmonary Department, Sant'Andrea Hospit...</td>\n",
       "      <td>research_article</td>\n",
       "      <td>Pezzuto A, Piraino A, Mariotta S</td>\n",
       "      <td>by</td>\n",
       "      <td>https://openi.nlm.nih.gov/retrieve.php?img=PMC...</td>\n",
       "      <td>PMC</td>\n",
       "      <td>...</td>\n",
       "      <td>True</td>\n",
       "      <td></td>\n",
       "      <td></td>\n",
       "      <td></td>\n",
       "      <td></td>\n",
       "      <td></td>\n",
       "      <td></td>\n",
       "      <td>[(valid_image, 0.858156), (text, 0.100862), (a...</td>\n",
       "      <td>False</td>\n",
       "      <td></td>\n",
       "    </tr>\n",
       "    <tr>\n",
       "      <th>2</th>\n",
       "      <td>(Adrenal Insufficiency/diagnosis*/drug therapy...</td>\n",
       "      <td>(Acute Disease, Adrenal Cortex Hormones/therap...</td>\n",
       "      <td>hypoxia; tachycardia</td>\n",
       "      <td>Background: Adrenal crisis after surgical pro...</td>\n",
       "      <td>Department of Orthopedic Surgery, Osaka Medica...</td>\n",
       "      <td>research_article</td>\n",
       "      <td>Naka N, Takenaka S, Nanno K, Moriguchi Y, Chun...</td>\n",
       "      <td>by</td>\n",
       "      <td>https://openi.nlm.nih.gov/retrieve.php?img=PMC...</td>\n",
       "      <td>PMC</td>\n",
       "      <td>...</td>\n",
       "      <td>True</td>\n",
       "      <td></td>\n",
       "      <td>327</td>\n",
       "      <td></td>\n",
       "      <td></td>\n",
       "      <td></td>\n",
       "      <td>327</td>\n",
       "      <td>[(valid_image, 0.914723), (arrows, 0.0369132),...</td>\n",
       "      <td>True</td>\n",
       "      <td>(image_problems_from_text,)</td>\n",
       "    </tr>\n",
       "    <tr>\n",
       "      <th>3</th>\n",
       "      <td></td>\n",
       "      <td></td>\n",
       "      <td>small cell carcinoma of lung</td>\n",
       "      <td>Subcutaneous swelling as first clinical presen...</td>\n",
       "      <td>Department of Medicine.</td>\n",
       "      <td>case_report</td>\n",
       "      <td>Kumar S, Gupta A, Diwan SK, Bhake A</td>\n",
       "      <td></td>\n",
       "      <td>https://openi.nlm.nih.gov/retrieve.php?img=PMC...</td>\n",
       "      <td>PMC</td>\n",
       "      <td>...</td>\n",
       "      <td>False</td>\n",
       "      <td></td>\n",
       "      <td>348</td>\n",
       "      <td>(4, 351)</td>\n",
       "      <td>(191, 491)</td>\n",
       "      <td>4</td>\n",
       "      <td>348</td>\n",
       "      <td>[(arrows, 0.998476), (grids, 0.000149499), (va...</td>\n",
       "      <td>True</td>\n",
       "      <td>(grayscale, visual_image_problems)</td>\n",
       "    </tr>\n",
       "    <tr>\n",
       "      <th>4</th>\n",
       "      <td>(Echocardiography/methods*, Lung/ultrasonograp...</td>\n",
       "      <td>(Aged, Humans, Incidental Findings, Male)</td>\n",
       "      <td>lung tumor</td>\n",
       "      <td>We present images of a rare case where a prima...</td>\n",
       "      <td>Department of Clinical Physiology and Nuclear ...</td>\n",
       "      <td>research_article</td>\n",
       "      <td>Dencker M, Cronberg C, Damm S, Valind S, Wadbo M</td>\n",
       "      <td>by</td>\n",
       "      <td>https://openi.nlm.nih.gov/retrieve.php?img=PMC...</td>\n",
       "      <td>PMC</td>\n",
       "      <td>...</td>\n",
       "      <td>False</td>\n",
       "      <td></td>\n",
       "      <td>294</td>\n",
       "      <td></td>\n",
       "      <td>(96, 487)</td>\n",
       "      <td></td>\n",
       "      <td>294</td>\n",
       "      <td>[(grids, 0.993127), (arrows, 8.44916e-06), (va...</td>\n",
       "      <td>True</td>\n",
       "      <td>(grayscale, image_problems_from_text, visual_i...</td>\n",
       "    </tr>\n",
       "  </tbody>\n",
       "</table>\n",
       "<p>5 rows × 65 columns</p>\n",
       "</div>"
      ],
      "text/plain": [
       "                                          mesh_major  \\\n",
       "0                                                      \n",
       "1                                                      \n",
       "2  (Adrenal Insufficiency/diagnosis*/drug therapy...   \n",
       "3                                                      \n",
       "4  (Echocardiography/methods*, Lung/ultrasonograp...   \n",
       "\n",
       "                                          mesh_minor  \\\n",
       "0                                                      \n",
       "1                                                      \n",
       "2  (Acute Disease, Adrenal Cortex Hormones/therap...   \n",
       "3                                                      \n",
       "4          (Aged, Humans, Incidental Findings, Male)   \n",
       "\n",
       "                       problems  \\\n",
       "0                   lung cancer   \n",
       "1                         nsclc   \n",
       "2          hypoxia; tachycardia   \n",
       "3  small cell carcinoma of lung   \n",
       "4                    lung tumor   \n",
       "\n",
       "                                            abstract  \\\n",
       "0  Lung cancer is one of the leading causes of ca...   \n",
       "1  Non-small cell lung cancer (NSCLC) accounts fo...   \n",
       "2   Background: Adrenal crisis after surgical pro...   \n",
       "3  Subcutaneous swelling as first clinical presen...   \n",
       "4  We present images of a rare case where a prima...   \n",
       "\n",
       "                                           affiliate      article_type  \\\n",
       "0  Department of Nuclear Medicine and Molecular I...             other   \n",
       "1  Cardiopulmonary Department, Sant'Andrea Hospit...  research_article   \n",
       "2  Department of Orthopedic Surgery, Osaka Medica...  research_article   \n",
       "3                            Department of Medicine.       case_report   \n",
       "4  Department of Clinical Physiology and Nuclear ...  research_article   \n",
       "\n",
       "                                             authors cc_license  \\\n",
       "0                         Purandare NC, Rangarajan V     byncsa   \n",
       "1                   Pezzuto A, Piraino A, Mariotta S         by   \n",
       "2  Naka N, Takenaka S, Nanno K, Moriguchi Y, Chun...         by   \n",
       "3                Kumar S, Gupta A, Diwan SK, Bhake A              \n",
       "4   Dencker M, Cronberg C, Damm S, Valind S, Wadbo M         by   \n",
       "\n",
       "                                  detailed_query_url doc_source  \\\n",
       "0  https://openi.nlm.nih.gov/retrieve.php?img=PMC...        PMC   \n",
       "1  https://openi.nlm.nih.gov/retrieve.php?img=PMC...        PMC   \n",
       "2  https://openi.nlm.nih.gov/retrieve.php?img=PMC...        PMC   \n",
       "3  https://openi.nlm.nih.gov/retrieve.php?img=PMC...        PMC   \n",
       "4  https://openi.nlm.nih.gov/retrieve.php?img=PMC...        PMC   \n",
       "\n",
       "                         ...                         grayscale  \\\n",
       "0                        ...                             False   \n",
       "1                        ...                              True   \n",
       "2                        ...                              True   \n",
       "3                        ...                             False   \n",
       "4                        ...                             False   \n",
       "\n",
       "  medpix_logo_bounding_box hbar   hborder     vborder upper_crop lower_crop  \\\n",
       "0                                                                             \n",
       "1                                                                             \n",
       "2                           327                                         327   \n",
       "3                           348  (4, 351)  (191, 491)          4        348   \n",
       "4                           294             (96, 487)                   294   \n",
       "\n",
       "                               visual_image_problems invalid_image  \\\n",
       "0  [(grids, 0.864566), (arrows, 0.00571598), (tex...          True   \n",
       "1  [(valid_image, 0.858156), (text, 0.100862), (a...         False   \n",
       "2  [(valid_image, 0.914723), (arrows, 0.0369132),...          True   \n",
       "3  [(arrows, 0.998476), (grids, 0.000149499), (va...          True   \n",
       "4  [(grids, 0.993127), (arrows, 8.44916e-06), (va...          True   \n",
       "\n",
       "                               invalid_image_reasons  \n",
       "0  (grayscale, image_problems_from_text, visual_i...  \n",
       "1                                                     \n",
       "2                        (image_problems_from_text,)  \n",
       "3                 (grayscale, visual_image_problems)  \n",
       "4  (grayscale, image_problems_from_text, visual_i...  \n",
       "\n",
       "[5 rows x 65 columns]"
      ]
     },
     "execution_count": 23,
     "metadata": {},
     "output_type": "execute_result"
    }
   ],
   "source": [
    "simplify_df(analysis_df)"
   ]
  },
  {
   "cell_type": "markdown",
   "metadata": {},
   "source": [
    "This will generate several new columns:\n",
    "\n",
    "\n",
    "- **'grayscale'**: this is simply an account of whether or not the images is grayscale.\n",
    "- **'medpix_logo_bounding_box'**: images from the MedPix collection, typically contain the organization's logo in the top right corner. Had we passed the class images from MedPix, it would have tried to 'draw' a bounding box around its precise location (enabling it to be cropped out of the image).\n",
    "- **'hbar'**: this denotes a 'horizontal bar' that is sometimes found at the bottom of images. If present, this column reports its height in pixels.\n",
    "- **'hborder'**: this column provides an account of 'horizontal borders' on either side of the image.\n",
    "- **'vborder'**: this column provides an account of 'vertical borders' on the top and bottom of the image.\n",
    "- **'upper crop'**: this is the location that has been selected to crop the top of the image. This decision is made by considering the *'medpix_logo_bounding_box'* and *'vborder'* columns.\n",
    "- **'lower crop'**: this is the location that has been selected to crop the bottom of the image. This decision is made by considering the *'hbar'* and *'hborder'* columns.\n",
    "- **'visual_image_problems'**: this column contains the output of the convnet model, with the numbers following the words representing the probability that the image belongs to that category.\n",
    "- **'invalid_image'**: this is a decision as to whether or not the image is invalid, e.g., has an arrow. This decision is made using the 'grayscale' and *'visual_image_problems'* columns as well as the text associated with the image (*'image_problems_from_text'*)\n",
    "- **'invalid_image_reasons'**: in cases where the *'invalid_image'* column is ``True``, column provides an account as to why a decision was made.\n",
    "\n",
    "\n"
   ]
  },
  {
   "cell_type": "markdown",
   "metadata": {},
   "source": [
    "We can use this analysis to construct a new dataframe, with **'invalid_images'** removed and the remaining images cropped in such a way that problematic features are removed."
   ]
  },
  {
   "cell_type": "code",
   "execution_count": 24,
   "metadata": {},
   "outputs": [
    {
     "data": {
      "application/vnd.jupyter.widget-view+json": {
       "model_id": "74661fd050ac4f1db84d28d7558fdd8e"
      }
     },
     "metadata": {},
     "output_type": "display_data"
    },
    {
     "name": "stdout",
     "output_type": "stream",
     "text": [
      "\n"
     ]
    }
   ],
   "source": [
    "ip.clean_image_dataframe()"
   ]
  },
  {
   "cell_type": "markdown",
   "metadata": {},
   "source": [
    "This 'cleaned' set, *should* have fewer instances of problematic images."
   ]
  },
  {
   "cell_type": "markdown",
   "metadata": {},
   "source": [
    "Here's a random image from this new set:"
   ]
  },
  {
   "cell_type": "code",
   "execution_count": 25,
   "metadata": {
    "collapsed": true
   },
   "outputs": [],
   "source": [
    "# show_image(ip.image_dataframe_cleaned['cleaned_image'].iloc[180])"
   ]
  },
  {
   "cell_type": "markdown",
   "metadata": {},
   "source": [
    "With time, the machinery used to detect these kinds of problems, particularly the convolutional neural network, will be improved. However, at the current time, **this class is still considered to be very experimental**."
   ]
  },
  {
   "cell_type": "markdown",
   "metadata": {},
   "source": [
    "---\n",
    "### Train, Validation and Test"
   ]
  },
  {
   "cell_type": "markdown",
   "metadata": {
    "collapsed": true
   },
   "source": [
    "Now that we've explored data harvesting, we can turn our attention to the final step before modeling: dividing data into training, validation and/or tests sets."
   ]
  },
  {
   "cell_type": "markdown",
   "metadata": {},
   "source": [
    "Let's use images from the *Indiana University Chest X-Ray* collection\\* ('indiana_u_xray'). This set of images has been assembled 'by hand', and thus does not require complicated image cleaning procedures.\n",
    "<br>\n",
    "\\*[License](https://creativecommons.org/licenses/by-nc-nd/3.0/); images have not been modified."
   ]
  },
  {
   "cell_type": "code",
   "execution_count": 26,
   "metadata": {},
   "outputs": [
    {
     "name": "stdout",
     "output_type": "stream",
     "text": [
      "\n",
      "Results Found: 7,470.\n"
     ]
    }
   ],
   "source": [
    "opi.search(collection='indiana_u_xray')"
   ]
  },
  {
   "cell_type": "markdown",
   "metadata": {},
   "source": [
    "Let's go ahead and download this entire collection. <br>\n",
    "Please be advised that this will take some time, so feel free to adjust ``download_limit`` to suit your needs."
   ]
  },
  {
   "cell_type": "code",
   "execution_count": 27,
   "metadata": {},
   "outputs": [
    {
     "name": "stdout",
     "output_type": "stream",
     "text": [
      "\n",
      "Number of Records to Download: 7,470 (chunk size: 30 records).\n"
     ]
    },
    {
     "data": {
      "application/vnd.jupyter.widget-view+json": {
       "model_id": "9c6fe9a9a0444a1ca0e2d2700a8c9f16"
      }
     },
     "metadata": {},
     "output_type": "display_data"
    },
    {
     "name": "stdout",
     "output_type": "stream",
     "text": [
      "\n"
     ]
    },
    {
     "data": {
      "application/vnd.jupyter.widget-view+json": {
       "model_id": "9c25e187e6e14e19bde36c88eac4c415"
      }
     },
     "metadata": {},
     "output_type": "display_data"
    },
    {
     "name": "stdout",
     "output_type": "stream",
     "text": [
      "\n"
     ]
    },
    {
     "data": {
      "application/vnd.jupyter.widget-view+json": {
       "model_id": "6950dcfb459e473eba677fdf34ef4aed"
      }
     },
     "metadata": {},
     "output_type": "display_data"
    },
    {
     "name": "stdout",
     "output_type": "stream",
     "text": [
      "\n"
     ]
    }
   ],
   "source": [
    "pull_df2 = opi.pull(download_limit=None)"
   ]
  },
  {
   "cell_type": "markdown",
   "metadata": {},
   "source": [
    "Let's quickly inspect this newly downloaded data."
   ]
  },
  {
   "cell_type": "code",
   "execution_count": 28,
   "metadata": {},
   "outputs": [
    {
     "data": {
      "text/html": [
       "<div>\n",
       "<table border=\"1\" class=\"dataframe\">\n",
       "  <thead>\n",
       "    <tr style=\"text-align: right;\">\n",
       "      <th></th>\n",
       "      <th>mesh_major</th>\n",
       "      <th>mesh_minor</th>\n",
       "      <th>problems</th>\n",
       "      <th>abstract</th>\n",
       "      <th>affiliate</th>\n",
       "      <th>article_type</th>\n",
       "      <th>authors</th>\n",
       "      <th>cc_license</th>\n",
       "      <th>doc_source</th>\n",
       "      <th>image_caption</th>\n",
       "      <th>...</th>\n",
       "      <th>image_problems_from_text</th>\n",
       "      <th>imaging_modality_from_text</th>\n",
       "      <th>parsed_abstract</th>\n",
       "      <th>sex</th>\n",
       "      <th>modality_full</th>\n",
       "      <th>image_id_short</th>\n",
       "      <th>query</th>\n",
       "      <th>pull_time</th>\n",
       "      <th>cached_images_path</th>\n",
       "      <th>download_success</th>\n",
       "    </tr>\n",
       "  </thead>\n",
       "  <tbody>\n",
       "    <tr>\n",
       "      <th>0</th>\n",
       "      <td>(Calcified Granuloma/lung/upper lobe/right,)</td>\n",
       "      <td></td>\n",
       "      <td>calcified granuloma</td>\n",
       "      <td>Comparison: Chest radiographs XXXX. Indicatio...</td>\n",
       "      <td>Indiana University</td>\n",
       "      <td>radiology_report</td>\n",
       "      <td>Kohli MD, Rosenman M</td>\n",
       "      <td>byncnd</td>\n",
       "      <td>CXR</td>\n",
       "      <td>PA and lateral chest x-XXXX XXXX.</td>\n",
       "      <td>...</td>\n",
       "      <td></td>\n",
       "      <td>Computed Tomography (CT): chest</td>\n",
       "      <td>{'impression': 'No acute cardiopulmonary proce...</td>\n",
       "      <td>male</td>\n",
       "      <td>X-Ray</td>\n",
       "      <td>1</td>\n",
       "      <td>{'subset': None, 'rankby': None, 'collection':...</td>\n",
       "      <td>2017-04-10 15:30:34.796070</td>\n",
       "      <td>/path/to/image</td>\n",
       "      <td>True</td>\n",
       "    </tr>\n",
       "    <tr>\n",
       "      <th>1</th>\n",
       "      <td>(Calcified Granuloma/lung/upper lobe/right,)</td>\n",
       "      <td></td>\n",
       "      <td>calcified granuloma</td>\n",
       "      <td>Comparison: Chest radiographs XXXX. Indicatio...</td>\n",
       "      <td>Indiana University</td>\n",
       "      <td>radiology_report</td>\n",
       "      <td>Kohli MD, Rosenman M</td>\n",
       "      <td>byncnd</td>\n",
       "      <td>CXR</td>\n",
       "      <td>PA and lateral chest x-XXXX XXXX.</td>\n",
       "      <td>...</td>\n",
       "      <td></td>\n",
       "      <td>Computed Tomography (CT): chest</td>\n",
       "      <td>{'impression': 'No acute cardiopulmonary proce...</td>\n",
       "      <td>male</td>\n",
       "      <td>X-Ray</td>\n",
       "      <td>2</td>\n",
       "      <td>{'subset': None, 'rankby': None, 'collection':...</td>\n",
       "      <td>2017-04-10 15:30:34.796070</td>\n",
       "      <td>/path/to/image</td>\n",
       "      <td>True</td>\n",
       "    </tr>\n",
       "    <tr>\n",
       "      <th>2</th>\n",
       "      <td>(normal,)</td>\n",
       "      <td></td>\n",
       "      <td>normal</td>\n",
       "      <td>Comparison: None. Indication: Positive TB tes...</td>\n",
       "      <td>Indiana University</td>\n",
       "      <td>radiology_report</td>\n",
       "      <td>Kohli MD, Rosenman M</td>\n",
       "      <td>byncnd</td>\n",
       "      <td>CXR</td>\n",
       "      <td>Xray Chest PA and Lateral</td>\n",
       "      <td>...</td>\n",
       "      <td></td>\n",
       "      <td>Computed Tomography (CT): chest</td>\n",
       "      <td>{'impression': 'Normal chest x-XXXX.', 'compar...</td>\n",
       "      <td></td>\n",
       "      <td>X-Ray</td>\n",
       "      <td>1</td>\n",
       "      <td>{'subset': None, 'rankby': None, 'collection':...</td>\n",
       "      <td>2017-04-10 15:30:34.796070</td>\n",
       "      <td>/path/to/image</td>\n",
       "      <td>True</td>\n",
       "    </tr>\n",
       "    <tr>\n",
       "      <th>3</th>\n",
       "      <td>(normal,)</td>\n",
       "      <td></td>\n",
       "      <td>normal</td>\n",
       "      <td>Comparison: None. Indication: Positive TB tes...</td>\n",
       "      <td>Indiana University</td>\n",
       "      <td>radiology_report</td>\n",
       "      <td>Kohli MD, Rosenman M</td>\n",
       "      <td>byncnd</td>\n",
       "      <td>CXR</td>\n",
       "      <td>Xray Chest PA and Lateral</td>\n",
       "      <td>...</td>\n",
       "      <td></td>\n",
       "      <td>Computed Tomography (CT): chest</td>\n",
       "      <td>{'impression': 'Normal chest x-XXXX.', 'compar...</td>\n",
       "      <td></td>\n",
       "      <td>X-Ray</td>\n",
       "      <td>2</td>\n",
       "      <td>{'subset': None, 'rankby': None, 'collection':...</td>\n",
       "      <td>2017-04-10 15:30:34.796070</td>\n",
       "      <td>/path/to/image</td>\n",
       "      <td>True</td>\n",
       "    </tr>\n",
       "    <tr>\n",
       "      <th>4</th>\n",
       "      <td>(Markings/lung/bilateral/interstitial/diffuse/...</td>\n",
       "      <td></td>\n",
       "      <td>markings; fibrosis</td>\n",
       "      <td>Comparison: None. Indication: dyspnea, subjec...</td>\n",
       "      <td>Indiana University</td>\n",
       "      <td>radiology_report</td>\n",
       "      <td>Kohli MD, Rosenman M</td>\n",
       "      <td>byncnd</td>\n",
       "      <td>CXR</td>\n",
       "      <td>CHEST 2V FRONTAL/LATERAL XXXX, XXXX XXXX PM</td>\n",
       "      <td>...</td>\n",
       "      <td></td>\n",
       "      <td>Computed Tomography (CT): chest</td>\n",
       "      <td>{'impression': 'Diffuse fibrosis. No visible f...</td>\n",
       "      <td></td>\n",
       "      <td>X-Ray</td>\n",
       "      <td>1</td>\n",
       "      <td>{'subset': None, 'rankby': None, 'collection':...</td>\n",
       "      <td>2017-04-10 15:30:34.796070</td>\n",
       "      <td>/path/to/image</td>\n",
       "      <td>True</td>\n",
       "    </tr>\n",
       "  </tbody>\n",
       "</table>\n",
       "<p>5 rows × 37 columns</p>\n",
       "</div>"
      ],
      "text/plain": [
       "                                          mesh_major mesh_minor  \\\n",
       "0       (Calcified Granuloma/lung/upper lobe/right,)              \n",
       "1       (Calcified Granuloma/lung/upper lobe/right,)              \n",
       "2                                          (normal,)              \n",
       "3                                          (normal,)              \n",
       "4  (Markings/lung/bilateral/interstitial/diffuse/...              \n",
       "\n",
       "              problems                                           abstract  \\\n",
       "0  calcified granuloma   Comparison: Chest radiographs XXXX. Indicatio...   \n",
       "1  calcified granuloma   Comparison: Chest radiographs XXXX. Indicatio...   \n",
       "2               normal   Comparison: None. Indication: Positive TB tes...   \n",
       "3               normal   Comparison: None. Indication: Positive TB tes...   \n",
       "4   markings; fibrosis   Comparison: None. Indication: dyspnea, subjec...   \n",
       "\n",
       "            affiliate      article_type               authors cc_license  \\\n",
       "0  Indiana University  radiology_report  Kohli MD, Rosenman M     byncnd   \n",
       "1  Indiana University  radiology_report  Kohli MD, Rosenman M     byncnd   \n",
       "2  Indiana University  radiology_report  Kohli MD, Rosenman M     byncnd   \n",
       "3  Indiana University  radiology_report  Kohli MD, Rosenman M     byncnd   \n",
       "4  Indiana University  radiology_report  Kohli MD, Rosenman M     byncnd   \n",
       "\n",
       "  doc_source                                image_caption       ...         \\\n",
       "0        CXR            PA and lateral chest x-XXXX XXXX.       ...          \n",
       "1        CXR            PA and lateral chest x-XXXX XXXX.       ...          \n",
       "2        CXR                    Xray Chest PA and Lateral       ...          \n",
       "3        CXR                    Xray Chest PA and Lateral       ...          \n",
       "4        CXR  CHEST 2V FRONTAL/LATERAL XXXX, XXXX XXXX PM       ...          \n",
       "\n",
       "  image_problems_from_text       imaging_modality_from_text  \\\n",
       "0                           Computed Tomography (CT): chest   \n",
       "1                           Computed Tomography (CT): chest   \n",
       "2                           Computed Tomography (CT): chest   \n",
       "3                           Computed Tomography (CT): chest   \n",
       "4                           Computed Tomography (CT): chest   \n",
       "\n",
       "                                     parsed_abstract   sex modality_full  \\\n",
       "0  {'impression': 'No acute cardiopulmonary proce...  male         X-Ray   \n",
       "1  {'impression': 'No acute cardiopulmonary proce...  male         X-Ray   \n",
       "2  {'impression': 'Normal chest x-XXXX.', 'compar...               X-Ray   \n",
       "3  {'impression': 'Normal chest x-XXXX.', 'compar...               X-Ray   \n",
       "4  {'impression': 'Diffuse fibrosis. No visible f...               X-Ray   \n",
       "\n",
       "  image_id_short                                              query  \\\n",
       "0              1  {'subset': None, 'rankby': None, 'collection':...   \n",
       "1              2  {'subset': None, 'rankby': None, 'collection':...   \n",
       "2              1  {'subset': None, 'rankby': None, 'collection':...   \n",
       "3              2  {'subset': None, 'rankby': None, 'collection':...   \n",
       "4              1  {'subset': None, 'rankby': None, 'collection':...   \n",
       "\n",
       "                   pull_time cached_images_path download_success  \n",
       "0 2017-04-10 15:30:34.796070     /path/to/image             True  \n",
       "1 2017-04-10 15:30:34.796070     /path/to/image             True  \n",
       "2 2017-04-10 15:30:34.796070     /path/to/image             True  \n",
       "3 2017-04-10 15:30:34.796070     /path/to/image             True  \n",
       "4 2017-04-10 15:30:34.796070     /path/to/image             True  \n",
       "\n",
       "[5 rows x 37 columns]"
      ]
     },
     "execution_count": 28,
     "metadata": {},
     "output_type": "execute_result"
    }
   ],
   "source": [
    "simplify_df(opi.records_db_short)"
   ]
  },
  {
   "cell_type": "markdown",
   "metadata": {},
   "source": [
    "We can easily select a subset of these ~7000 images and divide them into training and test sets for some machine learning model using the ``image_divvy()`` tool."
   ]
  },
  {
   "cell_type": "code",
   "execution_count": 29,
   "metadata": {
    "collapsed": true
   },
   "outputs": [],
   "source": [
    "from biovida.images import image_divvy"
   ]
  },
  {
   "cell_type": "markdown",
   "metadata": {},
   "source": [
    "Let's imagine we're interested in building a model capable of distinguishing between 'normal' chest x-rays and those with signs of problematic caclium deposits, a disease formally known as 'calcinosis'."
   ]
  },
  {
   "cell_type": "markdown",
   "metadata": {},
   "source": [
    "We can define a rule to construct such a training and test set using a 'divvy_rule'.\n",
    "This rule will tell ``image_divvy()`` how to 'divvy up' the images in the cache. More specifically, our rule will tell this ``image_divvy()`` how to categorize images in the cache."
   ]
  },
  {
   "cell_type": "code",
   "execution_count": 30,
   "metadata": {
    "collapsed": true
   },
   "outputs": [],
   "source": [
    "def my_divvy_rule(row):\n",
    "    if isinstance(row['diagnosis'], str):\n",
    "        if 'normal' in row['diagnosis']:\n",
    "            return 'normal'  # though this could be anything, e.g., 'super cool normal images'.\n",
    "        elif 'calcinosis' in row['diagnosis']:\n",
    "            return 'calcinosis'"
   ]
  },
  {
   "cell_type": "markdown",
   "metadata": {},
   "source": [
    "Now that ``image_divvy()`` knows how we would like it to categorize the data we've downloaded, we can also pass it a dictionary specifying how to 'split' the data into training and testing sets. In this example, we'll use a standard 80% train, 20% test split and ask the function returns numpy arrays (``ndarrays``) as output."
   ]
  },
  {
   "cell_type": "code",
   "execution_count": 31,
   "metadata": {},
   "outputs": [
    {
     "data": {
      "application/vnd.jupyter.widget-view+json": {
       "model_id": "7175a8eb769d49ffb1c902d88d551bfc"
      }
     },
     "metadata": {},
     "output_type": "display_data"
    },
    {
     "name": "stdout",
     "output_type": "stream",
     "text": [
      "\n"
     ]
    },
    {
     "data": {
      "application/vnd.jupyter.widget-view+json": {
       "model_id": "c73b1f79283647ffb8859fc2b3b338a6"
      }
     },
     "metadata": {},
     "output_type": "display_data"
    },
    {
     "name": "stdout",
     "output_type": "stream",
     "text": [
      "\n",
      "\n",
      "Structure:\n",
      "\n",
      "- 'train':\n",
      "  - 'calcinosis'\n",
      "  - 'normal'\n",
      "- 'test':\n",
      "  - 'calcinosis'\n",
      "  - 'normal'\n"
     ]
    }
   ],
   "source": [
    "train_test = image_divvy(instance=opi,\n",
    "                         divvy_rule=my_divvy_rule,\n",
    "                         db_to_extract='records_db',\n",
    "                         action='ndarray',\n",
    "                         train_val_test_dict={'train': 0.8, 'test': 0.2})"
   ]
  },
  {
   "cell_type": "markdown",
   "metadata": {},
   "source": [
    "Before signing off, ``image_divvy()`` printed the structure of the nested dictionary it returned. <br>\n",
    "We can use this information to unpack the ``arrays`` nested within this data structure:"
   ]
  },
  {
   "cell_type": "code",
   "execution_count": 32,
   "metadata": {
    "collapsed": true
   },
   "outputs": [],
   "source": [
    "train_ca, test_ca = train_test['train']['calcinosis'], train_test['test']['calcinosis']\n",
    "train_norm, test_norm = train_test['train']['normal'], train_test['test']['normal']"
   ]
  },
  {
   "cell_type": "markdown",
   "metadata": {},
   "source": [
    "Now that our data has been neatly unpacked, we can look at the number of samples the procedure generated."
   ]
  },
  {
   "cell_type": "code",
   "execution_count": 33,
   "metadata": {},
   "outputs": [
    {
     "name": "stdout",
     "output_type": "stream",
     "text": [
      "Train: 2156 | Test: 540\n"
     ]
    }
   ],
   "source": [
    "# Normal\n",
    "print(\"Train:\", len(train_norm), \"|\", \"Test:\", len(test_norm))"
   ]
  },
  {
   "cell_type": "code",
   "execution_count": 34,
   "metadata": {},
   "outputs": [
    {
     "name": "stdout",
     "output_type": "stream",
     "text": [
      "Train: 446 | Test: 112\n"
     ]
    }
   ],
   "source": [
    "# Calcinosis\n",
    "print(\"Train:\", len(train_ca), \"|\", \"Test:\", len(test_ca))"
   ]
  },
  {
   "cell_type": "markdown",
   "metadata": {},
   "source": [
    "Using the ``show_image()`` tool we imported above, we can take a quick at an image from each category."
   ]
  },
  {
   "cell_type": "code",
   "execution_count": 35,
   "metadata": {
    "collapsed": true
   },
   "outputs": [],
   "source": [
    "# Normal\n",
    "# show_image(train_norm[99])"
   ]
  },
  {
   "cell_type": "code",
   "execution_count": 36,
   "metadata": {
    "collapsed": true
   },
   "outputs": [],
   "source": [
    "# Calcinosis\n",
    "# show_image(train_ca[104])"
   ]
  },
  {
   "cell_type": "markdown",
   "metadata": {
    "collapsed": true
   },
   "source": [
    "---\n",
    "\n",
    "## Conclusion"
   ]
  },
  {
   "cell_type": "markdown",
   "metadata": {},
   "source": [
    "Here we've explored how ``BioVida`` can be used to easily obtain and process data from the Open-i database. <br>\n",
    "\n",
    "In the next tutorial, we'll see how ``BioVida`` can be used to gain access to a database with orders of magnitude more images.\n",
    "\n"
   ]
  },
  {
   "cell_type": "markdown",
   "metadata": {},
   "source": [
    "---"
   ]
  }
 ],
 "metadata": {
  "kernelspec": {
   "display_name": "Python 3",
   "language": "python",
   "name": "python3"
  },
  "language_info": {
   "codemirror_mode": {
    "name": "ipython",
    "version": 3
   },
   "file_extension": ".py",
   "mimetype": "text/x-python",
   "name": "python",
   "nbconvert_exporter": "python",
   "pygments_lexer": "ipython3",
   "version": "3.5.2"
  },
  "widgets": {
   "application/vnd.jupyter.widget-state+json": {
    "state": {
     "02f0d085c14f4aafbb8f43b19729e3ec": {
      "model_module": "jupyter-js-widgets",
      "model_module_version": "~2.1.4",
      "model_name": "ProgressStyleModel",
      "state": {
       "_model_module_version": "~2.1.4",
       "_view_module_version": "~2.1.4"
      }
     },
     "0400406a0d2348cabc0571fa92ea35c7": {
      "model_module": "jupyter-js-widgets",
      "model_module_version": "~2.1.4",
      "model_name": "ProgressModel",
      "state": {
       "_model_module_version": "~2.1.4",
       "_view_module_version": "~2.1.4",
       "bar_style": "success",
       "description": "Obtaining Records: ",
       "layout": "IPY_MODEL_0587a89049af4c4cbd83e7d260454c3c",
       "max": 50,
       "style": "IPY_MODEL_97dce1dd96324d08b4a1e9e9b83c0c79",
       "value": 50
      }
     },
     "04ffe39550354f1f9578fede29507297": {
      "model_module": "jupyter-js-widgets",
      "model_module_version": "~2.1.4",
      "model_name": "HTMLModel",
      "state": {
       "_model_module_version": "~2.1.4",
       "_view_module_version": "~2.1.4",
       "layout": "IPY_MODEL_d4de89cd57a84a0c8fb309a01c8adbf6",
       "value": "100% 7470/7470 [00:01&lt;00:00, 6638.58it/s]"
      }
     },
     "0587a89049af4c4cbd83e7d260454c3c": {
      "model_module": "jupyter-js-widgets",
      "model_module_version": "~2.1.4",
      "model_name": "LayoutModel",
      "state": {
       "_model_module_version": "~2.1.4",
       "_view_module_version": "~2.1.4"
      }
     },
     "069e2615258a4da78594035ff0833875": {
      "model_module": "jupyter-js-widgets",
      "model_module_version": "~2.1.4",
      "model_name": "ProgressStyleModel",
      "state": {
       "_model_module_version": "~2.1.4",
       "_view_module_version": "~2.1.4"
      }
     },
     "09e162afc2d54ba4a467524814943872": {
      "model_module": "jupyter-js-widgets",
      "model_module_version": "~2.1.4",
      "model_name": "LayoutModel",
      "state": {
       "_model_module_version": "~2.1.4",
       "_view_module_version": "~2.1.4"
      }
     },
     "0b06363905b0403cb280060c2d1a5231": {
      "model_module": "jupyter-js-widgets",
      "model_module_version": "~2.1.4",
      "model_name": "LayoutModel",
      "state": {
       "_model_module_version": "~2.1.4",
       "_view_module_version": "~2.1.4"
      }
     },
     "0d82fdb999394c1e9d9a3fafee50422f": {
      "model_module": "jupyter-js-widgets",
      "model_module_version": "~2.1.4",
      "model_name": "LayoutModel",
      "state": {
       "_model_module_version": "~2.1.4",
       "_view_module_version": "~2.1.4"
      }
     },
     "0e5e8499020b44d4a7febe51321fd5cf": {
      "model_module": "jupyter-js-widgets",
      "model_module_version": "~2.1.4",
      "model_name": "ProgressModel",
      "state": {
       "_model_module_version": "~2.1.4",
       "_view_module_version": "~2.1.4",
       "bar_style": "success",
       "description": "Processing Records: ",
       "layout": "IPY_MODEL_e241c2443acd4b628c1bddfb6cfb0ecd",
       "max": 1500,
       "style": "IPY_MODEL_150b6c0b890a4d82a8f4e5d32c0a2f2f",
       "value": 1500
      }
     },
     "10857ede2bd74f0fbcd4ae3c81a6ce1e": {
      "model_module": "jupyter-js-widgets",
      "model_module_version": "~2.1.4",
      "model_name": "HTMLModel",
      "state": {
       "_model_module_version": "~2.1.4",
       "_view_module_version": "~2.1.4",
       "layout": "IPY_MODEL_66dd2b24e9744114b6ef4beccc78b1d0",
       "value": "100% 1500/1500 [00:00&lt;00:00, 44929.02it/s]"
      }
     },
     "118a151767c14546ab311a8b506cbbb5": {
      "model_module": "jupyter-js-widgets",
      "model_module_version": "~2.1.4",
      "model_name": "LayoutModel",
      "state": {
       "_model_module_version": "~2.1.4",
       "_view_module_version": "~2.1.4"
      }
     },
     "118b35aaef1a4fcc8a09c87d77b8d40c": {
      "model_module": "jupyter-js-widgets",
      "model_module_version": "~2.1.4",
      "model_name": "ProgressModel",
      "state": {
       "_model_module_version": "~2.1.4",
       "_view_module_version": "~2.1.4",
       "bar_style": "success",
       "description": "Applying Divvy Rule: ",
       "layout": "IPY_MODEL_88f158c0f9bf42b8bd68de5003f84b94",
       "max": 7470,
       "style": "IPY_MODEL_b3f2cddb0e7743c19ad7e6b738ee8377",
       "value": 7470
      }
     },
     "1243c9d1357c4057bd6c4b20cfa9008b": {
      "model_module": "jupyter-js-widgets",
      "model_module_version": "~2.1.4",
      "model_name": "LayoutModel",
      "state": {
       "_model_module_version": "~2.1.4",
       "_view_module_version": "~2.1.4"
      }
     },
     "131ad805b7604515bcbaf5657f433442": {
      "model_module": "jupyter-js-widgets",
      "model_module_version": "~2.1.4",
      "model_name": "LayoutModel",
      "state": {
       "_model_module_version": "~2.1.4",
       "_view_module_version": "~2.1.4"
      }
     },
     "13a2df08384c4498abaf42503fece7e5": {
      "model_module": "jupyter-js-widgets",
      "model_module_version": "~2.1.4",
      "model_name": "LayoutModel",
      "state": {
       "_model_module_version": "~2.1.4",
       "_view_module_version": "~2.1.4"
      }
     },
     "150b6c0b890a4d82a8f4e5d32c0a2f2f": {
      "model_module": "jupyter-js-widgets",
      "model_module_version": "~2.1.4",
      "model_name": "ProgressStyleModel",
      "state": {
       "_model_module_version": "~2.1.4",
       "_view_module_version": "~2.1.4"
      }
     },
     "1660f3f106e24b128568c265bfa63b1d": {
      "model_module": "jupyter-js-widgets",
      "model_module_version": "~2.1.4",
      "model_name": "LayoutModel",
      "state": {
       "_model_module_version": "~2.1.4",
       "_view_module_version": "~2.1.4"
      }
     },
     "16ff1fe572b34a1f8c949952ec8488a5": {
      "model_module": "jupyter-js-widgets",
      "model_module_version": "~2.1.4",
      "model_name": "ProgressModel",
      "state": {
       "_model_module_version": "~2.1.4",
       "_view_module_version": "~2.1.4",
       "bar_style": "success",
       "description": "Obtaining Images: ",
       "layout": "IPY_MODEL_30dcf6829f854289ac7117a2b13ce2cf",
       "max": 1500,
       "style": "IPY_MODEL_d8fe035c7eb94cc4af7b5d755b228b8d",
       "value": 1500
      }
     },
     "17c9ae703a314244908ea499956d3ed0": {
      "model_module": "jupyter-js-widgets",
      "model_module_version": "~2.1.4",
      "model_name": "LayoutModel",
      "state": {
       "_model_module_version": "~2.1.4",
       "_view_module_version": "~2.1.4"
      }
     },
     "17da03e224e14053abec76ab9956ab52": {
      "model_module": "jupyter-js-widgets",
      "model_module_version": "~2.1.4",
      "model_name": "LayoutModel",
      "state": {
       "_model_module_version": "~2.1.4",
       "_view_module_version": "~2.1.4"
      }
     },
     "1a3c6db9a65241e9855812a13c656159": {
      "model_module": "jupyter-js-widgets",
      "model_module_version": "~2.1.4",
      "model_name": "LayoutModel",
      "state": {
       "_model_module_version": "~2.1.4",
       "_view_module_version": "~2.1.4"
      }
     },
     "1c744f75e89244999091a0fbf6ef72f9": {
      "model_module": "jupyter-js-widgets",
      "model_module_version": "~2.1.4",
      "model_name": "LayoutModel",
      "state": {
       "_model_module_version": "~2.1.4",
       "_view_module_version": "~2.1.4"
      }
     },
     "1d73bd56c7f0487aa6d8d0146d271276": {
      "model_module": "jupyter-js-widgets",
      "model_module_version": "~2.1.4",
      "model_name": "LayoutModel",
      "state": {
       "_model_module_version": "~2.1.4",
       "_view_module_version": "~2.1.4"
      }
     },
     "1fe8d302d6044dbd95d5f752bdfdcb83": {
      "model_module": "jupyter-js-widgets",
      "model_module_version": "~2.1.4",
      "model_name": "HTMLModel",
      "state": {
       "_model_module_version": "~2.1.4",
       "_view_module_version": "~2.1.4",
       "layout": "IPY_MODEL_9867a47bcd0c4bf09a326bc87fad80c1",
       "value": "100% 7470/7470 [01:12&lt;00:00, 102.75it/s]"
      }
     },
     "22497f053f17457da62d132964eeb362": {
      "model_module": "jupyter-js-widgets",
      "model_module_version": "~2.1.4",
      "model_name": "LayoutModel",
      "state": {
       "_model_module_version": "~2.1.4",
       "_view_module_version": "~2.1.4"
      }
     },
     "23419a9e6a054237beca990c36f50c01": {
      "model_module": "jupyter-js-widgets",
      "model_module_version": "~2.1.4",
      "model_name": "HTMLModel",
      "state": {
       "_model_module_version": "~2.1.4",
       "_view_module_version": "~2.1.4",
       "layout": "IPY_MODEL_ed839ca7989342c38c67173188a1fe7b",
       "value": "100% 50/50 [02:28&lt;00:00,  3.44s/it]"
      }
     },
     "2349b108c8f840bd8ef13369ec2c2ec4": {
      "model_module": "jupyter-js-widgets",
      "model_module_version": "~2.1.4",
      "model_name": "ProgressStyleModel",
      "state": {
       "_model_module_version": "~2.1.4",
       "_view_module_version": "~2.1.4"
      }
     },
     "2599693520de405294016afb57f60fb0": {
      "model_module": "jupyter-js-widgets",
      "model_module_version": "~2.1.4",
      "model_name": "LayoutModel",
      "state": {
       "_model_module_version": "~2.1.4",
       "_view_module_version": "~2.1.4"
      }
     },
     "267b6bb03fe940599ca8f03264197f53": {
      "model_module": "jupyter-js-widgets",
      "model_module_version": "~2.1.4",
      "model_name": "HTMLModel",
      "state": {
       "_model_module_version": "~2.1.4",
       "_view_module_version": "~2.1.4",
       "layout": "IPY_MODEL_ef3d876731a54fabbf6e1d4f14681e37",
       "value": "100% 1500/1500 [00:05&lt;00:00, 297.55it/s]"
      }
     },
     "268ffb56017a45a0b2d82483c017b412": {
      "model_module": "jupyter-js-widgets",
      "model_module_version": "~2.1.4",
      "model_name": "HBoxModel",
      "state": {
       "_model_module_version": "~2.1.4",
       "_view_module_version": "~2.1.4",
       "children": [
        "IPY_MODEL_650564a36bab403aa4e9c75fcffe66b5",
        "IPY_MODEL_804bc1f75a6b4ba6857883f9df6b18c9"
       ],
       "layout": "IPY_MODEL_c7bedcc929574f8ebedb52e2ce1f3fd6"
      }
     },
     "28a5b4610aa74f1885f71b7627760e1a": {
      "model_module": "jupyter-js-widgets",
      "model_module_version": "~2.1.4",
      "model_name": "HTMLModel",
      "state": {
       "_model_module_version": "~2.1.4",
       "_view_module_version": "~2.1.4",
       "layout": "IPY_MODEL_5bdb37e2cc2c4a9fb910fa763704babf",
       "value": "100% 249/249 [01:37&lt;00:00,  3.41it/s]"
      }
     },
     "2944545f3c904a7783d42dfb42586c09": {
      "model_module": "jupyter-js-widgets",
      "model_module_version": "~2.1.4",
      "model_name": "ProgressStyleModel",
      "state": {
       "_model_module_version": "~2.1.4",
       "_view_module_version": "~2.1.4"
      }
     },
     "29d18f05ba914caea8a88a146fd3f419": {
      "model_module": "jupyter-js-widgets",
      "model_module_version": "~2.1.4",
      "model_name": "LayoutModel",
      "state": {
       "_model_module_version": "~2.1.4",
       "_view_module_version": "~2.1.4"
      }
     },
     "2cf7880f2d5b45cfab3619055f37339a": {
      "model_module": "jupyter-js-widgets",
      "model_module_version": "~2.1.4",
      "model_name": "LayoutModel",
      "state": {
       "_model_module_version": "~2.1.4",
       "_view_module_version": "~2.1.4"
      }
     },
     "2e479686f4bc4ce5895a01315efd6482": {
      "model_module": "jupyter-js-widgets",
      "model_module_version": "~2.1.4",
      "model_name": "ProgressModel",
      "state": {
       "_model_module_version": "~2.1.4",
       "_view_module_version": "~2.1.4",
       "bar_style": "success",
       "description": "Obtaining Records: ",
       "layout": "IPY_MODEL_30c6d0e0cf8b4d5dbbb21f93eae5a50a",
       "max": 50,
       "style": "IPY_MODEL_e8b6a6c7031e4d4bae3daf4dacaa373b",
       "value": 50
      }
     },
     "2efa02bbf5144c0abfc4c573dcf5c967": {
      "model_module": "jupyter-js-widgets",
      "model_module_version": "~2.1.4",
      "model_name": "HTMLModel",
      "state": {
       "_model_module_version": "~2.1.4",
       "_view_module_version": "~2.1.4",
       "layout": "IPY_MODEL_89f428b2f7134ed8b3790c49cf606622",
       "value": "100% 1500/1500 [00:42&lt;00:00, 35.35it/s]"
      }
     },
     "2fe04cdfea4f41bf82da9804005f9c60": {
      "model_module": "jupyter-js-widgets",
      "model_module_version": "~2.1.4",
      "model_name": "HBoxModel",
      "state": {
       "_model_module_version": "~2.1.4",
       "_view_module_version": "~2.1.4",
       "children": [
        "IPY_MODEL_56836a253a76418ea4983377ed0de19f",
        "IPY_MODEL_9a593c45ff93488baa664b1ef1b75799"
       ],
       "layout": "IPY_MODEL_61fcee0cd71a42c1890778b4e67ec610"
      }
     },
     "30c6d0e0cf8b4d5dbbb21f93eae5a50a": {
      "model_module": "jupyter-js-widgets",
      "model_module_version": "~2.1.4",
      "model_name": "LayoutModel",
      "state": {
       "_model_module_version": "~2.1.4",
       "_view_module_version": "~2.1.4"
      }
     },
     "30dcf6829f854289ac7117a2b13ce2cf": {
      "model_module": "jupyter-js-widgets",
      "model_module_version": "~2.1.4",
      "model_name": "LayoutModel",
      "state": {
       "_model_module_version": "~2.1.4",
       "_view_module_version": "~2.1.4"
      }
     },
     "333b190d5ad446089c0d178b30407c24": {
      "model_module": "jupyter-js-widgets",
      "model_module_version": "~2.1.4",
      "model_name": "LayoutModel",
      "state": {
       "_model_module_version": "~2.1.4",
       "_view_module_version": "~2.1.4"
      }
     },
     "343a34d90fc64a34a2c5d1df5263045f": {
      "model_module": "jupyter-js-widgets",
      "model_module_version": "~2.1.4",
      "model_name": "LayoutModel",
      "state": {
       "_model_module_version": "~2.1.4",
       "_view_module_version": "~2.1.4"
      }
     },
     "359910e2cb2045c69bae6b79b1ccfc3d": {
      "model_module": "jupyter-js-widgets",
      "model_module_version": "~2.1.4",
      "model_name": "HBoxModel",
      "state": {
       "_model_module_version": "~2.1.4",
       "_view_module_version": "~2.1.4",
       "children": [
        "IPY_MODEL_4b3352e3a1dc47a181bde630a5fda08c",
        "IPY_MODEL_d29e1aa4ba6c4c6c8d6542d790142b11"
       ],
       "layout": "IPY_MODEL_c9bcc902237346cc8a0853d38c6dad92"
      }
     },
     "3608f2a04f314e1191f3759f466deb10": {
      "model_module": "jupyter-js-widgets",
      "model_module_version": "~2.1.4",
      "model_name": "HBoxModel",
      "state": {
       "_model_module_version": "~2.1.4",
       "_view_module_version": "~2.1.4",
       "children": [
        "IPY_MODEL_6ca665cada59479596b62e765d32b6d8",
        "IPY_MODEL_04ffe39550354f1f9578fede29507297"
       ],
       "layout": "IPY_MODEL_7c4d585c90464deb81aeee2fe8e119e1"
      }
     },
     "363c89226d3d47c68a3cdabcd4509e11": {
      "model_module": "jupyter-js-widgets",
      "model_module_version": "~2.1.4",
      "model_name": "LayoutModel",
      "state": {
       "_model_module_version": "~2.1.4",
       "_view_module_version": "~2.1.4"
      }
     },
     "37547adb455840a3a5e3f3e9903ba638": {
      "model_module": "jupyter-js-widgets",
      "model_module_version": "~2.1.4",
      "model_name": "LayoutModel",
      "state": {
       "_model_module_version": "~2.1.4",
       "_view_module_version": "~2.1.4"
      }
     },
     "395471a338db4d99b51e08be8bdd24ac": {
      "model_module": "jupyter-js-widgets",
      "model_module_version": "~2.1.4",
      "model_name": "ProgressModel",
      "state": {
       "_model_module_version": "~2.1.4",
       "_view_module_version": "~2.1.4",
       "bar_style": "success",
       "description": "Scanning for Problems: ",
       "layout": "IPY_MODEL_c00a9bd6219341c8bae6d41dbc44349f",
       "max": 1500,
       "style": "IPY_MODEL_02f0d085c14f4aafbb8f43b19729e3ec",
       "value": 1500
      }
     },
     "3c565507229b4ee7bd9466a9458d49fd": {
      "model_module": "jupyter-js-widgets",
      "model_module_version": "~2.1.4",
      "model_name": "HTMLModel",
      "state": {
       "_model_module_version": "~2.1.4",
       "_view_module_version": "~2.1.4",
       "layout": "IPY_MODEL_4371ce1513ae45a992fc3dde8e50ae2c",
       "value": "100% 50/50 [02:59&lt;00:00,  5.00s/it]"
      }
     },
     "3c6b6f8c33564f1a8e3bd905bc988e43": {
      "model_module": "jupyter-js-widgets",
      "model_module_version": "~2.1.4",
      "model_name": "ProgressStyleModel",
      "state": {
       "_model_module_version": "~2.1.4",
       "_view_module_version": "~2.1.4"
      }
     },
     "3fca62db154943ecb2f4e742a6171130": {
      "model_module": "jupyter-js-widgets",
      "model_module_version": "~2.1.4",
      "model_name": "HBoxModel",
      "state": {
       "_model_module_version": "~2.1.4",
       "_view_module_version": "~2.1.4",
       "children": [
        "IPY_MODEL_f9651a067c8b4a1697bf210b87c3857b",
        "IPY_MODEL_fb24e6afe10c47759b1c1b7d0c1fd4e9"
       ],
       "layout": "IPY_MODEL_1243c9d1357c4057bd6c4b20cfa9008b"
      }
     },
     "40d2005ed200412db2da404365947953": {
      "model_module": "jupyter-js-widgets",
      "model_module_version": "~2.1.4",
      "model_name": "ProgressStyleModel",
      "state": {
       "_model_module_version": "~2.1.4",
       "_view_module_version": "~2.1.4"
      }
     },
     "410295a7affa4c7a8364247205d6f858": {
      "model_module": "jupyter-js-widgets",
      "model_module_version": "~2.1.4",
      "model_name": "HBoxModel",
      "state": {
       "_model_module_version": "~2.1.4",
       "_view_module_version": "~2.1.4",
       "children": [
        "IPY_MODEL_fe06c4ed8d974eed83c846f54002064e",
        "IPY_MODEL_9eeadc35c96c4013838180585708542f"
       ],
       "layout": "IPY_MODEL_af89977456f24721a1a2098e9ac0264c"
      }
     },
     "4243ee30597e47f8924059bb5a0a04cb": {
      "model_module": "jupyter-js-widgets",
      "model_module_version": "~2.1.4",
      "model_name": "LayoutModel",
      "state": {
       "_model_module_version": "~2.1.4",
       "_view_module_version": "~2.1.4"
      }
     },
     "42aeefbb4f7e44cba298028bd3bce246": {
      "model_module": "jupyter-js-widgets",
      "model_module_version": "~2.1.4",
      "model_name": "HTMLModel",
      "state": {
       "_model_module_version": "~2.1.4",
       "_view_module_version": "~2.1.4",
       "layout": "IPY_MODEL_bdd7c956660742a5ac164e785759b45d",
       "value": "100% 1500/1500 [00:00&lt;00:00, 28199.28it/s]"
      }
     },
     "4371ce1513ae45a992fc3dde8e50ae2c": {
      "model_module": "jupyter-js-widgets",
      "model_module_version": "~2.1.4",
      "model_name": "LayoutModel",
      "state": {
       "_model_module_version": "~2.1.4",
       "_view_module_version": "~2.1.4"
      }
     },
     "45c783df14e243ce9046ffe11c1a7449": {
      "model_module": "jupyter-js-widgets",
      "model_module_version": "~2.1.4",
      "model_name": "LayoutModel",
      "state": {
       "_model_module_version": "~2.1.4",
       "_view_module_version": "~2.1.4"
      }
     },
     "48d3786eaca1471fbd6706a26a6dd877": {
      "model_module": "jupyter-js-widgets",
      "model_module_version": "~2.1.4",
      "model_name": "ProgressStyleModel",
      "state": {
       "_model_module_version": "~2.1.4",
       "_view_module_version": "~2.1.4"
      }
     },
     "4a3103aed8a4418990da37acf5e053e3": {
      "model_module": "jupyter-js-widgets",
      "model_module_version": "~2.1.4",
      "model_name": "HTMLModel",
      "state": {
       "_model_module_version": "~2.1.4",
       "_view_module_version": "~2.1.4",
       "layout": "IPY_MODEL_d95c6be5aadc42af9e8105956e583bc5",
       "value": "100% 1500/1500 [00:05&lt;00:00, 251.01it/s]"
      }
     },
     "4a50ac002cb4437d902a363c6b21ef47": {
      "model_module": "jupyter-js-widgets",
      "model_module_version": "~2.1.4",
      "model_name": "ProgressStyleModel",
      "state": {
       "_model_module_version": "~2.1.4",
       "_view_module_version": "~2.1.4"
      }
     },
     "4b3352e3a1dc47a181bde630a5fda08c": {
      "model_module": "jupyter-js-widgets",
      "model_module_version": "~2.1.4",
      "model_name": "ProgressModel",
      "state": {
       "_model_module_version": "~2.1.4",
       "_view_module_version": "~2.1.4",
       "bar_style": "success",
       "description": "Border Analysis: ",
       "layout": "IPY_MODEL_e84aede08dc448419fd29589ecb8ffe6",
       "max": 1500,
       "style": "IPY_MODEL_40d2005ed200412db2da404365947953",
       "value": 1500
      }
     },
     "4b82a43030284a03b4389240b4eedd2c": {
      "model_module": "jupyter-js-widgets",
      "model_module_version": "~2.1.4",
      "model_name": "HBoxModel",
      "state": {
       "_model_module_version": "~2.1.4",
       "_view_module_version": "~2.1.4",
       "children": [
        "IPY_MODEL_9f3962f908634c7cbcf17b2af18c0bfa",
        "IPY_MODEL_1fe8d302d6044dbd95d5f752bdfdcb83"
       ],
       "layout": "IPY_MODEL_4be940ed957a4cd494d70d851ecc4a24"
      }
     },
     "4bd8c536e59c48d7bed78e0bb8bbe3a6": {
      "model_module": "jupyter-js-widgets",
      "model_module_version": "~2.1.4",
      "model_name": "LayoutModel",
      "state": {
       "_model_module_version": "~2.1.4",
       "_view_module_version": "~2.1.4"
      }
     },
     "4be940ed957a4cd494d70d851ecc4a24": {
      "model_module": "jupyter-js-widgets",
      "model_module_version": "~2.1.4",
      "model_name": "LayoutModel",
      "state": {
       "_model_module_version": "~2.1.4",
       "_view_module_version": "~2.1.4"
      }
     },
     "4c05dd02c6864323aa95cbe594080926": {
      "model_module": "jupyter-js-widgets",
      "model_module_version": "~2.1.4",
      "model_name": "HBoxModel",
      "state": {
       "_model_module_version": "~2.1.4",
       "_view_module_version": "~2.1.4",
       "children": [
        "IPY_MODEL_e0ea8306869b4c3f8a0c43f4442c7138",
        "IPY_MODEL_10857ede2bd74f0fbcd4ae3c81a6ce1e"
       ],
       "layout": "IPY_MODEL_7cef4f7bd86f4e27a21a800fea65233c"
      }
     },
     "4c713fa885b0493180d331f8591e602e": {
      "model_module": "jupyter-js-widgets",
      "model_module_version": "~2.1.4",
      "model_name": "LayoutModel",
      "state": {
       "_model_module_version": "~2.1.4",
       "_view_module_version": "~2.1.4"
      }
     },
     "4cf614c026464c1a9b7be7e7b87cb6ce": {
      "model_module": "jupyter-js-widgets",
      "model_module_version": "~2.1.4",
      "model_name": "LayoutModel",
      "state": {
       "_model_module_version": "~2.1.4",
       "_view_module_version": "~2.1.4"
      }
     },
     "4d34e2e6efc944a0ab63970b6e4c2c4c": {
      "model_module": "jupyter-js-widgets",
      "model_module_version": "~2.1.4",
      "model_name": "HTMLModel",
      "state": {
       "_model_module_version": "~2.1.4",
       "_view_module_version": "~2.1.4",
       "layout": "IPY_MODEL_363c89226d3d47c68a3cdabcd4509e11",
       "value": "100% 2/2 [00:43&lt;00:00, 26.89s/it]"
      }
     },
     "4d47024866ad4081967bef110062b8bb": {
      "model_module": "jupyter-js-widgets",
      "model_module_version": "~2.1.4",
      "model_name": "ProgressStyleModel",
      "state": {
       "_model_module_version": "~2.1.4",
       "_view_module_version": "~2.1.4"
      }
     },
     "4e5f2c24e1224cf094dd7e78d21d3ea0": {
      "model_module": "jupyter-js-widgets",
      "model_module_version": "~2.1.4",
      "model_name": "ProgressModel",
      "state": {
       "_model_module_version": "~2.1.4",
       "_view_module_version": "~2.1.4",
       "bar_style": "success",
       "description": "Processing Records: ",
       "layout": "IPY_MODEL_a5b29b2db9614adf8e29406f81ec56c4",
       "max": 1500,
       "style": "IPY_MODEL_be84a9c780d74b73b796e8bba880f615",
       "value": 1500
      }
     },
     "4f9e907737f54a6bbde32b7fa7697c3b": {
      "model_module": "jupyter-js-widgets",
      "model_module_version": "~2.1.4",
      "model_name": "LayoutModel",
      "state": {
       "_model_module_version": "~2.1.4",
       "_view_module_version": "~2.1.4"
      }
     },
     "501a8501617647c0acfe6e04b5b162a8": {
      "model_module": "jupyter-js-widgets",
      "model_module_version": "~2.1.4",
      "model_name": "LayoutModel",
      "state": {
       "_model_module_version": "~2.1.4",
       "_view_module_version": "~2.1.4"
      }
     },
     "52f3a0f9f0bd425681a166fb1b39e833": {
      "model_module": "jupyter-js-widgets",
      "model_module_version": "~2.1.4",
      "model_name": "LayoutModel",
      "state": {
       "_model_module_version": "~2.1.4",
       "_view_module_version": "~2.1.4"
      }
     },
     "5319f34b1f3c484eba8c7f61e0c66a13": {
      "model_module": "jupyter-js-widgets",
      "model_module_version": "~2.1.4",
      "model_name": "LayoutModel",
      "state": {
       "_model_module_version": "~2.1.4",
       "_view_module_version": "~2.1.4"
      }
     },
     "536592974c3e46c798232049127928b2": {
      "model_module": "jupyter-js-widgets",
      "model_module_version": "~2.1.4",
      "model_name": "ProgressModel",
      "state": {
       "_model_module_version": "~2.1.4",
       "_view_module_version": "~2.1.4",
       "bar_style": "success",
       "description": "Cropping Images: ",
       "layout": "IPY_MODEL_6fb3e97159da4b74a2b8076cf954e944",
       "max": 209,
       "style": "IPY_MODEL_a88cef91cabf41d193a249d5e097ac1e",
       "value": 209
      }
     },
     "55a99e5d4d4948308184865d850e4f1b": {
      "model_module": "jupyter-js-widgets",
      "model_module_version": "~2.1.4",
      "model_name": "HTMLModel",
      "state": {
       "_model_module_version": "~2.1.4",
       "_view_module_version": "~2.1.4",
       "layout": "IPY_MODEL_85fb7d137e334f9e9a59ffd78fc801e8",
       "value": "100% 1500/1500 [00:05&lt;00:00, 274.90it/s]"
      }
     },
     "55ef74e603df42a4bcbf249dc4c4599d": {
      "model_module": "jupyter-js-widgets",
      "model_module_version": "~2.1.4",
      "model_name": "ProgressStyleModel",
      "state": {
       "_model_module_version": "~2.1.4",
       "_view_module_version": "~2.1.4"
      }
     },
     "562a02d512ce446f98d5982013871f6f": {
      "model_module": "jupyter-js-widgets",
      "model_module_version": "~2.1.4",
      "model_name": "HTMLModel",
      "state": {
       "_model_module_version": "~2.1.4",
       "_view_module_version": "~2.1.4",
       "layout": "IPY_MODEL_585d66fe5bf34a888797c12118a58f89",
       "value": "100% 1500/1500 [00:40&lt;00:00, 37.41it/s]"
      }
     },
     "56836a253a76418ea4983377ed0de19f": {
      "model_module": "jupyter-js-widgets",
      "model_module_version": "~2.1.4",
      "model_name": "ProgressModel",
      "state": {
       "_model_module_version": "~2.1.4",
       "_view_module_version": "~2.1.4",
       "bar_style": "success",
       "description": "Border Analysis: ",
       "layout": "IPY_MODEL_a938c17ea1cb447ba67a31abfbeb5168",
       "max": 1500,
       "style": "IPY_MODEL_cefd0f2e96e940e49ba5a855521e4685",
       "value": 1500
      }
     },
     "57f1939a9ee84aabaa88ed19fb3a67eb": {
      "model_module": "jupyter-js-widgets",
      "model_module_version": "~2.1.4",
      "model_name": "LayoutModel",
      "state": {
       "_model_module_version": "~2.1.4",
       "_view_module_version": "~2.1.4"
      }
     },
     "581d95223ee64dc98746a6434fd58a7c": {
      "model_module": "jupyter-js-widgets",
      "model_module_version": "~2.1.4",
      "model_name": "HTMLModel",
      "state": {
       "_model_module_version": "~2.1.4",
       "_view_module_version": "~2.1.4",
       "layout": "IPY_MODEL_9a8eede665bf4cedbd5a3e1f098e66e8",
       "value": "100% 1500/1500 [00:03&lt;00:00, 400.10it/s]"
      }
     },
     "582204e355f7422eb2ee337e55915b9e": {
      "model_module": "jupyter-js-widgets",
      "model_module_version": "~2.1.4",
      "model_name": "ProgressModel",
      "state": {
       "_model_module_version": "~2.1.4",
       "_view_module_version": "~2.1.4",
       "bar_style": "success",
       "description": "Generating ndarrays: ",
       "layout": "IPY_MODEL_09e162afc2d54ba4a467524814943872",
       "max": 2,
       "style": "IPY_MODEL_b6b339270049469fb1e99677b6406d98",
       "value": 2
      }
     },
     "585d66fe5bf34a888797c12118a58f89": {
      "model_module": "jupyter-js-widgets",
      "model_module_version": "~2.1.4",
      "model_name": "LayoutModel",
      "state": {
       "_model_module_version": "~2.1.4",
       "_view_module_version": "~2.1.4"
      }
     },
     "5874aaca9eb642a6a936685b1665233a": {
      "model_module": "jupyter-js-widgets",
      "model_module_version": "~2.1.4",
      "model_name": "LayoutModel",
      "state": {
       "_model_module_version": "~2.1.4",
       "_view_module_version": "~2.1.4"
      }
     },
     "58c6be404bc34038ba1c7931b2231dc1": {
      "model_module": "jupyter-js-widgets",
      "model_module_version": "~2.1.4",
      "model_name": "LayoutModel",
      "state": {
       "_model_module_version": "~2.1.4",
       "_view_module_version": "~2.1.4"
      }
     },
     "594d33b6556948d3b42334f63dc9ae2e": {
      "model_module": "jupyter-js-widgets",
      "model_module_version": "~2.1.4",
      "model_name": "HTMLModel",
      "state": {
       "_model_module_version": "~2.1.4",
       "_view_module_version": "~2.1.4",
       "layout": "IPY_MODEL_9c8bb3b3ebd94b3fa8517b10a31bf907",
       "value": "100% 1500/1500 [00:00&lt;00:00, 52793.07it/s]"
      }
     },
     "5ab85e5b00404afab15c30498808ae09": {
      "model_module": "jupyter-js-widgets",
      "model_module_version": "~2.1.4",
      "model_name": "HTMLModel",
      "state": {
       "_model_module_version": "~2.1.4",
       "_view_module_version": "~2.1.4",
       "layout": "IPY_MODEL_501a8501617647c0acfe6e04b5b162a8",
       "value": "100% 1500/1500 [00:00&lt;00:00, 27993.01it/s]"
      }
     },
     "5bdb37e2cc2c4a9fb910fa763704babf": {
      "model_module": "jupyter-js-widgets",
      "model_module_version": "~2.1.4",
      "model_name": "LayoutModel",
      "state": {
       "_model_module_version": "~2.1.4",
       "_view_module_version": "~2.1.4"
      }
     },
     "60b68db47f8e4335ba5c638e44bffea7": {
      "model_module": "jupyter-js-widgets",
      "model_module_version": "~2.1.4",
      "model_name": "HBoxModel",
      "state": {
       "_model_module_version": "~2.1.4",
       "_view_module_version": "~2.1.4",
       "children": [
        "IPY_MODEL_f062908a7b88487a8beedede6d98902e",
        "IPY_MODEL_ef325ee0050f40dea3d1100d617faa73"
       ],
       "layout": "IPY_MODEL_9a77e266b613498584379fde82fe9910"
      }
     },
     "61fcee0cd71a42c1890778b4e67ec610": {
      "model_module": "jupyter-js-widgets",
      "model_module_version": "~2.1.4",
      "model_name": "LayoutModel",
      "state": {
       "_model_module_version": "~2.1.4",
       "_view_module_version": "~2.1.4"
      }
     },
     "646666f7edde4309bdd6e9cf022a34ca": {
      "model_module": "jupyter-js-widgets",
      "model_module_version": "~2.1.4",
      "model_name": "ProgressModel",
      "state": {
       "_model_module_version": "~2.1.4",
       "_view_module_version": "~2.1.4",
       "bar_style": "success",
       "description": "Obtaining Images: ",
       "layout": "IPY_MODEL_343a34d90fc64a34a2c5d1df5263045f",
       "max": 7470,
       "style": "IPY_MODEL_48d3786eaca1471fbd6706a26a6dd877",
       "value": 7470
      }
     },
     "650564a36bab403aa4e9c75fcffe66b5": {
      "model_module": "jupyter-js-widgets",
      "model_module_version": "~2.1.4",
      "model_name": "ProgressModel",
      "state": {
       "_model_module_version": "~2.1.4",
       "_view_module_version": "~2.1.4",
       "bar_style": "success",
       "description": "Grayscale Analysis: ",
       "layout": "IPY_MODEL_fbab0096776b4c42ab1f5321efe82216",
       "max": 1500,
       "style": "IPY_MODEL_8fe5cc9dfce84a2abdc842047af38258",
       "value": 1500
      }
     },
     "66dd2b24e9744114b6ef4beccc78b1d0": {
      "model_module": "jupyter-js-widgets",
      "model_module_version": "~2.1.4",
      "model_name": "LayoutModel",
      "state": {
       "_model_module_version": "~2.1.4",
       "_view_module_version": "~2.1.4"
      }
     },
     "67284b4fa1e3487b8feb0fa0d74ac588": {
      "model_module": "jupyter-js-widgets",
      "model_module_version": "~2.1.4",
      "model_name": "HBoxModel",
      "state": {
       "_model_module_version": "~2.1.4",
       "_view_module_version": "~2.1.4",
       "children": [
        "IPY_MODEL_b073cc314d664b6c8bbb94e41c759add",
        "IPY_MODEL_74c5625cf8e6420a9ef68cf96023fcfb"
       ],
       "layout": "IPY_MODEL_8639bc8af3284606aa5482e9a7dfa933"
      }
     },
     "67628954cd184941a5703e30a57a8056": {
      "model_module": "jupyter-js-widgets",
      "model_module_version": "~2.1.4",
      "model_name": "ProgressModel",
      "state": {
       "_model_module_version": "~2.1.4",
       "_view_module_version": "~2.1.4",
       "bar_style": "success",
       "description": "Logo Analysis: ",
       "layout": "IPY_MODEL_4243ee30597e47f8924059bb5a0a04cb",
       "max": 1500,
       "style": "IPY_MODEL_3c6b6f8c33564f1a8e3bd905bc988e43",
       "value": 1500
      }
     },
     "6950dcfb459e473eba677fdf34ef4aed": {
      "model_module": "jupyter-js-widgets",
      "model_module_version": "~2.1.4",
      "model_name": "HBoxModel",
      "state": {
       "_model_module_version": "~2.1.4",
       "_view_module_version": "~2.1.4",
       "children": [
        "IPY_MODEL_646666f7edde4309bdd6e9cf022a34ca",
        "IPY_MODEL_aa280070030c44588a00a676b9f4e470"
       ],
       "layout": "IPY_MODEL_52f3a0f9f0bd425681a166fb1b39e833"
      }
     },
     "6a77cbbbb44d4cc0865f6b19bb56cc6f": {
      "model_module": "jupyter-js-widgets",
      "model_module_version": "~2.1.4",
      "model_name": "HBoxModel",
      "state": {
       "_model_module_version": "~2.1.4",
       "_view_module_version": "~2.1.4",
       "children": [
        "IPY_MODEL_da699ad5bae24933b4d59b07050fada1",
        "IPY_MODEL_581d95223ee64dc98746a6434fd58a7c"
       ],
       "layout": "IPY_MODEL_95ddda87c84e48e08ae4dc12e5d16732"
      }
     },
     "6ca665cada59479596b62e765d32b6d8": {
      "model_module": "jupyter-js-widgets",
      "model_module_version": "~2.1.4",
      "model_name": "ProgressModel",
      "state": {
       "_model_module_version": "~2.1.4",
       "_view_module_version": "~2.1.4",
       "bar_style": "success",
       "description": "Applying Divvy Rule: ",
       "layout": "IPY_MODEL_0d82fdb999394c1e9d9a3fafee50422f",
       "max": 7470,
       "style": "IPY_MODEL_4d47024866ad4081967bef110062b8bb",
       "value": 7470
      }
     },
     "6f1b9458aee6474c85e85bbc909d7933": {
      "model_module": "jupyter-js-widgets",
      "model_module_version": "~2.1.4",
      "model_name": "LayoutModel",
      "state": {
       "_model_module_version": "~2.1.4",
       "_view_module_version": "~2.1.4"
      }
     },
     "6fb3e97159da4b74a2b8076cf954e944": {
      "model_module": "jupyter-js-widgets",
      "model_module_version": "~2.1.4",
      "model_name": "LayoutModel",
      "state": {
       "_model_module_version": "~2.1.4",
       "_view_module_version": "~2.1.4"
      }
     },
     "7175a8eb769d49ffb1c902d88d551bfc": {
      "model_module": "jupyter-js-widgets",
      "model_module_version": "~2.1.4",
      "model_name": "HBoxModel",
      "state": {
       "_model_module_version": "~2.1.4",
       "_view_module_version": "~2.1.4",
       "children": [
        "IPY_MODEL_118b35aaef1a4fcc8a09c87d77b8d40c",
        "IPY_MODEL_7a111a7fabf64b97abcc75c6326c7e6b"
       ],
       "layout": "IPY_MODEL_1d73bd56c7f0487aa6d8d0146d271276"
      }
     },
     "74661fd050ac4f1db84d28d7558fdd8e": {
      "model_module": "jupyter-js-widgets",
      "model_module_version": "~2.1.4",
      "model_name": "HBoxModel",
      "state": {
       "_model_module_version": "~2.1.4",
       "_view_module_version": "~2.1.4",
       "children": [
        "IPY_MODEL_536592974c3e46c798232049127928b2",
        "IPY_MODEL_85097a4eec944c70a272f89742be51a8"
       ],
       "layout": "IPY_MODEL_1660f3f106e24b128568c265bfa63b1d"
      }
     },
     "74c5625cf8e6420a9ef68cf96023fcfb": {
      "model_module": "jupyter-js-widgets",
      "model_module_version": "~2.1.4",
      "model_name": "HTMLModel",
      "state": {
       "_model_module_version": "~2.1.4",
       "_view_module_version": "~2.1.4",
       "layout": "IPY_MODEL_be5d0979d0764251bacc0db20f134051",
       "value": "100% 1500/1500 [00:17&lt;00:00, 83.70it/s]"
      }
     },
     "77168f4f39994f91a5f6b339a9f65c99": {
      "model_module": "jupyter-js-widgets",
      "model_module_version": "~2.1.4",
      "model_name": "ProgressStyleModel",
      "state": {
       "_model_module_version": "~2.1.4",
       "_view_module_version": "~2.1.4"
      }
     },
     "786bbc5817b845dd9d2503eae293416e": {
      "model_module": "jupyter-js-widgets",
      "model_module_version": "~2.1.4",
      "model_name": "HBoxModel",
      "state": {
       "_model_module_version": "~2.1.4",
       "_view_module_version": "~2.1.4",
       "children": [
        "IPY_MODEL_82bd633cc04047faa83dac1a6c72648a",
        "IPY_MODEL_42aeefbb4f7e44cba298028bd3bce246"
       ],
       "layout": "IPY_MODEL_4cf614c026464c1a9b7be7e7b87cb6ce"
      }
     },
     "7a111a7fabf64b97abcc75c6326c7e6b": {
      "model_module": "jupyter-js-widgets",
      "model_module_version": "~2.1.4",
      "model_name": "HTMLModel",
      "state": {
       "_model_module_version": "~2.1.4",
       "_view_module_version": "~2.1.4",
       "layout": "IPY_MODEL_5874aaca9eb642a6a936685b1665233a",
       "value": "100% 7470/7470 [00:01&lt;00:00, 6448.21it/s]"
      }
     },
     "7c4d585c90464deb81aeee2fe8e119e1": {
      "model_module": "jupyter-js-widgets",
      "model_module_version": "~2.1.4",
      "model_name": "LayoutModel",
      "state": {
       "_model_module_version": "~2.1.4",
       "_view_module_version": "~2.1.4"
      }
     },
     "7cef4f7bd86f4e27a21a800fea65233c": {
      "model_module": "jupyter-js-widgets",
      "model_module_version": "~2.1.4",
      "model_name": "LayoutModel",
      "state": {
       "_model_module_version": "~2.1.4",
       "_view_module_version": "~2.1.4"
      }
     },
     "7d457a93df024dd69475422240e0f95e": {
      "model_module": "jupyter-js-widgets",
      "model_module_version": "~2.1.4",
      "model_name": "HBoxModel",
      "state": {
       "_model_module_version": "~2.1.4",
       "_view_module_version": "~2.1.4",
       "children": [
        "IPY_MODEL_c4488851f16c45abadb6c250f58e5b22",
        "IPY_MODEL_8b6cffa69cd040ca8c245d8ccb5065aa"
       ],
       "layout": "IPY_MODEL_fd3d9566e61b4afca2303c6c8357a6f2"
      }
     },
     "804bc1f75a6b4ba6857883f9df6b18c9": {
      "model_module": "jupyter-js-widgets",
      "model_module_version": "~2.1.4",
      "model_name": "HTMLModel",
      "state": {
       "_model_module_version": "~2.1.4",
       "_view_module_version": "~2.1.4",
       "layout": "IPY_MODEL_45c783df14e243ce9046ffe11c1a7449",
       "value": "100% 1500/1500 [00:17&lt;00:00, 86.08it/s]"
      }
     },
     "82bd633cc04047faa83dac1a6c72648a": {
      "model_module": "jupyter-js-widgets",
      "model_module_version": "~2.1.4",
      "model_name": "ProgressModel",
      "state": {
       "_model_module_version": "~2.1.4",
       "_view_module_version": "~2.1.4",
       "bar_style": "success",
       "description": "Scanning for Problems: ",
       "layout": "IPY_MODEL_f5dec2375b0249918a924d6decd73949",
       "max": 1500,
       "style": "IPY_MODEL_2944545f3c904a7783d42dfb42586c09",
       "value": 1500
      }
     },
     "85097a4eec944c70a272f89742be51a8": {
      "model_module": "jupyter-js-widgets",
      "model_module_version": "~2.1.4",
      "model_name": "HTMLModel",
      "state": {
       "_model_module_version": "~2.1.4",
       "_view_module_version": "~2.1.4",
       "layout": "IPY_MODEL_131ad805b7604515bcbaf5657f433442",
       "value": "100% 209/209 [00:01&lt;00:00, 146.23it/s]"
      }
     },
     "85fb7d137e334f9e9a59ffd78fc801e8": {
      "model_module": "jupyter-js-widgets",
      "model_module_version": "~2.1.4",
      "model_name": "LayoutModel",
      "state": {
       "_model_module_version": "~2.1.4",
       "_view_module_version": "~2.1.4"
      }
     },
     "8639bc8af3284606aa5482e9a7dfa933": {
      "model_module": "jupyter-js-widgets",
      "model_module_version": "~2.1.4",
      "model_name": "LayoutModel",
      "state": {
       "_model_module_version": "~2.1.4",
       "_view_module_version": "~2.1.4"
      }
     },
     "87e4020494714e1186f395bddb2c22dc": {
      "model_module": "jupyter-js-widgets",
      "model_module_version": "~2.1.4",
      "model_name": "HBoxModel",
      "state": {
       "_model_module_version": "~2.1.4",
       "_view_module_version": "~2.1.4",
       "children": [
        "IPY_MODEL_2e479686f4bc4ce5895a01315efd6482",
        "IPY_MODEL_23419a9e6a054237beca990c36f50c01"
       ],
       "layout": "IPY_MODEL_4c713fa885b0493180d331f8591e602e"
      }
     },
     "88409cca2b5c4670a7e535de5f2b84dd": {
      "model_module": "jupyter-js-widgets",
      "model_module_version": "~2.1.4",
      "model_name": "LayoutModel",
      "state": {
       "_model_module_version": "~2.1.4",
       "_view_module_version": "~2.1.4"
      }
     },
     "88f158c0f9bf42b8bd68de5003f84b94": {
      "model_module": "jupyter-js-widgets",
      "model_module_version": "~2.1.4",
      "model_name": "LayoutModel",
      "state": {
       "_model_module_version": "~2.1.4",
       "_view_module_version": "~2.1.4"
      }
     },
     "89f428b2f7134ed8b3790c49cf606622": {
      "model_module": "jupyter-js-widgets",
      "model_module_version": "~2.1.4",
      "model_name": "LayoutModel",
      "state": {
       "_model_module_version": "~2.1.4",
       "_view_module_version": "~2.1.4"
      }
     },
     "8b6cffa69cd040ca8c245d8ccb5065aa": {
      "model_module": "jupyter-js-widgets",
      "model_module_version": "~2.1.4",
      "model_name": "HTMLModel",
      "state": {
       "_model_module_version": "~2.1.4",
       "_view_module_version": "~2.1.4",
       "layout": "IPY_MODEL_88409cca2b5c4670a7e535de5f2b84dd",
       "value": "100% 1500/1500 [00:18&lt;00:00, 82.88it/s]"
      }
     },
     "8fe5cc9dfce84a2abdc842047af38258": {
      "model_module": "jupyter-js-widgets",
      "model_module_version": "~2.1.4",
      "model_name": "ProgressStyleModel",
      "state": {
       "_model_module_version": "~2.1.4",
       "_view_module_version": "~2.1.4"
      }
     },
     "95ddda87c84e48e08ae4dc12e5d16732": {
      "model_module": "jupyter-js-widgets",
      "model_module_version": "~2.1.4",
      "model_name": "LayoutModel",
      "state": {
       "_model_module_version": "~2.1.4",
       "_view_module_version": "~2.1.4"
      }
     },
     "96249aa25d064a8195b4014daec575b3": {
      "model_module": "jupyter-js-widgets",
      "model_module_version": "~2.1.4",
      "model_name": "HBoxModel",
      "state": {
       "_model_module_version": "~2.1.4",
       "_view_module_version": "~2.1.4",
       "children": [
        "IPY_MODEL_4e5f2c24e1224cf094dd7e78d21d3ea0",
        "IPY_MODEL_562a02d512ce446f98d5982013871f6f"
       ],
       "layout": "IPY_MODEL_58c6be404bc34038ba1c7931b2231dc1"
      }
     },
     "966d4c76bcfa447cbb31a3506974e59d": {
      "model_module": "jupyter-js-widgets",
      "model_module_version": "~2.1.4",
      "model_name": "ProgressModel",
      "state": {
       "_model_module_version": "~2.1.4",
       "_view_module_version": "~2.1.4",
       "bar_style": "success",
       "description": "Obtaining Records: ",
       "layout": "IPY_MODEL_333b190d5ad446089c0d178b30407c24",
       "max": 249,
       "style": "IPY_MODEL_ae12b1d2493d4eed904dd54345ded159",
       "value": 249
      }
     },
     "97dce1dd96324d08b4a1e9e9b83c0c79": {
      "model_module": "jupyter-js-widgets",
      "model_module_version": "~2.1.4",
      "model_name": "ProgressStyleModel",
      "state": {
       "_model_module_version": "~2.1.4",
       "_view_module_version": "~2.1.4"
      }
     },
     "9867a47bcd0c4bf09a326bc87fad80c1": {
      "model_module": "jupyter-js-widgets",
      "model_module_version": "~2.1.4",
      "model_name": "LayoutModel",
      "state": {
       "_model_module_version": "~2.1.4",
       "_view_module_version": "~2.1.4"
      }
     },
     "9a593c45ff93488baa664b1ef1b75799": {
      "model_module": "jupyter-js-widgets",
      "model_module_version": "~2.1.4",
      "model_name": "HTMLModel",
      "state": {
       "_model_module_version": "~2.1.4",
       "_view_module_version": "~2.1.4",
       "layout": "IPY_MODEL_1a3c6db9a65241e9855812a13c656159",
       "value": "100% 1500/1500 [00:10&lt;00:00, 149.84it/s]"
      }
     },
     "9a77e266b613498584379fde82fe9910": {
      "model_module": "jupyter-js-widgets",
      "model_module_version": "~2.1.4",
      "model_name": "LayoutModel",
      "state": {
       "_model_module_version": "~2.1.4",
       "_view_module_version": "~2.1.4"
      }
     },
     "9a8eede665bf4cedbd5a3e1f098e66e8": {
      "model_module": "jupyter-js-widgets",
      "model_module_version": "~2.1.4",
      "model_name": "LayoutModel",
      "state": {
       "_model_module_version": "~2.1.4",
       "_view_module_version": "~2.1.4"
      }
     },
     "9c25e187e6e14e19bde36c88eac4c415": {
      "model_module": "jupyter-js-widgets",
      "model_module_version": "~2.1.4",
      "model_name": "HBoxModel",
      "state": {
       "_model_module_version": "~2.1.4",
       "_view_module_version": "~2.1.4",
       "children": [
        "IPY_MODEL_e3e9776caae1411db4dcac4e2ade0158",
        "IPY_MODEL_fe708750dc3f46989f6eb93c47dc8931"
       ],
       "layout": "IPY_MODEL_4f9e907737f54a6bbde32b7fa7697c3b"
      }
     },
     "9c6fe9a9a0444a1ca0e2d2700a8c9f16": {
      "model_module": "jupyter-js-widgets",
      "model_module_version": "~2.1.4",
      "model_name": "HBoxModel",
      "state": {
       "_model_module_version": "~2.1.4",
       "_view_module_version": "~2.1.4",
       "children": [
        "IPY_MODEL_f34890058b3e4463954495d2f63b913d",
        "IPY_MODEL_ae4ffc67c0114e2db9f90db4730bcdac"
       ],
       "layout": "IPY_MODEL_c675678158014657982ef31ec1d9ae05"
      }
     },
     "9c8bb3b3ebd94b3fa8517b10a31bf907": {
      "model_module": "jupyter-js-widgets",
      "model_module_version": "~2.1.4",
      "model_name": "LayoutModel",
      "state": {
       "_model_module_version": "~2.1.4",
       "_view_module_version": "~2.1.4"
      }
     },
     "9d0bb1a14b2341c5b472de6e206dbc6d": {
      "model_module": "jupyter-js-widgets",
      "model_module_version": "~2.1.4",
      "model_name": "LayoutModel",
      "state": {
       "_model_module_version": "~2.1.4",
       "_view_module_version": "~2.1.4"
      }
     },
     "9d404a1e0bf0440b8cc730dd861783a2": {
      "model_module": "jupyter-js-widgets",
      "model_module_version": "~2.1.4",
      "model_name": "LayoutModel",
      "state": {
       "_model_module_version": "~2.1.4",
       "_view_module_version": "~2.1.4"
      }
     },
     "9eeadc35c96c4013838180585708542f": {
      "model_module": "jupyter-js-widgets",
      "model_module_version": "~2.1.4",
      "model_name": "HTMLModel",
      "state": {
       "_model_module_version": "~2.1.4",
       "_view_module_version": "~2.1.4",
       "layout": "IPY_MODEL_5319f34b1f3c484eba8c7f61e0c66a13",
       "value": "100% 209/209 [00:01&lt;00:00, 149.02it/s]"
      }
     },
     "9f3962f908634c7cbcf17b2af18c0bfa": {
      "model_module": "jupyter-js-widgets",
      "model_module_version": "~2.1.4",
      "model_name": "ProgressModel",
      "state": {
       "_model_module_version": "~2.1.4",
       "_view_module_version": "~2.1.4",
       "bar_style": "success",
       "description": "Processing Records: ",
       "layout": "IPY_MODEL_a724f98ce8f64e65be63f71f7c2e6373",
       "max": 7470,
       "style": "IPY_MODEL_b875d596f2f846fc868540c005e9d86b",
       "value": 7470
      }
     },
     "a5b29b2db9614adf8e29406f81ec56c4": {
      "model_module": "jupyter-js-widgets",
      "model_module_version": "~2.1.4",
      "model_name": "LayoutModel",
      "state": {
       "_model_module_version": "~2.1.4",
       "_view_module_version": "~2.1.4"
      }
     },
     "a714b8c779244a72966defc6702260e2": {
      "model_module": "jupyter-js-widgets",
      "model_module_version": "~2.1.4",
      "model_name": "HBoxModel",
      "state": {
       "_model_module_version": "~2.1.4",
       "_view_module_version": "~2.1.4",
       "children": [
        "IPY_MODEL_d1107c9faa7140b2a6fc2014e9376f5b",
        "IPY_MODEL_55a99e5d4d4948308184865d850e4f1b"
       ],
       "layout": "IPY_MODEL_6f1b9458aee6474c85e85bbc909d7933"
      }
     },
     "a724f98ce8f64e65be63f71f7c2e6373": {
      "model_module": "jupyter-js-widgets",
      "model_module_version": "~2.1.4",
      "model_name": "LayoutModel",
      "state": {
       "_model_module_version": "~2.1.4",
       "_view_module_version": "~2.1.4"
      }
     },
     "a88cef91cabf41d193a249d5e097ac1e": {
      "model_module": "jupyter-js-widgets",
      "model_module_version": "~2.1.4",
      "model_name": "ProgressStyleModel",
      "state": {
       "_model_module_version": "~2.1.4",
       "_view_module_version": "~2.1.4"
      }
     },
     "a938c17ea1cb447ba67a31abfbeb5168": {
      "model_module": "jupyter-js-widgets",
      "model_module_version": "~2.1.4",
      "model_name": "LayoutModel",
      "state": {
       "_model_module_version": "~2.1.4",
       "_view_module_version": "~2.1.4"
      }
     },
     "aa280070030c44588a00a676b9f4e470": {
      "model_module": "jupyter-js-widgets",
      "model_module_version": "~2.1.4",
      "model_name": "HTMLModel",
      "state": {
       "_model_module_version": "~2.1.4",
       "_view_module_version": "~2.1.4",
       "layout": "IPY_MODEL_fca5831a53814f8882befb565874b1e5",
       "value": "100% 7470/7470 [00:00&lt;00:00, 16662.76it/s]"
      }
     },
     "ab2946160be54c1aa8fc903657c247a2": {
      "model_module": "jupyter-js-widgets",
      "model_module_version": "~2.1.4",
      "model_name": "HBoxModel",
      "state": {
       "_model_module_version": "~2.1.4",
       "_view_module_version": "~2.1.4",
       "children": [
        "IPY_MODEL_395471a338db4d99b51e08be8bdd24ac",
        "IPY_MODEL_5ab85e5b00404afab15c30498808ae09"
       ],
       "layout": "IPY_MODEL_9d0bb1a14b2341c5b472de6e206dbc6d"
      }
     },
     "ababce75968942e78e9d7a6914264e93": {
      "model_module": "jupyter-js-widgets",
      "model_module_version": "~2.1.4",
      "model_name": "ProgressStyleModel",
      "state": {
       "_model_module_version": "~2.1.4",
       "_view_module_version": "~2.1.4"
      }
     },
     "ae12b1d2493d4eed904dd54345ded159": {
      "model_module": "jupyter-js-widgets",
      "model_module_version": "~2.1.4",
      "model_name": "ProgressStyleModel",
      "state": {
       "_model_module_version": "~2.1.4",
       "_view_module_version": "~2.1.4"
      }
     },
     "ae4ffc67c0114e2db9f90db4730bcdac": {
      "model_module": "jupyter-js-widgets",
      "model_module_version": "~2.1.4",
      "model_name": "HTMLModel",
      "state": {
       "_model_module_version": "~2.1.4",
       "_view_module_version": "~2.1.4",
       "layout": "IPY_MODEL_22497f053f17457da62d132964eeb362",
       "value": "100% 249/249 [01:45&lt;00:00,  3.39it/s]"
      }
     },
     "af89977456f24721a1a2098e9ac0264c": {
      "model_module": "jupyter-js-widgets",
      "model_module_version": "~2.1.4",
      "model_name": "LayoutModel",
      "state": {
       "_model_module_version": "~2.1.4",
       "_view_module_version": "~2.1.4"
      }
     },
     "b073cc314d664b6c8bbb94e41c759add": {
      "model_module": "jupyter-js-widgets",
      "model_module_version": "~2.1.4",
      "model_name": "ProgressModel",
      "state": {
       "_model_module_version": "~2.1.4",
       "_view_module_version": "~2.1.4",
       "bar_style": "success",
       "description": "Cropping Images: ",
       "layout": "IPY_MODEL_13a2df08384c4498abaf42503fece7e5",
       "max": 1500,
       "style": "IPY_MODEL_cf53c00f0ce54aaeacbc79675f8047cf",
       "value": 1500
      }
     },
     "b10eeae816f34c918aa6b4deba69e08f": {
      "model_module": "jupyter-js-widgets",
      "model_module_version": "~2.1.4",
      "model_name": "ProgressStyleModel",
      "state": {
       "_model_module_version": "~2.1.4",
       "_view_module_version": "~2.1.4"
      }
     },
     "b14af4bd00024811bf2393e86f8ceb74": {
      "model_module": "jupyter-js-widgets",
      "model_module_version": "~2.1.4",
      "model_name": "LayoutModel",
      "state": {
       "_model_module_version": "~2.1.4",
       "_view_module_version": "~2.1.4"
      }
     },
     "b3f2cddb0e7743c19ad7e6b738ee8377": {
      "model_module": "jupyter-js-widgets",
      "model_module_version": "~2.1.4",
      "model_name": "ProgressStyleModel",
      "state": {
       "_model_module_version": "~2.1.4",
       "_view_module_version": "~2.1.4"
      }
     },
     "b6b339270049469fb1e99677b6406d98": {
      "model_module": "jupyter-js-widgets",
      "model_module_version": "~2.1.4",
      "model_name": "ProgressStyleModel",
      "state": {
       "_model_module_version": "~2.1.4",
       "_view_module_version": "~2.1.4"
      }
     },
     "b746d0496941492d8c545aa9f4af1964": {
      "model_module": "jupyter-js-widgets",
      "model_module_version": "~2.1.4",
      "model_name": "HBoxModel",
      "state": {
       "_model_module_version": "~2.1.4",
       "_view_module_version": "~2.1.4",
       "children": [
        "IPY_MODEL_0e5e8499020b44d4a7febe51321fd5cf",
        "IPY_MODEL_2efa02bbf5144c0abfc4c573dcf5c967"
       ],
       "layout": "IPY_MODEL_17c9ae703a314244908ea499956d3ed0"
      }
     },
     "b875d596f2f846fc868540c005e9d86b": {
      "model_module": "jupyter-js-widgets",
      "model_module_version": "~2.1.4",
      "model_name": "ProgressStyleModel",
      "state": {
       "_model_module_version": "~2.1.4",
       "_view_module_version": "~2.1.4"
      }
     },
     "bdd7c956660742a5ac164e785759b45d": {
      "model_module": "jupyter-js-widgets",
      "model_module_version": "~2.1.4",
      "model_name": "LayoutModel",
      "state": {
       "_model_module_version": "~2.1.4",
       "_view_module_version": "~2.1.4"
      }
     },
     "be5d0979d0764251bacc0db20f134051": {
      "model_module": "jupyter-js-widgets",
      "model_module_version": "~2.1.4",
      "model_name": "LayoutModel",
      "state": {
       "_model_module_version": "~2.1.4",
       "_view_module_version": "~2.1.4"
      }
     },
     "be84a9c780d74b73b796e8bba880f615": {
      "model_module": "jupyter-js-widgets",
      "model_module_version": "~2.1.4",
      "model_name": "ProgressStyleModel",
      "state": {
       "_model_module_version": "~2.1.4",
       "_view_module_version": "~2.1.4"
      }
     },
     "c00a9bd6219341c8bae6d41dbc44349f": {
      "model_module": "jupyter-js-widgets",
      "model_module_version": "~2.1.4",
      "model_name": "LayoutModel",
      "state": {
       "_model_module_version": "~2.1.4",
       "_view_module_version": "~2.1.4"
      }
     },
     "c4488851f16c45abadb6c250f58e5b22": {
      "model_module": "jupyter-js-widgets",
      "model_module_version": "~2.1.4",
      "model_name": "ProgressModel",
      "state": {
       "_model_module_version": "~2.1.4",
       "_view_module_version": "~2.1.4",
       "bar_style": "success",
       "description": "Cropping Images: ",
       "layout": "IPY_MODEL_17da03e224e14053abec76ab9956ab52",
       "max": 1500,
       "style": "IPY_MODEL_d734fdcceba449d6852ef0eb3f68ed29",
       "value": 1500
      }
     },
     "c675678158014657982ef31ec1d9ae05": {
      "model_module": "jupyter-js-widgets",
      "model_module_version": "~2.1.4",
      "model_name": "LayoutModel",
      "state": {
       "_model_module_version": "~2.1.4",
       "_view_module_version": "~2.1.4"
      }
     },
     "c73b1f79283647ffb8859fc2b3b338a6": {
      "model_module": "jupyter-js-widgets",
      "model_module_version": "~2.1.4",
      "model_name": "HBoxModel",
      "state": {
       "_model_module_version": "~2.1.4",
       "_view_module_version": "~2.1.4",
       "children": [
        "IPY_MODEL_f81a641f68ab47499195c3b7933c68c6",
        "IPY_MODEL_4d34e2e6efc944a0ab63970b6e4c2c4c"
       ],
       "layout": "IPY_MODEL_2cf7880f2d5b45cfab3619055f37339a"
      }
     },
     "c78dcb4e52cb4935abbf65956b71a273": {
      "model_module": "jupyter-js-widgets",
      "model_module_version": "~2.1.4",
      "model_name": "LayoutModel",
      "state": {
       "_model_module_version": "~2.1.4",
       "_view_module_version": "~2.1.4"
      }
     },
     "c7bedcc929574f8ebedb52e2ce1f3fd6": {
      "model_module": "jupyter-js-widgets",
      "model_module_version": "~2.1.4",
      "model_name": "LayoutModel",
      "state": {
       "_model_module_version": "~2.1.4",
       "_view_module_version": "~2.1.4"
      }
     },
     "c9bcc902237346cc8a0853d38c6dad92": {
      "model_module": "jupyter-js-widgets",
      "model_module_version": "~2.1.4",
      "model_name": "LayoutModel",
      "state": {
       "_model_module_version": "~2.1.4",
       "_view_module_version": "~2.1.4"
      }
     },
     "cb0f3df84713472186db92fe8a8b22a2": {
      "model_module": "jupyter-js-widgets",
      "model_module_version": "~2.1.4",
      "model_name": "ProgressStyleModel",
      "state": {
       "_model_module_version": "~2.1.4",
       "_view_module_version": "~2.1.4"
      }
     },
     "cc5974d4517b4c22b5a66baf83751a5b": {
      "model_module": "jupyter-js-widgets",
      "model_module_version": "~2.1.4",
      "model_name": "LayoutModel",
      "state": {
       "_model_module_version": "~2.1.4",
       "_view_module_version": "~2.1.4"
      }
     },
     "cc843bb31d784ec3b44b143806069d49": {
      "model_module": "jupyter-js-widgets",
      "model_module_version": "~2.1.4",
      "model_name": "ProgressStyleModel",
      "state": {
       "_model_module_version": "~2.1.4",
       "_view_module_version": "~2.1.4"
      }
     },
     "ccbd3bc63a2b411c93b82e214cc7981d": {
      "model_module": "jupyter-js-widgets",
      "model_module_version": "~2.1.4",
      "model_name": "HBoxModel",
      "state": {
       "_model_module_version": "~2.1.4",
       "_view_module_version": "~2.1.4",
       "children": [
        "IPY_MODEL_67628954cd184941a5703e30a57a8056",
        "IPY_MODEL_594d33b6556948d3b42334f63dc9ae2e"
       ],
       "layout": "IPY_MODEL_d637e081ebfb4491951d64c638ad934c"
      }
     },
     "cefd0f2e96e940e49ba5a855521e4685": {
      "model_module": "jupyter-js-widgets",
      "model_module_version": "~2.1.4",
      "model_name": "ProgressStyleModel",
      "state": {
       "_model_module_version": "~2.1.4",
       "_view_module_version": "~2.1.4"
      }
     },
     "cf53c00f0ce54aaeacbc79675f8047cf": {
      "model_module": "jupyter-js-widgets",
      "model_module_version": "~2.1.4",
      "model_name": "ProgressStyleModel",
      "state": {
       "_model_module_version": "~2.1.4",
       "_view_module_version": "~2.1.4"
      }
     },
     "d0239278cb6e494780b6c0572c7a2c1d": {
      "model_module": "jupyter-js-widgets",
      "model_module_version": "~2.1.4",
      "model_name": "LayoutModel",
      "state": {
       "_model_module_version": "~2.1.4",
       "_view_module_version": "~2.1.4"
      }
     },
     "d1107c9faa7140b2a6fc2014e9376f5b": {
      "model_module": "jupyter-js-widgets",
      "model_module_version": "~2.1.4",
      "model_name": "ProgressModel",
      "state": {
       "_model_module_version": "~2.1.4",
       "_view_module_version": "~2.1.4",
       "bar_style": "success",
       "description": "Preparing Images: ",
       "layout": "IPY_MODEL_b14af4bd00024811bf2393e86f8ceb74",
       "max": 1500,
       "style": "IPY_MODEL_cb0f3df84713472186db92fe8a8b22a2",
       "value": 1500
      }
     },
     "d29e1aa4ba6c4c6c8d6542d790142b11": {
      "model_module": "jupyter-js-widgets",
      "model_module_version": "~2.1.4",
      "model_name": "HTMLModel",
      "state": {
       "_model_module_version": "~2.1.4",
       "_view_module_version": "~2.1.4",
       "layout": "IPY_MODEL_118a151767c14546ab311a8b506cbbb5",
       "value": "100% 1500/1500 [00:12&lt;00:00, 115.87it/s]"
      }
     },
     "d3184acd529c4d1c8fe7e85ed4fb0722": {
      "model_module": "jupyter-js-widgets",
      "model_module_version": "~2.1.4",
      "model_name": "LayoutModel",
      "state": {
       "_model_module_version": "~2.1.4",
       "_view_module_version": "~2.1.4"
      }
     },
     "d31b11c64d9a42ff82e12c06e28a1c29": {
      "model_module": "jupyter-js-widgets",
      "model_module_version": "~2.1.4",
      "model_name": "LayoutModel",
      "state": {
       "_model_module_version": "~2.1.4",
       "_view_module_version": "~2.1.4"
      }
     },
     "d4de89cd57a84a0c8fb309a01c8adbf6": {
      "model_module": "jupyter-js-widgets",
      "model_module_version": "~2.1.4",
      "model_name": "LayoutModel",
      "state": {
       "_model_module_version": "~2.1.4",
       "_view_module_version": "~2.1.4"
      }
     },
     "d637e081ebfb4491951d64c638ad934c": {
      "model_module": "jupyter-js-widgets",
      "model_module_version": "~2.1.4",
      "model_name": "LayoutModel",
      "state": {
       "_model_module_version": "~2.1.4",
       "_view_module_version": "~2.1.4"
      }
     },
     "d6491736618e49cd8b82f9d00fdfcd57": {
      "model_module": "jupyter-js-widgets",
      "model_module_version": "~2.1.4",
      "model_name": "LayoutModel",
      "state": {
       "_model_module_version": "~2.1.4",
       "_view_module_version": "~2.1.4"
      }
     },
     "d734fdcceba449d6852ef0eb3f68ed29": {
      "model_module": "jupyter-js-widgets",
      "model_module_version": "~2.1.4",
      "model_name": "ProgressStyleModel",
      "state": {
       "_model_module_version": "~2.1.4",
       "_view_module_version": "~2.1.4"
      }
     },
     "d8fe035c7eb94cc4af7b5d755b228b8d": {
      "model_module": "jupyter-js-widgets",
      "model_module_version": "~2.1.4",
      "model_name": "ProgressStyleModel",
      "state": {
       "_model_module_version": "~2.1.4",
       "_view_module_version": "~2.1.4"
      }
     },
     "d95c6be5aadc42af9e8105956e583bc5": {
      "model_module": "jupyter-js-widgets",
      "model_module_version": "~2.1.4",
      "model_name": "LayoutModel",
      "state": {
       "_model_module_version": "~2.1.4",
       "_view_module_version": "~2.1.4"
      }
     },
     "da699ad5bae24933b4d59b07050fada1": {
      "model_module": "jupyter-js-widgets",
      "model_module_version": "~2.1.4",
      "model_name": "ProgressModel",
      "state": {
       "_model_module_version": "~2.1.4",
       "_view_module_version": "~2.1.4",
       "bar_style": "success",
       "description": "Obtaining Images: ",
       "layout": "IPY_MODEL_37547adb455840a3a5e3f3e9903ba638",
       "max": 1500,
       "style": "IPY_MODEL_ababce75968942e78e9d7a6914264e93",
       "value": 1500
      }
     },
     "daedbfee27f94098b1df6b41379455d1": {
      "model_module": "jupyter-js-widgets",
      "model_module_version": "~2.1.4",
      "model_name": "LayoutModel",
      "state": {
       "_model_module_version": "~2.1.4",
       "_view_module_version": "~2.1.4"
      }
     },
     "dc40e205219a4a5db2fcd6d81bcdfe54": {
      "model_module": "jupyter-js-widgets",
      "model_module_version": "~2.1.4",
      "model_name": "LayoutModel",
      "state": {
       "_model_module_version": "~2.1.4",
       "_view_module_version": "~2.1.4"
      }
     },
     "dd544caf9a8041028f01984269357325": {
      "model_module": "jupyter-js-widgets",
      "model_module_version": "~2.1.4",
      "model_name": "ProgressStyleModel",
      "state": {
       "_model_module_version": "~2.1.4",
       "_view_module_version": "~2.1.4"
      }
     },
     "e0ea8306869b4c3f8a0c43f4442c7138": {
      "model_module": "jupyter-js-widgets",
      "model_module_version": "~2.1.4",
      "model_name": "ProgressModel",
      "state": {
       "_model_module_version": "~2.1.4",
       "_view_module_version": "~2.1.4",
       "bar_style": "success",
       "description": "Logo Analysis: ",
       "layout": "IPY_MODEL_29d18f05ba914caea8a88a146fd3f419",
       "max": 1500,
       "style": "IPY_MODEL_2349b108c8f840bd8ef13369ec2c2ec4",
       "value": 1500
      }
     },
     "e241c2443acd4b628c1bddfb6cfb0ecd": {
      "model_module": "jupyter-js-widgets",
      "model_module_version": "~2.1.4",
      "model_name": "LayoutModel",
      "state": {
       "_model_module_version": "~2.1.4",
       "_view_module_version": "~2.1.4"
      }
     },
     "e27accdffabd4cdc8127c2359136d3fb": {
      "model_module": "jupyter-js-widgets",
      "model_module_version": "~2.1.4",
      "model_name": "HBoxModel",
      "state": {
       "_model_module_version": "~2.1.4",
       "_view_module_version": "~2.1.4",
       "children": [
        "IPY_MODEL_582204e355f7422eb2ee337e55915b9e",
        "IPY_MODEL_f505ff037d1744178efec8fff6f944e9"
       ],
       "layout": "IPY_MODEL_0b06363905b0403cb280060c2d1a5231"
      }
     },
     "e3e9776caae1411db4dcac4e2ade0158": {
      "model_module": "jupyter-js-widgets",
      "model_module_version": "~2.1.4",
      "model_name": "ProgressModel",
      "state": {
       "_model_module_version": "~2.1.4",
       "_view_module_version": "~2.1.4",
       "bar_style": "success",
       "description": "Processing Records: ",
       "layout": "IPY_MODEL_f065bdebbf174469be9d9c9b9fd844e9",
       "max": 7470,
       "style": "IPY_MODEL_cc843bb31d784ec3b44b143806069d49",
       "value": 7470
      }
     },
     "e420e089b76d4e1182b2790368bb529c": {
      "model_module": "jupyter-js-widgets",
      "model_module_version": "~2.1.4",
      "model_name": "HBoxModel",
      "state": {
       "_model_module_version": "~2.1.4",
       "_view_module_version": "~2.1.4",
       "children": [
        "IPY_MODEL_16ff1fe572b34a1f8c949952ec8488a5",
        "IPY_MODEL_267b6bb03fe940599ca8f03264197f53"
       ],
       "layout": "IPY_MODEL_dc40e205219a4a5db2fcd6d81bcdfe54"
      }
     },
     "e84aede08dc448419fd29589ecb8ffe6": {
      "model_module": "jupyter-js-widgets",
      "model_module_version": "~2.1.4",
      "model_name": "LayoutModel",
      "state": {
       "_model_module_version": "~2.1.4",
       "_view_module_version": "~2.1.4"
      }
     },
     "e8b6a6c7031e4d4bae3daf4dacaa373b": {
      "model_module": "jupyter-js-widgets",
      "model_module_version": "~2.1.4",
      "model_name": "ProgressStyleModel",
      "state": {
       "_model_module_version": "~2.1.4",
       "_view_module_version": "~2.1.4"
      }
     },
     "ebd9005a4f7d439ba76f70c5173d9ea3": {
      "model_module": "jupyter-js-widgets",
      "model_module_version": "~2.1.4",
      "model_name": "HBoxModel",
      "state": {
       "_model_module_version": "~2.1.4",
       "_view_module_version": "~2.1.4",
       "children": [
        "IPY_MODEL_0400406a0d2348cabc0571fa92ea35c7",
        "IPY_MODEL_3c565507229b4ee7bd9466a9458d49fd"
       ],
       "layout": "IPY_MODEL_ed1a190090de454bb4b71baa80419322"
      }
     },
     "ed1a190090de454bb4b71baa80419322": {
      "model_module": "jupyter-js-widgets",
      "model_module_version": "~2.1.4",
      "model_name": "LayoutModel",
      "state": {
       "_model_module_version": "~2.1.4",
       "_view_module_version": "~2.1.4"
      }
     },
     "ed839ca7989342c38c67173188a1fe7b": {
      "model_module": "jupyter-js-widgets",
      "model_module_version": "~2.1.4",
      "model_name": "LayoutModel",
      "state": {
       "_model_module_version": "~2.1.4",
       "_view_module_version": "~2.1.4"
      }
     },
     "ef325ee0050f40dea3d1100d617faa73": {
      "model_module": "jupyter-js-widgets",
      "model_module_version": "~2.1.4",
      "model_name": "HTMLModel",
      "state": {
       "_model_module_version": "~2.1.4",
       "_view_module_version": "~2.1.4",
       "layout": "IPY_MODEL_57f1939a9ee84aabaa88ed19fb3a67eb",
       "value": "100% 7470/7470 [00:00&lt;00:00, 15963.75it/s]"
      }
     },
     "ef3d876731a54fabbf6e1d4f14681e37": {
      "model_module": "jupyter-js-widgets",
      "model_module_version": "~2.1.4",
      "model_name": "LayoutModel",
      "state": {
       "_model_module_version": "~2.1.4",
       "_view_module_version": "~2.1.4"
      }
     },
     "f062908a7b88487a8beedede6d98902e": {
      "model_module": "jupyter-js-widgets",
      "model_module_version": "~2.1.4",
      "model_name": "ProgressModel",
      "state": {
       "_model_module_version": "~2.1.4",
       "_view_module_version": "~2.1.4",
       "bar_style": "success",
       "description": "Obtaining Images: ",
       "layout": "IPY_MODEL_9d404a1e0bf0440b8cc730dd861783a2",
       "max": 7470,
       "style": "IPY_MODEL_77168f4f39994f91a5f6b339a9f65c99",
       "value": 7470
      }
     },
     "f065bdebbf174469be9d9c9b9fd844e9": {
      "model_module": "jupyter-js-widgets",
      "model_module_version": "~2.1.4",
      "model_name": "LayoutModel",
      "state": {
       "_model_module_version": "~2.1.4",
       "_view_module_version": "~2.1.4"
      }
     },
     "f34890058b3e4463954495d2f63b913d": {
      "model_module": "jupyter-js-widgets",
      "model_module_version": "~2.1.4",
      "model_name": "ProgressModel",
      "state": {
       "_model_module_version": "~2.1.4",
       "_view_module_version": "~2.1.4",
       "bar_style": "success",
       "description": "Obtaining Records: ",
       "layout": "IPY_MODEL_1c744f75e89244999091a0fbf6ef72f9",
       "max": 249,
       "style": "IPY_MODEL_55ef74e603df42a4bcbf249dc4c4599d",
       "value": 249
      }
     },
     "f3ae6ba3e5ba4621bcd5b91ecab1f3cb": {
      "model_module": "jupyter-js-widgets",
      "model_module_version": "~2.1.4",
      "model_name": "ProgressModel",
      "state": {
       "_model_module_version": "~2.1.4",
       "_view_module_version": "~2.1.4",
       "bar_style": "success",
       "description": "Preparing Images: ",
       "layout": "IPY_MODEL_d6491736618e49cd8b82f9d00fdfcd57",
       "max": 1500,
       "style": "IPY_MODEL_b10eeae816f34c918aa6b4deba69e08f",
       "value": 1500
      }
     },
     "f505ff037d1744178efec8fff6f944e9": {
      "model_module": "jupyter-js-widgets",
      "model_module_version": "~2.1.4",
      "model_name": "HTMLModel",
      "state": {
       "_model_module_version": "~2.1.4",
       "_view_module_version": "~2.1.4",
       "layout": "IPY_MODEL_daedbfee27f94098b1df6b41379455d1",
       "value": "100% 2/2 [00:15&lt;00:00,  6.01s/it]"
      }
     },
     "f5dec2375b0249918a924d6decd73949": {
      "model_module": "jupyter-js-widgets",
      "model_module_version": "~2.1.4",
      "model_name": "LayoutModel",
      "state": {
       "_model_module_version": "~2.1.4",
       "_view_module_version": "~2.1.4"
      }
     },
     "f81a641f68ab47499195c3b7933c68c6": {
      "model_module": "jupyter-js-widgets",
      "model_module_version": "~2.1.4",
      "model_name": "ProgressModel",
      "state": {
       "_model_module_version": "~2.1.4",
       "_view_module_version": "~2.1.4",
       "bar_style": "success",
       "description": "Generating ndarrays: ",
       "layout": "IPY_MODEL_d3184acd529c4d1c8fe7e85ed4fb0722",
       "max": 2,
       "style": "IPY_MODEL_4a50ac002cb4437d902a363c6b21ef47",
       "value": 2
      }
     },
     "f9651a067c8b4a1697bf210b87c3857b": {
      "model_module": "jupyter-js-widgets",
      "model_module_version": "~2.1.4",
      "model_name": "ProgressModel",
      "state": {
       "_model_module_version": "~2.1.4",
       "_view_module_version": "~2.1.4",
       "bar_style": "success",
       "description": "Grayscale Analysis: ",
       "layout": "IPY_MODEL_cc5974d4517b4c22b5a66baf83751a5b",
       "max": 1500,
       "style": "IPY_MODEL_dd544caf9a8041028f01984269357325",
       "value": 1500
      }
     },
     "fb24e6afe10c47759b1c1b7d0c1fd4e9": {
      "model_module": "jupyter-js-widgets",
      "model_module_version": "~2.1.4",
      "model_name": "HTMLModel",
      "state": {
       "_model_module_version": "~2.1.4",
       "_view_module_version": "~2.1.4",
       "layout": "IPY_MODEL_2599693520de405294016afb57f60fb0",
       "value": "100% 1500/1500 [00:17&lt;00:00, 85.56it/s]"
      }
     },
     "fb9068af682e48e187365f11c5e1a2b8": {
      "model_module": "jupyter-js-widgets",
      "model_module_version": "~2.1.4",
      "model_name": "HBoxModel",
      "state": {
       "_model_module_version": "~2.1.4",
       "_view_module_version": "~2.1.4",
       "children": [
        "IPY_MODEL_f3ae6ba3e5ba4621bcd5b91ecab1f3cb",
        "IPY_MODEL_4a3103aed8a4418990da37acf5e053e3"
       ],
       "layout": "IPY_MODEL_c78dcb4e52cb4935abbf65956b71a273"
      }
     },
     "fbab0096776b4c42ab1f5321efe82216": {
      "model_module": "jupyter-js-widgets",
      "model_module_version": "~2.1.4",
      "model_name": "LayoutModel",
      "state": {
       "_model_module_version": "~2.1.4",
       "_view_module_version": "~2.1.4"
      }
     },
     "fca5831a53814f8882befb565874b1e5": {
      "model_module": "jupyter-js-widgets",
      "model_module_version": "~2.1.4",
      "model_name": "LayoutModel",
      "state": {
       "_model_module_version": "~2.1.4",
       "_view_module_version": "~2.1.4"
      }
     },
     "fd3d9566e61b4afca2303c6c8357a6f2": {
      "model_module": "jupyter-js-widgets",
      "model_module_version": "~2.1.4",
      "model_name": "LayoutModel",
      "state": {
       "_model_module_version": "~2.1.4",
       "_view_module_version": "~2.1.4"
      }
     },
     "fe06c4ed8d974eed83c846f54002064e": {
      "model_module": "jupyter-js-widgets",
      "model_module_version": "~2.1.4",
      "model_name": "ProgressModel",
      "state": {
       "_model_module_version": "~2.1.4",
       "_view_module_version": "~2.1.4",
       "bar_style": "success",
       "description": "Cropping Images: ",
       "layout": "IPY_MODEL_4bd8c536e59c48d7bed78e0bb8bbe3a6",
       "max": 209,
       "style": "IPY_MODEL_069e2615258a4da78594035ff0833875",
       "value": 209
      }
     },
     "fe6a5248a8b044c0975d2700736d76bc": {
      "model_module": "jupyter-js-widgets",
      "model_module_version": "~2.1.4",
      "model_name": "HBoxModel",
      "state": {
       "_model_module_version": "~2.1.4",
       "_view_module_version": "~2.1.4",
       "children": [
        "IPY_MODEL_966d4c76bcfa447cbb31a3506974e59d",
        "IPY_MODEL_28a5b4610aa74f1885f71b7627760e1a"
       ],
       "layout": "IPY_MODEL_d0239278cb6e494780b6c0572c7a2c1d"
      }
     },
     "fe708750dc3f46989f6eb93c47dc8931": {
      "model_module": "jupyter-js-widgets",
      "model_module_version": "~2.1.4",
      "model_name": "HTMLModel",
      "state": {
       "_model_module_version": "~2.1.4",
       "_view_module_version": "~2.1.4",
       "layout": "IPY_MODEL_d31b11c64d9a42ff82e12c06e28a1c29",
       "value": "100% 7470/7470 [00:58&lt;00:00, 127.11it/s]"
      }
     }
    },
    "version_major": 1,
    "version_minor": 0
   }
  }
 },
 "nbformat": 4,
 "nbformat_minor": 1
}
