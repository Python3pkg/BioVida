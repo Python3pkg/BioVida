{
 "cells": [
  {
   "cell_type": "markdown",
   "metadata": {},
   "source": [
    "BioVida: Open-i\n",
    "========\n",
    "---"
   ]
  },
  {
   "cell_type": "markdown",
   "metadata": {},
   "source": [
    "[Open-i](https://openi.nlm.nih.gov) is an open access biomedical search engine provided by the US National Institutes of Health. The service grants programmatic access to its over 1.2 million images through a RESTful web API. BioVida provides an easy-to-use python interface for this web API, located in the ``images`` subpackage."
   ]
  },
  {
   "cell_type": "code",
   "execution_count": 1,
   "metadata": {},
   "outputs": [
    {
     "name": "stderr",
     "output_type": "stream",
     "text": [
      "Using Theano backend.\n"
     ]
    }
   ],
   "source": [
    "from biovida.images import OpeniInterface"
   ]
  },
  {
   "cell_type": "markdown",
   "metadata": {},
   "source": [
    "\n"
   ]
  },
  {
   "cell_type": "code",
   "execution_count": 2,
   "metadata": {
    "collapsed": true
   },
   "outputs": [],
   "source": [
    "opi = OpeniInterface()"
   ]
  },
  {
   "cell_type": "markdown",
   "metadata": {
    "collapsed": true
   },
   "source": [
    "We start by creating an instance of the class. All BioVida interfaces accept at least two parameters: ``verbose`` and ``cache_path``. The first simply determines whether or not the class provides you with additional updates as the class works. The second refers to the location where will be stored (or *cached*) on your computer. If left to its default, data will be cached in a directory entitled *biovida_cache* in your home directory. For most use cases, this should suffice."
   ]
  },
  {
   "cell_type": "markdown",
   "metadata": {},
   "source": [
    "---\n",
    "\n",
    "### Searching"
   ]
  },
  {
   "cell_type": "markdown",
   "metadata": {},
   "source": [
    "To search the Open-i database, we can use the ``OpeniInterface``'s ``search`` method. To explore valid values that can be passed to ``search``, we can use ``options()``."
   ]
  },
  {
   "cell_type": "code",
   "execution_count": 3,
   "metadata": {},
   "outputs": [
    {
     "name": "stdout",
     "output_type": "stream",
     "text": [
      "  - 'article_type'\n",
      "  - 'collection'\n",
      "  - 'exclusions'\n",
      "  - 'fields'\n",
      "  - 'image_type'\n",
      "  - 'rankby'\n",
      "  - 'specialties'\n",
      "  - 'subset'\n",
      "  - 'video'\n"
     ]
    }
   ],
   "source": [
    "opi.options()"
   ]
  },
  {
   "cell_type": "markdown",
   "metadata": {
    "collapsed": true
   },
   "source": [
    "The code above enumerates all of the parameters, apart from a specific ``query`` string, that can be passed to ``search()``. Additionally, ``options()`` can be used to investigate the valid values for any one of these parameters."
   ]
  },
  {
   "cell_type": "code",
   "execution_count": 4,
   "metadata": {},
   "outputs": [
    {
     "name": "stdout",
     "output_type": "stream",
     "text": [
      "  - 'history_of_medicine'\n",
      "  - 'indiana_u_xray'\n",
      "  - 'medpix'\n",
      "  - 'pubmed'\n",
      "  - 'usc_anatomy'\n"
     ]
    }
   ],
   "source": [
    "opi.options('collection')"
   ]
  },
  {
   "cell_type": "code",
   "execution_count": 5,
   "metadata": {},
   "outputs": [
    {
     "name": "stdout",
     "output_type": "stream",
     "text": [
      "  - 'ct'\n",
      "  - 'graphic'\n",
      "  - 'microscopy'\n",
      "  - 'mri'\n",
      "  - 'pet'\n",
      "  - 'photograph'\n",
      "  - 'ultrasound'\n",
      "  - 'x_ray'\n"
     ]
    }
   ],
   "source": [
    "opi.options('image_type')"
   ]
  },
  {
   "cell_type": "markdown",
   "metadata": {},
   "source": [
    "Let's go ahead and perform a search for X-ray and CT images of 'lung cancer' from the PubMed collection/database."
   ]
  },
  {
   "cell_type": "code",
   "execution_count": 6,
   "metadata": {},
   "outputs": [
    {
     "name": "stdout",
     "output_type": "stream",
     "text": [
      "\n",
      "Results Found: 8,531.\n"
     ]
    }
   ],
   "source": [
    "opi.search(query='lung cancer', image_type=('x_ray', 'ct'), collection='pubmed')"
   ]
  },
  {
   "cell_type": "markdown",
   "metadata": {},
   "source": [
    "---\n",
    "\n",
    "### Downloading Data"
   ]
  },
  {
   "cell_type": "markdown",
   "metadata": {},
   "source": [
    "Now that we've defined a search, we can easily download some, or all, of the results found.\n",
    "For the sake of expediency, let's limit the number of results we download to the first 1500."
   ]
  },
  {
   "cell_type": "code",
   "execution_count": 7,
   "metadata": {},
   "outputs": [
    {
     "name": "stdout",
     "output_type": "stream",
     "text": [
      "\n",
      "Number of Records to Download: 1,500 (chunk size: 30 records).\n"
     ]
    },
    {
     "data": {
      "application/vnd.jupyter.widget-view+json": {
       "model_id": "c13614b6d9b84f32a011c5eb54ef5748"
      }
     },
     "metadata": {},
     "output_type": "display_data"
    },
    {
     "name": "stdout",
     "output_type": "stream",
     "text": [
      "\n"
     ]
    },
    {
     "data": {
      "application/vnd.jupyter.widget-view+json": {
       "model_id": "b1ce40f2d13d40fdaeaa4b9b49cf921d"
      }
     },
     "metadata": {},
     "output_type": "display_data"
    },
    {
     "name": "stdout",
     "output_type": "stream",
     "text": [
      "\n"
     ]
    },
    {
     "data": {
      "application/vnd.jupyter.widget-view+json": {
       "model_id": "448f161309e14034a966e2084ed8e7f2"
      }
     },
     "metadata": {},
     "output_type": "display_data"
    },
    {
     "name": "stdout",
     "output_type": "stream",
     "text": [
      "\n"
     ]
    }
   ],
   "source": [
    "pull_df = opi.pull(download_limit=1500)"
   ]
  },
  {
   "cell_type": "markdown",
   "metadata": {},
   "source": [
    "The text information associated with images are referred to as 'records', which are downloaded in 'chunks' of no more than 30 at a time. <br>\n",
    "Images, unlike records, are downloaded 'one by one'. However, ``pull()`` will check the cache before downloading an image, in an effort to reduce redundant downloads."
   ]
  },
  {
   "cell_type": "markdown",
   "metadata": {},
   "source": [
    "The dataframe generated by ``pull()`` can be viewed using either ``opi.records_db``, or the ``pull_df`` used above to capture the output of ``pull()``. Both will be identical. We can also view an abbreviated dataframe, ``opi.records_db_short``, which has several (typically unneeded) columns removed. "
   ]
  },
  {
   "cell_type": "code",
   "execution_count": 8,
   "metadata": {
    "collapsed": true
   },
   "outputs": [],
   "source": [
    "import numpy as np\n",
    "def simplify_df(df):\n",
    "    \"\"\"This function simplifies dataframes\n",
    "    for the purposes of this tutorial.\"\"\"\n",
    "    data_frame = df.copy()\n",
    "#     for c in ('parsed_abstract', 'query'):\n",
    "#         data_frame[c] = data_frame[c].map(lambda x: str(x) if str(x) != 'nan' else x)\n",
    "    data_frame['cached_images_path'] = '/path/to/image'\n",
    "    return data_frame[0:5].replace({np.NaN: ''})"
   ]
  },
  {
   "cell_type": "code",
   "execution_count": 9,
   "metadata": {},
   "outputs": [
    {
     "data": {
      "text/html": [
       "<div>\n",
       "<table border=\"1\" class=\"dataframe\">\n",
       "  <thead>\n",
       "    <tr style=\"text-align: right;\">\n",
       "      <th></th>\n",
       "      <th>mesh_major</th>\n",
       "      <th>mesh_minor</th>\n",
       "      <th>problems</th>\n",
       "      <th>abstract</th>\n",
       "      <th>affiliate</th>\n",
       "      <th>article_type</th>\n",
       "      <th>authors</th>\n",
       "      <th>cc_license</th>\n",
       "      <th>doc_source</th>\n",
       "      <th>image_caption</th>\n",
       "      <th>...</th>\n",
       "      <th>image_problems_from_text</th>\n",
       "      <th>imaging_modality_from_text</th>\n",
       "      <th>parsed_abstract</th>\n",
       "      <th>sex</th>\n",
       "      <th>modality_full</th>\n",
       "      <th>image_id_short</th>\n",
       "      <th>query</th>\n",
       "      <th>pull_time</th>\n",
       "      <th>cached_images_path</th>\n",
       "      <th>download_success</th>\n",
       "    </tr>\n",
       "  </thead>\n",
       "  <tbody>\n",
       "    <tr>\n",
       "      <th>0</th>\n",
       "      <td></td>\n",
       "      <td></td>\n",
       "      <td>lung cancer</td>\n",
       "      <td>Lung cancer is one of the leading causes of ca...</td>\n",
       "      <td>Department of Nuclear Medicine and Molecular I...</td>\n",
       "      <td>other</td>\n",
       "      <td>Purandare NC, Rangarajan V</td>\n",
       "      <td>byncsa</td>\n",
       "      <td>PMC</td>\n",
       "      <td>(A-D) Nodal disease. Right upper paratracheal ...</td>\n",
       "      <td>...</td>\n",
       "      <td>(arrows, grids)</td>\n",
       "      <td>Computed Tomography (CT): chest</td>\n",
       "      <td></td>\n",
       "      <td>male</td>\n",
       "      <td>Computed Tomography (CT)</td>\n",
       "      <td>7</td>\n",
       "      <td>{'video': None, 'fields': None, 'subset': None...</td>\n",
       "      <td>2017-04-06 23:56:33.020284</td>\n",
       "      <td>/path/to/image</td>\n",
       "      <td>True</td>\n",
       "    </tr>\n",
       "    <tr>\n",
       "      <th>1</th>\n",
       "      <td></td>\n",
       "      <td></td>\n",
       "      <td>nsclc</td>\n",
       "      <td>Non-small cell lung cancer (NSCLC) accounts fo...</td>\n",
       "      <td>Cardiopulmonary Department, Sant'Andrea Hospit...</td>\n",
       "      <td>research_article</td>\n",
       "      <td>Pezzuto A, Piraino A, Mariotta S</td>\n",
       "      <td>by</td>\n",
       "      <td>PMC</td>\n",
       "      <td>Case 2: (A) CT scan showing the lung after sur...</td>\n",
       "      <td>...</td>\n",
       "      <td></td>\n",
       "      <td>Computed Tomography (CT): chest</td>\n",
       "      <td></td>\n",
       "      <td>female</td>\n",
       "      <td>Computed Tomography (CT)</td>\n",
       "      <td>2</td>\n",
       "      <td>{'video': None, 'fields': None, 'subset': None...</td>\n",
       "      <td>2017-04-06 23:56:33.020284</td>\n",
       "      <td>/path/to/image</td>\n",
       "      <td>True</td>\n",
       "    </tr>\n",
       "    <tr>\n",
       "      <th>2</th>\n",
       "      <td>(Adrenal Insufficiency/diagnosis*/drug therapy...</td>\n",
       "      <td>(Acute Disease, Adrenal Cortex Hormones/therap...</td>\n",
       "      <td>hypoxia;tachycardia</td>\n",
       "      <td>Background: Adrenal crisis after surgical pro...</td>\n",
       "      <td>Department of Orthopedic Surgery, Osaka Medica...</td>\n",
       "      <td>research_article</td>\n",
       "      <td>Naka N, Takenaka S, Nanno K, Moriguchi Y, Chun...</td>\n",
       "      <td>by</td>\n",
       "      <td>PMC</td>\n",
       "      <td>CT scan showing bilateral adrenal enlargement ...</td>\n",
       "      <td>...</td>\n",
       "      <td>(asterisks,)</td>\n",
       "      <td>Computed Tomography (CT): chest</td>\n",
       "      <td>{'conclusion': 'We describe a case of adrenal ...</td>\n",
       "      <td>male</td>\n",
       "      <td>Computed Tomography (CT)</td>\n",
       "      <td>1</td>\n",
       "      <td>{'video': None, 'fields': None, 'subset': None...</td>\n",
       "      <td>2017-04-06 23:56:33.020284</td>\n",
       "      <td>/path/to/image</td>\n",
       "      <td>True</td>\n",
       "    </tr>\n",
       "    <tr>\n",
       "      <th>3</th>\n",
       "      <td></td>\n",
       "      <td></td>\n",
       "      <td>small cell carcinoma of lung</td>\n",
       "      <td>Subcutaneous swelling as first clinical presen...</td>\n",
       "      <td>Department of Medicine.</td>\n",
       "      <td>case_report</td>\n",
       "      <td>Kumar S, Gupta A, Diwan SK, Bhake A</td>\n",
       "      <td></td>\n",
       "      <td>PMC</td>\n",
       "      <td>Computerized tomography of the chest showing p...</td>\n",
       "      <td>...</td>\n",
       "      <td></td>\n",
       "      <td>Computed Tomography (CT): chest</td>\n",
       "      <td></td>\n",
       "      <td>male</td>\n",
       "      <td>Computed Tomography (CT)</td>\n",
       "      <td>3</td>\n",
       "      <td>{'video': None, 'fields': None, 'subset': None...</td>\n",
       "      <td>2017-04-06 23:56:33.020284</td>\n",
       "      <td>/path/to/image</td>\n",
       "      <td>True</td>\n",
       "    </tr>\n",
       "    <tr>\n",
       "      <th>4</th>\n",
       "      <td>(Echocardiography/methods*, Lung/ultrasonograp...</td>\n",
       "      <td>(Aged, Humans, Incidental Findings, Male)</td>\n",
       "      <td>lung tumor</td>\n",
       "      <td>We present images of a rare case where a prima...</td>\n",
       "      <td>Department of Clinical Physiology and Nuclear ...</td>\n",
       "      <td>research_article</td>\n",
       "      <td>Dencker M, Cronberg C, Damm S, Valind S, Wadbo M</td>\n",
       "      <td>by</td>\n",
       "      <td>PMC</td>\n",
       "      <td>Display of CT-image. The arrow indicates the n...</td>\n",
       "      <td>...</td>\n",
       "      <td>(arrows,)</td>\n",
       "      <td>Computed Tomography (CT): chest</td>\n",
       "      <td></td>\n",
       "      <td>male</td>\n",
       "      <td>Computed Tomography (CT)</td>\n",
       "      <td>2</td>\n",
       "      <td>{'video': None, 'fields': None, 'subset': None...</td>\n",
       "      <td>2017-04-06 23:56:33.020284</td>\n",
       "      <td>/path/to/image</td>\n",
       "      <td>True</td>\n",
       "    </tr>\n",
       "  </tbody>\n",
       "</table>\n",
       "<p>5 rows × 38 columns</p>\n",
       "</div>"
      ],
      "text/plain": [
       "                                          mesh_major  \\\n",
       "0                                                      \n",
       "1                                                      \n",
       "2  (Adrenal Insufficiency/diagnosis*/drug therapy...   \n",
       "3                                                      \n",
       "4  (Echocardiography/methods*, Lung/ultrasonograp...   \n",
       "\n",
       "                                          mesh_minor  \\\n",
       "0                                                      \n",
       "1                                                      \n",
       "2  (Acute Disease, Adrenal Cortex Hormones/therap...   \n",
       "3                                                      \n",
       "4          (Aged, Humans, Incidental Findings, Male)   \n",
       "\n",
       "                       problems  \\\n",
       "0                   lung cancer   \n",
       "1                         nsclc   \n",
       "2           hypoxia;tachycardia   \n",
       "3  small cell carcinoma of lung   \n",
       "4                    lung tumor   \n",
       "\n",
       "                                            abstract  \\\n",
       "0  Lung cancer is one of the leading causes of ca...   \n",
       "1  Non-small cell lung cancer (NSCLC) accounts fo...   \n",
       "2   Background: Adrenal crisis after surgical pro...   \n",
       "3  Subcutaneous swelling as first clinical presen...   \n",
       "4  We present images of a rare case where a prima...   \n",
       "\n",
       "                                           affiliate      article_type  \\\n",
       "0  Department of Nuclear Medicine and Molecular I...             other   \n",
       "1  Cardiopulmonary Department, Sant'Andrea Hospit...  research_article   \n",
       "2  Department of Orthopedic Surgery, Osaka Medica...  research_article   \n",
       "3                            Department of Medicine.       case_report   \n",
       "4  Department of Clinical Physiology and Nuclear ...  research_article   \n",
       "\n",
       "                                             authors cc_license doc_source  \\\n",
       "0                         Purandare NC, Rangarajan V     byncsa        PMC   \n",
       "1                   Pezzuto A, Piraino A, Mariotta S         by        PMC   \n",
       "2  Naka N, Takenaka S, Nanno K, Moriguchi Y, Chun...         by        PMC   \n",
       "3                Kumar S, Gupta A, Diwan SK, Bhake A                   PMC   \n",
       "4   Dencker M, Cronberg C, Damm S, Valind S, Wadbo M         by        PMC   \n",
       "\n",
       "                                       image_caption       ...         \\\n",
       "0  (A-D) Nodal disease. Right upper paratracheal ...       ...          \n",
       "1  Case 2: (A) CT scan showing the lung after sur...       ...          \n",
       "2  CT scan showing bilateral adrenal enlargement ...       ...          \n",
       "3  Computerized tomography of the chest showing p...       ...          \n",
       "4  Display of CT-image. The arrow indicates the n...       ...          \n",
       "\n",
       "  image_problems_from_text       imaging_modality_from_text  \\\n",
       "0          (arrows, grids)  Computed Tomography (CT): chest   \n",
       "1                           Computed Tomography (CT): chest   \n",
       "2             (asterisks,)  Computed Tomography (CT): chest   \n",
       "3                           Computed Tomography (CT): chest   \n",
       "4                (arrows,)  Computed Tomography (CT): chest   \n",
       "\n",
       "                                     parsed_abstract     sex  \\\n",
       "0                                                       male   \n",
       "1                                                     female   \n",
       "2  {'conclusion': 'We describe a case of adrenal ...    male   \n",
       "3                                                       male   \n",
       "4                                                       male   \n",
       "\n",
       "              modality_full image_id_short  \\\n",
       "0  Computed Tomography (CT)              7   \n",
       "1  Computed Tomography (CT)              2   \n",
       "2  Computed Tomography (CT)              1   \n",
       "3  Computed Tomography (CT)              3   \n",
       "4  Computed Tomography (CT)              2   \n",
       "\n",
       "                                               query  \\\n",
       "0  {'video': None, 'fields': None, 'subset': None...   \n",
       "1  {'video': None, 'fields': None, 'subset': None...   \n",
       "2  {'video': None, 'fields': None, 'subset': None...   \n",
       "3  {'video': None, 'fields': None, 'subset': None...   \n",
       "4  {'video': None, 'fields': None, 'subset': None...   \n",
       "\n",
       "                   pull_time cached_images_path download_success  \n",
       "0 2017-04-06 23:56:33.020284     /path/to/image             True  \n",
       "1 2017-04-06 23:56:33.020284     /path/to/image             True  \n",
       "2 2017-04-06 23:56:33.020284     /path/to/image             True  \n",
       "3 2017-04-06 23:56:33.020284     /path/to/image             True  \n",
       "4 2017-04-06 23:56:33.020284     /path/to/image             True  \n",
       "\n",
       "[5 rows x 38 columns]"
      ]
     },
     "execution_count": 9,
     "metadata": {},
     "output_type": "execute_result"
    }
   ],
   "source": [
    "simplify_df(opi.records_db_short)"
   ]
  },
  {
   "cell_type": "markdown",
   "metadata": {},
   "source": [
    "This dataframe is provides a lot of rich data, which is valuable independent of the images which have also been downloaded. "
   ]
  },
  {
   "cell_type": "markdown",
   "metadata": {},
   "source": [
    "For instance, it is possible to quickly generate some descriptive statistics about our newly created 'lung cancer' dataset."
   ]
  },
  {
   "cell_type": "code",
   "execution_count": 10,
   "metadata": {},
   "outputs": [
    {
     "data": {
      "text/plain": [
       "count    966.000000\n",
       "mean      53.337267\n",
       "std       21.999990\n",
       "min        1.000000\n",
       "25%       47.000000\n",
       "50%       59.000000\n",
       "75%       68.000000\n",
       "max       91.400000\n",
       "Name: age, dtype: float64"
      ]
     },
     "execution_count": 10,
     "metadata": {},
     "output_type": "execute_result"
    }
   ],
   "source": [
    "pull_df['age'].describe()"
   ]
  },
  {
   "cell_type": "code",
   "execution_count": 11,
   "metadata": {},
   "outputs": [
    {
     "data": {
      "text/plain": [
       "male      0.722359\n",
       "female    0.277641\n",
       "Name: sex, dtype: float64"
      ]
     },
     "execution_count": 11,
     "metadata": {},
     "output_type": "execute_result"
    }
   ],
   "source": [
    "pull_df['sex'].value_counts(normalize=True)"
   ]
  },
  {
   "cell_type": "markdown",
   "metadata": {},
   "source": [
    "The `age` and `sex` columns are generated by analyzing the raw text provided by Open-i. It is reasonably accurate, but mistakes are certainly possible."
   ]
  },
  {
   "cell_type": "markdown",
   "metadata": {
    "collapsed": true
   },
   "source": [
    "It should also be mentioned that ``opi.records_db`` *only* contains data for the most recent ``search()`` and ``pull()``. Conversely, **``cache_records_db``** provides a record of all images in the cache, e.g., those obtained several weeks ago."
   ]
  },
  {
   "cell_type": "markdown",
   "metadata": {
    "collapsed": true
   },
   "source": [
    "---\n",
    "\n",
    "### Images"
   ]
  },
  {
   "cell_type": "markdown",
   "metadata": {},
   "source": [
    "Now that we've explored obtaining and reviewing data, we can finally turn our attention to images themselves."
   ]
  },
  {
   "cell_type": "code",
   "execution_count": 12,
   "metadata": {
    "collapsed": true
   },
   "outputs": [],
   "source": [
    "from utils import show_image\n",
    "%matplotlib inline"
   ]
  },
  {
   "cell_type": "markdown",
   "metadata": {},
   "source": [
    "Note: ``utils`` is a small script with some helpful functions located in the base of this directory. "
   ]
  },
  {
   "cell_type": "markdown",
   "metadata": {},
   "source": [
    "Using the ``show_images`` imported above, we can now look at a random images we pulled in the step above."
   ]
  },
  {
   "cell_type": "code",
   "execution_count": 13,
   "metadata": {},
   "outputs": [],
   "source": [
    "# show_image(opi.records_db['cached_images_path'].iloc[156])"
   ]
  },
  {
   "cell_type": "code",
   "execution_count": 14,
   "metadata": {},
   "outputs": [
    {
     "data": {
      "text/plain": [
       "'open-access'"
      ]
     },
     "execution_count": 14,
     "metadata": {},
     "output_type": "execute_result"
    }
   ],
   "source": [
    "opi.records_db['license_type'].iloc[156]"
   ]
  },
  {
   "cell_type": "markdown",
   "metadata": {
    "collapsed": true
   },
   "source": [
    "Let's also look at the age and sex of this subject. "
   ]
  },
  {
   "cell_type": "code",
   "execution_count": 15,
   "metadata": {},
   "outputs": [
    {
     "name": "stdout",
     "output_type": "stream",
     "text": [
      "age: 48.0, sex: male.\n"
     ]
    }
   ],
   "source": [
    "age_sex = opi.records_db['age'].iloc[156], opi.records_db['sex'].iloc[156]\n",
    "print(\"age: {0}, sex: {1}.\".format(*age_sex))"
   ]
  },
  {
   "cell_type": "markdown",
   "metadata": {},
   "source": [
    "We can also easily check their diagnosis"
   ]
  },
  {
   "cell_type": "code",
   "execution_count": 16,
   "metadata": {},
   "outputs": [
    {
     "data": {
      "text/plain": [
       "'carcinoma; neurofibromatosis'"
      ]
     },
     "execution_count": 16,
     "metadata": {},
     "output_type": "execute_result"
    }
   ],
   "source": [
    "opi.records_db['diagnosis'].iloc[156]"
   ]
  },
  {
   "cell_type": "markdown",
   "metadata": {},
   "source": [
    "Please be advised that for collections other than 'MedPix'\\*, such as PubMed, diagnosis information is obtained by analyzing the text associated with the image. ***Errors are possible***.\n",
    "\n",
    "\\*MedPix explicitly provides diagnosis information, so it can be assumed to be accurate.  "
   ]
  },
  {
   "cell_type": "markdown",
   "metadata": {},
   "source": [
    "---\n",
    "\n",
    "### Automated Cleaning of Image Data (<font color='red'>Experimental</font>)"
   ]
  },
  {
   "cell_type": "markdown",
   "metadata": {},
   "source": [
    "While the data may look OK so far, if we look more closely we will likely find several problems with the images we have downloaded."
   ]
  },
  {
   "cell_type": "code",
   "execution_count": 17,
   "metadata": {},
   "outputs": [],
   "source": [
    "# show_image(opi.records_db['cached_images_path'].iloc[100])"
   ]
  },
  {
   "cell_type": "code",
   "execution_count": 18,
   "metadata": {},
   "outputs": [],
   "source": [
    "# show_image(opi.records_db['cached_images_path'].iloc[10])"
   ]
  },
  {
   "cell_type": "markdown",
   "metadata": {
    "collapsed": true
   },
   "source": [
    "The images above contain several clear problems. They both contain arrows and the latter is actually a 'grid' of images. These are liable to confuse any model we attempt to train detect disease. We could manually go through and remove these images or, alternatively, we can use the *experimental* ``OpeniImageProcessing`` class to try and eliminate these images from our dataset automatically."
   ]
  },
  {
   "cell_type": "code",
   "execution_count": 19,
   "metadata": {
    "collapsed": true
   },
   "outputs": [],
   "source": [
    "from biovida.images import OpeniImageProcessing"
   ]
  },
  {
   "cell_type": "markdown",
   "metadata": {},
   "source": [
    "We initialize this class using our ``OpeniInterface`` instance.\n",
    "By default, it will extract the `records_db` DataFrame. Do note, however, that we can force it to extract the ``cache_records_db`` DataFrame by setting the ``db_to_extract`` equal to 'cache_records_db'."
   ]
  },
  {
   "cell_type": "code",
   "execution_count": 20,
   "metadata": {
    "collapsed": true
   },
   "outputs": [],
   "source": [
    "ip = OpeniImageProcessing(opi)"
   ]
  },
  {
   "cell_type": "markdown",
   "metadata": {
    "collapsed": true
   },
   "source": [
    "``OpeniImageProcessing`` will automatically download a model for a *Convolutional Neural Network* (convnet) which has been trained to detect these kinds of problems. If you are unfamiliar with these kinds of models, you can read more about them [here](http://cs231n.github.io/convolutional-networks/)."
   ]
  },
  {
   "cell_type": "markdown",
   "metadata": {
    "collapsed": true
   },
   "source": [
    "The ``OpeniImageProcessing`` class tries to detect problems in the images by analyzing both the text associated it is associated with as well as by feeding the image through the convnet mentioned above. However, by default the ``OpeniImageProcessing`` class will only use predictions gleaned from this model if it has been explicitly trained on images from that kind of [imaging modality](https://encrypted.google.com/url?sa=t&rct=j&q=&esrc=s&source=web&cd=16&ved=0ahUKEwjd3pbG0IvTAhUn5YMKHTFMDoYQygQIaTAP&url=https%3A%2F%2Fen.wikipedia.org%2Fwiki%2FMedical_imaging%23Imaging_modalities&usg=AFQjCNHL9pIw5HQ6bjdufkm1XbclcKyRXQ&sig2=c6SL1Ev2J8wM2JlQmrmjxw)."
   ]
  },
  {
   "cell_type": "markdown",
   "metadata": {
    "collapsed": true
   },
   "source": [
    "We can easily check the modalities for which the model has been trained:"
   ]
  },
  {
   "cell_type": "code",
   "execution_count": 21,
   "metadata": {},
   "outputs": [
    {
     "data": {
      "text/plain": [
       "['ct', 'mri', 'x_ray']"
      ]
     },
     "execution_count": 21,
     "metadata": {},
     "output_type": "execute_result"
    }
   ],
   "source": [
    "ip.trained_open_i_modality_types"
   ]
  },
  {
   "cell_type": "markdown",
   "metadata": {
    "collapsed": true
   },
   "source": [
    "Luckily, we're working with X-rays and CTs. <br>"
   ]
  },
  {
   "cell_type": "markdown",
   "metadata": {
    "collapsed": true
   },
   "source": [
    "Now we're ready to analyze our images."
   ]
  },
  {
   "cell_type": "code",
   "execution_count": 22,
   "metadata": {},
   "outputs": [
    {
     "data": {
      "application/vnd.jupyter.widget-view+json": {
       "model_id": "48c42489ace143819419763da1cf9208"
      }
     },
     "metadata": {},
     "output_type": "display_data"
    },
    {
     "name": "stdout",
     "output_type": "stream",
     "text": [
      "\n"
     ]
    },
    {
     "data": {
      "application/vnd.jupyter.widget-view+json": {
       "model_id": "94fbae4990f048e9b80e79bb6b6293b8"
      }
     },
     "metadata": {},
     "output_type": "display_data"
    },
    {
     "name": "stdout",
     "output_type": "stream",
     "text": [
      "\n"
     ]
    },
    {
     "data": {
      "application/vnd.jupyter.widget-view+json": {
       "model_id": "9352f664453541b9a63a22f2d359fc94"
      }
     },
     "metadata": {},
     "output_type": "display_data"
    },
    {
     "name": "stdout",
     "output_type": "stream",
     "text": [
      "\n"
     ]
    },
    {
     "data": {
      "application/vnd.jupyter.widget-view+json": {
       "model_id": "4bdb58e6ac5145eebf1d2dc9dbec4a52"
      }
     },
     "metadata": {},
     "output_type": "display_data"
    },
    {
     "name": "stdout",
     "output_type": "stream",
     "text": [
      "\n"
     ]
    },
    {
     "data": {
      "application/vnd.jupyter.widget-view+json": {
       "model_id": "46808532d49049d2a058f64e7262d60f"
      }
     },
     "metadata": {},
     "output_type": "display_data"
    },
    {
     "name": "stdout",
     "output_type": "stream",
     "text": [
      "\n"
     ]
    },
    {
     "data": {
      "application/vnd.jupyter.widget-view+json": {
       "model_id": "8e1b66d45cff4222aca2451065561aad"
      }
     },
     "metadata": {},
     "output_type": "display_data"
    },
    {
     "name": "stdout",
     "output_type": "stream",
     "text": [
      "\n"
     ]
    }
   ],
   "source": [
    "analysis_df = ip.auto()"
   ]
  },
  {
   "cell_type": "code",
   "execution_count": 23,
   "metadata": {},
   "outputs": [
    {
     "data": {
      "text/html": [
       "<div>\n",
       "<table border=\"1\" class=\"dataframe\">\n",
       "  <thead>\n",
       "    <tr style=\"text-align: right;\">\n",
       "      <th></th>\n",
       "      <th>mesh_major</th>\n",
       "      <th>mesh_minor</th>\n",
       "      <th>problems</th>\n",
       "      <th>abstract</th>\n",
       "      <th>affiliate</th>\n",
       "      <th>article_type</th>\n",
       "      <th>authors</th>\n",
       "      <th>cc_license</th>\n",
       "      <th>detailed_query_url</th>\n",
       "      <th>doc_source</th>\n",
       "      <th>...</th>\n",
       "      <th>grayscale</th>\n",
       "      <th>medpix_logo_bounding_box</th>\n",
       "      <th>hbar</th>\n",
       "      <th>hborder</th>\n",
       "      <th>vborder</th>\n",
       "      <th>upper_crop</th>\n",
       "      <th>lower_crop</th>\n",
       "      <th>visual_image_problems</th>\n",
       "      <th>invalid_image</th>\n",
       "      <th>invalid_image_reasons</th>\n",
       "    </tr>\n",
       "  </thead>\n",
       "  <tbody>\n",
       "    <tr>\n",
       "      <th>0</th>\n",
       "      <td></td>\n",
       "      <td></td>\n",
       "      <td>lung cancer</td>\n",
       "      <td>Lung cancer is one of the leading causes of ca...</td>\n",
       "      <td>Department of Nuclear Medicine and Molecular I...</td>\n",
       "      <td>other</td>\n",
       "      <td>Purandare NC, Rangarajan V</td>\n",
       "      <td>byncsa</td>\n",
       "      <td>https://openi.nlm.nih.gov/retrieve.php?img=PMC...</td>\n",
       "      <td>PMC</td>\n",
       "      <td>...</td>\n",
       "      <td>False</td>\n",
       "      <td></td>\n",
       "      <td></td>\n",
       "      <td></td>\n",
       "      <td></td>\n",
       "      <td></td>\n",
       "      <td></td>\n",
       "      <td>[(grids, 0.864566), (arrows, 0.00571598), (tex...</td>\n",
       "      <td>True</td>\n",
       "      <td>(grayscale, image_problems_from_text, visual_i...</td>\n",
       "    </tr>\n",
       "    <tr>\n",
       "      <th>1</th>\n",
       "      <td></td>\n",
       "      <td></td>\n",
       "      <td>nsclc</td>\n",
       "      <td>Non-small cell lung cancer (NSCLC) accounts fo...</td>\n",
       "      <td>Cardiopulmonary Department, Sant'Andrea Hospit...</td>\n",
       "      <td>research_article</td>\n",
       "      <td>Pezzuto A, Piraino A, Mariotta S</td>\n",
       "      <td>by</td>\n",
       "      <td>https://openi.nlm.nih.gov/retrieve.php?img=PMC...</td>\n",
       "      <td>PMC</td>\n",
       "      <td>...</td>\n",
       "      <td>True</td>\n",
       "      <td></td>\n",
       "      <td></td>\n",
       "      <td></td>\n",
       "      <td></td>\n",
       "      <td></td>\n",
       "      <td></td>\n",
       "      <td>[(valid_image, 0.858156), (text, 0.100862), (a...</td>\n",
       "      <td>False</td>\n",
       "      <td></td>\n",
       "    </tr>\n",
       "    <tr>\n",
       "      <th>2</th>\n",
       "      <td>(Adrenal Insufficiency/diagnosis*/drug therapy...</td>\n",
       "      <td>(Acute Disease, Adrenal Cortex Hormones/therap...</td>\n",
       "      <td>hypoxia;tachycardia</td>\n",
       "      <td>Background: Adrenal crisis after surgical pro...</td>\n",
       "      <td>Department of Orthopedic Surgery, Osaka Medica...</td>\n",
       "      <td>research_article</td>\n",
       "      <td>Naka N, Takenaka S, Nanno K, Moriguchi Y, Chun...</td>\n",
       "      <td>by</td>\n",
       "      <td>https://openi.nlm.nih.gov/retrieve.php?img=PMC...</td>\n",
       "      <td>PMC</td>\n",
       "      <td>...</td>\n",
       "      <td>True</td>\n",
       "      <td></td>\n",
       "      <td>327</td>\n",
       "      <td></td>\n",
       "      <td></td>\n",
       "      <td></td>\n",
       "      <td>327</td>\n",
       "      <td>[(valid_image, 0.914723), (arrows, 0.0369132),...</td>\n",
       "      <td>True</td>\n",
       "      <td>(image_problems_from_text,)</td>\n",
       "    </tr>\n",
       "    <tr>\n",
       "      <th>3</th>\n",
       "      <td></td>\n",
       "      <td></td>\n",
       "      <td>small cell carcinoma of lung</td>\n",
       "      <td>Subcutaneous swelling as first clinical presen...</td>\n",
       "      <td>Department of Medicine.</td>\n",
       "      <td>case_report</td>\n",
       "      <td>Kumar S, Gupta A, Diwan SK, Bhake A</td>\n",
       "      <td></td>\n",
       "      <td>https://openi.nlm.nih.gov/retrieve.php?img=PMC...</td>\n",
       "      <td>PMC</td>\n",
       "      <td>...</td>\n",
       "      <td>False</td>\n",
       "      <td></td>\n",
       "      <td>348</td>\n",
       "      <td>(4, 351)</td>\n",
       "      <td>(191, 491)</td>\n",
       "      <td>4</td>\n",
       "      <td>348</td>\n",
       "      <td>[(arrows, 0.998476), (grids, 0.000149499), (va...</td>\n",
       "      <td>True</td>\n",
       "      <td>(grayscale, visual_image_problems)</td>\n",
       "    </tr>\n",
       "    <tr>\n",
       "      <th>4</th>\n",
       "      <td>(Echocardiography/methods*, Lung/ultrasonograp...</td>\n",
       "      <td>(Aged, Humans, Incidental Findings, Male)</td>\n",
       "      <td>lung tumor</td>\n",
       "      <td>We present images of a rare case where a prima...</td>\n",
       "      <td>Department of Clinical Physiology and Nuclear ...</td>\n",
       "      <td>research_article</td>\n",
       "      <td>Dencker M, Cronberg C, Damm S, Valind S, Wadbo M</td>\n",
       "      <td>by</td>\n",
       "      <td>https://openi.nlm.nih.gov/retrieve.php?img=PMC...</td>\n",
       "      <td>PMC</td>\n",
       "      <td>...</td>\n",
       "      <td>False</td>\n",
       "      <td></td>\n",
       "      <td>294</td>\n",
       "      <td></td>\n",
       "      <td>(96, 487)</td>\n",
       "      <td></td>\n",
       "      <td>294</td>\n",
       "      <td>[(grids, 0.993127), (arrows, 8.44916e-06), (va...</td>\n",
       "      <td>True</td>\n",
       "      <td>(grayscale, image_problems_from_text, visual_i...</td>\n",
       "    </tr>\n",
       "  </tbody>\n",
       "</table>\n",
       "<p>5 rows × 65 columns</p>\n",
       "</div>"
      ],
      "text/plain": [
       "                                          mesh_major  \\\n",
       "0                                                      \n",
       "1                                                      \n",
       "2  (Adrenal Insufficiency/diagnosis*/drug therapy...   \n",
       "3                                                      \n",
       "4  (Echocardiography/methods*, Lung/ultrasonograp...   \n",
       "\n",
       "                                          mesh_minor  \\\n",
       "0                                                      \n",
       "1                                                      \n",
       "2  (Acute Disease, Adrenal Cortex Hormones/therap...   \n",
       "3                                                      \n",
       "4          (Aged, Humans, Incidental Findings, Male)   \n",
       "\n",
       "                       problems  \\\n",
       "0                   lung cancer   \n",
       "1                         nsclc   \n",
       "2           hypoxia;tachycardia   \n",
       "3  small cell carcinoma of lung   \n",
       "4                    lung tumor   \n",
       "\n",
       "                                            abstract  \\\n",
       "0  Lung cancer is one of the leading causes of ca...   \n",
       "1  Non-small cell lung cancer (NSCLC) accounts fo...   \n",
       "2   Background: Adrenal crisis after surgical pro...   \n",
       "3  Subcutaneous swelling as first clinical presen...   \n",
       "4  We present images of a rare case where a prima...   \n",
       "\n",
       "                                           affiliate      article_type  \\\n",
       "0  Department of Nuclear Medicine and Molecular I...             other   \n",
       "1  Cardiopulmonary Department, Sant'Andrea Hospit...  research_article   \n",
       "2  Department of Orthopedic Surgery, Osaka Medica...  research_article   \n",
       "3                            Department of Medicine.       case_report   \n",
       "4  Department of Clinical Physiology and Nuclear ...  research_article   \n",
       "\n",
       "                                             authors cc_license  \\\n",
       "0                         Purandare NC, Rangarajan V     byncsa   \n",
       "1                   Pezzuto A, Piraino A, Mariotta S         by   \n",
       "2  Naka N, Takenaka S, Nanno K, Moriguchi Y, Chun...         by   \n",
       "3                Kumar S, Gupta A, Diwan SK, Bhake A              \n",
       "4   Dencker M, Cronberg C, Damm S, Valind S, Wadbo M         by   \n",
       "\n",
       "                                  detailed_query_url doc_source  \\\n",
       "0  https://openi.nlm.nih.gov/retrieve.php?img=PMC...        PMC   \n",
       "1  https://openi.nlm.nih.gov/retrieve.php?img=PMC...        PMC   \n",
       "2  https://openi.nlm.nih.gov/retrieve.php?img=PMC...        PMC   \n",
       "3  https://openi.nlm.nih.gov/retrieve.php?img=PMC...        PMC   \n",
       "4  https://openi.nlm.nih.gov/retrieve.php?img=PMC...        PMC   \n",
       "\n",
       "                         ...                         grayscale  \\\n",
       "0                        ...                             False   \n",
       "1                        ...                              True   \n",
       "2                        ...                              True   \n",
       "3                        ...                             False   \n",
       "4                        ...                             False   \n",
       "\n",
       "  medpix_logo_bounding_box hbar   hborder     vborder upper_crop lower_crop  \\\n",
       "0                                                                             \n",
       "1                                                                             \n",
       "2                           327                                         327   \n",
       "3                           348  (4, 351)  (191, 491)          4        348   \n",
       "4                           294             (96, 487)                   294   \n",
       "\n",
       "                               visual_image_problems invalid_image  \\\n",
       "0  [(grids, 0.864566), (arrows, 0.00571598), (tex...          True   \n",
       "1  [(valid_image, 0.858156), (text, 0.100862), (a...         False   \n",
       "2  [(valid_image, 0.914723), (arrows, 0.0369132),...          True   \n",
       "3  [(arrows, 0.998476), (grids, 0.000149499), (va...          True   \n",
       "4  [(grids, 0.993127), (arrows, 8.44916e-06), (va...          True   \n",
       "\n",
       "                               invalid_image_reasons  \n",
       "0  (grayscale, image_problems_from_text, visual_i...  \n",
       "1                                                     \n",
       "2                        (image_problems_from_text,)  \n",
       "3                 (grayscale, visual_image_problems)  \n",
       "4  (grayscale, image_problems_from_text, visual_i...  \n",
       "\n",
       "[5 rows x 65 columns]"
      ]
     },
     "execution_count": 23,
     "metadata": {},
     "output_type": "execute_result"
    }
   ],
   "source": [
    "simplify_df(analysis_df)"
   ]
  },
  {
   "cell_type": "markdown",
   "metadata": {},
   "source": [
    "This will generate several new columns:\n",
    "\n",
    "\n",
    "- **'grayscale'**: this is simply an account of whether or not the images is grayscale.\n",
    "- **'medpix_logo_bounding_box'**: images from the MedPix collection, typically contain the organization's logo in the top right corner. Had we passed the class images from MedPix, it would have tried to 'draw' a bounding box around its precise location (enabling it to be cropped out of the image).\n",
    "- **'hbar'**: this denotes a 'horizontal bar' that is sometimes found at the bottom of images. If present, this column reports its height in pixels.\n",
    "- **'hborder'**: this column provides an account of 'horizontal borders' on either side of the image.\n",
    "- **'vborder'**: this column provides an account of 'vertical borders' on the top and bottom of the image.\n",
    "- **'upper crop'**: this is the location that has been selected to crop the top of the image. This decision is made by considering the *'medpix_logo_bounding_box'* and *'vborder'* columns.\n",
    "- **'lower crop'**: this is the location that has been selected to crop the bottom of the image. This decision is made by considering the *'hbar'* and *'hborder'* columns.\n",
    "- **'visual_image_problems'**: this column contains the output of the convnet model, with the numbers following the words representing the probability that the image belongs to that category.\n",
    "- **'invalid_image'**: this is a decision as to whether or not the image is invalid, e.g., has an arrow. This decision is made using the 'grayscale' and *'visual_image_problems'* columns as well as the text associated with the image (*'image_problems_from_text'*)\n",
    "- **'invalid_image_reasons'**: in cases where the *'invalid_image'* column is ``True``, column provides an account as to why a decision was made.\n",
    "\n",
    "\n"
   ]
  },
  {
   "cell_type": "markdown",
   "metadata": {},
   "source": [
    "We can use this analysis to construct a new dataframe, with **'invalid_images'** removed and the remaining images cropped in such a way that problematic features are removed."
   ]
  },
  {
   "cell_type": "code",
   "execution_count": 24,
   "metadata": {},
   "outputs": [
    {
     "data": {
      "application/vnd.jupyter.widget-view+json": {
       "model_id": "b877c542043043bca0c86a7b9ecfa681"
      }
     },
     "metadata": {},
     "output_type": "display_data"
    },
    {
     "name": "stdout",
     "output_type": "stream",
     "text": [
      "\n"
     ]
    }
   ],
   "source": [
    "ip.clean_image_dataframe()"
   ]
  },
  {
   "cell_type": "markdown",
   "metadata": {},
   "source": [
    "This 'cleaned' set, *should* have fewer instances of problematic images."
   ]
  },
  {
   "cell_type": "markdown",
   "metadata": {},
   "source": [
    "Here's a random image from this new set:"
   ]
  },
  {
   "cell_type": "code",
   "execution_count": 25,
   "metadata": {},
   "outputs": [],
   "source": [
    "# show_image(ip.image_dataframe_cleaned['cleaned_image'].iloc[180])"
   ]
  },
  {
   "cell_type": "markdown",
   "metadata": {},
   "source": [
    "With time, the machinery used to detect these kinds of problems, particularly the convolutional neural network, will be improved. However, at the current time, **this class is still considered to be very experimental**."
   ]
  },
  {
   "cell_type": "markdown",
   "metadata": {},
   "source": [
    "---\n",
    "### Train, Validation and Test"
   ]
  },
  {
   "cell_type": "markdown",
   "metadata": {
    "collapsed": true
   },
   "source": [
    "Now that we've explored data harvesting, we can turn our attention to the final step before modeling: dividing data into training, validation and/or tests sets."
   ]
  },
  {
   "cell_type": "markdown",
   "metadata": {},
   "source": [
    "Let's use images from the *Indiana University Chest X-Ray* collection\\* ('indiana_u_xray'). This set of images has been assembled 'by hand', and thus does not require complicated image cleaning procedures.\n",
    "<br>\n",
    "\\*[License](https://creativecommons.org/licenses/by-nc-nd/3.0/); images have not been modified."
   ]
  },
  {
   "cell_type": "code",
   "execution_count": 26,
   "metadata": {},
   "outputs": [
    {
     "name": "stdout",
     "output_type": "stream",
     "text": [
      "\n",
      "Results Found: 7,470.\n"
     ]
    }
   ],
   "source": [
    "opi.search(collection='indiana_u_xray')"
   ]
  },
  {
   "cell_type": "markdown",
   "metadata": {},
   "source": [
    "Let's go ahead and download this entire collection. <br>\n",
    "Please be advised that this will take some time, so feel free to adjust ``download_limit`` to suit your needs."
   ]
  },
  {
   "cell_type": "code",
   "execution_count": 27,
   "metadata": {},
   "outputs": [
    {
     "name": "stdout",
     "output_type": "stream",
     "text": [
      "\n",
      "Number of Records to Download: 7,470 (chunk size: 30 records).\n"
     ]
    },
    {
     "data": {
      "application/vnd.jupyter.widget-view+json": {
       "model_id": "2c2ca7b7cc414600b8761603d9974c0f"
      }
     },
     "metadata": {},
     "output_type": "display_data"
    },
    {
     "name": "stdout",
     "output_type": "stream",
     "text": [
      "\n"
     ]
    },
    {
     "data": {
      "application/vnd.jupyter.widget-view+json": {
       "model_id": "72f970e445934a4b811cd925a1144a6f"
      }
     },
     "metadata": {},
     "output_type": "display_data"
    },
    {
     "name": "stdout",
     "output_type": "stream",
     "text": [
      "\n"
     ]
    },
    {
     "data": {
      "application/vnd.jupyter.widget-view+json": {
       "model_id": "4f39d7da164c44fda271f113172e163a"
      }
     },
     "metadata": {},
     "output_type": "display_data"
    },
    {
     "name": "stdout",
     "output_type": "stream",
     "text": [
      "\n"
     ]
    }
   ],
   "source": [
    "pull_df2 = opi.pull(download_limit=None)"
   ]
  },
  {
   "cell_type": "markdown",
   "metadata": {},
   "source": [
    "Let's quickly inspect this newly downloaded data."
   ]
  },
  {
   "cell_type": "code",
   "execution_count": 28,
   "metadata": {},
   "outputs": [
    {
     "data": {
      "text/html": [
       "<div>\n",
       "<table border=\"1\" class=\"dataframe\">\n",
       "  <thead>\n",
       "    <tr style=\"text-align: right;\">\n",
       "      <th></th>\n",
       "      <th>mesh_major</th>\n",
       "      <th>mesh_minor</th>\n",
       "      <th>problems</th>\n",
       "      <th>abstract</th>\n",
       "      <th>affiliate</th>\n",
       "      <th>article_type</th>\n",
       "      <th>authors</th>\n",
       "      <th>cc_license</th>\n",
       "      <th>doc_source</th>\n",
       "      <th>image_caption</th>\n",
       "      <th>...</th>\n",
       "      <th>image_problems_from_text</th>\n",
       "      <th>imaging_modality_from_text</th>\n",
       "      <th>parsed_abstract</th>\n",
       "      <th>sex</th>\n",
       "      <th>modality_full</th>\n",
       "      <th>image_id_short</th>\n",
       "      <th>query</th>\n",
       "      <th>pull_time</th>\n",
       "      <th>cached_images_path</th>\n",
       "      <th>download_success</th>\n",
       "    </tr>\n",
       "  </thead>\n",
       "  <tbody>\n",
       "    <tr>\n",
       "      <th>0</th>\n",
       "      <td>(Calcified Granuloma/lung/upper lobe/right,)</td>\n",
       "      <td></td>\n",
       "      <td>Calcified Granuloma</td>\n",
       "      <td>Comparison: Chest radiographs XXXX. Indicatio...</td>\n",
       "      <td>Indiana University</td>\n",
       "      <td>radiology_report</td>\n",
       "      <td>Kohli MD, Rosenman M</td>\n",
       "      <td>byncnd</td>\n",
       "      <td>CXR</td>\n",
       "      <td>PA and lateral chest x-XXXX XXXX.</td>\n",
       "      <td>...</td>\n",
       "      <td></td>\n",
       "      <td>Computed Tomography (CT): chest</td>\n",
       "      <td>{'impression': 'No acute cardiopulmonary proce...</td>\n",
       "      <td>male</td>\n",
       "      <td>X-Ray</td>\n",
       "      <td>1</td>\n",
       "      <td>{'video': None, 'fields': None, 'subset': None...</td>\n",
       "      <td>2017-04-07 00:02:02.842892</td>\n",
       "      <td>/path/to/image</td>\n",
       "      <td>True</td>\n",
       "    </tr>\n",
       "    <tr>\n",
       "      <th>1</th>\n",
       "      <td>(Calcified Granuloma/lung/upper lobe/right,)</td>\n",
       "      <td></td>\n",
       "      <td>Calcified Granuloma</td>\n",
       "      <td>Comparison: Chest radiographs XXXX. Indicatio...</td>\n",
       "      <td>Indiana University</td>\n",
       "      <td>radiology_report</td>\n",
       "      <td>Kohli MD, Rosenman M</td>\n",
       "      <td>byncnd</td>\n",
       "      <td>CXR</td>\n",
       "      <td>PA and lateral chest x-XXXX XXXX.</td>\n",
       "      <td>...</td>\n",
       "      <td></td>\n",
       "      <td>Computed Tomography (CT): chest</td>\n",
       "      <td>{'impression': 'No acute cardiopulmonary proce...</td>\n",
       "      <td>male</td>\n",
       "      <td>X-Ray</td>\n",
       "      <td>2</td>\n",
       "      <td>{'video': None, 'fields': None, 'subset': None...</td>\n",
       "      <td>2017-04-07 00:02:02.842892</td>\n",
       "      <td>/path/to/image</td>\n",
       "      <td>True</td>\n",
       "    </tr>\n",
       "    <tr>\n",
       "      <th>2</th>\n",
       "      <td>(normal,)</td>\n",
       "      <td></td>\n",
       "      <td>normal</td>\n",
       "      <td>Comparison: None. Indication: Positive TB tes...</td>\n",
       "      <td>Indiana University</td>\n",
       "      <td>radiology_report</td>\n",
       "      <td>Kohli MD, Rosenman M</td>\n",
       "      <td>byncnd</td>\n",
       "      <td>CXR</td>\n",
       "      <td>Xray Chest PA and Lateral</td>\n",
       "      <td>...</td>\n",
       "      <td></td>\n",
       "      <td>Computed Tomography (CT): chest</td>\n",
       "      <td>{'impression': 'Normal chest x-XXXX.', 'result...</td>\n",
       "      <td></td>\n",
       "      <td>X-Ray</td>\n",
       "      <td>1</td>\n",
       "      <td>{'video': None, 'fields': None, 'subset': None...</td>\n",
       "      <td>2017-04-07 00:02:02.842892</td>\n",
       "      <td>/path/to/image</td>\n",
       "      <td>True</td>\n",
       "    </tr>\n",
       "    <tr>\n",
       "      <th>3</th>\n",
       "      <td>(normal,)</td>\n",
       "      <td></td>\n",
       "      <td>normal</td>\n",
       "      <td>Comparison: None. Indication: Positive TB tes...</td>\n",
       "      <td>Indiana University</td>\n",
       "      <td>radiology_report</td>\n",
       "      <td>Kohli MD, Rosenman M</td>\n",
       "      <td>byncnd</td>\n",
       "      <td>CXR</td>\n",
       "      <td>Xray Chest PA and Lateral</td>\n",
       "      <td>...</td>\n",
       "      <td></td>\n",
       "      <td>Computed Tomography (CT): chest</td>\n",
       "      <td>{'impression': 'Normal chest x-XXXX.', 'result...</td>\n",
       "      <td></td>\n",
       "      <td>X-Ray</td>\n",
       "      <td>2</td>\n",
       "      <td>{'video': None, 'fields': None, 'subset': None...</td>\n",
       "      <td>2017-04-07 00:02:02.842892</td>\n",
       "      <td>/path/to/image</td>\n",
       "      <td>True</td>\n",
       "    </tr>\n",
       "    <tr>\n",
       "      <th>4</th>\n",
       "      <td>(Markings/lung/bilateral/interstitial/diffuse/...</td>\n",
       "      <td></td>\n",
       "      <td>Markings;Fibrosis</td>\n",
       "      <td>Comparison: None. Indication: dyspnea, subjec...</td>\n",
       "      <td>Indiana University</td>\n",
       "      <td>radiology_report</td>\n",
       "      <td>Kohli MD, Rosenman M</td>\n",
       "      <td>byncnd</td>\n",
       "      <td>CXR</td>\n",
       "      <td>CHEST 2V FRONTAL/LATERAL XXXX, XXXX XXXX PM</td>\n",
       "      <td>...</td>\n",
       "      <td></td>\n",
       "      <td>Computed Tomography (CT): chest</td>\n",
       "      <td>{'impression': 'Diffuse fibrosis. No visible f...</td>\n",
       "      <td></td>\n",
       "      <td>X-Ray</td>\n",
       "      <td>1</td>\n",
       "      <td>{'video': None, 'fields': None, 'subset': None...</td>\n",
       "      <td>2017-04-07 00:02:02.842892</td>\n",
       "      <td>/path/to/image</td>\n",
       "      <td>True</td>\n",
       "    </tr>\n",
       "  </tbody>\n",
       "</table>\n",
       "<p>5 rows × 37 columns</p>\n",
       "</div>"
      ],
      "text/plain": [
       "                                          mesh_major mesh_minor  \\\n",
       "0       (Calcified Granuloma/lung/upper lobe/right,)              \n",
       "1       (Calcified Granuloma/lung/upper lobe/right,)              \n",
       "2                                          (normal,)              \n",
       "3                                          (normal,)              \n",
       "4  (Markings/lung/bilateral/interstitial/diffuse/...              \n",
       "\n",
       "              problems                                           abstract  \\\n",
       "0  Calcified Granuloma   Comparison: Chest radiographs XXXX. Indicatio...   \n",
       "1  Calcified Granuloma   Comparison: Chest radiographs XXXX. Indicatio...   \n",
       "2               normal   Comparison: None. Indication: Positive TB tes...   \n",
       "3               normal   Comparison: None. Indication: Positive TB tes...   \n",
       "4    Markings;Fibrosis   Comparison: None. Indication: dyspnea, subjec...   \n",
       "\n",
       "            affiliate      article_type               authors cc_license  \\\n",
       "0  Indiana University  radiology_report  Kohli MD, Rosenman M     byncnd   \n",
       "1  Indiana University  radiology_report  Kohli MD, Rosenman M     byncnd   \n",
       "2  Indiana University  radiology_report  Kohli MD, Rosenman M     byncnd   \n",
       "3  Indiana University  radiology_report  Kohli MD, Rosenman M     byncnd   \n",
       "4  Indiana University  radiology_report  Kohli MD, Rosenman M     byncnd   \n",
       "\n",
       "  doc_source                                image_caption       ...         \\\n",
       "0        CXR            PA and lateral chest x-XXXX XXXX.       ...          \n",
       "1        CXR            PA and lateral chest x-XXXX XXXX.       ...          \n",
       "2        CXR                    Xray Chest PA and Lateral       ...          \n",
       "3        CXR                    Xray Chest PA and Lateral       ...          \n",
       "4        CXR  CHEST 2V FRONTAL/LATERAL XXXX, XXXX XXXX PM       ...          \n",
       "\n",
       "  image_problems_from_text       imaging_modality_from_text  \\\n",
       "0                           Computed Tomography (CT): chest   \n",
       "1                           Computed Tomography (CT): chest   \n",
       "2                           Computed Tomography (CT): chest   \n",
       "3                           Computed Tomography (CT): chest   \n",
       "4                           Computed Tomography (CT): chest   \n",
       "\n",
       "                                     parsed_abstract   sex modality_full  \\\n",
       "0  {'impression': 'No acute cardiopulmonary proce...  male         X-Ray   \n",
       "1  {'impression': 'No acute cardiopulmonary proce...  male         X-Ray   \n",
       "2  {'impression': 'Normal chest x-XXXX.', 'result...               X-Ray   \n",
       "3  {'impression': 'Normal chest x-XXXX.', 'result...               X-Ray   \n",
       "4  {'impression': 'Diffuse fibrosis. No visible f...               X-Ray   \n",
       "\n",
       "  image_id_short                                              query  \\\n",
       "0              1  {'video': None, 'fields': None, 'subset': None...   \n",
       "1              2  {'video': None, 'fields': None, 'subset': None...   \n",
       "2              1  {'video': None, 'fields': None, 'subset': None...   \n",
       "3              2  {'video': None, 'fields': None, 'subset': None...   \n",
       "4              1  {'video': None, 'fields': None, 'subset': None...   \n",
       "\n",
       "                   pull_time cached_images_path download_success  \n",
       "0 2017-04-07 00:02:02.842892     /path/to/image             True  \n",
       "1 2017-04-07 00:02:02.842892     /path/to/image             True  \n",
       "2 2017-04-07 00:02:02.842892     /path/to/image             True  \n",
       "3 2017-04-07 00:02:02.842892     /path/to/image             True  \n",
       "4 2017-04-07 00:02:02.842892     /path/to/image             True  \n",
       "\n",
       "[5 rows x 37 columns]"
      ]
     },
     "execution_count": 28,
     "metadata": {},
     "output_type": "execute_result"
    }
   ],
   "source": [
    "simplify_df(opi.records_db_short)"
   ]
  },
  {
   "cell_type": "markdown",
   "metadata": {},
   "source": [
    "We can easily select a subset of these ~7000 images and divide them into training and test sets for some machine learning model using the ``image_divvy()`` tool."
   ]
  },
  {
   "cell_type": "code",
   "execution_count": 29,
   "metadata": {
    "collapsed": true
   },
   "outputs": [],
   "source": [
    "from biovida.images import image_divvy"
   ]
  },
  {
   "cell_type": "markdown",
   "metadata": {},
   "source": [
    "Let's imagine we're interested in building a model capable of distinguishing between 'normal' chest x-rays and those with signs of problematic caclium deposits, a disease formally known as 'calcinosis'."
   ]
  },
  {
   "cell_type": "markdown",
   "metadata": {},
   "source": [
    "We can define a rule to construct such a training and test set using a 'divvy_rule'.\n",
    "This rule will tell ``image_divvy()`` how to 'divvy up' the images in the cache. More specifically, our rule will tell this ``image_divvy()`` how to categorize images in the cache."
   ]
  },
  {
   "cell_type": "code",
   "execution_count": 30,
   "metadata": {
    "collapsed": true
   },
   "outputs": [],
   "source": [
    "def my_divvy_rule(row):\n",
    "    if isinstance(row['diagnosis'], str):\n",
    "        if 'normal' in row['diagnosis']:\n",
    "            return 'normal'  # though this could be anything, e.g., 'super cool normal images'.\n",
    "        elif 'calcinosis' in row['diagnosis']:\n",
    "            return 'calcinosis'"
   ]
  },
  {
   "cell_type": "markdown",
   "metadata": {},
   "source": [
    "Now that ``image_divvy()`` knows how we would like it to categorize the data we've downloaded, we can also pass it a dictionary specifying how to 'split' the data into training and testing sets. In this example, we'll use a standard 80% train, 20% test split and ask the function returns numpy arrays (``ndarrays``) as output."
   ]
  },
  {
   "cell_type": "code",
   "execution_count": 31,
   "metadata": {},
   "outputs": [
    {
     "data": {
      "application/vnd.jupyter.widget-view+json": {
       "model_id": "e88ef2bb6a9c4da8a117f570e9aee1af"
      }
     },
     "metadata": {},
     "output_type": "display_data"
    },
    {
     "name": "stdout",
     "output_type": "stream",
     "text": [
      "\n"
     ]
    },
    {
     "data": {
      "application/vnd.jupyter.widget-view+json": {
       "model_id": "80d6cd75022847c7955f2c20b84390cd"
      }
     },
     "metadata": {},
     "output_type": "display_data"
    },
    {
     "name": "stdout",
     "output_type": "stream",
     "text": [
      "\n",
      "\n",
      "Structure:\n",
      "\n",
      "- 'train':\n",
      "  - 'calcinosis'\n",
      "  - 'normal'\n",
      "- 'test':\n",
      "  - 'calcinosis'\n",
      "  - 'normal'\n"
     ]
    }
   ],
   "source": [
    "train_test = image_divvy(instance=opi,\n",
    "                         divvy_rule=my_divvy_rule,\n",
    "                         db_to_extract='records_db',\n",
    "                         action='ndarray',\n",
    "                         train_val_test_dict={'train': 0.8, 'test': 0.2})"
   ]
  },
  {
   "cell_type": "markdown",
   "metadata": {},
   "source": [
    "Before signing off, ``image_divvy()`` printed the structure of the nested dictionary it returned. <br>\n",
    "We can use this information to unpack the ``arrays`` nested within this data structure:"
   ]
  },
  {
   "cell_type": "code",
   "execution_count": 32,
   "metadata": {
    "collapsed": true
   },
   "outputs": [],
   "source": [
    "train_ca, test_ca = train_test['train']['calcinosis'], train_test['test']['calcinosis']\n",
    "train_norm, test_norm = train_test['train']['normal'], train_test['test']['normal']"
   ]
  },
  {
   "cell_type": "markdown",
   "metadata": {},
   "source": [
    "Now that our data has been neatly unpacked, we can look at the number of samples the procedure generated."
   ]
  },
  {
   "cell_type": "code",
   "execution_count": 33,
   "metadata": {},
   "outputs": [
    {
     "name": "stdout",
     "output_type": "stream",
     "text": [
      "Train: 522 | Test: 131\n"
     ]
    }
   ],
   "source": [
    "# Normal\n",
    "print(\"Train:\", len(train_norm), \"|\", \"Test:\", len(test_norm))"
   ]
  },
  {
   "cell_type": "code",
   "execution_count": 34,
   "metadata": {},
   "outputs": [
    {
     "name": "stdout",
     "output_type": "stream",
     "text": [
      "Train: 446 | Test: 112\n"
     ]
    }
   ],
   "source": [
    "# Calcinosis\n",
    "print(\"Train:\", len(train_ca), \"|\", \"Test:\", len(test_ca))"
   ]
  },
  {
   "cell_type": "markdown",
   "metadata": {},
   "source": [
    "Using the ``show_image()`` tool we imported above, we can take a quick at an image from each category."
   ]
  },
  {
   "cell_type": "code",
   "execution_count": 35,
   "metadata": {},
   "outputs": [],
   "source": [
    "# Normal\n",
    "# show_image(train_norm[99])"
   ]
  },
  {
   "cell_type": "code",
   "execution_count": 36,
   "metadata": {},
   "outputs": [],
   "source": [
    "# Calcinosis\n",
    "# show_image(train_ca[104])"
   ]
  },
  {
   "cell_type": "markdown",
   "metadata": {
    "collapsed": true
   },
   "source": [
    "---"
   ]
  },
  {
   "cell_type": "markdown",
   "metadata": {},
   "source": [
    "Here we've explored how ``BioVida`` can be used to easily obtain and process data from the Open-i database. <br>\n",
    "\n",
    "In the next tutorial, we'll see how ``BioVida`` can be used to gain access to a database with orders of magnitude more images.\n",
    "\n"
   ]
  },
  {
   "cell_type": "markdown",
   "metadata": {},
   "source": [
    "---"
   ]
  }
 ],
 "metadata": {
  "kernelspec": {
   "display_name": "Python 3",
   "language": "python",
   "name": "python3"
  },
  "language_info": {
   "codemirror_mode": {
    "name": "ipython",
    "version": 3
   },
   "file_extension": ".py",
   "mimetype": "text/x-python",
   "name": "python",
   "nbconvert_exporter": "python",
   "pygments_lexer": "ipython3",
   "version": "3.5.2"
  },
  "widgets": {
   "application/vnd.jupyter.widget-state+json": {
    "state": {
     "0050425461244d9987870d81e1db49e1": {
      "model_module": "jupyter-js-widgets",
      "model_module_version": "~2.1.4",
      "model_name": "ProgressModel",
      "state": {
       "_model_module_version": "~2.1.4",
       "_view_module_version": "~2.1.4",
       "bar_style": "success",
       "description": "Obtaining Images: ",
       "layout": "IPY_MODEL_280338ba9860420aa7aa4d3f2357d5b8",
       "max": 1500,
       "style": "IPY_MODEL_98b4e38dabe24b41bcac646ee00f6b1a",
       "value": 1500
      }
     },
     "009bd590ebe442deaae83f607691d59d": {
      "model_module": "jupyter-js-widgets",
      "model_module_version": "~2.1.4",
      "model_name": "ProgressModel",
      "state": {
       "_model_module_version": "~2.1.4",
       "_view_module_version": "~2.1.4",
       "bar_style": "success",
       "description": "Grayscale Analysis: ",
       "layout": "IPY_MODEL_337e665de1f94adca8c272eb88b65c84",
       "max": 1500,
       "style": "IPY_MODEL_a4c765489cda4ad4b01b51a5bd462e00",
       "value": 1500
      }
     },
     "00c8bd614fad47f4870adcd669eb9d0b": {
      "model_module": "jupyter-js-widgets",
      "model_module_version": "~2.1.4",
      "model_name": "ProgressModel",
      "state": {
       "_model_module_version": "~2.1.4",
       "_view_module_version": "~2.1.4",
       "bar_style": "success",
       "description": "Obtaining Records: ",
       "layout": "IPY_MODEL_1c837f12151b46d89f78a22a9c0aaada",
       "max": 249,
       "style": "IPY_MODEL_4555399e306b4f99a6f731d78be8810c",
       "value": 249
      }
     },
     "045dde4a03864cb983fd8b1eadd8cc4d": {
      "model_module": "jupyter-js-widgets",
      "model_module_version": "~2.1.4",
      "model_name": "ProgressStyleModel",
      "state": {
       "_model_module_version": "~2.1.4",
       "_view_module_version": "~2.1.4"
      }
     },
     "050195247c074979896cc8183c8c1668": {
      "model_module": "jupyter-js-widgets",
      "model_module_version": "~2.1.4",
      "model_name": "LayoutModel",
      "state": {
       "_model_module_version": "~2.1.4",
       "_view_module_version": "~2.1.4"
      }
     },
     "05bce213c8db465bbb5a6d04b7487506": {
      "model_module": "jupyter-js-widgets",
      "model_module_version": "~2.1.4",
      "model_name": "LayoutModel",
      "state": {
       "_model_module_version": "~2.1.4",
       "_view_module_version": "~2.1.4"
      }
     },
     "06e642fbd6ce4d058287f38d353450d5": {
      "model_module": "jupyter-js-widgets",
      "model_module_version": "~2.1.4",
      "model_name": "LayoutModel",
      "state": {
       "_model_module_version": "~2.1.4",
       "_view_module_version": "~2.1.4"
      }
     },
     "0985910b64ea4b04a4c6939d03edfe22": {
      "model_module": "jupyter-js-widgets",
      "model_module_version": "~2.1.4",
      "model_name": "ProgressStyleModel",
      "state": {
       "_model_module_version": "~2.1.4",
       "_view_module_version": "~2.1.4"
      }
     },
     "0de3f9449fe14bef907daff90a121409": {
      "model_module": "jupyter-js-widgets",
      "model_module_version": "~2.1.4",
      "model_name": "ProgressStyleModel",
      "state": {
       "_model_module_version": "~2.1.4",
       "_view_module_version": "~2.1.4"
      }
     },
     "15b76e199b494356b214c66ea32da09c": {
      "model_module": "jupyter-js-widgets",
      "model_module_version": "~2.1.4",
      "model_name": "ProgressModel",
      "state": {
       "_model_module_version": "~2.1.4",
       "_view_module_version": "~2.1.4",
       "bar_style": "success",
       "description": "Processing Records: ",
       "layout": "IPY_MODEL_06e642fbd6ce4d058287f38d353450d5",
       "max": 1500,
       "style": "IPY_MODEL_19a1aefd52324b28b7ed4a463f9dcc7d",
       "value": 1500
      }
     },
     "19a1aefd52324b28b7ed4a463f9dcc7d": {
      "model_module": "jupyter-js-widgets",
      "model_module_version": "~2.1.4",
      "model_name": "ProgressStyleModel",
      "state": {
       "_model_module_version": "~2.1.4",
       "_view_module_version": "~2.1.4"
      }
     },
     "1c837f12151b46d89f78a22a9c0aaada": {
      "model_module": "jupyter-js-widgets",
      "model_module_version": "~2.1.4",
      "model_name": "LayoutModel",
      "state": {
       "_model_module_version": "~2.1.4",
       "_view_module_version": "~2.1.4"
      }
     },
     "22784f2285af497c97a7425988e61d5e": {
      "model_module": "jupyter-js-widgets",
      "model_module_version": "~2.1.4",
      "model_name": "ProgressStyleModel",
      "state": {
       "_model_module_version": "~2.1.4",
       "_view_module_version": "~2.1.4"
      }
     },
     "27ee3c5db7c547a987cfb0a067b32190": {
      "model_module": "jupyter-js-widgets",
      "model_module_version": "~2.1.4",
      "model_name": "HTMLModel",
      "state": {
       "_model_module_version": "~2.1.4",
       "_view_module_version": "~2.1.4",
       "layout": "IPY_MODEL_8eed2cbd3c2140c487a4e954d0a76dcc",
       "value": "100% 1500/1500 [00:17&lt;00:00, 85.04it/s]"
      }
     },
     "280338ba9860420aa7aa4d3f2357d5b8": {
      "model_module": "jupyter-js-widgets",
      "model_module_version": "~2.1.4",
      "model_name": "LayoutModel",
      "state": {
       "_model_module_version": "~2.1.4",
       "_view_module_version": "~2.1.4"
      }
     },
     "283afe79426d4561b7afbc2c0a5cb902": {
      "model_module": "jupyter-js-widgets",
      "model_module_version": "~2.1.4",
      "model_name": "LayoutModel",
      "state": {
       "_model_module_version": "~2.1.4",
       "_view_module_version": "~2.1.4"
      }
     },
     "286e88b9d38a40c88140a35cdae74fd2": {
      "model_module": "jupyter-js-widgets",
      "model_module_version": "~2.1.4",
      "model_name": "LayoutModel",
      "state": {
       "_model_module_version": "~2.1.4",
       "_view_module_version": "~2.1.4"
      }
     },
     "2c2ca7b7cc414600b8761603d9974c0f": {
      "model_module": "jupyter-js-widgets",
      "model_module_version": "~2.1.4",
      "model_name": "HBoxModel",
      "state": {
       "_model_module_version": "~2.1.4",
       "_view_module_version": "~2.1.4",
       "children": [
        "IPY_MODEL_00c8bd614fad47f4870adcd669eb9d0b",
        "IPY_MODEL_856ac821e30a45c7a49ab4d60679a916"
       ],
       "layout": "IPY_MODEL_a921cd57cc8c44d3bb7d0967ea7b6f7d"
      }
     },
     "2ce29cfebd9b4780926414cf9bae20ad": {
      "model_module": "jupyter-js-widgets",
      "model_module_version": "~2.1.4",
      "model_name": "LayoutModel",
      "state": {
       "_model_module_version": "~2.1.4",
       "_view_module_version": "~2.1.4"
      }
     },
     "2f3c957f7af744868f0d5d38ab52b02e": {
      "model_module": "jupyter-js-widgets",
      "model_module_version": "~2.1.4",
      "model_name": "LayoutModel",
      "state": {
       "_model_module_version": "~2.1.4",
       "_view_module_version": "~2.1.4"
      }
     },
     "2f91c0ed9db347b490f0af6e57db89d0": {
      "model_module": "jupyter-js-widgets",
      "model_module_version": "~2.1.4",
      "model_name": "LayoutModel",
      "state": {
       "_model_module_version": "~2.1.4",
       "_view_module_version": "~2.1.4"
      }
     },
     "30c1f2a1c57b41c892b0233c3814e02d": {
      "model_module": "jupyter-js-widgets",
      "model_module_version": "~2.1.4",
      "model_name": "HTMLModel",
      "state": {
       "_model_module_version": "~2.1.4",
       "_view_module_version": "~2.1.4",
       "layout": "IPY_MODEL_98e252cc250e4634bd94e3969cf80797",
       "value": "100% 1500/1500 [00:00&lt;00:00, 13585.73it/s]"
      }
     },
     "32a6969c5d894ab28511622b322cc251": {
      "model_module": "jupyter-js-widgets",
      "model_module_version": "~2.1.4",
      "model_name": "ProgressModel",
      "state": {
       "_model_module_version": "~2.1.4",
       "_view_module_version": "~2.1.4",
       "bar_style": "success",
       "description": "Border Analysis: ",
       "layout": "IPY_MODEL_a0bd55e56770424ea7594cbc0f591561",
       "max": 1500,
       "style": "IPY_MODEL_7de1dc3282e840d5b66bd4b17f36557e",
       "value": 1500
      }
     },
     "33339ccc55874f438532a50627fdc827": {
      "model_module": "jupyter-js-widgets",
      "model_module_version": "~2.1.4",
      "model_name": "LayoutModel",
      "state": {
       "_model_module_version": "~2.1.4",
       "_view_module_version": "~2.1.4"
      }
     },
     "337e665de1f94adca8c272eb88b65c84": {
      "model_module": "jupyter-js-widgets",
      "model_module_version": "~2.1.4",
      "model_name": "LayoutModel",
      "state": {
       "_model_module_version": "~2.1.4",
       "_view_module_version": "~2.1.4"
      }
     },
     "3e548964505d44749fb9586a4d79cb83": {
      "model_module": "jupyter-js-widgets",
      "model_module_version": "~2.1.4",
      "model_name": "LayoutModel",
      "state": {
       "_model_module_version": "~2.1.4",
       "_view_module_version": "~2.1.4"
      }
     },
     "41d840312c004024ba91f95ee53d3d2c": {
      "model_module": "jupyter-js-widgets",
      "model_module_version": "~2.1.4",
      "model_name": "HTMLModel",
      "state": {
       "_model_module_version": "~2.1.4",
       "_view_module_version": "~2.1.4",
       "layout": "IPY_MODEL_ef1616cc455b46b099a47b12d10ea37d",
       "value": "100% 7470/7470 [00:00&lt;00:00, 16961.39it/s]"
      }
     },
     "43418a4d1823469ebcf181c3091c679b": {
      "model_module": "jupyter-js-widgets",
      "model_module_version": "~2.1.4",
      "model_name": "ProgressStyleModel",
      "state": {
       "_model_module_version": "~2.1.4",
       "_view_module_version": "~2.1.4"
      }
     },
     "448f161309e14034a966e2084ed8e7f2": {
      "model_module": "jupyter-js-widgets",
      "model_module_version": "~2.1.4",
      "model_name": "HBoxModel",
      "state": {
       "_model_module_version": "~2.1.4",
       "_view_module_version": "~2.1.4",
       "children": [
        "IPY_MODEL_0050425461244d9987870d81e1db49e1",
        "IPY_MODEL_30c1f2a1c57b41c892b0233c3814e02d"
       ],
       "layout": "IPY_MODEL_2ce29cfebd9b4780926414cf9bae20ad"
      }
     },
     "453780757d4e4f58afb582f9cb4a0bcf": {
      "model_module": "jupyter-js-widgets",
      "model_module_version": "~2.1.4",
      "model_name": "LayoutModel",
      "state": {
       "_model_module_version": "~2.1.4",
       "_view_module_version": "~2.1.4"
      }
     },
     "4555399e306b4f99a6f731d78be8810c": {
      "model_module": "jupyter-js-widgets",
      "model_module_version": "~2.1.4",
      "model_name": "ProgressStyleModel",
      "state": {
       "_model_module_version": "~2.1.4",
       "_view_module_version": "~2.1.4"
      }
     },
     "460bcdb63cb64a33a9fcf822def84b55": {
      "model_module": "jupyter-js-widgets",
      "model_module_version": "~2.1.4",
      "model_name": "ProgressStyleModel",
      "state": {
       "_model_module_version": "~2.1.4",
       "_view_module_version": "~2.1.4"
      }
     },
     "46808532d49049d2a058f64e7262d60f": {
      "model_module": "jupyter-js-widgets",
      "model_module_version": "~2.1.4",
      "model_name": "HBoxModel",
      "state": {
       "_model_module_version": "~2.1.4",
       "_view_module_version": "~2.1.4",
       "children": [
        "IPY_MODEL_f5cd5d306eca4479afee72efecba8d40",
        "IPY_MODEL_806dbae5886746d4a2a4c4b4df0d67b0"
       ],
       "layout": "IPY_MODEL_2f3c957f7af744868f0d5d38ab52b02e"
      }
     },
     "46ebd06500a64d2e8c940db8d6b89aa9": {
      "model_module": "jupyter-js-widgets",
      "model_module_version": "~2.1.4",
      "model_name": "LayoutModel",
      "state": {
       "_model_module_version": "~2.1.4",
       "_view_module_version": "~2.1.4"
      }
     },
     "48229815d0ff4012ba3582214c42e93d": {
      "model_module": "jupyter-js-widgets",
      "model_module_version": "~2.1.4",
      "model_name": "ProgressModel",
      "state": {
       "_model_module_version": "~2.1.4",
       "_view_module_version": "~2.1.4",
       "bar_style": "success",
       "description": "Logo Analysis: ",
       "layout": "IPY_MODEL_88bba8c459f048269b26dafdd9de7c9f",
       "max": 1500,
       "style": "IPY_MODEL_8844e3291fb04ba88a8140c610edae35",
       "value": 1500
      }
     },
     "48c42489ace143819419763da1cf9208": {
      "model_module": "jupyter-js-widgets",
      "model_module_version": "~2.1.4",
      "model_name": "HBoxModel",
      "state": {
       "_model_module_version": "~2.1.4",
       "_view_module_version": "~2.1.4",
       "children": [
        "IPY_MODEL_009bd590ebe442deaae83f607691d59d",
        "IPY_MODEL_c9eb989a7ee046ed8b71e78659fc7f82"
       ],
       "layout": "IPY_MODEL_a41607149b874c3c890cdce311e20a14"
      }
     },
     "4bdb58e6ac5145eebf1d2dc9dbec4a52": {
      "model_module": "jupyter-js-widgets",
      "model_module_version": "~2.1.4",
      "model_name": "HBoxModel",
      "state": {
       "_model_module_version": "~2.1.4",
       "_view_module_version": "~2.1.4",
       "children": [
        "IPY_MODEL_749c6ed6151946219391aad50c5b9f41",
        "IPY_MODEL_27ee3c5db7c547a987cfb0a067b32190"
       ],
       "layout": "IPY_MODEL_9991f42d15a14015900fd4adc4fbaaef"
      }
     },
     "4c1ed47c71c043e69f9077410bf3e2d9": {
      "model_module": "jupyter-js-widgets",
      "model_module_version": "~2.1.4",
      "model_name": "ProgressModel",
      "state": {
       "_model_module_version": "~2.1.4",
       "_view_module_version": "~2.1.4",
       "bar_style": "success",
       "description": "Scanning for Problems: ",
       "layout": "IPY_MODEL_869c2a95a04443bb9bc8df6a0d31a69d",
       "max": 1500,
       "style": "IPY_MODEL_89c4e6ca62694dac8c7700a50e01d64c",
       "value": 1500
      }
     },
     "4f39d7da164c44fda271f113172e163a": {
      "model_module": "jupyter-js-widgets",
      "model_module_version": "~2.1.4",
      "model_name": "HBoxModel",
      "state": {
       "_model_module_version": "~2.1.4",
       "_view_module_version": "~2.1.4",
       "children": [
        "IPY_MODEL_6f05e39ecff24858ae62bebe6a63758c",
        "IPY_MODEL_41d840312c004024ba91f95ee53d3d2c"
       ],
       "layout": "IPY_MODEL_95ddcbb743d4445c80189fa5d9fc6eb5"
      }
     },
     "57779072fbc9492a9a2aba85a9c2cf37": {
      "model_module": "jupyter-js-widgets",
      "model_module_version": "~2.1.4",
      "model_name": "LayoutModel",
      "state": {
       "_model_module_version": "~2.1.4",
       "_view_module_version": "~2.1.4"
      }
     },
     "5b0e1055d35f461db2dc69b361d48cb2": {
      "model_module": "jupyter-js-widgets",
      "model_module_version": "~2.1.4",
      "model_name": "HTMLModel",
      "state": {
       "_model_module_version": "~2.1.4",
       "_view_module_version": "~2.1.4",
       "layout": "IPY_MODEL_8f35fff4d2e24ba6853bc4edeb5878b7",
       "value": "100% 1500/1500 [00:12&lt;00:00, 123.62it/s]"
      }
     },
     "5f62428e61ca4707bb7646ee7fb57537": {
      "model_module": "jupyter-js-widgets",
      "model_module_version": "~2.1.4",
      "model_name": "ProgressModel",
      "state": {
       "_model_module_version": "~2.1.4",
       "_view_module_version": "~2.1.4",
       "bar_style": "success",
       "description": "Processing Records: ",
       "layout": "IPY_MODEL_453780757d4e4f58afb582f9cb4a0bcf",
       "max": 7470,
       "style": "IPY_MODEL_fb1ec7cb5dcf48209d5e2411dfbc0ff5",
       "value": 7470
      }
     },
     "63dfe4bdcbac4d328285f196c30a7239": {
      "model_module": "jupyter-js-widgets",
      "model_module_version": "~2.1.4",
      "model_name": "HTMLModel",
      "state": {
       "_model_module_version": "~2.1.4",
       "_view_module_version": "~2.1.4",
       "layout": "IPY_MODEL_be7a7accb11b4e23aed53a31535c223a",
       "value": "100% 7470/7470 [01:17&lt;00:00, 96.92it/s]"
      }
     },
     "690d54f6de694bc48ddb47e28614f78b": {
      "model_module": "jupyter-js-widgets",
      "model_module_version": "~2.1.4",
      "model_name": "ProgressModel",
      "state": {
       "_model_module_version": "~2.1.4",
       "_view_module_version": "~2.1.4",
       "bar_style": "success",
       "description": "Applying Divvy Rule: ",
       "layout": "IPY_MODEL_77337e528116470a828411af311c3d08",
       "max": 7470,
       "style": "IPY_MODEL_22784f2285af497c97a7425988e61d5e",
       "value": 7470
      }
     },
     "6f05e39ecff24858ae62bebe6a63758c": {
      "model_module": "jupyter-js-widgets",
      "model_module_version": "~2.1.4",
      "model_name": "ProgressModel",
      "state": {
       "_model_module_version": "~2.1.4",
       "_view_module_version": "~2.1.4",
       "bar_style": "success",
       "description": "Obtaining Images: ",
       "layout": "IPY_MODEL_c955f0c13cc044999393385e1170a444",
       "max": 7470,
       "style": "IPY_MODEL_ac51788448654a2394e0a22a839a3636",
       "value": 7470
      }
     },
     "719f1dc8f16244938392bcf614e8c3ee": {
      "model_module": "jupyter-js-widgets",
      "model_module_version": "~2.1.4",
      "model_name": "LayoutModel",
      "state": {
       "_model_module_version": "~2.1.4",
       "_view_module_version": "~2.1.4"
      }
     },
     "72f970e445934a4b811cd925a1144a6f": {
      "model_module": "jupyter-js-widgets",
      "model_module_version": "~2.1.4",
      "model_name": "HBoxModel",
      "state": {
       "_model_module_version": "~2.1.4",
       "_view_module_version": "~2.1.4",
       "children": [
        "IPY_MODEL_5f62428e61ca4707bb7646ee7fb57537",
        "IPY_MODEL_63dfe4bdcbac4d328285f196c30a7239"
       ],
       "layout": "IPY_MODEL_9f198b766bfd4b6b911007408ffefaa8"
      }
     },
     "749c6ed6151946219391aad50c5b9f41": {
      "model_module": "jupyter-js-widgets",
      "model_module_version": "~2.1.4",
      "model_name": "ProgressModel",
      "state": {
       "_model_module_version": "~2.1.4",
       "_view_module_version": "~2.1.4",
       "bar_style": "success",
       "description": "Cropping Images: ",
       "layout": "IPY_MODEL_33339ccc55874f438532a50627fdc827",
       "max": 1500,
       "style": "IPY_MODEL_0de3f9449fe14bef907daff90a121409",
       "value": 1500
      }
     },
     "75e59fade5844febb19eb461de3bc742": {
      "model_module": "jupyter-js-widgets",
      "model_module_version": "~2.1.4",
      "model_name": "HTMLModel",
      "state": {
       "_model_module_version": "~2.1.4",
       "_view_module_version": "~2.1.4",
       "layout": "IPY_MODEL_97a1262cef1d45a196cd7c54b2a05afc",
       "value": "100% 1500/1500 [00:00&lt;00:00, 30651.01it/s]"
      }
     },
     "77337e528116470a828411af311c3d08": {
      "model_module": "jupyter-js-widgets",
      "model_module_version": "~2.1.4",
      "model_name": "LayoutModel",
      "state": {
       "_model_module_version": "~2.1.4",
       "_view_module_version": "~2.1.4"
      }
     },
     "79e8cf48e5ff4362adbe34c90a2e8f55": {
      "model_module": "jupyter-js-widgets",
      "model_module_version": "~2.1.4",
      "model_name": "LayoutModel",
      "state": {
       "_model_module_version": "~2.1.4",
       "_view_module_version": "~2.1.4"
      }
     },
     "7de1dc3282e840d5b66bd4b17f36557e": {
      "model_module": "jupyter-js-widgets",
      "model_module_version": "~2.1.4",
      "model_name": "ProgressStyleModel",
      "state": {
       "_model_module_version": "~2.1.4",
       "_view_module_version": "~2.1.4"
      }
     },
     "806dbae5886746d4a2a4c4b4df0d67b0": {
      "model_module": "jupyter-js-widgets",
      "model_module_version": "~2.1.4",
      "model_name": "HTMLModel",
      "state": {
       "_model_module_version": "~2.1.4",
       "_view_module_version": "~2.1.4",
       "layout": "IPY_MODEL_286e88b9d38a40c88140a35cdae74fd2",
       "value": "100% 1500/1500 [00:06&lt;00:00, 240.66it/s]"
      }
     },
     "80d6cd75022847c7955f2c20b84390cd": {
      "model_module": "jupyter-js-widgets",
      "model_module_version": "~2.1.4",
      "model_name": "HBoxModel",
      "state": {
       "_model_module_version": "~2.1.4",
       "_view_module_version": "~2.1.4",
       "children": [
        "IPY_MODEL_fb8de0e672db48c4a0c3f6674c0b897a",
        "IPY_MODEL_ddff4432b8ee4e23a91d916143c4dd09"
       ],
       "layout": "IPY_MODEL_eb3fdd27d55e40c19b67500527f86880"
      }
     },
     "856ac821e30a45c7a49ab4d60679a916": {
      "model_module": "jupyter-js-widgets",
      "model_module_version": "~2.1.4",
      "model_name": "HTMLModel",
      "state": {
       "_model_module_version": "~2.1.4",
       "_view_module_version": "~2.1.4",
       "layout": "IPY_MODEL_c851a4d1bdb847099398a45a1f765ff3",
       "value": "100% 249/249 [01:52&lt;00:00,  3.76it/s]"
      }
     },
     "85d32a4757074485b262f9928e677410": {
      "model_module": "jupyter-js-widgets",
      "model_module_version": "~2.1.4",
      "model_name": "LayoutModel",
      "state": {
       "_model_module_version": "~2.1.4",
       "_view_module_version": "~2.1.4"
      }
     },
     "869c2a95a04443bb9bc8df6a0d31a69d": {
      "model_module": "jupyter-js-widgets",
      "model_module_version": "~2.1.4",
      "model_name": "LayoutModel",
      "state": {
       "_model_module_version": "~2.1.4",
       "_view_module_version": "~2.1.4"
      }
     },
     "8844e3291fb04ba88a8140c610edae35": {
      "model_module": "jupyter-js-widgets",
      "model_module_version": "~2.1.4",
      "model_name": "ProgressStyleModel",
      "state": {
       "_model_module_version": "~2.1.4",
       "_view_module_version": "~2.1.4"
      }
     },
     "884719823bac40c0a80260350486f04f": {
      "model_module": "jupyter-js-widgets",
      "model_module_version": "~2.1.4",
      "model_name": "HTMLModel",
      "state": {
       "_model_module_version": "~2.1.4",
       "_view_module_version": "~2.1.4",
       "layout": "IPY_MODEL_ccc10903b3f1491d8b2fe8a8ef380989",
       "value": "100% 209/209 [00:01&lt;00:00, 151.65it/s]"
      }
     },
     "88bba8c459f048269b26dafdd9de7c9f": {
      "model_module": "jupyter-js-widgets",
      "model_module_version": "~2.1.4",
      "model_name": "LayoutModel",
      "state": {
       "_model_module_version": "~2.1.4",
       "_view_module_version": "~2.1.4"
      }
     },
     "89c4e6ca62694dac8c7700a50e01d64c": {
      "model_module": "jupyter-js-widgets",
      "model_module_version": "~2.1.4",
      "model_name": "ProgressStyleModel",
      "state": {
       "_model_module_version": "~2.1.4",
       "_view_module_version": "~2.1.4"
      }
     },
     "8e1b66d45cff4222aca2451065561aad": {
      "model_module": "jupyter-js-widgets",
      "model_module_version": "~2.1.4",
      "model_name": "HBoxModel",
      "state": {
       "_model_module_version": "~2.1.4",
       "_view_module_version": "~2.1.4",
       "children": [
        "IPY_MODEL_4c1ed47c71c043e69f9077410bf3e2d9",
        "IPY_MODEL_75e59fade5844febb19eb461de3bc742"
       ],
       "layout": "IPY_MODEL_85d32a4757074485b262f9928e677410"
      }
     },
     "8e6911ee2239499b84b544a5223dbba1": {
      "model_module": "jupyter-js-widgets",
      "model_module_version": "~2.1.4",
      "model_name": "LayoutModel",
      "state": {
       "_model_module_version": "~2.1.4",
       "_view_module_version": "~2.1.4"
      }
     },
     "8eed2cbd3c2140c487a4e954d0a76dcc": {
      "model_module": "jupyter-js-widgets",
      "model_module_version": "~2.1.4",
      "model_name": "LayoutModel",
      "state": {
       "_model_module_version": "~2.1.4",
       "_view_module_version": "~2.1.4"
      }
     },
     "8f35fff4d2e24ba6853bc4edeb5878b7": {
      "model_module": "jupyter-js-widgets",
      "model_module_version": "~2.1.4",
      "model_name": "LayoutModel",
      "state": {
       "_model_module_version": "~2.1.4",
       "_view_module_version": "~2.1.4"
      }
     },
     "9352f664453541b9a63a22f2d359fc94": {
      "model_module": "jupyter-js-widgets",
      "model_module_version": "~2.1.4",
      "model_name": "HBoxModel",
      "state": {
       "_model_module_version": "~2.1.4",
       "_view_module_version": "~2.1.4",
       "children": [
        "IPY_MODEL_32a6969c5d894ab28511622b322cc251",
        "IPY_MODEL_5b0e1055d35f461db2dc69b361d48cb2"
       ],
       "layout": "IPY_MODEL_2f91c0ed9db347b490f0af6e57db89d0"
      }
     },
     "94fbae4990f048e9b80e79bb6b6293b8": {
      "model_module": "jupyter-js-widgets",
      "model_module_version": "~2.1.4",
      "model_name": "HBoxModel",
      "state": {
       "_model_module_version": "~2.1.4",
       "_view_module_version": "~2.1.4",
       "children": [
        "IPY_MODEL_48229815d0ff4012ba3582214c42e93d",
        "IPY_MODEL_a4b5c674ddb74a9e93873d497b12ea5e"
       ],
       "layout": "IPY_MODEL_e2bf7a2aec494df7a5c631351a18e969"
      }
     },
     "95ddcbb743d4445c80189fa5d9fc6eb5": {
      "model_module": "jupyter-js-widgets",
      "model_module_version": "~2.1.4",
      "model_name": "LayoutModel",
      "state": {
       "_model_module_version": "~2.1.4",
       "_view_module_version": "~2.1.4"
      }
     },
     "97a1262cef1d45a196cd7c54b2a05afc": {
      "model_module": "jupyter-js-widgets",
      "model_module_version": "~2.1.4",
      "model_name": "LayoutModel",
      "state": {
       "_model_module_version": "~2.1.4",
       "_view_module_version": "~2.1.4"
      }
     },
     "98b4e38dabe24b41bcac646ee00f6b1a": {
      "model_module": "jupyter-js-widgets",
      "model_module_version": "~2.1.4",
      "model_name": "ProgressStyleModel",
      "state": {
       "_model_module_version": "~2.1.4",
       "_view_module_version": "~2.1.4"
      }
     },
     "98e252cc250e4634bd94e3969cf80797": {
      "model_module": "jupyter-js-widgets",
      "model_module_version": "~2.1.4",
      "model_name": "LayoutModel",
      "state": {
       "_model_module_version": "~2.1.4",
       "_view_module_version": "~2.1.4"
      }
     },
     "996dcd73d2854ba8af47ed9b5afdb38b": {
      "model_module": "jupyter-js-widgets",
      "model_module_version": "~2.1.4",
      "model_name": "ProgressModel",
      "state": {
       "_model_module_version": "~2.1.4",
       "_view_module_version": "~2.1.4",
       "bar_style": "success",
       "description": "Cropping Images: ",
       "layout": "IPY_MODEL_57779072fbc9492a9a2aba85a9c2cf37",
       "max": 209,
       "style": "IPY_MODEL_0985910b64ea4b04a4c6939d03edfe22",
       "value": 209
      }
     },
     "9991f42d15a14015900fd4adc4fbaaef": {
      "model_module": "jupyter-js-widgets",
      "model_module_version": "~2.1.4",
      "model_name": "LayoutModel",
      "state": {
       "_model_module_version": "~2.1.4",
       "_view_module_version": "~2.1.4"
      }
     },
     "9f198b766bfd4b6b911007408ffefaa8": {
      "model_module": "jupyter-js-widgets",
      "model_module_version": "~2.1.4",
      "model_name": "LayoutModel",
      "state": {
       "_model_module_version": "~2.1.4",
       "_view_module_version": "~2.1.4"
      }
     },
     "a0bd55e56770424ea7594cbc0f591561": {
      "model_module": "jupyter-js-widgets",
      "model_module_version": "~2.1.4",
      "model_name": "LayoutModel",
      "state": {
       "_model_module_version": "~2.1.4",
       "_view_module_version": "~2.1.4"
      }
     },
     "a41607149b874c3c890cdce311e20a14": {
      "model_module": "jupyter-js-widgets",
      "model_module_version": "~2.1.4",
      "model_name": "LayoutModel",
      "state": {
       "_model_module_version": "~2.1.4",
       "_view_module_version": "~2.1.4"
      }
     },
     "a4b5c674ddb74a9e93873d497b12ea5e": {
      "model_module": "jupyter-js-widgets",
      "model_module_version": "~2.1.4",
      "model_name": "HTMLModel",
      "state": {
       "_model_module_version": "~2.1.4",
       "_view_module_version": "~2.1.4",
       "layout": "IPY_MODEL_d5b017ca1166409485e63450a54d7fd0",
       "value": "100% 1500/1500 [00:00&lt;00:00, 34250.59it/s]"
      }
     },
     "a4c765489cda4ad4b01b51a5bd462e00": {
      "model_module": "jupyter-js-widgets",
      "model_module_version": "~2.1.4",
      "model_name": "ProgressStyleModel",
      "state": {
       "_model_module_version": "~2.1.4",
       "_view_module_version": "~2.1.4"
      }
     },
     "a921cd57cc8c44d3bb7d0967ea7b6f7d": {
      "model_module": "jupyter-js-widgets",
      "model_module_version": "~2.1.4",
      "model_name": "LayoutModel",
      "state": {
       "_model_module_version": "~2.1.4",
       "_view_module_version": "~2.1.4"
      }
     },
     "a99b0b97bbea49d09e07bf7431d08b1a": {
      "model_module": "jupyter-js-widgets",
      "model_module_version": "~2.1.4",
      "model_name": "HTMLModel",
      "state": {
       "_model_module_version": "~2.1.4",
       "_view_module_version": "~2.1.4",
       "layout": "IPY_MODEL_c0003405626b4055a4731d2a35893fc7",
       "value": "100% 50/50 [02:36&lt;00:00,  4.14s/it]"
      }
     },
     "ac51788448654a2394e0a22a839a3636": {
      "model_module": "jupyter-js-widgets",
      "model_module_version": "~2.1.4",
      "model_name": "ProgressStyleModel",
      "state": {
       "_model_module_version": "~2.1.4",
       "_view_module_version": "~2.1.4"
      }
     },
     "af73b599e5b04880aa4e9fc975e10829": {
      "model_module": "jupyter-js-widgets",
      "model_module_version": "~2.1.4",
      "model_name": "LayoutModel",
      "state": {
       "_model_module_version": "~2.1.4",
       "_view_module_version": "~2.1.4"
      }
     },
     "b1ce40f2d13d40fdaeaa4b9b49cf921d": {
      "model_module": "jupyter-js-widgets",
      "model_module_version": "~2.1.4",
      "model_name": "HBoxModel",
      "state": {
       "_model_module_version": "~2.1.4",
       "_view_module_version": "~2.1.4",
       "children": [
        "IPY_MODEL_15b76e199b494356b214c66ea32da09c",
        "IPY_MODEL_e8be19f2897c49e79c08c083cd43cabc"
       ],
       "layout": "IPY_MODEL_283afe79426d4561b7afbc2c0a5cb902"
      }
     },
     "b877c542043043bca0c86a7b9ecfa681": {
      "model_module": "jupyter-js-widgets",
      "model_module_version": "~2.1.4",
      "model_name": "HBoxModel",
      "state": {
       "_model_module_version": "~2.1.4",
       "_view_module_version": "~2.1.4",
       "children": [
        "IPY_MODEL_996dcd73d2854ba8af47ed9b5afdb38b",
        "IPY_MODEL_884719823bac40c0a80260350486f04f"
       ],
       "layout": "IPY_MODEL_8e6911ee2239499b84b544a5223dbba1"
      }
     },
     "be7a7accb11b4e23aed53a31535c223a": {
      "model_module": "jupyter-js-widgets",
      "model_module_version": "~2.1.4",
      "model_name": "LayoutModel",
      "state": {
       "_model_module_version": "~2.1.4",
       "_view_module_version": "~2.1.4"
      }
     },
     "c0003405626b4055a4731d2a35893fc7": {
      "model_module": "jupyter-js-widgets",
      "model_module_version": "~2.1.4",
      "model_name": "LayoutModel",
      "state": {
       "_model_module_version": "~2.1.4",
       "_view_module_version": "~2.1.4"
      }
     },
     "c13614b6d9b84f32a011c5eb54ef5748": {
      "model_module": "jupyter-js-widgets",
      "model_module_version": "~2.1.4",
      "model_name": "HBoxModel",
      "state": {
       "_model_module_version": "~2.1.4",
       "_view_module_version": "~2.1.4",
       "children": [
        "IPY_MODEL_dde75b04363d4d01be54700af509e3b0",
        "IPY_MODEL_a99b0b97bbea49d09e07bf7431d08b1a"
       ],
       "layout": "IPY_MODEL_05bce213c8db465bbb5a6d04b7487506"
      }
     },
     "c2454bfadd9f42f38cb6057076e65723": {
      "model_module": "jupyter-js-widgets",
      "model_module_version": "~2.1.4",
      "model_name": "HTMLModel",
      "state": {
       "_model_module_version": "~2.1.4",
       "_view_module_version": "~2.1.4",
       "layout": "IPY_MODEL_3e548964505d44749fb9586a4d79cb83",
       "value": "100% 7470/7470 [00:01&lt;00:00, 6446.34it/s]"
      }
     },
     "c69d8c37ff4c4200935f6f9e9581afe8": {
      "model_module": "jupyter-js-widgets",
      "model_module_version": "~2.1.4",
      "model_name": "LayoutModel",
      "state": {
       "_model_module_version": "~2.1.4",
       "_view_module_version": "~2.1.4"
      }
     },
     "c851a4d1bdb847099398a45a1f765ff3": {
      "model_module": "jupyter-js-widgets",
      "model_module_version": "~2.1.4",
      "model_name": "LayoutModel",
      "state": {
       "_model_module_version": "~2.1.4",
       "_view_module_version": "~2.1.4"
      }
     },
     "c955f0c13cc044999393385e1170a444": {
      "model_module": "jupyter-js-widgets",
      "model_module_version": "~2.1.4",
      "model_name": "LayoutModel",
      "state": {
       "_model_module_version": "~2.1.4",
       "_view_module_version": "~2.1.4"
      }
     },
     "c9eb989a7ee046ed8b71e78659fc7f82": {
      "model_module": "jupyter-js-widgets",
      "model_module_version": "~2.1.4",
      "model_name": "HTMLModel",
      "state": {
       "_model_module_version": "~2.1.4",
       "_view_module_version": "~2.1.4",
       "layout": "IPY_MODEL_79e8cf48e5ff4362adbe34c90a2e8f55",
       "value": "100% 1500/1500 [00:17&lt;00:00, 86.89it/s]"
      }
     },
     "ccc10903b3f1491d8b2fe8a8ef380989": {
      "model_module": "jupyter-js-widgets",
      "model_module_version": "~2.1.4",
      "model_name": "LayoutModel",
      "state": {
       "_model_module_version": "~2.1.4",
       "_view_module_version": "~2.1.4"
      }
     },
     "d5b017ca1166409485e63450a54d7fd0": {
      "model_module": "jupyter-js-widgets",
      "model_module_version": "~2.1.4",
      "model_name": "LayoutModel",
      "state": {
       "_model_module_version": "~2.1.4",
       "_view_module_version": "~2.1.4"
      }
     },
     "db4b6fea3fe3466d8bfa55fac24100f6": {
      "model_module": "jupyter-js-widgets",
      "model_module_version": "~2.1.4",
      "model_name": "LayoutModel",
      "state": {
       "_model_module_version": "~2.1.4",
       "_view_module_version": "~2.1.4"
      }
     },
     "dde75b04363d4d01be54700af509e3b0": {
      "model_module": "jupyter-js-widgets",
      "model_module_version": "~2.1.4",
      "model_name": "ProgressModel",
      "state": {
       "_model_module_version": "~2.1.4",
       "_view_module_version": "~2.1.4",
       "bar_style": "success",
       "description": "Obtaining Records: ",
       "layout": "IPY_MODEL_db4b6fea3fe3466d8bfa55fac24100f6",
       "max": 50,
       "style": "IPY_MODEL_045dde4a03864cb983fd8b1eadd8cc4d",
       "value": 50
      }
     },
     "ddff4432b8ee4e23a91d916143c4dd09": {
      "model_module": "jupyter-js-widgets",
      "model_module_version": "~2.1.4",
      "model_name": "HTMLModel",
      "state": {
       "_model_module_version": "~2.1.4",
       "_view_module_version": "~2.1.4",
       "layout": "IPY_MODEL_46ebd06500a64d2e8c940db8d6b89aa9",
       "value": "100% 2/2 [00:15&lt;00:00,  5.96s/it]"
      }
     },
     "e2bf7a2aec494df7a5c631351a18e969": {
      "model_module": "jupyter-js-widgets",
      "model_module_version": "~2.1.4",
      "model_name": "LayoutModel",
      "state": {
       "_model_module_version": "~2.1.4",
       "_view_module_version": "~2.1.4"
      }
     },
     "e88ef2bb6a9c4da8a117f570e9aee1af": {
      "model_module": "jupyter-js-widgets",
      "model_module_version": "~2.1.4",
      "model_name": "HBoxModel",
      "state": {
       "_model_module_version": "~2.1.4",
       "_view_module_version": "~2.1.4",
       "children": [
        "IPY_MODEL_690d54f6de694bc48ddb47e28614f78b",
        "IPY_MODEL_c2454bfadd9f42f38cb6057076e65723"
       ],
       "layout": "IPY_MODEL_af73b599e5b04880aa4e9fc975e10829"
      }
     },
     "e8be19f2897c49e79c08c083cd43cabc": {
      "model_module": "jupyter-js-widgets",
      "model_module_version": "~2.1.4",
      "model_name": "HTMLModel",
      "state": {
       "_model_module_version": "~2.1.4",
       "_view_module_version": "~2.1.4",
       "layout": "IPY_MODEL_719f1dc8f16244938392bcf614e8c3ee",
       "value": "100% 1500/1500 [00:41&lt;00:00, 35.91it/s]"
      }
     },
     "eb3fdd27d55e40c19b67500527f86880": {
      "model_module": "jupyter-js-widgets",
      "model_module_version": "~2.1.4",
      "model_name": "LayoutModel",
      "state": {
       "_model_module_version": "~2.1.4",
       "_view_module_version": "~2.1.4"
      }
     },
     "ef1616cc455b46b099a47b12d10ea37d": {
      "model_module": "jupyter-js-widgets",
      "model_module_version": "~2.1.4",
      "model_name": "LayoutModel",
      "state": {
       "_model_module_version": "~2.1.4",
       "_view_module_version": "~2.1.4"
      }
     },
     "f5cd5d306eca4479afee72efecba8d40": {
      "model_module": "jupyter-js-widgets",
      "model_module_version": "~2.1.4",
      "model_name": "ProgressModel",
      "state": {
       "_model_module_version": "~2.1.4",
       "_view_module_version": "~2.1.4",
       "bar_style": "success",
       "description": "Preparing Images: ",
       "layout": "IPY_MODEL_050195247c074979896cc8183c8c1668",
       "max": 1500,
       "style": "IPY_MODEL_460bcdb63cb64a33a9fcf822def84b55",
       "value": 1500
      }
     },
     "fb1ec7cb5dcf48209d5e2411dfbc0ff5": {
      "model_module": "jupyter-js-widgets",
      "model_module_version": "~2.1.4",
      "model_name": "ProgressStyleModel",
      "state": {
       "_model_module_version": "~2.1.4",
       "_view_module_version": "~2.1.4"
      }
     },
     "fb8de0e672db48c4a0c3f6674c0b897a": {
      "model_module": "jupyter-js-widgets",
      "model_module_version": "~2.1.4",
      "model_name": "ProgressModel",
      "state": {
       "_model_module_version": "~2.1.4",
       "_view_module_version": "~2.1.4",
       "bar_style": "success",
       "description": "Generating ndarrays: ",
       "layout": "IPY_MODEL_c69d8c37ff4c4200935f6f9e9581afe8",
       "max": 2,
       "style": "IPY_MODEL_43418a4d1823469ebcf181c3091c679b",
       "value": 2
      }
     }
    },
    "version_major": 1,
    "version_minor": 0
   }
  }
 },
 "nbformat": 4,
 "nbformat_minor": 1
}
