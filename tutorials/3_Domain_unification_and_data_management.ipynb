{
 "cells": [
  {
   "cell_type": "markdown",
   "metadata": {},
   "source": [
    "BioVida: Domain Unification and Data Management\n",
    "=========================\n",
    "---"
   ]
  },
  {
   "cell_type": "markdown",
   "metadata": {},
   "source": [
    "This tutorial will cover the facilities BioVida offers to (a) integrate images data against other kinds of biomedical data and (b) manage cached resources."
   ]
  },
  {
   "cell_type": "markdown",
   "metadata": {},
   "source": [
    "---\n",
    "## Domain  Unification"
   ]
  },
  {
   "cell_type": "markdown",
   "metadata": {},
   "source": [
    "While primarily focused on image data, BioVida also contains interfaces to allow you to easily gain access to other biomedical data types. Namely, medical diagnostics and genomics data. This section will show how one, or several, image interfaces can be unified into a single DataFrame, complete with data from these additional sources."
   ]
  },
  {
   "cell_type": "markdown",
   "metadata": {},
   "source": [
    "We can start by collecting some data."
   ]
  },
  {
   "cell_type": "code",
   "execution_count": 1,
   "metadata": {},
   "outputs": [
    {
     "name": "stderr",
     "output_type": "stream",
     "text": [
      "Using Theano backend.\n"
     ]
    },
    {
     "name": "stdout",
     "output_type": "stream",
     "text": [
      "\n",
      "Results Found: 33,925.\n",
      "\n",
      "Number of Records to Download: 100 (chunk size: 30 records).\n"
     ]
    },
    {
     "data": {
      "application/vnd.jupyter.widget-view+json": {
       "model_id": "1c7b91fabbc2418eb3081ef42eae1912"
      }
     },
     "metadata": {},
     "output_type": "display_data"
    },
    {
     "name": "stdout",
     "output_type": "stream",
     "text": [
      "\n"
     ]
    },
    {
     "data": {
      "application/vnd.jupyter.widget-view+json": {
       "model_id": "081d76bd753e48a9b6d86a75f548a489"
      }
     },
     "metadata": {},
     "output_type": "display_data"
    },
    {
     "name": "stdout",
     "output_type": "stream",
     "text": [
      "\n"
     ]
    },
    {
     "data": {
      "application/vnd.jupyter.widget-view+json": {
       "model_id": "a2aafa3f81d6466caa43f549b01e2b66"
      }
     },
     "metadata": {},
     "output_type": "display_data"
    },
    {
     "name": "stdout",
     "output_type": "stream",
     "text": [
      "\n"
     ]
    }
   ],
   "source": [
    "from biovida.images import OpeniInterface\n",
    "opi = OpeniInterface()\n",
    "opi.search(query='lung cancer')\n",
    "pull_df1 = opi.pull()"
   ]
  },
  {
   "cell_type": "markdown",
   "metadata": {},
   "source": [
    "To make this example a little more interesting, let's also get some data from the Cancer Imaging Archive."
   ]
  },
  {
   "cell_type": "code",
   "execution_count": 2,
   "metadata": {},
   "outputs": [
    {
     "data": {
      "application/vnd.jupyter.widget-view+json": {
       "model_id": "83f078470fee49c5b91d504ec0a02bd2"
      }
     },
     "metadata": {},
     "output_type": "display_data"
    },
    {
     "name": "stdout",
     "output_type": "stream",
     "text": [
      "\n"
     ]
    },
    {
     "data": {
      "application/vnd.jupyter.widget-view+json": {
       "model_id": "db5c47afebf048469bfde7929ca18293"
      }
     },
     "metadata": {},
     "output_type": "display_data"
    },
    {
     "name": "stdout",
     "output_type": "stream",
     "text": [
      "\n"
     ]
    }
   ],
   "source": [
    "from biovida.images import CancerImageInterface\n",
    "cii = CancerImageInterface(api_key=YOUR_API_KEY_HERE)\n",
    "cii.search(cancer_type='lung')\n",
    "pull_df2 = cii.pull(collections_limit=1)  # only download the first collection/study"
   ]
  },
  {
   "cell_type": "markdown",
   "metadata": {},
   "source": [
    "Next, we can import the tool we will be using to unify the data"
   ]
  },
  {
   "cell_type": "code",
   "execution_count": 3,
   "metadata": {
    "collapsed": true
   },
   "outputs": [],
   "source": [
    "from biovida.unification import unify_against_images"
   ]
  },
  {
   "cell_type": "code",
   "execution_count": 4,
   "metadata": {},
   "outputs": [
    {
     "data": {
      "application/vnd.jupyter.widget-view+json": {
       "model_id": "b85259216c6146278677e3a54f4d059b"
      }
     },
     "metadata": {},
     "output_type": "display_data"
    },
    {
     "name": "stdout",
     "output_type": "stream",
     "text": [
      "\n"
     ]
    },
    {
     "data": {
      "application/vnd.jupyter.widget-view+json": {
       "model_id": "54606b92dda54bc7a189c2862b871f7a"
      }
     },
     "metadata": {},
     "output_type": "display_data"
    },
    {
     "name": "stdout",
     "output_type": "stream",
     "text": [
      "\n"
     ]
    },
    {
     "data": {
      "application/vnd.jupyter.widget-view+json": {
       "model_id": "a0f740522067410c8b2d4484fd2c216e"
      }
     },
     "metadata": {},
     "output_type": "display_data"
    },
    {
     "name": "stdout",
     "output_type": "stream",
     "text": [
      "\n"
     ]
    },
    {
     "data": {
      "application/vnd.jupyter.widget-view+json": {
       "model_id": "3b824ceaf8e74432b723bd2d936965f6"
      }
     },
     "metadata": {},
     "output_type": "display_data"
    },
    {
     "name": "stdout",
     "output_type": "stream",
     "text": [
      "\n"
     ]
    }
   ],
   "source": [
    "unified_df = unify_against_images(instances=[opi, cii])"
   ]
  },
  {
   "cell_type": "code",
   "execution_count": 5,
   "metadata": {},
   "outputs": [],
   "source": [
    "import numpy as np\n",
    "def simplify_df(df):\n",
    "    \"\"\"This function simplifies dataframes\n",
    "    for the purposes of this tutorial.\"\"\"\n",
    "    data_frame = df.copy()\n",
    "    for c in ('source_images_path', 'cached_images_path'):\n",
    "        data_frame[c] = 'path_to_image'\n",
    "    return data_frame.replace({np.NaN: ''})"
   ]
  },
  {
   "cell_type": "markdown",
   "metadata": {},
   "source": [
    "To close out this section, we can take a quick look at the resultant DataFrame."
   ]
  },
  {
   "cell_type": "code",
   "execution_count": 6,
   "metadata": {},
   "outputs": [
    {
     "data": {
      "text/html": [
       "<div>\n",
       "<table border=\"1\" class=\"dataframe\">\n",
       "  <thead>\n",
       "    <tr style=\"text-align: right;\">\n",
       "      <th></th>\n",
       "      <th>age</th>\n",
       "      <th>article_type</th>\n",
       "      <th>cached_images_path</th>\n",
       "      <th>disease</th>\n",
       "      <th>image_caption</th>\n",
       "      <th>image_id</th>\n",
       "      <th>image_id_short</th>\n",
       "      <th>modality_best_guess</th>\n",
       "      <th>pull_time</th>\n",
       "      <th>query</th>\n",
       "      <th>sex</th>\n",
       "      <th>source_api</th>\n",
       "      <th>source_images_path</th>\n",
       "      <th>disease_family</th>\n",
       "      <th>disease_synonym</th>\n",
       "      <th>disease_definition</th>\n",
       "      <th>known_associated_symptoms</th>\n",
       "      <th>mentioned_symptoms</th>\n",
       "      <th>known_associated_genes</th>\n",
       "    </tr>\n",
       "  </thead>\n",
       "  <tbody>\n",
       "    <tr>\n",
       "      <th>85</th>\n",
       "      <td></td>\n",
       "      <td>research_article</td>\n",
       "      <td>path_to_image</td>\n",
       "      <td>lung cancer</td>\n",
       "      <td>(a) Heat Map representing the activated signal...</td>\n",
       "      <td></td>\n",
       "      <td>6</td>\n",
       "      <td>Computed Tomography (CT): chest</td>\n",
       "      <td>2017-04-07 02:10:43.026799</td>\n",
       "      <td>{'image_type': None, 'rankby': None, 'exclusio...</td>\n",
       "      <td>male</td>\n",
       "      <td>openi</td>\n",
       "      <td>path_to_image</td>\n",
       "      <td>(respiratory system cancer,)</td>\n",
       "      <td>(lung neoplasm,)</td>\n",
       "      <td>A respiratory system cancer that is located in...</td>\n",
       "      <td>(abdominal obesity, abdominal pain, abnormal r...</td>\n",
       "      <td></td>\n",
       "      <td></td>\n",
       "    </tr>\n",
       "    <tr>\n",
       "      <th>86</th>\n",
       "      <td></td>\n",
       "      <td>research_article</td>\n",
       "      <td>path_to_image</td>\n",
       "      <td>lung cancer</td>\n",
       "      <td>Efficacy of LQ on tumor volume, tumor weight (...</td>\n",
       "      <td></td>\n",
       "      <td>4</td>\n",
       "      <td>Computed Tomography (CT): chest</td>\n",
       "      <td>2017-04-07 02:10:43.026799</td>\n",
       "      <td>{'image_type': None, 'rankby': None, 'exclusio...</td>\n",
       "      <td>male</td>\n",
       "      <td>openi</td>\n",
       "      <td>path_to_image</td>\n",
       "      <td>(respiratory system cancer,)</td>\n",
       "      <td>(lung neoplasm,)</td>\n",
       "      <td>A respiratory system cancer that is located in...</td>\n",
       "      <td>(abdominal obesity, abdominal pain, abnormal r...</td>\n",
       "      <td>(weight loss,)</td>\n",
       "      <td></td>\n",
       "    </tr>\n",
       "    <tr>\n",
       "      <th>87</th>\n",
       "      <td></td>\n",
       "      <td>research_article</td>\n",
       "      <td>path_to_image</td>\n",
       "      <td>lung cancer</td>\n",
       "      <td>Survivin-VISA vector selectively expressed luc...</td>\n",
       "      <td></td>\n",
       "      <td>2</td>\n",
       "      <td>Computed Tomography (CT): chest</td>\n",
       "      <td>2017-04-07 02:10:43.026799</td>\n",
       "      <td>{'image_type': None, 'rankby': None, 'exclusio...</td>\n",
       "      <td>male</td>\n",
       "      <td>openi</td>\n",
       "      <td>path_to_image</td>\n",
       "      <td>(respiratory system cancer,)</td>\n",
       "      <td>(lung neoplasm,)</td>\n",
       "      <td>A respiratory system cancer that is located in...</td>\n",
       "      <td>(abdominal obesity, abdominal pain, abnormal r...</td>\n",
       "      <td></td>\n",
       "      <td></td>\n",
       "    </tr>\n",
       "    <tr>\n",
       "      <th>88</th>\n",
       "      <td></td>\n",
       "      <td>research_article</td>\n",
       "      <td>path_to_image</td>\n",
       "      <td>lung cancer; ptosis</td>\n",
       "      <td>Methylation status of SOX30 in lung cancer cel...</td>\n",
       "      <td></td>\n",
       "      <td>1</td>\n",
       "      <td>Computed Tomography (CT): chest</td>\n",
       "      <td>2017-04-07 02:10:43.026799</td>\n",
       "      <td>{'image_type': None, 'rankby': None, 'exclusio...</td>\n",
       "      <td>male</td>\n",
       "      <td>openi</td>\n",
       "      <td>path_to_image</td>\n",
       "      <td></td>\n",
       "      <td></td>\n",
       "      <td></td>\n",
       "      <td></td>\n",
       "      <td></td>\n",
       "      <td></td>\n",
       "    </tr>\n",
       "    <tr>\n",
       "      <th>89</th>\n",
       "      <td></td>\n",
       "      <td>research_article</td>\n",
       "      <td>path_to_image</td>\n",
       "      <td>large cell carcinoma; lung adenocarcinoma; lun...</td>\n",
       "      <td>CD56+CD16+ NK cell infiltration extent in diff...</td>\n",
       "      <td></td>\n",
       "      <td>2</td>\n",
       "      <td>Computed Tomography (CT): chest</td>\n",
       "      <td>2017-04-07 02:10:43.026799</td>\n",
       "      <td>{'image_type': None, 'rankby': None, 'exclusio...</td>\n",
       "      <td>male</td>\n",
       "      <td>openi</td>\n",
       "      <td>path_to_image</td>\n",
       "      <td></td>\n",
       "      <td></td>\n",
       "      <td></td>\n",
       "      <td></td>\n",
       "      <td></td>\n",
       "      <td></td>\n",
       "    </tr>\n",
       "  </tbody>\n",
       "</table>\n",
       "</div>"
      ],
      "text/plain": [
       "   age      article_type cached_images_path  \\\n",
       "85      research_article      path_to_image   \n",
       "86      research_article      path_to_image   \n",
       "87      research_article      path_to_image   \n",
       "88      research_article      path_to_image   \n",
       "89      research_article      path_to_image   \n",
       "\n",
       "                                              disease  \\\n",
       "85                                        lung cancer   \n",
       "86                                        lung cancer   \n",
       "87                                        lung cancer   \n",
       "88                                lung cancer; ptosis   \n",
       "89  large cell carcinoma; lung adenocarcinoma; lun...   \n",
       "\n",
       "                                        image_caption image_id image_id_short  \\\n",
       "85  (a) Heat Map representing the activated signal...                       6   \n",
       "86  Efficacy of LQ on tumor volume, tumor weight (...                       4   \n",
       "87  Survivin-VISA vector selectively expressed luc...                       2   \n",
       "88  Methylation status of SOX30 in lung cancer cel...                       1   \n",
       "89  CD56+CD16+ NK cell infiltration extent in diff...                       2   \n",
       "\n",
       "                modality_best_guess                  pull_time  \\\n",
       "85  Computed Tomography (CT): chest 2017-04-07 02:10:43.026799   \n",
       "86  Computed Tomography (CT): chest 2017-04-07 02:10:43.026799   \n",
       "87  Computed Tomography (CT): chest 2017-04-07 02:10:43.026799   \n",
       "88  Computed Tomography (CT): chest 2017-04-07 02:10:43.026799   \n",
       "89  Computed Tomography (CT): chest 2017-04-07 02:10:43.026799   \n",
       "\n",
       "                                                query   sex source_api  \\\n",
       "85  {'image_type': None, 'rankby': None, 'exclusio...  male      openi   \n",
       "86  {'image_type': None, 'rankby': None, 'exclusio...  male      openi   \n",
       "87  {'image_type': None, 'rankby': None, 'exclusio...  male      openi   \n",
       "88  {'image_type': None, 'rankby': None, 'exclusio...  male      openi   \n",
       "89  {'image_type': None, 'rankby': None, 'exclusio...  male      openi   \n",
       "\n",
       "   source_images_path                disease_family   disease_synonym  \\\n",
       "85      path_to_image  (respiratory system cancer,)  (lung neoplasm,)   \n",
       "86      path_to_image  (respiratory system cancer,)  (lung neoplasm,)   \n",
       "87      path_to_image  (respiratory system cancer,)  (lung neoplasm,)   \n",
       "88      path_to_image                                                   \n",
       "89      path_to_image                                                   \n",
       "\n",
       "                                   disease_definition  \\\n",
       "85  A respiratory system cancer that is located in...   \n",
       "86  A respiratory system cancer that is located in...   \n",
       "87  A respiratory system cancer that is located in...   \n",
       "88                                                      \n",
       "89                                                      \n",
       "\n",
       "                            known_associated_symptoms mentioned_symptoms  \\\n",
       "85  (abdominal obesity, abdominal pain, abnormal r...                      \n",
       "86  (abdominal obesity, abdominal pain, abnormal r...     (weight loss,)   \n",
       "87  (abdominal obesity, abdominal pain, abnormal r...                      \n",
       "88                                                                         \n",
       "89                                                                         \n",
       "\n",
       "   known_associated_genes  \n",
       "85                         \n",
       "86                         \n",
       "87                         \n",
       "88                         \n",
       "89                         "
      ]
     },
     "execution_count": 6,
     "metadata": {},
     "output_type": "execute_result"
    }
   ],
   "source": [
    "simplify_df(unified_df)[85:90]"
   ]
  },
  {
   "cell_type": "markdown",
   "metadata": {},
   "source": [
    "Note: the ``'mentioned_symptoms'`` column provides a list of symptoms known to be associated with the disease which were mentioned in the article."
   ]
  },
  {
   "cell_type": "markdown",
   "metadata": {},
   "source": [
    "---\n",
    "## Data Management"
   ]
  },
  {
   "cell_type": "markdown",
   "metadata": {},
   "source": [
    "This section is intended to provide a brief overview of the ways in which data downloaded with BioVida can be removed from your computer. "
   ]
  },
  {
   "cell_type": "markdown",
   "metadata": {},
   "source": [
    "**1.** The simplest way by far is manually delete the ``biovida_cache`` folder, or some portion of files (e.g., images) contained within in. Both ``OpeniInterfaces`` and ``CancerImageInterface`` check for deleted files each time they are instantiated. <br>"
   ]
  },
  {
   "cell_type": "markdown",
   "metadata": {},
   "source": [
    "**2.** While the first approach is straightforward, it is neither elegant nor precise. In those situations that require more finesse, we can employ the ``image_delete`` tool."
   ]
  },
  {
   "cell_type": "code",
   "execution_count": 7,
   "metadata": {
    "collapsed": true
   },
   "outputs": [],
   "source": [
    "from biovida.images import image_delete"
   ]
  },
  {
   "cell_type": "markdown",
   "metadata": {},
   "source": [
    "Next, we simply define a which will inform ``image_delete`` of which rows to delete."
   ]
  },
  {
   "cell_type": "code",
   "execution_count": 8,
   "metadata": {
    "collapsed": true
   },
   "outputs": [],
   "source": [
    "def my_delete_rule(row):\n",
    "    if isinstance(row['abstract'], str) and 'proteins' in row['abstract'].lower():\n",
    "        return True"
   ]
  },
  {
   "cell_type": "markdown",
   "metadata": {},
   "source": [
    "In this example, we'll use the instance of ``OpeniInterface`` created above."
   ]
  },
  {
   "cell_type": "code",
   "execution_count": 9,
   "metadata": {},
   "outputs": [
    {
     "name": "stdout",
     "output_type": "stream",
     "text": [
      "This action cannot be undone.\n",
      "Do you wish to continue (y/n)?y\n",
      "\n",
      "Deleting...\n",
      "\n",
      "Indices of Deleted Rows:\n",
      "\n"
     ]
    },
    {
     "data": {
      "text/html": [
       "<div>\n",
       "<table border=\"1\" class=\"dataframe\">\n",
       "  <thead>\n",
       "    <tr style=\"text-align: right;\">\n",
       "      <th></th>\n",
       "      <th>records_db</th>\n",
       "      <th>cache_records_db</th>\n",
       "    </tr>\n",
       "  </thead>\n",
       "  <tbody>\n",
       "    <tr>\n",
       "      <th>0</th>\n",
       "      <td>88</td>\n",
       "      <td>9047</td>\n",
       "    </tr>\n",
       "    <tr>\n",
       "      <th>1</th>\n",
       "      <td>89</td>\n",
       "      <td>9048</td>\n",
       "    </tr>\n",
       "    <tr>\n",
       "      <th>2</th>\n",
       "      <td>90</td>\n",
       "      <td>9049</td>\n",
       "    </tr>\n",
       "    <tr>\n",
       "      <th>3</th>\n",
       "      <td>91</td>\n",
       "      <td>9050</td>\n",
       "    </tr>\n",
       "    <tr>\n",
       "      <th>4</th>\n",
       "      <td>92</td>\n",
       "      <td>9051</td>\n",
       "    </tr>\n",
       "    <tr>\n",
       "      <th>5</th>\n",
       "      <td>93</td>\n",
       "      <td>9052</td>\n",
       "    </tr>\n",
       "    <tr>\n",
       "      <th>6</th>\n",
       "      <td>94</td>\n",
       "      <td>9053</td>\n",
       "    </tr>\n",
       "    <tr>\n",
       "      <th>7</th>\n",
       "      <td>95</td>\n",
       "      <td>9054</td>\n",
       "    </tr>\n",
       "    <tr>\n",
       "      <th>8</th>\n",
       "      <td>96</td>\n",
       "      <td>9055</td>\n",
       "    </tr>\n",
       "    <tr>\n",
       "      <th>9</th>\n",
       "      <td>97</td>\n",
       "      <td>9056</td>\n",
       "    </tr>\n",
       "    <tr>\n",
       "      <th>10</th>\n",
       "      <td>98</td>\n",
       "      <td>9057</td>\n",
       "    </tr>\n",
       "    <tr>\n",
       "      <th>11</th>\n",
       "      <td>99</td>\n",
       "      <td>9058</td>\n",
       "    </tr>\n",
       "  </tbody>\n",
       "</table>\n",
       "</div>"
      ],
      "text/plain": [
       "    records_db  cache_records_db\n",
       "0           88              9047\n",
       "1           89              9048\n",
       "2           90              9049\n",
       "3           91              9050\n",
       "4           92              9051\n",
       "5           93              9052\n",
       "6           94              9053\n",
       "7           95              9054\n",
       "8           96              9055\n",
       "9           97              9056\n",
       "10          98              9057\n",
       "11          99              9058"
      ]
     },
     "metadata": {},
     "output_type": "display_data"
    }
   ],
   "source": [
    "deleted_rows = image_delete(opi, delete_rule=my_delete_rule)"
   ]
  },
  {
   "cell_type": "markdown",
   "metadata": {},
   "source": [
    "This will not only delete the row, but *any* image associated with it. Therefore, as a precaution, you will be asked to confirm this action before it is performed."
   ]
  },
  {
   "cell_type": "markdown",
   "metadata": {},
   "source": [
    "**Warning**: ``image_delete`` will delete *any* rows for which your 'delete_rule' returns ``True``, including those in ``cache_records_db`` which were not downloaded in the most recent ``pull()``."
   ]
  },
  {
   "cell_type": "markdown",
   "metadata": {},
   "source": [
    "---"
   ]
  },
  {
   "cell_type": "markdown",
   "metadata": {},
   "source": [
    "In this tutorial we have reviewed how to unify images obtained with BioVida both with eachother as well as against external biomedial databases. Additionally, we have explored methods for deleting downloaded data."
   ]
  },
  {
   "cell_type": "markdown",
   "metadata": {},
   "source": [
    "---"
   ]
  }
 ],
 "metadata": {
  "kernelspec": {
   "display_name": "Python 3",
   "language": "python",
   "name": "python3"
  },
  "language_info": {
   "codemirror_mode": {
    "name": "ipython",
    "version": 3
   },
   "file_extension": ".py",
   "mimetype": "text/x-python",
   "name": "python",
   "nbconvert_exporter": "python",
   "pygments_lexer": "ipython3",
   "version": "3.5.2"
  },
  "widgets": {
   "application/vnd.jupyter.widget-state+json": {
    "state": {
     "007b2a2d5ff24f30b4ab620507efb252": {
      "model_module": "jupyter-js-widgets",
      "model_module_version": "~2.1.4",
      "model_name": "LayoutModel",
      "state": {
       "_model_module_version": "~2.1.4",
       "_view_module_version": "~2.1.4"
      }
     },
     "0090c9c5c0fb48788c9390376d2c68a2": {
      "model_module": "jupyter-js-widgets",
      "model_module_version": "~2.1.4",
      "model_name": "HTMLModel",
      "state": {
       "_model_module_version": "~2.1.4",
       "_view_module_version": "~2.1.4",
       "layout": "IPY_MODEL_1ab24f1061a84bdc8e0c65e62d4f35d8",
       "value": "100% 11/11 [00:00&lt;00:00, 58.88it/s]"
      }
     },
     "00a5a63b07534e5980097bb7ba1d22c9": {
      "model_module": "jupyter-js-widgets",
      "model_module_version": "~2.1.4",
      "model_name": "HBoxModel",
      "state": {
       "_model_module_version": "~2.1.4",
       "_view_module_version": "~2.1.4",
       "children": [
        "IPY_MODEL_ef2db5aa586b4f13a5dbabc28b27634d",
        "IPY_MODEL_a1de700a9bc14b17be61b4be76c1c973"
       ],
       "layout": "IPY_MODEL_9408a6afba354d43b0552109866d2f18"
      }
     },
     "01cb5476f9e4439d9d07e515f6e7ac21": {
      "model_module": "jupyter-js-widgets",
      "model_module_version": "~2.1.4",
      "model_name": "ProgressModel",
      "state": {
       "_model_module_version": "~2.1.4",
       "_view_module_version": "~2.1.4",
       "bar_style": "success",
       "description": "Matching Symptoms: ",
       "layout": "IPY_MODEL_64e4e88db32f4969946a86634af0d056",
       "max": 111,
       "style": "IPY_MODEL_0f8385e32c1d4608b9cde5d1ad2cc69f",
       "value": 111
      }
     },
     "01d2e0a7e3b444308604a9d3cbf28f85": {
      "model_module": "jupyter-js-widgets",
      "model_module_version": "~2.1.4",
      "model_name": "HBoxModel",
      "state": {
       "_model_module_version": "~2.1.4",
       "_view_module_version": "~2.1.4",
       "children": [
        "IPY_MODEL_f84a90c1a2a343ceab1b33bf35fab6df",
        "IPY_MODEL_59b0482b96c34016a48f3ac5ca763dbc"
       ],
       "layout": "IPY_MODEL_4f0de5ad8735491a9da2cd4106dcf87f"
      }
     },
     "0200daac799844d4811288bbf9865cc2": {
      "model_module": "jupyter-js-widgets",
      "model_module_version": "~2.1.4",
      "model_name": "ProgressStyleModel",
      "state": {
       "_model_module_version": "~2.1.4",
       "_view_module_version": "~2.1.4"
      }
     },
     "0253923fe1dd40d3a979f2428af7d3e6": {
      "model_module": "jupyter-js-widgets",
      "model_module_version": "~2.1.4",
      "model_name": "ProgressStyleModel",
      "state": {
       "_model_module_version": "~2.1.4",
       "_view_module_version": "~2.1.4"
      }
     },
     "02626ccdc77e427ba514911ff221d164": {
      "model_module": "jupyter-js-widgets",
      "model_module_version": "~2.1.4",
      "model_name": "LayoutModel",
      "state": {
       "_model_module_version": "~2.1.4",
       "_view_module_version": "~2.1.4"
      }
     },
     "02939d40ce4044c3a7182c954a0bbcda": {
      "model_module": "jupyter-js-widgets",
      "model_module_version": "~2.1.4",
      "model_name": "HTMLModel",
      "state": {
       "_model_module_version": "~2.1.4",
       "_view_module_version": "~2.1.4",
       "layout": "IPY_MODEL_9299a9e21b324343b88bc261c08ff687",
       "value": "100% 111/111 [00:00&lt;00:00, 4090.82it/s]"
      }
     },
     "04629627dea74f858c8ca6c2619007cd": {
      "model_module": "jupyter-js-widgets",
      "model_module_version": "~2.1.4",
      "model_name": "LayoutModel",
      "state": {
       "_model_module_version": "~2.1.4",
       "_view_module_version": "~2.1.4"
      }
     },
     "04827f3faee64b409c5798973f2420ea": {
      "model_module": "jupyter-js-widgets",
      "model_module_version": "~2.1.4",
      "model_name": "LayoutModel",
      "state": {
       "_model_module_version": "~2.1.4",
       "_view_module_version": "~2.1.4"
      }
     },
     "04dc3aed36e2409cb2c08a564791ac90": {
      "model_module": "jupyter-js-widgets",
      "model_module_version": "~2.1.4",
      "model_name": "ProgressStyleModel",
      "state": {
       "_model_module_version": "~2.1.4",
       "_view_module_version": "~2.1.4"
      }
     },
     "053416cd7ee54fdeb14b3999c3bdb83f": {
      "model_module": "jupyter-js-widgets",
      "model_module_version": "~2.1.4",
      "model_name": "ProgressStyleModel",
      "state": {
       "_model_module_version": "~2.1.4",
       "_view_module_version": "~2.1.4"
      }
     },
     "05f06b57cd96491fa901d4bcab26089a": {
      "model_module": "jupyter-js-widgets",
      "model_module_version": "~2.1.4",
      "model_name": "LayoutModel",
      "state": {
       "_model_module_version": "~2.1.4",
       "_view_module_version": "~2.1.4"
      }
     },
     "061d76ee1852443b924cab2dad732dd5": {
      "model_module": "jupyter-js-widgets",
      "model_module_version": "~2.1.4",
      "model_name": "LayoutModel",
      "state": {
       "_model_module_version": "~2.1.4",
       "_view_module_version": "~2.1.4"
      }
     },
     "063b15701b2a4ecfb43a295d449def76": {
      "model_module": "jupyter-js-widgets",
      "model_module_version": "~2.1.4",
      "model_name": "ProgressStyleModel",
      "state": {
       "_model_module_version": "~2.1.4",
       "_view_module_version": "~2.1.4"
      }
     },
     "06416df0c62241d492531abe0681f4ca": {
      "model_module": "jupyter-js-widgets",
      "model_module_version": "~2.1.4",
      "model_name": "HBoxModel",
      "state": {
       "_model_module_version": "~2.1.4",
       "_view_module_version": "~2.1.4",
       "children": [
        "IPY_MODEL_819211964fa04b828e39e74dcdab1b7a",
        "IPY_MODEL_08de92d70b6a411e8f70b59e99bfa232"
       ],
       "layout": "IPY_MODEL_04827f3faee64b409c5798973f2420ea"
      }
     },
     "0642aee0d3674fb8af86040e84c12533": {
      "model_module": "jupyter-js-widgets",
      "model_module_version": "~2.1.4",
      "model_name": "ProgressStyleModel",
      "state": {
       "_model_module_version": "~2.1.4",
       "_view_module_version": "~2.1.4"
      }
     },
     "078cf1abb1f24b79bb5df60c633b3ddd": {
      "model_module": "jupyter-js-widgets",
      "model_module_version": "~2.1.4",
      "model_name": "HBoxModel",
      "state": {
       "_model_module_version": "~2.1.4",
       "_view_module_version": "~2.1.4",
       "children": [
        "IPY_MODEL_9a52b24e4f954e5fb67da3e38fbf261f",
        "IPY_MODEL_5ab6702a3c3e4a6397832820e7a7abb4"
       ],
       "layout": "IPY_MODEL_d6dda409efe2436e82ab5f7176c07b6c"
      }
     },
     "08095ddaba1342dfa98f463ff62ecab5": {
      "model_module": "jupyter-js-widgets",
      "model_module_version": "~2.1.4",
      "model_name": "ProgressModel",
      "state": {
       "_model_module_version": "~2.1.4",
       "_view_module_version": "~2.1.4",
       "bar_style": "success",
       "description": "Obtaining Images: ",
       "layout": "IPY_MODEL_9aa3650726234e65b5cd67b1ac24c245",
       "max": 11,
       "style": "IPY_MODEL_34bdfd1a1f09452ead742809acd835e6",
       "value": 11
      }
     },
     "081d76bd753e48a9b6d86a75f548a489": {
      "model_module": "jupyter-js-widgets",
      "model_module_version": "~2.1.4",
      "model_name": "HBoxModel",
      "state": {
       "_model_module_version": "~2.1.4",
       "_view_module_version": "~2.1.4",
       "children": [
        "IPY_MODEL_c899cf29ce7e4ced9fc4bc5a0494722a",
        "IPY_MODEL_17b98354e33b4e04bf3553731280c9d3"
       ],
       "layout": "IPY_MODEL_f80b326db276496ea48a2b38c022edf9"
      }
     },
     "082914ca2ec247d0b60897ba413e7e9b": {
      "model_module": "jupyter-js-widgets",
      "model_module_version": "~2.1.4",
      "model_name": "ProgressStyleModel",
      "state": {
       "_model_module_version": "~2.1.4",
       "_view_module_version": "~2.1.4"
      }
     },
     "085ce9a46a3a42e396f0651e904a182f": {
      "model_module": "jupyter-js-widgets",
      "model_module_version": "~2.1.4",
      "model_name": "LayoutModel",
      "state": {
       "_model_module_version": "~2.1.4",
       "_view_module_version": "~2.1.4"
      }
     },
     "08855857cc284f5b98e26b491ba120de": {
      "model_module": "jupyter-js-widgets",
      "model_module_version": "~2.1.4",
      "model_name": "LayoutModel",
      "state": {
       "_model_module_version": "~2.1.4",
       "_view_module_version": "~2.1.4"
      }
     },
     "08de92d70b6a411e8f70b59e99bfa232": {
      "model_module": "jupyter-js-widgets",
      "model_module_version": "~2.1.4",
      "model_name": "HTMLModel",
      "state": {
       "_model_module_version": "~2.1.4",
       "_view_module_version": "~2.1.4",
       "layout": "IPY_MODEL_a71ca28d0b084be78cd7e146e056f7d6",
       "value": "100% 111/111 [00:00&lt;00:00, 2074.50it/s]"
      }
     },
     "0958508f798d4a90863902f2914e8785": {
      "model_module": "jupyter-js-widgets",
      "model_module_version": "~2.1.4",
      "model_name": "ProgressStyleModel",
      "state": {
       "_model_module_version": "~2.1.4",
       "_view_module_version": "~2.1.4"
      }
     },
     "09d041003965477fb0ed9678b80a4a36": {
      "model_module": "jupyter-js-widgets",
      "model_module_version": "~2.1.4",
      "model_name": "ProgressStyleModel",
      "state": {
       "_model_module_version": "~2.1.4",
       "_view_module_version": "~2.1.4"
      }
     },
     "0a874604aed8408dad5422930df1c71f": {
      "model_module": "jupyter-js-widgets",
      "model_module_version": "~2.1.4",
      "model_name": "LayoutModel",
      "state": {
       "_model_module_version": "~2.1.4",
       "_view_module_version": "~2.1.4"
      }
     },
     "0a958cec52f64a00885cbce165402490": {
      "model_module": "jupyter-js-widgets",
      "model_module_version": "~2.1.4",
      "model_name": "LayoutModel",
      "state": {
       "_model_module_version": "~2.1.4",
       "_view_module_version": "~2.1.4"
      }
     },
     "0bf051b019e74618a04c299e05c01fbb": {
      "model_module": "jupyter-js-widgets",
      "model_module_version": "~2.1.4",
      "model_name": "LayoutModel",
      "state": {
       "_model_module_version": "~2.1.4",
       "_view_module_version": "~2.1.4"
      }
     },
     "0c94444d6f1c40d08b3cf676a49dbeff": {
      "model_module": "jupyter-js-widgets",
      "model_module_version": "~2.1.4",
      "model_name": "HTMLModel",
      "state": {
       "_model_module_version": "~2.1.4",
       "_view_module_version": "~2.1.4",
       "layout": "IPY_MODEL_3d6650087f0c416989441723905d5982",
       "value": "100% 111/111 [00:00&lt;00:00, 902.53it/s]"
      }
     },
     "0d4d7025634b4c2a8279625f5184d049": {
      "model_module": "jupyter-js-widgets",
      "model_module_version": "~2.1.4",
      "model_name": "ProgressModel",
      "state": {
       "_model_module_version": "~2.1.4",
       "_view_module_version": "~2.1.4",
       "bar_style": "success",
       "description": "Obtaining Records: ",
       "layout": "IPY_MODEL_98ebf835eb884dcaa45c22fb505dff16",
       "max": 4,
       "style": "IPY_MODEL_1b8f3f8dcaf74e7eb45adcea5322f5a4",
       "value": 4
      }
     },
     "0e5569c4490d436db4f3011fd9d21349": {
      "model_module": "jupyter-js-widgets",
      "model_module_version": "~2.1.4",
      "model_name": "LayoutModel",
      "state": {
       "_model_module_version": "~2.1.4",
       "_view_module_version": "~2.1.4"
      }
     },
     "0ebdfb9108b54a8c9dbd6174d3a87415": {
      "model_module": "jupyter-js-widgets",
      "model_module_version": "~2.1.4",
      "model_name": "LayoutModel",
      "state": {
       "_model_module_version": "~2.1.4",
       "_view_module_version": "~2.1.4"
      }
     },
     "0ec5e9e902584b71b3d6aacba6f64122": {
      "model_module": "jupyter-js-widgets",
      "model_module_version": "~2.1.4",
      "model_name": "LayoutModel",
      "state": {
       "_model_module_version": "~2.1.4",
       "_view_module_version": "~2.1.4"
      }
     },
     "0eea30ba048942c6a9d9be3cff25a88a": {
      "model_module": "jupyter-js-widgets",
      "model_module_version": "~2.1.4",
      "model_name": "LayoutModel",
      "state": {
       "_model_module_version": "~2.1.4",
       "_view_module_version": "~2.1.4"
      }
     },
     "0f1d51b90b5b40c6920de5d54bcf7afc": {
      "model_module": "jupyter-js-widgets",
      "model_module_version": "~2.1.4",
      "model_name": "ProgressModel",
      "state": {
       "_model_module_version": "~2.1.4",
       "_view_module_version": "~2.1.4",
       "bar_style": "success",
       "description": "Obtaining Images: ",
       "layout": "IPY_MODEL_8dd0c38ecce8438e9f80202a98330a2c",
       "style": "IPY_MODEL_232cd64b770a4fb8bdd1f5b46bdb8506",
       "value": 100
      }
     },
     "0f8385e32c1d4608b9cde5d1ad2cc69f": {
      "model_module": "jupyter-js-widgets",
      "model_module_version": "~2.1.4",
      "model_name": "ProgressStyleModel",
      "state": {
       "_model_module_version": "~2.1.4",
       "_view_module_version": "~2.1.4"
      }
     },
     "11d4faa87e6a45759c430b59db599476": {
      "model_module": "jupyter-js-widgets",
      "model_module_version": "~2.1.4",
      "model_name": "HTMLModel",
      "state": {
       "_model_module_version": "~2.1.4",
       "_view_module_version": "~2.1.4",
       "layout": "IPY_MODEL_35342b98358a45d8af1e3b967b8e7a89",
       "value": "100% 111/111 [00:00&lt;00:00, 1902.12it/s]"
      }
     },
     "125241a79c5e45bfb58cf68d6207dac2": {
      "model_module": "jupyter-js-widgets",
      "model_module_version": "~2.1.4",
      "model_name": "LayoutModel",
      "state": {
       "_model_module_version": "~2.1.4",
       "_view_module_version": "~2.1.4"
      }
     },
     "12f4c7f42b074737965a7101c5e9dc30": {
      "model_module": "jupyter-js-widgets",
      "model_module_version": "~2.1.4",
      "model_name": "LayoutModel",
      "state": {
       "_model_module_version": "~2.1.4",
       "_view_module_version": "~2.1.4"
      }
     },
     "1372d70c97dd4303b5a070237ad7d679": {
      "model_module": "jupyter-js-widgets",
      "model_module_version": "~2.1.4",
      "model_name": "HTMLModel",
      "state": {
       "_model_module_version": "~2.1.4",
       "_view_module_version": "~2.1.4",
       "layout": "IPY_MODEL_15dd582895324e6f8df9dc3f987e1fc8",
       "value": "100% 3/3 [00:25&lt;00:00,  7.58s/it]"
      }
     },
     "15013da3791f4d1291c32cb8e2e8cb13": {
      "model_module": "jupyter-js-widgets",
      "model_module_version": "~2.1.4",
      "model_name": "LayoutModel",
      "state": {
       "_model_module_version": "~2.1.4",
       "_view_module_version": "~2.1.4"
      }
     },
     "15aa1366e21d44a3888702ed26169480": {
      "model_module": "jupyter-js-widgets",
      "model_module_version": "~2.1.4",
      "model_name": "HTMLModel",
      "state": {
       "_model_module_version": "~2.1.4",
       "_view_module_version": "~2.1.4",
       "layout": "IPY_MODEL_2abc609a69b84eb9a94e43c7ee1fec11",
       "value": "100% 100/100 [00:00&lt;00:00, 3060.35it/s]"
      }
     },
     "15dd582895324e6f8df9dc3f987e1fc8": {
      "model_module": "jupyter-js-widgets",
      "model_module_version": "~2.1.4",
      "model_name": "LayoutModel",
      "state": {
       "_model_module_version": "~2.1.4",
       "_view_module_version": "~2.1.4"
      }
     },
     "15fdbb0ca3184b2eb3d59201791239df": {
      "model_module": "jupyter-js-widgets",
      "model_module_version": "~2.1.4",
      "model_name": "HBoxModel",
      "state": {
       "_model_module_version": "~2.1.4",
       "_view_module_version": "~2.1.4",
       "children": [
        "IPY_MODEL_0d4d7025634b4c2a8279625f5184d049",
        "IPY_MODEL_24d432b831d9488a942e0cc3f4636d08"
       ],
       "layout": "IPY_MODEL_9285e1b82aba471c83d0433d089fb849"
      }
     },
     "161faf0c090b4330b80bace69cfed115": {
      "model_module": "jupyter-js-widgets",
      "model_module_version": "~2.1.4",
      "model_name": "ProgressModel",
      "state": {
       "_model_module_version": "~2.1.4",
       "_view_module_version": "~2.1.4",
       "bar_style": "success",
       "description": "'TCGA-LUSC' Records: ",
       "layout": "IPY_MODEL_02626ccdc77e427ba514911ff221d164",
       "max": 3,
       "style": "IPY_MODEL_92f28475441d40b2b526ecf487d186c8",
       "value": 3
      }
     },
     "162c9e0962194ef2b4cc7d510fe79d74": {
      "model_module": "jupyter-js-widgets",
      "model_module_version": "~2.1.4",
      "model_name": "ProgressStyleModel",
      "state": {
       "_model_module_version": "~2.1.4",
       "_view_module_version": "~2.1.4"
      }
     },
     "16b1b7c14bf64bc4ae247434f37e553b": {
      "model_module": "jupyter-js-widgets",
      "model_module_version": "~2.1.4",
      "model_name": "ProgressModel",
      "state": {
       "_model_module_version": "~2.1.4",
       "_view_module_version": "~2.1.4",
       "bar_style": "success",
       "description": "Processing Records: ",
       "layout": "IPY_MODEL_b44fd4b011ea481881c834cc34a8e0de",
       "style": "IPY_MODEL_bc1538964531413b8daa113e8833ade0",
       "value": 100
      }
     },
     "1726c18d96f14ec4a297d1333c35a365": {
      "model_module": "jupyter-js-widgets",
      "model_module_version": "~2.1.4",
      "model_name": "LayoutModel",
      "state": {
       "_model_module_version": "~2.1.4",
       "_view_module_version": "~2.1.4"
      }
     },
     "17b98354e33b4e04bf3553731280c9d3": {
      "model_module": "jupyter-js-widgets",
      "model_module_version": "~2.1.4",
      "model_name": "HTMLModel",
      "state": {
       "_model_module_version": "~2.1.4",
       "_view_module_version": "~2.1.4",
       "layout": "IPY_MODEL_af47d0d1ecab44fc8c1005c1a60faeb6",
       "value": "100% 100/100 [00:03&lt;00:00, 29.23it/s]"
      }
     },
     "17da9b93dd64493581105c695a5a40ba": {
      "model_module": "jupyter-js-widgets",
      "model_module_version": "~2.1.4",
      "model_name": "LayoutModel",
      "state": {
       "_model_module_version": "~2.1.4",
       "_view_module_version": "~2.1.4"
      }
     },
     "186ca22836e344a0bc34970bc14aa39f": {
      "model_module": "jupyter-js-widgets",
      "model_module_version": "~2.1.4",
      "model_name": "LayoutModel",
      "state": {
       "_model_module_version": "~2.1.4",
       "_view_module_version": "~2.1.4"
      }
     },
     "1875d8cbad8c45e6ab706375107c8c6e": {
      "model_module": "jupyter-js-widgets",
      "model_module_version": "~2.1.4",
      "model_name": "ProgressModel",
      "state": {
       "_model_module_version": "~2.1.4",
       "_view_module_version": "~2.1.4",
       "bar_style": "success",
       "description": "Matching Symptoms: ",
       "layout": "IPY_MODEL_7571ba18656249b5b7cb27dfeeef6b97",
       "max": 111,
       "style": "IPY_MODEL_e73e71adbe5e4146aede0e213051ea1d",
       "value": 111
      }
     },
     "188a717e49b84576a7c4e7367c361f27": {
      "model_module": "jupyter-js-widgets",
      "model_module_version": "~2.1.4",
      "model_name": "LayoutModel",
      "state": {
       "_model_module_version": "~2.1.4",
       "_view_module_version": "~2.1.4"
      }
     },
     "18ec96c4326d477e9cde1964c132cbe5": {
      "model_module": "jupyter-js-widgets",
      "model_module_version": "~2.1.4",
      "model_name": "ProgressModel",
      "state": {
       "_model_module_version": "~2.1.4",
       "_view_module_version": "~2.1.4",
       "bar_style": "success",
       "description": "Obtaining Images: ",
       "layout": "IPY_MODEL_a940a9b9bbbe4d01a021c35134144f65",
       "style": "IPY_MODEL_b6a0782922c145deb241014d3a304b41",
       "value": 100
      }
     },
     "19680125ee5a49a8b41043de773e1be0": {
      "model_module": "jupyter-js-widgets",
      "model_module_version": "~2.1.4",
      "model_name": "HBoxModel",
      "state": {
       "_model_module_version": "~2.1.4",
       "_view_module_version": "~2.1.4",
       "children": [
        "IPY_MODEL_a5756c5276b349e7bff4e0f62c8fd076",
        "IPY_MODEL_b74904800a6e4d51b9a388944d395d89"
       ],
       "layout": "IPY_MODEL_852e1877b82642d19bf7cc01c356e907"
      }
     },
     "198ef0741fcc418693a9c468422a2c8e": {
      "model_module": "jupyter-js-widgets",
      "model_module_version": "~2.1.4",
      "model_name": "ProgressModel",
      "state": {
       "_model_module_version": "~2.1.4",
       "_view_module_version": "~2.1.4",
       "bar_style": "success",
       "description": "Disease Data: ",
       "layout": "IPY_MODEL_453eac5f0f344795b48f18c64085776e",
       "max": 111,
       "style": "IPY_MODEL_0642aee0d3674fb8af86040e84c12533",
       "value": 111
      }
     },
     "1a1bb568f58f4797b9800e4e7849d2a1": {
      "model_module": "jupyter-js-widgets",
      "model_module_version": "~2.1.4",
      "model_name": "ProgressStyleModel",
      "state": {
       "_model_module_version": "~2.1.4",
       "_view_module_version": "~2.1.4"
      }
     },
     "1a280307185c4d3e824b5bd23377573c": {
      "model_module": "jupyter-js-widgets",
      "model_module_version": "~2.1.4",
      "model_name": "ProgressStyleModel",
      "state": {
       "_model_module_version": "~2.1.4",
       "_view_module_version": "~2.1.4"
      }
     },
     "1ab24f1061a84bdc8e0c65e62d4f35d8": {
      "model_module": "jupyter-js-widgets",
      "model_module_version": "~2.1.4",
      "model_name": "LayoutModel",
      "state": {
       "_model_module_version": "~2.1.4",
       "_view_module_version": "~2.1.4"
      }
     },
     "1b064c6c8a4049b697e45983968727a9": {
      "model_module": "jupyter-js-widgets",
      "model_module_version": "~2.1.4",
      "model_name": "LayoutModel",
      "state": {
       "_model_module_version": "~2.1.4",
       "_view_module_version": "~2.1.4"
      }
     },
     "1b8f3f8dcaf74e7eb45adcea5322f5a4": {
      "model_module": "jupyter-js-widgets",
      "model_module_version": "~2.1.4",
      "model_name": "ProgressStyleModel",
      "state": {
       "_model_module_version": "~2.1.4",
       "_view_module_version": "~2.1.4"
      }
     },
     "1bea5d4b41d346b298d6e80ed1b8bae1": {
      "model_module": "jupyter-js-widgets",
      "model_module_version": "~2.1.4",
      "model_name": "ProgressStyleModel",
      "state": {
       "_model_module_version": "~2.1.4",
       "_view_module_version": "~2.1.4"
      }
     },
     "1c65dc8d3b5c44f99d26628db6ff0de2": {
      "model_module": "jupyter-js-widgets",
      "model_module_version": "~2.1.4",
      "model_name": "LayoutModel",
      "state": {
       "_model_module_version": "~2.1.4",
       "_view_module_version": "~2.1.4"
      }
     },
     "1c7b91fabbc2418eb3081ef42eae1912": {
      "model_module": "jupyter-js-widgets",
      "model_module_version": "~2.1.4",
      "model_name": "HBoxModel",
      "state": {
       "_model_module_version": "~2.1.4",
       "_view_module_version": "~2.1.4",
       "children": [
        "IPY_MODEL_7889d51c102947aaa04aa83e1caa8743",
        "IPY_MODEL_4174313506d94538b0dbfea113e0db0c"
       ],
       "layout": "IPY_MODEL_a37de5f3819c4f108e0d5be41f0911ce"
      }
     },
     "1c827db596a54875841f02273283cc05": {
      "model_module": "jupyter-js-widgets",
      "model_module_version": "~2.1.4",
      "model_name": "LayoutModel",
      "state": {
       "_model_module_version": "~2.1.4",
       "_view_module_version": "~2.1.4"
      }
     },
     "1ccd7de2dfd04477bec081840b7904ec": {
      "model_module": "jupyter-js-widgets",
      "model_module_version": "~2.1.4",
      "model_name": "HBoxModel",
      "state": {
       "_model_module_version": "~2.1.4",
       "_view_module_version": "~2.1.4",
       "children": [
        "IPY_MODEL_2d1c01624e6048078cf561d5c98e42ea",
        "IPY_MODEL_1d1d0b3b5d4649c9a135910cf9112346"
       ],
       "layout": "IPY_MODEL_56d661bd7c074b258ac2be4ff903f580"
      }
     },
     "1ce41fc8453a41aea7f9474f7740e3a9": {
      "model_module": "jupyter-js-widgets",
      "model_module_version": "~2.1.4",
      "model_name": "ProgressModel",
      "state": {
       "_model_module_version": "~2.1.4",
       "_view_module_version": "~2.1.4",
       "bar_style": "success",
       "description": "Obtaining Images: ",
       "layout": "IPY_MODEL_15013da3791f4d1291c32cb8e2e8cb13",
       "max": 11,
       "style": "IPY_MODEL_892627d730684f41a2b3b8e88c5d9720",
       "value": 11
      }
     },
     "1d1d0b3b5d4649c9a135910cf9112346": {
      "model_module": "jupyter-js-widgets",
      "model_module_version": "~2.1.4",
      "model_name": "HTMLModel",
      "state": {
       "_model_module_version": "~2.1.4",
       "_view_module_version": "~2.1.4",
       "layout": "IPY_MODEL_522717f4f41840b7b7a2cf5a1853f0b9",
       "value": "100% 100/100 [01:01&lt;00:00,  1.40it/s]"
      }
     },
     "1e33ced2122b4dcdba7248e8719998d1": {
      "model_module": "jupyter-js-widgets",
      "model_module_version": "~2.1.4",
      "model_name": "LayoutModel",
      "state": {
       "_model_module_version": "~2.1.4",
       "_view_module_version": "~2.1.4"
      }
     },
     "1f473f2ef22040d589382c05e84b9f78": {
      "model_module": "jupyter-js-widgets",
      "model_module_version": "~2.1.4",
      "model_name": "LayoutModel",
      "state": {
       "_model_module_version": "~2.1.4",
       "_view_module_version": "~2.1.4"
      }
     },
     "1ffff57aad564091b102be3f1d95cb83": {
      "model_module": "jupyter-js-widgets",
      "model_module_version": "~2.1.4",
      "model_name": "HTMLModel",
      "state": {
       "_model_module_version": "~2.1.4",
       "_view_module_version": "~2.1.4",
       "layout": "IPY_MODEL_4915cd8797b84adfb955fc7a2167daa0",
       "value": "100% 4/4 [00:04&lt;00:00,  1.19s/it]"
      }
     },
     "2069ff110c2b424c8b372a39b5e97f8c": {
      "model_module": "jupyter-js-widgets",
      "model_module_version": "~2.1.4",
      "model_name": "ProgressModel",
      "state": {
       "_model_module_version": "~2.1.4",
       "_view_module_version": "~2.1.4",
       "bar_style": "success",
       "description": "Obtaining Images: ",
       "layout": "IPY_MODEL_dcc7e8489aed41e9886835eed772b9cb",
       "max": 11,
       "style": "IPY_MODEL_3f68d658e50c439986cba891132bf5e3",
       "value": 11
      }
     },
     "20772a607a9e4d5dab0b9cd3e770b01c": {
      "model_module": "jupyter-js-widgets",
      "model_module_version": "~2.1.4",
      "model_name": "ProgressStyleModel",
      "state": {
       "_model_module_version": "~2.1.4",
       "_view_module_version": "~2.1.4"
      }
     },
     "219e2cd07f644a9b87bcba911fdc43e6": {
      "model_module": "jupyter-js-widgets",
      "model_module_version": "~2.1.4",
      "model_name": "LayoutModel",
      "state": {
       "_model_module_version": "~2.1.4",
       "_view_module_version": "~2.1.4"
      }
     },
     "22b0611ae49a42bfa2a9b2f35d0fe5c8": {
      "model_module": "jupyter-js-widgets",
      "model_module_version": "~2.1.4",
      "model_name": "LayoutModel",
      "state": {
       "_model_module_version": "~2.1.4",
       "_view_module_version": "~2.1.4"
      }
     },
     "232cd64b770a4fb8bdd1f5b46bdb8506": {
      "model_module": "jupyter-js-widgets",
      "model_module_version": "~2.1.4",
      "model_name": "ProgressStyleModel",
      "state": {
       "_model_module_version": "~2.1.4",
       "_view_module_version": "~2.1.4"
      }
     },
     "233491da57524cc5bc74c81373386578": {
      "model_module": "jupyter-js-widgets",
      "model_module_version": "~2.1.4",
      "model_name": "LayoutModel",
      "state": {
       "_model_module_version": "~2.1.4",
       "_view_module_version": "~2.1.4"
      }
     },
     "236161d257034c8ba9fae5d1f3ee5c4e": {
      "model_module": "jupyter-js-widgets",
      "model_module_version": "~2.1.4",
      "model_name": "LayoutModel",
      "state": {
       "_model_module_version": "~2.1.4",
       "_view_module_version": "~2.1.4"
      }
     },
     "23b9f7ebc035408eb8e8aeb1ea40c541": {
      "model_module": "jupyter-js-widgets",
      "model_module_version": "~2.1.4",
      "model_name": "LayoutModel",
      "state": {
       "_model_module_version": "~2.1.4",
       "_view_module_version": "~2.1.4"
      }
     },
     "23ee18230b414c9a99cec361fa623a02": {
      "model_module": "jupyter-js-widgets",
      "model_module_version": "~2.1.4",
      "model_name": "HTMLModel",
      "state": {
       "_model_module_version": "~2.1.4",
       "_view_module_version": "~2.1.4",
       "layout": "IPY_MODEL_9341185d487a4b598037af8e40713111",
       "value": "100% 111/111 [00:00&lt;00:00, 1519.30it/s]"
      }
     },
     "24bd380e2e1d49f5a136dacbf83f2eb6": {
      "model_module": "jupyter-js-widgets",
      "model_module_version": "~2.1.4",
      "model_name": "HTMLModel",
      "state": {
       "_model_module_version": "~2.1.4",
       "_view_module_version": "~2.1.4",
       "layout": "IPY_MODEL_5890589cadde46eaba7d13553d3bc170",
       "value": "100% 3/3 [00:17&lt;00:00,  5.85s/it]"
      }
     },
     "24d432b831d9488a942e0cc3f4636d08": {
      "model_module": "jupyter-js-widgets",
      "model_module_version": "~2.1.4",
      "model_name": "HTMLModel",
      "state": {
       "_model_module_version": "~2.1.4",
       "_view_module_version": "~2.1.4",
       "layout": "IPY_MODEL_9b9fc81362a34d5fa1c0f3a96e82701b",
       "value": "100% 4/4 [00:05&lt;00:00,  1.32s/it]"
      }
     },
     "24d44bac55dd4edd93371757bd76907a": {
      "model_module": "jupyter-js-widgets",
      "model_module_version": "~2.1.4",
      "model_name": "HTMLModel",
      "state": {
       "_model_module_version": "~2.1.4",
       "_view_module_version": "~2.1.4",
       "layout": "IPY_MODEL_1c827db596a54875841f02273283cc05",
       "value": "100% 3/3 [00:17&lt;00:00,  5.70s/it]"
      }
     },
     "24eed22af59542c58b0086ddf50f80c1": {
      "model_module": "jupyter-js-widgets",
      "model_module_version": "~2.1.4",
      "model_name": "HBoxModel",
      "state": {
       "_model_module_version": "~2.1.4",
       "_view_module_version": "~2.1.4",
       "children": [
        "IPY_MODEL_a671f72834b54cecbf65eca004c5e727",
        "IPY_MODEL_23ee18230b414c9a99cec361fa623a02"
       ],
       "layout": "IPY_MODEL_2a36be3629194dc7b2994bcdb5535f8a"
      }
     },
     "250f362770794f25a6344b3522dfad5d": {
      "model_module": "jupyter-js-widgets",
      "model_module_version": "~2.1.4",
      "model_name": "LayoutModel",
      "state": {
       "_model_module_version": "~2.1.4",
       "_view_module_version": "~2.1.4"
      }
     },
     "2574e16311554fadbfeede1fa6f8c82e": {
      "model_module": "jupyter-js-widgets",
      "model_module_version": "~2.1.4",
      "model_name": "LayoutModel",
      "state": {
       "_model_module_version": "~2.1.4",
       "_view_module_version": "~2.1.4"
      }
     },
     "257f41ec0a7d4577989e82e6fac754ed": {
      "model_module": "jupyter-js-widgets",
      "model_module_version": "~2.1.4",
      "model_name": "ProgressModel",
      "state": {
       "_model_module_version": "~2.1.4",
       "_view_module_version": "~2.1.4",
       "bar_style": "success",
       "description": "Obtaining Records: ",
       "layout": "IPY_MODEL_0eea30ba048942c6a9d9be3cff25a88a",
       "max": 4,
       "style": "IPY_MODEL_6de8ba0991bb44dcb830661217413a3d",
       "value": 4
      }
     },
     "25da2dd3107e4b269d357dc1f91428c0": {
      "model_module": "jupyter-js-widgets",
      "model_module_version": "~2.1.4",
      "model_name": "HTMLModel",
      "state": {
       "_model_module_version": "~2.1.4",
       "_view_module_version": "~2.1.4",
       "layout": "IPY_MODEL_319ee8f1140049f29e3572fd636b4938",
       "value": "100% 111/111 [00:00&lt;00:00, 4421.60it/s]"
      }
     },
     "25dc474fc2504b3084f78620aa09cbfb": {
      "model_module": "jupyter-js-widgets",
      "model_module_version": "~2.1.4",
      "model_name": "ProgressModel",
      "state": {
       "_model_module_version": "~2.1.4",
       "_view_module_version": "~2.1.4",
       "bar_style": "success",
       "description": "'TCGA-LUSC' Records: ",
       "layout": "IPY_MODEL_b3df1ad1517f4611b23792c18955835e",
       "max": 3,
       "style": "IPY_MODEL_435f7585fb634b40a2e799b14e32084b",
       "value": 3
      }
     },
     "260ab400e9d74569b46a6e6369bfab35": {
      "model_module": "jupyter-js-widgets",
      "model_module_version": "~2.1.4",
      "model_name": "HTMLModel",
      "state": {
       "_model_module_version": "~2.1.4",
       "_view_module_version": "~2.1.4",
       "layout": "IPY_MODEL_e71f6295ccea47939bce4a0191929b78",
       "value": "100% 100/100 [00:08&lt;00:00, 11.46it/s]"
      }
     },
     "2721272cd46c4dfe9bb01cddd1ab18fb": {
      "model_module": "jupyter-js-widgets",
      "model_module_version": "~2.1.4",
      "model_name": "ProgressModel",
      "state": {
       "_model_module_version": "~2.1.4",
       "_view_module_version": "~2.1.4",
       "bar_style": "success",
       "description": "Symptoms: ",
       "layout": "IPY_MODEL_29fd50191de44959a682c1aa3fc2c44a",
       "max": 111,
       "style": "IPY_MODEL_09d041003965477fb0ed9678b80a4a36",
       "value": 111
      }
     },
     "27979896f3c94d3d8a2d2b837018b9fd": {
      "model_module": "jupyter-js-widgets",
      "model_module_version": "~2.1.4",
      "model_name": "ProgressStyleModel",
      "state": {
       "_model_module_version": "~2.1.4",
       "_view_module_version": "~2.1.4"
      }
     },
     "2853e31dc2c54092845fd3fb6e3feaba": {
      "model_module": "jupyter-js-widgets",
      "model_module_version": "~2.1.4",
      "model_name": "LayoutModel",
      "state": {
       "_model_module_version": "~2.1.4",
       "_view_module_version": "~2.1.4"
      }
     },
     "2874aa9a2a664b6085a878a517783bdd": {
      "model_module": "jupyter-js-widgets",
      "model_module_version": "~2.1.4",
      "model_name": "ProgressStyleModel",
      "state": {
       "_model_module_version": "~2.1.4",
       "_view_module_version": "~2.1.4"
      }
     },
     "28f90a8a351141bea9a00260b0d868d8": {
      "model_module": "jupyter-js-widgets",
      "model_module_version": "~2.1.4",
      "model_name": "LayoutModel",
      "state": {
       "_model_module_version": "~2.1.4",
       "_view_module_version": "~2.1.4"
      }
     },
     "2927f916bbd04ad6a1176480c2cc1320": {
      "model_module": "jupyter-js-widgets",
      "model_module_version": "~2.1.4",
      "model_name": "LayoutModel",
      "state": {
       "_model_module_version": "~2.1.4",
       "_view_module_version": "~2.1.4"
      }
     },
     "29951b411a7044299f52d1aec16beb0b": {
      "model_module": "jupyter-js-widgets",
      "model_module_version": "~2.1.4",
      "model_name": "HTMLModel",
      "state": {
       "_model_module_version": "~2.1.4",
       "_view_module_version": "~2.1.4",
       "layout": "IPY_MODEL_6d0a3a926dff4dffb699fd0390dab557",
       "value": "100% 3/3 [00:17&lt;00:00,  5.83s/it]"
      }
     },
     "29fd50191de44959a682c1aa3fc2c44a": {
      "model_module": "jupyter-js-widgets",
      "model_module_version": "~2.1.4",
      "model_name": "LayoutModel",
      "state": {
       "_model_module_version": "~2.1.4",
       "_view_module_version": "~2.1.4"
      }
     },
     "2a016d81a9984036b6277f9d35753c4f": {
      "model_module": "jupyter-js-widgets",
      "model_module_version": "~2.1.4",
      "model_name": "ProgressModel",
      "state": {
       "_model_module_version": "~2.1.4",
       "_view_module_version": "~2.1.4",
       "bar_style": "success",
       "description": "Obtaining Images: ",
       "layout": "IPY_MODEL_ec1a95585beb48f9a61d1f7ba88d3dee",
       "style": "IPY_MODEL_3228301911734ac1a2a41e3b3533705a",
       "value": 100
      }
     },
     "2a36be3629194dc7b2994bcdb5535f8a": {
      "model_module": "jupyter-js-widgets",
      "model_module_version": "~2.1.4",
      "model_name": "LayoutModel",
      "state": {
       "_model_module_version": "~2.1.4",
       "_view_module_version": "~2.1.4"
      }
     },
     "2a9f75108e9148528a2419ec8616dfc0": {
      "model_module": "jupyter-js-widgets",
      "model_module_version": "~2.1.4",
      "model_name": "LayoutModel",
      "state": {
       "_model_module_version": "~2.1.4",
       "_view_module_version": "~2.1.4"
      }
     },
     "2abc609a69b84eb9a94e43c7ee1fec11": {
      "model_module": "jupyter-js-widgets",
      "model_module_version": "~2.1.4",
      "model_name": "LayoutModel",
      "state": {
       "_model_module_version": "~2.1.4",
       "_view_module_version": "~2.1.4"
      }
     },
     "2ac04f882373497988195b38b3d5c3d1": {
      "model_module": "jupyter-js-widgets",
      "model_module_version": "~2.1.4",
      "model_name": "LayoutModel",
      "state": {
       "_model_module_version": "~2.1.4",
       "_view_module_version": "~2.1.4"
      }
     },
     "2acddb9418b24a4e8c9820fb207ec52a": {
      "model_module": "jupyter-js-widgets",
      "model_module_version": "~2.1.4",
      "model_name": "ProgressStyleModel",
      "state": {
       "_model_module_version": "~2.1.4",
       "_view_module_version": "~2.1.4"
      }
     },
     "2adda44fef384698b75af6c2bdb8d143": {
      "model_module": "jupyter-js-widgets",
      "model_module_version": "~2.1.4",
      "model_name": "LayoutModel",
      "state": {
       "_model_module_version": "~2.1.4",
       "_view_module_version": "~2.1.4"
      }
     },
     "2beb3d8591744b1e905b51d61090ec62": {
      "model_module": "jupyter-js-widgets",
      "model_module_version": "~2.1.4",
      "model_name": "HBoxModel",
      "state": {
       "_model_module_version": "~2.1.4",
       "_view_module_version": "~2.1.4",
       "children": [
        "IPY_MODEL_62a69ca528c8416bb6b8d2dc74b82d64",
        "IPY_MODEL_29951b411a7044299f52d1aec16beb0b"
       ],
       "layout": "IPY_MODEL_1e33ced2122b4dcdba7248e8719998d1"
      }
     },
     "2c03edf390bd475ab1c15b1c229ee9f6": {
      "model_module": "jupyter-js-widgets",
      "model_module_version": "~2.1.4",
      "model_name": "LayoutModel",
      "state": {
       "_model_module_version": "~2.1.4",
       "_view_module_version": "~2.1.4"
      }
     },
     "2cf0a379ff4f46b1a6a1832a409b1f45": {
      "model_module": "jupyter-js-widgets",
      "model_module_version": "~2.1.4",
      "model_name": "HBoxModel",
      "state": {
       "_model_module_version": "~2.1.4",
       "_view_module_version": "~2.1.4",
       "children": [
        "IPY_MODEL_8e854b9eca8e48b08e76489db1d0c826",
        "IPY_MODEL_ce1cfb1058dc41a29ba9cb9bb55d7659"
       ],
       "layout": "IPY_MODEL_385e27e9c7ab4d3fa5d60888ec97bb3c"
      }
     },
     "2d1c01624e6048078cf561d5c98e42ea": {
      "model_module": "jupyter-js-widgets",
      "model_module_version": "~2.1.4",
      "model_name": "ProgressModel",
      "state": {
       "_model_module_version": "~2.1.4",
       "_view_module_version": "~2.1.4",
       "bar_style": "success",
       "description": "Obtaining Images: ",
       "layout": "IPY_MODEL_55fef1b2f85d4d359341f1df92d1fbd7",
       "style": "IPY_MODEL_bbfe461eb55b498184a6a02614d2918e",
       "value": 100
      }
     },
     "2d9d92872d6342c4b3cbcf9f98ade5f3": {
      "model_module": "jupyter-js-widgets",
      "model_module_version": "~2.1.4",
      "model_name": "LayoutModel",
      "state": {
       "_model_module_version": "~2.1.4",
       "_view_module_version": "~2.1.4"
      }
     },
     "2dcc249a930d44f38238e173061506d3": {
      "model_module": "jupyter-js-widgets",
      "model_module_version": "~2.1.4",
      "model_name": "LayoutModel",
      "state": {
       "_model_module_version": "~2.1.4",
       "_view_module_version": "~2.1.4"
      }
     },
     "2e28edc233234a16b3de35f2ccf28dc2": {
      "model_module": "jupyter-js-widgets",
      "model_module_version": "~2.1.4",
      "model_name": "ProgressModel",
      "state": {
       "_model_module_version": "~2.1.4",
       "_view_module_version": "~2.1.4",
       "bar_style": "success",
       "description": "Obtaining Records: ",
       "layout": "IPY_MODEL_53551a8912aa4435947e5c88afdde57e",
       "max": 4,
       "style": "IPY_MODEL_1a1bb568f58f4797b9800e4e7849d2a1",
       "value": 4
      }
     },
     "2e8953abee5743bfbd94977624c7f342": {
      "model_module": "jupyter-js-widgets",
      "model_module_version": "~2.1.4",
      "model_name": "ProgressModel",
      "state": {
       "_model_module_version": "~2.1.4",
       "_view_module_version": "~2.1.4",
       "bar_style": "success",
       "description": "'TCGA-LUSC' Records: ",
       "layout": "IPY_MODEL_99843e09c6094d6c961fd806c0e9cb62",
       "max": 3,
       "style": "IPY_MODEL_a77f92bc34e748f7a71b8f5476c0001c",
       "value": 3
      }
     },
     "2f9313391375499b9650fdc2aedb30f1": {
      "model_module": "jupyter-js-widgets",
      "model_module_version": "~2.1.4",
      "model_name": "HBoxModel",
      "state": {
       "_model_module_version": "~2.1.4",
       "_view_module_version": "~2.1.4",
       "children": [
        "IPY_MODEL_df9c100c6c9843d9b7ab429c71e7860f",
        "IPY_MODEL_702368e2ec434d52969a857bee7146e4"
       ],
       "layout": "IPY_MODEL_88d115ee8d8c466283cedfb2cd0d48d7"
      }
     },
     "2fc7921d2ecd4cf8b42b57ec2710456b": {
      "model_module": "jupyter-js-widgets",
      "model_module_version": "~2.1.4",
      "model_name": "HTMLModel",
      "state": {
       "_model_module_version": "~2.1.4",
       "_view_module_version": "~2.1.4",
       "layout": "IPY_MODEL_c7810f7127d14b87a9c3c6acf559802b",
       "value": "100% 111/111 [00:00&lt;00:00, 4484.68it/s]"
      }
     },
     "3004cceabf464aaab394f30ce3c38dc8": {
      "model_module": "jupyter-js-widgets",
      "model_module_version": "~2.1.4",
      "model_name": "HTMLModel",
      "state": {
       "_model_module_version": "~2.1.4",
       "_view_module_version": "~2.1.4",
       "layout": "IPY_MODEL_a2711fbcff824a4cb4dc9b29f65c9e11",
       "value": "100% 111/111 [00:00&lt;00:00, 1707.35it/s]"
      }
     },
     "3022f537b1d2429eba974566e9eeabd7": {
      "model_module": "jupyter-js-widgets",
      "model_module_version": "~2.1.4",
      "model_name": "LayoutModel",
      "state": {
       "_model_module_version": "~2.1.4",
       "_view_module_version": "~2.1.4"
      }
     },
     "30982525c9bf43518a1650b2ffc1be02": {
      "model_module": "jupyter-js-widgets",
      "model_module_version": "~2.1.4",
      "model_name": "LayoutModel",
      "state": {
       "_model_module_version": "~2.1.4",
       "_view_module_version": "~2.1.4"
      }
     },
     "30d135f47fbf4aa3a1fe3081a5510f66": {
      "model_module": "jupyter-js-widgets",
      "model_module_version": "~2.1.4",
      "model_name": "ProgressModel",
      "state": {
       "_model_module_version": "~2.1.4",
       "_view_module_version": "~2.1.4",
       "bar_style": "success",
       "description": "Obtaining Images: ",
       "layout": "IPY_MODEL_061d76ee1852443b924cab2dad732dd5",
       "max": 11,
       "style": "IPY_MODEL_0200daac799844d4811288bbf9865cc2",
       "value": 11
      }
     },
     "31884476be9c42c3bc73adcfce913944": {
      "model_module": "jupyter-js-widgets",
      "model_module_version": "~2.1.4",
      "model_name": "ProgressStyleModel",
      "state": {
       "_model_module_version": "~2.1.4",
       "_view_module_version": "~2.1.4"
      }
     },
     "319ee8f1140049f29e3572fd636b4938": {
      "model_module": "jupyter-js-widgets",
      "model_module_version": "~2.1.4",
      "model_name": "LayoutModel",
      "state": {
       "_model_module_version": "~2.1.4",
       "_view_module_version": "~2.1.4"
      }
     },
     "31b75cf9922a48cfa4d7eb642633b43c": {
      "model_module": "jupyter-js-widgets",
      "model_module_version": "~2.1.4",
      "model_name": "HBoxModel",
      "state": {
       "_model_module_version": "~2.1.4",
       "_view_module_version": "~2.1.4",
       "children": [
        "IPY_MODEL_e4f35c5761134456ba0bb06d9a095f6b",
        "IPY_MODEL_24d44bac55dd4edd93371757bd76907a"
       ],
       "layout": "IPY_MODEL_d0496c54a26146e387de344df3e71acc"
      }
     },
     "32001ad5fc994986a967b4a87af6fb5c": {
      "model_module": "jupyter-js-widgets",
      "model_module_version": "~2.1.4",
      "model_name": "ProgressModel",
      "state": {
       "_model_module_version": "~2.1.4",
       "_view_module_version": "~2.1.4",
       "bar_style": "success",
       "description": "Obtaining Records: ",
       "layout": "IPY_MODEL_2d9d92872d6342c4b3cbcf9f98ade5f3",
       "max": 4,
       "style": "IPY_MODEL_8a16febd6fd848fb9f7f89331e4606c4",
       "value": 4
      }
     },
     "3228301911734ac1a2a41e3b3533705a": {
      "model_module": "jupyter-js-widgets",
      "model_module_version": "~2.1.4",
      "model_name": "ProgressStyleModel",
      "state": {
       "_model_module_version": "~2.1.4",
       "_view_module_version": "~2.1.4"
      }
     },
     "33218666e7904283b2e7dc6d0f392af8": {
      "model_module": "jupyter-js-widgets",
      "model_module_version": "~2.1.4",
      "model_name": "LayoutModel",
      "state": {
       "_model_module_version": "~2.1.4",
       "_view_module_version": "~2.1.4"
      }
     },
     "34bdfd1a1f09452ead742809acd835e6": {
      "model_module": "jupyter-js-widgets",
      "model_module_version": "~2.1.4",
      "model_name": "ProgressStyleModel",
      "state": {
       "_model_module_version": "~2.1.4",
       "_view_module_version": "~2.1.4"
      }
     },
     "35342b98358a45d8af1e3b967b8e7a89": {
      "model_module": "jupyter-js-widgets",
      "model_module_version": "~2.1.4",
      "model_name": "LayoutModel",
      "state": {
       "_model_module_version": "~2.1.4",
       "_view_module_version": "~2.1.4"
      }
     },
     "35401daa6fe64954986951a606345c1a": {
      "model_module": "jupyter-js-widgets",
      "model_module_version": "~2.1.4",
      "model_name": "LayoutModel",
      "state": {
       "_model_module_version": "~2.1.4",
       "_view_module_version": "~2.1.4"
      }
     },
     "355918afd57b47538f101ba0a46ca555": {
      "model_module": "jupyter-js-widgets",
      "model_module_version": "~2.1.4",
      "model_name": "ProgressModel",
      "state": {
       "_model_module_version": "~2.1.4",
       "_view_module_version": "~2.1.4",
       "bar_style": "success",
       "description": "Genomic: ",
       "layout": "IPY_MODEL_a8166b597f1e47bfb48b805eaeadcfb9",
       "max": 111,
       "style": "IPY_MODEL_90fd0b34d9a042e2ab9e52adb146a313",
       "value": 111
      }
     },
     "358fa68346ac46bb9a8a00639ab5bd01": {
      "model_module": "jupyter-js-widgets",
      "model_module_version": "~2.1.4",
      "model_name": "HTMLModel",
      "state": {
       "_model_module_version": "~2.1.4",
       "_view_module_version": "~2.1.4",
       "layout": "IPY_MODEL_0a874604aed8408dad5422930df1c71f",
       "value": "100% 111/111 [00:00&lt;00:00, 2126.89it/s]"
      }
     },
     "35bfa0c00f1946478cf75acb7e1bb3ac": {
      "model_module": "jupyter-js-widgets",
      "model_module_version": "~2.1.4",
      "model_name": "LayoutModel",
      "state": {
       "_model_module_version": "~2.1.4",
       "_view_module_version": "~2.1.4"
      }
     },
     "366b3e4368c244f4a11059108b7658eb": {
      "model_module": "jupyter-js-widgets",
      "model_module_version": "~2.1.4",
      "model_name": "ProgressModel",
      "state": {
       "_model_module_version": "~2.1.4",
       "_view_module_version": "~2.1.4",
       "bar_style": "success",
       "description": "Disease Data: ",
       "layout": "IPY_MODEL_28f90a8a351141bea9a00260b0d868d8",
       "max": 111,
       "style": "IPY_MODEL_f90890e0f95a4bdcba53ee3d79e923ce",
       "value": 111
      }
     },
     "36eb886cb84b4214b8eed705fba0e31c": {
      "model_module": "jupyter-js-widgets",
      "model_module_version": "~2.1.4",
      "model_name": "ProgressModel",
      "state": {
       "_model_module_version": "~2.1.4",
       "_view_module_version": "~2.1.4",
       "bar_style": "success",
       "description": "Obtaining Images: ",
       "layout": "IPY_MODEL_1f473f2ef22040d589382c05e84b9f78",
       "max": 11,
       "style": "IPY_MODEL_e535715777d544c0a56881f846fa5629",
       "value": 11
      }
     },
     "3738ff8aed55426a876fef3b9ac5e942": {
      "model_module": "jupyter-js-widgets",
      "model_module_version": "~2.1.4",
      "model_name": "HTMLModel",
      "state": {
       "_model_module_version": "~2.1.4",
       "_view_module_version": "~2.1.4",
       "layout": "IPY_MODEL_3c83c3c4e1044902832c1671811e1bfa",
       "value": "100% 111/111 [00:00&lt;00:00, 1892.11it/s]"
      }
     },
     "375bd238efb7458ab446a5f8f9a8ff8e": {
      "model_module": "jupyter-js-widgets",
      "model_module_version": "~2.1.4",
      "model_name": "ProgressModel",
      "state": {
       "_model_module_version": "~2.1.4",
       "_view_module_version": "~2.1.4",
       "bar_style": "success",
       "description": "Genomic: ",
       "layout": "IPY_MODEL_250f362770794f25a6344b3522dfad5d",
       "max": 111,
       "style": "IPY_MODEL_81b7dd575fa646e3b85ac6eef53c2ff9",
       "value": 111
      }
     },
     "378a6ef782fe46ce8fb9f92dfc5088ad": {
      "model_module": "jupyter-js-widgets",
      "model_module_version": "~2.1.4",
      "model_name": "ProgressModel",
      "state": {
       "_model_module_version": "~2.1.4",
       "_view_module_version": "~2.1.4",
       "bar_style": "success",
       "description": "Integrating Symptoms: ",
       "layout": "IPY_MODEL_d9e472d827a74bfa880b1b43c36fabdd",
       "max": 111,
       "style": "IPY_MODEL_985dcabeec5e47ebaf7388cdd1bf22a0",
       "value": 111
      }
     },
     "37b5379d478041e99b6a8ad9fe867744": {
      "model_module": "jupyter-js-widgets",
      "model_module_version": "~2.1.4",
      "model_name": "ProgressModel",
      "state": {
       "_model_module_version": "~2.1.4",
       "_view_module_version": "~2.1.4",
       "bar_style": "success",
       "description": "Processing Records: ",
       "layout": "IPY_MODEL_5e753fb5f4144e4cbf9f8d9491aa68b0",
       "style": "IPY_MODEL_8d7f4da4cafa423ab4756327e09dabb0",
       "value": 100
      }
     },
     "37d0900bfb97474e8b5818738525a8f1": {
      "model_module": "jupyter-js-widgets",
      "model_module_version": "~2.1.4",
      "model_name": "LayoutModel",
      "state": {
       "_model_module_version": "~2.1.4",
       "_view_module_version": "~2.1.4"
      }
     },
     "37efb9da37ba4c5f8632532df82fb500": {
      "model_module": "jupyter-js-widgets",
      "model_module_version": "~2.1.4",
      "model_name": "ProgressModel",
      "state": {
       "_model_module_version": "~2.1.4",
       "_view_module_version": "~2.1.4",
       "bar_style": "success",
       "description": "Disease Data: ",
       "layout": "IPY_MODEL_fefef4e788834537bd1c3309ab4e61d8",
       "max": 111,
       "style": "IPY_MODEL_cdefccb7aa8f496ab6dfc3d8a73d2b17",
       "value": 111
      }
     },
     "380bd9070560494598f45af258c4c5a2": {
      "model_module": "jupyter-js-widgets",
      "model_module_version": "~2.1.4",
      "model_name": "HTMLModel",
      "state": {
       "_model_module_version": "~2.1.4",
       "_view_module_version": "~2.1.4",
       "layout": "IPY_MODEL_cb8a81e3b2204f1e82b1d59176fcc1eb",
       "value": "100% 111/111 [00:00&lt;00:00, 2044.91it/s]"
      }
     },
     "380e0bb9b5cc482bb0a738d860641bc9": {
      "model_module": "jupyter-js-widgets",
      "model_module_version": "~2.1.4",
      "model_name": "LayoutModel",
      "state": {
       "_model_module_version": "~2.1.4",
       "_view_module_version": "~2.1.4"
      }
     },
     "385e27e9c7ab4d3fa5d60888ec97bb3c": {
      "model_module": "jupyter-js-widgets",
      "model_module_version": "~2.1.4",
      "model_name": "LayoutModel",
      "state": {
       "_model_module_version": "~2.1.4",
       "_view_module_version": "~2.1.4"
      }
     },
     "3a9ba40a476b4013acf343a38c8e8acd": {
      "model_module": "jupyter-js-widgets",
      "model_module_version": "~2.1.4",
      "model_name": "LayoutModel",
      "state": {
       "_model_module_version": "~2.1.4",
       "_view_module_version": "~2.1.4"
      }
     },
     "3aae59d0bbb3499da6e2b2592cafca02": {
      "model_module": "jupyter-js-widgets",
      "model_module_version": "~2.1.4",
      "model_name": "LayoutModel",
      "state": {
       "_model_module_version": "~2.1.4",
       "_view_module_version": "~2.1.4"
      }
     },
     "3b824ceaf8e74432b723bd2d936965f6": {
      "model_module": "jupyter-js-widgets",
      "model_module_version": "~2.1.4",
      "model_name": "HBoxModel",
      "state": {
       "_model_module_version": "~2.1.4",
       "_view_module_version": "~2.1.4",
       "children": [
        "IPY_MODEL_87711597c8194328bbc1cf5485c59e90",
        "IPY_MODEL_c118b80bdd46448f93cec7b160be8bb2"
       ],
       "layout": "IPY_MODEL_62c9a7761e844a1c99329927d0b789ab"
      }
     },
     "3ba5477ab5e742a1b26f4e9169a9ddea": {
      "model_module": "jupyter-js-widgets",
      "model_module_version": "~2.1.4",
      "model_name": "HTMLModel",
      "state": {
       "_model_module_version": "~2.1.4",
       "_view_module_version": "~2.1.4",
       "layout": "IPY_MODEL_04629627dea74f858c8ca6c2619007cd",
       "value": " 29% 29/100 [00:01&lt;00:02, 26.60it/s]"
      }
     },
     "3bbaf17d6fff4c898e25d1d4e6db6938": {
      "model_module": "jupyter-js-widgets",
      "model_module_version": "~2.1.4",
      "model_name": "ProgressModel",
      "state": {
       "_model_module_version": "~2.1.4",
       "_view_module_version": "~2.1.4",
       "bar_style": "success",
       "description": "Obtaining Records: ",
       "layout": "IPY_MODEL_2ac04f882373497988195b38b3d5c3d1",
       "max": 4,
       "style": "IPY_MODEL_27979896f3c94d3d8a2d2b837018b9fd",
       "value": 4
      }
     },
     "3bca53b084944bd6ba6a42f234e20a9b": {
      "model_module": "jupyter-js-widgets",
      "model_module_version": "~2.1.4",
      "model_name": "HTMLModel",
      "state": {
       "_model_module_version": "~2.1.4",
       "_view_module_version": "~2.1.4",
       "layout": "IPY_MODEL_35401daa6fe64954986951a606345c1a",
       "value": "100% 111/111 [00:00&lt;00:00, 4366.81it/s]"
      }
     },
     "3bdea2ccfc124a269be9dd467d4922b2": {
      "model_module": "jupyter-js-widgets",
      "model_module_version": "~2.1.4",
      "model_name": "HBoxModel",
      "state": {
       "_model_module_version": "~2.1.4",
       "_view_module_version": "~2.1.4",
       "children": [
        "IPY_MODEL_806cf1599b14466d9cb0ac0b3d0aef5a",
        "IPY_MODEL_94b3148a4622491fa7c2103fdcb31927"
       ],
       "layout": "IPY_MODEL_71eac62c75df4f0ca3ca3ac233b108de"
      }
     },
     "3be302b54be14d878864f0753792c42e": {
      "model_module": "jupyter-js-widgets",
      "model_module_version": "~2.1.4",
      "model_name": "LayoutModel",
      "state": {
       "_model_module_version": "~2.1.4",
       "_view_module_version": "~2.1.4"
      }
     },
     "3c101d97d0424e23b6679ec83d08f548": {
      "model_module": "jupyter-js-widgets",
      "model_module_version": "~2.1.4",
      "model_name": "HTMLModel",
      "state": {
       "_model_module_version": "~2.1.4",
       "_view_module_version": "~2.1.4",
       "layout": "IPY_MODEL_e022fe4dfd104033ba598379078fc578",
       "value": "100% 111/111 [00:00&lt;00:00, 4395.34it/s]"
      }
     },
     "3c1f0174a03b4b9cbeab59351116d1b4": {
      "model_module": "jupyter-js-widgets",
      "model_module_version": "~2.1.4",
      "model_name": "HTMLModel",
      "state": {
       "_model_module_version": "~2.1.4",
       "_view_module_version": "~2.1.4",
       "layout": "IPY_MODEL_4514348f0b4c4961ad06c4a18b58d1b6",
       "value": "100% 100/100 [00:03&lt;00:00, 28.31it/s]"
      }
     },
     "3c33f314201741528bc3f4da11568914": {
      "model_module": "jupyter-js-widgets",
      "model_module_version": "~2.1.4",
      "model_name": "HTMLModel",
      "state": {
       "_model_module_version": "~2.1.4",
       "_view_module_version": "~2.1.4",
       "layout": "IPY_MODEL_085ce9a46a3a42e396f0651e904a182f",
       "value": "100% 11/11 [00:00&lt;00:00, 64.36it/s]"
      }
     },
     "3c45195707234eec936600b150b8ba8f": {
      "model_module": "jupyter-js-widgets",
      "model_module_version": "~2.1.4",
      "model_name": "LayoutModel",
      "state": {
       "_model_module_version": "~2.1.4",
       "_view_module_version": "~2.1.4"
      }
     },
     "3c83c3c4e1044902832c1671811e1bfa": {
      "model_module": "jupyter-js-widgets",
      "model_module_version": "~2.1.4",
      "model_name": "LayoutModel",
      "state": {
       "_model_module_version": "~2.1.4",
       "_view_module_version": "~2.1.4"
      }
     },
     "3cd6c8d33fab429e8e35d1ec30fad63b": {
      "model_module": "jupyter-js-widgets",
      "model_module_version": "~2.1.4",
      "model_name": "ProgressStyleModel",
      "state": {
       "_model_module_version": "~2.1.4",
       "_view_module_version": "~2.1.4"
      }
     },
     "3ceb5a853e254109b8c5b160170b56e6": {
      "model_module": "jupyter-js-widgets",
      "model_module_version": "~2.1.4",
      "model_name": "LayoutModel",
      "state": {
       "_model_module_version": "~2.1.4",
       "_view_module_version": "~2.1.4"
      }
     },
     "3d6650087f0c416989441723905d5982": {
      "model_module": "jupyter-js-widgets",
      "model_module_version": "~2.1.4",
      "model_name": "LayoutModel",
      "state": {
       "_model_module_version": "~2.1.4",
       "_view_module_version": "~2.1.4"
      }
     },
     "3e5c42e8e55f40a88552c076a126d9da": {
      "model_module": "jupyter-js-widgets",
      "model_module_version": "~2.1.4",
      "model_name": "ProgressModel",
      "state": {
       "_model_module_version": "~2.1.4",
       "_view_module_version": "~2.1.4",
       "bar_style": "success",
       "description": "Disease Info.: ",
       "layout": "IPY_MODEL_bff9591e9e674cfab30fc6639cda8bdb",
       "max": 111,
       "style": "IPY_MODEL_8a707b289717402681e4c98e1621efe3",
       "value": 111
      }
     },
     "3f430e0981fc47d1acc67448a3b82046": {
      "model_module": "jupyter-js-widgets",
      "model_module_version": "~2.1.4",
      "model_name": "HBoxModel",
      "state": {
       "_model_module_version": "~2.1.4",
       "_view_module_version": "~2.1.4",
       "children": [
        "IPY_MODEL_66f9e0a5d6c346e79b53159828ca5ce7",
        "IPY_MODEL_0c94444d6f1c40d08b3cf676a49dbeff"
       ],
       "layout": "IPY_MODEL_08855857cc284f5b98e26b491ba120de"
      }
     },
     "3f68d658e50c439986cba891132bf5e3": {
      "model_module": "jupyter-js-widgets",
      "model_module_version": "~2.1.4",
      "model_name": "ProgressStyleModel",
      "state": {
       "_model_module_version": "~2.1.4",
       "_view_module_version": "~2.1.4"
      }
     },
     "3fc32c116b4740fa9d5e3d760bc85c08": {
      "model_module": "jupyter-js-widgets",
      "model_module_version": "~2.1.4",
      "model_name": "LayoutModel",
      "state": {
       "_model_module_version": "~2.1.4",
       "_view_module_version": "~2.1.4"
      }
     },
     "40c5722b572048abbb97f859bb0043f4": {
      "model_module": "jupyter-js-widgets",
      "model_module_version": "~2.1.4",
      "model_name": "ProgressModel",
      "state": {
       "_model_module_version": "~2.1.4",
       "_view_module_version": "~2.1.4",
       "bar_style": "success",
       "description": "Matching Symptoms: ",
       "layout": "IPY_MODEL_fe49facaf2624f628ea128cd5168a196",
       "max": 111,
       "style": "IPY_MODEL_aa8fe4c542a342399fe4de1cbac2505f",
       "value": 111
      }
     },
     "41319d649e0c42cf8c595643de7c9057": {
      "model_module": "jupyter-js-widgets",
      "model_module_version": "~2.1.4",
      "model_name": "LayoutModel",
      "state": {
       "_model_module_version": "~2.1.4",
       "_view_module_version": "~2.1.4"
      }
     },
     "4154fd17f41f42b6bd45f6d2f6365770": {
      "model_module": "jupyter-js-widgets",
      "model_module_version": "~2.1.4",
      "model_name": "LayoutModel",
      "state": {
       "_model_module_version": "~2.1.4",
       "_view_module_version": "~2.1.4"
      }
     },
     "4174313506d94538b0dbfea113e0db0c": {
      "model_module": "jupyter-js-widgets",
      "model_module_version": "~2.1.4",
      "model_name": "HTMLModel",
      "state": {
       "_model_module_version": "~2.1.4",
       "_view_module_version": "~2.1.4",
       "layout": "IPY_MODEL_fdb218fa6c744746a8f2df273e18f55e",
       "value": "100% 4/4 [00:06&lt;00:00,  1.52s/it]"
      }
     },
     "4272ed13e3ff4eadbb0c884d35a7845a": {
      "model_module": "jupyter-js-widgets",
      "model_module_version": "~2.1.4",
      "model_name": "HTMLModel",
      "state": {
       "_model_module_version": "~2.1.4",
       "_view_module_version": "~2.1.4",
       "layout": "IPY_MODEL_3fc32c116b4740fa9d5e3d760bc85c08",
       "value": "100% 111/111 [00:00&lt;00:00, 1884.84it/s]"
      }
     },
     "4292317d6de041b8b244a07b80409d13": {
      "model_module": "jupyter-js-widgets",
      "model_module_version": "~2.1.4",
      "model_name": "ProgressStyleModel",
      "state": {
       "_model_module_version": "~2.1.4",
       "_view_module_version": "~2.1.4"
      }
     },
     "42ddfbae088a4af4af87e89a87bee69c": {
      "model_module": "jupyter-js-widgets",
      "model_module_version": "~2.1.4",
      "model_name": "LayoutModel",
      "state": {
       "_model_module_version": "~2.1.4",
       "_view_module_version": "~2.1.4"
      }
     },
     "42e424f48fc44d14ae988128111ae0b2": {
      "model_module": "jupyter-js-widgets",
      "model_module_version": "~2.1.4",
      "model_name": "ProgressModel",
      "state": {
       "_model_module_version": "~2.1.4",
       "_view_module_version": "~2.1.4",
       "bar_style": "success",
       "description": "Integrating DisGeNET: ",
       "layout": "IPY_MODEL_3c45195707234eec936600b150b8ba8f",
       "max": 111,
       "style": "IPY_MODEL_3cd6c8d33fab429e8e35d1ec30fad63b",
       "value": 111
      }
     },
     "4332efe9ba1049849b6e655d34389337": {
      "model_module": "jupyter-js-widgets",
      "model_module_version": "~2.1.4",
      "model_name": "HTMLModel",
      "state": {
       "_model_module_version": "~2.1.4",
       "_view_module_version": "~2.1.4",
       "layout": "IPY_MODEL_ece914bdbd5e43c9bc025ab7f551e577",
       "value": "100% 100/100 [00:08&lt;00:00, 11.19it/s]"
      }
     },
     "435f7585fb634b40a2e799b14e32084b": {
      "model_module": "jupyter-js-widgets",
      "model_module_version": "~2.1.4",
      "model_name": "ProgressStyleModel",
      "state": {
       "_model_module_version": "~2.1.4",
       "_view_module_version": "~2.1.4"
      }
     },
     "43652ae9b8294764967b17b6d20f67ad": {
      "model_module": "jupyter-js-widgets",
      "model_module_version": "~2.1.4",
      "model_name": "LayoutModel",
      "state": {
       "_model_module_version": "~2.1.4",
       "_view_module_version": "~2.1.4"
      }
     },
     "4377a11e25af43db8137d53ba2c1f99a": {
      "model_module": "jupyter-js-widgets",
      "model_module_version": "~2.1.4",
      "model_name": "HTMLModel",
      "state": {
       "_model_module_version": "~2.1.4",
       "_view_module_version": "~2.1.4",
       "layout": "IPY_MODEL_6ce78662350a4e5f8945ab95638ae26b",
       "value": "100% 111/111 [00:00&lt;00:00, 1067.47it/s]"
      }
     },
     "44586677ecd84b3bb1aeb45182cda0ff": {
      "model_module": "jupyter-js-widgets",
      "model_module_version": "~2.1.4",
      "model_name": "LayoutModel",
      "state": {
       "_model_module_version": "~2.1.4",
       "_view_module_version": "~2.1.4"
      }
     },
     "44a1dce58df54cc386f0fd1382f693eb": {
      "model_module": "jupyter-js-widgets",
      "model_module_version": "~2.1.4",
      "model_name": "LayoutModel",
      "state": {
       "_model_module_version": "~2.1.4",
       "_view_module_version": "~2.1.4"
      }
     },
     "44c5446e0ec6488a8fce2c656ffea083": {
      "model_module": "jupyter-js-widgets",
      "model_module_version": "~2.1.4",
      "model_name": "LayoutModel",
      "state": {
       "_model_module_version": "~2.1.4",
       "_view_module_version": "~2.1.4"
      }
     },
     "4514348f0b4c4961ad06c4a18b58d1b6": {
      "model_module": "jupyter-js-widgets",
      "model_module_version": "~2.1.4",
      "model_name": "LayoutModel",
      "state": {
       "_model_module_version": "~2.1.4",
       "_view_module_version": "~2.1.4"
      }
     },
     "453eac5f0f344795b48f18c64085776e": {
      "model_module": "jupyter-js-widgets",
      "model_module_version": "~2.1.4",
      "model_name": "LayoutModel",
      "state": {
       "_model_module_version": "~2.1.4",
       "_view_module_version": "~2.1.4"
      }
     },
     "45a450dd1edf44a486acdcf608b55610": {
      "model_module": "jupyter-js-widgets",
      "model_module_version": "~2.1.4",
      "model_name": "HTMLModel",
      "state": {
       "_model_module_version": "~2.1.4",
       "_view_module_version": "~2.1.4",
       "layout": "IPY_MODEL_7738e12cc3bc4c47b7d8bef3b70cf42a",
       "value": "100% 111/111 [00:00&lt;00:00, 1543.77it/s]"
      }
     },
     "4624e8e49886436dbc0cdb606b63a9d0": {
      "model_module": "jupyter-js-widgets",
      "model_module_version": "~2.1.4",
      "model_name": "ProgressStyleModel",
      "state": {
       "_model_module_version": "~2.1.4",
       "_view_module_version": "~2.1.4"
      }
     },
     "46a44cf1c3ca4bd5bb6087b5180630dc": {
      "model_module": "jupyter-js-widgets",
      "model_module_version": "~2.1.4",
      "model_name": "LayoutModel",
      "state": {
       "_model_module_version": "~2.1.4",
       "_view_module_version": "~2.1.4"
      }
     },
     "4796902293c7451ca721c8b59d94ac09": {
      "model_module": "jupyter-js-widgets",
      "model_module_version": "~2.1.4",
      "model_name": "HBoxModel",
      "state": {
       "_model_module_version": "~2.1.4",
       "_view_module_version": "~2.1.4",
       "children": [
        "IPY_MODEL_ad6a8b3a722742678e38a483a1e09ef3",
        "IPY_MODEL_a9e8552dda1646828661ee04eb2821d8"
       ],
       "layout": "IPY_MODEL_4920075025b74c7fb869999c325117b5"
      }
     },
     "480c829742c0436e8b6fb9cabbd65437": {
      "model_module": "jupyter-js-widgets",
      "model_module_version": "~2.1.4",
      "model_name": "ProgressStyleModel",
      "state": {
       "_model_module_version": "~2.1.4",
       "_view_module_version": "~2.1.4"
      }
     },
     "4915611fa0b642338aaeecb371678c5b": {
      "model_module": "jupyter-js-widgets",
      "model_module_version": "~2.1.4",
      "model_name": "LayoutModel",
      "state": {
       "_model_module_version": "~2.1.4",
       "_view_module_version": "~2.1.4"
      }
     },
     "4915cd8797b84adfb955fc7a2167daa0": {
      "model_module": "jupyter-js-widgets",
      "model_module_version": "~2.1.4",
      "model_name": "LayoutModel",
      "state": {
       "_model_module_version": "~2.1.4",
       "_view_module_version": "~2.1.4"
      }
     },
     "4920075025b74c7fb869999c325117b5": {
      "model_module": "jupyter-js-widgets",
      "model_module_version": "~2.1.4",
      "model_name": "LayoutModel",
      "state": {
       "_model_module_version": "~2.1.4",
       "_view_module_version": "~2.1.4"
      }
     },
     "495fcf6186204a72a4c304aebc08f1ae": {
      "model_module": "jupyter-js-widgets",
      "model_module_version": "~2.1.4",
      "model_name": "HBoxModel",
      "state": {
       "_model_module_version": "~2.1.4",
       "_view_module_version": "~2.1.4",
       "children": [
        "IPY_MODEL_37b5379d478041e99b6a8ad9fe867744",
        "IPY_MODEL_9ea30a3fdbe446628700b1f86ad79f09"
       ],
       "layout": "IPY_MODEL_8981dc88e13d48878d08c100b8b0c220"
      }
     },
     "497ef7c5a0f341d0a12067978bc9d5d1": {
      "model_module": "jupyter-js-widgets",
      "model_module_version": "~2.1.4",
      "model_name": "HTMLModel",
      "state": {
       "_model_module_version": "~2.1.4",
       "_view_module_version": "~2.1.4",
       "layout": "IPY_MODEL_763fc18cf33e402eb6369fcbd9396715",
       "value": "100% 111/111 [00:00&lt;00:00, 4311.01it/s]"
      }
     },
     "4bf7517ca9e144fb863d3d006bf947f0": {
      "model_module": "jupyter-js-widgets",
      "model_module_version": "~2.1.4",
      "model_name": "HBoxModel",
      "state": {
       "_model_module_version": "~2.1.4",
       "_view_module_version": "~2.1.4",
       "children": [
        "IPY_MODEL_ea8e59ba588c416aba5e970ccde3d037",
        "IPY_MODEL_52595936d7ab4b218020637ca0a22e57"
       ],
       "layout": "IPY_MODEL_0e5569c4490d436db4f3011fd9d21349"
      }
     },
     "4c243075598f4ee49439e23bfccf6f0c": {
      "model_module": "jupyter-js-widgets",
      "model_module_version": "~2.1.4",
      "model_name": "HBoxModel",
      "state": {
       "_model_module_version": "~2.1.4",
       "_view_module_version": "~2.1.4",
       "children": [
        "IPY_MODEL_7c6cd807cea043f3a8db3010a146a113",
        "IPY_MODEL_c70046ffd8b64e1b84509657e89df0da"
       ],
       "layout": "IPY_MODEL_afe65d49c1154158aaa22cbdfb11e836"
      }
     },
     "4c5bd389334241efa6fbdace6a79406f": {
      "model_module": "jupyter-js-widgets",
      "model_module_version": "~2.1.4",
      "model_name": "LayoutModel",
      "state": {
       "_model_module_version": "~2.1.4",
       "_view_module_version": "~2.1.4"
      }
     },
     "4caddcf2076b4deab92bc98c5da27601": {
      "model_module": "jupyter-js-widgets",
      "model_module_version": "~2.1.4",
      "model_name": "LayoutModel",
      "state": {
       "_model_module_version": "~2.1.4",
       "_view_module_version": "~2.1.4"
      }
     },
     "4cf025f1b0744b629dd6b8bd1aec6211": {
      "model_module": "jupyter-js-widgets",
      "model_module_version": "~2.1.4",
      "model_name": "LayoutModel",
      "state": {
       "_model_module_version": "~2.1.4",
       "_view_module_version": "~2.1.4"
      }
     },
     "4d0e70e3fef042c3a96ef037f5229fdf": {
      "model_module": "jupyter-js-widgets",
      "model_module_version": "~2.1.4",
      "model_name": "LayoutModel",
      "state": {
       "_model_module_version": "~2.1.4",
       "_view_module_version": "~2.1.4"
      }
     },
     "4dc04c0e2f6b4bc2b3178929a2f47dda": {
      "model_module": "jupyter-js-widgets",
      "model_module_version": "~2.1.4",
      "model_name": "HBoxModel",
      "state": {
       "_model_module_version": "~2.1.4",
       "_view_module_version": "~2.1.4",
       "children": [
        "IPY_MODEL_32001ad5fc994986a967b4a87af6fb5c",
        "IPY_MODEL_b8d3e8a19a3e49828f94d4ad66e63ade"
       ],
       "layout": "IPY_MODEL_007b2a2d5ff24f30b4ab620507efb252"
      }
     },
     "4ddf48acd64e4a56b7c5865d536e63c6": {
      "model_module": "jupyter-js-widgets",
      "model_module_version": "~2.1.4",
      "model_name": "HBoxModel",
      "state": {
       "_model_module_version": "~2.1.4",
       "_view_module_version": "~2.1.4",
       "children": [
        "IPY_MODEL_dca1e533b4a144cfa8b9f2c4fc4dda12",
        "IPY_MODEL_e8aafb3bc756473eb033ceba8eabc629"
       ],
       "layout": "IPY_MODEL_ad90e7d8b5014bbe9beb80321b22495d"
      }
     },
     "4eed6f444c3d4ca3ab2d07387f4bdfe8": {
      "model_module": "jupyter-js-widgets",
      "model_module_version": "~2.1.4",
      "model_name": "ProgressStyleModel",
      "state": {
       "_model_module_version": "~2.1.4",
       "_view_module_version": "~2.1.4"
      }
     },
     "4f0de5ad8735491a9da2cd4106dcf87f": {
      "model_module": "jupyter-js-widgets",
      "model_module_version": "~2.1.4",
      "model_name": "LayoutModel",
      "state": {
       "_model_module_version": "~2.1.4",
       "_view_module_version": "~2.1.4"
      }
     },
     "5174ad2162894aebaee2f28cf8105ce9": {
      "model_module": "jupyter-js-widgets",
      "model_module_version": "~2.1.4",
      "model_name": "HBoxModel",
      "state": {
       "_model_module_version": "~2.1.4",
       "_view_module_version": "~2.1.4",
       "children": [
        "IPY_MODEL_37efb9da37ba4c5f8632532df82fb500",
        "IPY_MODEL_25da2dd3107e4b269d357dc1f91428c0"
       ],
       "layout": "IPY_MODEL_a0969cc0675141aab4d6b5202574996f"
      }
     },
     "522717f4f41840b7b7a2cf5a1853f0b9": {
      "model_module": "jupyter-js-widgets",
      "model_module_version": "~2.1.4",
      "model_name": "LayoutModel",
      "state": {
       "_model_module_version": "~2.1.4",
       "_view_module_version": "~2.1.4"
      }
     },
     "522c22520fd74f13b27ac03fe8ed6eb0": {
      "model_module": "jupyter-js-widgets",
      "model_module_version": "~2.1.4",
      "model_name": "HBoxModel",
      "state": {
       "_model_module_version": "~2.1.4",
       "_view_module_version": "~2.1.4",
       "children": [
        "IPY_MODEL_40c5722b572048abbb97f859bb0043f4",
        "IPY_MODEL_c7d7281ff14f4732824951df15ecf5b9"
       ],
       "layout": "IPY_MODEL_bd121c1bd509434a9054060bd5f7b0cf"
      }
     },
     "52436393f24d433b9172df40bc46783c": {
      "model_module": "jupyter-js-widgets",
      "model_module_version": "~2.1.4",
      "model_name": "LayoutModel",
      "state": {
       "_model_module_version": "~2.1.4",
       "_view_module_version": "~2.1.4"
      }
     },
     "52595936d7ab4b218020637ca0a22e57": {
      "model_module": "jupyter-js-widgets",
      "model_module_version": "~2.1.4",
      "model_name": "HTMLModel",
      "state": {
       "_model_module_version": "~2.1.4",
       "_view_module_version": "~2.1.4",
       "layout": "IPY_MODEL_65f980ae875c43ee900d288b84a61b93",
       "value": "100% 3/3 [00:17&lt;00:00,  5.83s/it]"
      }
     },
     "527076f93d9342d2890bf008d4576d6d": {
      "model_module": "jupyter-js-widgets",
      "model_module_version": "~2.1.4",
      "model_name": "ProgressStyleModel",
      "state": {
       "_model_module_version": "~2.1.4",
       "_view_module_version": "~2.1.4"
      }
     },
     "52ab04e185b24164a1c5113abbabd4db": {
      "model_module": "jupyter-js-widgets",
      "model_module_version": "~2.1.4",
      "model_name": "LayoutModel",
      "state": {
       "_model_module_version": "~2.1.4",
       "_view_module_version": "~2.1.4"
      }
     },
     "52d059cb6bc743448fee2a660a89b532": {
      "model_module": "jupyter-js-widgets",
      "model_module_version": "~2.1.4",
      "model_name": "ProgressStyleModel",
      "state": {
       "_model_module_version": "~2.1.4",
       "_view_module_version": "~2.1.4"
      }
     },
     "52f8cac789a146a682f36c18065364a4": {
      "model_module": "jupyter-js-widgets",
      "model_module_version": "~2.1.4",
      "model_name": "HTMLModel",
      "state": {
       "_model_module_version": "~2.1.4",
       "_view_module_version": "~2.1.4",
       "layout": "IPY_MODEL_233491da57524cc5bc74c81373386578",
       "value": "100% 111/111 [00:00&lt;00:00, 1123.83it/s]"
      }
     },
     "53551a8912aa4435947e5c88afdde57e": {
      "model_module": "jupyter-js-widgets",
      "model_module_version": "~2.1.4",
      "model_name": "LayoutModel",
      "state": {
       "_model_module_version": "~2.1.4",
       "_view_module_version": "~2.1.4"
      }
     },
     "54606b92dda54bc7a189c2862b871f7a": {
      "model_module": "jupyter-js-widgets",
      "model_module_version": "~2.1.4",
      "model_name": "HBoxModel",
      "state": {
       "_model_module_version": "~2.1.4",
       "_view_module_version": "~2.1.4",
       "children": [
        "IPY_MODEL_f76a61f5477e42d1a4a8111a2efca121",
        "IPY_MODEL_6c9f9a89b7d5497f9346480ea46f3f68"
       ],
       "layout": "IPY_MODEL_f0578ecb6ccc4e18898b25ad46549f0f"
      }
     },
     "546824163b594ac888c7a29d22ff8659": {
      "model_module": "jupyter-js-widgets",
      "model_module_version": "~2.1.4",
      "model_name": "ProgressModel",
      "state": {
       "_model_module_version": "~2.1.4",
       "_view_module_version": "~2.1.4",
       "bar_style": "success",
       "description": "Obtaining Records: ",
       "layout": "IPY_MODEL_8edbac86bc0e46f8b715f77e52a9571a",
       "max": 4,
       "style": "IPY_MODEL_9a2514d94d044285bc76d8bbf513faea",
       "value": 4
      }
     },
     "54e8f5d3895146c6804b71a2e3cfcf33": {
      "model_module": "jupyter-js-widgets",
      "model_module_version": "~2.1.4",
      "model_name": "HBoxModel",
      "state": {
       "_model_module_version": "~2.1.4",
       "_view_module_version": "~2.1.4",
       "children": [
        "IPY_MODEL_2721272cd46c4dfe9bb01cddd1ab18fb",
        "IPY_MODEL_569699172df141c19f355a1d7905c0fb"
       ],
       "layout": "IPY_MODEL_e280cd7cc09142749b37df70aa51548d"
      }
     },
     "5520e1b8535d482399a3e84ee6073939": {
      "model_module": "jupyter-js-widgets",
      "model_module_version": "~2.1.4",
      "model_name": "ProgressStyleModel",
      "state": {
       "_model_module_version": "~2.1.4",
       "_view_module_version": "~2.1.4"
      }
     },
     "556aa98558db4a2096e9d3214acc87c8": {
      "model_module": "jupyter-js-widgets",
      "model_module_version": "~2.1.4",
      "model_name": "ProgressStyleModel",
      "state": {
       "_model_module_version": "~2.1.4",
       "_view_module_version": "~2.1.4"
      }
     },
     "55fce6f0c72a49a38c3c69cbfb5e7f8a": {
      "model_module": "jupyter-js-widgets",
      "model_module_version": "~2.1.4",
      "model_name": "HBoxModel",
      "state": {
       "_model_module_version": "~2.1.4",
       "_view_module_version": "~2.1.4",
       "children": [
        "IPY_MODEL_92f0d76cce484394b7f529b62e8bc448",
        "IPY_MODEL_11d4faa87e6a45759c430b59db599476"
       ],
       "layout": "IPY_MODEL_4caddcf2076b4deab92bc98c5da27601"
      }
     },
     "55fef1b2f85d4d359341f1df92d1fbd7": {
      "model_module": "jupyter-js-widgets",
      "model_module_version": "~2.1.4",
      "model_name": "LayoutModel",
      "state": {
       "_model_module_version": "~2.1.4",
       "_view_module_version": "~2.1.4"
      }
     },
     "56072d799dc14feba34bc7d3af8fdbb8": {
      "model_module": "jupyter-js-widgets",
      "model_module_version": "~2.1.4",
      "model_name": "HBoxModel",
      "state": {
       "_model_module_version": "~2.1.4",
       "_view_module_version": "~2.1.4",
       "children": [
        "IPY_MODEL_6188b0bc4c4f4808a59348221375636c",
        "IPY_MODEL_bd81cf3aa4f84d299e83aca9d30645a6"
       ],
       "layout": "IPY_MODEL_ca33fb65c0bc4f078634eb8226911ed5"
      }
     },
     "56291b68bb6e4fa5945b4939f09ba850": {
      "model_module": "jupyter-js-widgets",
      "model_module_version": "~2.1.4",
      "model_name": "ProgressModel",
      "state": {
       "_model_module_version": "~2.1.4",
       "_view_module_version": "~2.1.4",
       "bar_style": "success",
       "description": "Symptoms: ",
       "layout": "IPY_MODEL_658de963ed0a46dd84ecff6ca2398c93",
       "max": 111,
       "style": "IPY_MODEL_4292317d6de041b8b244a07b80409d13",
       "value": 111
      }
     },
     "569699172df141c19f355a1d7905c0fb": {
      "model_module": "jupyter-js-widgets",
      "model_module_version": "~2.1.4",
      "model_name": "HTMLModel",
      "state": {
       "_model_module_version": "~2.1.4",
       "_view_module_version": "~2.1.4",
       "layout": "IPY_MODEL_35bfa0c00f1946478cf75acb7e1bb3ac",
       "value": "100% 111/111 [00:00&lt;00:00, 1978.72it/s]"
      }
     },
     "56d07fff7154402c877d62c137880cc7": {
      "model_module": "jupyter-js-widgets",
      "model_module_version": "~2.1.4",
      "model_name": "HTMLModel",
      "state": {
       "_model_module_version": "~2.1.4",
       "_view_module_version": "~2.1.4",
       "layout": "IPY_MODEL_a764abc999f5439e9896f58d8ea0a10f",
       "value": "100% 111/111 [00:00&lt;00:00, 1536.12it/s]"
      }
     },
     "56d661bd7c074b258ac2be4ff903f580": {
      "model_module": "jupyter-js-widgets",
      "model_module_version": "~2.1.4",
      "model_name": "LayoutModel",
      "state": {
       "_model_module_version": "~2.1.4",
       "_view_module_version": "~2.1.4"
      }
     },
     "580b185ef24f458e9e64d837c09ebbdf": {
      "model_module": "jupyter-js-widgets",
      "model_module_version": "~2.1.4",
      "model_name": "LayoutModel",
      "state": {
       "_model_module_version": "~2.1.4",
       "_view_module_version": "~2.1.4"
      }
     },
     "5890589cadde46eaba7d13553d3bc170": {
      "model_module": "jupyter-js-widgets",
      "model_module_version": "~2.1.4",
      "model_name": "LayoutModel",
      "state": {
       "_model_module_version": "~2.1.4",
       "_view_module_version": "~2.1.4"
      }
     },
     "58ec745f0f6749f88838e846d438267e": {
      "model_module": "jupyter-js-widgets",
      "model_module_version": "~2.1.4",
      "model_name": "LayoutModel",
      "state": {
       "_model_module_version": "~2.1.4",
       "_view_module_version": "~2.1.4"
      }
     },
     "59b0482b96c34016a48f3ac5ca763dbc": {
      "model_module": "jupyter-js-widgets",
      "model_module_version": "~2.1.4",
      "model_name": "HTMLModel",
      "state": {
       "_model_module_version": "~2.1.4",
       "_view_module_version": "~2.1.4",
       "layout": "IPY_MODEL_44a1dce58df54cc386f0fd1382f693eb",
       "value": "100% 4/4 [00:05&lt;00:00,  1.37s/it]"
      }
     },
     "59f5e0c2faf645f7a1d7968776db7b1d": {
      "model_module": "jupyter-js-widgets",
      "model_module_version": "~2.1.4",
      "model_name": "ProgressModel",
      "state": {
       "_model_module_version": "~2.1.4",
       "_view_module_version": "~2.1.4",
       "bar_style": "success",
       "description": "Obtaining Records: ",
       "layout": "IPY_MODEL_580b185ef24f458e9e64d837c09ebbdf",
       "max": 4,
       "style": "IPY_MODEL_79af9340bcc54f8fba682f27ff275e72",
       "value": 4
      }
     },
     "5ab6702a3c3e4a6397832820e7a7abb4": {
      "model_module": "jupyter-js-widgets",
      "model_module_version": "~2.1.4",
      "model_name": "HTMLModel",
      "state": {
       "_model_module_version": "~2.1.4",
       "_view_module_version": "~2.1.4",
       "layout": "IPY_MODEL_4d0e70e3fef042c3a96ef037f5229fdf",
       "value": "100% 100/100 [00:03&lt;00:00, 29.09it/s]"
      }
     },
     "5c2d9b36f2ad4b26bed1f1395a56f51d": {
      "model_module": "jupyter-js-widgets",
      "model_module_version": "~2.1.4",
      "model_name": "HBoxModel",
      "state": {
       "_model_module_version": "~2.1.4",
       "_view_module_version": "~2.1.4",
       "children": [
        "IPY_MODEL_1875d8cbad8c45e6ab706375107c8c6e",
        "IPY_MODEL_56d07fff7154402c877d62c137880cc7"
       ],
       "layout": "IPY_MODEL_186ca22836e344a0bc34970bc14aa39f"
      }
     },
     "5c6ef90320374c019d3ea0ab88552be2": {
      "model_module": "jupyter-js-widgets",
      "model_module_version": "~2.1.4",
      "model_name": "ProgressModel",
      "state": {
       "_model_module_version": "~2.1.4",
       "_view_module_version": "~2.1.4",
       "bar_style": "success",
       "description": "Genomic: ",
       "layout": "IPY_MODEL_9ef8ea15631c4894b1c10bed21018610",
       "max": 111,
       "style": "IPY_MODEL_e254e9aa79cd41b79a12234edbe76c8e",
       "value": 111
      }
     },
     "5c759aad05864ca9847ea76eae702f6a": {
      "model_module": "jupyter-js-widgets",
      "model_module_version": "~2.1.4",
      "model_name": "HTMLModel",
      "state": {
       "_model_module_version": "~2.1.4",
       "_view_module_version": "~2.1.4",
       "layout": "IPY_MODEL_44c5446e0ec6488a8fce2c656ffea083",
       "value": "100% 11/11 [00:00&lt;00:00, 61.04it/s]"
      }
     },
     "5ce4d7c1076543e395da4637f41a49dc": {
      "model_module": "jupyter-js-widgets",
      "model_module_version": "~2.1.4",
      "model_name": "HBoxModel",
      "state": {
       "_model_module_version": "~2.1.4",
       "_view_module_version": "~2.1.4",
       "children": [
        "IPY_MODEL_e19088dbdad7439f8a49b26ea6224b0d",
        "IPY_MODEL_fe2273eb8f644383bbdf9599601a76bb"
       ],
       "layout": "IPY_MODEL_5e5886ac7ea047e188f992dee7c68cfa"
      }
     },
     "5d81f173a9d741ab999fc17224a75377": {
      "model_module": "jupyter-js-widgets",
      "model_module_version": "~2.1.4",
      "model_name": "LayoutModel",
      "state": {
       "_model_module_version": "~2.1.4",
       "_view_module_version": "~2.1.4"
      }
     },
     "5e02c5b663f44885a03ac9d3faaf45e3": {
      "model_module": "jupyter-js-widgets",
      "model_module_version": "~2.1.4",
      "model_name": "LayoutModel",
      "state": {
       "_model_module_version": "~2.1.4",
       "_view_module_version": "~2.1.4"
      }
     },
     "5e5886ac7ea047e188f992dee7c68cfa": {
      "model_module": "jupyter-js-widgets",
      "model_module_version": "~2.1.4",
      "model_name": "LayoutModel",
      "state": {
       "_model_module_version": "~2.1.4",
       "_view_module_version": "~2.1.4"
      }
     },
     "5e753fb5f4144e4cbf9f8d9491aa68b0": {
      "model_module": "jupyter-js-widgets",
      "model_module_version": "~2.1.4",
      "model_name": "LayoutModel",
      "state": {
       "_model_module_version": "~2.1.4",
       "_view_module_version": "~2.1.4"
      }
     },
     "601eac6eb1ed49ceb3b1bd0698921146": {
      "model_module": "jupyter-js-widgets",
      "model_module_version": "~2.1.4",
      "model_name": "LayoutModel",
      "state": {
       "_model_module_version": "~2.1.4",
       "_view_module_version": "~2.1.4"
      }
     },
     "60e2056672f0490c9929993dcab0f47e": {
      "model_module": "jupyter-js-widgets",
      "model_module_version": "~2.1.4",
      "model_name": "ProgressStyleModel",
      "state": {
       "_model_module_version": "~2.1.4",
       "_view_module_version": "~2.1.4"
      }
     },
     "60fdacb8948c4fa5a7509814b7bbb9ec": {
      "model_module": "jupyter-js-widgets",
      "model_module_version": "~2.1.4",
      "model_name": "ProgressModel",
      "state": {
       "_model_module_version": "~2.1.4",
       "_view_module_version": "~2.1.4",
       "bar_style": "success",
       "description": "Symptoms: ",
       "layout": "IPY_MODEL_6faec4f0a8b549acab146ea355b4f2c1",
       "max": 111,
       "style": "IPY_MODEL_60e2056672f0490c9929993dcab0f47e",
       "value": 111
      }
     },
     "6129f2d0712d4ce99399782a6fc9bfc6": {
      "model_module": "jupyter-js-widgets",
      "model_module_version": "~2.1.4",
      "model_name": "LayoutModel",
      "state": {
       "_model_module_version": "~2.1.4",
       "_view_module_version": "~2.1.4"
      }
     },
     "6152bdf1afe9406abb8bf5a592b593a7": {
      "model_module": "jupyter-js-widgets",
      "model_module_version": "~2.1.4",
      "model_name": "ProgressModel",
      "state": {
       "_model_module_version": "~2.1.4",
       "_view_module_version": "~2.1.4",
       "bar_style": "success",
       "description": "Processing Records: ",
       "layout": "IPY_MODEL_9f2993ab4bc04f5db2b2c87925e39dee",
       "style": "IPY_MODEL_9434abded8ed4752ad247ec2040167f3",
       "value": 100
      }
     },
     "6188b0bc4c4f4808a59348221375636c": {
      "model_module": "jupyter-js-widgets",
      "model_module_version": "~2.1.4",
      "model_name": "ProgressModel",
      "state": {
       "_model_module_version": "~2.1.4",
       "_view_module_version": "~2.1.4",
       "bar_style": "success",
       "description": "Identify Symptoms: ",
       "layout": "IPY_MODEL_a4131ab11e424ff39152905209486118",
       "max": 111,
       "style": "IPY_MODEL_4624e8e49886436dbc0cdb606b63a9d0",
       "value": 111
      }
     },
     "622466ea45ad476a8fa8d16369c9b344": {
      "model_module": "jupyter-js-widgets",
      "model_module_version": "~2.1.4",
      "model_name": "HBoxModel",
      "state": {
       "_model_module_version": "~2.1.4",
       "_view_module_version": "~2.1.4",
       "children": [
        "IPY_MODEL_e4fff0e5ae154d0ea87a0e8762272f93",
        "IPY_MODEL_3c101d97d0424e23b6679ec83d08f548"
       ],
       "layout": "IPY_MODEL_e1144924b1d14623be8a0ad9f294de2c"
      }
     },
     "62a69ca528c8416bb6b8d2dc74b82d64": {
      "model_module": "jupyter-js-widgets",
      "model_module_version": "~2.1.4",
      "model_name": "ProgressModel",
      "state": {
       "_model_module_version": "~2.1.4",
       "_view_module_version": "~2.1.4",
       "bar_style": "success",
       "description": "'TCGA-LUSC' Records: ",
       "layout": "IPY_MODEL_7c2ecac748034648831ee1ca6707acbf",
       "max": 3,
       "style": "IPY_MODEL_e9ab2f2fb18247329e0ab57b384ca22d",
       "value": 3
      }
     },
     "62bf8615bac9403da974fca5d02c427d": {
      "model_module": "jupyter-js-widgets",
      "model_module_version": "~2.1.4",
      "model_name": "LayoutModel",
      "state": {
       "_model_module_version": "~2.1.4",
       "_view_module_version": "~2.1.4"
      }
     },
     "62c9a7761e844a1c99329927d0b789ab": {
      "model_module": "jupyter-js-widgets",
      "model_module_version": "~2.1.4",
      "model_name": "LayoutModel",
      "state": {
       "_model_module_version": "~2.1.4",
       "_view_module_version": "~2.1.4"
      }
     },
     "62deae8144e0421ea03437a865d58fa0": {
      "model_module": "jupyter-js-widgets",
      "model_module_version": "~2.1.4",
      "model_name": "ProgressStyleModel",
      "state": {
       "_model_module_version": "~2.1.4",
       "_view_module_version": "~2.1.4"
      }
     },
     "62fd5315d2584e8e9a2dea1850d432cf": {
      "model_module": "jupyter-js-widgets",
      "model_module_version": "~2.1.4",
      "model_name": "LayoutModel",
      "state": {
       "_model_module_version": "~2.1.4",
       "_view_module_version": "~2.1.4"
      }
     },
     "630095bbdedd4905b90128e8d942a727": {
      "model_module": "jupyter-js-widgets",
      "model_module_version": "~2.1.4",
      "model_name": "HBoxModel",
      "state": {
       "_model_module_version": "~2.1.4",
       "_view_module_version": "~2.1.4",
       "children": [
        "IPY_MODEL_546824163b594ac888c7a29d22ff8659",
        "IPY_MODEL_70eadf5c35ac48a68e08d1cef83733bb"
       ],
       "layout": "IPY_MODEL_601eac6eb1ed49ceb3b1bd0698921146"
      }
     },
     "6360d6929d5d4afd834ca0931ced03ff": {
      "model_module": "jupyter-js-widgets",
      "model_module_version": "~2.1.4",
      "model_name": "HTMLModel",
      "state": {
       "_model_module_version": "~2.1.4",
       "_view_module_version": "~2.1.4",
       "layout": "IPY_MODEL_46a44cf1c3ca4bd5bb6087b5180630dc",
       "value": "100% 100/100 [00:03&lt;00:00, 28.94it/s]"
      }
     },
     "63adfbf9a2ef4d3bbc1bfd76b0585356": {
      "model_module": "jupyter-js-widgets",
      "model_module_version": "~2.1.4",
      "model_name": "HTMLModel",
      "state": {
       "_model_module_version": "~2.1.4",
       "_view_module_version": "~2.1.4",
       "layout": "IPY_MODEL_a9e1608c36ee437e9481815cef2df084",
       "value": "100% 11/11 [00:00&lt;00:00, 114.43it/s]"
      }
     },
     "64307d579ab747d18a400580ce0e5858": {
      "model_module": "jupyter-js-widgets",
      "model_module_version": "~2.1.4",
      "model_name": "ProgressStyleModel",
      "state": {
       "_model_module_version": "~2.1.4",
       "_view_module_version": "~2.1.4"
      }
     },
     "64826d8847ff44a3ac9eed59ea74b862": {
      "model_module": "jupyter-js-widgets",
      "model_module_version": "~2.1.4",
      "model_name": "HTMLModel",
      "state": {
       "_model_module_version": "~2.1.4",
       "_view_module_version": "~2.1.4",
       "layout": "IPY_MODEL_6c975c10eca6453cb321a8e2a0e0d30f",
       "value": "100% 4/4 [00:05&lt;00:00,  1.36s/it]"
      }
     },
     "64e4e88db32f4969946a86634af0d056": {
      "model_module": "jupyter-js-widgets",
      "model_module_version": "~2.1.4",
      "model_name": "LayoutModel",
      "state": {
       "_model_module_version": "~2.1.4",
       "_view_module_version": "~2.1.4"
      }
     },
     "658de963ed0a46dd84ecff6ca2398c93": {
      "model_module": "jupyter-js-widgets",
      "model_module_version": "~2.1.4",
      "model_name": "LayoutModel",
      "state": {
       "_model_module_version": "~2.1.4",
       "_view_module_version": "~2.1.4"
      }
     },
     "65f980ae875c43ee900d288b84a61b93": {
      "model_module": "jupyter-js-widgets",
      "model_module_version": "~2.1.4",
      "model_name": "LayoutModel",
      "state": {
       "_model_module_version": "~2.1.4",
       "_view_module_version": "~2.1.4"
      }
     },
     "660aeec3da5f490184579b07eead1ff3": {
      "model_module": "jupyter-js-widgets",
      "model_module_version": "~2.1.4",
      "model_name": "ProgressModel",
      "state": {
       "_model_module_version": "~2.1.4",
       "_view_module_version": "~2.1.4",
       "bar_style": "success",
       "description": "Processing Records: ",
       "layout": "IPY_MODEL_ae5bbfc965a14a0b9bd00d3b5a140106",
       "style": "IPY_MODEL_04dc3aed36e2409cb2c08a564791ac90",
       "value": 100
      }
     },
     "66ec4d7febd048ed8123a3d82048c59b": {
      "model_module": "jupyter-js-widgets",
      "model_module_version": "~2.1.4",
      "model_name": "ProgressModel",
      "state": {
       "_model_module_version": "~2.1.4",
       "_view_module_version": "~2.1.4",
       "bar_style": "success",
       "description": "Identify Symptoms: ",
       "layout": "IPY_MODEL_8d118b3e42be436d8746f38350ca1f9f",
       "max": 111,
       "style": "IPY_MODEL_a3bfb70f874a4aa5b6abaaf1f9d4f83c",
       "value": 111
      }
     },
     "66f9e0a5d6c346e79b53159828ca5ce7": {
      "model_module": "jupyter-js-widgets",
      "model_module_version": "~2.1.4",
      "model_name": "ProgressModel",
      "state": {
       "_model_module_version": "~2.1.4",
       "_view_module_version": "~2.1.4",
       "bar_style": "success",
       "description": "Genomic: ",
       "layout": "IPY_MODEL_c3d9036711504e45ac345fd55b25ee25",
       "max": 111,
       "style": "IPY_MODEL_2acddb9418b24a4e8c9820fb207ec52a",
       "value": 111
      }
     },
     "6718b1aa79644f9bb94c7b42920120de": {
      "model_module": "jupyter-js-widgets",
      "model_module_version": "~2.1.4",
      "model_name": "LayoutModel",
      "state": {
       "_model_module_version": "~2.1.4",
       "_view_module_version": "~2.1.4"
      }
     },
     "6776082cb70e4ea38d08e596fd64cc3f": {
      "model_module": "jupyter-js-widgets",
      "model_module_version": "~2.1.4",
      "model_name": "HBoxModel",
      "state": {
       "_model_module_version": "~2.1.4",
       "_view_module_version": "~2.1.4",
       "children": [
        "IPY_MODEL_08095ddaba1342dfa98f463ff62ecab5",
        "IPY_MODEL_a84bbf43815847569657648b4bca580b"
       ],
       "layout": "IPY_MODEL_f4c7ba4756cc4edcb932e38854414a2f"
      }
     },
     "6a451b7f6bd14c61bd7276a5e8d73eb3": {
      "model_module": "jupyter-js-widgets",
      "model_module_version": "~2.1.4",
      "model_name": "HBoxModel",
      "state": {
       "_model_module_version": "~2.1.4",
       "_view_module_version": "~2.1.4",
       "children": [
        "IPY_MODEL_59f5e0c2faf645f7a1d7968776db7b1d",
        "IPY_MODEL_64826d8847ff44a3ac9eed59ea74b862"
       ],
       "layout": "IPY_MODEL_9212d0e8ff584acdbda0961d65ede14e"
      }
     },
     "6a59cf2d6eb54521b99bfea09577ae43": {
      "model_module": "jupyter-js-widgets",
      "model_module_version": "~2.1.4",
      "model_name": "ProgressModel",
      "state": {
       "_model_module_version": "~2.1.4",
       "_view_module_version": "~2.1.4",
       "bar_style": "success",
       "description": "'TCGA-LUSC' Records: ",
       "layout": "IPY_MODEL_b62ecaf9ede6417ba170eb63bb6d9965",
       "max": 3,
       "style": "IPY_MODEL_4eed6f444c3d4ca3ab2d07387f4bdfe8",
       "value": 3
      }
     },
     "6a85e3e63a5845598c3c3ccaa121a792": {
      "model_module": "jupyter-js-widgets",
      "model_module_version": "~2.1.4",
      "model_name": "HBoxModel",
      "state": {
       "_model_module_version": "~2.1.4",
       "_view_module_version": "~2.1.4",
       "children": [
        "IPY_MODEL_2a016d81a9984036b6277f9d35753c4f",
        "IPY_MODEL_94a33d5e8d4441c0bfa731abc38faf86"
       ],
       "layout": "IPY_MODEL_e06ead6bfcdd4ec5afd2ab9657efaa28"
      }
     },
     "6acb408028744c76a2a70ad8239ae4a2": {
      "model_module": "jupyter-js-widgets",
      "model_module_version": "~2.1.4",
      "model_name": "ProgressStyleModel",
      "state": {
       "_model_module_version": "~2.1.4",
       "_view_module_version": "~2.1.4"
      }
     },
     "6b42f5e050714fee89d22aaa0e3cba4d": {
      "model_module": "jupyter-js-widgets",
      "model_module_version": "~2.1.4",
      "model_name": "LayoutModel",
      "state": {
       "_model_module_version": "~2.1.4",
       "_view_module_version": "~2.1.4"
      }
     },
     "6b7b7222bd1944338a1b9e8a01157cac": {
      "model_module": "jupyter-js-widgets",
      "model_module_version": "~2.1.4",
      "model_name": "LayoutModel",
      "state": {
       "_model_module_version": "~2.1.4",
       "_view_module_version": "~2.1.4"
      }
     },
     "6c975c10eca6453cb321a8e2a0e0d30f": {
      "model_module": "jupyter-js-widgets",
      "model_module_version": "~2.1.4",
      "model_name": "LayoutModel",
      "state": {
       "_model_module_version": "~2.1.4",
       "_view_module_version": "~2.1.4"
      }
     },
     "6c9f9a89b7d5497f9346480ea46f3f68": {
      "model_module": "jupyter-js-widgets",
      "model_module_version": "~2.1.4",
      "model_name": "HTMLModel",
      "state": {
       "_model_module_version": "~2.1.4",
       "_view_module_version": "~2.1.4",
       "layout": "IPY_MODEL_52436393f24d433b9172df40bc46783c",
       "value": "100% 111/111 [00:00&lt;00:00, 2014.56it/s]"
      }
     },
     "6ce78662350a4e5f8945ab95638ae26b": {
      "model_module": "jupyter-js-widgets",
      "model_module_version": "~2.1.4",
      "model_name": "LayoutModel",
      "state": {
       "_model_module_version": "~2.1.4",
       "_view_module_version": "~2.1.4"
      }
     },
     "6d0a3a926dff4dffb699fd0390dab557": {
      "model_module": "jupyter-js-widgets",
      "model_module_version": "~2.1.4",
      "model_name": "LayoutModel",
      "state": {
       "_model_module_version": "~2.1.4",
       "_view_module_version": "~2.1.4"
      }
     },
     "6dad7358f3ef412fbc1800d2d5306d7e": {
      "model_module": "jupyter-js-widgets",
      "model_module_version": "~2.1.4",
      "model_name": "HTMLModel",
      "state": {
       "_model_module_version": "~2.1.4",
       "_view_module_version": "~2.1.4",
       "layout": "IPY_MODEL_eac9a713a7564b939fe403d08c0d1c6e",
       "value": "100% 11/11 [00:00&lt;00:00, 62.09it/s]"
      }
     },
     "6de8ba0991bb44dcb830661217413a3d": {
      "model_module": "jupyter-js-widgets",
      "model_module_version": "~2.1.4",
      "model_name": "ProgressStyleModel",
      "state": {
       "_model_module_version": "~2.1.4",
       "_view_module_version": "~2.1.4"
      }
     },
     "6e0b495e6759410ba8054ccd6e92ee7a": {
      "model_module": "jupyter-js-widgets",
      "model_module_version": "~2.1.4",
      "model_name": "HBoxModel",
      "state": {
       "_model_module_version": "~2.1.4",
       "_view_module_version": "~2.1.4",
       "children": [
        "IPY_MODEL_5c6ef90320374c019d3ea0ab88552be2",
        "IPY_MODEL_c5982c2d0aa341deadab85a1082be25c"
       ],
       "layout": "IPY_MODEL_cbfb420aca5541cc8f1eb1014b065c66"
      }
     },
     "6ef42220d52045e89fdafcdf017ba953": {
      "model_module": "jupyter-js-widgets",
      "model_module_version": "~2.1.4",
      "model_name": "ProgressStyleModel",
      "state": {
       "_model_module_version": "~2.1.4",
       "_view_module_version": "~2.1.4"
      }
     },
     "6faec4f0a8b549acab146ea355b4f2c1": {
      "model_module": "jupyter-js-widgets",
      "model_module_version": "~2.1.4",
      "model_name": "LayoutModel",
      "state": {
       "_model_module_version": "~2.1.4",
       "_view_module_version": "~2.1.4"
      }
     },
     "702368e2ec434d52969a857bee7146e4": {
      "model_module": "jupyter-js-widgets",
      "model_module_version": "~2.1.4",
      "model_name": "HTMLModel",
      "state": {
       "_model_module_version": "~2.1.4",
       "_view_module_version": "~2.1.4",
       "layout": "IPY_MODEL_5d81f173a9d741ab999fc17224a75377",
       "value": "100% 100/100 [00:00&lt;00:00, 2749.82it/s]"
      }
     },
     "70eadf5c35ac48a68e08d1cef83733bb": {
      "model_module": "jupyter-js-widgets",
      "model_module_version": "~2.1.4",
      "model_name": "HTMLModel",
      "state": {
       "_model_module_version": "~2.1.4",
       "_view_module_version": "~2.1.4",
       "layout": "IPY_MODEL_2c03edf390bd475ab1c15b1c229ee9f6",
       "value": "100% 4/4 [00:05&lt;00:00,  1.37s/it]"
      }
     },
     "71046b540eb1468ba126db682e4011b3": {
      "model_module": "jupyter-js-widgets",
      "model_module_version": "~2.1.4",
      "model_name": "HBoxModel",
      "state": {
       "_model_module_version": "~2.1.4",
       "_view_module_version": "~2.1.4",
       "children": [
        "IPY_MODEL_18ec96c4326d477e9cde1964c132cbe5",
        "IPY_MODEL_15aa1366e21d44a3888702ed26169480"
       ],
       "layout": "IPY_MODEL_b77a852167de44b09716badda50475e1"
      }
     },
     "71eac62c75df4f0ca3ca3ac233b108de": {
      "model_module": "jupyter-js-widgets",
      "model_module_version": "~2.1.4",
      "model_name": "LayoutModel",
      "state": {
       "_model_module_version": "~2.1.4",
       "_view_module_version": "~2.1.4"
      }
     },
     "73cf4feb9ebc4acaa56c12454744a3a9": {
      "model_module": "jupyter-js-widgets",
      "model_module_version": "~2.1.4",
      "model_name": "ProgressModel",
      "state": {
       "_model_module_version": "~2.1.4",
       "_view_module_version": "~2.1.4",
       "bar_style": "success",
       "description": "Matching Symptoms: ",
       "layout": "IPY_MODEL_d54567f1e8604a0487dc9ef449ea4016",
       "max": 111,
       "style": "IPY_MODEL_6acb408028744c76a2a70ad8239ae4a2",
       "value": 111
      }
     },
     "752e3e04b78c4e65a06b9595f40f0937": {
      "model_module": "jupyter-js-widgets",
      "model_module_version": "~2.1.4",
      "model_name": "LayoutModel",
      "state": {
       "_model_module_version": "~2.1.4",
       "_view_module_version": "~2.1.4"
      }
     },
     "7571ba18656249b5b7cb27dfeeef6b97": {
      "model_module": "jupyter-js-widgets",
      "model_module_version": "~2.1.4",
      "model_name": "LayoutModel",
      "state": {
       "_model_module_version": "~2.1.4",
       "_view_module_version": "~2.1.4"
      }
     },
     "763fc18cf33e402eb6369fcbd9396715": {
      "model_module": "jupyter-js-widgets",
      "model_module_version": "~2.1.4",
      "model_name": "LayoutModel",
      "state": {
       "_model_module_version": "~2.1.4",
       "_view_module_version": "~2.1.4"
      }
     },
     "768010e779774659b1fb507712dddaf5": {
      "model_module": "jupyter-js-widgets",
      "model_module_version": "~2.1.4",
      "model_name": "ProgressModel",
      "state": {
       "_model_module_version": "~2.1.4",
       "_view_module_version": "~2.1.4",
       "bar_style": "success",
       "description": "Obtaining Images: ",
       "layout": "IPY_MODEL_ae2a4dc4dff54c218afafd7ce5e1f429",
       "style": "IPY_MODEL_527076f93d9342d2890bf008d4576d6d",
       "value": 100
      }
     },
     "7688629b8d764a9788cf819c1af6e976": {
      "model_module": "jupyter-js-widgets",
      "model_module_version": "~2.1.4",
      "model_name": "ProgressModel",
      "state": {
       "_model_module_version": "~2.1.4",
       "_view_module_version": "~2.1.4",
       "bar_style": "success",
       "description": "Obtaining Images: ",
       "layout": "IPY_MODEL_3022f537b1d2429eba974566e9eeabd7",
       "max": 11,
       "style": "IPY_MODEL_5520e1b8535d482399a3e84ee6073939",
       "value": 11
      }
     },
     "772ae779a8334a878ba714ae535b2c9c": {
      "model_module": "jupyter-js-widgets",
      "model_module_version": "~2.1.4",
      "model_name": "HBoxModel",
      "state": {
       "_model_module_version": "~2.1.4",
       "_view_module_version": "~2.1.4",
       "children": [
        "IPY_MODEL_83dbc0a5f7174314be1bc540d4801228",
        "IPY_MODEL_4332efe9ba1049849b6e655d34389337"
       ],
       "layout": "IPY_MODEL_dc7c7e1a9ad745868bd3edab97b72464"
      }
     },
     "7738e12cc3bc4c47b7d8bef3b70cf42a": {
      "model_module": "jupyter-js-widgets",
      "model_module_version": "~2.1.4",
      "model_name": "LayoutModel",
      "state": {
       "_model_module_version": "~2.1.4",
       "_view_module_version": "~2.1.4"
      }
     },
     "7889d51c102947aaa04aa83e1caa8743": {
      "model_module": "jupyter-js-widgets",
      "model_module_version": "~2.1.4",
      "model_name": "ProgressModel",
      "state": {
       "_model_module_version": "~2.1.4",
       "_view_module_version": "~2.1.4",
       "bar_style": "success",
       "description": "Obtaining Records: ",
       "layout": "IPY_MODEL_ed3410c5f818432e9372df4b049f02cc",
       "max": 4,
       "style": "IPY_MODEL_e9e9c0cfd98340f2b827cf0f926ea687",
       "value": 4
      }
     },
     "78ddd592e2a34caf9baaf879ca5dd055": {
      "model_module": "jupyter-js-widgets",
      "model_module_version": "~2.1.4",
      "model_name": "LayoutModel",
      "state": {
       "_model_module_version": "~2.1.4",
       "_view_module_version": "~2.1.4"
      }
     },
     "791eb7319c9744c488cbe1d9ca08463c": {
      "model_module": "jupyter-js-widgets",
      "model_module_version": "~2.1.4",
      "model_name": "ProgressModel",
      "state": {
       "_model_module_version": "~2.1.4",
       "_view_module_version": "~2.1.4",
       "bar_style": "success",
       "description": "'TCGA-LUSC' Records: ",
       "layout": "IPY_MODEL_23b9f7ebc035408eb8e8aeb1ea40c541",
       "max": 3,
       "style": "IPY_MODEL_162c9e0962194ef2b4cc7d510fe79d74",
       "value": 3
      }
     },
     "79af9340bcc54f8fba682f27ff275e72": {
      "model_module": "jupyter-js-widgets",
      "model_module_version": "~2.1.4",
      "model_name": "ProgressStyleModel",
      "state": {
       "_model_module_version": "~2.1.4",
       "_view_module_version": "~2.1.4"
      }
     },
     "79ff199fae3b4be5893961c97366e3e5": {
      "model_module": "jupyter-js-widgets",
      "model_module_version": "~2.1.4",
      "model_name": "LayoutModel",
      "state": {
       "_model_module_version": "~2.1.4",
       "_view_module_version": "~2.1.4"
      }
     },
     "7a7044773b8442b4ad25e3aa826328ae": {
      "model_module": "jupyter-js-widgets",
      "model_module_version": "~2.1.4",
      "model_name": "ProgressStyleModel",
      "state": {
       "_model_module_version": "~2.1.4",
       "_view_module_version": "~2.1.4"
      }
     },
     "7b2cb1e345f44312aa61e32c606db969": {
      "model_module": "jupyter-js-widgets",
      "model_module_version": "~2.1.4",
      "model_name": "HBoxModel",
      "state": {
       "_model_module_version": "~2.1.4",
       "_view_module_version": "~2.1.4",
       "children": [
        "IPY_MODEL_a106d4103d1749acbef623391da07b36",
        "IPY_MODEL_d320f1354ab34765b497a86228f6e410"
       ],
       "layout": "IPY_MODEL_e307e3701ae74aac9d5b59a779e272cc"
      }
     },
     "7c2ecac748034648831ee1ca6707acbf": {
      "model_module": "jupyter-js-widgets",
      "model_module_version": "~2.1.4",
      "model_name": "LayoutModel",
      "state": {
       "_model_module_version": "~2.1.4",
       "_view_module_version": "~2.1.4"
      }
     },
     "7c6cd807cea043f3a8db3010a146a113": {
      "model_module": "jupyter-js-widgets",
      "model_module_version": "~2.1.4",
      "model_name": "ProgressModel",
      "state": {
       "_model_module_version": "~2.1.4",
       "_view_module_version": "~2.1.4",
       "bar_style": "success",
       "description": "Identify Symptoms: ",
       "layout": "IPY_MODEL_9ebf57e9180449ed8a5f85e85442a41c",
       "max": 111,
       "style": "IPY_MODEL_e835cc9b034e4034b60e13c91f67a7aa",
       "value": 111
      }
     },
     "7d494af7491e451186babbf66832c804": {
      "model_module": "jupyter-js-widgets",
      "model_module_version": "~2.1.4",
      "model_name": "HBoxModel",
      "state": {
       "_model_module_version": "~2.1.4",
       "_view_module_version": "~2.1.4",
       "children": [
        "IPY_MODEL_6152bdf1afe9406abb8bf5a592b593a7",
        "IPY_MODEL_6360d6929d5d4afd834ca0931ced03ff"
       ],
       "layout": "IPY_MODEL_0ebdfb9108b54a8c9dbd6174d3a87415"
      }
     },
     "7dc9129051be4b939f0021afad5fd7c4": {
      "model_module": "jupyter-js-widgets",
      "model_module_version": "~2.1.4",
      "model_name": "HTMLModel",
      "state": {
       "_model_module_version": "~2.1.4",
       "_view_module_version": "~2.1.4",
       "layout": "IPY_MODEL_8968b521c8c7435188f99d8f3317c96d",
       "value": "100% 3/3 [00:17&lt;00:00,  5.70s/it]"
      }
     },
     "7df1fc6710a142bfa736336de5dd7667": {
      "model_module": "jupyter-js-widgets",
      "model_module_version": "~2.1.4",
      "model_name": "LayoutModel",
      "state": {
       "_model_module_version": "~2.1.4",
       "_view_module_version": "~2.1.4"
      }
     },
     "7e6d773a7f604f7fbd20156f89e532a6": {
      "model_module": "jupyter-js-widgets",
      "model_module_version": "~2.1.4",
      "model_name": "LayoutModel",
      "state": {
       "_model_module_version": "~2.1.4",
       "_view_module_version": "~2.1.4"
      }
     },
     "7f2676bb2af54445a59fc69732b17caf": {
      "model_module": "jupyter-js-widgets",
      "model_module_version": "~2.1.4",
      "model_name": "LayoutModel",
      "state": {
       "_model_module_version": "~2.1.4",
       "_view_module_version": "~2.1.4"
      }
     },
     "7f8603892e0a4724a4e7d70e5df96912": {
      "model_module": "jupyter-js-widgets",
      "model_module_version": "~2.1.4",
      "model_name": "ProgressStyleModel",
      "state": {
       "_model_module_version": "~2.1.4",
       "_view_module_version": "~2.1.4"
      }
     },
     "806cf1599b14466d9cb0ac0b3d0aef5a": {
      "model_module": "jupyter-js-widgets",
      "model_module_version": "~2.1.4",
      "model_name": "ProgressModel",
      "state": {
       "_model_module_version": "~2.1.4",
       "_view_module_version": "~2.1.4",
       "bar_style": "success",
       "description": "'TCGA-LUSC' Records: ",
       "layout": "IPY_MODEL_8e7fcdad1e25426fba983c35b2df974e",
       "max": 3,
       "style": "IPY_MODEL_6ef42220d52045e89fdafcdf017ba953",
       "value": 3
      }
     },
     "80f573878f924a2abb5eb1c3f10d37d7": {
      "model_module": "jupyter-js-widgets",
      "model_module_version": "~2.1.4",
      "model_name": "HTMLModel",
      "state": {
       "_model_module_version": "~2.1.4",
       "_view_module_version": "~2.1.4",
       "layout": "IPY_MODEL_fc02c165780a4da695445b8295d932ed",
       "value": "100% 100/100 [00:03&lt;00:00, 29.20it/s]"
      }
     },
     "819211964fa04b828e39e74dcdab1b7a": {
      "model_module": "jupyter-js-widgets",
      "model_module_version": "~2.1.4",
      "model_name": "ProgressModel",
      "state": {
       "_model_module_version": "~2.1.4",
       "_view_module_version": "~2.1.4",
       "bar_style": "success",
       "description": "Symptoms: ",
       "layout": "IPY_MODEL_1c65dc8d3b5c44f99d26628db6ff0de2",
       "max": 111,
       "style": "IPY_MODEL_99ab61451f2d4407bfa4de8782ae0041",
       "value": 111
      }
     },
     "81b7dd575fa646e3b85ac6eef53c2ff9": {
      "model_module": "jupyter-js-widgets",
      "model_module_version": "~2.1.4",
      "model_name": "ProgressStyleModel",
      "state": {
       "_model_module_version": "~2.1.4",
       "_view_module_version": "~2.1.4"
      }
     },
     "83452beb251d44408ed18366876f2d82": {
      "model_module": "jupyter-js-widgets",
      "model_module_version": "~2.1.4",
      "model_name": "LayoutModel",
      "state": {
       "_model_module_version": "~2.1.4",
       "_view_module_version": "~2.1.4"
      }
     },
     "83dbc0a5f7174314be1bc540d4801228": {
      "model_module": "jupyter-js-widgets",
      "model_module_version": "~2.1.4",
      "model_name": "ProgressModel",
      "state": {
       "_model_module_version": "~2.1.4",
       "_view_module_version": "~2.1.4",
       "bar_style": "success",
       "description": "Obtaining Images: ",
       "layout": "IPY_MODEL_f4bccd54b73646b88a8793b3397c23b7",
       "style": "IPY_MODEL_f9217792735e4ca39ceb1dc590a44fd4",
       "value": 100
      }
     },
     "83f078470fee49c5b91d504ec0a02bd2": {
      "model_module": "jupyter-js-widgets",
      "model_module_version": "~2.1.4",
      "model_name": "HBoxModel",
      "state": {
       "_model_module_version": "~2.1.4",
       "_view_module_version": "~2.1.4",
       "children": [
        "IPY_MODEL_6a59cf2d6eb54521b99bfea09577ae43",
        "IPY_MODEL_ca0931d1a2da43348d769408727ec05b"
       ],
       "layout": "IPY_MODEL_7df1fc6710a142bfa736336de5dd7667"
      }
     },
     "8405966412b9451aab6cddf70f107877": {
      "model_module": "jupyter-js-widgets",
      "model_module_version": "~2.1.4",
      "model_name": "LayoutModel",
      "state": {
       "_model_module_version": "~2.1.4",
       "_view_module_version": "~2.1.4"
      }
     },
     "852e1877b82642d19bf7cc01c356e907": {
      "model_module": "jupyter-js-widgets",
      "model_module_version": "~2.1.4",
      "model_name": "LayoutModel",
      "state": {
       "_model_module_version": "~2.1.4",
       "_view_module_version": "~2.1.4"
      }
     },
     "860fcc4014224942ae6925866e022894": {
      "model_module": "jupyter-js-widgets",
      "model_module_version": "~2.1.4",
      "model_name": "HTMLModel",
      "state": {
       "_model_module_version": "~2.1.4",
       "_view_module_version": "~2.1.4",
       "layout": "IPY_MODEL_4915611fa0b642338aaeecb371678c5b",
       "value": "100% 11/11 [00:00&lt;00:00, 113.27it/s]"
      }
     },
     "8649b94583fd4c618ab7cf24438a481e": {
      "model_module": "jupyter-js-widgets",
      "model_module_version": "~2.1.4",
      "model_name": "ProgressStyleModel",
      "state": {
       "_model_module_version": "~2.1.4",
       "_view_module_version": "~2.1.4"
      }
     },
     "86dabfb593694feeaf6734f19d102ced": {
      "model_module": "jupyter-js-widgets",
      "model_module_version": "~2.1.4",
      "model_name": "HTMLModel",
      "state": {
       "_model_module_version": "~2.1.4",
       "_view_module_version": "~2.1.4",
       "layout": "IPY_MODEL_89073e1e5a0c4b00bc4068110d782c07",
       "value": "100% 111/111 [00:00&lt;00:00, 1702.84it/s]"
      }
     },
     "870770ada32649459961f82a195894d7": {
      "model_module": "jupyter-js-widgets",
      "model_module_version": "~2.1.4",
      "model_name": "LayoutModel",
      "state": {
       "_model_module_version": "~2.1.4",
       "_view_module_version": "~2.1.4"
      }
     },
     "8761b96822414269a64d547069821e4c": {
      "model_module": "jupyter-js-widgets",
      "model_module_version": "~2.1.4",
      "model_name": "HBoxModel",
      "state": {
       "_model_module_version": "~2.1.4",
       "_view_module_version": "~2.1.4",
       "children": [
        "IPY_MODEL_378a6ef782fe46ce8fb9f92dfc5088ad",
        "IPY_MODEL_3738ff8aed55426a876fef3b9ac5e942"
       ],
       "layout": "IPY_MODEL_8405966412b9451aab6cddf70f107877"
      }
     },
     "87711597c8194328bbc1cf5485c59e90": {
      "model_module": "jupyter-js-widgets",
      "model_module_version": "~2.1.4",
      "model_name": "ProgressModel",
      "state": {
       "_model_module_version": "~2.1.4",
       "_view_module_version": "~2.1.4",
       "bar_style": "success",
       "description": "Genomic: ",
       "layout": "IPY_MODEL_2927f916bbd04ad6a1176480c2cc1320",
       "max": 111,
       "style": "IPY_MODEL_a10beb62f9144a8f8cddf44a2fee42c2",
       "value": 111
      }
     },
     "88a4fed0a6514a83a358c069ba3bbc45": {
      "model_module": "jupyter-js-widgets",
      "model_module_version": "~2.1.4",
      "model_name": "LayoutModel",
      "state": {
       "_model_module_version": "~2.1.4",
       "_view_module_version": "~2.1.4"
      }
     },
     "88d115ee8d8c466283cedfb2cd0d48d7": {
      "model_module": "jupyter-js-widgets",
      "model_module_version": "~2.1.4",
      "model_name": "LayoutModel",
      "state": {
       "_model_module_version": "~2.1.4",
       "_view_module_version": "~2.1.4"
      }
     },
     "89073e1e5a0c4b00bc4068110d782c07": {
      "model_module": "jupyter-js-widgets",
      "model_module_version": "~2.1.4",
      "model_name": "LayoutModel",
      "state": {
       "_model_module_version": "~2.1.4",
       "_view_module_version": "~2.1.4"
      }
     },
     "890e58828f8143aea176408bb8217aa0": {
      "model_module": "jupyter-js-widgets",
      "model_module_version": "~2.1.4",
      "model_name": "ProgressStyleModel",
      "state": {
       "_model_module_version": "~2.1.4",
       "_view_module_version": "~2.1.4"
      }
     },
     "892627d730684f41a2b3b8e88c5d9720": {
      "model_module": "jupyter-js-widgets",
      "model_module_version": "~2.1.4",
      "model_name": "ProgressStyleModel",
      "state": {
       "_model_module_version": "~2.1.4",
       "_view_module_version": "~2.1.4"
      }
     },
     "8968b521c8c7435188f99d8f3317c96d": {
      "model_module": "jupyter-js-widgets",
      "model_module_version": "~2.1.4",
      "model_name": "LayoutModel",
      "state": {
       "_model_module_version": "~2.1.4",
       "_view_module_version": "~2.1.4"
      }
     },
     "8972d3e7e45942f38746f51d187dbd16": {
      "model_module": "jupyter-js-widgets",
      "model_module_version": "~2.1.4",
      "model_name": "LayoutModel",
      "state": {
       "_model_module_version": "~2.1.4",
       "_view_module_version": "~2.1.4"
      }
     },
     "8981dc88e13d48878d08c100b8b0c220": {
      "model_module": "jupyter-js-widgets",
      "model_module_version": "~2.1.4",
      "model_name": "LayoutModel",
      "state": {
       "_model_module_version": "~2.1.4",
       "_view_module_version": "~2.1.4"
      }
     },
     "8a16febd6fd848fb9f7f89331e4606c4": {
      "model_module": "jupyter-js-widgets",
      "model_module_version": "~2.1.4",
      "model_name": "ProgressStyleModel",
      "state": {
       "_model_module_version": "~2.1.4",
       "_view_module_version": "~2.1.4"
      }
     },
     "8a707b289717402681e4c98e1621efe3": {
      "model_module": "jupyter-js-widgets",
      "model_module_version": "~2.1.4",
      "model_name": "ProgressStyleModel",
      "state": {
       "_model_module_version": "~2.1.4",
       "_view_module_version": "~2.1.4"
      }
     },
     "8ab7ed6d213648f29a29d53323f8f595": {
      "model_module": "jupyter-js-widgets",
      "model_module_version": "~2.1.4",
      "model_name": "HBoxModel",
      "state": {
       "_model_module_version": "~2.1.4",
       "_view_module_version": "~2.1.4",
       "children": [
        "IPY_MODEL_3e5c42e8e55f40a88552c076a126d9da",
        "IPY_MODEL_02939d40ce4044c3a7182c954a0bbcda"
       ],
       "layout": "IPY_MODEL_b62baaa9f51c4ca49a14006ff723f250"
      }
     },
     "8ba5d1c82f444e8eb2f48e318a66face": {
      "model_module": "jupyter-js-widgets",
      "model_module_version": "~2.1.4",
      "model_name": "HTMLModel",
      "state": {
       "_model_module_version": "~2.1.4",
       "_view_module_version": "~2.1.4",
       "layout": "IPY_MODEL_3ceb5a853e254109b8c5b160170b56e6",
       "value": "100% 11/11 [00:00&lt;00:00, 115.22it/s]"
      }
     },
     "8d118b3e42be436d8746f38350ca1f9f": {
      "model_module": "jupyter-js-widgets",
      "model_module_version": "~2.1.4",
      "model_name": "LayoutModel",
      "state": {
       "_model_module_version": "~2.1.4",
       "_view_module_version": "~2.1.4"
      }
     },
     "8d5e137b5fe7468b82ff4aeb4d653d19": {
      "model_module": "jupyter-js-widgets",
      "model_module_version": "~2.1.4",
      "model_name": "LayoutModel",
      "state": {
       "_model_module_version": "~2.1.4",
       "_view_module_version": "~2.1.4"
      }
     },
     "8d7f4da4cafa423ab4756327e09dabb0": {
      "model_module": "jupyter-js-widgets",
      "model_module_version": "~2.1.4",
      "model_name": "ProgressStyleModel",
      "state": {
       "_model_module_version": "~2.1.4",
       "_view_module_version": "~2.1.4"
      }
     },
     "8dd0c38ecce8438e9f80202a98330a2c": {
      "model_module": "jupyter-js-widgets",
      "model_module_version": "~2.1.4",
      "model_name": "LayoutModel",
      "state": {
       "_model_module_version": "~2.1.4",
       "_view_module_version": "~2.1.4"
      }
     },
     "8e369ad98df643be80b83fb8aa7c97fd": {
      "model_module": "jupyter-js-widgets",
      "model_module_version": "~2.1.4",
      "model_name": "HBoxModel",
      "state": {
       "_model_module_version": "~2.1.4",
       "_view_module_version": "~2.1.4",
       "children": [
        "IPY_MODEL_a7a06a7d433446aeb400a987a9224c79",
        "IPY_MODEL_0090c9c5c0fb48788c9390376d2c68a2"
       ],
       "layout": "IPY_MODEL_9c99390e69254ffeb2b3963624c0583d"
      }
     },
     "8e7fcdad1e25426fba983c35b2df974e": {
      "model_module": "jupyter-js-widgets",
      "model_module_version": "~2.1.4",
      "model_name": "LayoutModel",
      "state": {
       "_model_module_version": "~2.1.4",
       "_view_module_version": "~2.1.4"
      }
     },
     "8e854b9eca8e48b08e76489db1d0c826": {
      "model_module": "jupyter-js-widgets",
      "model_module_version": "~2.1.4",
      "model_name": "ProgressModel",
      "state": {
       "_model_module_version": "~2.1.4",
       "_view_module_version": "~2.1.4",
       "bar_style": "success",
       "description": "Integrating DisGeNET: ",
       "layout": "IPY_MODEL_380e0bb9b5cc482bb0a738d860641bc9",
       "max": 111,
       "style": "IPY_MODEL_053416cd7ee54fdeb14b3999c3bdb83f",
       "value": 111
      }
     },
     "8edbac86bc0e46f8b715f77e52a9571a": {
      "model_module": "jupyter-js-widgets",
      "model_module_version": "~2.1.4",
      "model_name": "LayoutModel",
      "state": {
       "_model_module_version": "~2.1.4",
       "_view_module_version": "~2.1.4"
      }
     },
     "8f2102f44cdb41278c096f6aa9766845": {
      "model_module": "jupyter-js-widgets",
      "model_module_version": "~2.1.4",
      "model_name": "LayoutModel",
      "state": {
       "_model_module_version": "~2.1.4",
       "_view_module_version": "~2.1.4"
      }
     },
     "8f9680e69e1e403a8e0ea63b0d814735": {
      "model_module": "jupyter-js-widgets",
      "model_module_version": "~2.1.4",
      "model_name": "LayoutModel",
      "state": {
       "_model_module_version": "~2.1.4",
       "_view_module_version": "~2.1.4"
      }
     },
     "9061c0a1e4f64294bcf4a7734a4ed8b0": {
      "model_module": "jupyter-js-widgets",
      "model_module_version": "~2.1.4",
      "model_name": "LayoutModel",
      "state": {
       "_model_module_version": "~2.1.4",
       "_view_module_version": "~2.1.4"
      }
     },
     "90fc77bb71354bd4ac89901eb220a418": {
      "model_module": "jupyter-js-widgets",
      "model_module_version": "~2.1.4",
      "model_name": "HTMLModel",
      "state": {
       "_model_module_version": "~2.1.4",
       "_view_module_version": "~2.1.4",
       "layout": "IPY_MODEL_05f06b57cd96491fa901d4bcab26089a",
       "value": "100% 4/4 [00:05&lt;00:00,  1.35s/it]"
      }
     },
     "90fd0b34d9a042e2ab9e52adb146a313": {
      "model_module": "jupyter-js-widgets",
      "model_module_version": "~2.1.4",
      "model_name": "ProgressStyleModel",
      "state": {
       "_model_module_version": "~2.1.4",
       "_view_module_version": "~2.1.4"
      }
     },
     "9187199282f746ca9c00a7b01273d286": {
      "model_module": "jupyter-js-widgets",
      "model_module_version": "~2.1.4",
      "model_name": "HTMLModel",
      "state": {
       "_model_module_version": "~2.1.4",
       "_view_module_version": "~2.1.4",
       "layout": "IPY_MODEL_d0398a7db64145768081f42e45659216",
       "value": "100% 111/111 [00:00&lt;00:00, 815.46it/s]"
      }
     },
     "91e2f5d1381d4eadb5af21cd1a9bab6e": {
      "model_module": "jupyter-js-widgets",
      "model_module_version": "~2.1.4",
      "model_name": "ProgressModel",
      "state": {
       "_model_module_version": "~2.1.4",
       "_view_module_version": "~2.1.4",
       "bar_style": "success",
       "description": "'TCGA-LUSC' Records: ",
       "layout": "IPY_MODEL_cfd39ca55f634b41bcc27ce8633e6986",
       "max": 3,
       "style": "IPY_MODEL_64307d579ab747d18a400580ce0e5858",
       "value": 3
      }
     },
     "9212d0e8ff584acdbda0961d65ede14e": {
      "model_module": "jupyter-js-widgets",
      "model_module_version": "~2.1.4",
      "model_name": "LayoutModel",
      "state": {
       "_model_module_version": "~2.1.4",
       "_view_module_version": "~2.1.4"
      }
     },
     "9285e1b82aba471c83d0433d089fb849": {
      "model_module": "jupyter-js-widgets",
      "model_module_version": "~2.1.4",
      "model_name": "LayoutModel",
      "state": {
       "_model_module_version": "~2.1.4",
       "_view_module_version": "~2.1.4"
      }
     },
     "9299a9e21b324343b88bc261c08ff687": {
      "model_module": "jupyter-js-widgets",
      "model_module_version": "~2.1.4",
      "model_name": "LayoutModel",
      "state": {
       "_model_module_version": "~2.1.4",
       "_view_module_version": "~2.1.4"
      }
     },
     "92a38fee0b99443792af87cd013748e0": {
      "model_module": "jupyter-js-widgets",
      "model_module_version": "~2.1.4",
      "model_name": "ProgressStyleModel",
      "state": {
       "_model_module_version": "~2.1.4",
       "_view_module_version": "~2.1.4"
      }
     },
     "92b2f83ef1ad410ca0b7473e9ab9d04a": {
      "model_module": "jupyter-js-widgets",
      "model_module_version": "~2.1.4",
      "model_name": "LayoutModel",
      "state": {
       "_model_module_version": "~2.1.4",
       "_view_module_version": "~2.1.4"
      }
     },
     "92f0d76cce484394b7f529b62e8bc448": {
      "model_module": "jupyter-js-widgets",
      "model_module_version": "~2.1.4",
      "model_name": "ProgressModel",
      "state": {
       "_model_module_version": "~2.1.4",
       "_view_module_version": "~2.1.4",
       "bar_style": "success",
       "description": "Integrating Symptoms: ",
       "layout": "IPY_MODEL_41319d649e0c42cf8c595643de7c9057",
       "max": 111,
       "style": "IPY_MODEL_063b15701b2a4ecfb43a295d449def76",
       "value": 111
      }
     },
     "92f28475441d40b2b526ecf487d186c8": {
      "model_module": "jupyter-js-widgets",
      "model_module_version": "~2.1.4",
      "model_name": "ProgressStyleModel",
      "state": {
       "_model_module_version": "~2.1.4",
       "_view_module_version": "~2.1.4"
      }
     },
     "932a236a33154215bcdf29ac551ea8a9": {
      "model_module": "jupyter-js-widgets",
      "model_module_version": "~2.1.4",
      "model_name": "HBoxModel",
      "state": {
       "_model_module_version": "~2.1.4",
       "_view_module_version": "~2.1.4",
       "children": [
        "IPY_MODEL_42e424f48fc44d14ae988128111ae0b2",
        "IPY_MODEL_99d276ae2ce7457e9e4515d38900a8f3"
       ],
       "layout": "IPY_MODEL_44586677ecd84b3bb1aeb45182cda0ff"
      }
     },
     "9341185d487a4b598037af8e40713111": {
      "model_module": "jupyter-js-widgets",
      "model_module_version": "~2.1.4",
      "model_name": "LayoutModel",
      "state": {
       "_model_module_version": "~2.1.4",
       "_view_module_version": "~2.1.4"
      }
     },
     "93529333803045238642d91154338dd3": {
      "model_module": "jupyter-js-widgets",
      "model_module_version": "~2.1.4",
      "model_name": "LayoutModel",
      "state": {
       "_model_module_version": "~2.1.4",
       "_view_module_version": "~2.1.4"
      }
     },
     "9408a6afba354d43b0552109866d2f18": {
      "model_module": "jupyter-js-widgets",
      "model_module_version": "~2.1.4",
      "model_name": "LayoutModel",
      "state": {
       "_model_module_version": "~2.1.4",
       "_view_module_version": "~2.1.4"
      }
     },
     "9434abded8ed4752ad247ec2040167f3": {
      "model_module": "jupyter-js-widgets",
      "model_module_version": "~2.1.4",
      "model_name": "ProgressStyleModel",
      "state": {
       "_model_module_version": "~2.1.4",
       "_view_module_version": "~2.1.4"
      }
     },
     "94987d5a00dd4cfd80d71410900770e1": {
      "model_module": "jupyter-js-widgets",
      "model_module_version": "~2.1.4",
      "model_name": "HBoxModel",
      "state": {
       "_model_module_version": "~2.1.4",
       "_view_module_version": "~2.1.4",
       "children": [
        "IPY_MODEL_791eb7319c9744c488cbe1d9ca08463c",
        "IPY_MODEL_fa00f8b36da04339a832e7c7ccecabd0"
       ],
       "layout": "IPY_MODEL_92b2f83ef1ad410ca0b7473e9ab9d04a"
      }
     },
     "94a33d5e8d4441c0bfa731abc38faf86": {
      "model_module": "jupyter-js-widgets",
      "model_module_version": "~2.1.4",
      "model_name": "HTMLModel",
      "state": {
       "_model_module_version": "~2.1.4",
       "_view_module_version": "~2.1.4",
       "layout": "IPY_MODEL_e53632dc76be4ee09ba3b47587e1cb37",
       "value": "100% 100/100 [00:00&lt;00:00, 2898.12it/s]"
      }
     },
     "94b3148a4622491fa7c2103fdcb31927": {
      "model_module": "jupyter-js-widgets",
      "model_module_version": "~2.1.4",
      "model_name": "HTMLModel",
      "state": {
       "_model_module_version": "~2.1.4",
       "_view_module_version": "~2.1.4",
       "layout": "IPY_MODEL_1b064c6c8a4049b697e45983968727a9",
       "value": "100% 3/3 [00:17&lt;00:00,  5.83s/it]"
      }
     },
     "961f3631abd446c38b121cb1a95bdb2a": {
      "model_module": "jupyter-js-widgets",
      "model_module_version": "~2.1.4",
      "model_name": "ProgressStyleModel",
      "state": {
       "_model_module_version": "~2.1.4",
       "_view_module_version": "~2.1.4"
      }
     },
     "96d88b2324cd46638af059079f5fbea0": {
      "model_module": "jupyter-js-widgets",
      "model_module_version": "~2.1.4",
      "model_name": "HTMLModel",
      "state": {
       "_model_module_version": "~2.1.4",
       "_view_module_version": "~2.1.4",
       "layout": "IPY_MODEL_c4e2addc04a34839be3f708e065e4739",
       "value": "100% 111/111 [00:00&lt;00:00, 1722.26it/s]"
      }
     },
     "983af7fa78a04bf786a1e05c4fa4879b": {
      "model_module": "jupyter-js-widgets",
      "model_module_version": "~2.1.4",
      "model_name": "LayoutModel",
      "state": {
       "_model_module_version": "~2.1.4",
       "_view_module_version": "~2.1.4"
      }
     },
     "985dcabeec5e47ebaf7388cdd1bf22a0": {
      "model_module": "jupyter-js-widgets",
      "model_module_version": "~2.1.4",
      "model_name": "ProgressStyleModel",
      "state": {
       "_model_module_version": "~2.1.4",
       "_view_module_version": "~2.1.4"
      }
     },
     "98668824079b44bfb4787dcc816f3888": {
      "model_module": "jupyter-js-widgets",
      "model_module_version": "~2.1.4",
      "model_name": "LayoutModel",
      "state": {
       "_model_module_version": "~2.1.4",
       "_view_module_version": "~2.1.4"
      }
     },
     "9881ae7cddab4dcdb27ab2a4a8e39149": {
      "model_module": "jupyter-js-widgets",
      "model_module_version": "~2.1.4",
      "model_name": "HBoxModel",
      "state": {
       "_model_module_version": "~2.1.4",
       "_view_module_version": "~2.1.4",
       "children": [
        "IPY_MODEL_ae98ca2a7a3849c8ae461f61f842837c",
        "IPY_MODEL_380bd9070560494598f45af258c4c5a2"
       ],
       "layout": "IPY_MODEL_f997a58fc3f84cdca5f7485183144be1"
      }
     },
     "98ebf835eb884dcaa45c22fb505dff16": {
      "model_module": "jupyter-js-widgets",
      "model_module_version": "~2.1.4",
      "model_name": "LayoutModel",
      "state": {
       "_model_module_version": "~2.1.4",
       "_view_module_version": "~2.1.4"
      }
     },
     "99355d8e304f4ee694c58d1ce33aa873": {
      "model_module": "jupyter-js-widgets",
      "model_module_version": "~2.1.4",
      "model_name": "ProgressStyleModel",
      "state": {
       "_model_module_version": "~2.1.4",
       "_view_module_version": "~2.1.4"
      }
     },
     "99843e09c6094d6c961fd806c0e9cb62": {
      "model_module": "jupyter-js-widgets",
      "model_module_version": "~2.1.4",
      "model_name": "LayoutModel",
      "state": {
       "_model_module_version": "~2.1.4",
       "_view_module_version": "~2.1.4"
      }
     },
     "99ab61451f2d4407bfa4de8782ae0041": {
      "model_module": "jupyter-js-widgets",
      "model_module_version": "~2.1.4",
      "model_name": "ProgressStyleModel",
      "state": {
       "_model_module_version": "~2.1.4",
       "_view_module_version": "~2.1.4"
      }
     },
     "99d276ae2ce7457e9e4515d38900a8f3": {
      "model_module": "jupyter-js-widgets",
      "model_module_version": "~2.1.4",
      "model_name": "HTMLModel",
      "state": {
       "_model_module_version": "~2.1.4",
       "_view_module_version": "~2.1.4",
       "layout": "IPY_MODEL_30982525c9bf43518a1650b2ffc1be02",
       "value": "100% 111/111 [00:00&lt;00:00, 1075.73it/s]"
      }
     },
     "99e142e0f0fb4ef4a58470a0b528118f": {
      "model_module": "jupyter-js-widgets",
      "model_module_version": "~2.1.4",
      "model_name": "ProgressStyleModel",
      "state": {
       "_model_module_version": "~2.1.4",
       "_view_module_version": "~2.1.4"
      }
     },
     "9a1f0326a012467192875c1ca9b926d6": {
      "model_module": "jupyter-js-widgets",
      "model_module_version": "~2.1.4",
      "model_name": "ProgressModel",
      "state": {
       "_model_module_version": "~2.1.4",
       "_view_module_version": "~2.1.4",
       "bar_style": "success",
       "description": "Disease Data: ",
       "layout": "IPY_MODEL_8d5e137b5fe7468b82ff4aeb4d653d19",
       "max": 111,
       "style": "IPY_MODEL_1a280307185c4d3e824b5bd23377573c",
       "value": 111
      }
     },
     "9a2514d94d044285bc76d8bbf513faea": {
      "model_module": "jupyter-js-widgets",
      "model_module_version": "~2.1.4",
      "model_name": "ProgressStyleModel",
      "state": {
       "_model_module_version": "~2.1.4",
       "_view_module_version": "~2.1.4"
      }
     },
     "9a52b24e4f954e5fb67da3e38fbf261f": {
      "model_module": "jupyter-js-widgets",
      "model_module_version": "~2.1.4",
      "model_name": "ProgressModel",
      "state": {
       "_model_module_version": "~2.1.4",
       "_view_module_version": "~2.1.4",
       "bar_style": "success",
       "description": "Processing Records: ",
       "layout": "IPY_MODEL_8f9680e69e1e403a8e0ea63b0d814735",
       "style": "IPY_MODEL_082914ca2ec247d0b60897ba413e7e9b",
       "value": 100
      }
     },
     "9aa3650726234e65b5cd67b1ac24c245": {
      "model_module": "jupyter-js-widgets",
      "model_module_version": "~2.1.4",
      "model_name": "LayoutModel",
      "state": {
       "_model_module_version": "~2.1.4",
       "_view_module_version": "~2.1.4"
      }
     },
     "9aba69a505c2434285655e2e82c12ade": {
      "model_module": "jupyter-js-widgets",
      "model_module_version": "~2.1.4",
      "model_name": "HBoxModel",
      "state": {
       "_model_module_version": "~2.1.4",
       "_view_module_version": "~2.1.4",
       "children": [
        "IPY_MODEL_b2940a73b0f84b43ae762a689a18217c",
        "IPY_MODEL_ec519168e5af460189d77e99c1ee1c43"
       ],
       "layout": "IPY_MODEL_3be302b54be14d878864f0753792c42e"
      }
     },
     "9b9fc81362a34d5fa1c0f3a96e82701b": {
      "model_module": "jupyter-js-widgets",
      "model_module_version": "~2.1.4",
      "model_name": "LayoutModel",
      "state": {
       "_model_module_version": "~2.1.4",
       "_view_module_version": "~2.1.4"
      }
     },
     "9bc4a67fa8444ee5a7fc30a141a5b46c": {
      "model_module": "jupyter-js-widgets",
      "model_module_version": "~2.1.4",
      "model_name": "HBoxModel",
      "state": {
       "_model_module_version": "~2.1.4",
       "_view_module_version": "~2.1.4",
       "children": [
        "IPY_MODEL_30d135f47fbf4aa3a1fe3081a5510f66",
        "IPY_MODEL_6dad7358f3ef412fbc1800d2d5306d7e"
       ],
       "layout": "IPY_MODEL_2dcc249a930d44f38238e173061506d3"
      }
     },
     "9c99390e69254ffeb2b3963624c0583d": {
      "model_module": "jupyter-js-widgets",
      "model_module_version": "~2.1.4",
      "model_name": "LayoutModel",
      "state": {
       "_model_module_version": "~2.1.4",
       "_view_module_version": "~2.1.4"
      }
     },
     "9cc864d0df814e31b9994bf61d5d51e3": {
      "model_module": "jupyter-js-widgets",
      "model_module_version": "~2.1.4",
      "model_name": "LayoutModel",
      "state": {
       "_model_module_version": "~2.1.4",
       "_view_module_version": "~2.1.4"
      }
     },
     "9d68c3e42c6a4205920c003e3c44b697": {
      "model_module": "jupyter-js-widgets",
      "model_module_version": "~2.1.4",
      "model_name": "ProgressStyleModel",
      "state": {
       "_model_module_version": "~2.1.4",
       "_view_module_version": "~2.1.4"
      }
     },
     "9dc0df2528ae4ed69412b4e953d935e4": {
      "model_module": "jupyter-js-widgets",
      "model_module_version": "~2.1.4",
      "model_name": "ProgressStyleModel",
      "state": {
       "_model_module_version": "~2.1.4",
       "_view_module_version": "~2.1.4"
      }
     },
     "9ea30a3fdbe446628700b1f86ad79f09": {
      "model_module": "jupyter-js-widgets",
      "model_module_version": "~2.1.4",
      "model_name": "HTMLModel",
      "state": {
       "_model_module_version": "~2.1.4",
       "_view_module_version": "~2.1.4",
       "layout": "IPY_MODEL_4c5bd389334241efa6fbdace6a79406f",
       "value": "100% 100/100 [00:03&lt;00:00, 29.39it/s]"
      }
     },
     "9ebf57e9180449ed8a5f85e85442a41c": {
      "model_module": "jupyter-js-widgets",
      "model_module_version": "~2.1.4",
      "model_name": "LayoutModel",
      "state": {
       "_model_module_version": "~2.1.4",
       "_view_module_version": "~2.1.4"
      }
     },
     "9ef8ea15631c4894b1c10bed21018610": {
      "model_module": "jupyter-js-widgets",
      "model_module_version": "~2.1.4",
      "model_name": "LayoutModel",
      "state": {
       "_model_module_version": "~2.1.4",
       "_view_module_version": "~2.1.4"
      }
     },
     "9f2993ab4bc04f5db2b2c87925e39dee": {
      "model_module": "jupyter-js-widgets",
      "model_module_version": "~2.1.4",
      "model_name": "LayoutModel",
      "state": {
       "_model_module_version": "~2.1.4",
       "_view_module_version": "~2.1.4"
      }
     },
     "9f6f6974772d47b28ed74aff204ac2c6": {
      "model_module": "jupyter-js-widgets",
      "model_module_version": "~2.1.4",
      "model_name": "LayoutModel",
      "state": {
       "_model_module_version": "~2.1.4",
       "_view_module_version": "~2.1.4"
      }
     },
     "9fdd259d44e8408690a3d7800d3ec001": {
      "model_module": "jupyter-js-widgets",
      "model_module_version": "~2.1.4",
      "model_name": "HBoxModel",
      "state": {
       "_model_module_version": "~2.1.4",
       "_view_module_version": "~2.1.4",
       "children": [
        "IPY_MODEL_161faf0c090b4330b80bace69cfed115",
        "IPY_MODEL_1372d70c97dd4303b5a070237ad7d679"
       ],
       "layout": "IPY_MODEL_b1b0d2e6d22c42f098cf686f252d3da5"
      }
     },
     "a007405c114a40308efe00badcd9460e": {
      "model_module": "jupyter-js-widgets",
      "model_module_version": "~2.1.4",
      "model_name": "HTMLModel",
      "state": {
       "_model_module_version": "~2.1.4",
       "_view_module_version": "~2.1.4",
       "layout": "IPY_MODEL_ecfc8e901d9f41fdb5abae6a998cc15c",
       "value": "100% 100/100 [00:07&lt;00:00, 12.88it/s]"
      }
     },
     "a0969cc0675141aab4d6b5202574996f": {
      "model_module": "jupyter-js-widgets",
      "model_module_version": "~2.1.4",
      "model_name": "LayoutModel",
      "state": {
       "_model_module_version": "~2.1.4",
       "_view_module_version": "~2.1.4"
      }
     },
     "a0f740522067410c8b2d4484fd2c216e": {
      "model_module": "jupyter-js-widgets",
      "model_module_version": "~2.1.4",
      "model_name": "HBoxModel",
      "state": {
       "_model_module_version": "~2.1.4",
       "_view_module_version": "~2.1.4",
       "children": [
        "IPY_MODEL_c2b48dfe2105462e99643206562a176c",
        "IPY_MODEL_3004cceabf464aaab394f30ce3c38dc8"
       ],
       "layout": "IPY_MODEL_a2ba00105746482694f5de4576e96baa"
      }
     },
     "a106d4103d1749acbef623391da07b36": {
      "model_module": "jupyter-js-widgets",
      "model_module_version": "~2.1.4",
      "model_name": "ProgressModel",
      "state": {
       "_model_module_version": "~2.1.4",
       "_view_module_version": "~2.1.4",
       "bar_style": "success",
       "description": "Processing Records: ",
       "layout": "IPY_MODEL_93529333803045238642d91154338dd3",
       "style": "IPY_MODEL_b96f652c379f4b98be1d0ffecd7fee9e",
       "value": 100
      }
     },
     "a10beb62f9144a8f8cddf44a2fee42c2": {
      "model_module": "jupyter-js-widgets",
      "model_module_version": "~2.1.4",
      "model_name": "ProgressStyleModel",
      "state": {
       "_model_module_version": "~2.1.4",
       "_view_module_version": "~2.1.4"
      }
     },
     "a1de700a9bc14b17be61b4be76c1c973": {
      "model_module": "jupyter-js-widgets",
      "model_module_version": "~2.1.4",
      "model_name": "HTMLModel",
      "state": {
       "_model_module_version": "~2.1.4",
       "_view_module_version": "~2.1.4",
       "layout": "IPY_MODEL_0a958cec52f64a00885cbce165402490",
       "value": "100% 3/3 [00:17&lt;00:00,  5.78s/it]"
      }
     },
     "a2711fbcff824a4cb4dc9b29f65c9e11": {
      "model_module": "jupyter-js-widgets",
      "model_module_version": "~2.1.4",
      "model_name": "LayoutModel",
      "state": {
       "_model_module_version": "~2.1.4",
       "_view_module_version": "~2.1.4"
      }
     },
     "a2aafa3f81d6466caa43f549b01e2b66": {
      "model_module": "jupyter-js-widgets",
      "model_module_version": "~2.1.4",
      "model_name": "HBoxModel",
      "state": {
       "_model_module_version": "~2.1.4",
       "_view_module_version": "~2.1.4",
       "children": [
        "IPY_MODEL_0f1d51b90b5b40c6920de5d54bcf7afc",
        "IPY_MODEL_a007405c114a40308efe00badcd9460e"
       ],
       "layout": "IPY_MODEL_fe428dc877e4405d8b715c67f938a9c8"
      }
     },
     "a2ba00105746482694f5de4576e96baa": {
      "model_module": "jupyter-js-widgets",
      "model_module_version": "~2.1.4",
      "model_name": "LayoutModel",
      "state": {
       "_model_module_version": "~2.1.4",
       "_view_module_version": "~2.1.4"
      }
     },
     "a37de5f3819c4f108e0d5be41f0911ce": {
      "model_module": "jupyter-js-widgets",
      "model_module_version": "~2.1.4",
      "model_name": "LayoutModel",
      "state": {
       "_model_module_version": "~2.1.4",
       "_view_module_version": "~2.1.4"
      }
     },
     "a3bfb70f874a4aa5b6abaaf1f9d4f83c": {
      "model_module": "jupyter-js-widgets",
      "model_module_version": "~2.1.4",
      "model_name": "ProgressStyleModel",
      "state": {
       "_model_module_version": "~2.1.4",
       "_view_module_version": "~2.1.4"
      }
     },
     "a4131ab11e424ff39152905209486118": {
      "model_module": "jupyter-js-widgets",
      "model_module_version": "~2.1.4",
      "model_name": "LayoutModel",
      "state": {
       "_model_module_version": "~2.1.4",
       "_view_module_version": "~2.1.4"
      }
     },
     "a431e5c2438040f283f5a2ac93ca2b6c": {
      "model_module": "jupyter-js-widgets",
      "model_module_version": "~2.1.4",
      "model_name": "LayoutModel",
      "state": {
       "_model_module_version": "~2.1.4",
       "_view_module_version": "~2.1.4"
      }
     },
     "a544aa0f6173442eb92e59ba313d6dd0": {
      "model_module": "jupyter-js-widgets",
      "model_module_version": "~2.1.4",
      "model_name": "LayoutModel",
      "state": {
       "_model_module_version": "~2.1.4",
       "_view_module_version": "~2.1.4"
      }
     },
     "a5756c5276b349e7bff4e0f62c8fd076": {
      "model_module": "jupyter-js-widgets",
      "model_module_version": "~2.1.4",
      "model_name": "ProgressModel",
      "state": {
       "_model_module_version": "~2.1.4",
       "_view_module_version": "~2.1.4",
       "bar_style": "success",
       "description": "Integrating DisGeNET: ",
       "layout": "IPY_MODEL_a431e5c2438040f283f5a2ac93ca2b6c",
       "max": 111,
       "style": "IPY_MODEL_faa36174989a4c4498ffde766b5138b0",
       "value": 111
      }
     },
     "a5bc2e492b28471ea5bae00efef27a8d": {
      "model_module": "jupyter-js-widgets",
      "model_module_version": "~2.1.4",
      "model_name": "HBoxModel",
      "state": {
       "_model_module_version": "~2.1.4",
       "_view_module_version": "~2.1.4",
       "children": [
        "IPY_MODEL_60fdacb8948c4fa5a7509814b7bbb9ec",
        "IPY_MODEL_4272ed13e3ff4eadbb0c884d35a7845a"
       ],
       "layout": "IPY_MODEL_983af7fa78a04bf786a1e05c4fa4879b"
      }
     },
     "a671f72834b54cecbf65eca004c5e727": {
      "model_module": "jupyter-js-widgets",
      "model_module_version": "~2.1.4",
      "model_name": "ProgressModel",
      "state": {
       "_model_module_version": "~2.1.4",
       "_view_module_version": "~2.1.4",
       "bar_style": "success",
       "description": "Matching Symptoms: ",
       "layout": "IPY_MODEL_752e3e04b78c4e65a06b9595f40f0937",
       "max": 111,
       "style": "IPY_MODEL_99355d8e304f4ee694c58d1ce33aa873",
       "value": 111
      }
     },
     "a70521aedff046dea53b6a58fddd0fff": {
      "model_module": "jupyter-js-widgets",
      "model_module_version": "~2.1.4",
      "model_name": "LayoutModel",
      "state": {
       "_model_module_version": "~2.1.4",
       "_view_module_version": "~2.1.4"
      }
     },
     "a71ca28d0b084be78cd7e146e056f7d6": {
      "model_module": "jupyter-js-widgets",
      "model_module_version": "~2.1.4",
      "model_name": "LayoutModel",
      "state": {
       "_model_module_version": "~2.1.4",
       "_view_module_version": "~2.1.4"
      }
     },
     "a764abc999f5439e9896f58d8ea0a10f": {
      "model_module": "jupyter-js-widgets",
      "model_module_version": "~2.1.4",
      "model_name": "LayoutModel",
      "state": {
       "_model_module_version": "~2.1.4",
       "_view_module_version": "~2.1.4"
      }
     },
     "a77f92bc34e748f7a71b8f5476c0001c": {
      "model_module": "jupyter-js-widgets",
      "model_module_version": "~2.1.4",
      "model_name": "ProgressStyleModel",
      "state": {
       "_model_module_version": "~2.1.4",
       "_view_module_version": "~2.1.4"
      }
     },
     "a7a06a7d433446aeb400a987a9224c79": {
      "model_module": "jupyter-js-widgets",
      "model_module_version": "~2.1.4",
      "model_name": "ProgressModel",
      "state": {
       "_model_module_version": "~2.1.4",
       "_view_module_version": "~2.1.4",
       "bar_style": "success",
       "description": "Obtaining Images: ",
       "layout": "IPY_MODEL_e051b795965944d0a08949ce4a1aa182",
       "max": 11,
       "style": "IPY_MODEL_e001073252814aee9a9369fba0c497e1",
       "value": 11
      }
     },
     "a8166b597f1e47bfb48b805eaeadcfb9": {
      "model_module": "jupyter-js-widgets",
      "model_module_version": "~2.1.4",
      "model_name": "LayoutModel",
      "state": {
       "_model_module_version": "~2.1.4",
       "_view_module_version": "~2.1.4"
      }
     },
     "a84bbf43815847569657648b4bca580b": {
      "model_module": "jupyter-js-widgets",
      "model_module_version": "~2.1.4",
      "model_name": "HTMLModel",
      "state": {
       "_model_module_version": "~2.1.4",
       "_view_module_version": "~2.1.4",
       "layout": "IPY_MODEL_6b7b7222bd1944338a1b9e8a01157cac",
       "value": "100% 11/11 [00:00&lt;00:00, 111.42it/s]"
      }
     },
     "a940a9b9bbbe4d01a021c35134144f65": {
      "model_module": "jupyter-js-widgets",
      "model_module_version": "~2.1.4",
      "model_name": "LayoutModel",
      "state": {
       "_model_module_version": "~2.1.4",
       "_view_module_version": "~2.1.4"
      }
     },
     "a95ca4e8e35c4cd4a238d8db0161db63": {
      "model_module": "jupyter-js-widgets",
      "model_module_version": "~2.1.4",
      "model_name": "LayoutModel",
      "state": {
       "_model_module_version": "~2.1.4",
       "_view_module_version": "~2.1.4"
      }
     },
     "a9927917b4e646d3b1323d34e6326356": {
      "model_module": "jupyter-js-widgets",
      "model_module_version": "~2.1.4",
      "model_name": "HBoxModel",
      "state": {
       "_model_module_version": "~2.1.4",
       "_view_module_version": "~2.1.4",
       "children": [
        "IPY_MODEL_f1f56971422a4912a482f83c66bc9abd",
        "IPY_MODEL_3c1f0174a03b4b9cbeab59351116d1b4"
       ],
       "layout": "IPY_MODEL_88a4fed0a6514a83a358c069ba3bbc45"
      }
     },
     "a999697606904809aa5712d510dbd394": {
      "model_module": "jupyter-js-widgets",
      "model_module_version": "~2.1.4",
      "model_name": "HBoxModel",
      "state": {
       "_model_module_version": "~2.1.4",
       "_view_module_version": "~2.1.4",
       "children": [
        "IPY_MODEL_3bbaf17d6fff4c898e25d1d4e6db6938",
        "IPY_MODEL_90fc77bb71354bd4ac89901eb220a418"
       ],
       "layout": "IPY_MODEL_0ec5e9e902584b71b3d6aacba6f64122"
      }
     },
     "a9e1608c36ee437e9481815cef2df084": {
      "model_module": "jupyter-js-widgets",
      "model_module_version": "~2.1.4",
      "model_name": "LayoutModel",
      "state": {
       "_model_module_version": "~2.1.4",
       "_view_module_version": "~2.1.4"
      }
     },
     "a9e8552dda1646828661ee04eb2821d8": {
      "model_module": "jupyter-js-widgets",
      "model_module_version": "~2.1.4",
      "model_name": "HTMLModel",
      "state": {
       "_model_module_version": "~2.1.4",
       "_view_module_version": "~2.1.4",
       "layout": "IPY_MODEL_aa3564772b7a4558a2729b8f1bce7e70",
       "value": "100% 4/4 [00:06&lt;00:00,  1.62s/it]"
      }
     },
     "aa3564772b7a4558a2729b8f1bce7e70": {
      "model_module": "jupyter-js-widgets",
      "model_module_version": "~2.1.4",
      "model_name": "LayoutModel",
      "state": {
       "_model_module_version": "~2.1.4",
       "_view_module_version": "~2.1.4"
      }
     },
     "aa8fe4c542a342399fe4de1cbac2505f": {
      "model_module": "jupyter-js-widgets",
      "model_module_version": "~2.1.4",
      "model_name": "ProgressStyleModel",
      "state": {
       "_model_module_version": "~2.1.4",
       "_view_module_version": "~2.1.4"
      }
     },
     "ad6a8b3a722742678e38a483a1e09ef3": {
      "model_module": "jupyter-js-widgets",
      "model_module_version": "~2.1.4",
      "model_name": "ProgressModel",
      "state": {
       "_model_module_version": "~2.1.4",
       "_view_module_version": "~2.1.4",
       "bar_style": "success",
       "description": "Obtaining Records: ",
       "layout": "IPY_MODEL_b7543f9446a74063bd5ca072deff65db",
       "max": 4,
       "style": "IPY_MODEL_e2e3ac0d3b8d45049634aed217b9bef4",
       "value": 4
      }
     },
     "ad90e7d8b5014bbe9beb80321b22495d": {
      "model_module": "jupyter-js-widgets",
      "model_module_version": "~2.1.4",
      "model_name": "LayoutModel",
      "state": {
       "_model_module_version": "~2.1.4",
       "_view_module_version": "~2.1.4"
      }
     },
     "ae2a4dc4dff54c218afafd7ce5e1f429": {
      "model_module": "jupyter-js-widgets",
      "model_module_version": "~2.1.4",
      "model_name": "LayoutModel",
      "state": {
       "_model_module_version": "~2.1.4",
       "_view_module_version": "~2.1.4"
      }
     },
     "ae5bbfc965a14a0b9bd00d3b5a140106": {
      "model_module": "jupyter-js-widgets",
      "model_module_version": "~2.1.4",
      "model_name": "LayoutModel",
      "state": {
       "_model_module_version": "~2.1.4",
       "_view_module_version": "~2.1.4"
      }
     },
     "ae98ca2a7a3849c8ae461f61f842837c": {
      "model_module": "jupyter-js-widgets",
      "model_module_version": "~2.1.4",
      "model_name": "ProgressModel",
      "state": {
       "_model_module_version": "~2.1.4",
       "_view_module_version": "~2.1.4",
       "bar_style": "success",
       "description": "Integrating Symptoms: ",
       "layout": "IPY_MODEL_f08ef9789ae345848499262a167b1ac6",
       "max": 111,
       "style": "IPY_MODEL_9d68c3e42c6a4205920c003e3c44b697",
       "value": 111
      }
     },
     "af3feaa26f44485abb5829b0ca350723": {
      "model_module": "jupyter-js-widgets",
      "model_module_version": "~2.1.4",
      "model_name": "ProgressModel",
      "state": {
       "_model_module_version": "~2.1.4",
       "_view_module_version": "~2.1.4",
       "bar_style": "success",
       "description": "Symptoms: ",
       "layout": "IPY_MODEL_188a717e49b84576a7c4e7367c361f27",
       "max": 111,
       "style": "IPY_MODEL_62deae8144e0421ea03437a865d58fa0",
       "value": 111
      }
     },
     "af47d0d1ecab44fc8c1005c1a60faeb6": {
      "model_module": "jupyter-js-widgets",
      "model_module_version": "~2.1.4",
      "model_name": "LayoutModel",
      "state": {
       "_model_module_version": "~2.1.4",
       "_view_module_version": "~2.1.4"
      }
     },
     "af6ed72455b044df975cdee5bd5ce9f2": {
      "model_module": "jupyter-js-widgets",
      "model_module_version": "~2.1.4",
      "model_name": "ProgressModel",
      "state": {
       "_model_module_version": "~2.1.4",
       "_view_module_version": "~2.1.4",
       "bar_style": "success",
       "description": "Identify Symptoms: ",
       "layout": "IPY_MODEL_870770ada32649459961f82a195894d7",
       "max": 111,
       "style": "IPY_MODEL_eec9b12c7152487abf3128128d7c0594",
       "value": 111
      }
     },
     "afac907752014b0496884061f5ec6d7d": {
      "model_module": "jupyter-js-widgets",
      "model_module_version": "~2.1.4",
      "model_name": "HBoxModel",
      "state": {
       "_model_module_version": "~2.1.4",
       "_view_module_version": "~2.1.4",
       "children": [
        "IPY_MODEL_257f41ec0a7d4577989e82e6fac754ed",
        "IPY_MODEL_d1d97fc5841a445ca6dabf110e608c7d"
       ],
       "layout": "IPY_MODEL_6718b1aa79644f9bb94c7b42920120de"
      }
     },
     "afe65d49c1154158aaa22cbdfb11e836": {
      "model_module": "jupyter-js-widgets",
      "model_module_version": "~2.1.4",
      "model_name": "LayoutModel",
      "state": {
       "_model_module_version": "~2.1.4",
       "_view_module_version": "~2.1.4"
      }
     },
     "b159f6dd21054dcc8a259d9b9d63566d": {
      "model_module": "jupyter-js-widgets",
      "model_module_version": "~2.1.4",
      "model_name": "ProgressModel",
      "state": {
       "_model_module_version": "~2.1.4",
       "_view_module_version": "~2.1.4",
       "description": "Processing Records: ",
       "layout": "IPY_MODEL_8f2102f44cdb41278c096f6aa9766845",
       "style": "IPY_MODEL_d550cc6482a7425a8f4b3c370221fc19",
       "value": 29
      }
     },
     "b17e9d3ce500407e954f233beeb70851": {
      "model_module": "jupyter-js-widgets",
      "model_module_version": "~2.1.4",
      "model_name": "HTMLModel",
      "state": {
       "_model_module_version": "~2.1.4",
       "_view_module_version": "~2.1.4",
       "layout": "IPY_MODEL_d1dc9af4b33a4b1f8eaa316406cf167b",
       "value": "100% 3/3 [00:17&lt;00:00,  5.83s/it]"
      }
     },
     "b1b0d2e6d22c42f098cf686f252d3da5": {
      "model_module": "jupyter-js-widgets",
      "model_module_version": "~2.1.4",
      "model_name": "LayoutModel",
      "state": {
       "_model_module_version": "~2.1.4",
       "_view_module_version": "~2.1.4"
      }
     },
     "b2866d04e1dd466aadb6c1d2e845a5b9": {
      "model_module": "jupyter-js-widgets",
      "model_module_version": "~2.1.4",
      "model_name": "LayoutModel",
      "state": {
       "_model_module_version": "~2.1.4",
       "_view_module_version": "~2.1.4"
      }
     },
     "b2940a73b0f84b43ae762a689a18217c": {
      "model_module": "jupyter-js-widgets",
      "model_module_version": "~2.1.4",
      "model_name": "ProgressModel",
      "state": {
       "_model_module_version": "~2.1.4",
       "_view_module_version": "~2.1.4",
       "bar_style": "success",
       "description": "Obtaining Images: ",
       "layout": "IPY_MODEL_1726c18d96f14ec4a297d1333c35a365",
       "style": "IPY_MODEL_890e58828f8143aea176408bb8217aa0",
       "value": 100
      }
     },
     "b3df1ad1517f4611b23792c18955835e": {
      "model_module": "jupyter-js-widgets",
      "model_module_version": "~2.1.4",
      "model_name": "LayoutModel",
      "state": {
       "_model_module_version": "~2.1.4",
       "_view_module_version": "~2.1.4"
      }
     },
     "b44fd4b011ea481881c834cc34a8e0de": {
      "model_module": "jupyter-js-widgets",
      "model_module_version": "~2.1.4",
      "model_name": "LayoutModel",
      "state": {
       "_model_module_version": "~2.1.4",
       "_view_module_version": "~2.1.4"
      }
     },
     "b53af0dc7f984e2c9953d43c9d1444be": {
      "model_module": "jupyter-js-widgets",
      "model_module_version": "~2.1.4",
      "model_name": "ProgressStyleModel",
      "state": {
       "_model_module_version": "~2.1.4",
       "_view_module_version": "~2.1.4"
      }
     },
     "b5edbe7bf8a54a0c9e5a6ae38a9ef100": {
      "model_module": "jupyter-js-widgets",
      "model_module_version": "~2.1.4",
      "model_name": "LayoutModel",
      "state": {
       "_model_module_version": "~2.1.4",
       "_view_module_version": "~2.1.4"
      }
     },
     "b62baaa9f51c4ca49a14006ff723f250": {
      "model_module": "jupyter-js-widgets",
      "model_module_version": "~2.1.4",
      "model_name": "LayoutModel",
      "state": {
       "_model_module_version": "~2.1.4",
       "_view_module_version": "~2.1.4"
      }
     },
     "b62ecaf9ede6417ba170eb63bb6d9965": {
      "model_module": "jupyter-js-widgets",
      "model_module_version": "~2.1.4",
      "model_name": "LayoutModel",
      "state": {
       "_model_module_version": "~2.1.4",
       "_view_module_version": "~2.1.4"
      }
     },
     "b6a0782922c145deb241014d3a304b41": {
      "model_module": "jupyter-js-widgets",
      "model_module_version": "~2.1.4",
      "model_name": "ProgressStyleModel",
      "state": {
       "_model_module_version": "~2.1.4",
       "_view_module_version": "~2.1.4"
      }
     },
     "b6aa11860fbd476a979eef3baf128c72": {
      "model_module": "jupyter-js-widgets",
      "model_module_version": "~2.1.4",
      "model_name": "HTMLModel",
      "state": {
       "_model_module_version": "~2.1.4",
       "_view_module_version": "~2.1.4",
       "layout": "IPY_MODEL_e99d9e6e640f4f39a297ec7ff9dd2ddb",
       "value": "100% 100/100 [00:03&lt;00:00, 29.53it/s]"
      }
     },
     "b70a415d72404e48807ac404f52cdef0": {
      "model_module": "jupyter-js-widgets",
      "model_module_version": "~2.1.4",
      "model_name": "LayoutModel",
      "state": {
       "_model_module_version": "~2.1.4",
       "_view_module_version": "~2.1.4"
      }
     },
     "b73fd759152b4296a70bac647f3b7d6e": {
      "model_module": "jupyter-js-widgets",
      "model_module_version": "~2.1.4",
      "model_name": "LayoutModel",
      "state": {
       "_model_module_version": "~2.1.4",
       "_view_module_version": "~2.1.4"
      }
     },
     "b74904800a6e4d51b9a388944d395d89": {
      "model_module": "jupyter-js-widgets",
      "model_module_version": "~2.1.4",
      "model_name": "HTMLModel",
      "state": {
       "_model_module_version": "~2.1.4",
       "_view_module_version": "~2.1.4",
       "layout": "IPY_MODEL_8972d3e7e45942f38746f51d187dbd16",
       "value": "100% 111/111 [00:00&lt;00:00, 1226.64it/s]"
      }
     },
     "b7543f9446a74063bd5ca072deff65db": {
      "model_module": "jupyter-js-widgets",
      "model_module_version": "~2.1.4",
      "model_name": "LayoutModel",
      "state": {
       "_model_module_version": "~2.1.4",
       "_view_module_version": "~2.1.4"
      }
     },
     "b77a852167de44b09716badda50475e1": {
      "model_module": "jupyter-js-widgets",
      "model_module_version": "~2.1.4",
      "model_name": "LayoutModel",
      "state": {
       "_model_module_version": "~2.1.4",
       "_view_module_version": "~2.1.4"
      }
     },
     "b85259216c6146278677e3a54f4d059b": {
      "model_module": "jupyter-js-widgets",
      "model_module_version": "~2.1.4",
      "model_name": "HBoxModel",
      "state": {
       "_model_module_version": "~2.1.4",
       "_view_module_version": "~2.1.4",
       "children": [
        "IPY_MODEL_9a1f0326a012467192875c1ca9b926d6",
        "IPY_MODEL_2fc7921d2ecd4cf8b42b57ec2710456b"
       ],
       "layout": "IPY_MODEL_58ec745f0f6749f88838e846d438267e"
      }
     },
     "b8d3e8a19a3e49828f94d4ad66e63ade": {
      "model_module": "jupyter-js-widgets",
      "model_module_version": "~2.1.4",
      "model_name": "HTMLModel",
      "state": {
       "_model_module_version": "~2.1.4",
       "_view_module_version": "~2.1.4",
       "layout": "IPY_MODEL_37d0900bfb97474e8b5818738525a8f1",
       "value": "100% 4/4 [00:05&lt;00:00,  1.35s/it]"
      }
     },
     "b931584f1f7b41e2b0dd4b27a8408a73": {
      "model_module": "jupyter-js-widgets",
      "model_module_version": "~2.1.4",
      "model_name": "LayoutModel",
      "state": {
       "_model_module_version": "~2.1.4",
       "_view_module_version": "~2.1.4"
      }
     },
     "b96f652c379f4b98be1d0ffecd7fee9e": {
      "model_module": "jupyter-js-widgets",
      "model_module_version": "~2.1.4",
      "model_name": "ProgressStyleModel",
      "state": {
       "_model_module_version": "~2.1.4",
       "_view_module_version": "~2.1.4"
      }
     },
     "ba96af1605814207b2ddf5f830603183": {
      "model_module": "jupyter-js-widgets",
      "model_module_version": "~2.1.4",
      "model_name": "ProgressModel",
      "state": {
       "_model_module_version": "~2.1.4",
       "_view_module_version": "~2.1.4",
       "bar_style": "success",
       "description": "Genomic: ",
       "layout": "IPY_MODEL_2a9f75108e9148528a2419ec8616dfc0",
       "max": 111,
       "style": "IPY_MODEL_2874aa9a2a664b6085a878a517783bdd",
       "value": 111
      }
     },
     "bb02fabee9af47cb99ca67b3f830c2e3": {
      "model_module": "jupyter-js-widgets",
      "model_module_version": "~2.1.4",
      "model_name": "HTMLModel",
      "state": {
       "_model_module_version": "~2.1.4",
       "_view_module_version": "~2.1.4",
       "layout": "IPY_MODEL_79ff199fae3b4be5893961c97366e3e5",
       "value": "100% 111/111 [00:00&lt;00:00, 1289.90it/s]"
      }
     },
     "bbfd7bcd18774d93954a4bfaf8d9627f": {
      "model_module": "jupyter-js-widgets",
      "model_module_version": "~2.1.4",
      "model_name": "LayoutModel",
      "state": {
       "_model_module_version": "~2.1.4",
       "_view_module_version": "~2.1.4"
      }
     },
     "bbfe461eb55b498184a6a02614d2918e": {
      "model_module": "jupyter-js-widgets",
      "model_module_version": "~2.1.4",
      "model_name": "ProgressStyleModel",
      "state": {
       "_model_module_version": "~2.1.4",
       "_view_module_version": "~2.1.4"
      }
     },
     "bc1538964531413b8daa113e8833ade0": {
      "model_module": "jupyter-js-widgets",
      "model_module_version": "~2.1.4",
      "model_name": "ProgressStyleModel",
      "state": {
       "_model_module_version": "~2.1.4",
       "_view_module_version": "~2.1.4"
      }
     },
     "bd031e0e03444328b8e88dbfab0d47d6": {
      "model_module": "jupyter-js-widgets",
      "model_module_version": "~2.1.4",
      "model_name": "HBoxModel",
      "state": {
       "_model_module_version": "~2.1.4",
       "_view_module_version": "~2.1.4",
       "children": [
        "IPY_MODEL_2069ff110c2b424c8b372a39b5e97f8c",
        "IPY_MODEL_63adfbf9a2ef4d3bbc1bfd76b0585356"
       ],
       "layout": "IPY_MODEL_cfc61e76b5694e268d99d12dd125cc5d"
      }
     },
     "bd121c1bd509434a9054060bd5f7b0cf": {
      "model_module": "jupyter-js-widgets",
      "model_module_version": "~2.1.4",
      "model_name": "LayoutModel",
      "state": {
       "_model_module_version": "~2.1.4",
       "_view_module_version": "~2.1.4"
      }
     },
     "bd2ef46583454541a7ecfffbf6c63f6f": {
      "model_module": "jupyter-js-widgets",
      "model_module_version": "~2.1.4",
      "model_name": "HBoxModel",
      "state": {
       "_model_module_version": "~2.1.4",
       "_view_module_version": "~2.1.4",
       "children": [
        "IPY_MODEL_25dc474fc2504b3084f78620aa09cbfb",
        "IPY_MODEL_7dc9129051be4b939f0021afad5fd7c4"
       ],
       "layout": "IPY_MODEL_bbfd7bcd18774d93954a4bfaf8d9627f"
      }
     },
     "bd81cf3aa4f84d299e83aca9d30645a6": {
      "model_module": "jupyter-js-widgets",
      "model_module_version": "~2.1.4",
      "model_name": "HTMLModel",
      "state": {
       "_model_module_version": "~2.1.4",
       "_view_module_version": "~2.1.4",
       "layout": "IPY_MODEL_e59e31864d454ba192b930fa8fe52b1b",
       "value": "100% 111/111 [00:00&lt;00:00, 1544.71it/s]"
      }
     },
     "bddd2014eb914fef8223286519b349b7": {
      "model_module": "jupyter-js-widgets",
      "model_module_version": "~2.1.4",
      "model_name": "ProgressModel",
      "state": {
       "_model_module_version": "~2.1.4",
       "_view_module_version": "~2.1.4",
       "bar_style": "success",
       "description": "DisGeNET: ",
       "layout": "IPY_MODEL_2853e31dc2c54092845fd3fb6e3feaba",
       "max": 111,
       "style": "IPY_MODEL_961f3631abd446c38b121cb1a95bdb2a",
       "value": 111
      }
     },
     "bff9591e9e674cfab30fc6639cda8bdb": {
      "model_module": "jupyter-js-widgets",
      "model_module_version": "~2.1.4",
      "model_name": "LayoutModel",
      "state": {
       "_model_module_version": "~2.1.4",
       "_view_module_version": "~2.1.4"
      }
     },
     "c115ce3a5ee44716a57086ec11b1ff45": {
      "model_module": "jupyter-js-widgets",
      "model_module_version": "~2.1.4",
      "model_name": "HBoxModel",
      "state": {
       "_model_module_version": "~2.1.4",
       "_view_module_version": "~2.1.4",
       "children": [
        "IPY_MODEL_af6ed72455b044df975cdee5bd5ce9f2",
        "IPY_MODEL_86dabfb593694feeaf6734f19d102ced"
       ],
       "layout": "IPY_MODEL_78ddd592e2a34caf9baaf879ca5dd055"
      }
     },
     "c118b80bdd46448f93cec7b160be8bb2": {
      "model_module": "jupyter-js-widgets",
      "model_module_version": "~2.1.4",
      "model_name": "HTMLModel",
      "state": {
       "_model_module_version": "~2.1.4",
       "_view_module_version": "~2.1.4",
       "layout": "IPY_MODEL_83452beb251d44408ed18366876f2d82",
       "value": "100% 111/111 [00:00&lt;00:00, 1135.19it/s]"
      }
     },
     "c1281eb101d04b9a91530cb220c24561": {
      "model_module": "jupyter-js-widgets",
      "model_module_version": "~2.1.4",
      "model_name": "ProgressModel",
      "state": {
       "_model_module_version": "~2.1.4",
       "_view_module_version": "~2.1.4",
       "bar_style": "success",
       "description": "Disease Data: ",
       "layout": "IPY_MODEL_defbf8deaf96414f9d617cf8b28a44e5",
       "max": 111,
       "style": "IPY_MODEL_0253923fe1dd40d3a979f2428af7d3e6",
       "value": 111
      }
     },
     "c21b8d1161e84fa896349396851365a1": {
      "model_module": "jupyter-js-widgets",
      "model_module_version": "~2.1.4",
      "model_name": "LayoutModel",
      "state": {
       "_model_module_version": "~2.1.4",
       "_view_module_version": "~2.1.4"
      }
     },
     "c2429f011ae34f32840e3b8d718958d6": {
      "model_module": "jupyter-js-widgets",
      "model_module_version": "~2.1.4",
      "model_name": "LayoutModel",
      "state": {
       "_model_module_version": "~2.1.4",
       "_view_module_version": "~2.1.4"
      }
     },
     "c2b48dfe2105462e99643206562a176c": {
      "model_module": "jupyter-js-widgets",
      "model_module_version": "~2.1.4",
      "model_name": "ProgressModel",
      "state": {
       "_model_module_version": "~2.1.4",
       "_view_module_version": "~2.1.4",
       "bar_style": "success",
       "description": "Matching Symptoms: ",
       "layout": "IPY_MODEL_b70a415d72404e48807ac404f52cdef0",
       "max": 111,
       "style": "IPY_MODEL_1bea5d4b41d346b298d6e80ed1b8bae1",
       "value": 111
      }
     },
     "c33a5d9d343e4efbb1eb16509080989f": {
      "model_module": "jupyter-js-widgets",
      "model_module_version": "~2.1.4",
      "model_name": "HBoxModel",
      "state": {
       "_model_module_version": "~2.1.4",
       "_view_module_version": "~2.1.4",
       "children": [
        "IPY_MODEL_56291b68bb6e4fa5945b4939f09ba850",
        "IPY_MODEL_fafbfd643fb144cba65e7a5656c08c00"
       ],
       "layout": "IPY_MODEL_17da9b93dd64493581105c695a5a40ba"
      }
     },
     "c3d9036711504e45ac345fd55b25ee25": {
      "model_module": "jupyter-js-widgets",
      "model_module_version": "~2.1.4",
      "model_name": "LayoutModel",
      "state": {
       "_model_module_version": "~2.1.4",
       "_view_module_version": "~2.1.4"
      }
     },
     "c4e2addc04a34839be3f708e065e4739": {
      "model_module": "jupyter-js-widgets",
      "model_module_version": "~2.1.4",
      "model_name": "LayoutModel",
      "state": {
       "_model_module_version": "~2.1.4",
       "_view_module_version": "~2.1.4"
      }
     },
     "c544bf321e93417a887cf2a032ad787e": {
      "model_module": "jupyter-js-widgets",
      "model_module_version": "~2.1.4",
      "model_name": "HBoxModel",
      "state": {
       "_model_module_version": "~2.1.4",
       "_view_module_version": "~2.1.4",
       "children": [
        "IPY_MODEL_355918afd57b47538f101ba0a46ca555",
        "IPY_MODEL_bb02fabee9af47cb99ca67b3f830c2e3"
       ],
       "layout": "IPY_MODEL_eb1819c7c546467f9d3c8a8970b6aa54"
      }
     },
     "c580c3c646344f17812a782824954422": {
      "model_module": "jupyter-js-widgets",
      "model_module_version": "~2.1.4",
      "model_name": "LayoutModel",
      "state": {
       "_model_module_version": "~2.1.4",
       "_view_module_version": "~2.1.4"
      }
     },
     "c5982c2d0aa341deadab85a1082be25c": {
      "model_module": "jupyter-js-widgets",
      "model_module_version": "~2.1.4",
      "model_name": "HTMLModel",
      "state": {
       "_model_module_version": "~2.1.4",
       "_view_module_version": "~2.1.4",
       "layout": "IPY_MODEL_db28413aae224036b3e7df587c1e09e0",
       "value": "100% 111/111 [00:00&lt;00:00, 1241.44it/s]"
      }
     },
     "c614c3b6a144411ab29c4cf575fc1a07": {
      "model_module": "jupyter-js-widgets",
      "model_module_version": "~2.1.4",
      "model_name": "LayoutModel",
      "state": {
       "_model_module_version": "~2.1.4",
       "_view_module_version": "~2.1.4"
      }
     },
     "c70046ffd8b64e1b84509657e89df0da": {
      "model_module": "jupyter-js-widgets",
      "model_module_version": "~2.1.4",
      "model_name": "HTMLModel",
      "state": {
       "_model_module_version": "~2.1.4",
       "_view_module_version": "~2.1.4",
       "layout": "IPY_MODEL_f12fd062565f4dc1b692eaf0fa762a6c",
       "value": "100% 111/111 [00:00&lt;00:00, 1652.03it/s]"
      }
     },
     "c7217e6a3a064d21864334e5b651b19b": {
      "model_module": "jupyter-js-widgets",
      "model_module_version": "~2.1.4",
      "model_name": "LayoutModel",
      "state": {
       "_model_module_version": "~2.1.4",
       "_view_module_version": "~2.1.4"
      }
     },
     "c724178c81ba4553987b3e15098fc22b": {
      "model_module": "jupyter-js-widgets",
      "model_module_version": "~2.1.4",
      "model_name": "HBoxModel",
      "state": {
       "_model_module_version": "~2.1.4",
       "_view_module_version": "~2.1.4",
       "children": [
        "IPY_MODEL_ba96af1605814207b2ddf5f830603183",
        "IPY_MODEL_4377a11e25af43db8137d53ba2c1f99a"
       ],
       "layout": "IPY_MODEL_c21b8d1161e84fa896349396851365a1"
      }
     },
     "c7810f7127d14b87a9c3c6acf559802b": {
      "model_module": "jupyter-js-widgets",
      "model_module_version": "~2.1.4",
      "model_name": "LayoutModel",
      "state": {
       "_model_module_version": "~2.1.4",
       "_view_module_version": "~2.1.4"
      }
     },
     "c7d7281ff14f4732824951df15ecf5b9": {
      "model_module": "jupyter-js-widgets",
      "model_module_version": "~2.1.4",
      "model_name": "HTMLModel",
      "state": {
       "_model_module_version": "~2.1.4",
       "_view_module_version": "~2.1.4",
       "layout": "IPY_MODEL_98668824079b44bfb4787dcc816f3888",
       "value": "100% 111/111 [00:00&lt;00:00, 1697.89it/s]"
      }
     },
     "c899cf29ce7e4ced9fc4bc5a0494722a": {
      "model_module": "jupyter-js-widgets",
      "model_module_version": "~2.1.4",
      "model_name": "ProgressModel",
      "state": {
       "_model_module_version": "~2.1.4",
       "_view_module_version": "~2.1.4",
       "bar_style": "success",
       "description": "Processing Records: ",
       "layout": "IPY_MODEL_7f2676bb2af54445a59fc69732b17caf",
       "style": "IPY_MODEL_b53af0dc7f984e2c9953d43c9d1444be",
       "value": 100
      }
     },
     "ca0931d1a2da43348d769408727ec05b": {
      "model_module": "jupyter-js-widgets",
      "model_module_version": "~2.1.4",
      "model_name": "HTMLModel",
      "state": {
       "_model_module_version": "~2.1.4",
       "_view_module_version": "~2.1.4",
       "layout": "IPY_MODEL_2adda44fef384698b75af6c2bdb8d143",
       "value": "100% 3/3 [00:17&lt;00:00,  5.83s/it]"
      }
     },
     "ca33fb65c0bc4f078634eb8226911ed5": {
      "model_module": "jupyter-js-widgets",
      "model_module_version": "~2.1.4",
      "model_name": "LayoutModel",
      "state": {
       "_model_module_version": "~2.1.4",
       "_view_module_version": "~2.1.4"
      }
     },
     "cb2084bd8889408b9c5a3f698c132805": {
      "model_module": "jupyter-js-widgets",
      "model_module_version": "~2.1.4",
      "model_name": "LayoutModel",
      "state": {
       "_model_module_version": "~2.1.4",
       "_view_module_version": "~2.1.4"
      }
     },
     "cb8a81e3b2204f1e82b1d59176fcc1eb": {
      "model_module": "jupyter-js-widgets",
      "model_module_version": "~2.1.4",
      "model_name": "LayoutModel",
      "state": {
       "_model_module_version": "~2.1.4",
       "_view_module_version": "~2.1.4"
      }
     },
     "cbfb420aca5541cc8f1eb1014b065c66": {
      "model_module": "jupyter-js-widgets",
      "model_module_version": "~2.1.4",
      "model_name": "LayoutModel",
      "state": {
       "_model_module_version": "~2.1.4",
       "_view_module_version": "~2.1.4"
      }
     },
     "cdb452d23e894bc5a7bac26e23fa7517": {
      "model_module": "jupyter-js-widgets",
      "model_module_version": "~2.1.4",
      "model_name": "HBoxModel",
      "state": {
       "_model_module_version": "~2.1.4",
       "_view_module_version": "~2.1.4",
       "children": [
        "IPY_MODEL_b159f6dd21054dcc8a259d9b9d63566d",
        "IPY_MODEL_3ba5477ab5e742a1b26f4e9169a9ddea"
       ],
       "layout": "IPY_MODEL_dc354cdab8984e82b410bb824d1916a1"
      }
     },
     "cdefccb7aa8f496ab6dfc3d8a73d2b17": {
      "model_module": "jupyter-js-widgets",
      "model_module_version": "~2.1.4",
      "model_name": "ProgressStyleModel",
      "state": {
       "_model_module_version": "~2.1.4",
       "_view_module_version": "~2.1.4"
      }
     },
     "ce00b0f6aa224a8bb2525bec0e3dcd58": {
      "model_module": "jupyter-js-widgets",
      "model_module_version": "~2.1.4",
      "model_name": "ProgressModel",
      "state": {
       "_model_module_version": "~2.1.4",
       "_view_module_version": "~2.1.4",
       "bar_style": "success",
       "description": "'NSCLC-Radiomics' Records: ",
       "layout": "IPY_MODEL_ec248a2c34db4015805c2181313470b2",
       "max": 3,
       "style": "IPY_MODEL_f19d18add6f14cddb59c0a0ee1308192",
       "value": 3
      }
     },
     "ce1cfb1058dc41a29ba9cb9bb55d7659": {
      "model_module": "jupyter-js-widgets",
      "model_module_version": "~2.1.4",
      "model_name": "HTMLModel",
      "state": {
       "_model_module_version": "~2.1.4",
       "_view_module_version": "~2.1.4",
       "layout": "IPY_MODEL_b931584f1f7b41e2b0dd4b27a8408a73",
       "value": "100% 111/111 [00:00&lt;00:00, 1263.93it/s]"
      }
     },
     "ce3c2e14f4aa465590688b5147b0bd48": {
      "model_module": "jupyter-js-widgets",
      "model_module_version": "~2.1.4",
      "model_name": "ProgressModel",
      "state": {
       "_model_module_version": "~2.1.4",
       "_view_module_version": "~2.1.4",
       "bar_style": "success",
       "description": "Obtaining Images: ",
       "layout": "IPY_MODEL_4cf025f1b0744b629dd6b8bd1aec6211",
       "max": 11,
       "style": "IPY_MODEL_7f8603892e0a4724a4e7d70e5df96912",
       "value": 11
      }
     },
     "cfc61e76b5694e268d99d12dd125cc5d": {
      "model_module": "jupyter-js-widgets",
      "model_module_version": "~2.1.4",
      "model_name": "LayoutModel",
      "state": {
       "_model_module_version": "~2.1.4",
       "_view_module_version": "~2.1.4"
      }
     },
     "cfc839db80854d61b433060807f46e36": {
      "model_module": "jupyter-js-widgets",
      "model_module_version": "~2.1.4",
      "model_name": "ProgressStyleModel",
      "state": {
       "_model_module_version": "~2.1.4",
       "_view_module_version": "~2.1.4"
      }
     },
     "cfd39ca55f634b41bcc27ce8633e6986": {
      "model_module": "jupyter-js-widgets",
      "model_module_version": "~2.1.4",
      "model_name": "LayoutModel",
      "state": {
       "_model_module_version": "~2.1.4",
       "_view_module_version": "~2.1.4"
      }
     },
     "d0398a7db64145768081f42e45659216": {
      "model_module": "jupyter-js-widgets",
      "model_module_version": "~2.1.4",
      "model_name": "LayoutModel",
      "state": {
       "_model_module_version": "~2.1.4",
       "_view_module_version": "~2.1.4"
      }
     },
     "d0496c54a26146e387de344df3e71acc": {
      "model_module": "jupyter-js-widgets",
      "model_module_version": "~2.1.4",
      "model_name": "LayoutModel",
      "state": {
       "_model_module_version": "~2.1.4",
       "_view_module_version": "~2.1.4"
      }
     },
     "d1014724ba5242ddb5f034ddefbcf7a9": {
      "model_module": "jupyter-js-widgets",
      "model_module_version": "~2.1.4",
      "model_name": "HBoxModel",
      "state": {
       "_model_module_version": "~2.1.4",
       "_view_module_version": "~2.1.4",
       "children": [
        "IPY_MODEL_1ce41fc8453a41aea7f9474f7740e3a9",
        "IPY_MODEL_860fcc4014224942ae6925866e022894"
       ],
       "layout": "IPY_MODEL_a70521aedff046dea53b6a58fddd0fff"
      }
     },
     "d161d475a7ec4530967db37cf95462e0": {
      "model_module": "jupyter-js-widgets",
      "model_module_version": "~2.1.4",
      "model_name": "LayoutModel",
      "state": {
       "_model_module_version": "~2.1.4",
       "_view_module_version": "~2.1.4"
      }
     },
     "d1d97fc5841a445ca6dabf110e608c7d": {
      "model_module": "jupyter-js-widgets",
      "model_module_version": "~2.1.4",
      "model_name": "HTMLModel",
      "state": {
       "_model_module_version": "~2.1.4",
       "_view_module_version": "~2.1.4",
       "layout": "IPY_MODEL_6129f2d0712d4ce99399782a6fc9bfc6",
       "value": "100% 4/4 [00:09&lt;00:00,  2.83s/it]"
      }
     },
     "d1dc9af4b33a4b1f8eaa316406cf167b": {
      "model_module": "jupyter-js-widgets",
      "model_module_version": "~2.1.4",
      "model_name": "LayoutModel",
      "state": {
       "_model_module_version": "~2.1.4",
       "_view_module_version": "~2.1.4"
      }
     },
     "d2cdcb5adfc641dfb469dc1a30495c37": {
      "model_module": "jupyter-js-widgets",
      "model_module_version": "~2.1.4",
      "model_name": "HBoxModel",
      "state": {
       "_model_module_version": "~2.1.4",
       "_view_module_version": "~2.1.4",
       "children": [
        "IPY_MODEL_c1281eb101d04b9a91530cb220c24561",
        "IPY_MODEL_3bca53b084944bd6ba6a42f234e20a9b"
       ],
       "layout": "IPY_MODEL_236161d257034c8ba9fae5d1f3ee5c4e"
      }
     },
     "d320f1354ab34765b497a86228f6e410": {
      "model_module": "jupyter-js-widgets",
      "model_module_version": "~2.1.4",
      "model_name": "HTMLModel",
      "state": {
       "_model_module_version": "~2.1.4",
       "_view_module_version": "~2.1.4",
       "layout": "IPY_MODEL_fbb7f2e31694490fb24bdd623f895f59",
       "value": "100% 100/100 [00:03&lt;00:00, 28.92it/s]"
      }
     },
     "d3527d9da0a0461c90ebec98cbf7b1d5": {
      "model_module": "jupyter-js-widgets",
      "model_module_version": "~2.1.4",
      "model_name": "HBoxModel",
      "state": {
       "_model_module_version": "~2.1.4",
       "_view_module_version": "~2.1.4",
       "children": [
        "IPY_MODEL_36eb886cb84b4214b8eed705fba0e31c",
        "IPY_MODEL_5c759aad05864ca9847ea76eae702f6a"
       ],
       "layout": "IPY_MODEL_e1e593e66eb34a99a9d0e2b71e18d25e"
      }
     },
     "d39f6f18ae1a4189adaf59701c627fe8": {
      "model_module": "jupyter-js-widgets",
      "model_module_version": "~2.1.4",
      "model_name": "HBoxModel",
      "state": {
       "_model_module_version": "~2.1.4",
       "_view_module_version": "~2.1.4",
       "children": [
        "IPY_MODEL_f96a3ed6a03c43a0be168de8bec92d9c",
        "IPY_MODEL_dd746a6c80cd48cc9022ef79144fa8ef"
       ],
       "layout": "IPY_MODEL_4154fd17f41f42b6bd45f6d2f6365770"
      }
     },
     "d3add858e2d44cae918332da804502e8": {
      "model_module": "jupyter-js-widgets",
      "model_module_version": "~2.1.4",
      "model_name": "HBoxModel",
      "state": {
       "_model_module_version": "~2.1.4",
       "_view_module_version": "~2.1.4",
       "children": [
        "IPY_MODEL_2e28edc233234a16b3de35f2ccf28dc2",
        "IPY_MODEL_1ffff57aad564091b102be3f1d95cb83"
       ],
       "layout": "IPY_MODEL_de0655dcae094ccfaa939be4e1efff32"
      }
     },
     "d54567f1e8604a0487dc9ef449ea4016": {
      "model_module": "jupyter-js-widgets",
      "model_module_version": "~2.1.4",
      "model_name": "LayoutModel",
      "state": {
       "_model_module_version": "~2.1.4",
       "_view_module_version": "~2.1.4"
      }
     },
     "d550cc6482a7425a8f4b3c370221fc19": {
      "model_module": "jupyter-js-widgets",
      "model_module_version": "~2.1.4",
      "model_name": "ProgressStyleModel",
      "state": {
       "_model_module_version": "~2.1.4",
       "_view_module_version": "~2.1.4"
      }
     },
     "d569ac2abb484927b1d804e9efe4987a": {
      "model_module": "jupyter-js-widgets",
      "model_module_version": "~2.1.4",
      "model_name": "HBoxModel",
      "state": {
       "_model_module_version": "~2.1.4",
       "_view_module_version": "~2.1.4",
       "children": [
        "IPY_MODEL_91e2f5d1381d4eadb5af21cd1a9bab6e",
        "IPY_MODEL_f97146b937fb4244bd868cf9de9064de"
       ],
       "layout": "IPY_MODEL_7e6d773a7f604f7fbd20156f89e532a6"
      }
     },
     "d5c9861a50a345f3813e9ceef432ffee": {
      "model_module": "jupyter-js-widgets",
      "model_module_version": "~2.1.4",
      "model_name": "HBoxModel",
      "state": {
       "_model_module_version": "~2.1.4",
       "_view_module_version": "~2.1.4",
       "children": [
        "IPY_MODEL_e7a81ee2df2246958673f5d54460bd8b",
        "IPY_MODEL_358fa68346ac46bb9a8a00639ab5bd01"
       ],
       "layout": "IPY_MODEL_2574e16311554fadbfeede1fa6f8c82e"
      }
     },
     "d5ca8d6991fb4ef2bab5e7eb697bd61c": {
      "model_module": "jupyter-js-widgets",
      "model_module_version": "~2.1.4",
      "model_name": "HBoxModel",
      "state": {
       "_model_module_version": "~2.1.4",
       "_view_module_version": "~2.1.4",
       "children": [
        "IPY_MODEL_16b1b7c14bf64bc4ae247434f37e553b",
        "IPY_MODEL_80f573878f924a2abb5eb1c3f10d37d7"
       ],
       "layout": "IPY_MODEL_f0f3f3003c6b4875a2d1d01cb637553b"
      }
     },
     "d6dda409efe2436e82ab5f7176c07b6c": {
      "model_module": "jupyter-js-widgets",
      "model_module_version": "~2.1.4",
      "model_name": "LayoutModel",
      "state": {
       "_model_module_version": "~2.1.4",
       "_view_module_version": "~2.1.4"
      }
     },
     "d7e76fd7a16f44b6b6c9c5e61c22ff1b": {
      "model_module": "jupyter-js-widgets",
      "model_module_version": "~2.1.4",
      "model_name": "LayoutModel",
      "state": {
       "_model_module_version": "~2.1.4",
       "_view_module_version": "~2.1.4"
      }
     },
     "d9e472d827a74bfa880b1b43c36fabdd": {
      "model_module": "jupyter-js-widgets",
      "model_module_version": "~2.1.4",
      "model_name": "LayoutModel",
      "state": {
       "_model_module_version": "~2.1.4",
       "_view_module_version": "~2.1.4"
      }
     },
     "daa7351928334abc9109dd64b53ad057": {
      "model_module": "jupyter-js-widgets",
      "model_module_version": "~2.1.4",
      "model_name": "HBoxModel",
      "state": {
       "_model_module_version": "~2.1.4",
       "_view_module_version": "~2.1.4",
       "children": [
        "IPY_MODEL_66ec4d7febd048ed8123a3d82048c59b",
        "IPY_MODEL_45a450dd1edf44a486acdcf608b55610"
       ],
       "layout": "IPY_MODEL_3a9ba40a476b4013acf343a38c8e8acd"
      }
     },
     "db28413aae224036b3e7df587c1e09e0": {
      "model_module": "jupyter-js-widgets",
      "model_module_version": "~2.1.4",
      "model_name": "LayoutModel",
      "state": {
       "_model_module_version": "~2.1.4",
       "_view_module_version": "~2.1.4"
      }
     },
     "db5c47afebf048469bfde7929ca18293": {
      "model_module": "jupyter-js-widgets",
      "model_module_version": "~2.1.4",
      "model_name": "HBoxModel",
      "state": {
       "_model_module_version": "~2.1.4",
       "_view_module_version": "~2.1.4",
       "children": [
        "IPY_MODEL_7688629b8d764a9788cf819c1af6e976",
        "IPY_MODEL_8ba5d1c82f444e8eb2f48e318a66face"
       ],
       "layout": "IPY_MODEL_43652ae9b8294764967b17b6d20f67ad"
      }
     },
     "dc354cdab8984e82b410bb824d1916a1": {
      "model_module": "jupyter-js-widgets",
      "model_module_version": "~2.1.4",
      "model_name": "LayoutModel",
      "state": {
       "_model_module_version": "~2.1.4",
       "_view_module_version": "~2.1.4"
      }
     },
     "dc7c7e1a9ad745868bd3edab97b72464": {
      "model_module": "jupyter-js-widgets",
      "model_module_version": "~2.1.4",
      "model_name": "LayoutModel",
      "state": {
       "_model_module_version": "~2.1.4",
       "_view_module_version": "~2.1.4"
      }
     },
     "dca1e533b4a144cfa8b9f2c4fc4dda12": {
      "model_module": "jupyter-js-widgets",
      "model_module_version": "~2.1.4",
      "model_name": "ProgressModel",
      "state": {
       "_model_module_version": "~2.1.4",
       "_view_module_version": "~2.1.4",
       "bar_style": "success",
       "description": "Obtaining Images: ",
       "layout": "IPY_MODEL_b2866d04e1dd466aadb6c1d2e845a5b9",
       "max": 11,
       "style": "IPY_MODEL_52d059cb6bc743448fee2a660a89b532",
       "value": 11
      }
     },
     "dcc7e8489aed41e9886835eed772b9cb": {
      "model_module": "jupyter-js-widgets",
      "model_module_version": "~2.1.4",
      "model_name": "LayoutModel",
      "state": {
       "_model_module_version": "~2.1.4",
       "_view_module_version": "~2.1.4"
      }
     },
     "dd746a6c80cd48cc9022ef79144fa8ef": {
      "model_module": "jupyter-js-widgets",
      "model_module_version": "~2.1.4",
      "model_name": "HTMLModel",
      "state": {
       "_model_module_version": "~2.1.4",
       "_view_module_version": "~2.1.4",
       "layout": "IPY_MODEL_62fd5315d2584e8e9a2dea1850d432cf",
       "value": "100% 100/100 [00:00&lt;00:00, 3079.47it/s]"
      }
     },
     "de0655dcae094ccfaa939be4e1efff32": {
      "model_module": "jupyter-js-widgets",
      "model_module_version": "~2.1.4",
      "model_name": "LayoutModel",
      "state": {
       "_model_module_version": "~2.1.4",
       "_view_module_version": "~2.1.4"
      }
     },
     "de61b10fa3bd4588be3da0ce2fda7075": {
      "model_module": "jupyter-js-widgets",
      "model_module_version": "~2.1.4",
      "model_name": "HBoxModel",
      "state": {
       "_model_module_version": "~2.1.4",
       "_view_module_version": "~2.1.4",
       "children": [
        "IPY_MODEL_366b3e4368c244f4a11059108b7658eb",
        "IPY_MODEL_497ef7c5a0f341d0a12067978bc9d5d1"
       ],
       "layout": "IPY_MODEL_eb7c1e8ad6e24f7da55f6af22c64b36d"
      }
     },
     "defbf8deaf96414f9d617cf8b28a44e5": {
      "model_module": "jupyter-js-widgets",
      "model_module_version": "~2.1.4",
      "model_name": "LayoutModel",
      "state": {
       "_model_module_version": "~2.1.4",
       "_view_module_version": "~2.1.4"
      }
     },
     "df9c100c6c9843d9b7ab429c71e7860f": {
      "model_module": "jupyter-js-widgets",
      "model_module_version": "~2.1.4",
      "model_name": "ProgressModel",
      "state": {
       "_model_module_version": "~2.1.4",
       "_view_module_version": "~2.1.4",
       "bar_style": "success",
       "description": "Obtaining Images: ",
       "layout": "IPY_MODEL_f8f38285a4414887b3596d74e14f84b9",
       "style": "IPY_MODEL_556aa98558db4a2096e9d3214acc87c8",
       "value": 100
      }
     },
     "dfdbe7e4658946f2ad4952e709bba89f": {
      "model_module": "jupyter-js-widgets",
      "model_module_version": "~2.1.4",
      "model_name": "HBoxModel",
      "state": {
       "_model_module_version": "~2.1.4",
       "_view_module_version": "~2.1.4",
       "children": [
        "IPY_MODEL_198ef0741fcc418693a9c468422a2c8e",
        "IPY_MODEL_ff25279e155f423aaaf4c8b50c62451c"
       ],
       "layout": "IPY_MODEL_0bf051b019e74618a04c299e05c01fbb"
      }
     },
     "e001073252814aee9a9369fba0c497e1": {
      "model_module": "jupyter-js-widgets",
      "model_module_version": "~2.1.4",
      "model_name": "ProgressStyleModel",
      "state": {
       "_model_module_version": "~2.1.4",
       "_view_module_version": "~2.1.4"
      }
     },
     "e022fe4dfd104033ba598379078fc578": {
      "model_module": "jupyter-js-widgets",
      "model_module_version": "~2.1.4",
      "model_name": "LayoutModel",
      "state": {
       "_model_module_version": "~2.1.4",
       "_view_module_version": "~2.1.4"
      }
     },
     "e051b795965944d0a08949ce4a1aa182": {
      "model_module": "jupyter-js-widgets",
      "model_module_version": "~2.1.4",
      "model_name": "LayoutModel",
      "state": {
       "_model_module_version": "~2.1.4",
       "_view_module_version": "~2.1.4"
      }
     },
     "e06ead6bfcdd4ec5afd2ab9657efaa28": {
      "model_module": "jupyter-js-widgets",
      "model_module_version": "~2.1.4",
      "model_name": "LayoutModel",
      "state": {
       "_model_module_version": "~2.1.4",
       "_view_module_version": "~2.1.4"
      }
     },
     "e1144924b1d14623be8a0ad9f294de2c": {
      "model_module": "jupyter-js-widgets",
      "model_module_version": "~2.1.4",
      "model_name": "LayoutModel",
      "state": {
       "_model_module_version": "~2.1.4",
       "_view_module_version": "~2.1.4"
      }
     },
     "e16e0185a3284513aa3ae71a25c1d902": {
      "model_module": "jupyter-js-widgets",
      "model_module_version": "~2.1.4",
      "model_name": "HBoxModel",
      "state": {
       "_model_module_version": "~2.1.4",
       "_view_module_version": "~2.1.4",
       "children": [
        "IPY_MODEL_ce00b0f6aa224a8bb2525bec0e3dcd58",
        "IPY_MODEL_24bd380e2e1d49f5a136dacbf83f2eb6"
       ],
       "layout": "IPY_MODEL_b5edbe7bf8a54a0c9e5a6ae38a9ef100"
      }
     },
     "e19088dbdad7439f8a49b26ea6224b0d": {
      "model_module": "jupyter-js-widgets",
      "model_module_version": "~2.1.4",
      "model_name": "ProgressModel",
      "state": {
       "_model_module_version": "~2.1.4",
       "_view_module_version": "~2.1.4",
       "bar_style": "success",
       "description": "Processing Records: ",
       "layout": "IPY_MODEL_c7217e6a3a064d21864334e5b651b19b",
       "style": "IPY_MODEL_92a38fee0b99443792af87cd013748e0",
       "value": 100
      }
     },
     "e1e593e66eb34a99a9d0e2b71e18d25e": {
      "model_module": "jupyter-js-widgets",
      "model_module_version": "~2.1.4",
      "model_name": "LayoutModel",
      "state": {
       "_model_module_version": "~2.1.4",
       "_view_module_version": "~2.1.4"
      }
     },
     "e254e9aa79cd41b79a12234edbe76c8e": {
      "model_module": "jupyter-js-widgets",
      "model_module_version": "~2.1.4",
      "model_name": "ProgressStyleModel",
      "state": {
       "_model_module_version": "~2.1.4",
       "_view_module_version": "~2.1.4"
      }
     },
     "e280cd7cc09142749b37df70aa51548d": {
      "model_module": "jupyter-js-widgets",
      "model_module_version": "~2.1.4",
      "model_name": "LayoutModel",
      "state": {
       "_model_module_version": "~2.1.4",
       "_view_module_version": "~2.1.4"
      }
     },
     "e2e3ac0d3b8d45049634aed217b9bef4": {
      "model_module": "jupyter-js-widgets",
      "model_module_version": "~2.1.4",
      "model_name": "ProgressStyleModel",
      "state": {
       "_model_module_version": "~2.1.4",
       "_view_module_version": "~2.1.4"
      }
     },
     "e307e3701ae74aac9d5b59a779e272cc": {
      "model_module": "jupyter-js-widgets",
      "model_module_version": "~2.1.4",
      "model_name": "LayoutModel",
      "state": {
       "_model_module_version": "~2.1.4",
       "_view_module_version": "~2.1.4"
      }
     },
     "e45feafecd86432baca73a630968f4cb": {
      "model_module": "jupyter-js-widgets",
      "model_module_version": "~2.1.4",
      "model_name": "HBoxModel",
      "state": {
       "_model_module_version": "~2.1.4",
       "_view_module_version": "~2.1.4",
       "children": [
        "IPY_MODEL_660aeec3da5f490184579b07eead1ff3",
        "IPY_MODEL_b6aa11860fbd476a979eef3baf128c72"
       ],
       "layout": "IPY_MODEL_52ab04e185b24164a1c5113abbabd4db"
      }
     },
     "e4f35c5761134456ba0bb06d9a095f6b": {
      "model_module": "jupyter-js-widgets",
      "model_module_version": "~2.1.4",
      "model_name": "ProgressModel",
      "state": {
       "_model_module_version": "~2.1.4",
       "_view_module_version": "~2.1.4",
       "bar_style": "success",
       "description": "'TCGA-LUSC' Records: ",
       "layout": "IPY_MODEL_125241a79c5e45bfb58cf68d6207dac2",
       "max": 3,
       "style": "IPY_MODEL_0958508f798d4a90863902f2914e8785",
       "value": 3
      }
     },
     "e4fff0e5ae154d0ea87a0e8762272f93": {
      "model_module": "jupyter-js-widgets",
      "model_module_version": "~2.1.4",
      "model_name": "ProgressModel",
      "state": {
       "_model_module_version": "~2.1.4",
       "_view_module_version": "~2.1.4",
       "bar_style": "success",
       "description": "Disease Data: ",
       "layout": "IPY_MODEL_d7e76fd7a16f44b6b6c9c5e61c22ff1b",
       "max": 111,
       "style": "IPY_MODEL_7a7044773b8442b4ad25e3aa826328ae",
       "value": 111
      }
     },
     "e5007dc31e8d4f018047cc8af4ab6e22": {
      "model_module": "jupyter-js-widgets",
      "model_module_version": "~2.1.4",
      "model_name": "HBoxModel",
      "state": {
       "_model_module_version": "~2.1.4",
       "_view_module_version": "~2.1.4",
       "children": [
        "IPY_MODEL_01cb5476f9e4439d9d07e515f6e7ac21",
        "IPY_MODEL_96d88b2324cd46638af059079f5fbea0"
       ],
       "layout": "IPY_MODEL_f72cfa84a4a54fa8a0975b0abc3cf695"
      }
     },
     "e535715777d544c0a56881f846fa5629": {
      "model_module": "jupyter-js-widgets",
      "model_module_version": "~2.1.4",
      "model_name": "ProgressStyleModel",
      "state": {
       "_model_module_version": "~2.1.4",
       "_view_module_version": "~2.1.4"
      }
     },
     "e53632dc76be4ee09ba3b47587e1cb37": {
      "model_module": "jupyter-js-widgets",
      "model_module_version": "~2.1.4",
      "model_name": "LayoutModel",
      "state": {
       "_model_module_version": "~2.1.4",
       "_view_module_version": "~2.1.4"
      }
     },
     "e59e31864d454ba192b930fa8fe52b1b": {
      "model_module": "jupyter-js-widgets",
      "model_module_version": "~2.1.4",
      "model_name": "LayoutModel",
      "state": {
       "_model_module_version": "~2.1.4",
       "_view_module_version": "~2.1.4"
      }
     },
     "e5be4047cbed403b99f1b8bf1f71d2df": {
      "model_module": "jupyter-js-widgets",
      "model_module_version": "~2.1.4",
      "model_name": "HTMLModel",
      "state": {
       "_model_module_version": "~2.1.4",
       "_view_module_version": "~2.1.4",
       "layout": "IPY_MODEL_d161d475a7ec4530967db37cf95462e0",
       "value": "100% 111/111 [00:00&lt;00:00, 2029.77it/s]"
      }
     },
     "e71f6295ccea47939bce4a0191929b78": {
      "model_module": "jupyter-js-widgets",
      "model_module_version": "~2.1.4",
      "model_name": "LayoutModel",
      "state": {
       "_model_module_version": "~2.1.4",
       "_view_module_version": "~2.1.4"
      }
     },
     "e73e71adbe5e4146aede0e213051ea1d": {
      "model_module": "jupyter-js-widgets",
      "model_module_version": "~2.1.4",
      "model_name": "ProgressStyleModel",
      "state": {
       "_model_module_version": "~2.1.4",
       "_view_module_version": "~2.1.4"
      }
     },
     "e7a81ee2df2246958673f5d54460bd8b": {
      "model_module": "jupyter-js-widgets",
      "model_module_version": "~2.1.4",
      "model_name": "ProgressModel",
      "state": {
       "_model_module_version": "~2.1.4",
       "_view_module_version": "~2.1.4",
       "bar_style": "success",
       "description": "Symptoms: ",
       "layout": "IPY_MODEL_f21594e587cf48c4ad9368d910ded598",
       "max": 111,
       "style": "IPY_MODEL_99e142e0f0fb4ef4a58470a0b528118f",
       "value": 111
      }
     },
     "e835cc9b034e4034b60e13c91f67a7aa": {
      "model_module": "jupyter-js-widgets",
      "model_module_version": "~2.1.4",
      "model_name": "ProgressStyleModel",
      "state": {
       "_model_module_version": "~2.1.4",
       "_view_module_version": "~2.1.4"
      }
     },
     "e8aafb3bc756473eb033ceba8eabc629": {
      "model_module": "jupyter-js-widgets",
      "model_module_version": "~2.1.4",
      "model_name": "HTMLModel",
      "state": {
       "_model_module_version": "~2.1.4",
       "_view_module_version": "~2.1.4",
       "layout": "IPY_MODEL_c580c3c646344f17812a782824954422",
       "value": "100% 11/11 [00:00&lt;00:00, 65.62it/s]"
      }
     },
     "e8d9c373eb6b40eebf1759e91936f8b9": {
      "model_module": "jupyter-js-widgets",
      "model_module_version": "~2.1.4",
      "model_name": "LayoutModel",
      "state": {
       "_model_module_version": "~2.1.4",
       "_view_module_version": "~2.1.4"
      }
     },
     "e99d9e6e640f4f39a297ec7ff9dd2ddb": {
      "model_module": "jupyter-js-widgets",
      "model_module_version": "~2.1.4",
      "model_name": "LayoutModel",
      "state": {
       "_model_module_version": "~2.1.4",
       "_view_module_version": "~2.1.4"
      }
     },
     "e9ab2f2fb18247329e0ab57b384ca22d": {
      "model_module": "jupyter-js-widgets",
      "model_module_version": "~2.1.4",
      "model_name": "ProgressStyleModel",
      "state": {
       "_model_module_version": "~2.1.4",
       "_view_module_version": "~2.1.4"
      }
     },
     "e9e9c0cfd98340f2b827cf0f926ea687": {
      "model_module": "jupyter-js-widgets",
      "model_module_version": "~2.1.4",
      "model_name": "ProgressStyleModel",
      "state": {
       "_model_module_version": "~2.1.4",
       "_view_module_version": "~2.1.4"
      }
     },
     "ea8e59ba588c416aba5e970ccde3d037": {
      "model_module": "jupyter-js-widgets",
      "model_module_version": "~2.1.4",
      "model_name": "ProgressModel",
      "state": {
       "_model_module_version": "~2.1.4",
       "_view_module_version": "~2.1.4",
       "bar_style": "success",
       "description": "'TCGA-LUSC' Records: ",
       "layout": "IPY_MODEL_9cc864d0df814e31b9994bf61d5d51e3",
       "max": 3,
       "style": "IPY_MODEL_31884476be9c42c3bc73adcfce913944",
       "value": 3
      }
     },
     "eac9a713a7564b939fe403d08c0d1c6e": {
      "model_module": "jupyter-js-widgets",
      "model_module_version": "~2.1.4",
      "model_name": "LayoutModel",
      "state": {
       "_model_module_version": "~2.1.4",
       "_view_module_version": "~2.1.4"
      }
     },
     "eb1819c7c546467f9d3c8a8970b6aa54": {
      "model_module": "jupyter-js-widgets",
      "model_module_version": "~2.1.4",
      "model_name": "LayoutModel",
      "state": {
       "_model_module_version": "~2.1.4",
       "_view_module_version": "~2.1.4"
      }
     },
     "eb7c1e8ad6e24f7da55f6af22c64b36d": {
      "model_module": "jupyter-js-widgets",
      "model_module_version": "~2.1.4",
      "model_name": "LayoutModel",
      "state": {
       "_model_module_version": "~2.1.4",
       "_view_module_version": "~2.1.4"
      }
     },
     "ec1a95585beb48f9a61d1f7ba88d3dee": {
      "model_module": "jupyter-js-widgets",
      "model_module_version": "~2.1.4",
      "model_name": "LayoutModel",
      "state": {
       "_model_module_version": "~2.1.4",
       "_view_module_version": "~2.1.4"
      }
     },
     "ec248a2c34db4015805c2181313470b2": {
      "model_module": "jupyter-js-widgets",
      "model_module_version": "~2.1.4",
      "model_name": "LayoutModel",
      "state": {
       "_model_module_version": "~2.1.4",
       "_view_module_version": "~2.1.4"
      }
     },
     "ec519168e5af460189d77e99c1ee1c43": {
      "model_module": "jupyter-js-widgets",
      "model_module_version": "~2.1.4",
      "model_name": "HTMLModel",
      "state": {
       "_model_module_version": "~2.1.4",
       "_view_module_version": "~2.1.4",
       "layout": "IPY_MODEL_62bf8615bac9403da974fca5d02c427d",
       "value": "100% 100/100 [00:00&lt;00:00, 2860.99it/s]"
      }
     },
     "ece914bdbd5e43c9bc025ab7f551e577": {
      "model_module": "jupyter-js-widgets",
      "model_module_version": "~2.1.4",
      "model_name": "LayoutModel",
      "state": {
       "_model_module_version": "~2.1.4",
       "_view_module_version": "~2.1.4"
      }
     },
     "ecfc8e901d9f41fdb5abae6a998cc15c": {
      "model_module": "jupyter-js-widgets",
      "model_module_version": "~2.1.4",
      "model_name": "LayoutModel",
      "state": {
       "_model_module_version": "~2.1.4",
       "_view_module_version": "~2.1.4"
      }
     },
     "ed3410c5f818432e9372df4b049f02cc": {
      "model_module": "jupyter-js-widgets",
      "model_module_version": "~2.1.4",
      "model_name": "LayoutModel",
      "state": {
       "_model_module_version": "~2.1.4",
       "_view_module_version": "~2.1.4"
      }
     },
     "eec9b12c7152487abf3128128d7c0594": {
      "model_module": "jupyter-js-widgets",
      "model_module_version": "~2.1.4",
      "model_name": "ProgressStyleModel",
      "state": {
       "_model_module_version": "~2.1.4",
       "_view_module_version": "~2.1.4"
      }
     },
     "ef2db5aa586b4f13a5dbabc28b27634d": {
      "model_module": "jupyter-js-widgets",
      "model_module_version": "~2.1.4",
      "model_name": "ProgressModel",
      "state": {
       "_model_module_version": "~2.1.4",
       "_view_module_version": "~2.1.4",
       "bar_style": "success",
       "description": "'TCGA-LUAD' Records: ",
       "layout": "IPY_MODEL_a544aa0f6173442eb92e59ba313d6dd0",
       "max": 3,
       "style": "IPY_MODEL_9dc0df2528ae4ed69412b4e953d935e4",
       "value": 3
      }
     },
     "f0578ecb6ccc4e18898b25ad46549f0f": {
      "model_module": "jupyter-js-widgets",
      "model_module_version": "~2.1.4",
      "model_name": "LayoutModel",
      "state": {
       "_model_module_version": "~2.1.4",
       "_view_module_version": "~2.1.4"
      }
     },
     "f05f3abb7d2c4f728f8e455d9d4dfeb2": {
      "model_module": "jupyter-js-widgets",
      "model_module_version": "~2.1.4",
      "model_name": "HBoxModel",
      "state": {
       "_model_module_version": "~2.1.4",
       "_view_module_version": "~2.1.4",
       "children": [
        "IPY_MODEL_375bd238efb7458ab446a5f8f9a8ff8e",
        "IPY_MODEL_52f8cac789a146a682f36c18065364a4"
       ],
       "layout": "IPY_MODEL_42ddfbae088a4af4af87e89a87bee69c"
      }
     },
     "f08ef9789ae345848499262a167b1ac6": {
      "model_module": "jupyter-js-widgets",
      "model_module_version": "~2.1.4",
      "model_name": "LayoutModel",
      "state": {
       "_model_module_version": "~2.1.4",
       "_view_module_version": "~2.1.4"
      }
     },
     "f0f3f3003c6b4875a2d1d01cb637553b": {
      "model_module": "jupyter-js-widgets",
      "model_module_version": "~2.1.4",
      "model_name": "LayoutModel",
      "state": {
       "_model_module_version": "~2.1.4",
       "_view_module_version": "~2.1.4"
      }
     },
     "f12fd062565f4dc1b692eaf0fa762a6c": {
      "model_module": "jupyter-js-widgets",
      "model_module_version": "~2.1.4",
      "model_name": "LayoutModel",
      "state": {
       "_model_module_version": "~2.1.4",
       "_view_module_version": "~2.1.4"
      }
     },
     "f1343aa3a5c44b8db722d508601c7350": {
      "model_module": "jupyter-js-widgets",
      "model_module_version": "~2.1.4",
      "model_name": "HBoxModel",
      "state": {
       "_model_module_version": "~2.1.4",
       "_view_module_version": "~2.1.4",
       "children": [
        "IPY_MODEL_2e8953abee5743bfbd94977624c7f342",
        "IPY_MODEL_b17e9d3ce500407e954f233beeb70851"
       ],
       "layout": "IPY_MODEL_9f6f6974772d47b28ed74aff204ac2c6"
      }
     },
     "f19d18add6f14cddb59c0a0ee1308192": {
      "model_module": "jupyter-js-widgets",
      "model_module_version": "~2.1.4",
      "model_name": "ProgressStyleModel",
      "state": {
       "_model_module_version": "~2.1.4",
       "_view_module_version": "~2.1.4"
      }
     },
     "f1f56971422a4912a482f83c66bc9abd": {
      "model_module": "jupyter-js-widgets",
      "model_module_version": "~2.1.4",
      "model_name": "ProgressModel",
      "state": {
       "_model_module_version": "~2.1.4",
       "_view_module_version": "~2.1.4",
       "bar_style": "success",
       "description": "Processing Records: ",
       "layout": "IPY_MODEL_a95ca4e8e35c4cd4a238d8db0161db63",
       "style": "IPY_MODEL_20772a607a9e4d5dab0b9cd3e770b01c",
       "value": 100
      }
     },
     "f21594e587cf48c4ad9368d910ded598": {
      "model_module": "jupyter-js-widgets",
      "model_module_version": "~2.1.4",
      "model_name": "LayoutModel",
      "state": {
       "_model_module_version": "~2.1.4",
       "_view_module_version": "~2.1.4"
      }
     },
     "f277e4d03b1040d4a3c842e55b8f8f5d": {
      "model_module": "jupyter-js-widgets",
      "model_module_version": "~2.1.4",
      "model_name": "HBoxModel",
      "state": {
       "_model_module_version": "~2.1.4",
       "_view_module_version": "~2.1.4",
       "children": [
        "IPY_MODEL_af3feaa26f44485abb5829b0ca350723",
        "IPY_MODEL_e5be4047cbed403b99f1b8bf1f71d2df"
       ],
       "layout": "IPY_MODEL_c614c3b6a144411ab29c4cf575fc1a07"
      }
     },
     "f4bccd54b73646b88a8793b3397c23b7": {
      "model_module": "jupyter-js-widgets",
      "model_module_version": "~2.1.4",
      "model_name": "LayoutModel",
      "state": {
       "_model_module_version": "~2.1.4",
       "_view_module_version": "~2.1.4"
      }
     },
     "f4c7ba4756cc4edcb932e38854414a2f": {
      "model_module": "jupyter-js-widgets",
      "model_module_version": "~2.1.4",
      "model_name": "LayoutModel",
      "state": {
       "_model_module_version": "~2.1.4",
       "_view_module_version": "~2.1.4"
      }
     },
     "f544eed8f5d6411ea83f36bac9ba72a7": {
      "model_module": "jupyter-js-widgets",
      "model_module_version": "~2.1.4",
      "model_name": "LayoutModel",
      "state": {
       "_model_module_version": "~2.1.4",
       "_view_module_version": "~2.1.4"
      }
     },
     "f72cfa84a4a54fa8a0975b0abc3cf695": {
      "model_module": "jupyter-js-widgets",
      "model_module_version": "~2.1.4",
      "model_name": "LayoutModel",
      "state": {
       "_model_module_version": "~2.1.4",
       "_view_module_version": "~2.1.4"
      }
     },
     "f76a61f5477e42d1a4a8111a2efca121": {
      "model_module": "jupyter-js-widgets",
      "model_module_version": "~2.1.4",
      "model_name": "ProgressModel",
      "state": {
       "_model_module_version": "~2.1.4",
       "_view_module_version": "~2.1.4",
       "bar_style": "success",
       "description": "Symptoms: ",
       "layout": "IPY_MODEL_22b0611ae49a42bfa2a9b2f35d0fe5c8",
       "max": 111,
       "style": "IPY_MODEL_480c829742c0436e8b6fb9cabbd65437",
       "value": 111
      }
     },
     "f7f49c5ab7d744108762e94c9d5f9aa3": {
      "model_module": "jupyter-js-widgets",
      "model_module_version": "~2.1.4",
      "model_name": "HBoxModel",
      "state": {
       "_model_module_version": "~2.1.4",
       "_view_module_version": "~2.1.4",
       "children": [
        "IPY_MODEL_73cf4feb9ebc4acaa56c12454744a3a9",
        "IPY_MODEL_f8837bf33a1b4ea0a1b7484d6b390e26"
       ],
       "layout": "IPY_MODEL_3aae59d0bbb3499da6e2b2592cafca02"
      }
     },
     "f80b326db276496ea48a2b38c022edf9": {
      "model_module": "jupyter-js-widgets",
      "model_module_version": "~2.1.4",
      "model_name": "LayoutModel",
      "state": {
       "_model_module_version": "~2.1.4",
       "_view_module_version": "~2.1.4"
      }
     },
     "f84a90c1a2a343ceab1b33bf35fab6df": {
      "model_module": "jupyter-js-widgets",
      "model_module_version": "~2.1.4",
      "model_name": "ProgressModel",
      "state": {
       "_model_module_version": "~2.1.4",
       "_view_module_version": "~2.1.4",
       "bar_style": "success",
       "description": "Obtaining Records: ",
       "layout": "IPY_MODEL_c2429f011ae34f32840e3b8d718958d6",
       "max": 4,
       "style": "IPY_MODEL_cfc839db80854d61b433060807f46e36",
       "value": 4
      }
     },
     "f8837bf33a1b4ea0a1b7484d6b390e26": {
      "model_module": "jupyter-js-widgets",
      "model_module_version": "~2.1.4",
      "model_name": "HTMLModel",
      "state": {
       "_model_module_version": "~2.1.4",
       "_view_module_version": "~2.1.4",
       "layout": "IPY_MODEL_5e02c5b663f44885a03ac9d3faaf45e3",
       "value": "100% 111/111 [00:00&lt;00:00, 1609.62it/s]"
      }
     },
     "f8f38285a4414887b3596d74e14f84b9": {
      "model_module": "jupyter-js-widgets",
      "model_module_version": "~2.1.4",
      "model_name": "LayoutModel",
      "state": {
       "_model_module_version": "~2.1.4",
       "_view_module_version": "~2.1.4"
      }
     },
     "f90890e0f95a4bdcba53ee3d79e923ce": {
      "model_module": "jupyter-js-widgets",
      "model_module_version": "~2.1.4",
      "model_name": "ProgressStyleModel",
      "state": {
       "_model_module_version": "~2.1.4",
       "_view_module_version": "~2.1.4"
      }
     },
     "f9217792735e4ca39ceb1dc590a44fd4": {
      "model_module": "jupyter-js-widgets",
      "model_module_version": "~2.1.4",
      "model_name": "ProgressStyleModel",
      "state": {
       "_model_module_version": "~2.1.4",
       "_view_module_version": "~2.1.4"
      }
     },
     "f96a3ed6a03c43a0be168de8bec92d9c": {
      "model_module": "jupyter-js-widgets",
      "model_module_version": "~2.1.4",
      "model_name": "ProgressModel",
      "state": {
       "_model_module_version": "~2.1.4",
       "_view_module_version": "~2.1.4",
       "bar_style": "success",
       "description": "Obtaining Images: ",
       "layout": "IPY_MODEL_33218666e7904283b2e7dc6d0f392af8",
       "style": "IPY_MODEL_8649b94583fd4c618ab7cf24438a481e",
       "value": 100
      }
     },
     "f97146b937fb4244bd868cf9de9064de": {
      "model_module": "jupyter-js-widgets",
      "model_module_version": "~2.1.4",
      "model_name": "HTMLModel",
      "state": {
       "_model_module_version": "~2.1.4",
       "_view_module_version": "~2.1.4",
       "layout": "IPY_MODEL_cb2084bd8889408b9c5a3f698c132805",
       "value": "100% 3/3 [00:17&lt;00:00,  5.85s/it]"
      }
     },
     "f997a58fc3f84cdca5f7485183144be1": {
      "model_module": "jupyter-js-widgets",
      "model_module_version": "~2.1.4",
      "model_name": "LayoutModel",
      "state": {
       "_model_module_version": "~2.1.4",
       "_view_module_version": "~2.1.4"
      }
     },
     "fa00f8b36da04339a832e7c7ccecabd0": {
      "model_module": "jupyter-js-widgets",
      "model_module_version": "~2.1.4",
      "model_name": "HTMLModel",
      "state": {
       "_model_module_version": "~2.1.4",
       "_view_module_version": "~2.1.4",
       "layout": "IPY_MODEL_f544eed8f5d6411ea83f36bac9ba72a7",
       "value": "100% 3/3 [00:17&lt;00:00,  5.83s/it]"
      }
     },
     "faa36174989a4c4498ffde766b5138b0": {
      "model_module": "jupyter-js-widgets",
      "model_module_version": "~2.1.4",
      "model_name": "ProgressStyleModel",
      "state": {
       "_model_module_version": "~2.1.4",
       "_view_module_version": "~2.1.4"
      }
     },
     "fafbfd643fb144cba65e7a5656c08c00": {
      "model_module": "jupyter-js-widgets",
      "model_module_version": "~2.1.4",
      "model_name": "HTMLModel",
      "state": {
       "_model_module_version": "~2.1.4",
       "_view_module_version": "~2.1.4",
       "layout": "IPY_MODEL_9061c0a1e4f64294bcf4a7734a4ed8b0",
       "value": "100% 111/111 [00:00&lt;00:00, 2038.27it/s]"
      }
     },
     "fbb7f2e31694490fb24bdd623f895f59": {
      "model_module": "jupyter-js-widgets",
      "model_module_version": "~2.1.4",
      "model_name": "LayoutModel",
      "state": {
       "_model_module_version": "~2.1.4",
       "_view_module_version": "~2.1.4"
      }
     },
     "fc02c165780a4da695445b8295d932ed": {
      "model_module": "jupyter-js-widgets",
      "model_module_version": "~2.1.4",
      "model_name": "LayoutModel",
      "state": {
       "_model_module_version": "~2.1.4",
       "_view_module_version": "~2.1.4"
      }
     },
     "fc94990a655e42d58f56dfd7132572b4": {
      "model_module": "jupyter-js-widgets",
      "model_module_version": "~2.1.4",
      "model_name": "HBoxModel",
      "state": {
       "_model_module_version": "~2.1.4",
       "_view_module_version": "~2.1.4",
       "children": [
        "IPY_MODEL_768010e779774659b1fb507712dddaf5",
        "IPY_MODEL_260ab400e9d74569b46a6e6369bfab35"
       ],
       "layout": "IPY_MODEL_6b42f5e050714fee89d22aaa0e3cba4d"
      }
     },
     "fdb218fa6c744746a8f2df273e18f55e": {
      "model_module": "jupyter-js-widgets",
      "model_module_version": "~2.1.4",
      "model_name": "LayoutModel",
      "state": {
       "_model_module_version": "~2.1.4",
       "_view_module_version": "~2.1.4"
      }
     },
     "fe2273eb8f644383bbdf9599601a76bb": {
      "model_module": "jupyter-js-widgets",
      "model_module_version": "~2.1.4",
      "model_name": "HTMLModel",
      "state": {
       "_model_module_version": "~2.1.4",
       "_view_module_version": "~2.1.4",
       "layout": "IPY_MODEL_12f4c7f42b074737965a7101c5e9dc30",
       "value": "100% 100/100 [00:03&lt;00:00, 29.34it/s]"
      }
     },
     "fe428dc877e4405d8b715c67f938a9c8": {
      "model_module": "jupyter-js-widgets",
      "model_module_version": "~2.1.4",
      "model_name": "LayoutModel",
      "state": {
       "_model_module_version": "~2.1.4",
       "_view_module_version": "~2.1.4"
      }
     },
     "fe49facaf2624f628ea128cd5168a196": {
      "model_module": "jupyter-js-widgets",
      "model_module_version": "~2.1.4",
      "model_name": "LayoutModel",
      "state": {
       "_model_module_version": "~2.1.4",
       "_view_module_version": "~2.1.4"
      }
     },
     "fe5ccc5b538a4078822d1d8ccd0c4882": {
      "model_module": "jupyter-js-widgets",
      "model_module_version": "~2.1.4",
      "model_name": "HBoxModel",
      "state": {
       "_model_module_version": "~2.1.4",
       "_view_module_version": "~2.1.4",
       "children": [
        "IPY_MODEL_ce3c2e14f4aa465590688b5147b0bd48",
        "IPY_MODEL_3c33f314201741528bc3f4da11568914"
       ],
       "layout": "IPY_MODEL_b73fd759152b4296a70bac647f3b7d6e"
      }
     },
     "fefef4e788834537bd1c3309ab4e61d8": {
      "model_module": "jupyter-js-widgets",
      "model_module_version": "~2.1.4",
      "model_name": "LayoutModel",
      "state": {
       "_model_module_version": "~2.1.4",
       "_view_module_version": "~2.1.4"
      }
     },
     "ff25279e155f423aaaf4c8b50c62451c": {
      "model_module": "jupyter-js-widgets",
      "model_module_version": "~2.1.4",
      "model_name": "HTMLModel",
      "state": {
       "_model_module_version": "~2.1.4",
       "_view_module_version": "~2.1.4",
       "layout": "IPY_MODEL_219e2cd07f644a9b87bcba911fdc43e6",
       "value": "100% 111/111 [00:00&lt;00:00, 4399.33it/s]"
      }
     },
     "ff5e4c3b133e44f1b03756e7bc05e78a": {
      "model_module": "jupyter-js-widgets",
      "model_module_version": "~2.1.4",
      "model_name": "HBoxModel",
      "state": {
       "_model_module_version": "~2.1.4",
       "_view_module_version": "~2.1.4",
       "children": [
        "IPY_MODEL_bddd2014eb914fef8223286519b349b7",
        "IPY_MODEL_9187199282f746ca9c00a7b01273d286"
       ],
       "layout": "IPY_MODEL_e8d9c373eb6b40eebf1759e91936f8b9"
      }
     }
    },
    "version_major": 1,
    "version_minor": 0
   }
  }
 },
 "nbformat": 4,
 "nbformat_minor": 2
}
